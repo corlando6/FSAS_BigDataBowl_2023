{
 "cells": [
  {
   "attachments": {},
   "cell_type": "markdown",
   "metadata": {},
   "source": [
    "<font size = \"6\"> Fordham Sports Analytics Society Big Data Bowl 2023 - Data Preparation </font>\n",
    "\n",
    "<font size = \"4\"> Prepare data sets provided in the case for our exploratory work and model building. </font>\n",
    "\n",
    "- Authors:  Peter Majors, Chris Orlando, and Jack Townsend\n",
    "- Kaggle:  https://www.kaggle.com/competitions/nfl-big-data-bowl-2023/overview (Resources)\n",
    "- Our Github:  https://github.com/peterlmajors/FSAS_BigDataBowl_2023 (Up-To-Date Code)"
   ]
  },
  {
   "attachments": {},
   "cell_type": "markdown",
   "metadata": {},
   "source": [
    "<font size=\"5\"> Importing And Merging Original Data</font>"
   ]
  },
  {
   "cell_type": "code",
   "execution_count": 160,
   "metadata": {},
   "outputs": [],
   "source": [
    "#Import Required Packages\n",
    "import pandas as pd\n",
    "import numpy as np\n",
    "import math\n",
    "\n",
    "#Notebook Settings\n",
    "pd.set_option('display.max_columns', 1000)\n",
    "pd.set_option('display.max_rows', 1000)"
   ]
  },
  {
   "cell_type": "code",
   "execution_count": 161,
   "metadata": {},
   "outputs": [],
   "source": [
    "#Importing Kaggle Data\n",
    "\n",
    "# #Games - Basic Information On All Games\n",
    "games = pd.read_csv(\"C:/Users/Peter/Python Scripts/Case Competitions/NFL Big Data Bowl 2023/case_data/games.csv\")\n",
    "\n",
    "# #pffScout - PFF Judgements For Each Player On Each Play\n",
    "pffScout = pd.read_csv(\"C:/Users/Peter/Python Scripts/Case Competitions/NFL Big Data Bowl 2023/case_data/pffScoutingData.csv\")\n",
    "\n",
    "# #Players - Basics On Players\n",
    "players = pd.read_csv(\"C:/Users/Peter/Python Scripts/Case Competitions/NFL Big Data Bowl 2023/case_data/players.csv\")\n",
    "\n",
    "# #Plays - Everthing About Specific Plays\n",
    "plays = pd.read_csv(\"C:/Users/Peter/Python Scripts/Case Competitions/NFL Big Data Bowl 2023/case_data/plays.csv\")\n",
    "\n",
    "# #Week - Frame-By-Frame Player Tracking\n",
    "week1 = pd.read_csv(\"C:/Users/Peter/Python Scripts/Case Competitions/NFL Big Data Bowl 2023/case_data/week1.csv\")\n",
    "week2 = pd.read_csv(\"C:/Users/Peter/Python Scripts/Case Competitions/NFL Big Data Bowl 2023/case_data/week2.csv\")\n",
    "week3 = pd.read_csv(\"C:/Users/Peter/Python Scripts/Case Competitions/NFL Big Data Bowl 2023/case_data/week3.csv\")\n",
    "week4 = pd.read_csv(\"C:/Users/Peter/Python Scripts/Case Competitions/NFL Big Data Bowl 2023/case_data/week4.csv\")\n",
    "week5 = pd.read_csv(\"C:/Users/Peter/Python Scripts/Case Competitions/NFL Big Data Bowl 2023/case_data/week5.csv\")\n",
    "week6 = pd.read_csv(\"C:/Users/Peter/Python Scripts/Case Competitions/NFL Big Data Bowl 2023/case_data/week6.csv\")\n",
    "week7 = pd.read_csv(\"C:/Users/Peter/Python Scripts/Case Competitions/NFL Big Data Bowl 2023/case_data/week7.csv\")\n",
    "week8 = pd.read_csv(\"C:/Users/Peter/Python Scripts/Case Competitions/NFL Big Data Bowl 2023/case_data/week8.csv\")"
   ]
  },
  {
   "cell_type": "code",
   "execution_count": 164,
   "metadata": {},
   "outputs": [
    {
     "name": "stderr",
     "output_type": "stream",
     "text": [
      "C:\\Users\\Peter\\AppData\\Local\\Temp\\ipykernel_31348\\2197013170.py:10: FutureWarning: The frame.append method is deprecated and will be removed from pandas in a future version. Use pandas.concat instead.\n",
      "  week = week.append(weeks[i])\n",
      "C:\\Users\\Peter\\AppData\\Local\\Temp\\ipykernel_31348\\2197013170.py:10: FutureWarning: The frame.append method is deprecated and will be removed from pandas in a future version. Use pandas.concat instead.\n",
      "  week = week.append(weeks[i])\n",
      "C:\\Users\\Peter\\AppData\\Local\\Temp\\ipykernel_31348\\2197013170.py:10: FutureWarning: The frame.append method is deprecated and will be removed from pandas in a future version. Use pandas.concat instead.\n",
      "  week = week.append(weeks[i])\n",
      "C:\\Users\\Peter\\AppData\\Local\\Temp\\ipykernel_31348\\2197013170.py:10: FutureWarning: The frame.append method is deprecated and will be removed from pandas in a future version. Use pandas.concat instead.\n",
      "  week = week.append(weeks[i])\n",
      "C:\\Users\\Peter\\AppData\\Local\\Temp\\ipykernel_31348\\2197013170.py:10: FutureWarning: The frame.append method is deprecated and will be removed from pandas in a future version. Use pandas.concat instead.\n",
      "  week = week.append(weeks[i])\n",
      "C:\\Users\\Peter\\AppData\\Local\\Temp\\ipykernel_31348\\2197013170.py:10: FutureWarning: The frame.append method is deprecated and will be removed from pandas in a future version. Use pandas.concat instead.\n",
      "  week = week.append(weeks[i])\n"
     ]
    }
   ],
   "source": [
    "#Merging All Data Together (Not Needed If Importing Merged DataFrames In Next Cell)\n",
    "\n",
    "#Merge Game Info And Play Info, Each Play Now Has More Context\n",
    "pbp = pd.merge(games, plays, how = \"inner\", on = \"gameId\")\n",
    "\n",
    "# #Append All Week Dataframes #Prefer For Weeks To Stay As Separate\n",
    "week = pd.DataFrame()\n",
    "weeks = [week1, week2, week3, week4, week5, week6, week7, week8]\n",
    "for i in range(0,len(weeks)):\n",
    "    week = week.append(weeks[i])\n",
    "\n",
    "# #Merge Player Tracking, PFF Grading, and Player History Data\n",
    "ptrack = pd.merge(pffScout, week, how = \"inner\", on = [\"gameId\", \"playId\", \"nflId\"])\n",
    "ptrack = pd.merge(ptrack, players, how = \"inner\", on = [\"nflId\"])\n",
    "\n",
    "# # #Export Two Data Frames For Safe Keeping (And To Import So Merges Dont Take Time)\n",
    "# ptrack.to_csv(\"C:/Users/Peter/Python Scripts/Case Competitions/NFL Big Data Bowl 2023/merged_data/ptrack.csv\")\n",
    "# pbp.to_csv(\"C:/Users/Peter/Python Scripts/Case Competitions/NFL Big Data Bowl 2023/merged_data/pbp.csv\")"
   ]
  },
  {
   "attachments": {},
   "cell_type": "markdown",
   "metadata": {},
   "source": [
    "<font size=\"5\"> Find Distance of Each Player From The Quarterback </font>"
   ]
  },
  {
   "cell_type": "code",
   "execution_count": 165,
   "metadata": {},
   "outputs": [],
   "source": [
    "#Find QB Distance Tracking and Merge Onto ptrack DataFrame (Distance As Yards)\n",
    "ptrack_qb = ptrack.where(ptrack['pff_positionLinedUp'] == \"QB\")\n",
    "ptrack_qb = ptrack_qb[['gameId', 'playId', 'frameId', 'x','y', 's', 'a', 'dis','o','dir']]\n",
    "\n",
    "ptrack = pd.merge(ptrack, ptrack_qb, how = 'inner', left_on = ['gameId', 'playId', 'frameId'], right_on = ['gameId', 'playId', 'frameId'])\n",
    "ptrack = ptrack.rename(columns = {\"x_x\":\"x\", \"y_x\": \"y\", \"s_x\": \"s\", \"a_x\": \"a\", \"dis_x\": \"dis\", \"o_x\": \"o\", \"dir_x\": \"dir\",\n",
    "                       \"x_y\":\"x_qb\", \"y_y\": \"y_qb\", \"s_y\": \"s_qb\", \"a_y\": \"a_qb\", \"dis_y\": \"dis_qb\", \"o_y\": \"o_qb\", \"dir_y\": \"dir_qb\"})\n",
    "\n",
    "#Calculate Euclidean Distance Between Players And QB\n",
    "for i in range(len(ptrack)):\n",
    "    ptrack.loc[i, 'dist_from_qb'] = round(math.dist([ptrack.loc[i, 'x'], ptrack.loc[i, 'y']], [ptrack.loc[i, 'x_qb'], ptrack.loc[i, 'y_qb']]),2)\n",
    "\n",
    "#Remove NaN Values From ptrack\n",
    "ptrack = ptrack.fillna(0)"
   ]
  },
  {
   "attachments": {},
   "cell_type": "markdown",
   "metadata": {},
   "source": [
    "<font size=\"5\"> Find Angle of Each Player From The Quarterback and Orientation Deviation From That Angle</font>"
   ]
  },
  {
   "cell_type": "code",
   "execution_count": 174,
   "metadata": {},
   "outputs": [
    {
     "ename": "KeyError",
     "evalue": "'pff_pff_positionLinedUp'",
     "output_type": "error",
     "traceback": [
      "\u001b[1;31m---------------------------------------------------------------------------\u001b[0m",
      "\u001b[1;31mKeyError\u001b[0m                                  Traceback (most recent call last)",
      "File \u001b[1;32m~\\AppData\\Local\\Packages\\PythonSoftwareFoundation.Python.3.10_qbz5n2kfra8p0\\LocalCache\\local-packages\\Python310\\site-packages\\pandas\\core\\indexes\\base.py:3621\u001b[0m, in \u001b[0;36mIndex.get_loc\u001b[1;34m(self, key, method, tolerance)\u001b[0m\n\u001b[0;32m   3620\u001b[0m \u001b[39mtry\u001b[39;00m:\n\u001b[1;32m-> 3621\u001b[0m     \u001b[39mreturn\u001b[39;00m \u001b[39mself\u001b[39;49m\u001b[39m.\u001b[39;49m_engine\u001b[39m.\u001b[39;49mget_loc(casted_key)\n\u001b[0;32m   3622\u001b[0m \u001b[39mexcept\u001b[39;00m \u001b[39mKeyError\u001b[39;00m \u001b[39mas\u001b[39;00m err:\n",
      "File \u001b[1;32m~\\AppData\\Local\\Packages\\PythonSoftwareFoundation.Python.3.10_qbz5n2kfra8p0\\LocalCache\\local-packages\\Python310\\site-packages\\pandas\\_libs\\index.pyx:136\u001b[0m, in \u001b[0;36mpandas._libs.index.IndexEngine.get_loc\u001b[1;34m()\u001b[0m\n",
      "File \u001b[1;32m~\\AppData\\Local\\Packages\\PythonSoftwareFoundation.Python.3.10_qbz5n2kfra8p0\\LocalCache\\local-packages\\Python310\\site-packages\\pandas\\_libs\\index.pyx:163\u001b[0m, in \u001b[0;36mpandas._libs.index.IndexEngine.get_loc\u001b[1;34m()\u001b[0m\n",
      "File \u001b[1;32mpandas\\_libs\\hashtable_class_helper.pxi:5198\u001b[0m, in \u001b[0;36mpandas._libs.hashtable.PyObjectHashTable.get_item\u001b[1;34m()\u001b[0m\n",
      "File \u001b[1;32mpandas\\_libs\\hashtable_class_helper.pxi:5206\u001b[0m, in \u001b[0;36mpandas._libs.hashtable.PyObjectHashTable.get_item\u001b[1;34m()\u001b[0m\n",
      "\u001b[1;31mKeyError\u001b[0m: 'pff_pff_positionLinedUp'",
      "\nThe above exception was the direct cause of the following exception:\n",
      "\u001b[1;31mKeyError\u001b[0m                                  Traceback (most recent call last)",
      "\u001b[1;32mc:\\Users\\Peter\\Python Scripts\\Case Competitions\\NFL Big Data Bowl 2023\\python_scripts\\Data_Preparation.ipynb Cell 9\u001b[0m in \u001b[0;36m<cell line: 31>\u001b[1;34m()\u001b[0m\n\u001b[0;32m     <a href='vscode-notebook-cell:/c%3A/Users/Peter/Python%20Scripts/Case%20Competitions/NFL%20Big%20Data%20Bowl%202023/python_scripts/Data_Preparation.ipynb#X66sZmlsZQ%3D%3D?line=27'>28</a>\u001b[0m ptrack\u001b[39m.\u001b[39mangle_to_qb_diff_o \u001b[39m=\u001b[39m ptrack\u001b[39m.\u001b[39mo \u001b[39m-\u001b[39m ptrack\u001b[39m.\u001b[39mangle_to_qb\n\u001b[0;32m     <a href='vscode-notebook-cell:/c%3A/Users/Peter/Python%20Scripts/Case%20Competitions/NFL%20Big%20Data%20Bowl%202023/python_scripts/Data_Preparation.ipynb#X66sZmlsZQ%3D%3D?line=29'>30</a>\u001b[0m \u001b[39m#Change QB Angles To Themselves To 0\u001b[39;00m\n\u001b[1;32m---> <a href='vscode-notebook-cell:/c%3A/Users/Peter/Python%20Scripts/Case%20Competitions/NFL%20Big%20Data%20Bowl%202023/python_scripts/Data_Preparation.ipynb#X66sZmlsZQ%3D%3D?line=30'>31</a>\u001b[0m ptrack\u001b[39m.\u001b[39mloc[ptrack[\u001b[39m'\u001b[39;49m\u001b[39mpff_pff_positionLinedUp\u001b[39;49m\u001b[39m'\u001b[39;49m] \u001b[39m==\u001b[39m \u001b[39m'\u001b[39m\u001b[39mQB\u001b[39m\u001b[39m'\u001b[39m, \u001b[39m'\u001b[39m\u001b[39mangle_to_qb\u001b[39m\u001b[39m'\u001b[39m] \u001b[39m=\u001b[39m \u001b[39m0\u001b[39m\n\u001b[0;32m     <a href='vscode-notebook-cell:/c%3A/Users/Peter/Python%20Scripts/Case%20Competitions/NFL%20Big%20Data%20Bowl%202023/python_scripts/Data_Preparation.ipynb#X66sZmlsZQ%3D%3D?line=31'>32</a>\u001b[0m ptrack\u001b[39m.\u001b[39mloc[ptrack[\u001b[39m'\u001b[39m\u001b[39mpff_pff_positionLinedUp\u001b[39m\u001b[39m'\u001b[39m] \u001b[39m==\u001b[39m \u001b[39m'\u001b[39m\u001b[39mQB\u001b[39m\u001b[39m'\u001b[39m, \u001b[39m'\u001b[39m\u001b[39mangle_to_qb_diff_o\u001b[39m\u001b[39m'\u001b[39m] \u001b[39m=\u001b[39m \u001b[39m0\u001b[39m\n",
      "File \u001b[1;32m~\\AppData\\Local\\Packages\\PythonSoftwareFoundation.Python.3.10_qbz5n2kfra8p0\\LocalCache\\local-packages\\Python310\\site-packages\\pandas\\core\\frame.py:3505\u001b[0m, in \u001b[0;36mDataFrame.__getitem__\u001b[1;34m(self, key)\u001b[0m\n\u001b[0;32m   3503\u001b[0m \u001b[39mif\u001b[39;00m \u001b[39mself\u001b[39m\u001b[39m.\u001b[39mcolumns\u001b[39m.\u001b[39mnlevels \u001b[39m>\u001b[39m \u001b[39m1\u001b[39m:\n\u001b[0;32m   3504\u001b[0m     \u001b[39mreturn\u001b[39;00m \u001b[39mself\u001b[39m\u001b[39m.\u001b[39m_getitem_multilevel(key)\n\u001b[1;32m-> 3505\u001b[0m indexer \u001b[39m=\u001b[39m \u001b[39mself\u001b[39;49m\u001b[39m.\u001b[39;49mcolumns\u001b[39m.\u001b[39;49mget_loc(key)\n\u001b[0;32m   3506\u001b[0m \u001b[39mif\u001b[39;00m is_integer(indexer):\n\u001b[0;32m   3507\u001b[0m     indexer \u001b[39m=\u001b[39m [indexer]\n",
      "File \u001b[1;32m~\\AppData\\Local\\Packages\\PythonSoftwareFoundation.Python.3.10_qbz5n2kfra8p0\\LocalCache\\local-packages\\Python310\\site-packages\\pandas\\core\\indexes\\base.py:3623\u001b[0m, in \u001b[0;36mIndex.get_loc\u001b[1;34m(self, key, method, tolerance)\u001b[0m\n\u001b[0;32m   3621\u001b[0m     \u001b[39mreturn\u001b[39;00m \u001b[39mself\u001b[39m\u001b[39m.\u001b[39m_engine\u001b[39m.\u001b[39mget_loc(casted_key)\n\u001b[0;32m   3622\u001b[0m \u001b[39mexcept\u001b[39;00m \u001b[39mKeyError\u001b[39;00m \u001b[39mas\u001b[39;00m err:\n\u001b[1;32m-> 3623\u001b[0m     \u001b[39mraise\u001b[39;00m \u001b[39mKeyError\u001b[39;00m(key) \u001b[39mfrom\u001b[39;00m \u001b[39merr\u001b[39;00m\n\u001b[0;32m   3624\u001b[0m \u001b[39mexcept\u001b[39;00m \u001b[39mTypeError\u001b[39;00m:\n\u001b[0;32m   3625\u001b[0m     \u001b[39m# If we have a listlike key, _check_indexing_error will raise\u001b[39;00m\n\u001b[0;32m   3626\u001b[0m     \u001b[39m#  InvalidIndexError. Otherwise we fall through and re-raise\u001b[39;00m\n\u001b[0;32m   3627\u001b[0m     \u001b[39m#  the TypeError.\u001b[39;00m\n\u001b[0;32m   3628\u001b[0m     \u001b[39mself\u001b[39m\u001b[39m.\u001b[39m_check_indexing_error(key)\n",
      "\u001b[1;31mKeyError\u001b[0m: 'pff_pff_positionLinedUp'"
     ]
    }
   ],
   "source": [
    "#Calculate Angles Between Players And QB (Angles Work Same As Orientation and Direction Metrics From Kaggle)\n",
    "for i in range(len(ptrack)):\n",
    "    #Subtract From 90 Degrees To Alter The Starting Axis Of The Angle\n",
    "    ptrack.loc[i, 'angle_to_qb'] = 90 - (math.atan2(((ptrack.loc[i, 'y_qb'] - ptrack.loc[i, 'y'])**2),((ptrack.loc[i, 'x_qb'] - ptrack.loc[i, 'x'])**2)))*(180/math.pi)\n",
    "\n",
    "#Adjust For Quadrants Relative To QB Position On The Field\n",
    "ptrack.loc[(ptrack.y < ptrack.y_qb) & (ptrack.x > ptrack.x_qb), 'angle_to_qb'] = 180 - ptrack.angle_to_qb #Bottom Right\n",
    "ptrack.loc[(ptrack.y < ptrack.y_qb) & (ptrack.x < ptrack.x_qb), 'angle_to_qb'] = 180 + ptrack.angle_to_qb #Bottom Left\n",
    "ptrack.loc[(ptrack.y > ptrack.y_qb) & (ptrack.x < ptrack.x_qb), 'angle_to_qb'] = 360 - ptrack.angle_to_qb #Top Left\n",
    "\n",
    "    # if (ptrack.loc[i, \"y\"] < ptrack.loc[i, \"y_qb\"]) & (ptrack.loc[i, \"x\"] > ptrack.loc[i, \"x_qb\"]):\n",
    "    #     ptrack.loc[i, 'angle_to_qb'] = 180 - ptrack.loc[i, 'angle_to_qb']\n",
    "    # #Bottom Left\n",
    "    # elif (ptrack.loc[i, \"y\"] < ptrack.loc[i, \"y_qb\"]) & (ptrack.loc[i, \"x\"] < ptrack.loc[i, \"x_qb\"]):\n",
    "    #     ptrack.loc[i, 'angle_to_qb'] = 180 + ptrack.loc[i, 'angle_to_qb']\n",
    "    # #Top Left\n",
    "    # elif (ptrack.loc[i, \"y\"] > ptrack.loc[i, \"y_qb\"]) & (ptrack.loc[i, \"x\"] < ptrack.loc[i, \"x_qb\"]):\n",
    "    #     ptrack.loc[i, 'angle_to_qb'] = 360 - ptrack.loc[i, 'angle_to_qb']\n",
    "\n",
    "#Calculate Deviation Between Orientation of Player And Their Angle To The Quarterback\n",
    "#Evaluating Offensive Linemen, This Means We Want To Measure If Their Backs Are To The QB They're Protecting\n",
    "#Positive = Player's Left Shoulder Turned Towards QB So Many Degrees // Negative = Player's Right Shoudler Turned Towards QB So Many Degrees\n",
    "ptrack.angle_to_qb_diff_o = ptrack.o - ptrack.angle_to_qb\n",
    "\n",
    "#Change QB Angles To Themselves To 0\n",
    "ptrack.loc[ptrack['pff_positionLinedUp'] == 'QB', 'angle_to_qb'] = 0\n",
    "ptrack.loc[ptrack['pff_positionLinedUp'] == 'QB', 'angle_to_qb_diff_o'] = 0"
   ]
  },
  {
   "attachments": {},
   "cell_type": "markdown",
   "metadata": {},
   "source": [
    "<font size=\"5\"> Export Player Tracking Data Frame With New Fields </font>"
   ]
  },
  {
   "cell_type": "code",
   "execution_count": 182,
   "metadata": {},
   "outputs": [],
   "source": [
    "#Export Distance Data Frame To .csv\n",
    "ptrack.to_csv(\"C:/Users/Peter/Python Scripts/Case Competitions/NFL Big Data Bowl 2023/merged_data/ptrack.csv\")"
   ]
  }
 ],
 "metadata": {
  "kernelspec": {
   "display_name": "Python 3",
   "language": "python",
   "name": "python3"
  },
  "language_info": {
   "codemirror_mode": {
    "name": "ipython",
    "version": 3
   },
   "file_extension": ".py",
   "mimetype": "text/x-python",
   "name": "python",
   "nbconvert_exporter": "python",
   "pygments_lexer": "ipython3",
   "version": "3.10.9 (tags/v3.10.9:1dd9be6, Dec  6 2022, 20:01:21) [MSC v.1934 64 bit (AMD64)]"
  },
  "orig_nbformat": 4,
  "vscode": {
   "interpreter": {
    "hash": "0734c24ccee641e8c1aa56e5abe0e6d58c5e64b0808290a0db05a6d9678c0817"
   }
  }
 },
 "nbformat": 4,
 "nbformat_minor": 2
}
