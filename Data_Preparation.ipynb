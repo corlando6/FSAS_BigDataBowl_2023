{
 "cells": [
  {
   "attachments": {},
   "cell_type": "markdown",
   "metadata": {},
   "source": [
    "<font size = \"6\"> Fordham Sports Analytics Society Big Data Bowl 2023 - Data Preparation </font>\n",
    "\n",
    "<font size = \"4\"> Prepare data sets provided in the case for our exploratory work and model building. </font>\n",
    "\n",
    "- Authors:  Peter Majors, Chris Orlando, and Jack Townsend\n",
    "- Kaggle:  https://www.kaggle.com/competitions/nfl-big-data-bowl-2023/overview (Resources)\n",
    "- Our Github:  https://github.com/peterlmajors/FSAS_Big_Data_Bowl_2023 (Up-To-Date Code)"
   ]
  },
  {
   "cell_type": "code",
   "execution_count": 16,
   "metadata": {},
   "outputs": [],
   "source": [
    "#Import Required Packages\n",
    "import pandas as pd\n",
    "import numpy as np\n",
    "import math\n",
    "\n",
    "#Notebook Settings\n",
    "pd.set_option('display.max_columns', 1000)\n",
    "pd.set_option('display.max_rows', 1000)"
   ]
  },
  {
   "cell_type": "code",
   "execution_count": 17,
   "metadata": {},
   "outputs": [],
   "source": [
    "#Importing Kaggle Data\n",
    "\n",
    "# #Games - Basic Information On All Games\n",
    "games = pd.read_csv(\"C:/Users/Peter/Python Scripts/Case Competitions/NFL Big Data Bowl 2023/FSAS_Big_Data_Bowl_2023/case_data/games.csv\")\n",
    "\n",
    "# #pffScout - PFF Judgements For Each Player On Each Play\n",
    "pffScout = pd.read_csv(\"C:/Users/Peter/Python Scripts/Case Competitions/NFL Big Data Bowl 2023/FSAS_Big_Data_Bowl_2023/case_data/pffScoutingData.csv\")\n",
    "\n",
    "# #Players - Basics On Players\n",
    "players = pd.read_csv(\"C:/Users/Peter/Python Scripts/Case Competitions/NFL Big Data Bowl 2023/FSAS_Big_Data_Bowl_2023/case_data/players.csv\")\n",
    "\n",
    "# #Plays - Everthing About Specific Plays\n",
    "plays = pd.read_csv(\"C:/Users/Peter/Python Scripts/Case Competitions/NFL Big Data Bowl 2023/FSAS_Big_Data_Bowl_2023/case_data/plays.csv\")\n",
    "\n",
    "# #Week - Frame-By-Frame Player Tracking\n",
    "week1 = pd.read_csv(\"C:/Users/Peter/Python Scripts/Case Competitions/NFL Big Data Bowl 2023/FSAS_Big_Data_Bowl_2023/case_data/week1.csv\")\n",
    "week2 = pd.read_csv(\"C:/Users/Peter/Python Scripts/Case Competitions/NFL Big Data Bowl 2023/FSAS_Big_Data_Bowl_2023/case_data/week2.csv\")\n",
    "week3 = pd.read_csv(\"C:/Users/Peter/Python Scripts/Case Competitions/NFL Big Data Bowl 2023/FSAS_Big_Data_Bowl_2023/case_data/week3.csv\")\n",
    "week4 = pd.read_csv(\"C:/Users/Peter/Python Scripts/Case Competitions/NFL Big Data Bowl 2023/FSAS_Big_Data_Bowl_2023/case_data/week4.csv\")\n",
    "week5 = pd.read_csv(\"C:/Users/Peter/Python Scripts/Case Competitions/NFL Big Data Bowl 2023/FSAS_Big_Data_Bowl_2023/case_data/week5.csv\")\n",
    "week6 = pd.read_csv(\"C:/Users/Peter/Python Scripts/Case Competitions/NFL Big Data Bowl 2023/FSAS_Big_Data_Bowl_2023/case_data/week6.csv\")\n",
    "week7 = pd.read_csv(\"C:/Users/Peter/Python Scripts/Case Competitions/NFL Big Data Bowl 2023/FSAS_Big_Data_Bowl_2023/case_data/week7.csv\")\n",
    "week8 = pd.read_csv(\"C:/Users/Peter/Python Scripts/Case Competitions/NFL Big Data Bowl 2023/FSAS_Big_Data_Bowl_2023/case_data/week8.csv\")"
   ]
  },
  {
   "cell_type": "code",
   "execution_count": 18,
   "metadata": {},
   "outputs": [
    {
     "name": "stderr",
     "output_type": "stream",
     "text": [
      "C:\\Users\\Peter\\AppData\\Local\\Temp\\ipykernel_6888\\2137912840.py:10: FutureWarning: The frame.append method is deprecated and will be removed from pandas in a future version. Use pandas.concat instead.\n",
      "  week = week.append(weeks[i])\n",
      "C:\\Users\\Peter\\AppData\\Local\\Temp\\ipykernel_6888\\2137912840.py:10: FutureWarning: The frame.append method is deprecated and will be removed from pandas in a future version. Use pandas.concat instead.\n",
      "  week = week.append(weeks[i])\n",
      "C:\\Users\\Peter\\AppData\\Local\\Temp\\ipykernel_6888\\2137912840.py:10: FutureWarning: The frame.append method is deprecated and will be removed from pandas in a future version. Use pandas.concat instead.\n",
      "  week = week.append(weeks[i])\n",
      "C:\\Users\\Peter\\AppData\\Local\\Temp\\ipykernel_6888\\2137912840.py:10: FutureWarning: The frame.append method is deprecated and will be removed from pandas in a future version. Use pandas.concat instead.\n",
      "  week = week.append(weeks[i])\n",
      "C:\\Users\\Peter\\AppData\\Local\\Temp\\ipykernel_6888\\2137912840.py:10: FutureWarning: The frame.append method is deprecated and will be removed from pandas in a future version. Use pandas.concat instead.\n",
      "  week = week.append(weeks[i])\n",
      "C:\\Users\\Peter\\AppData\\Local\\Temp\\ipykernel_6888\\2137912840.py:10: FutureWarning: The frame.append method is deprecated and will be removed from pandas in a future version. Use pandas.concat instead.\n",
      "  week = week.append(weeks[i])\n"
     ]
    }
   ],
   "source": [
    "#Merging All Data Together (Not Needed If Importing Merged DataFrames In Next Cell)\n",
    "\n",
    "#Merge Game Info And Play Info, Each Play Now Has More Context\n",
    "pbp = pd.merge(games, plays, how = \"inner\", on = \"gameId\")\n",
    "\n",
    "# #Append All Week Dataframes #Prefer For Weeks To Stay As Separate\n",
    "week = pd.DataFrame()\n",
    "weeks = [week1, week2, week3, week4, week5, week6, week7, week8]\n",
    "for i in range(0,len(weeks)):\n",
    "    week = week.append(weeks[i])\n",
    "\n",
    "# #Merge Player Tracking, PFF Grading, and Player History Data\n",
    "ptrack = pd.merge(pffScout, week, how = \"inner\", on = [\"gameId\", \"playId\", \"nflId\"])\n",
    "ptrack = pd.merge(ptrack, players, how = \"inner\", on = [\"nflId\"])\n",
    "\n",
    "# #Export Two Data Frames For Safe Keeping (And To Import So Merges Dont Take Time)\n",
    "ptrack.to_csv(\"C:/Users/Peter/Python Scripts/Case Competitions/NFL Big Data Bowl 2023/FSAS_Big_Data_Bowl_2023/merged_data/ptrack.csv\")\n",
    "pbp.to_csv(\"C:/Users/Peter/Python Scripts/Case Competitions/NFL Big Data Bowl 2023/FSAS_Big_Data_Bowl_2023/merged_data/pbp.csv\")"
   ]
  },
  {
   "cell_type": "code",
   "execution_count": 4,
   "metadata": {},
   "outputs": [],
   "source": [
    "#Find QB Distance Tracking and Merge Onto ptrack DataFrame\n",
    "ptrack_qb = ptrack.where(ptrack['pff_positionLinedUp'] == \"QB\")\n",
    "ptrack_qb = ptrack_qb[['gameId', 'playId', 'nflId', 'frameId', 'x','y', 's', 'a', 'dis','o','dir']]\n",
    "ptrack = pd.merge(ptrack, ptrack_qb, how = 'left', left_on = ['gameId', 'playId', 'nflId', 'frameId'], right_on = ['gameId', 'playId', 'nflId', 'frameId'])\n",
    "ptrack = ptrack.rename(columns = {\"x_x\":\"x\", \"y_x\": \"y\", \"s_x\": \"s\", \"a_x\": \"a\", \"dis_x\": \"dis\", \"o_x\": \"o\", \"dir_x\": \"dir\",\n",
    "                       \"x_y\":\"x_qb\", \"y_y\": \"y_qb\", \"s_y\": \"s_qb\", \"a_y\": \"a_qb\", \"dis_y\": \"dis_qb\", \"o_y\": \"o_qb\", \"dir_y\": \"dir_qb\"})"
   ]
  },
  {
   "cell_type": "code",
   "execution_count": 13,
   "metadata": {},
   "outputs": [],
   "source": [
    "#Use Field Positions To Understand Distance Between Players And QB's (24 minute run-time)\n",
    "for i in range(len(ptrack)):\n",
    "    dist_from_qb = math.dist([ptrack.loc[i, 'x'], ptrack.loc[i, 'y']], [ptrack.loc[i, 'x_qb'], ptrack.loc[i, 'y_qb']])\n",
    "    ptrack.loc[i, 'dist_from_qb'] = dist_from_qb\n",
    "\n",
    "#Remove NaN Values From ptrack\n",
    "ptrack = ptrack.fillna(0)"
   ]
  },
  {
   "cell_type": "code",
   "execution_count": null,
   "metadata": {},
   "outputs": [],
   "source": [
    "#Export Distance Data Frame To .csv\n",
    "#This overwrites the existing ptrack file, only adding one additional column\n",
    "ptrack.to_csv(\"C:/Users/Peter/Python Scripts/Case Competitions/NFL Big Data Bowl 2023/FSAS_Big_Data_Bowl_2023/merged_data/ptrack.csv\")"
   ]
  }
 ],
 "metadata": {
  "kernelspec": {
   "display_name": "Python 3",
   "language": "python",
   "name": "python3"
  },
  "language_info": {
   "codemirror_mode": {
    "name": "ipython",
    "version": 3
   },
   "file_extension": ".py",
   "mimetype": "text/x-python",
   "name": "python",
   "nbconvert_exporter": "python",
   "pygments_lexer": "ipython3",
   "version": "3.10.9 (tags/v3.10.9:1dd9be6, Dec  6 2022, 20:01:21) [MSC v.1934 64 bit (AMD64)]"
  },
  "orig_nbformat": 4,
  "vscode": {
   "interpreter": {
    "hash": "0734c24ccee641e8c1aa56e5abe0e6d58c5e64b0808290a0db05a6d9678c0817"
   }
  }
 },
 "nbformat": 4,
 "nbformat_minor": 2
}
