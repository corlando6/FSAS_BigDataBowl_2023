{
 "cells": [
  {
   "attachments": {},
   "cell_type": "markdown",
   "metadata": {},
   "source": [
    "<font size = \"6\"> Fordham Sports Analytics Society Big Data Bowl 2023 - Data Preparation </font>\n",
    "\n",
    "<font size = \"4\"> Prepare data sets provided in the case for our exploratory work and model building. </font>\n",
    "\n",
    "- Authors:  Peter Majors, Chris Orlando, and Jack Townsend\n",
    "- Kaggle:  https://www.kaggle.com/competitions/nfl-big-data-bowl-2023/overview (Resources)\n",
    "- Our Github:  https://github.com/peterlmajors/FSAS_BigDataBowl_2023 (Up-To-Date Code)"
   ]
  },
  {
   "attachments": {},
   "cell_type": "markdown",
   "metadata": {},
   "source": [
    "<font size=\"5\"> Importing And Merging Original Data</font>"
   ]
  },
  {
   "cell_type": "code",
   "execution_count": 2,
   "metadata": {},
   "outputs": [],
   "source": [
    "#Import Required Packages\n",
    "import pandas as pd\n",
    "import numpy as np\n",
    "import math\n",
    "\n",
    "#Notebook Settings\n",
    "pd.set_option('display.max_columns', 1000)\n",
    "pd.set_option('display.max_rows', 1000)"
   ]
  },
  {
   "cell_type": "code",
   "execution_count": 2,
   "metadata": {},
   "outputs": [],
   "source": [
    "#Importing Kaggle Data\n",
    "\n",
    "# #Games - Basic Information On All Games\n",
    "games = pd.read_csv(\"C:/Users/Peter/Python Scripts/Case Competitions/NFL Big Data Bowl 2023/case_data/games.csv\")\n",
    "\n",
    "# #pffScout - PFF Judgements For Each Player On Each Play\n",
    "pffScout = pd.read_csv(\"C:/Users/Peter/Python Scripts/Case Competitions/NFL Big Data Bowl 2023/case_data/pffScoutingData.csv\")\n",
    "\n",
    "# #Players - Basics On Players\n",
    "players = pd.read_csv(\"C:/Users/Peter/Python Scripts/Case Competitions/NFL Big Data Bowl 2023/case_data/players.csv\")\n",
    "\n",
    "# #Plays - Everthing About Specific Plays\n",
    "plays = pd.read_csv(\"C:/Users/Peter/Python Scripts/Case Competitions/NFL Big Data Bowl 2023/case_data/plays.csv\")\n",
    "\n",
    "# #Week - Frame-By-Frame Player Tracking\n",
    "week1 = pd.read_csv(\"C:/Users/Peter/Python Scripts/Case Competitions/NFL Big Data Bowl 2023/case_data/week1.csv\")\n",
    "week2 = pd.read_csv(\"C:/Users/Peter/Python Scripts/Case Competitions/NFL Big Data Bowl 2023/case_data/week2.csv\")\n",
    "week3 = pd.read_csv(\"C:/Users/Peter/Python Scripts/Case Competitions/NFL Big Data Bowl 2023/case_data/week3.csv\")\n",
    "week4 = pd.read_csv(\"C:/Users/Peter/Python Scripts/Case Competitions/NFL Big Data Bowl 2023/case_data/week4.csv\")\n",
    "week5 = pd.read_csv(\"C:/Users/Peter/Python Scripts/Case Competitions/NFL Big Data Bowl 2023/case_data/week5.csv\")\n",
    "week6 = pd.read_csv(\"C:/Users/Peter/Python Scripts/Case Competitions/NFL Big Data Bowl 2023/case_data/week6.csv\")\n",
    "week7 = pd.read_csv(\"C:/Users/Peter/Python Scripts/Case Competitions/NFL Big Data Bowl 2023/case_data/week7.csv\")\n",
    "week8 = pd.read_csv(\"C:/Users/Peter/Python Scripts/Case Competitions/NFL Big Data Bowl 2023/case_data/week8.csv\")"
   ]
  },
  {
   "cell_type": "code",
   "execution_count": 8,
   "metadata": {},
   "outputs": [
    {
     "name": "stderr",
     "output_type": "stream",
     "text": [
      "C:\\Users\\Peter\\AppData\\Local\\Temp\\ipykernel_9384\\1762755123.py:10: FutureWarning: The frame.append method is deprecated and will be removed from pandas in a future version. Use pandas.concat instead.\n",
      "  week = week.append(weeks[i])\n",
      "C:\\Users\\Peter\\AppData\\Local\\Temp\\ipykernel_9384\\1762755123.py:10: FutureWarning: The frame.append method is deprecated and will be removed from pandas in a future version. Use pandas.concat instead.\n",
      "  week = week.append(weeks[i])\n",
      "C:\\Users\\Peter\\AppData\\Local\\Temp\\ipykernel_9384\\1762755123.py:10: FutureWarning: The frame.append method is deprecated and will be removed from pandas in a future version. Use pandas.concat instead.\n",
      "  week = week.append(weeks[i])\n",
      "C:\\Users\\Peter\\AppData\\Local\\Temp\\ipykernel_9384\\1762755123.py:10: FutureWarning: The frame.append method is deprecated and will be removed from pandas in a future version. Use pandas.concat instead.\n",
      "  week = week.append(weeks[i])\n",
      "C:\\Users\\Peter\\AppData\\Local\\Temp\\ipykernel_9384\\1762755123.py:10: FutureWarning: The frame.append method is deprecated and will be removed from pandas in a future version. Use pandas.concat instead.\n",
      "  week = week.append(weeks[i])\n",
      "C:\\Users\\Peter\\AppData\\Local\\Temp\\ipykernel_9384\\1762755123.py:10: FutureWarning: The frame.append method is deprecated and will be removed from pandas in a future version. Use pandas.concat instead.\n",
      "  week = week.append(weeks[i])\n"
     ]
    }
   ],
   "source": [
    "#Merging All Data Together (Not Needed If Importing Merged DataFrames In Next Cell)\n",
    "\n",
    "#Merge Game Info And Play Info, Each Play Now Has More Context\n",
    "pbp = pd.merge(games, plays, how = \"inner\", on = \"gameId\")\n",
    "\n",
    "# #Append All Week Dataframes #Prefer For Weeks To Stay As Separate\n",
    "week = pd.DataFrame()\n",
    "weeks = [week1, week2, week3, week4, week5, week6, week7, week8]\n",
    "for i in range(0,len(weeks)):\n",
    "    week = week.append(weeks[i])\n",
    "\n",
    "# #Merge Player Tracking, PFF Grading, and Player History Data\n",
    "ptrack = pd.merge(pffScout, week, how = \"inner\", on = [\"gameId\", \"playId\", \"nflId\"])\n",
    "ptrack = pd.merge(ptrack, players, how = \"inner\", on = [\"nflId\"])\n",
    "\n",
    "#Export pbp Data Frame For Safe Keeping\n",
    "pbp.to_csv(\"C:/Users/Peter/Python Scripts/Case Competitions/NFL Big Data Bowl 2023/merged_data/pbp.csv\")"
   ]
  },
  {
   "attachments": {},
   "cell_type": "markdown",
   "metadata": {},
   "source": [
    "<font size=\"5\"> Find Distance of Each Player From The Quarterback </font>"
   ]
  },
  {
   "cell_type": "code",
   "execution_count": 9,
   "metadata": {},
   "outputs": [],
   "source": [
    "#Find QB Distance Tracking and Merge Onto ptrack DataFrame (Distance As Yards)\n",
    "ptrack_qb = ptrack[ptrack.pff_positionLinedUp == \"QB\"]\n",
    "ptrack_qb = ptrack_qb[['gameId', 'playId', 'frameId', 'x','y', 's', 'a', 'dis','o','dir']]\n",
    "ptrack = pd.merge(ptrack, ptrack_qb, how = 'inner', on = ['gameId', 'playId', 'frameId'])\n",
    "ptrack = ptrack.rename(columns = {\"x_x\":\"x\", \"y_x\": \"y\", \"s_x\": \"s\", \"a_x\": \"a\", \"dis_x\": \"dis\", \"o_x\": \"o\", \"dir_x\": \"dir\",\n",
    "                       \"x_y\":\"x_qb\", \"y_y\": \"y_qb\", \"s_y\": \"s_qb\", \"a_y\": \"a_qb\", \"dis_y\": \"dis_qb\", \"o_y\": \"o_qb\", \"dir_y\": \"dir_qb\"})\n",
    "ptrack['dist_from_qb'] = np.hypot((ptrack.x - ptrack.x_qb), (ptrack.y - ptrack.y_qb))\n",
    "\n",
    "#Remove NaN Values From ptrack\n",
    "ptrack = ptrack.fillna(0)"
   ]
  },
  {
   "attachments": {},
   "cell_type": "markdown",
   "metadata": {},
   "source": [
    "<font size=\"5\"> Find Angle of Each Player From The Quarterback and Orientation Deviation From That Angle</font>"
   ]
  },
  {
   "cell_type": "code",
   "execution_count": 12,
   "metadata": {},
   "outputs": [
    {
     "name": "stderr",
     "output_type": "stream",
     "text": [
      "C:\\Users\\Peter\\AppData\\Local\\Temp\\ipykernel_9384\\4247330949.py:14: UserWarning: Pandas doesn't allow columns to be created via a new attribute name - see https://pandas.pydata.org/pandas-docs/stable/indexing.html#attribute-access\n",
      "  ptrack.angle_to_qb_diff_o = ptrack.o - ptrack.angle_to_qb\n"
     ]
    }
   ],
   "source": [
    "#Calculate Angles Between Players And QB (Angles Work Same As Orientation and Direction Metrics From Kaggle)\n",
    "for i in range(len(ptrack)):\n",
    "    #Subtract From 90 Degrees To Alter The Starting Axis Of The Angle\n",
    "    ptrack.loc[i, 'angle_to_qb'] = 90 - (math.atan2(((ptrack.loc[i, 'y_qb'] - ptrack.loc[i, 'y'])**2),((ptrack.loc[i, 'x_qb'] - ptrack.loc[i, 'x'])**2)))*(180/math.pi)\n",
    "\n",
    "#Adjust For Quadrants Relative To QB Position On The Field\n",
    "ptrack.loc[(ptrack.y < ptrack.y_qb) & (ptrack.x > ptrack.x_qb), 'angle_to_qb'] = 180 - ptrack.angle_to_qb #Bottom Right\n",
    "ptrack.loc[(ptrack.y < ptrack.y_qb) & (ptrack.x < ptrack.x_qb), 'angle_to_qb'] = 180 + ptrack.angle_to_qb #Bottom Left\n",
    "ptrack.loc[(ptrack.y > ptrack.y_qb) & (ptrack.x < ptrack.x_qb), 'angle_to_qb'] = 360 - ptrack.angle_to_qb #Top Left\n",
    "\n",
    "#Calculate Deviation Between Orientation of Player And Their Angle To The Quarterback\n",
    "#Evaluating Offensive Linemen, This Means We Want To Measure If Their Backs Are To The QB They're Protecting\n",
    "#Positive = Player's Left Shoulder Turned Towards QB So Many Degrees // Negative = Player's Right Shoudler Turned Towards QB So Many Degrees\n",
    "ptrack.angle_to_qb_diff_o = ptrack.o - ptrack.angle_to_qb\n",
    "\n",
    "#Change QB Angles To Themselves To 0\n",
    "ptrack.loc[ptrack['pff_positionLinedUp'] == 'QB', 'angle_to_qb'] = 0\n",
    "ptrack.loc[ptrack['pff_positionLinedUp'] == 'QB', 'angle_to_qb_diff_o'] = 0\n"
   ]
  },
  {
   "cell_type": "code",
   "execution_count": 50,
   "metadata": {},
   "outputs": [
    {
     "data": {
      "text/plain": [
       "174.36871305154258"
      ]
     },
     "execution_count": 50,
     "metadata": {},
     "output_type": "execute_result"
    }
   ],
   "source": [
    "#Attempt To Create Faster Implementation of QB-To-Player Angle (First For Loop In Previous Code Block)\n",
    "\n",
    "#Previous Mean\n",
    "ptrack.angle_to_qb.mean()\n",
    "\n",
    "#Previous Math\n",
    "90 + (math.atan2(((ptrack.loc[1, 'y_qb'] - ptrack.loc[1, 'y'])**2),((ptrack.loc[1, 'x_qb'] - ptrack.loc[1, 'x'])**2)))*(180/math.pi)\n",
    "\n",
    "#Proposed Math (Using Numpy (np))\n",
    "(np.degrees(np.arctan2(((ptrack.y_qb - ptrack.y)**2), (ptrack.x_qb - ptrack.x)**2))).mean()"
   ]
  },
  {
   "attachments": {},
   "cell_type": "markdown",
   "metadata": {},
   "source": [
    "<font size = '5'> Determine When Pass Rushers Enter Immediate Zone On Known Blocking Plays (First Block In Play) </font>"
   ]
  },
  {
   "cell_type": "code",
   "execution_count": 77,
   "metadata": {},
   "outputs": [],
   "source": [
    "#Find All Tracking Data For All Frames Where Blocks Occur Between Rushers and Passers\n",
    "\n",
    "#Create Data Frame With Only Pass Blocking Plays\n",
    "ptrack_block = ptrack.loc[ptrack['pff_blockType'] != '0']\n",
    "\n",
    "#Find Rows With Players Who Were Blocked Against (And Who Have The Role of Pass Rusher)\n",
    "ptrack_block_rushers = ptrack.loc[(ptrack.nflId.isin(ptrack_block.pff_nflIdBlockedPlayer)) & (ptrack.pff_role == \"Pass Rush\")]\n",
    "ptrack_block_rushers = ptrack_block_rushers[['gameId', 'playId', 'nflId', 'frameId', 'pff_role', 'pff_positionLinedUp', 'x', 'y', 's', 'a', 'dis', 'o', 'dir', 'displayName']]\n",
    "\n",
    "#Merge Pass Blocking Plays Data With Pass Rusher Data\n",
    "ptrack_imm_box = ptrack_block.merge(ptrack_block_rushers, left_on = ['gameId', 'playId', 'pff_nflIdBlockedPlayer', 'frameId'], right_on = ['gameId', 'playId', 'nflId', 'frameId'], how = 'inner')\n",
    "\n",
    "#Reduce To Columns Of Interest\n",
    "ptrack_imm_box = ptrack_imm_box[['gameId', 'playId', 'nflId_x', 'frameId', 'pff_role_x', 'pff_positionLinedUp_x', 'pff_blockType','x_x', 'y_x', 's_x', 'a_x', 'dis_x', 'o_x', 'dir_x', 'displayName_x','nflId_y', 'pff_role_y', 'pff_positionLinedUp_y', 'x_y', 'y_y', 's_y', 'a_y', 'dis_y', 'o_y', 'dir_y', 'displayName_y']]\n",
    "\n",
    "#Rename Columns\n",
    "ptrack_imm_box = ptrack_imm_box.rename(columns = {\"nflId_x\":\"nflId_blocker\", \"displayName_x\": \"displayName_blocker\", \"pff_role_x\": \"pff_role_blocker\", \"pff_positionLinedUp_x\": \"pff_positionLinedUp_blocker\", \"x_x\": \"x_blocker\", \"y_x\": \"y_blocker\", \"s_x\": \"s_blocker\", \"a_x\": \"a_blocker\", \"dis_x\": \"dis_blocker\", \"o_x\": \"o_blocker\", \"dir_x\": \"dir_blocker\", \"nflId_y\":\"nflId_rusher\", \"displayName_y\": \"displayName_rusher\", \"pff_role_y\": \"pff_role_rusher\", \"pff_positionLinedUp_y\": \"pff_positionLinedUp_rusher\", \"x_y\": \"x_rusher\", \"y_y\": \"y_rusher\", \"s_y\": \"s_rusher\", \"a_y\": \"a_rusher\", \"dis_y\": \"dis_rusher\", \"o_y\": \"o_rusher\", \"dir_y\": \"dir_rusher\"})\n",
    "\n",
    "#Calculate Distance Between Pass Blocker And Pass Rusher at Each Frame\n",
    "ptrack_imm_box['blocker_rusher_distance'] = round(np.hypot((ptrack_imm_box.y_blocker - ptrack_imm_box.y_rusher), (ptrack_imm_box.x_blocker - ptrack_imm_box.x_rusher)),2)\n",
    "\n",
    "#Calculate Difference Between Rusher Direction and Blocker Orientation\n",
    "ptrack_imm_box['diff_btw_rusher_dir_blocker_o'] = abs((ptrack_imm_box.dir_rusher - 180) - ptrack_imm_box.o_blocker)\n"
   ]
  },
  {
   "cell_type": "code",
   "execution_count": 78,
   "metadata": {},
   "outputs": [],
   "source": [
    "#Create The Immediate Zone For Pass Blockers And Vertices Between Coordinates Of Interest\n",
    "\n",
    "#Define The Width And Depth Of This Zone\n",
    "imm_box_width = .75\n",
    "imm_box_depth = 1.20\n",
    "\n",
    "#bl = Bottom Left Immediate Zone Coordinate\n",
    "ptrack_imm_box['bl_im_x'] = round(ptrack_imm_box.x_blocker - (imm_box_width * np.cos(np.radians(ptrack_imm_box.o_blocker))),2)\n",
    "ptrack_imm_box['bl_im_y'] = round(ptrack_imm_box.y_blocker + (imm_box_width * np.sin(np.radians(ptrack_imm_box.o_blocker))),2)\n",
    "\n",
    "#br = Bottom Right Immediate Zone Coordinate\n",
    "ptrack_imm_box['br_im_x'] = round(ptrack_imm_box.x_blocker + (imm_box_width * np.cos(np.radians(ptrack_imm_box.o_blocker))),2)\n",
    "ptrack_imm_box['br_im_y'] = round(ptrack_imm_box.y_blocker - (imm_box_width * np.sin(np.radians(ptrack_imm_box.o_blocker))),2)\n",
    "\n",
    "#fl = Front Left Immediate Zone Coordinate\n",
    "ptrack_imm_box['fl_im_x'] = round(ptrack_imm_box.bl_im_x + (imm_box_depth * np.cos(np.radians(ptrack_imm_box.o_blocker - 90))),2)\n",
    "ptrack_imm_box['fl_im_y'] = round(ptrack_imm_box.bl_im_y - (imm_box_depth * np.sin(np.radians(ptrack_imm_box.o_blocker - 90))),2)\n",
    "\n",
    "#fr = Front Right Immediate Zone Coordinate\n",
    "ptrack_imm_box['fr_im_x'] = round(ptrack_imm_box.br_im_x + (imm_box_depth * np.cos(np.radians(ptrack_imm_box.o_blocker - 90))),2)\n",
    "ptrack_imm_box['fr_im_y'] = round(ptrack_imm_box.br_im_y - (imm_box_depth * np.sin(np.radians(ptrack_imm_box.o_blocker - 90))),2)"
   ]
  },
  {
   "cell_type": "code",
   "execution_count": 79,
   "metadata": {},
   "outputs": [],
   "source": [
    "#Calculate Relevant Vertcies Between Points In The Immediate Zone And Dot Products of The Vertices\n",
    "\n",
    "#Vertex From Bottom Left Corner To Top Left of Immediate Zone\n",
    "ptrack_imm_box['AB_x'] = ptrack_imm_box.fl_im_x - ptrack_imm_box.bl_im_x\n",
    "ptrack_imm_box['AB_y'] = ptrack_imm_box.fl_im_y - ptrack_imm_box.bl_im_x\n",
    "#Vertex From Top Left Corner To Top Right Corner of Immediate Zone\n",
    "ptrack_imm_box['BC_x'] = ptrack_imm_box.fr_im_x - ptrack_imm_box.fl_im_x\n",
    "ptrack_imm_box['BC_y'] = ptrack_imm_box.fr_im_y - ptrack_imm_box.fl_im_y\n",
    "#Vertex From Bottom Left Corner of Immediate Zone To Blocker\n",
    "ptrack_imm_box['AM_x'] = ptrack_imm_box.x_blocker - ptrack_imm_box.bl_im_x\n",
    "ptrack_imm_box['AM_y'] = ptrack_imm_box.y_blocker - ptrack_imm_box.bl_im_y\n",
    "#Vertex From Top Left Corner of Immediate Zone To Blocker\n",
    "ptrack_imm_box['BM_x'] = ptrack_imm_box.x_blocker - ptrack_imm_box.fl_im_x\n",
    "ptrack_imm_box['BM_y'] = ptrack_imm_box.y_blocker - ptrack_imm_box.fl_im_y\n",
    "\n",
    "#Calculate Dot Products of Vertices\n",
    "\n",
    "#AB AM Dot Product\n",
    "ptrack_imm_box['AB_AM_dot'] = (ptrack_imm_box.AB_x * ptrack_imm_box.AM_x) + (ptrack_imm_box.AB_y * ptrack_imm_box.AM_y)\n",
    "#AB AB Dot Product\n",
    "ptrack_imm_box['AB_AB_dot'] = (ptrack_imm_box.AB_x * ptrack_imm_box.AB_x) + (ptrack_imm_box.AB_y * ptrack_imm_box.AB_y)\n",
    "#BC BM Dot Product\n",
    "ptrack_imm_box['BC_BM_dot'] = (ptrack_imm_box.BC_x * ptrack_imm_box.BM_x) + (ptrack_imm_box.BC_y * ptrack_imm_box.BM_y)\n",
    "#BC BC Dot Product\n",
    "ptrack_imm_box['BC_BC_dot'] = (ptrack_imm_box.BC_x * ptrack_imm_box.BC_x) + (ptrack_imm_box.BC_y * ptrack_imm_box.BC_y)"
   ]
  },
  {
   "cell_type": "code",
   "execution_count": 80,
   "metadata": {},
   "outputs": [],
   "source": [
    "#Binary Column Created Determining If A Rusher Is In A Pass Blocker's Immediate Zone\n",
    "ptrack_imm_box['rusher_in_imm_box'] = np.where(((0 <= ptrack_imm_box.AB_AM_dot) & (ptrack_imm_box.AB_AM_dot <= ptrack_imm_box.AB_AB_dot) & (0 <= ptrack_imm_box.BC_BM_dot) & (ptrack_imm_box.BC_BM_dot <= ptrack_imm_box.BC_BC_dot)), True, False)\n",
    "\n",
    "#Merge The ptrack_imm_box Data Frame Onto ptrack\n",
    "ptrack_imm_box = ptrack_imm_box[['gameId','playId','nflId_blocker','frameId', 'rusher_in_imm_box']]\n",
    "ptrack = ptrack.merge(ptrack_imm_box, left_on = ['gameId','playId','nflId','frameId'], right_on = ['gameId','playId','nflId_blocker','frameId'], how = 'left')"
   ]
  },
  {
   "attachments": {},
   "cell_type": "markdown",
   "metadata": {},
   "source": [
    "<font size=\"5\"> Export Player Tracking Data Frame With New Fields </font>"
   ]
  },
  {
   "cell_type": "code",
   "execution_count": 18,
   "metadata": {},
   "outputs": [],
   "source": [
    "#Export Distance Data Frame To .csv\n",
    "ptrack.to_csv(\"C:/Users/Peter/Python Scripts/Case Competitions/NFL Big Data Bowl 2023/merged_data/ptrack.csv\")"
   ]
  }
 ],
 "metadata": {
  "kernelspec": {
   "display_name": "Python 3",
   "language": "python",
   "name": "python3"
  },
  "language_info": {
   "codemirror_mode": {
    "name": "ipython",
    "version": 3
   },
   "file_extension": ".py",
   "mimetype": "text/x-python",
   "name": "python",
   "nbconvert_exporter": "python",
   "pygments_lexer": "ipython3",
   "version": "3.10.9"
  },
  "orig_nbformat": 4,
  "vscode": {
   "interpreter": {
    "hash": "0734c24ccee641e8c1aa56e5abe0e6d58c5e64b0808290a0db05a6d9678c0817"
   }
  }
 },
 "nbformat": 4,
 "nbformat_minor": 2
}
