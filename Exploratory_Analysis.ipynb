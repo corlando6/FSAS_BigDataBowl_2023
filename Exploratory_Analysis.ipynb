{
 "cells": [
  {
   "attachments": {},
   "cell_type": "markdown",
   "metadata": {},
   "source": [
    "<font size = \"6\"> Fordham Sports Analytics Society Big Data Bowl 2023 - Exploratory Analysis </font>\n",
    "\n",
    "<font size = \"4\"> Run through ideas for eventual model, create new model features, and understand provided materials. </font>\n",
    "\n",
    "- Authors:  Peter Majors, Chris Orlando, Jack Townsend, and Etienne Busnel\n",
    "- Kaggle:  https://www.kaggle.com/competitions/nfl-big-data-bowl-2023/overview (Resources)\n",
    "- Our Github:  https://github.com/peterlmajors/FSAS_BigDataBowl_2023 (Up-To-Date Code)"
   ]
  },
  {
   "cell_type": "code",
   "execution_count": 1,
   "metadata": {},
   "outputs": [],
   "source": [
    "#Import Required Packages\n",
    "\n",
    "#Data Manipulation\n",
    "import pandas as pd\n",
    "import numpy as np\n",
    "import math\n",
    "\n",
    "#Data Vizualization\n",
    "import seaborn as sns \n",
    "import matplotlib.pyplot as plt \n",
    "import plotly.graph_objects as go\n",
    "from haversine import haversine\n",
    "\n",
    "#Notebook Settings\n",
    "pd.set_option('display.max_columns', 1000)\n",
    "pd.set_option('display.max_rows', 1000)"
   ]
  },
  {
   "cell_type": "code",
   "execution_count": 2,
   "metadata": {},
   "outputs": [],
   "source": [
    "#Importing Kaggle Data (Needed For Animated Plays Function (Takes Original Data))\n",
    "\n",
    "# #Games - Basic Information On All Games\n",
    "games = pd.read_csv(\"C:/Users/Peter/Python Scripts/Case Competitions/NFL Big Data Bowl 2023/case_data/games.csv\")\n",
    "\n",
    "# #pffScout - PFF Judgements For Each Player On Each Play\n",
    "pffScout = pd.read_csv(\"C:/Users/Peter/Python Scripts/Case Competitions/NFL Big Data Bowl 2023/case_data/pffScoutingData.csv\")\n",
    "\n",
    "# #Players - Basics On Players\n",
    "players = pd.read_csv(\"C:/Users/Peter/Python Scripts/Case Competitions/NFL Big Data Bowl 2023/case_data/players.csv\")\n",
    "\n",
    "# #Plays - Everthing About Specific Plays\n",
    "plays = pd.read_csv(\"C:/Users/Peter/Python Scripts/Case Competitions/NFL Big Data Bowl 2023/case_data/plays.csv\")\n",
    "\n",
    "# #Week - Frame-By-Frame Player Tracking\n",
    "week1 = pd.read_csv(\"C:/Users/Peter/Python Scripts/Case Competitions/NFL Big Data Bowl 2023/case_data/week1.csv\")\n",
    "week2 = pd.read_csv(\"C:/Users/Peter/Python Scripts/Case Competitions/NFL Big Data Bowl 2023/case_data/week2.csv\")\n",
    "week3 = pd.read_csv(\"C:/Users/Peter/Python Scripts/Case Competitions/NFL Big Data Bowl 2023/case_data/week3.csv\")\n",
    "week4 = pd.read_csv(\"C:/Users/Peter/Python Scripts/Case Competitions/NFL Big Data Bowl 2023/case_data/week4.csv\")\n",
    "week5 = pd.read_csv(\"C:/Users/Peter/Python Scripts/Case Competitions/NFL Big Data Bowl 2023/case_data/week5.csv\")\n",
    "week6 = pd.read_csv(\"C:/Users/Peter/Python Scripts/Case Competitions/NFL Big Data Bowl 2023/case_data/week6.csv\")\n",
    "week7 = pd.read_csv(\"C:/Users/Peter/Python Scripts/Case Competitions/NFL Big Data Bowl 2023/case_data/week7.csv\")\n",
    "week8 = pd.read_csv(\"C:/Users/Peter/Python Scripts/Case Competitions/NFL Big Data Bowl 2023/case_data/week8.csv\")"
   ]
  },
  {
   "cell_type": "code",
   "execution_count": 3,
   "metadata": {},
   "outputs": [],
   "source": [
    "#Define Function To Animate Plays\n",
    "colors = {'ARI':\"#97233F\", 'ATL':\"#A71930\", 'BAL':'#241773', 'BUF':\"#00338D\", 'CAR':\"#0085CA\", 'CHI':\"#C83803\", 'CIN':\"#FB4F14\", 'CLE':\"#311D00\", \n",
    "          'DAL':'#003594', 'DEN':\"#FB4F14\", 'DET':\"#0076B6\", 'GB':\"#203731\", 'HOU':\"#03202F\", 'IND':\"#002C5F\", 'JAX':\"#9F792C\", 'KC':\"#E31837\", \n",
    "          'LA':\"#003594\", 'LAC':\"#0080C6\", 'LV':\"#000000\", 'MIA':\"#008E97\", 'MIN':\"#4F2683\", 'NE':\"#002244\", 'NO':\"#D3BC8D\", 'NYG':\"#0B2265\", \n",
    "          'NYJ':\"#125740\", 'PHI':\"#004C54\", 'PIT':\"#FFB612\", 'SEA':\"#69BE28\", 'SF':\"#AA0000\", 'TB':'#D50A0A', 'TEN':\"#4B92DB\", 'WAS':\"#5A1414\", \n",
    "          'football':'#CBB67C'}\n",
    "\n",
    "def animate_play(tracking_df, play_df,players,pffScoutingData, gameId,playId):\n",
    "    selected_play_df = play_df[(play_df.playId==playId)&(play_df.gameId==gameId)].copy()\n",
    "    \n",
    "    tracking_players_df = pd.merge(tracking_df,players,how=\"left\",on = \"nflId\")\n",
    "    tracking_players_df = pd.merge(tracking_players_df,pffScoutingData,how=\"left\",on = [\"nflId\",\"playId\",\"gameId\"])\n",
    "    selected_tracking_df = tracking_players_df[(tracking_players_df.playId==playId)&(tracking_players_df.gameId==gameId)].copy()\n",
    "\n",
    "    sorted_frame_list = selected_tracking_df.frameId.unique()\n",
    "    sorted_frame_list.sort()\n",
    "\n",
    "    # get play General information \n",
    "    line_of_scrimmage = selected_play_df.absoluteYardlineNumber.values[0]\n",
    "    first_down_marker = line_of_scrimmage + selected_play_df.yardsToGo.values[0]\n",
    "    down = selected_play_df.down.values[0]\n",
    "    quarter = selected_play_df.quarter.values[0]\n",
    "    gameClock = selected_play_df.gameClock.values[0]\n",
    "    playDescription = selected_play_df.playDescription.values[0]\n",
    "    # Handle case where we have a really long Play Description and want to split it into two lines\n",
    "    if len(playDescription.split(\" \"))>15 and len(playDescription)>115:\n",
    "        playDescription = \" \".join(playDescription.split(\" \")[0:16]) + \"<br>\" + \" \".join(playDescription.split(\" \")[16:])\n",
    "\n",
    "    # initialize plotly start and stop buttons for animation\n",
    "    updatemenus_dict = [\n",
    "        {\n",
    "             \"buttons\": [\n",
    "                {\n",
    "                    \"args\": [None, {\"frame\": {\"duration\": 100, \"redraw\": False},\n",
    "                                \"fromcurrent\": True, \"transition\": {\"duration\": 0}}],\n",
    "                    \"label\": \"Play\",\n",
    "                    \"method\": \"animate\"\n",
    "                },\n",
    "                {\n",
    "                    \"args\": [[None], {\"frame\": {\"duration\": 0, \"redraw\": False},\n",
    "                                      \"mode\": \"immediate\",\n",
    "                                      \"transition\": {\"duration\": 0}}],\n",
    "                    \"label\": \"Pause\",\n",
    "                    \"method\": \"animate\"\n",
    "                }\n",
    "            ],\n",
    "            \"direction\": \"left\",\n",
    "            \"pad\": {\"r\": 10, \"t\": 87},\n",
    "            \"showactive\": False,\n",
    "            \"type\": \"buttons\",\n",
    "            \"x\": 0.1,\n",
    "            \"xanchor\": \"right\",\n",
    "            \"y\": 0,\n",
    "            \"yanchor\": \"top\"\n",
    "        }\n",
    "    ]\n",
    "    # initialize plotly slider to show frame position in animation\n",
    "    sliders_dict = {\n",
    "        \"active\": 0,\n",
    "        \"yanchor\": \"top\",\n",
    "        \"xanchor\": \"left\",\n",
    "        \"currentvalue\": {\n",
    "            \"font\": {\"size\": 20},\n",
    "            \"prefix\": \"Frame:\",\n",
    "            \"visible\": True,\n",
    "            \"xanchor\": \"right\"\n",
    "        },\n",
    "        \"transition\": {\"duration\": 300, \"easing\": \"cubic-in-out\"},\n",
    "        \"pad\": {\"b\": 10, \"t\": 50},\n",
    "        \"len\": 0.9,\n",
    "        \"x\": 0.1,\n",
    "        \"y\": 0,\n",
    "        \"steps\": []\n",
    "    }\n",
    "\n",
    "\n",
    "    frames = []\n",
    "    for frameId in sorted_frame_list:\n",
    "        data = []\n",
    "        # Add Numbers to Field \n",
    "        data.append(\n",
    "            go.Scatter(\n",
    "                x=np.arange(20,110,10), \n",
    "                y=[5]*len(np.arange(20,110,10)),\n",
    "                mode='text',\n",
    "                text=list(map(str,list(np.arange(20, 61, 10)-10)+list(np.arange(40, 9, -10)))),\n",
    "                textfont_size = 30,\n",
    "                textfont_family = \"Courier New, monospace\",\n",
    "                textfont_color = \"#ffffff\",\n",
    "                showlegend=False,\n",
    "                hoverinfo='none'\n",
    "            )\n",
    "        )\n",
    "        data.append(\n",
    "            go.Scatter(\n",
    "                x=np.arange(20,110,10), \n",
    "                y=[53.5-5]*len(np.arange(20,110,10)),\n",
    "                mode='text',\n",
    "                text=list(map(str,list(np.arange(20, 61, 10)-10)+list(np.arange(40, 9, -10)))),\n",
    "                textfont_size = 30,\n",
    "                textfont_family = \"Courier New, monospace\",\n",
    "                textfont_color = \"#ffffff\",\n",
    "                showlegend=False,\n",
    "                hoverinfo='none'\n",
    "            )\n",
    "        )\n",
    "        # Add line of scrimage \n",
    "        data.append(\n",
    "            go.Scatter(\n",
    "                x=[line_of_scrimmage,line_of_scrimmage], \n",
    "                y=[0,53.5],\n",
    "                line_dash='dash',\n",
    "                line_color='blue',\n",
    "                showlegend=False,\n",
    "                hoverinfo='none'\n",
    "            )\n",
    "        )\n",
    "        # Add First down line \n",
    "        data.append(\n",
    "            go.Scatter(\n",
    "                x=[first_down_marker,first_down_marker], \n",
    "                y=[0,53.5],\n",
    "                line_dash='dash',\n",
    "                line_color='yellow',\n",
    "                showlegend=False,\n",
    "                hoverinfo='none'\n",
    "            )\n",
    "        )\n",
    "        # Plot Players\n",
    "        for team in selected_tracking_df.team.unique():\n",
    "            plot_df = selected_tracking_df[(selected_tracking_df.team==team)&(selected_tracking_df.frameId==frameId)].copy()\n",
    "            if team != \"football\":\n",
    "                hover_text_array=[]\n",
    "                for nflId in plot_df.nflId:\n",
    "                    selected_player_df = plot_df[plot_df.nflId==nflId]\n",
    "                    hover_text_array.append(\"nflId:{}<br>displayName:{}<br>Position:{}<br>Role:{}\".format(selected_player_df[\"nflId\"].values[0],\n",
    "                                                                                      selected_player_df[\"displayName\"].values[0],\n",
    "                                                                                      selected_player_df[\"pff_positionLinedUp\"].values[0],\n",
    "                                                                                      selected_player_df[\"pff_role\"].values[0]))\n",
    "                data.append(go.Scatter(x=plot_df[\"x\"], y=plot_df[\"y\"],mode = 'markers',marker_color=colors[team],name=team,hovertext=hover_text_array,hoverinfo=\"text\"))\n",
    "            else:\n",
    "                data.append(go.Scatter(x=plot_df[\"x\"], y=plot_df[\"y\"],mode = 'markers',marker_color=colors[team],name=team,hoverinfo='none'))\n",
    "        # add frame to slider\n",
    "        slider_step = {\"args\": [\n",
    "            [frameId],\n",
    "            {\"frame\": {\"duration\": 100, \"redraw\": False},\n",
    "             \"mode\": \"immediate\",\n",
    "             \"transition\": {\"duration\": 0}}\n",
    "        ],\n",
    "            \"label\": str(frameId),\n",
    "            \"method\": \"animate\"}\n",
    "        sliders_dict[\"steps\"].append(slider_step)\n",
    "        frames.append(go.Frame(data=data, name=str(frameId)))\n",
    "\n",
    "    scale=10\n",
    "    layout = go.Layout(\n",
    "        autosize=False,\n",
    "        width=120*scale,\n",
    "        height=60*scale,\n",
    "        xaxis=dict(range=[0, 120], autorange=False, tickmode='array',tickvals=np.arange(10, 111, 5).tolist(),showticklabels=False),\n",
    "        yaxis=dict(range=[0, 53.3], autorange=False,showgrid=False,showticklabels=False),\n",
    "\n",
    "        plot_bgcolor='#00B140',\n",
    "        # Create title and add play description at the bottom of the chart for better visual appeal\n",
    "        title=f\"GameId: {gameId}, PlayId: {playId}<br>{gameClock} {quarter}Q\"+\"<br>\"*19+f\"{playDescription}\",\n",
    "        updatemenus=updatemenus_dict,\n",
    "        sliders = [sliders_dict]\n",
    "    )\n",
    "\n",
    "    fig = go.Figure(\n",
    "        data=frames[0][\"data\"],\n",
    "        layout= layout,\n",
    "        frames=frames[1:]\n",
    "    )\n",
    "    # Create First Down Markers \n",
    "    for y_val in [0,53]:\n",
    "        fig.add_annotation(\n",
    "                x=first_down_marker,\n",
    "                y=y_val,\n",
    "                text=str(down),\n",
    "                showarrow=False,\n",
    "                font=dict(\n",
    "                    family=\"Courier New, monospace\",\n",
    "                    size=16,\n",
    "                    color=\"black\"\n",
    "                    ),\n",
    "                align=\"center\",\n",
    "                bordercolor=\"black\",\n",
    "                borderwidth=2,\n",
    "                borderpad=4,\n",
    "                bgcolor=\"#ff7f0e\",\n",
    "                opacity=1\n",
    "                )\n",
    "\n",
    "    return fig"
   ]
  },
  {
   "cell_type": "code",
   "execution_count": 4,
   "metadata": {},
   "outputs": [],
   "source": [
    "#Import Our Merged DataFrames\n",
    "ptrack = pd.read_csv(\"C:/Users/Peter/Python Scripts/Case Competitions/NFL Big Data Bowl 2023/merged_data/ptrack.csv\") #Player Tracking\n",
    "ptrack_qb_poss = pd.read_csv(\"C:/Users/Peter/Python Scripts/Case Competitions/NFL Big Data Bowl 2023/merged_data/ptrack_qb_poss.csv\") #Player Tracking Only On Frames Where QB The Target For Pass Rushers\n",
    "pbp = pd.read_csv(\"C:/Users/Peter/Python Scripts/Case Competitions/NFL Big Data Bowl 2023/merged_data/pbp.csv\") #Play-By-Play Data"
   ]
  },
  {
   "attachments": {},
   "cell_type": "markdown",
   "metadata": {},
   "source": [
    "<font size=\"5\">Check Out Individual Plays</font>"
   ]
  },
  {
   "cell_type": "code",
   "execution_count": 103,
   "metadata": {},
   "outputs": [
    {
     "data": {
      "application/vnd.plotly.v1+json": {
       "config": {
        "plotlyServerURL": "https://plot.ly"
       },
       "data": [
        {
         "hoverinfo": "none",
         "mode": "text",
         "showlegend": false,
         "text": [
          "10",
          "20",
          "30",
          "40",
          "50",
          "40",
          "30",
          "20",
          "10"
         ],
         "textfont": {
          "color": "#ffffff",
          "family": "Courier New, monospace",
          "size": 30
         },
         "type": "scatter",
         "x": [
          20,
          30,
          40,
          50,
          60,
          70,
          80,
          90,
          100
         ],
         "y": [
          5,
          5,
          5,
          5,
          5,
          5,
          5,
          5,
          5
         ]
        },
        {
         "hoverinfo": "none",
         "mode": "text",
         "showlegend": false,
         "text": [
          "10",
          "20",
          "30",
          "40",
          "50",
          "40",
          "30",
          "20",
          "10"
         ],
         "textfont": {
          "color": "#ffffff",
          "family": "Courier New, monospace",
          "size": 30
         },
         "type": "scatter",
         "x": [
          20,
          30,
          40,
          50,
          60,
          70,
          80,
          90,
          100
         ],
         "y": [
          48.5,
          48.5,
          48.5,
          48.5,
          48.5,
          48.5,
          48.5,
          48.5,
          48.5
         ]
        },
        {
         "hoverinfo": "none",
         "line": {
          "color": "blue",
          "dash": "dash"
         },
         "showlegend": false,
         "type": "scatter",
         "x": [
          18,
          18
         ],
         "y": [
          0,
          53.5
         ]
        },
        {
         "hoverinfo": "none",
         "line": {
          "color": "yellow",
          "dash": "dash"
         },
         "showlegend": false,
         "type": "scatter",
         "x": [
          26,
          26
         ],
         "y": [
          0,
          53.5
         ]
        },
        {
         "hoverinfo": "text",
         "hovertext": [
          "nflId:37317.0<br>displayName:Malcolm Smith<br>Position:MLB<br>Role:Coverage",
          "nflId:38667.0<br>displayName:Malik Jackson<br>Position:LE<br>Role:Pass Rush",
          "nflId:44813.0<br>displayName:Myles Garrett<br>Position:RE<br>Role:Pass Rush",
          "nflId:44838.0<br>displayName:Takkarist McKinley<br>Position:LOLB<br>Role:Pass Rush",
          "nflId:44847.0<br>displayName:Malik McDowell<br>Position:DRT<br>Role:Pass Rush",
          "nflId:44903.0<br>displayName:John Johnson<br>Position:FSL<br>Role:Coverage",
          "nflId:46073.0<br>displayName:Denzel Ward<br>Position:RLB<br>Role:Coverage",
          "nflId:47829.0<br>displayName:Greedy Williams<br>Position:LCB<br>Role:Coverage",
          "nflId:47863.0<br>displayName:Sione Takitaki<br>Position:RLB<br>Role:Coverage",
          "nflId:47938.0<br>displayName:Mack Wilson<br>Position:LLB<br>Role:Coverage",
          "nflId:52452.0<br>displayName:Grant Delpit<br>Position:SCBL<br>Role:Coverage"
         ],
         "marker": {
          "color": "#311D00"
         },
         "mode": "markers",
         "name": "CLE",
         "type": "scatter",
         "x": [
          12.72,
          16.71,
          16.89,
          17.03,
          17.02,
          7.1,
          15.52,
          12.07,
          13.76,
          13.2,
          12.62
         ],
         "y": [
          24.73,
          26.83,
          21.6,
          31.48,
          23.49,
          27.84,
          18.05,
          37.63,
          21.8,
          28.08,
          31.96
         ]
        },
        {
         "hoverinfo": "text",
         "hovertext": [
          "nflId:38632.0<br>displayName:Kirk Cousins<br>Position:QB<br>Role:Pass",
          "nflId:40488.0<br>displayName:Adam Thielen<br>Position:RWR<br>Role:Pass Route",
          "nflId:43640.0<br>displayName:Rashod Hill<br>Position:LT<br>Role:Pass Block",
          "nflId:44853.0<br>displayName:Dalvin Cook<br>Position:HB<br>Role:Pass Route",
          "nflId:46131.0<br>displayName:Brian O'Neill<br>Position:RT<br>Role:Pass Block",
          "nflId:46226.0<br>displayName:Tyler Conklin<br>Position:TE-R<br>Role:Pass Route",
          "nflId:47801.0<br>displayName:Garrett Bradbury<br>Position:C<br>Role:Pass Block",
          "nflId:47976.0<br>displayName:Olisaemeka Udoh<br>Position:RG<br>Role:Pass Block",
          "nflId:52430.0<br>displayName:Justin Jefferson<br>Position:SRWR<br>Role:Pass Route",
          "nflId:52466.0<br>displayName:Ezra Cleveland<br>Position:LG<br>Role:Pass Block",
          "nflId:52725.0<br>displayName:Ben Ellefson<br>Position:TE-L<br>Role:Pass Route"
         ],
         "marker": {
          "color": "#4F2683"
         },
         "mode": "markers",
         "name": "MIN",
         "type": "scatter",
         "x": [
          19.12,
          20.25,
          18.64,
          25.12,
          18.83,
          19.78,
          18.06,
          18.75,
          18.21,
          18.7,
          18.54
         ],
         "y": [
          24.4,
          33.03,
          21.57,
          24.07,
          27.4,
          29.41,
          24.29,
          25.67,
          32.96,
          22.98,
          19.9
         ]
        },
        {
         "hoverinfo": "none",
         "marker": {
          "color": "#CBB67C"
         },
         "mode": "markers",
         "name": "football",
         "type": "scatter",
         "x": [
          17.72
         ],
         "y": [
          24.26
         ]
        }
       ],
       "frames": [
        {
         "data": [
          {
           "hoverinfo": "none",
           "mode": "text",
           "showlegend": false,
           "text": [
            "10",
            "20",
            "30",
            "40",
            "50",
            "40",
            "30",
            "20",
            "10"
           ],
           "textfont": {
            "color": "#ffffff",
            "family": "Courier New, monospace",
            "size": 30
           },
           "type": "scatter",
           "x": [
            20,
            30,
            40,
            50,
            60,
            70,
            80,
            90,
            100
           ],
           "y": [
            5,
            5,
            5,
            5,
            5,
            5,
            5,
            5,
            5
           ]
          },
          {
           "hoverinfo": "none",
           "mode": "text",
           "showlegend": false,
           "text": [
            "10",
            "20",
            "30",
            "40",
            "50",
            "40",
            "30",
            "20",
            "10"
           ],
           "textfont": {
            "color": "#ffffff",
            "family": "Courier New, monospace",
            "size": 30
           },
           "type": "scatter",
           "x": [
            20,
            30,
            40,
            50,
            60,
            70,
            80,
            90,
            100
           ],
           "y": [
            48.5,
            48.5,
            48.5,
            48.5,
            48.5,
            48.5,
            48.5,
            48.5,
            48.5
           ]
          },
          {
           "hoverinfo": "none",
           "line": {
            "color": "blue",
            "dash": "dash"
           },
           "showlegend": false,
           "type": "scatter",
           "x": [
            18,
            18
           ],
           "y": [
            0,
            53.5
           ]
          },
          {
           "hoverinfo": "none",
           "line": {
            "color": "yellow",
            "dash": "dash"
           },
           "showlegend": false,
           "type": "scatter",
           "x": [
            26,
            26
           ],
           "y": [
            0,
            53.5
           ]
          },
          {
           "hoverinfo": "text",
           "hovertext": [
            "nflId:37317.0<br>displayName:Malcolm Smith<br>Position:MLB<br>Role:Coverage",
            "nflId:38667.0<br>displayName:Malik Jackson<br>Position:LE<br>Role:Pass Rush",
            "nflId:44813.0<br>displayName:Myles Garrett<br>Position:RE<br>Role:Pass Rush",
            "nflId:44838.0<br>displayName:Takkarist McKinley<br>Position:LOLB<br>Role:Pass Rush",
            "nflId:44847.0<br>displayName:Malik McDowell<br>Position:DRT<br>Role:Pass Rush",
            "nflId:44903.0<br>displayName:John Johnson<br>Position:FSL<br>Role:Coverage",
            "nflId:46073.0<br>displayName:Denzel Ward<br>Position:RLB<br>Role:Coverage",
            "nflId:47829.0<br>displayName:Greedy Williams<br>Position:LCB<br>Role:Coverage",
            "nflId:47863.0<br>displayName:Sione Takitaki<br>Position:RLB<br>Role:Coverage",
            "nflId:47938.0<br>displayName:Mack Wilson<br>Position:LLB<br>Role:Coverage",
            "nflId:52452.0<br>displayName:Grant Delpit<br>Position:SCBL<br>Role:Coverage"
           ],
           "marker": {
            "color": "#311D00"
           },
           "mode": "markers",
           "name": "CLE",
           "type": "scatter",
           "x": [
            12.71,
            16.73,
            16.89,
            17.03,
            17.02,
            7.07,
            15.55,
            11.99,
            13.7,
            13.21,
            12.66
           ],
           "y": [
            24.75,
            26.85,
            21.6,
            31.48,
            23.49,
            27.88,
            18.11,
            37.79,
            21.85,
            28.1,
            32.05
           ]
          },
          {
           "hoverinfo": "text",
           "hovertext": [
            "nflId:38632.0<br>displayName:Kirk Cousins<br>Position:QB<br>Role:Pass",
            "nflId:40488.0<br>displayName:Adam Thielen<br>Position:RWR<br>Role:Pass Route",
            "nflId:43640.0<br>displayName:Rashod Hill<br>Position:LT<br>Role:Pass Block",
            "nflId:44853.0<br>displayName:Dalvin Cook<br>Position:HB<br>Role:Pass Route",
            "nflId:46131.0<br>displayName:Brian O'Neill<br>Position:RT<br>Role:Pass Block",
            "nflId:46226.0<br>displayName:Tyler Conklin<br>Position:TE-R<br>Role:Pass Route",
            "nflId:47801.0<br>displayName:Garrett Bradbury<br>Position:C<br>Role:Pass Block",
            "nflId:47976.0<br>displayName:Olisaemeka Udoh<br>Position:RG<br>Role:Pass Block",
            "nflId:52430.0<br>displayName:Justin Jefferson<br>Position:SRWR<br>Role:Pass Route",
            "nflId:52466.0<br>displayName:Ezra Cleveland<br>Position:LG<br>Role:Pass Block",
            "nflId:52725.0<br>displayName:Ben Ellefson<br>Position:TE-L<br>Role:Pass Route"
           ],
           "marker": {
            "color": "#4F2683"
           },
           "mode": "markers",
           "name": "MIN",
           "type": "scatter",
           "x": [
            19.12,
            20.26,
            18.64,
            25.12,
            18.83,
            19.77,
            18.06,
            18.74,
            18.21,
            18.69,
            18.53
           ],
           "y": [
            24.39,
            33.39,
            21.57,
            24.07,
            27.4,
            29.42,
            24.29,
            25.66,
            32.97,
            22.98,
            19.89
           ]
          },
          {
           "hoverinfo": "none",
           "marker": {
            "color": "#CBB67C"
           },
           "mode": "markers",
           "name": "football",
           "type": "scatter",
           "x": [
            17.73
           ],
           "y": [
            24.26
           ]
          }
         ],
         "name": "2"
        },
        {
         "data": [
          {
           "hoverinfo": "none",
           "mode": "text",
           "showlegend": false,
           "text": [
            "10",
            "20",
            "30",
            "40",
            "50",
            "40",
            "30",
            "20",
            "10"
           ],
           "textfont": {
            "color": "#ffffff",
            "family": "Courier New, monospace",
            "size": 30
           },
           "type": "scatter",
           "x": [
            20,
            30,
            40,
            50,
            60,
            70,
            80,
            90,
            100
           ],
           "y": [
            5,
            5,
            5,
            5,
            5,
            5,
            5,
            5,
            5
           ]
          },
          {
           "hoverinfo": "none",
           "mode": "text",
           "showlegend": false,
           "text": [
            "10",
            "20",
            "30",
            "40",
            "50",
            "40",
            "30",
            "20",
            "10"
           ],
           "textfont": {
            "color": "#ffffff",
            "family": "Courier New, monospace",
            "size": 30
           },
           "type": "scatter",
           "x": [
            20,
            30,
            40,
            50,
            60,
            70,
            80,
            90,
            100
           ],
           "y": [
            48.5,
            48.5,
            48.5,
            48.5,
            48.5,
            48.5,
            48.5,
            48.5,
            48.5
           ]
          },
          {
           "hoverinfo": "none",
           "line": {
            "color": "blue",
            "dash": "dash"
           },
           "showlegend": false,
           "type": "scatter",
           "x": [
            18,
            18
           ],
           "y": [
            0,
            53.5
           ]
          },
          {
           "hoverinfo": "none",
           "line": {
            "color": "yellow",
            "dash": "dash"
           },
           "showlegend": false,
           "type": "scatter",
           "x": [
            26,
            26
           ],
           "y": [
            0,
            53.5
           ]
          },
          {
           "hoverinfo": "text",
           "hovertext": [
            "nflId:37317.0<br>displayName:Malcolm Smith<br>Position:MLB<br>Role:Coverage",
            "nflId:38667.0<br>displayName:Malik Jackson<br>Position:LE<br>Role:Pass Rush",
            "nflId:44813.0<br>displayName:Myles Garrett<br>Position:RE<br>Role:Pass Rush",
            "nflId:44838.0<br>displayName:Takkarist McKinley<br>Position:LOLB<br>Role:Pass Rush",
            "nflId:44847.0<br>displayName:Malik McDowell<br>Position:DRT<br>Role:Pass Rush",
            "nflId:44903.0<br>displayName:John Johnson<br>Position:FSL<br>Role:Coverage",
            "nflId:46073.0<br>displayName:Denzel Ward<br>Position:RLB<br>Role:Coverage",
            "nflId:47829.0<br>displayName:Greedy Williams<br>Position:LCB<br>Role:Coverage",
            "nflId:47863.0<br>displayName:Sione Takitaki<br>Position:RLB<br>Role:Coverage",
            "nflId:47938.0<br>displayName:Mack Wilson<br>Position:LLB<br>Role:Coverage",
            "nflId:52452.0<br>displayName:Grant Delpit<br>Position:SCBL<br>Role:Coverage"
           ],
           "marker": {
            "color": "#311D00"
           },
           "mode": "markers",
           "name": "CLE",
           "type": "scatter",
           "x": [
            12.66,
            16.73,
            16.89,
            17.03,
            17.03,
            7.05,
            15.58,
            11.91,
            13.63,
            13.23,
            12.71
           ],
           "y": [
            24.76,
            26.86,
            21.61,
            31.47,
            23.5,
            27.91,
            18.16,
            37.94,
            21.9,
            28.12,
            32.13
           ]
          },
          {
           "hoverinfo": "text",
           "hovertext": [
            "nflId:38632.0<br>displayName:Kirk Cousins<br>Position:QB<br>Role:Pass",
            "nflId:40488.0<br>displayName:Adam Thielen<br>Position:RWR<br>Role:Pass Route",
            "nflId:43640.0<br>displayName:Rashod Hill<br>Position:LT<br>Role:Pass Block",
            "nflId:44853.0<br>displayName:Dalvin Cook<br>Position:HB<br>Role:Pass Route",
            "nflId:46131.0<br>displayName:Brian O'Neill<br>Position:RT<br>Role:Pass Block",
            "nflId:46226.0<br>displayName:Tyler Conklin<br>Position:TE-R<br>Role:Pass Route",
            "nflId:47801.0<br>displayName:Garrett Bradbury<br>Position:C<br>Role:Pass Block",
            "nflId:47976.0<br>displayName:Olisaemeka Udoh<br>Position:RG<br>Role:Pass Block",
            "nflId:52430.0<br>displayName:Justin Jefferson<br>Position:SRWR<br>Role:Pass Route",
            "nflId:52466.0<br>displayName:Ezra Cleveland<br>Position:LG<br>Role:Pass Block",
            "nflId:52725.0<br>displayName:Ben Ellefson<br>Position:TE-L<br>Role:Pass Route"
           ],
           "marker": {
            "color": "#4F2683"
           },
           "mode": "markers",
           "name": "MIN",
           "type": "scatter",
           "x": [
            19.12,
            20.29,
            18.65,
            25.12,
            18.83,
            19.77,
            18.06,
            18.75,
            18.21,
            18.69,
            18.53
           ],
           "y": [
            24.39,
            33.8,
            21.57,
            24.07,
            27.4,
            29.41,
            24.29,
            25.7,
            32.97,
            22.98,
            19.89
           ]
          },
          {
           "hoverinfo": "none",
           "marker": {
            "color": "#CBB67C"
           },
           "mode": "markers",
           "name": "football",
           "type": "scatter",
           "x": [
            17.75
           ],
           "y": [
            24.26
           ]
          }
         ],
         "name": "3"
        },
        {
         "data": [
          {
           "hoverinfo": "none",
           "mode": "text",
           "showlegend": false,
           "text": [
            "10",
            "20",
            "30",
            "40",
            "50",
            "40",
            "30",
            "20",
            "10"
           ],
           "textfont": {
            "color": "#ffffff",
            "family": "Courier New, monospace",
            "size": 30
           },
           "type": "scatter",
           "x": [
            20,
            30,
            40,
            50,
            60,
            70,
            80,
            90,
            100
           ],
           "y": [
            5,
            5,
            5,
            5,
            5,
            5,
            5,
            5,
            5
           ]
          },
          {
           "hoverinfo": "none",
           "mode": "text",
           "showlegend": false,
           "text": [
            "10",
            "20",
            "30",
            "40",
            "50",
            "40",
            "30",
            "20",
            "10"
           ],
           "textfont": {
            "color": "#ffffff",
            "family": "Courier New, monospace",
            "size": 30
           },
           "type": "scatter",
           "x": [
            20,
            30,
            40,
            50,
            60,
            70,
            80,
            90,
            100
           ],
           "y": [
            48.5,
            48.5,
            48.5,
            48.5,
            48.5,
            48.5,
            48.5,
            48.5,
            48.5
           ]
          },
          {
           "hoverinfo": "none",
           "line": {
            "color": "blue",
            "dash": "dash"
           },
           "showlegend": false,
           "type": "scatter",
           "x": [
            18,
            18
           ],
           "y": [
            0,
            53.5
           ]
          },
          {
           "hoverinfo": "none",
           "line": {
            "color": "yellow",
            "dash": "dash"
           },
           "showlegend": false,
           "type": "scatter",
           "x": [
            26,
            26
           ],
           "y": [
            0,
            53.5
           ]
          },
          {
           "hoverinfo": "text",
           "hovertext": [
            "nflId:37317.0<br>displayName:Malcolm Smith<br>Position:MLB<br>Role:Coverage",
            "nflId:38667.0<br>displayName:Malik Jackson<br>Position:LE<br>Role:Pass Rush",
            "nflId:44813.0<br>displayName:Myles Garrett<br>Position:RE<br>Role:Pass Rush",
            "nflId:44838.0<br>displayName:Takkarist McKinley<br>Position:LOLB<br>Role:Pass Rush",
            "nflId:44847.0<br>displayName:Malik McDowell<br>Position:DRT<br>Role:Pass Rush",
            "nflId:44903.0<br>displayName:John Johnson<br>Position:FSL<br>Role:Coverage",
            "nflId:46073.0<br>displayName:Denzel Ward<br>Position:RLB<br>Role:Coverage",
            "nflId:47829.0<br>displayName:Greedy Williams<br>Position:LCB<br>Role:Coverage",
            "nflId:47863.0<br>displayName:Sione Takitaki<br>Position:RLB<br>Role:Coverage",
            "nflId:47938.0<br>displayName:Mack Wilson<br>Position:LLB<br>Role:Coverage",
            "nflId:52452.0<br>displayName:Grant Delpit<br>Position:SCBL<br>Role:Coverage"
           ],
           "marker": {
            "color": "#311D00"
           },
           "mode": "markers",
           "name": "CLE",
           "type": "scatter",
           "x": [
            12.61,
            16.76,
            16.92,
            17.05,
            17.06,
            7.04,
            15.62,
            11.83,
            13.57,
            13.26,
            12.75
           ],
           "y": [
            24.77,
            26.89,
            21.6,
            31.47,
            23.5,
            27.96,
            18.2,
            38.09,
            21.94,
            28.13,
            32.21
           ]
          },
          {
           "hoverinfo": "text",
           "hovertext": [
            "nflId:38632.0<br>displayName:Kirk Cousins<br>Position:QB<br>Role:Pass",
            "nflId:40488.0<br>displayName:Adam Thielen<br>Position:RWR<br>Role:Pass Route",
            "nflId:43640.0<br>displayName:Rashod Hill<br>Position:LT<br>Role:Pass Block",
            "nflId:44853.0<br>displayName:Dalvin Cook<br>Position:HB<br>Role:Pass Route",
            "nflId:46131.0<br>displayName:Brian O'Neill<br>Position:RT<br>Role:Pass Block",
            "nflId:46226.0<br>displayName:Tyler Conklin<br>Position:TE-R<br>Role:Pass Route",
            "nflId:47801.0<br>displayName:Garrett Bradbury<br>Position:C<br>Role:Pass Block",
            "nflId:47976.0<br>displayName:Olisaemeka Udoh<br>Position:RG<br>Role:Pass Block",
            "nflId:52430.0<br>displayName:Justin Jefferson<br>Position:SRWR<br>Role:Pass Route",
            "nflId:52466.0<br>displayName:Ezra Cleveland<br>Position:LG<br>Role:Pass Block",
            "nflId:52725.0<br>displayName:Ben Ellefson<br>Position:TE-L<br>Role:Pass Route"
           ],
           "marker": {
            "color": "#4F2683"
           },
           "mode": "markers",
           "name": "MIN",
           "type": "scatter",
           "x": [
            19.12,
            20.28,
            18.65,
            25.12,
            18.84,
            19.77,
            18.06,
            18.76,
            18.21,
            18.69,
            18.53
           ],
           "y": [
            24.39,
            34.24,
            21.56,
            24.07,
            27.41,
            29.41,
            24.29,
            25.71,
            32.97,
            22.99,
            19.89
           ]
          },
          {
           "hoverinfo": "none",
           "marker": {
            "color": "#CBB67C"
           },
           "mode": "markers",
           "name": "football",
           "type": "scatter",
           "x": [
            17.75
           ],
           "y": [
            24.26
           ]
          }
         ],
         "name": "4"
        },
        {
         "data": [
          {
           "hoverinfo": "none",
           "mode": "text",
           "showlegend": false,
           "text": [
            "10",
            "20",
            "30",
            "40",
            "50",
            "40",
            "30",
            "20",
            "10"
           ],
           "textfont": {
            "color": "#ffffff",
            "family": "Courier New, monospace",
            "size": 30
           },
           "type": "scatter",
           "x": [
            20,
            30,
            40,
            50,
            60,
            70,
            80,
            90,
            100
           ],
           "y": [
            5,
            5,
            5,
            5,
            5,
            5,
            5,
            5,
            5
           ]
          },
          {
           "hoverinfo": "none",
           "mode": "text",
           "showlegend": false,
           "text": [
            "10",
            "20",
            "30",
            "40",
            "50",
            "40",
            "30",
            "20",
            "10"
           ],
           "textfont": {
            "color": "#ffffff",
            "family": "Courier New, monospace",
            "size": 30
           },
           "type": "scatter",
           "x": [
            20,
            30,
            40,
            50,
            60,
            70,
            80,
            90,
            100
           ],
           "y": [
            48.5,
            48.5,
            48.5,
            48.5,
            48.5,
            48.5,
            48.5,
            48.5,
            48.5
           ]
          },
          {
           "hoverinfo": "none",
           "line": {
            "color": "blue",
            "dash": "dash"
           },
           "showlegend": false,
           "type": "scatter",
           "x": [
            18,
            18
           ],
           "y": [
            0,
            53.5
           ]
          },
          {
           "hoverinfo": "none",
           "line": {
            "color": "yellow",
            "dash": "dash"
           },
           "showlegend": false,
           "type": "scatter",
           "x": [
            26,
            26
           ],
           "y": [
            0,
            53.5
           ]
          },
          {
           "hoverinfo": "text",
           "hovertext": [
            "nflId:37317.0<br>displayName:Malcolm Smith<br>Position:MLB<br>Role:Coverage",
            "nflId:38667.0<br>displayName:Malik Jackson<br>Position:LE<br>Role:Pass Rush",
            "nflId:44813.0<br>displayName:Myles Garrett<br>Position:RE<br>Role:Pass Rush",
            "nflId:44838.0<br>displayName:Takkarist McKinley<br>Position:LOLB<br>Role:Pass Rush",
            "nflId:44847.0<br>displayName:Malik McDowell<br>Position:DRT<br>Role:Pass Rush",
            "nflId:44903.0<br>displayName:John Johnson<br>Position:FSL<br>Role:Coverage",
            "nflId:46073.0<br>displayName:Denzel Ward<br>Position:RLB<br>Role:Coverage",
            "nflId:47829.0<br>displayName:Greedy Williams<br>Position:LCB<br>Role:Coverage",
            "nflId:47863.0<br>displayName:Sione Takitaki<br>Position:RLB<br>Role:Coverage",
            "nflId:47938.0<br>displayName:Mack Wilson<br>Position:LLB<br>Role:Coverage",
            "nflId:52452.0<br>displayName:Grant Delpit<br>Position:SCBL<br>Role:Coverage"
           ],
           "marker": {
            "color": "#311D00"
           },
           "mode": "markers",
           "name": "CLE",
           "type": "scatter",
           "x": [
            12.59,
            16.82,
            16.96,
            17.06,
            17.1,
            7.02,
            15.65,
            11.75,
            13.51,
            13.28,
            12.8
           ],
           "y": [
            24.76,
            26.92,
            21.61,
            31.46,
            23.5,
            28.01,
            18.24,
            38.22,
            21.98,
            28.12,
            32.29
           ]
          },
          {
           "hoverinfo": "text",
           "hovertext": [
            "nflId:38632.0<br>displayName:Kirk Cousins<br>Position:QB<br>Role:Pass",
            "nflId:40488.0<br>displayName:Adam Thielen<br>Position:RWR<br>Role:Pass Route",
            "nflId:43640.0<br>displayName:Rashod Hill<br>Position:LT<br>Role:Pass Block",
            "nflId:44853.0<br>displayName:Dalvin Cook<br>Position:HB<br>Role:Pass Route",
            "nflId:46131.0<br>displayName:Brian O'Neill<br>Position:RT<br>Role:Pass Block",
            "nflId:46226.0<br>displayName:Tyler Conklin<br>Position:TE-R<br>Role:Pass Route",
            "nflId:47801.0<br>displayName:Garrett Bradbury<br>Position:C<br>Role:Pass Block",
            "nflId:47976.0<br>displayName:Olisaemeka Udoh<br>Position:RG<br>Role:Pass Block",
            "nflId:52430.0<br>displayName:Justin Jefferson<br>Position:SRWR<br>Role:Pass Route",
            "nflId:52466.0<br>displayName:Ezra Cleveland<br>Position:LG<br>Role:Pass Block",
            "nflId:52725.0<br>displayName:Ben Ellefson<br>Position:TE-L<br>Role:Pass Route"
           ],
           "marker": {
            "color": "#4F2683"
           },
           "mode": "markers",
           "name": "MIN",
           "type": "scatter",
           "x": [
            19.13,
            20.24,
            18.64,
            25.12,
            18.85,
            19.77,
            18.06,
            18.79,
            18.21,
            18.69,
            18.52
           ],
           "y": [
            24.38,
            34.69,
            21.56,
            24.07,
            27.41,
            29.41,
            24.29,
            25.74,
            32.97,
            22.99,
            19.88
           ]
          },
          {
           "hoverinfo": "none",
           "marker": {
            "color": "#CBB67C"
           },
           "mode": "markers",
           "name": "football",
           "type": "scatter",
           "x": [
            17.75
           ],
           "y": [
            24.26
           ]
          }
         ],
         "name": "5"
        },
        {
         "data": [
          {
           "hoverinfo": "none",
           "mode": "text",
           "showlegend": false,
           "text": [
            "10",
            "20",
            "30",
            "40",
            "50",
            "40",
            "30",
            "20",
            "10"
           ],
           "textfont": {
            "color": "#ffffff",
            "family": "Courier New, monospace",
            "size": 30
           },
           "type": "scatter",
           "x": [
            20,
            30,
            40,
            50,
            60,
            70,
            80,
            90,
            100
           ],
           "y": [
            5,
            5,
            5,
            5,
            5,
            5,
            5,
            5,
            5
           ]
          },
          {
           "hoverinfo": "none",
           "mode": "text",
           "showlegend": false,
           "text": [
            "10",
            "20",
            "30",
            "40",
            "50",
            "40",
            "30",
            "20",
            "10"
           ],
           "textfont": {
            "color": "#ffffff",
            "family": "Courier New, monospace",
            "size": 30
           },
           "type": "scatter",
           "x": [
            20,
            30,
            40,
            50,
            60,
            70,
            80,
            90,
            100
           ],
           "y": [
            48.5,
            48.5,
            48.5,
            48.5,
            48.5,
            48.5,
            48.5,
            48.5,
            48.5
           ]
          },
          {
           "hoverinfo": "none",
           "line": {
            "color": "blue",
            "dash": "dash"
           },
           "showlegend": false,
           "type": "scatter",
           "x": [
            18,
            18
           ],
           "y": [
            0,
            53.5
           ]
          },
          {
           "hoverinfo": "none",
           "line": {
            "color": "yellow",
            "dash": "dash"
           },
           "showlegend": false,
           "type": "scatter",
           "x": [
            26,
            26
           ],
           "y": [
            0,
            53.5
           ]
          },
          {
           "hoverinfo": "text",
           "hovertext": [
            "nflId:37317.0<br>displayName:Malcolm Smith<br>Position:MLB<br>Role:Coverage",
            "nflId:38667.0<br>displayName:Malik Jackson<br>Position:LE<br>Role:Pass Rush",
            "nflId:44813.0<br>displayName:Myles Garrett<br>Position:RE<br>Role:Pass Rush",
            "nflId:44838.0<br>displayName:Takkarist McKinley<br>Position:LOLB<br>Role:Pass Rush",
            "nflId:44847.0<br>displayName:Malik McDowell<br>Position:DRT<br>Role:Pass Rush",
            "nflId:44903.0<br>displayName:John Johnson<br>Position:FSL<br>Role:Coverage",
            "nflId:46073.0<br>displayName:Denzel Ward<br>Position:RLB<br>Role:Coverage",
            "nflId:47829.0<br>displayName:Greedy Williams<br>Position:LCB<br>Role:Coverage",
            "nflId:47863.0<br>displayName:Sione Takitaki<br>Position:RLB<br>Role:Coverage",
            "nflId:47938.0<br>displayName:Mack Wilson<br>Position:LLB<br>Role:Coverage",
            "nflId:52452.0<br>displayName:Grant Delpit<br>Position:SCBL<br>Role:Coverage"
           ],
           "marker": {
            "color": "#311D00"
           },
           "mode": "markers",
           "name": "CLE",
           "type": "scatter",
           "x": [
            12.55,
            16.89,
            17.03,
            17.09,
            17.18,
            7.01,
            15.69,
            11.67,
            13.48,
            13.3,
            12.85
           ],
           "y": [
            24.78,
            26.93,
            21.63,
            31.45,
            23.5,
            28.05,
            18.27,
            38.34,
            22,
            28.11,
            32.37
           ]
          },
          {
           "hoverinfo": "text",
           "hovertext": [
            "nflId:38632.0<br>displayName:Kirk Cousins<br>Position:QB<br>Role:Pass",
            "nflId:40488.0<br>displayName:Adam Thielen<br>Position:RWR<br>Role:Pass Route",
            "nflId:43640.0<br>displayName:Rashod Hill<br>Position:LT<br>Role:Pass Block",
            "nflId:44853.0<br>displayName:Dalvin Cook<br>Position:HB<br>Role:Pass Route",
            "nflId:46131.0<br>displayName:Brian O'Neill<br>Position:RT<br>Role:Pass Block",
            "nflId:46226.0<br>displayName:Tyler Conklin<br>Position:TE-R<br>Role:Pass Route",
            "nflId:47801.0<br>displayName:Garrett Bradbury<br>Position:C<br>Role:Pass Block",
            "nflId:47976.0<br>displayName:Olisaemeka Udoh<br>Position:RG<br>Role:Pass Block",
            "nflId:52430.0<br>displayName:Justin Jefferson<br>Position:SRWR<br>Role:Pass Route",
            "nflId:52466.0<br>displayName:Ezra Cleveland<br>Position:LG<br>Role:Pass Block",
            "nflId:52725.0<br>displayName:Ben Ellefson<br>Position:TE-L<br>Role:Pass Route"
           ],
           "marker": {
            "color": "#4F2683"
           },
           "mode": "markers",
           "name": "MIN",
           "type": "scatter",
           "x": [
            19.14,
            20.15,
            18.64,
            25.12,
            18.86,
            19.77,
            18.07,
            18.81,
            18.2,
            18.69,
            18.5
           ],
           "y": [
            24.37,
            35.11,
            21.57,
            24.06,
            27.43,
            29.41,
            24.3,
            25.77,
            32.97,
            23,
            19.87
           ]
          },
          {
           "hoverinfo": "none",
           "marker": {
            "color": "#CBB67C"
           },
           "mode": "markers",
           "name": "football",
           "type": "scatter",
           "x": [
            17.76
           ],
           "y": [
            24.26
           ]
          }
         ],
         "name": "6"
        },
        {
         "data": [
          {
           "hoverinfo": "none",
           "mode": "text",
           "showlegend": false,
           "text": [
            "10",
            "20",
            "30",
            "40",
            "50",
            "40",
            "30",
            "20",
            "10"
           ],
           "textfont": {
            "color": "#ffffff",
            "family": "Courier New, monospace",
            "size": 30
           },
           "type": "scatter",
           "x": [
            20,
            30,
            40,
            50,
            60,
            70,
            80,
            90,
            100
           ],
           "y": [
            5,
            5,
            5,
            5,
            5,
            5,
            5,
            5,
            5
           ]
          },
          {
           "hoverinfo": "none",
           "mode": "text",
           "showlegend": false,
           "text": [
            "10",
            "20",
            "30",
            "40",
            "50",
            "40",
            "30",
            "20",
            "10"
           ],
           "textfont": {
            "color": "#ffffff",
            "family": "Courier New, monospace",
            "size": 30
           },
           "type": "scatter",
           "x": [
            20,
            30,
            40,
            50,
            60,
            70,
            80,
            90,
            100
           ],
           "y": [
            48.5,
            48.5,
            48.5,
            48.5,
            48.5,
            48.5,
            48.5,
            48.5,
            48.5
           ]
          },
          {
           "hoverinfo": "none",
           "line": {
            "color": "blue",
            "dash": "dash"
           },
           "showlegend": false,
           "type": "scatter",
           "x": [
            18,
            18
           ],
           "y": [
            0,
            53.5
           ]
          },
          {
           "hoverinfo": "none",
           "line": {
            "color": "yellow",
            "dash": "dash"
           },
           "showlegend": false,
           "type": "scatter",
           "x": [
            26,
            26
           ],
           "y": [
            0,
            53.5
           ]
          },
          {
           "hoverinfo": "text",
           "hovertext": [
            "nflId:37317.0<br>displayName:Malcolm Smith<br>Position:MLB<br>Role:Coverage",
            "nflId:38667.0<br>displayName:Malik Jackson<br>Position:LE<br>Role:Pass Rush",
            "nflId:44813.0<br>displayName:Myles Garrett<br>Position:RE<br>Role:Pass Rush",
            "nflId:44838.0<br>displayName:Takkarist McKinley<br>Position:LOLB<br>Role:Pass Rush",
            "nflId:44847.0<br>displayName:Malik McDowell<br>Position:DRT<br>Role:Pass Rush",
            "nflId:44903.0<br>displayName:John Johnson<br>Position:FSL<br>Role:Coverage",
            "nflId:46073.0<br>displayName:Denzel Ward<br>Position:RLB<br>Role:Coverage",
            "nflId:47829.0<br>displayName:Greedy Williams<br>Position:LCB<br>Role:Coverage",
            "nflId:47863.0<br>displayName:Sione Takitaki<br>Position:RLB<br>Role:Coverage",
            "nflId:47938.0<br>displayName:Mack Wilson<br>Position:LLB<br>Role:Coverage",
            "nflId:52452.0<br>displayName:Grant Delpit<br>Position:SCBL<br>Role:Coverage"
           ],
           "marker": {
            "color": "#311D00"
           },
           "mode": "markers",
           "name": "CLE",
           "type": "scatter",
           "x": [
            12.51,
            16.96,
            17.09,
            17.15,
            17.28,
            7.01,
            15.71,
            11.6,
            13.46,
            13.32,
            12.89
           ],
           "y": [
            24.77,
            26.94,
            21.65,
            31.43,
            23.5,
            28.11,
            18.31,
            38.46,
            22.01,
            28.1,
            32.46
           ]
          },
          {
           "hoverinfo": "text",
           "hovertext": [
            "nflId:38632.0<br>displayName:Kirk Cousins<br>Position:QB<br>Role:Pass",
            "nflId:40488.0<br>displayName:Adam Thielen<br>Position:RWR<br>Role:Pass Route",
            "nflId:43640.0<br>displayName:Rashod Hill<br>Position:LT<br>Role:Pass Block",
            "nflId:44853.0<br>displayName:Dalvin Cook<br>Position:HB<br>Role:Pass Route",
            "nflId:46131.0<br>displayName:Brian O'Neill<br>Position:RT<br>Role:Pass Block",
            "nflId:46226.0<br>displayName:Tyler Conklin<br>Position:TE-R<br>Role:Pass Route",
            "nflId:47801.0<br>displayName:Garrett Bradbury<br>Position:C<br>Role:Pass Block",
            "nflId:47976.0<br>displayName:Olisaemeka Udoh<br>Position:RG<br>Role:Pass Block",
            "nflId:52430.0<br>displayName:Justin Jefferson<br>Position:SRWR<br>Role:Pass Route",
            "nflId:52466.0<br>displayName:Ezra Cleveland<br>Position:LG<br>Role:Pass Block",
            "nflId:52725.0<br>displayName:Ben Ellefson<br>Position:TE-L<br>Role:Pass Route"
           ],
           "marker": {
            "color": "#4F2683"
           },
           "mode": "markers",
           "name": "MIN",
           "type": "scatter",
           "x": [
            19.16,
            20.04,
            18.64,
            25.12,
            18.88,
            19.76,
            18.08,
            18.85,
            18.2,
            18.7,
            18.48
           ],
           "y": [
            24.37,
            35.51,
            21.57,
            24.06,
            27.46,
            29.42,
            24.32,
            25.82,
            32.97,
            23.01,
            19.85
           ]
          },
          {
           "hoverinfo": "none",
           "marker": {
            "color": "#CBB67C"
           },
           "mode": "markers",
           "name": "football",
           "type": "scatter",
           "x": [
            17.78
           ],
           "y": [
            24.26
           ]
          }
         ],
         "name": "7"
        },
        {
         "data": [
          {
           "hoverinfo": "none",
           "mode": "text",
           "showlegend": false,
           "text": [
            "10",
            "20",
            "30",
            "40",
            "50",
            "40",
            "30",
            "20",
            "10"
           ],
           "textfont": {
            "color": "#ffffff",
            "family": "Courier New, monospace",
            "size": 30
           },
           "type": "scatter",
           "x": [
            20,
            30,
            40,
            50,
            60,
            70,
            80,
            90,
            100
           ],
           "y": [
            5,
            5,
            5,
            5,
            5,
            5,
            5,
            5,
            5
           ]
          },
          {
           "hoverinfo": "none",
           "mode": "text",
           "showlegend": false,
           "text": [
            "10",
            "20",
            "30",
            "40",
            "50",
            "40",
            "30",
            "20",
            "10"
           ],
           "textfont": {
            "color": "#ffffff",
            "family": "Courier New, monospace",
            "size": 30
           },
           "type": "scatter",
           "x": [
            20,
            30,
            40,
            50,
            60,
            70,
            80,
            90,
            100
           ],
           "y": [
            48.5,
            48.5,
            48.5,
            48.5,
            48.5,
            48.5,
            48.5,
            48.5,
            48.5
           ]
          },
          {
           "hoverinfo": "none",
           "line": {
            "color": "blue",
            "dash": "dash"
           },
           "showlegend": false,
           "type": "scatter",
           "x": [
            18,
            18
           ],
           "y": [
            0,
            53.5
           ]
          },
          {
           "hoverinfo": "none",
           "line": {
            "color": "yellow",
            "dash": "dash"
           },
           "showlegend": false,
           "type": "scatter",
           "x": [
            26,
            26
           ],
           "y": [
            0,
            53.5
           ]
          },
          {
           "hoverinfo": "text",
           "hovertext": [
            "nflId:37317.0<br>displayName:Malcolm Smith<br>Position:MLB<br>Role:Coverage",
            "nflId:38667.0<br>displayName:Malik Jackson<br>Position:LE<br>Role:Pass Rush",
            "nflId:44813.0<br>displayName:Myles Garrett<br>Position:RE<br>Role:Pass Rush",
            "nflId:44838.0<br>displayName:Takkarist McKinley<br>Position:LOLB<br>Role:Pass Rush",
            "nflId:44847.0<br>displayName:Malik McDowell<br>Position:DRT<br>Role:Pass Rush",
            "nflId:44903.0<br>displayName:John Johnson<br>Position:FSL<br>Role:Coverage",
            "nflId:46073.0<br>displayName:Denzel Ward<br>Position:RLB<br>Role:Coverage",
            "nflId:47829.0<br>displayName:Greedy Williams<br>Position:LCB<br>Role:Coverage",
            "nflId:47863.0<br>displayName:Sione Takitaki<br>Position:RLB<br>Role:Coverage",
            "nflId:47938.0<br>displayName:Mack Wilson<br>Position:LLB<br>Role:Coverage",
            "nflId:52452.0<br>displayName:Grant Delpit<br>Position:SCBL<br>Role:Coverage"
           ],
           "marker": {
            "color": "#311D00"
           },
           "mode": "markers",
           "name": "CLE",
           "type": "scatter",
           "x": [
            12.47,
            17.06,
            17.17,
            17.26,
            17.41,
            7,
            15.72,
            11.52,
            13.44,
            13.33,
            12.93
           ],
           "y": [
            24.77,
            26.97,
            21.69,
            31.39,
            23.51,
            28.16,
            18.33,
            38.55,
            22.04,
            28.09,
            32.58
           ]
          },
          {
           "hoverinfo": "text",
           "hovertext": [
            "nflId:38632.0<br>displayName:Kirk Cousins<br>Position:QB<br>Role:Pass",
            "nflId:40488.0<br>displayName:Adam Thielen<br>Position:RWR<br>Role:Pass Route",
            "nflId:43640.0<br>displayName:Rashod Hill<br>Position:LT<br>Role:Pass Block",
            "nflId:44853.0<br>displayName:Dalvin Cook<br>Position:HB<br>Role:Pass Route",
            "nflId:46131.0<br>displayName:Brian O'Neill<br>Position:RT<br>Role:Pass Block",
            "nflId:46226.0<br>displayName:Tyler Conklin<br>Position:TE-R<br>Role:Pass Route",
            "nflId:47801.0<br>displayName:Garrett Bradbury<br>Position:C<br>Role:Pass Block",
            "nflId:47976.0<br>displayName:Olisaemeka Udoh<br>Position:RG<br>Role:Pass Block",
            "nflId:52430.0<br>displayName:Justin Jefferson<br>Position:SRWR<br>Role:Pass Route",
            "nflId:52466.0<br>displayName:Ezra Cleveland<br>Position:LG<br>Role:Pass Block",
            "nflId:52725.0<br>displayName:Ben Ellefson<br>Position:TE-L<br>Role:Pass Route"
           ],
           "marker": {
            "color": "#4F2683"
           },
           "mode": "markers",
           "name": "MIN",
           "type": "scatter",
           "x": [
            19.17,
            19.9,
            18.63,
            25.12,
            18.93,
            19.74,
            18.11,
            18.89,
            18.18,
            18.71,
            18.48
           ],
           "y": [
            24.37,
            35.9,
            21.59,
            24.05,
            27.52,
            29.43,
            24.34,
            25.88,
            32.96,
            23.04,
            19.85
           ]
          },
          {
           "hoverinfo": "none",
           "marker": {
            "color": "#CBB67C"
           },
           "mode": "markers",
           "name": "football",
           "type": "scatter",
           "x": [
            17.79
           ],
           "y": [
            24.26
           ]
          }
         ],
         "name": "8"
        },
        {
         "data": [
          {
           "hoverinfo": "none",
           "mode": "text",
           "showlegend": false,
           "text": [
            "10",
            "20",
            "30",
            "40",
            "50",
            "40",
            "30",
            "20",
            "10"
           ],
           "textfont": {
            "color": "#ffffff",
            "family": "Courier New, monospace",
            "size": 30
           },
           "type": "scatter",
           "x": [
            20,
            30,
            40,
            50,
            60,
            70,
            80,
            90,
            100
           ],
           "y": [
            5,
            5,
            5,
            5,
            5,
            5,
            5,
            5,
            5
           ]
          },
          {
           "hoverinfo": "none",
           "mode": "text",
           "showlegend": false,
           "text": [
            "10",
            "20",
            "30",
            "40",
            "50",
            "40",
            "30",
            "20",
            "10"
           ],
           "textfont": {
            "color": "#ffffff",
            "family": "Courier New, monospace",
            "size": 30
           },
           "type": "scatter",
           "x": [
            20,
            30,
            40,
            50,
            60,
            70,
            80,
            90,
            100
           ],
           "y": [
            48.5,
            48.5,
            48.5,
            48.5,
            48.5,
            48.5,
            48.5,
            48.5,
            48.5
           ]
          },
          {
           "hoverinfo": "none",
           "line": {
            "color": "blue",
            "dash": "dash"
           },
           "showlegend": false,
           "type": "scatter",
           "x": [
            18,
            18
           ],
           "y": [
            0,
            53.5
           ]
          },
          {
           "hoverinfo": "none",
           "line": {
            "color": "yellow",
            "dash": "dash"
           },
           "showlegend": false,
           "type": "scatter",
           "x": [
            26,
            26
           ],
           "y": [
            0,
            53.5
           ]
          },
          {
           "hoverinfo": "text",
           "hovertext": [
            "nflId:37317.0<br>displayName:Malcolm Smith<br>Position:MLB<br>Role:Coverage",
            "nflId:38667.0<br>displayName:Malik Jackson<br>Position:LE<br>Role:Pass Rush",
            "nflId:44813.0<br>displayName:Myles Garrett<br>Position:RE<br>Role:Pass Rush",
            "nflId:44838.0<br>displayName:Takkarist McKinley<br>Position:LOLB<br>Role:Pass Rush",
            "nflId:44847.0<br>displayName:Malik McDowell<br>Position:DRT<br>Role:Pass Rush",
            "nflId:44903.0<br>displayName:John Johnson<br>Position:FSL<br>Role:Coverage",
            "nflId:46073.0<br>displayName:Denzel Ward<br>Position:RLB<br>Role:Coverage",
            "nflId:47829.0<br>displayName:Greedy Williams<br>Position:LCB<br>Role:Coverage",
            "nflId:47863.0<br>displayName:Sione Takitaki<br>Position:RLB<br>Role:Coverage",
            "nflId:47938.0<br>displayName:Mack Wilson<br>Position:LLB<br>Role:Coverage",
            "nflId:52452.0<br>displayName:Grant Delpit<br>Position:SCBL<br>Role:Coverage"
           ],
           "marker": {
            "color": "#311D00"
           },
           "mode": "markers",
           "name": "CLE",
           "type": "scatter",
           "x": [
            12.44,
            17.19,
            17.26,
            17.42,
            17.57,
            7,
            15.71,
            11.42,
            13.41,
            13.35,
            12.97
           ],
           "y": [
            24.79,
            26.99,
            21.72,
            31.33,
            23.52,
            28.22,
            18.34,
            38.63,
            22.04,
            28.12,
            32.73
           ]
          },
          {
           "hoverinfo": "text",
           "hovertext": [
            "nflId:38632.0<br>displayName:Kirk Cousins<br>Position:QB<br>Role:Pass",
            "nflId:40488.0<br>displayName:Adam Thielen<br>Position:RWR<br>Role:Pass Route",
            "nflId:43640.0<br>displayName:Rashod Hill<br>Position:LT<br>Role:Pass Block",
            "nflId:44853.0<br>displayName:Dalvin Cook<br>Position:HB<br>Role:Pass Route",
            "nflId:46131.0<br>displayName:Brian O'Neill<br>Position:RT<br>Role:Pass Block",
            "nflId:46226.0<br>displayName:Tyler Conklin<br>Position:TE-R<br>Role:Pass Route",
            "nflId:47801.0<br>displayName:Garrett Bradbury<br>Position:C<br>Role:Pass Block",
            "nflId:47976.0<br>displayName:Olisaemeka Udoh<br>Position:RG<br>Role:Pass Block",
            "nflId:52430.0<br>displayName:Justin Jefferson<br>Position:SRWR<br>Role:Pass Route",
            "nflId:52466.0<br>displayName:Ezra Cleveland<br>Position:LG<br>Role:Pass Block",
            "nflId:52725.0<br>displayName:Ben Ellefson<br>Position:TE-L<br>Role:Pass Route"
           ],
           "marker": {
            "color": "#4F2683"
           },
           "mode": "markers",
           "name": "MIN",
           "type": "scatter",
           "x": [
            19.18,
            19.75,
            18.63,
            25.11,
            19,
            19.68,
            18.15,
            18.95,
            18.16,
            18.74,
            18.41
           ],
           "y": [
            24.36,
            36.27,
            21.63,
            24.03,
            27.62,
            29.43,
            24.37,
            25.96,
            32.97,
            23.08,
            19.82
           ]
          },
          {
           "hoverinfo": "none",
           "marker": {
            "color": "#CBB67C"
           },
           "mode": "markers",
           "name": "football",
           "type": "scatter",
           "x": [
            17.83
           ],
           "y": [
            24.26
           ]
          }
         ],
         "name": "9"
        },
        {
         "data": [
          {
           "hoverinfo": "none",
           "mode": "text",
           "showlegend": false,
           "text": [
            "10",
            "20",
            "30",
            "40",
            "50",
            "40",
            "30",
            "20",
            "10"
           ],
           "textfont": {
            "color": "#ffffff",
            "family": "Courier New, monospace",
            "size": 30
           },
           "type": "scatter",
           "x": [
            20,
            30,
            40,
            50,
            60,
            70,
            80,
            90,
            100
           ],
           "y": [
            5,
            5,
            5,
            5,
            5,
            5,
            5,
            5,
            5
           ]
          },
          {
           "hoverinfo": "none",
           "mode": "text",
           "showlegend": false,
           "text": [
            "10",
            "20",
            "30",
            "40",
            "50",
            "40",
            "30",
            "20",
            "10"
           ],
           "textfont": {
            "color": "#ffffff",
            "family": "Courier New, monospace",
            "size": 30
           },
           "type": "scatter",
           "x": [
            20,
            30,
            40,
            50,
            60,
            70,
            80,
            90,
            100
           ],
           "y": [
            48.5,
            48.5,
            48.5,
            48.5,
            48.5,
            48.5,
            48.5,
            48.5,
            48.5
           ]
          },
          {
           "hoverinfo": "none",
           "line": {
            "color": "blue",
            "dash": "dash"
           },
           "showlegend": false,
           "type": "scatter",
           "x": [
            18,
            18
           ],
           "y": [
            0,
            53.5
           ]
          },
          {
           "hoverinfo": "none",
           "line": {
            "color": "yellow",
            "dash": "dash"
           },
           "showlegend": false,
           "type": "scatter",
           "x": [
            26,
            26
           ],
           "y": [
            0,
            53.5
           ]
          },
          {
           "hoverinfo": "text",
           "hovertext": [
            "nflId:37317.0<br>displayName:Malcolm Smith<br>Position:MLB<br>Role:Coverage",
            "nflId:38667.0<br>displayName:Malik Jackson<br>Position:LE<br>Role:Pass Rush",
            "nflId:44813.0<br>displayName:Myles Garrett<br>Position:RE<br>Role:Pass Rush",
            "nflId:44838.0<br>displayName:Takkarist McKinley<br>Position:LOLB<br>Role:Pass Rush",
            "nflId:44847.0<br>displayName:Malik McDowell<br>Position:DRT<br>Role:Pass Rush",
            "nflId:44903.0<br>displayName:John Johnson<br>Position:FSL<br>Role:Coverage",
            "nflId:46073.0<br>displayName:Denzel Ward<br>Position:RLB<br>Role:Coverage",
            "nflId:47829.0<br>displayName:Greedy Williams<br>Position:LCB<br>Role:Coverage",
            "nflId:47863.0<br>displayName:Sione Takitaki<br>Position:RLB<br>Role:Coverage",
            "nflId:47938.0<br>displayName:Mack Wilson<br>Position:LLB<br>Role:Coverage",
            "nflId:52452.0<br>displayName:Grant Delpit<br>Position:SCBL<br>Role:Coverage"
           ],
           "marker": {
            "color": "#311D00"
           },
           "mode": "markers",
           "name": "CLE",
           "type": "scatter",
           "x": [
            12.42,
            17.34,
            17.38,
            17.61,
            17.74,
            6.99,
            15.68,
            11.31,
            13.4,
            13.36,
            13.01
           ],
           "y": [
            24.81,
            27,
            21.78,
            31.27,
            23.54,
            28.27,
            18.35,
            38.72,
            22.05,
            28.16,
            32.91
           ]
          },
          {
           "hoverinfo": "text",
           "hovertext": [
            "nflId:38632.0<br>displayName:Kirk Cousins<br>Position:QB<br>Role:Pass",
            "nflId:40488.0<br>displayName:Adam Thielen<br>Position:RWR<br>Role:Pass Route",
            "nflId:43640.0<br>displayName:Rashod Hill<br>Position:LT<br>Role:Pass Block",
            "nflId:44853.0<br>displayName:Dalvin Cook<br>Position:HB<br>Role:Pass Route",
            "nflId:46131.0<br>displayName:Brian O'Neill<br>Position:RT<br>Role:Pass Block",
            "nflId:46226.0<br>displayName:Tyler Conklin<br>Position:TE-R<br>Role:Pass Route",
            "nflId:47801.0<br>displayName:Garrett Bradbury<br>Position:C<br>Role:Pass Block",
            "nflId:47976.0<br>displayName:Olisaemeka Udoh<br>Position:RG<br>Role:Pass Block",
            "nflId:52430.0<br>displayName:Justin Jefferson<br>Position:SRWR<br>Role:Pass Route",
            "nflId:52466.0<br>displayName:Ezra Cleveland<br>Position:LG<br>Role:Pass Block",
            "nflId:52725.0<br>displayName:Ben Ellefson<br>Position:TE-L<br>Role:Pass Route"
           ],
           "marker": {
            "color": "#4F2683"
           },
           "mode": "markers",
           "name": "MIN",
           "type": "scatter",
           "x": [
            19.23,
            19.56,
            18.65,
            25.11,
            19.12,
            19.59,
            18.22,
            19.02,
            18.11,
            18.8,
            18.28
           ],
           "y": [
            24.35,
            36.62,
            21.67,
            23.98,
            27.75,
            29.42,
            24.42,
            26.04,
            32.97,
            23.13,
            19.76
           ]
          },
          {
           "hoverinfo": "none",
           "marker": {
            "color": "#CBB67C"
           },
           "mode": "markers",
           "name": "football",
           "type": "scatter",
           "x": [
            17.93
           ],
           "y": [
            24.25
           ]
          }
         ],
         "name": "10"
        },
        {
         "data": [
          {
           "hoverinfo": "none",
           "mode": "text",
           "showlegend": false,
           "text": [
            "10",
            "20",
            "30",
            "40",
            "50",
            "40",
            "30",
            "20",
            "10"
           ],
           "textfont": {
            "color": "#ffffff",
            "family": "Courier New, monospace",
            "size": 30
           },
           "type": "scatter",
           "x": [
            20,
            30,
            40,
            50,
            60,
            70,
            80,
            90,
            100
           ],
           "y": [
            5,
            5,
            5,
            5,
            5,
            5,
            5,
            5,
            5
           ]
          },
          {
           "hoverinfo": "none",
           "mode": "text",
           "showlegend": false,
           "text": [
            "10",
            "20",
            "30",
            "40",
            "50",
            "40",
            "30",
            "20",
            "10"
           ],
           "textfont": {
            "color": "#ffffff",
            "family": "Courier New, monospace",
            "size": 30
           },
           "type": "scatter",
           "x": [
            20,
            30,
            40,
            50,
            60,
            70,
            80,
            90,
            100
           ],
           "y": [
            48.5,
            48.5,
            48.5,
            48.5,
            48.5,
            48.5,
            48.5,
            48.5,
            48.5
           ]
          },
          {
           "hoverinfo": "none",
           "line": {
            "color": "blue",
            "dash": "dash"
           },
           "showlegend": false,
           "type": "scatter",
           "x": [
            18,
            18
           ],
           "y": [
            0,
            53.5
           ]
          },
          {
           "hoverinfo": "none",
           "line": {
            "color": "yellow",
            "dash": "dash"
           },
           "showlegend": false,
           "type": "scatter",
           "x": [
            26,
            26
           ],
           "y": [
            0,
            53.5
           ]
          },
          {
           "hoverinfo": "text",
           "hovertext": [
            "nflId:37317.0<br>displayName:Malcolm Smith<br>Position:MLB<br>Role:Coverage",
            "nflId:38667.0<br>displayName:Malik Jackson<br>Position:LE<br>Role:Pass Rush",
            "nflId:44813.0<br>displayName:Myles Garrett<br>Position:RE<br>Role:Pass Rush",
            "nflId:44838.0<br>displayName:Takkarist McKinley<br>Position:LOLB<br>Role:Pass Rush",
            "nflId:44847.0<br>displayName:Malik McDowell<br>Position:DRT<br>Role:Pass Rush",
            "nflId:44903.0<br>displayName:John Johnson<br>Position:FSL<br>Role:Coverage",
            "nflId:46073.0<br>displayName:Denzel Ward<br>Position:RLB<br>Role:Coverage",
            "nflId:47829.0<br>displayName:Greedy Williams<br>Position:LCB<br>Role:Coverage",
            "nflId:47863.0<br>displayName:Sione Takitaki<br>Position:RLB<br>Role:Coverage",
            "nflId:47938.0<br>displayName:Mack Wilson<br>Position:LLB<br>Role:Coverage",
            "nflId:52452.0<br>displayName:Grant Delpit<br>Position:SCBL<br>Role:Coverage"
           ],
           "marker": {
            "color": "#311D00"
           },
           "mode": "markers",
           "name": "CLE",
           "type": "scatter",
           "x": [
            12.39,
            17.55,
            17.53,
            17.86,
            17.91,
            6.99,
            15.63,
            11.19,
            13.4,
            13.38,
            13.06
           ],
           "y": [
            24.84,
            27,
            21.87,
            31.18,
            23.59,
            28.3,
            18.35,
            38.77,
            22.04,
            28.22,
            33.13
           ]
          },
          {
           "hoverinfo": "text",
           "hovertext": [
            "nflId:38632.0<br>displayName:Kirk Cousins<br>Position:QB<br>Role:Pass",
            "nflId:40488.0<br>displayName:Adam Thielen<br>Position:RWR<br>Role:Pass Route",
            "nflId:43640.0<br>displayName:Rashod Hill<br>Position:LT<br>Role:Pass Block",
            "nflId:44853.0<br>displayName:Dalvin Cook<br>Position:HB<br>Role:Pass Route",
            "nflId:46131.0<br>displayName:Brian O'Neill<br>Position:RT<br>Role:Pass Block",
            "nflId:46226.0<br>displayName:Tyler Conklin<br>Position:TE-R<br>Role:Pass Route",
            "nflId:47801.0<br>displayName:Garrett Bradbury<br>Position:C<br>Role:Pass Block",
            "nflId:47976.0<br>displayName:Olisaemeka Udoh<br>Position:RG<br>Role:Pass Block",
            "nflId:52430.0<br>displayName:Justin Jefferson<br>Position:SRWR<br>Role:Pass Route",
            "nflId:52466.0<br>displayName:Ezra Cleveland<br>Position:LG<br>Role:Pass Block",
            "nflId:52725.0<br>displayName:Ben Ellefson<br>Position:TE-L<br>Role:Pass Route"
           ],
           "marker": {
            "color": "#4F2683"
           },
           "mode": "markers",
           "name": "MIN",
           "type": "scatter",
           "x": [
            19.24,
            19.34,
            18.7,
            25.08,
            19.28,
            19.44,
            18.29,
            19.1,
            18,
            18.88,
            18.07
           ],
           "y": [
            24.35,
            36.96,
            21.74,
            23.88,
            27.91,
            29.42,
            24.48,
            26.12,
            32.97,
            23.19,
            19.68
           ]
          },
          {
           "hoverinfo": "none",
           "marker": {
            "color": "#CBB67C"
           },
           "mode": "markers",
           "name": "football",
           "type": "scatter",
           "x": [
            18.13
           ],
           "y": [
            24.25
           ]
          }
         ],
         "name": "11"
        },
        {
         "data": [
          {
           "hoverinfo": "none",
           "mode": "text",
           "showlegend": false,
           "text": [
            "10",
            "20",
            "30",
            "40",
            "50",
            "40",
            "30",
            "20",
            "10"
           ],
           "textfont": {
            "color": "#ffffff",
            "family": "Courier New, monospace",
            "size": 30
           },
           "type": "scatter",
           "x": [
            20,
            30,
            40,
            50,
            60,
            70,
            80,
            90,
            100
           ],
           "y": [
            5,
            5,
            5,
            5,
            5,
            5,
            5,
            5,
            5
           ]
          },
          {
           "hoverinfo": "none",
           "mode": "text",
           "showlegend": false,
           "text": [
            "10",
            "20",
            "30",
            "40",
            "50",
            "40",
            "30",
            "20",
            "10"
           ],
           "textfont": {
            "color": "#ffffff",
            "family": "Courier New, monospace",
            "size": 30
           },
           "type": "scatter",
           "x": [
            20,
            30,
            40,
            50,
            60,
            70,
            80,
            90,
            100
           ],
           "y": [
            48.5,
            48.5,
            48.5,
            48.5,
            48.5,
            48.5,
            48.5,
            48.5,
            48.5
           ]
          },
          {
           "hoverinfo": "none",
           "line": {
            "color": "blue",
            "dash": "dash"
           },
           "showlegend": false,
           "type": "scatter",
           "x": [
            18,
            18
           ],
           "y": [
            0,
            53.5
           ]
          },
          {
           "hoverinfo": "none",
           "line": {
            "color": "yellow",
            "dash": "dash"
           },
           "showlegend": false,
           "type": "scatter",
           "x": [
            26,
            26
           ],
           "y": [
            0,
            53.5
           ]
          },
          {
           "hoverinfo": "text",
           "hovertext": [
            "nflId:37317.0<br>displayName:Malcolm Smith<br>Position:MLB<br>Role:Coverage",
            "nflId:38667.0<br>displayName:Malik Jackson<br>Position:LE<br>Role:Pass Rush",
            "nflId:44813.0<br>displayName:Myles Garrett<br>Position:RE<br>Role:Pass Rush",
            "nflId:44838.0<br>displayName:Takkarist McKinley<br>Position:LOLB<br>Role:Pass Rush",
            "nflId:44847.0<br>displayName:Malik McDowell<br>Position:DRT<br>Role:Pass Rush",
            "nflId:44903.0<br>displayName:John Johnson<br>Position:FSL<br>Role:Coverage",
            "nflId:46073.0<br>displayName:Denzel Ward<br>Position:RLB<br>Role:Coverage",
            "nflId:47829.0<br>displayName:Greedy Williams<br>Position:LCB<br>Role:Coverage",
            "nflId:47863.0<br>displayName:Sione Takitaki<br>Position:RLB<br>Role:Coverage",
            "nflId:47938.0<br>displayName:Mack Wilson<br>Position:LLB<br>Role:Coverage",
            "nflId:52452.0<br>displayName:Grant Delpit<br>Position:SCBL<br>Role:Coverage"
           ],
           "marker": {
            "color": "#311D00"
           },
           "mode": "markers",
           "name": "CLE",
           "type": "scatter",
           "x": [
            12.37,
            17.8,
            17.7,
            18.15,
            18.07,
            6.99,
            15.54,
            11.07,
            13.4,
            13.41,
            13.1
           ],
           "y": [
            24.86,
            26.99,
            21.96,
            31.08,
            23.65,
            28.34,
            18.36,
            38.82,
            22.03,
            28.3,
            33.42
           ]
          },
          {
           "hoverinfo": "text",
           "hovertext": [
            "nflId:38632.0<br>displayName:Kirk Cousins<br>Position:QB<br>Role:Pass",
            "nflId:40488.0<br>displayName:Adam Thielen<br>Position:RWR<br>Role:Pass Route",
            "nflId:43640.0<br>displayName:Rashod Hill<br>Position:LT<br>Role:Pass Block",
            "nflId:44853.0<br>displayName:Dalvin Cook<br>Position:HB<br>Role:Pass Route",
            "nflId:46131.0<br>displayName:Brian O'Neill<br>Position:RT<br>Role:Pass Block",
            "nflId:46226.0<br>displayName:Tyler Conklin<br>Position:TE-R<br>Role:Pass Route",
            "nflId:47801.0<br>displayName:Garrett Bradbury<br>Position:C<br>Role:Pass Block",
            "nflId:47976.0<br>displayName:Olisaemeka Udoh<br>Position:RG<br>Role:Pass Block",
            "nflId:52430.0<br>displayName:Justin Jefferson<br>Position:SRWR<br>Role:Pass Route",
            "nflId:52466.0<br>displayName:Ezra Cleveland<br>Position:LG<br>Role:Pass Block",
            "nflId:52725.0<br>displayName:Ben Ellefson<br>Position:TE-L<br>Role:Pass Route"
           ],
           "marker": {
            "color": "#4F2683"
           },
           "mode": "markers",
           "name": "MIN",
           "type": "scatter",
           "x": [
            19.31,
            19.08,
            18.77,
            25.06,
            19.46,
            19.27,
            18.39,
            19.2,
            17.83,
            18.97,
            17.81
           ],
           "y": [
            24.34,
            37.28,
            21.84,
            23.71,
            28.07,
            29.41,
            24.54,
            26.21,
            32.98,
            23.26,
            19.58
           ]
          },
          {
           "hoverinfo": "none",
           "marker": {
            "color": "#CBB67C"
           },
           "mode": "markers",
           "name": "football",
           "type": "scatter",
           "x": [
            18.41
           ],
           "y": [
            24.24
           ]
          }
         ],
         "name": "12"
        },
        {
         "data": [
          {
           "hoverinfo": "none",
           "mode": "text",
           "showlegend": false,
           "text": [
            "10",
            "20",
            "30",
            "40",
            "50",
            "40",
            "30",
            "20",
            "10"
           ],
           "textfont": {
            "color": "#ffffff",
            "family": "Courier New, monospace",
            "size": 30
           },
           "type": "scatter",
           "x": [
            20,
            30,
            40,
            50,
            60,
            70,
            80,
            90,
            100
           ],
           "y": [
            5,
            5,
            5,
            5,
            5,
            5,
            5,
            5,
            5
           ]
          },
          {
           "hoverinfo": "none",
           "mode": "text",
           "showlegend": false,
           "text": [
            "10",
            "20",
            "30",
            "40",
            "50",
            "40",
            "30",
            "20",
            "10"
           ],
           "textfont": {
            "color": "#ffffff",
            "family": "Courier New, monospace",
            "size": 30
           },
           "type": "scatter",
           "x": [
            20,
            30,
            40,
            50,
            60,
            70,
            80,
            90,
            100
           ],
           "y": [
            48.5,
            48.5,
            48.5,
            48.5,
            48.5,
            48.5,
            48.5,
            48.5,
            48.5
           ]
          },
          {
           "hoverinfo": "none",
           "line": {
            "color": "blue",
            "dash": "dash"
           },
           "showlegend": false,
           "type": "scatter",
           "x": [
            18,
            18
           ],
           "y": [
            0,
            53.5
           ]
          },
          {
           "hoverinfo": "none",
           "line": {
            "color": "yellow",
            "dash": "dash"
           },
           "showlegend": false,
           "type": "scatter",
           "x": [
            26,
            26
           ],
           "y": [
            0,
            53.5
           ]
          },
          {
           "hoverinfo": "text",
           "hovertext": [
            "nflId:37317.0<br>displayName:Malcolm Smith<br>Position:MLB<br>Role:Coverage",
            "nflId:38667.0<br>displayName:Malik Jackson<br>Position:LE<br>Role:Pass Rush",
            "nflId:44813.0<br>displayName:Myles Garrett<br>Position:RE<br>Role:Pass Rush",
            "nflId:44838.0<br>displayName:Takkarist McKinley<br>Position:LOLB<br>Role:Pass Rush",
            "nflId:44847.0<br>displayName:Malik McDowell<br>Position:DRT<br>Role:Pass Rush",
            "nflId:44903.0<br>displayName:John Johnson<br>Position:FSL<br>Role:Coverage",
            "nflId:46073.0<br>displayName:Denzel Ward<br>Position:RLB<br>Role:Coverage",
            "nflId:47829.0<br>displayName:Greedy Williams<br>Position:LCB<br>Role:Coverage",
            "nflId:47863.0<br>displayName:Sione Takitaki<br>Position:RLB<br>Role:Coverage",
            "nflId:47938.0<br>displayName:Mack Wilson<br>Position:LLB<br>Role:Coverage",
            "nflId:52452.0<br>displayName:Grant Delpit<br>Position:SCBL<br>Role:Coverage"
           ],
           "marker": {
            "color": "#311D00"
           },
           "mode": "markers",
           "name": "CLE",
           "type": "scatter",
           "x": [
            12.35,
            18.08,
            17.9,
            18.49,
            18.22,
            7.01,
            15.41,
            10.94,
            13.39,
            13.43,
            13.14
           ],
           "y": [
            24.88,
            26.97,
            22.04,
            30.95,
            23.72,
            28.38,
            18.37,
            38.86,
            22.01,
            28.4,
            33.74
           ]
          },
          {
           "hoverinfo": "text",
           "hovertext": [
            "nflId:38632.0<br>displayName:Kirk Cousins<br>Position:QB<br>Role:Pass",
            "nflId:40488.0<br>displayName:Adam Thielen<br>Position:RWR<br>Role:Pass Route",
            "nflId:43640.0<br>displayName:Rashod Hill<br>Position:LT<br>Role:Pass Block",
            "nflId:44853.0<br>displayName:Dalvin Cook<br>Position:HB<br>Role:Pass Route",
            "nflId:46131.0<br>displayName:Brian O'Neill<br>Position:RT<br>Role:Pass Block",
            "nflId:46226.0<br>displayName:Tyler Conklin<br>Position:TE-R<br>Role:Pass Route",
            "nflId:47801.0<br>displayName:Garrett Bradbury<br>Position:C<br>Role:Pass Block",
            "nflId:47976.0<br>displayName:Olisaemeka Udoh<br>Position:RG<br>Role:Pass Block",
            "nflId:52430.0<br>displayName:Justin Jefferson<br>Position:SRWR<br>Role:Pass Route",
            "nflId:52466.0<br>displayName:Ezra Cleveland<br>Position:LG<br>Role:Pass Block",
            "nflId:52725.0<br>displayName:Ben Ellefson<br>Position:TE-L<br>Role:Pass Route"
           ],
           "marker": {
            "color": "#4F2683"
           },
           "mode": "markers",
           "name": "MIN",
           "type": "scatter",
           "x": [
            19.45,
            18.79,
            18.85,
            25.03,
            19.67,
            19.04,
            18.51,
            19.32,
            17.6,
            19.05,
            17.48
           ],
           "y": [
            24.33,
            37.59,
            21.94,
            23.49,
            28.25,
            29.4,
            24.57,
            26.29,
            33,
            23.35,
            19.5
           ]
          },
          {
           "hoverinfo": "none",
           "marker": {
            "color": "#CBB67C"
           },
           "mode": "markers",
           "name": "football",
           "type": "scatter",
           "x": [
            18.79
           ],
           "y": [
            24.22
           ]
          }
         ],
         "name": "13"
        },
        {
         "data": [
          {
           "hoverinfo": "none",
           "mode": "text",
           "showlegend": false,
           "text": [
            "10",
            "20",
            "30",
            "40",
            "50",
            "40",
            "30",
            "20",
            "10"
           ],
           "textfont": {
            "color": "#ffffff",
            "family": "Courier New, monospace",
            "size": 30
           },
           "type": "scatter",
           "x": [
            20,
            30,
            40,
            50,
            60,
            70,
            80,
            90,
            100
           ],
           "y": [
            5,
            5,
            5,
            5,
            5,
            5,
            5,
            5,
            5
           ]
          },
          {
           "hoverinfo": "none",
           "mode": "text",
           "showlegend": false,
           "text": [
            "10",
            "20",
            "30",
            "40",
            "50",
            "40",
            "30",
            "20",
            "10"
           ],
           "textfont": {
            "color": "#ffffff",
            "family": "Courier New, monospace",
            "size": 30
           },
           "type": "scatter",
           "x": [
            20,
            30,
            40,
            50,
            60,
            70,
            80,
            90,
            100
           ],
           "y": [
            48.5,
            48.5,
            48.5,
            48.5,
            48.5,
            48.5,
            48.5,
            48.5,
            48.5
           ]
          },
          {
           "hoverinfo": "none",
           "line": {
            "color": "blue",
            "dash": "dash"
           },
           "showlegend": false,
           "type": "scatter",
           "x": [
            18,
            18
           ],
           "y": [
            0,
            53.5
           ]
          },
          {
           "hoverinfo": "none",
           "line": {
            "color": "yellow",
            "dash": "dash"
           },
           "showlegend": false,
           "type": "scatter",
           "x": [
            26,
            26
           ],
           "y": [
            0,
            53.5
           ]
          },
          {
           "hoverinfo": "text",
           "hovertext": [
            "nflId:37317.0<br>displayName:Malcolm Smith<br>Position:MLB<br>Role:Coverage",
            "nflId:38667.0<br>displayName:Malik Jackson<br>Position:LE<br>Role:Pass Rush",
            "nflId:44813.0<br>displayName:Myles Garrett<br>Position:RE<br>Role:Pass Rush",
            "nflId:44838.0<br>displayName:Takkarist McKinley<br>Position:LOLB<br>Role:Pass Rush",
            "nflId:44847.0<br>displayName:Malik McDowell<br>Position:DRT<br>Role:Pass Rush",
            "nflId:44903.0<br>displayName:John Johnson<br>Position:FSL<br>Role:Coverage",
            "nflId:46073.0<br>displayName:Denzel Ward<br>Position:RLB<br>Role:Coverage",
            "nflId:47829.0<br>displayName:Greedy Williams<br>Position:LCB<br>Role:Coverage",
            "nflId:47863.0<br>displayName:Sione Takitaki<br>Position:RLB<br>Role:Coverage",
            "nflId:47938.0<br>displayName:Mack Wilson<br>Position:LLB<br>Role:Coverage",
            "nflId:52452.0<br>displayName:Grant Delpit<br>Position:SCBL<br>Role:Coverage"
           ],
           "marker": {
            "color": "#311D00"
           },
           "mode": "markers",
           "name": "CLE",
           "type": "scatter",
           "x": [
            12.32,
            18.38,
            18.11,
            18.84,
            18.35,
            7.02,
            15.24,
            10.8,
            13.39,
            13.45,
            13.18
           ],
           "y": [
            24.92,
            26.94,
            22.13,
            30.83,
            23.78,
            28.41,
            18.39,
            38.9,
            21.97,
            28.52,
            34.12
           ]
          },
          {
           "hoverinfo": "text",
           "hovertext": [
            "nflId:38632.0<br>displayName:Kirk Cousins<br>Position:QB<br>Role:Pass",
            "nflId:40488.0<br>displayName:Adam Thielen<br>Position:RWR<br>Role:Pass Route",
            "nflId:43640.0<br>displayName:Rashod Hill<br>Position:LT<br>Role:Pass Block",
            "nflId:44853.0<br>displayName:Dalvin Cook<br>Position:HB<br>Role:Pass Route",
            "nflId:46131.0<br>displayName:Brian O'Neill<br>Position:RT<br>Role:Pass Block",
            "nflId:46226.0<br>displayName:Tyler Conklin<br>Position:TE-R<br>Role:Pass Route",
            "nflId:47801.0<br>displayName:Garrett Bradbury<br>Position:C<br>Role:Pass Block",
            "nflId:47976.0<br>displayName:Olisaemeka Udoh<br>Position:RG<br>Role:Pass Block",
            "nflId:52430.0<br>displayName:Justin Jefferson<br>Position:SRWR<br>Role:Pass Route",
            "nflId:52466.0<br>displayName:Ezra Cleveland<br>Position:LG<br>Role:Pass Block",
            "nflId:52725.0<br>displayName:Ben Ellefson<br>Position:TE-L<br>Role:Pass Route"
           ],
           "marker": {
            "color": "#4F2683"
           },
           "mode": "markers",
           "name": "MIN",
           "type": "scatter",
           "x": [
            19.66,
            18.48,
            18.99,
            24.99,
            19.9,
            18.79,
            18.63,
            19.47,
            17.3,
            19.15,
            17.1
           ],
           "y": [
            24.3,
            37.9,
            22.07,
            23.2,
            28.41,
            29.38,
            24.64,
            26.36,
            33.05,
            23.44,
            19.41
           ]
          },
          {
           "hoverinfo": "none",
           "marker": {
            "color": "#CBB67C"
           },
           "mode": "markers",
           "name": "football",
           "type": "scatter",
           "x": [
            19.21
           ],
           "y": [
            24.21
           ]
          }
         ],
         "name": "14"
        },
        {
         "data": [
          {
           "hoverinfo": "none",
           "mode": "text",
           "showlegend": false,
           "text": [
            "10",
            "20",
            "30",
            "40",
            "50",
            "40",
            "30",
            "20",
            "10"
           ],
           "textfont": {
            "color": "#ffffff",
            "family": "Courier New, monospace",
            "size": 30
           },
           "type": "scatter",
           "x": [
            20,
            30,
            40,
            50,
            60,
            70,
            80,
            90,
            100
           ],
           "y": [
            5,
            5,
            5,
            5,
            5,
            5,
            5,
            5,
            5
           ]
          },
          {
           "hoverinfo": "none",
           "mode": "text",
           "showlegend": false,
           "text": [
            "10",
            "20",
            "30",
            "40",
            "50",
            "40",
            "30",
            "20",
            "10"
           ],
           "textfont": {
            "color": "#ffffff",
            "family": "Courier New, monospace",
            "size": 30
           },
           "type": "scatter",
           "x": [
            20,
            30,
            40,
            50,
            60,
            70,
            80,
            90,
            100
           ],
           "y": [
            48.5,
            48.5,
            48.5,
            48.5,
            48.5,
            48.5,
            48.5,
            48.5,
            48.5
           ]
          },
          {
           "hoverinfo": "none",
           "line": {
            "color": "blue",
            "dash": "dash"
           },
           "showlegend": false,
           "type": "scatter",
           "x": [
            18,
            18
           ],
           "y": [
            0,
            53.5
           ]
          },
          {
           "hoverinfo": "none",
           "line": {
            "color": "yellow",
            "dash": "dash"
           },
           "showlegend": false,
           "type": "scatter",
           "x": [
            26,
            26
           ],
           "y": [
            0,
            53.5
           ]
          },
          {
           "hoverinfo": "text",
           "hovertext": [
            "nflId:37317.0<br>displayName:Malcolm Smith<br>Position:MLB<br>Role:Coverage",
            "nflId:38667.0<br>displayName:Malik Jackson<br>Position:LE<br>Role:Pass Rush",
            "nflId:44813.0<br>displayName:Myles Garrett<br>Position:RE<br>Role:Pass Rush",
            "nflId:44838.0<br>displayName:Takkarist McKinley<br>Position:LOLB<br>Role:Pass Rush",
            "nflId:44847.0<br>displayName:Malik McDowell<br>Position:DRT<br>Role:Pass Rush",
            "nflId:44903.0<br>displayName:John Johnson<br>Position:FSL<br>Role:Coverage",
            "nflId:46073.0<br>displayName:Denzel Ward<br>Position:RLB<br>Role:Coverage",
            "nflId:47829.0<br>displayName:Greedy Williams<br>Position:LCB<br>Role:Coverage",
            "nflId:47863.0<br>displayName:Sione Takitaki<br>Position:RLB<br>Role:Coverage",
            "nflId:47938.0<br>displayName:Mack Wilson<br>Position:LLB<br>Role:Coverage",
            "nflId:52452.0<br>displayName:Grant Delpit<br>Position:SCBL<br>Role:Coverage"
           ],
           "marker": {
            "color": "#311D00"
           },
           "mode": "markers",
           "name": "CLE",
           "type": "scatter",
           "x": [
            12.3,
            18.68,
            18.32,
            19.23,
            18.47,
            6.97,
            15.05,
            10.64,
            13.39,
            13.46,
            13.23
           ],
           "y": [
            24.96,
            26.9,
            22.24,
            30.68,
            23.83,
            28.45,
            18.41,
            38.95,
            21.93,
            28.67,
            34.55
           ]
          },
          {
           "hoverinfo": "text",
           "hovertext": [
            "nflId:38632.0<br>displayName:Kirk Cousins<br>Position:QB<br>Role:Pass",
            "nflId:40488.0<br>displayName:Adam Thielen<br>Position:RWR<br>Role:Pass Route",
            "nflId:43640.0<br>displayName:Rashod Hill<br>Position:LT<br>Role:Pass Block",
            "nflId:44853.0<br>displayName:Dalvin Cook<br>Position:HB<br>Role:Pass Route",
            "nflId:46131.0<br>displayName:Brian O'Neill<br>Position:RT<br>Role:Pass Block",
            "nflId:46226.0<br>displayName:Tyler Conklin<br>Position:TE-R<br>Role:Pass Route",
            "nflId:47801.0<br>displayName:Garrett Bradbury<br>Position:C<br>Role:Pass Block",
            "nflId:47976.0<br>displayName:Olisaemeka Udoh<br>Position:RG<br>Role:Pass Block",
            "nflId:52430.0<br>displayName:Justin Jefferson<br>Position:SRWR<br>Role:Pass Route",
            "nflId:52466.0<br>displayName:Ezra Cleveland<br>Position:LG<br>Role:Pass Block",
            "nflId:52725.0<br>displayName:Ben Ellefson<br>Position:TE-L<br>Role:Pass Route"
           ],
           "marker": {
            "color": "#4F2683"
           },
           "mode": "markers",
           "name": "MIN",
           "type": "scatter",
           "x": [
            19.93,
            18.13,
            19.14,
            24.94,
            20.14,
            18.49,
            18.8,
            19.66,
            16.95,
            19.26,
            16.68
           ],
           "y": [
            24.27,
            38.21,
            22.19,
            22.88,
            28.56,
            29.36,
            24.72,
            26.41,
            33.08,
            23.55,
            19.31
           ]
          },
          {
           "hoverinfo": "none",
           "marker": {
            "color": "#CBB67C"
           },
           "mode": "markers",
           "name": "football",
           "type": "scatter",
           "x": [
            19.68
           ],
           "y": [
            24.19
           ]
          }
         ],
         "name": "15"
        },
        {
         "data": [
          {
           "hoverinfo": "none",
           "mode": "text",
           "showlegend": false,
           "text": [
            "10",
            "20",
            "30",
            "40",
            "50",
            "40",
            "30",
            "20",
            "10"
           ],
           "textfont": {
            "color": "#ffffff",
            "family": "Courier New, monospace",
            "size": 30
           },
           "type": "scatter",
           "x": [
            20,
            30,
            40,
            50,
            60,
            70,
            80,
            90,
            100
           ],
           "y": [
            5,
            5,
            5,
            5,
            5,
            5,
            5,
            5,
            5
           ]
          },
          {
           "hoverinfo": "none",
           "mode": "text",
           "showlegend": false,
           "text": [
            "10",
            "20",
            "30",
            "40",
            "50",
            "40",
            "30",
            "20",
            "10"
           ],
           "textfont": {
            "color": "#ffffff",
            "family": "Courier New, monospace",
            "size": 30
           },
           "type": "scatter",
           "x": [
            20,
            30,
            40,
            50,
            60,
            70,
            80,
            90,
            100
           ],
           "y": [
            48.5,
            48.5,
            48.5,
            48.5,
            48.5,
            48.5,
            48.5,
            48.5,
            48.5
           ]
          },
          {
           "hoverinfo": "none",
           "line": {
            "color": "blue",
            "dash": "dash"
           },
           "showlegend": false,
           "type": "scatter",
           "x": [
            18,
            18
           ],
           "y": [
            0,
            53.5
           ]
          },
          {
           "hoverinfo": "none",
           "line": {
            "color": "yellow",
            "dash": "dash"
           },
           "showlegend": false,
           "type": "scatter",
           "x": [
            26,
            26
           ],
           "y": [
            0,
            53.5
           ]
          },
          {
           "hoverinfo": "text",
           "hovertext": [
            "nflId:37317.0<br>displayName:Malcolm Smith<br>Position:MLB<br>Role:Coverage",
            "nflId:38667.0<br>displayName:Malik Jackson<br>Position:LE<br>Role:Pass Rush",
            "nflId:44813.0<br>displayName:Myles Garrett<br>Position:RE<br>Role:Pass Rush",
            "nflId:44838.0<br>displayName:Takkarist McKinley<br>Position:LOLB<br>Role:Pass Rush",
            "nflId:44847.0<br>displayName:Malik McDowell<br>Position:DRT<br>Role:Pass Rush",
            "nflId:44903.0<br>displayName:John Johnson<br>Position:FSL<br>Role:Coverage",
            "nflId:46073.0<br>displayName:Denzel Ward<br>Position:RLB<br>Role:Coverage",
            "nflId:47829.0<br>displayName:Greedy Williams<br>Position:LCB<br>Role:Coverage",
            "nflId:47863.0<br>displayName:Sione Takitaki<br>Position:RLB<br>Role:Coverage",
            "nflId:47938.0<br>displayName:Mack Wilson<br>Position:LLB<br>Role:Coverage",
            "nflId:52452.0<br>displayName:Grant Delpit<br>Position:SCBL<br>Role:Coverage"
           ],
           "marker": {
            "color": "#311D00"
           },
           "mode": "markers",
           "name": "CLE",
           "type": "scatter",
           "x": [
            12.26,
            18.99,
            18.54,
            19.64,
            18.58,
            6.91,
            14.81,
            10.47,
            13.37,
            13.46,
            13.26
           ],
           "y": [
            25.01,
            26.86,
            22.34,
            30.51,
            23.87,
            28.47,
            18.44,
            39.03,
            21.86,
            28.82,
            35.04
           ]
          },
          {
           "hoverinfo": "text",
           "hovertext": [
            "nflId:38632.0<br>displayName:Kirk Cousins<br>Position:QB<br>Role:Pass",
            "nflId:40488.0<br>displayName:Adam Thielen<br>Position:RWR<br>Role:Pass Route",
            "nflId:43640.0<br>displayName:Rashod Hill<br>Position:LT<br>Role:Pass Block",
            "nflId:44853.0<br>displayName:Dalvin Cook<br>Position:HB<br>Role:Pass Route",
            "nflId:46131.0<br>displayName:Brian O'Neill<br>Position:RT<br>Role:Pass Block",
            "nflId:46226.0<br>displayName:Tyler Conklin<br>Position:TE-R<br>Role:Pass Route",
            "nflId:47801.0<br>displayName:Garrett Bradbury<br>Position:C<br>Role:Pass Block",
            "nflId:47976.0<br>displayName:Olisaemeka Udoh<br>Position:RG<br>Role:Pass Block",
            "nflId:52430.0<br>displayName:Justin Jefferson<br>Position:SRWR<br>Role:Pass Route",
            "nflId:52466.0<br>displayName:Ezra Cleveland<br>Position:LG<br>Role:Pass Block",
            "nflId:52725.0<br>displayName:Ben Ellefson<br>Position:TE-L<br>Role:Pass Route"
           ],
           "marker": {
            "color": "#4F2683"
           },
           "mode": "markers",
           "name": "MIN",
           "type": "scatter",
           "x": [
            20.26,
            17.75,
            19.33,
            24.88,
            20.38,
            18.14,
            19.03,
            19.87,
            16.55,
            19.37,
            16.23
           ],
           "y": [
            24.24,
            38.53,
            22.3,
            22.49,
            28.68,
            29.33,
            24.84,
            26.46,
            33.13,
            23.68,
            19.22
           ]
          },
          {
           "hoverinfo": "none",
           "marker": {
            "color": "#CBB67C"
           },
           "mode": "markers",
           "name": "football",
           "type": "scatter",
           "x": [
            20.18
           ],
           "y": [
            24.17
           ]
          }
         ],
         "name": "16"
        },
        {
         "data": [
          {
           "hoverinfo": "none",
           "mode": "text",
           "showlegend": false,
           "text": [
            "10",
            "20",
            "30",
            "40",
            "50",
            "40",
            "30",
            "20",
            "10"
           ],
           "textfont": {
            "color": "#ffffff",
            "family": "Courier New, monospace",
            "size": 30
           },
           "type": "scatter",
           "x": [
            20,
            30,
            40,
            50,
            60,
            70,
            80,
            90,
            100
           ],
           "y": [
            5,
            5,
            5,
            5,
            5,
            5,
            5,
            5,
            5
           ]
          },
          {
           "hoverinfo": "none",
           "mode": "text",
           "showlegend": false,
           "text": [
            "10",
            "20",
            "30",
            "40",
            "50",
            "40",
            "30",
            "20",
            "10"
           ],
           "textfont": {
            "color": "#ffffff",
            "family": "Courier New, monospace",
            "size": 30
           },
           "type": "scatter",
           "x": [
            20,
            30,
            40,
            50,
            60,
            70,
            80,
            90,
            100
           ],
           "y": [
            48.5,
            48.5,
            48.5,
            48.5,
            48.5,
            48.5,
            48.5,
            48.5,
            48.5
           ]
          },
          {
           "hoverinfo": "none",
           "line": {
            "color": "blue",
            "dash": "dash"
           },
           "showlegend": false,
           "type": "scatter",
           "x": [
            18,
            18
           ],
           "y": [
            0,
            53.5
           ]
          },
          {
           "hoverinfo": "none",
           "line": {
            "color": "yellow",
            "dash": "dash"
           },
           "showlegend": false,
           "type": "scatter",
           "x": [
            26,
            26
           ],
           "y": [
            0,
            53.5
           ]
          },
          {
           "hoverinfo": "text",
           "hovertext": [
            "nflId:37317.0<br>displayName:Malcolm Smith<br>Position:MLB<br>Role:Coverage",
            "nflId:38667.0<br>displayName:Malik Jackson<br>Position:LE<br>Role:Pass Rush",
            "nflId:44813.0<br>displayName:Myles Garrett<br>Position:RE<br>Role:Pass Rush",
            "nflId:44838.0<br>displayName:Takkarist McKinley<br>Position:LOLB<br>Role:Pass Rush",
            "nflId:44847.0<br>displayName:Malik McDowell<br>Position:DRT<br>Role:Pass Rush",
            "nflId:44903.0<br>displayName:John Johnson<br>Position:FSL<br>Role:Coverage",
            "nflId:46073.0<br>displayName:Denzel Ward<br>Position:RLB<br>Role:Coverage",
            "nflId:47829.0<br>displayName:Greedy Williams<br>Position:LCB<br>Role:Coverage",
            "nflId:47863.0<br>displayName:Sione Takitaki<br>Position:RLB<br>Role:Coverage",
            "nflId:47938.0<br>displayName:Mack Wilson<br>Position:LLB<br>Role:Coverage",
            "nflId:52452.0<br>displayName:Grant Delpit<br>Position:SCBL<br>Role:Coverage"
           ],
           "marker": {
            "color": "#311D00"
           },
           "mode": "markers",
           "name": "CLE",
           "type": "scatter",
           "x": [
            12.2,
            19.3,
            18.76,
            20.08,
            18.68,
            6.86,
            14.54,
            10.28,
            13.35,
            13.45,
            13.3
           ],
           "y": [
            25.08,
            26.8,
            22.45,
            30.32,
            23.89,
            28.48,
            18.45,
            39.14,
            21.77,
            28.99,
            35.57
           ]
          },
          {
           "hoverinfo": "text",
           "hovertext": [
            "nflId:38632.0<br>displayName:Kirk Cousins<br>Position:QB<br>Role:Pass",
            "nflId:40488.0<br>displayName:Adam Thielen<br>Position:RWR<br>Role:Pass Route",
            "nflId:43640.0<br>displayName:Rashod Hill<br>Position:LT<br>Role:Pass Block",
            "nflId:44853.0<br>displayName:Dalvin Cook<br>Position:HB<br>Role:Pass Route",
            "nflId:46131.0<br>displayName:Brian O'Neill<br>Position:RT<br>Role:Pass Block",
            "nflId:46226.0<br>displayName:Tyler Conklin<br>Position:TE-R<br>Role:Pass Route",
            "nflId:47801.0<br>displayName:Garrett Bradbury<br>Position:C<br>Role:Pass Block",
            "nflId:47976.0<br>displayName:Olisaemeka Udoh<br>Position:RG<br>Role:Pass Block",
            "nflId:52430.0<br>displayName:Justin Jefferson<br>Position:SRWR<br>Role:Pass Route",
            "nflId:52466.0<br>displayName:Ezra Cleveland<br>Position:LG<br>Role:Pass Block",
            "nflId:52725.0<br>displayName:Ben Ellefson<br>Position:TE-L<br>Role:Pass Route"
           ],
           "marker": {
            "color": "#4F2683"
           },
           "mode": "markers",
           "name": "MIN",
           "type": "scatter",
           "x": [
            20.64,
            17.35,
            19.55,
            24.81,
            20.65,
            17.76,
            19.22,
            20.09,
            16.1,
            19.48,
            15.75
           ],
           "y": [
            24.21,
            38.85,
            22.42,
            22.05,
            28.75,
            29.29,
            24.95,
            26.5,
            33.18,
            23.82,
            19.12
           ]
          },
          {
           "hoverinfo": "none",
           "marker": {
            "color": "#CBB67C"
           },
           "mode": "markers",
           "name": "football",
           "type": "scatter",
           "x": [
            20.67
           ],
           "y": [
            24.16
           ]
          }
         ],
         "name": "17"
        },
        {
         "data": [
          {
           "hoverinfo": "none",
           "mode": "text",
           "showlegend": false,
           "text": [
            "10",
            "20",
            "30",
            "40",
            "50",
            "40",
            "30",
            "20",
            "10"
           ],
           "textfont": {
            "color": "#ffffff",
            "family": "Courier New, monospace",
            "size": 30
           },
           "type": "scatter",
           "x": [
            20,
            30,
            40,
            50,
            60,
            70,
            80,
            90,
            100
           ],
           "y": [
            5,
            5,
            5,
            5,
            5,
            5,
            5,
            5,
            5
           ]
          },
          {
           "hoverinfo": "none",
           "mode": "text",
           "showlegend": false,
           "text": [
            "10",
            "20",
            "30",
            "40",
            "50",
            "40",
            "30",
            "20",
            "10"
           ],
           "textfont": {
            "color": "#ffffff",
            "family": "Courier New, monospace",
            "size": 30
           },
           "type": "scatter",
           "x": [
            20,
            30,
            40,
            50,
            60,
            70,
            80,
            90,
            100
           ],
           "y": [
            48.5,
            48.5,
            48.5,
            48.5,
            48.5,
            48.5,
            48.5,
            48.5,
            48.5
           ]
          },
          {
           "hoverinfo": "none",
           "line": {
            "color": "blue",
            "dash": "dash"
           },
           "showlegend": false,
           "type": "scatter",
           "x": [
            18,
            18
           ],
           "y": [
            0,
            53.5
           ]
          },
          {
           "hoverinfo": "none",
           "line": {
            "color": "yellow",
            "dash": "dash"
           },
           "showlegend": false,
           "type": "scatter",
           "x": [
            26,
            26
           ],
           "y": [
            0,
            53.5
           ]
          },
          {
           "hoverinfo": "text",
           "hovertext": [
            "nflId:37317.0<br>displayName:Malcolm Smith<br>Position:MLB<br>Role:Coverage",
            "nflId:38667.0<br>displayName:Malik Jackson<br>Position:LE<br>Role:Pass Rush",
            "nflId:44813.0<br>displayName:Myles Garrett<br>Position:RE<br>Role:Pass Rush",
            "nflId:44838.0<br>displayName:Takkarist McKinley<br>Position:LOLB<br>Role:Pass Rush",
            "nflId:44847.0<br>displayName:Malik McDowell<br>Position:DRT<br>Role:Pass Rush",
            "nflId:44903.0<br>displayName:John Johnson<br>Position:FSL<br>Role:Coverage",
            "nflId:46073.0<br>displayName:Denzel Ward<br>Position:RLB<br>Role:Coverage",
            "nflId:47829.0<br>displayName:Greedy Williams<br>Position:LCB<br>Role:Coverage",
            "nflId:47863.0<br>displayName:Sione Takitaki<br>Position:RLB<br>Role:Coverage",
            "nflId:47938.0<br>displayName:Mack Wilson<br>Position:LLB<br>Role:Coverage",
            "nflId:52452.0<br>displayName:Grant Delpit<br>Position:SCBL<br>Role:Coverage"
           ],
           "marker": {
            "color": "#311D00"
           },
           "mode": "markers",
           "name": "CLE",
           "type": "scatter",
           "x": [
            12.14,
            19.61,
            19,
            20.53,
            18.77,
            6.76,
            14.23,
            10.09,
            13.32,
            13.4,
            13.32
           ],
           "y": [
            25.16,
            26.75,
            22.55,
            30.11,
            23.9,
            28.48,
            18.46,
            39.29,
            21.66,
            29.17,
            36.14
           ]
          },
          {
           "hoverinfo": "text",
           "hovertext": [
            "nflId:38632.0<br>displayName:Kirk Cousins<br>Position:QB<br>Role:Pass",
            "nflId:40488.0<br>displayName:Adam Thielen<br>Position:RWR<br>Role:Pass Route",
            "nflId:43640.0<br>displayName:Rashod Hill<br>Position:LT<br>Role:Pass Block",
            "nflId:44853.0<br>displayName:Dalvin Cook<br>Position:HB<br>Role:Pass Route",
            "nflId:46131.0<br>displayName:Brian O'Neill<br>Position:RT<br>Role:Pass Block",
            "nflId:46226.0<br>displayName:Tyler Conklin<br>Position:TE-R<br>Role:Pass Route",
            "nflId:47801.0<br>displayName:Garrett Bradbury<br>Position:C<br>Role:Pass Block",
            "nflId:47976.0<br>displayName:Olisaemeka Udoh<br>Position:RG<br>Role:Pass Block",
            "nflId:52430.0<br>displayName:Justin Jefferson<br>Position:SRWR<br>Role:Pass Route",
            "nflId:52466.0<br>displayName:Ezra Cleveland<br>Position:LG<br>Role:Pass Block",
            "nflId:52725.0<br>displayName:Ben Ellefson<br>Position:TE-L<br>Role:Pass Route"
           ],
           "marker": {
            "color": "#4F2683"
           },
           "mode": "markers",
           "name": "MIN",
           "type": "scatter",
           "x": [
            21.03,
            16.93,
            19.78,
            24.74,
            20.94,
            17.35,
            19.42,
            20.34,
            15.61,
            19.58,
            15.26
           ],
           "y": [
            24.19,
            39.17,
            22.53,
            21.57,
            28.8,
            29.24,
            25.07,
            26.52,
            33.23,
            23.95,
            19.04
           ]
          },
          {
           "hoverinfo": "none",
           "marker": {
            "color": "#CBB67C"
           },
           "mode": "markers",
           "name": "football",
           "type": "scatter",
           "x": [
            21.15
           ],
           "y": [
            24.15
           ]
          }
         ],
         "name": "18"
        },
        {
         "data": [
          {
           "hoverinfo": "none",
           "mode": "text",
           "showlegend": false,
           "text": [
            "10",
            "20",
            "30",
            "40",
            "50",
            "40",
            "30",
            "20",
            "10"
           ],
           "textfont": {
            "color": "#ffffff",
            "family": "Courier New, monospace",
            "size": 30
           },
           "type": "scatter",
           "x": [
            20,
            30,
            40,
            50,
            60,
            70,
            80,
            90,
            100
           ],
           "y": [
            5,
            5,
            5,
            5,
            5,
            5,
            5,
            5,
            5
           ]
          },
          {
           "hoverinfo": "none",
           "mode": "text",
           "showlegend": false,
           "text": [
            "10",
            "20",
            "30",
            "40",
            "50",
            "40",
            "30",
            "20",
            "10"
           ],
           "textfont": {
            "color": "#ffffff",
            "family": "Courier New, monospace",
            "size": 30
           },
           "type": "scatter",
           "x": [
            20,
            30,
            40,
            50,
            60,
            70,
            80,
            90,
            100
           ],
           "y": [
            48.5,
            48.5,
            48.5,
            48.5,
            48.5,
            48.5,
            48.5,
            48.5,
            48.5
           ]
          },
          {
           "hoverinfo": "none",
           "line": {
            "color": "blue",
            "dash": "dash"
           },
           "showlegend": false,
           "type": "scatter",
           "x": [
            18,
            18
           ],
           "y": [
            0,
            53.5
           ]
          },
          {
           "hoverinfo": "none",
           "line": {
            "color": "yellow",
            "dash": "dash"
           },
           "showlegend": false,
           "type": "scatter",
           "x": [
            26,
            26
           ],
           "y": [
            0,
            53.5
           ]
          },
          {
           "hoverinfo": "text",
           "hovertext": [
            "nflId:37317.0<br>displayName:Malcolm Smith<br>Position:MLB<br>Role:Coverage",
            "nflId:38667.0<br>displayName:Malik Jackson<br>Position:LE<br>Role:Pass Rush",
            "nflId:44813.0<br>displayName:Myles Garrett<br>Position:RE<br>Role:Pass Rush",
            "nflId:44838.0<br>displayName:Takkarist McKinley<br>Position:LOLB<br>Role:Pass Rush",
            "nflId:44847.0<br>displayName:Malik McDowell<br>Position:DRT<br>Role:Pass Rush",
            "nflId:44903.0<br>displayName:John Johnson<br>Position:FSL<br>Role:Coverage",
            "nflId:46073.0<br>displayName:Denzel Ward<br>Position:RLB<br>Role:Coverage",
            "nflId:47829.0<br>displayName:Greedy Williams<br>Position:LCB<br>Role:Coverage",
            "nflId:47863.0<br>displayName:Sione Takitaki<br>Position:RLB<br>Role:Coverage",
            "nflId:47938.0<br>displayName:Mack Wilson<br>Position:LLB<br>Role:Coverage",
            "nflId:52452.0<br>displayName:Grant Delpit<br>Position:SCBL<br>Role:Coverage"
           ],
           "marker": {
            "color": "#311D00"
           },
           "mode": "markers",
           "name": "CLE",
           "type": "scatter",
           "x": [
            12.06,
            19.9,
            19.24,
            20.98,
            18.87,
            6.69,
            13.89,
            9.89,
            13.29,
            13.33,
            13.33
           ],
           "y": [
            25.25,
            26.73,
            22.63,
            29.91,
            23.88,
            28.46,
            18.44,
            39.45,
            21.51,
            29.34,
            36.75
           ]
          },
          {
           "hoverinfo": "text",
           "hovertext": [
            "nflId:38632.0<br>displayName:Kirk Cousins<br>Position:QB<br>Role:Pass",
            "nflId:40488.0<br>displayName:Adam Thielen<br>Position:RWR<br>Role:Pass Route",
            "nflId:43640.0<br>displayName:Rashod Hill<br>Position:LT<br>Role:Pass Block",
            "nflId:44853.0<br>displayName:Dalvin Cook<br>Position:HB<br>Role:Pass Route",
            "nflId:46131.0<br>displayName:Brian O'Neill<br>Position:RT<br>Role:Pass Block",
            "nflId:46226.0<br>displayName:Tyler Conklin<br>Position:TE-R<br>Role:Pass Route",
            "nflId:47801.0<br>displayName:Garrett Bradbury<br>Position:C<br>Role:Pass Block",
            "nflId:47976.0<br>displayName:Olisaemeka Udoh<br>Position:RG<br>Role:Pass Block",
            "nflId:52430.0<br>displayName:Justin Jefferson<br>Position:SRWR<br>Role:Pass Route",
            "nflId:52466.0<br>displayName:Ezra Cleveland<br>Position:LG<br>Role:Pass Block",
            "nflId:52725.0<br>displayName:Ben Ellefson<br>Position:TE-L<br>Role:Pass Route"
           ],
           "marker": {
            "color": "#4F2683"
           },
           "mode": "markers",
           "name": "MIN",
           "type": "scatter",
           "x": [
            21.44,
            16.5,
            20.02,
            24.65,
            21.24,
            16.93,
            19.63,
            20.58,
            15.08,
            19.68,
            14.74
           ],
           "y": [
            24.16,
            39.5,
            22.65,
            21.05,
            28.79,
            29.18,
            25.21,
            26.52,
            33.28,
            24.06,
            18.96
           ]
          },
          {
           "hoverinfo": "none",
           "marker": {
            "color": "#CBB67C"
           },
           "mode": "markers",
           "name": "football",
           "type": "scatter",
           "x": [
            21.63
           ],
           "y": [
            24.14
           ]
          }
         ],
         "name": "19"
        },
        {
         "data": [
          {
           "hoverinfo": "none",
           "mode": "text",
           "showlegend": false,
           "text": [
            "10",
            "20",
            "30",
            "40",
            "50",
            "40",
            "30",
            "20",
            "10"
           ],
           "textfont": {
            "color": "#ffffff",
            "family": "Courier New, monospace",
            "size": 30
           },
           "type": "scatter",
           "x": [
            20,
            30,
            40,
            50,
            60,
            70,
            80,
            90,
            100
           ],
           "y": [
            5,
            5,
            5,
            5,
            5,
            5,
            5,
            5,
            5
           ]
          },
          {
           "hoverinfo": "none",
           "mode": "text",
           "showlegend": false,
           "text": [
            "10",
            "20",
            "30",
            "40",
            "50",
            "40",
            "30",
            "20",
            "10"
           ],
           "textfont": {
            "color": "#ffffff",
            "family": "Courier New, monospace",
            "size": 30
           },
           "type": "scatter",
           "x": [
            20,
            30,
            40,
            50,
            60,
            70,
            80,
            90,
            100
           ],
           "y": [
            48.5,
            48.5,
            48.5,
            48.5,
            48.5,
            48.5,
            48.5,
            48.5,
            48.5
           ]
          },
          {
           "hoverinfo": "none",
           "line": {
            "color": "blue",
            "dash": "dash"
           },
           "showlegend": false,
           "type": "scatter",
           "x": [
            18,
            18
           ],
           "y": [
            0,
            53.5
           ]
          },
          {
           "hoverinfo": "none",
           "line": {
            "color": "yellow",
            "dash": "dash"
           },
           "showlegend": false,
           "type": "scatter",
           "x": [
            26,
            26
           ],
           "y": [
            0,
            53.5
           ]
          },
          {
           "hoverinfo": "text",
           "hovertext": [
            "nflId:37317.0<br>displayName:Malcolm Smith<br>Position:MLB<br>Role:Coverage",
            "nflId:38667.0<br>displayName:Malik Jackson<br>Position:LE<br>Role:Pass Rush",
            "nflId:44813.0<br>displayName:Myles Garrett<br>Position:RE<br>Role:Pass Rush",
            "nflId:44838.0<br>displayName:Takkarist McKinley<br>Position:LOLB<br>Role:Pass Rush",
            "nflId:44847.0<br>displayName:Malik McDowell<br>Position:DRT<br>Role:Pass Rush",
            "nflId:44903.0<br>displayName:John Johnson<br>Position:FSL<br>Role:Coverage",
            "nflId:46073.0<br>displayName:Denzel Ward<br>Position:RLB<br>Role:Coverage",
            "nflId:47829.0<br>displayName:Greedy Williams<br>Position:LCB<br>Role:Coverage",
            "nflId:47863.0<br>displayName:Sione Takitaki<br>Position:RLB<br>Role:Coverage",
            "nflId:47938.0<br>displayName:Mack Wilson<br>Position:LLB<br>Role:Coverage",
            "nflId:52452.0<br>displayName:Grant Delpit<br>Position:SCBL<br>Role:Coverage"
           ],
           "marker": {
            "color": "#311D00"
           },
           "mode": "markers",
           "name": "CLE",
           "type": "scatter",
           "x": [
            11.98,
            20.2,
            19.48,
            21.46,
            18.99,
            6.6,
            13.52,
            9.69,
            13.25,
            13.22,
            13.34
           ],
           "y": [
            25.35,
            26.71,
            22.72,
            29.65,
            23.86,
            28.43,
            18.4,
            39.63,
            21.32,
            29.51,
            37.39
           ]
          },
          {
           "hoverinfo": "text",
           "hovertext": [
            "nflId:38632.0<br>displayName:Kirk Cousins<br>Position:QB<br>Role:Pass",
            "nflId:40488.0<br>displayName:Adam Thielen<br>Position:RWR<br>Role:Pass Route",
            "nflId:43640.0<br>displayName:Rashod Hill<br>Position:LT<br>Role:Pass Block",
            "nflId:44853.0<br>displayName:Dalvin Cook<br>Position:HB<br>Role:Pass Route",
            "nflId:46131.0<br>displayName:Brian O'Neill<br>Position:RT<br>Role:Pass Block",
            "nflId:46226.0<br>displayName:Tyler Conklin<br>Position:TE-R<br>Role:Pass Route",
            "nflId:47801.0<br>displayName:Garrett Bradbury<br>Position:C<br>Role:Pass Block",
            "nflId:47976.0<br>displayName:Olisaemeka Udoh<br>Position:RG<br>Role:Pass Block",
            "nflId:52430.0<br>displayName:Justin Jefferson<br>Position:SRWR<br>Role:Pass Route",
            "nflId:52466.0<br>displayName:Ezra Cleveland<br>Position:LG<br>Role:Pass Block",
            "nflId:52725.0<br>displayName:Ben Ellefson<br>Position:TE-L<br>Role:Pass Route"
           ],
           "marker": {
            "color": "#4F2683"
           },
           "mode": "markers",
           "name": "MIN",
           "type": "scatter",
           "x": [
            21.85,
            16.06,
            20.26,
            24.56,
            21.53,
            16.5,
            19.85,
            20.82,
            14.53,
            19.81,
            14.23
           ],
           "y": [
            24.14,
            39.83,
            22.78,
            20.5,
            28.76,
            29.11,
            25.35,
            26.53,
            33.34,
            24.18,
            18.88
           ]
          },
          {
           "hoverinfo": "none",
           "marker": {
            "color": "#CBB67C"
           },
           "mode": "markers",
           "name": "football",
           "type": "scatter",
           "x": [
            22.07
           ],
           "y": [
            24.14
           ]
          }
         ],
         "name": "20"
        },
        {
         "data": [
          {
           "hoverinfo": "none",
           "mode": "text",
           "showlegend": false,
           "text": [
            "10",
            "20",
            "30",
            "40",
            "50",
            "40",
            "30",
            "20",
            "10"
           ],
           "textfont": {
            "color": "#ffffff",
            "family": "Courier New, monospace",
            "size": 30
           },
           "type": "scatter",
           "x": [
            20,
            30,
            40,
            50,
            60,
            70,
            80,
            90,
            100
           ],
           "y": [
            5,
            5,
            5,
            5,
            5,
            5,
            5,
            5,
            5
           ]
          },
          {
           "hoverinfo": "none",
           "mode": "text",
           "showlegend": false,
           "text": [
            "10",
            "20",
            "30",
            "40",
            "50",
            "40",
            "30",
            "20",
            "10"
           ],
           "textfont": {
            "color": "#ffffff",
            "family": "Courier New, monospace",
            "size": 30
           },
           "type": "scatter",
           "x": [
            20,
            30,
            40,
            50,
            60,
            70,
            80,
            90,
            100
           ],
           "y": [
            48.5,
            48.5,
            48.5,
            48.5,
            48.5,
            48.5,
            48.5,
            48.5,
            48.5
           ]
          },
          {
           "hoverinfo": "none",
           "line": {
            "color": "blue",
            "dash": "dash"
           },
           "showlegend": false,
           "type": "scatter",
           "x": [
            18,
            18
           ],
           "y": [
            0,
            53.5
           ]
          },
          {
           "hoverinfo": "none",
           "line": {
            "color": "yellow",
            "dash": "dash"
           },
           "showlegend": false,
           "type": "scatter",
           "x": [
            26,
            26
           ],
           "y": [
            0,
            53.5
           ]
          },
          {
           "hoverinfo": "text",
           "hovertext": [
            "nflId:37317.0<br>displayName:Malcolm Smith<br>Position:MLB<br>Role:Coverage",
            "nflId:38667.0<br>displayName:Malik Jackson<br>Position:LE<br>Role:Pass Rush",
            "nflId:44813.0<br>displayName:Myles Garrett<br>Position:RE<br>Role:Pass Rush",
            "nflId:44838.0<br>displayName:Takkarist McKinley<br>Position:LOLB<br>Role:Pass Rush",
            "nflId:44847.0<br>displayName:Malik McDowell<br>Position:DRT<br>Role:Pass Rush",
            "nflId:44903.0<br>displayName:John Johnson<br>Position:FSL<br>Role:Coverage",
            "nflId:46073.0<br>displayName:Denzel Ward<br>Position:RLB<br>Role:Coverage",
            "nflId:47829.0<br>displayName:Greedy Williams<br>Position:LCB<br>Role:Coverage",
            "nflId:47863.0<br>displayName:Sione Takitaki<br>Position:RLB<br>Role:Coverage",
            "nflId:47938.0<br>displayName:Mack Wilson<br>Position:LLB<br>Role:Coverage",
            "nflId:52452.0<br>displayName:Grant Delpit<br>Position:SCBL<br>Role:Coverage"
           ],
           "marker": {
            "color": "#311D00"
           },
           "mode": "markers",
           "name": "CLE",
           "type": "scatter",
           "x": [
            11.89,
            20.48,
            19.76,
            21.91,
            19.13,
            6.5,
            13.14,
            9.48,
            13.21,
            13.1,
            13.32
           ],
           "y": [
            25.45,
            26.7,
            22.8,
            29.38,
            23.81,
            28.38,
            18.35,
            39.81,
            21.08,
            29.67,
            38.05
           ]
          },
          {
           "hoverinfo": "text",
           "hovertext": [
            "nflId:38632.0<br>displayName:Kirk Cousins<br>Position:QB<br>Role:Pass",
            "nflId:40488.0<br>displayName:Adam Thielen<br>Position:RWR<br>Role:Pass Route",
            "nflId:43640.0<br>displayName:Rashod Hill<br>Position:LT<br>Role:Pass Block",
            "nflId:44853.0<br>displayName:Dalvin Cook<br>Position:HB<br>Role:Pass Route",
            "nflId:46131.0<br>displayName:Brian O'Neill<br>Position:RT<br>Role:Pass Block",
            "nflId:46226.0<br>displayName:Tyler Conklin<br>Position:TE-R<br>Role:Pass Route",
            "nflId:47801.0<br>displayName:Garrett Bradbury<br>Position:C<br>Role:Pass Block",
            "nflId:47976.0<br>displayName:Olisaemeka Udoh<br>Position:RG<br>Role:Pass Block",
            "nflId:52430.0<br>displayName:Justin Jefferson<br>Position:SRWR<br>Role:Pass Route",
            "nflId:52466.0<br>displayName:Ezra Cleveland<br>Position:LG<br>Role:Pass Block",
            "nflId:52725.0<br>displayName:Ben Ellefson<br>Position:TE-L<br>Role:Pass Route"
           ],
           "marker": {
            "color": "#4F2683"
           },
           "mode": "markers",
           "name": "MIN",
           "type": "scatter",
           "x": [
            22.25,
            15.62,
            20.52,
            24.46,
            21.82,
            16.08,
            20.06,
            21.05,
            13.95,
            19.91,
            13.72
           ],
           "y": [
            24.13,
            40.15,
            22.9,
            19.93,
            28.68,
            29.03,
            25.5,
            26.54,
            33.41,
            24.29,
            18.8
           ]
          },
          {
           "hoverinfo": "none",
           "marker": {
            "color": "#CBB67C"
           },
           "mode": "markers",
           "name": "football",
           "type": "scatter",
           "x": [
            22.45
           ],
           "y": [
            24.14
           ]
          }
         ],
         "name": "21"
        },
        {
         "data": [
          {
           "hoverinfo": "none",
           "mode": "text",
           "showlegend": false,
           "text": [
            "10",
            "20",
            "30",
            "40",
            "50",
            "40",
            "30",
            "20",
            "10"
           ],
           "textfont": {
            "color": "#ffffff",
            "family": "Courier New, monospace",
            "size": 30
           },
           "type": "scatter",
           "x": [
            20,
            30,
            40,
            50,
            60,
            70,
            80,
            90,
            100
           ],
           "y": [
            5,
            5,
            5,
            5,
            5,
            5,
            5,
            5,
            5
           ]
          },
          {
           "hoverinfo": "none",
           "mode": "text",
           "showlegend": false,
           "text": [
            "10",
            "20",
            "30",
            "40",
            "50",
            "40",
            "30",
            "20",
            "10"
           ],
           "textfont": {
            "color": "#ffffff",
            "family": "Courier New, monospace",
            "size": 30
           },
           "type": "scatter",
           "x": [
            20,
            30,
            40,
            50,
            60,
            70,
            80,
            90,
            100
           ],
           "y": [
            48.5,
            48.5,
            48.5,
            48.5,
            48.5,
            48.5,
            48.5,
            48.5,
            48.5
           ]
          },
          {
           "hoverinfo": "none",
           "line": {
            "color": "blue",
            "dash": "dash"
           },
           "showlegend": false,
           "type": "scatter",
           "x": [
            18,
            18
           ],
           "y": [
            0,
            53.5
           ]
          },
          {
           "hoverinfo": "none",
           "line": {
            "color": "yellow",
            "dash": "dash"
           },
           "showlegend": false,
           "type": "scatter",
           "x": [
            26,
            26
           ],
           "y": [
            0,
            53.5
           ]
          },
          {
           "hoverinfo": "text",
           "hovertext": [
            "nflId:37317.0<br>displayName:Malcolm Smith<br>Position:MLB<br>Role:Coverage",
            "nflId:38667.0<br>displayName:Malik Jackson<br>Position:LE<br>Role:Pass Rush",
            "nflId:44813.0<br>displayName:Myles Garrett<br>Position:RE<br>Role:Pass Rush",
            "nflId:44838.0<br>displayName:Takkarist McKinley<br>Position:LOLB<br>Role:Pass Rush",
            "nflId:44847.0<br>displayName:Malik McDowell<br>Position:DRT<br>Role:Pass Rush",
            "nflId:44903.0<br>displayName:John Johnson<br>Position:FSL<br>Role:Coverage",
            "nflId:46073.0<br>displayName:Denzel Ward<br>Position:RLB<br>Role:Coverage",
            "nflId:47829.0<br>displayName:Greedy Williams<br>Position:LCB<br>Role:Coverage",
            "nflId:47863.0<br>displayName:Sione Takitaki<br>Position:RLB<br>Role:Coverage",
            "nflId:47938.0<br>displayName:Mack Wilson<br>Position:LLB<br>Role:Coverage",
            "nflId:52452.0<br>displayName:Grant Delpit<br>Position:SCBL<br>Role:Coverage"
           ],
           "marker": {
            "color": "#311D00"
           },
           "mode": "markers",
           "name": "CLE",
           "type": "scatter",
           "x": [
            11.81,
            20.75,
            20.04,
            22.34,
            19.29,
            6.39,
            12.74,
            9.27,
            13.17,
            12.96,
            13.28
           ],
           "y": [
            25.54,
            26.72,
            22.87,
            29.06,
            23.76,
            28.32,
            18.28,
            39.98,
            20.81,
            29.82,
            38.71
           ]
          },
          {
           "hoverinfo": "text",
           "hovertext": [
            "nflId:38632.0<br>displayName:Kirk Cousins<br>Position:QB<br>Role:Pass",
            "nflId:40488.0<br>displayName:Adam Thielen<br>Position:RWR<br>Role:Pass Route",
            "nflId:43640.0<br>displayName:Rashod Hill<br>Position:LT<br>Role:Pass Block",
            "nflId:44853.0<br>displayName:Dalvin Cook<br>Position:HB<br>Role:Pass Route",
            "nflId:46131.0<br>displayName:Brian O'Neill<br>Position:RT<br>Role:Pass Block",
            "nflId:46226.0<br>displayName:Tyler Conklin<br>Position:TE-R<br>Role:Pass Route",
            "nflId:47801.0<br>displayName:Garrett Bradbury<br>Position:C<br>Role:Pass Block",
            "nflId:47976.0<br>displayName:Olisaemeka Udoh<br>Position:RG<br>Role:Pass Block",
            "nflId:52430.0<br>displayName:Justin Jefferson<br>Position:SRWR<br>Role:Pass Route",
            "nflId:52466.0<br>displayName:Ezra Cleveland<br>Position:LG<br>Role:Pass Block",
            "nflId:52725.0<br>displayName:Ben Ellefson<br>Position:TE-L<br>Role:Pass Route"
           ],
           "marker": {
            "color": "#4F2683"
           },
           "mode": "markers",
           "name": "MIN",
           "type": "scatter",
           "x": [
            22.63,
            15.2,
            20.78,
            24.37,
            22.14,
            15.68,
            20.28,
            21.26,
            13.35,
            20.03,
            13.21
           ],
           "y": [
            24.11,
            40.46,
            23.03,
            19.33,
            28.55,
            28.91,
            25.66,
            26.52,
            33.48,
            24.4,
            18.74
           ]
          },
          {
           "hoverinfo": "none",
           "marker": {
            "color": "#CBB67C"
           },
           "mode": "markers",
           "name": "football",
           "type": "scatter",
           "x": [
            22.83
           ],
           "y": [
            24.15
           ]
          }
         ],
         "name": "22"
        },
        {
         "data": [
          {
           "hoverinfo": "none",
           "mode": "text",
           "showlegend": false,
           "text": [
            "10",
            "20",
            "30",
            "40",
            "50",
            "40",
            "30",
            "20",
            "10"
           ],
           "textfont": {
            "color": "#ffffff",
            "family": "Courier New, monospace",
            "size": 30
           },
           "type": "scatter",
           "x": [
            20,
            30,
            40,
            50,
            60,
            70,
            80,
            90,
            100
           ],
           "y": [
            5,
            5,
            5,
            5,
            5,
            5,
            5,
            5,
            5
           ]
          },
          {
           "hoverinfo": "none",
           "mode": "text",
           "showlegend": false,
           "text": [
            "10",
            "20",
            "30",
            "40",
            "50",
            "40",
            "30",
            "20",
            "10"
           ],
           "textfont": {
            "color": "#ffffff",
            "family": "Courier New, monospace",
            "size": 30
           },
           "type": "scatter",
           "x": [
            20,
            30,
            40,
            50,
            60,
            70,
            80,
            90,
            100
           ],
           "y": [
            48.5,
            48.5,
            48.5,
            48.5,
            48.5,
            48.5,
            48.5,
            48.5,
            48.5
           ]
          },
          {
           "hoverinfo": "none",
           "line": {
            "color": "blue",
            "dash": "dash"
           },
           "showlegend": false,
           "type": "scatter",
           "x": [
            18,
            18
           ],
           "y": [
            0,
            53.5
           ]
          },
          {
           "hoverinfo": "none",
           "line": {
            "color": "yellow",
            "dash": "dash"
           },
           "showlegend": false,
           "type": "scatter",
           "x": [
            26,
            26
           ],
           "y": [
            0,
            53.5
           ]
          },
          {
           "hoverinfo": "text",
           "hovertext": [
            "nflId:37317.0<br>displayName:Malcolm Smith<br>Position:MLB<br>Role:Coverage",
            "nflId:38667.0<br>displayName:Malik Jackson<br>Position:LE<br>Role:Pass Rush",
            "nflId:44813.0<br>displayName:Myles Garrett<br>Position:RE<br>Role:Pass Rush",
            "nflId:44838.0<br>displayName:Takkarist McKinley<br>Position:LOLB<br>Role:Pass Rush",
            "nflId:44847.0<br>displayName:Malik McDowell<br>Position:DRT<br>Role:Pass Rush",
            "nflId:44903.0<br>displayName:John Johnson<br>Position:FSL<br>Role:Coverage",
            "nflId:46073.0<br>displayName:Denzel Ward<br>Position:RLB<br>Role:Coverage",
            "nflId:47829.0<br>displayName:Greedy Williams<br>Position:LCB<br>Role:Coverage",
            "nflId:47863.0<br>displayName:Sione Takitaki<br>Position:RLB<br>Role:Coverage",
            "nflId:47938.0<br>displayName:Mack Wilson<br>Position:LLB<br>Role:Coverage",
            "nflId:52452.0<br>displayName:Grant Delpit<br>Position:SCBL<br>Role:Coverage"
           ],
           "marker": {
            "color": "#311D00"
           },
           "mode": "markers",
           "name": "CLE",
           "type": "scatter",
           "x": [
            11.74,
            21,
            20.31,
            22.75,
            19.44,
            6.26,
            12.33,
            9.05,
            13.14,
            12.8,
            13.22
           ],
           "y": [
            25.61,
            26.75,
            22.95,
            28.72,
            23.7,
            28.26,
            18.2,
            40.14,
            20.5,
            29.94,
            39.37
           ]
          },
          {
           "hoverinfo": "text",
           "hovertext": [
            "nflId:38632.0<br>displayName:Kirk Cousins<br>Position:QB<br>Role:Pass",
            "nflId:40488.0<br>displayName:Adam Thielen<br>Position:RWR<br>Role:Pass Route",
            "nflId:43640.0<br>displayName:Rashod Hill<br>Position:LT<br>Role:Pass Block",
            "nflId:44853.0<br>displayName:Dalvin Cook<br>Position:HB<br>Role:Pass Route",
            "nflId:46131.0<br>displayName:Brian O'Neill<br>Position:RT<br>Role:Pass Block",
            "nflId:46226.0<br>displayName:Tyler Conklin<br>Position:TE-R<br>Role:Pass Route",
            "nflId:47801.0<br>displayName:Garrett Bradbury<br>Position:C<br>Role:Pass Block",
            "nflId:47976.0<br>displayName:Olisaemeka Udoh<br>Position:RG<br>Role:Pass Block",
            "nflId:52430.0<br>displayName:Justin Jefferson<br>Position:SRWR<br>Role:Pass Route",
            "nflId:52466.0<br>displayName:Ezra Cleveland<br>Position:LG<br>Role:Pass Block",
            "nflId:52725.0<br>displayName:Ben Ellefson<br>Position:TE-L<br>Role:Pass Route"
           ],
           "marker": {
            "color": "#4F2683"
           },
           "mode": "markers",
           "name": "MIN",
           "type": "scatter",
           "x": [
            22.97,
            14.79,
            21.03,
            24.28,
            22.45,
            15.29,
            20.49,
            21.46,
            12.73,
            20.16,
            12.71
           ],
           "y": [
            24.1,
            40.75,
            23.15,
            18.72,
            28.37,
            28.78,
            25.83,
            26.5,
            33.55,
            24.48,
            18.69
           ]
          },
          {
           "hoverinfo": "none",
           "marker": {
            "color": "#CBB67C"
           },
           "mode": "markers",
           "name": "football",
           "type": "scatter",
           "x": [
            23.17
           ],
           "y": [
            24.16
           ]
          }
         ],
         "name": "23"
        },
        {
         "data": [
          {
           "hoverinfo": "none",
           "mode": "text",
           "showlegend": false,
           "text": [
            "10",
            "20",
            "30",
            "40",
            "50",
            "40",
            "30",
            "20",
            "10"
           ],
           "textfont": {
            "color": "#ffffff",
            "family": "Courier New, monospace",
            "size": 30
           },
           "type": "scatter",
           "x": [
            20,
            30,
            40,
            50,
            60,
            70,
            80,
            90,
            100
           ],
           "y": [
            5,
            5,
            5,
            5,
            5,
            5,
            5,
            5,
            5
           ]
          },
          {
           "hoverinfo": "none",
           "mode": "text",
           "showlegend": false,
           "text": [
            "10",
            "20",
            "30",
            "40",
            "50",
            "40",
            "30",
            "20",
            "10"
           ],
           "textfont": {
            "color": "#ffffff",
            "family": "Courier New, monospace",
            "size": 30
           },
           "type": "scatter",
           "x": [
            20,
            30,
            40,
            50,
            60,
            70,
            80,
            90,
            100
           ],
           "y": [
            48.5,
            48.5,
            48.5,
            48.5,
            48.5,
            48.5,
            48.5,
            48.5,
            48.5
           ]
          },
          {
           "hoverinfo": "none",
           "line": {
            "color": "blue",
            "dash": "dash"
           },
           "showlegend": false,
           "type": "scatter",
           "x": [
            18,
            18
           ],
           "y": [
            0,
            53.5
           ]
          },
          {
           "hoverinfo": "none",
           "line": {
            "color": "yellow",
            "dash": "dash"
           },
           "showlegend": false,
           "type": "scatter",
           "x": [
            26,
            26
           ],
           "y": [
            0,
            53.5
           ]
          },
          {
           "hoverinfo": "text",
           "hovertext": [
            "nflId:37317.0<br>displayName:Malcolm Smith<br>Position:MLB<br>Role:Coverage",
            "nflId:38667.0<br>displayName:Malik Jackson<br>Position:LE<br>Role:Pass Rush",
            "nflId:44813.0<br>displayName:Myles Garrett<br>Position:RE<br>Role:Pass Rush",
            "nflId:44838.0<br>displayName:Takkarist McKinley<br>Position:LOLB<br>Role:Pass Rush",
            "nflId:44847.0<br>displayName:Malik McDowell<br>Position:DRT<br>Role:Pass Rush",
            "nflId:44903.0<br>displayName:John Johnson<br>Position:FSL<br>Role:Coverage",
            "nflId:46073.0<br>displayName:Denzel Ward<br>Position:RLB<br>Role:Coverage",
            "nflId:47829.0<br>displayName:Greedy Williams<br>Position:LCB<br>Role:Coverage",
            "nflId:47863.0<br>displayName:Sione Takitaki<br>Position:RLB<br>Role:Coverage",
            "nflId:47938.0<br>displayName:Mack Wilson<br>Position:LLB<br>Role:Coverage",
            "nflId:52452.0<br>displayName:Grant Delpit<br>Position:SCBL<br>Role:Coverage"
           ],
           "marker": {
            "color": "#311D00"
           },
           "mode": "markers",
           "name": "CLE",
           "type": "scatter",
           "x": [
            11.67,
            21.25,
            20.61,
            23.15,
            19.63,
            6.12,
            11.92,
            8.84,
            13.13,
            12.63,
            13.15
           ],
           "y": [
            25.65,
            26.8,
            23.03,
            28.35,
            23.64,
            28.18,
            18.12,
            40.26,
            20.14,
            30.05,
            40
           ]
          },
          {
           "hoverinfo": "text",
           "hovertext": [
            "nflId:38632.0<br>displayName:Kirk Cousins<br>Position:QB<br>Role:Pass",
            "nflId:40488.0<br>displayName:Adam Thielen<br>Position:RWR<br>Role:Pass Route",
            "nflId:43640.0<br>displayName:Rashod Hill<br>Position:LT<br>Role:Pass Block",
            "nflId:44853.0<br>displayName:Dalvin Cook<br>Position:HB<br>Role:Pass Route",
            "nflId:46131.0<br>displayName:Brian O'Neill<br>Position:RT<br>Role:Pass Block",
            "nflId:46226.0<br>displayName:Tyler Conklin<br>Position:TE-R<br>Role:Pass Route",
            "nflId:47801.0<br>displayName:Garrett Bradbury<br>Position:C<br>Role:Pass Block",
            "nflId:47976.0<br>displayName:Olisaemeka Udoh<br>Position:RG<br>Role:Pass Block",
            "nflId:52430.0<br>displayName:Justin Jefferson<br>Position:SRWR<br>Role:Pass Route",
            "nflId:52466.0<br>displayName:Ezra Cleveland<br>Position:LG<br>Role:Pass Block",
            "nflId:52725.0<br>displayName:Ben Ellefson<br>Position:TE-L<br>Role:Pass Route"
           ],
           "marker": {
            "color": "#4F2683"
           },
           "mode": "markers",
           "name": "MIN",
           "type": "scatter",
           "x": [
            23.25,
            14.41,
            21.28,
            24.18,
            22.77,
            14.96,
            20.71,
            21.66,
            12.11,
            20.3,
            12.21
           ],
           "y": [
            24.08,
            41.02,
            23.27,
            18.09,
            28.16,
            28.6,
            26,
            26.49,
            33.63,
            24.49,
            18.65
           ]
          },
          {
           "hoverinfo": "none",
           "marker": {
            "color": "#CBB67C"
           },
           "mode": "markers",
           "name": "football",
           "type": "scatter",
           "x": [
            23.49
           ],
           "y": [
            24.17
           ]
          }
         ],
         "name": "24"
        },
        {
         "data": [
          {
           "hoverinfo": "none",
           "mode": "text",
           "showlegend": false,
           "text": [
            "10",
            "20",
            "30",
            "40",
            "50",
            "40",
            "30",
            "20",
            "10"
           ],
           "textfont": {
            "color": "#ffffff",
            "family": "Courier New, monospace",
            "size": 30
           },
           "type": "scatter",
           "x": [
            20,
            30,
            40,
            50,
            60,
            70,
            80,
            90,
            100
           ],
           "y": [
            5,
            5,
            5,
            5,
            5,
            5,
            5,
            5,
            5
           ]
          },
          {
           "hoverinfo": "none",
           "mode": "text",
           "showlegend": false,
           "text": [
            "10",
            "20",
            "30",
            "40",
            "50",
            "40",
            "30",
            "20",
            "10"
           ],
           "textfont": {
            "color": "#ffffff",
            "family": "Courier New, monospace",
            "size": 30
           },
           "type": "scatter",
           "x": [
            20,
            30,
            40,
            50,
            60,
            70,
            80,
            90,
            100
           ],
           "y": [
            48.5,
            48.5,
            48.5,
            48.5,
            48.5,
            48.5,
            48.5,
            48.5,
            48.5
           ]
          },
          {
           "hoverinfo": "none",
           "line": {
            "color": "blue",
            "dash": "dash"
           },
           "showlegend": false,
           "type": "scatter",
           "x": [
            18,
            18
           ],
           "y": [
            0,
            53.5
           ]
          },
          {
           "hoverinfo": "none",
           "line": {
            "color": "yellow",
            "dash": "dash"
           },
           "showlegend": false,
           "type": "scatter",
           "x": [
            26,
            26
           ],
           "y": [
            0,
            53.5
           ]
          },
          {
           "hoverinfo": "text",
           "hovertext": [
            "nflId:37317.0<br>displayName:Malcolm Smith<br>Position:MLB<br>Role:Coverage",
            "nflId:38667.0<br>displayName:Malik Jackson<br>Position:LE<br>Role:Pass Rush",
            "nflId:44813.0<br>displayName:Myles Garrett<br>Position:RE<br>Role:Pass Rush",
            "nflId:44838.0<br>displayName:Takkarist McKinley<br>Position:LOLB<br>Role:Pass Rush",
            "nflId:44847.0<br>displayName:Malik McDowell<br>Position:DRT<br>Role:Pass Rush",
            "nflId:44903.0<br>displayName:John Johnson<br>Position:FSL<br>Role:Coverage",
            "nflId:46073.0<br>displayName:Denzel Ward<br>Position:RLB<br>Role:Coverage",
            "nflId:47829.0<br>displayName:Greedy Williams<br>Position:LCB<br>Role:Coverage",
            "nflId:47863.0<br>displayName:Sione Takitaki<br>Position:RLB<br>Role:Coverage",
            "nflId:47938.0<br>displayName:Mack Wilson<br>Position:LLB<br>Role:Coverage",
            "nflId:52452.0<br>displayName:Grant Delpit<br>Position:SCBL<br>Role:Coverage"
           ],
           "marker": {
            "color": "#311D00"
           },
           "mode": "markers",
           "name": "CLE",
           "type": "scatter",
           "x": [
            11.63,
            21.47,
            20.9,
            23.51,
            19.86,
            5.98,
            11.49,
            8.63,
            13.14,
            12.45,
            13.06
           ],
           "y": [
            25.67,
            26.87,
            23.09,
            27.94,
            23.57,
            28.13,
            18.03,
            40.36,
            19.74,
            30.13,
            40.62
           ]
          },
          {
           "hoverinfo": "text",
           "hovertext": [
            "nflId:38632.0<br>displayName:Kirk Cousins<br>Position:QB<br>Role:Pass",
            "nflId:40488.0<br>displayName:Adam Thielen<br>Position:RWR<br>Role:Pass Route",
            "nflId:43640.0<br>displayName:Rashod Hill<br>Position:LT<br>Role:Pass Block",
            "nflId:44853.0<br>displayName:Dalvin Cook<br>Position:HB<br>Role:Pass Route",
            "nflId:46131.0<br>displayName:Brian O'Neill<br>Position:RT<br>Role:Pass Block",
            "nflId:46226.0<br>displayName:Tyler Conklin<br>Position:TE-R<br>Role:Pass Route",
            "nflId:47801.0<br>displayName:Garrett Bradbury<br>Position:C<br>Role:Pass Block",
            "nflId:47976.0<br>displayName:Olisaemeka Udoh<br>Position:RG<br>Role:Pass Block",
            "nflId:52430.0<br>displayName:Justin Jefferson<br>Position:SRWR<br>Role:Pass Route",
            "nflId:52466.0<br>displayName:Ezra Cleveland<br>Position:LG<br>Role:Pass Block",
            "nflId:52725.0<br>displayName:Ben Ellefson<br>Position:TE-L<br>Role:Pass Route"
           ],
           "marker": {
            "color": "#4F2683"
           },
           "mode": "markers",
           "name": "MIN",
           "type": "scatter",
           "x": [
            23.48,
            14.07,
            21.55,
            24.09,
            23.08,
            14.64,
            20.92,
            21.83,
            11.48,
            20.45,
            11.72
           ],
           "y": [
            24.06,
            41.26,
            23.38,
            17.45,
            27.92,
            28.39,
            26.16,
            26.48,
            33.72,
            24.5,
            18.62
           ]
          },
          {
           "hoverinfo": "none",
           "marker": {
            "color": "#CBB67C"
           },
           "mode": "markers",
           "name": "football",
           "type": "scatter",
           "x": [
            23.72
           ],
           "y": [
            24.19
           ]
          }
         ],
         "name": "25"
        },
        {
         "data": [
          {
           "hoverinfo": "none",
           "mode": "text",
           "showlegend": false,
           "text": [
            "10",
            "20",
            "30",
            "40",
            "50",
            "40",
            "30",
            "20",
            "10"
           ],
           "textfont": {
            "color": "#ffffff",
            "family": "Courier New, monospace",
            "size": 30
           },
           "type": "scatter",
           "x": [
            20,
            30,
            40,
            50,
            60,
            70,
            80,
            90,
            100
           ],
           "y": [
            5,
            5,
            5,
            5,
            5,
            5,
            5,
            5,
            5
           ]
          },
          {
           "hoverinfo": "none",
           "mode": "text",
           "showlegend": false,
           "text": [
            "10",
            "20",
            "30",
            "40",
            "50",
            "40",
            "30",
            "20",
            "10"
           ],
           "textfont": {
            "color": "#ffffff",
            "family": "Courier New, monospace",
            "size": 30
           },
           "type": "scatter",
           "x": [
            20,
            30,
            40,
            50,
            60,
            70,
            80,
            90,
            100
           ],
           "y": [
            48.5,
            48.5,
            48.5,
            48.5,
            48.5,
            48.5,
            48.5,
            48.5,
            48.5
           ]
          },
          {
           "hoverinfo": "none",
           "line": {
            "color": "blue",
            "dash": "dash"
           },
           "showlegend": false,
           "type": "scatter",
           "x": [
            18,
            18
           ],
           "y": [
            0,
            53.5
           ]
          },
          {
           "hoverinfo": "none",
           "line": {
            "color": "yellow",
            "dash": "dash"
           },
           "showlegend": false,
           "type": "scatter",
           "x": [
            26,
            26
           ],
           "y": [
            0,
            53.5
           ]
          },
          {
           "hoverinfo": "text",
           "hovertext": [
            "nflId:37317.0<br>displayName:Malcolm Smith<br>Position:MLB<br>Role:Coverage",
            "nflId:38667.0<br>displayName:Malik Jackson<br>Position:LE<br>Role:Pass Rush",
            "nflId:44813.0<br>displayName:Myles Garrett<br>Position:RE<br>Role:Pass Rush",
            "nflId:44838.0<br>displayName:Takkarist McKinley<br>Position:LOLB<br>Role:Pass Rush",
            "nflId:44847.0<br>displayName:Malik McDowell<br>Position:DRT<br>Role:Pass Rush",
            "nflId:44903.0<br>displayName:John Johnson<br>Position:FSL<br>Role:Coverage",
            "nflId:46073.0<br>displayName:Denzel Ward<br>Position:RLB<br>Role:Coverage",
            "nflId:47829.0<br>displayName:Greedy Williams<br>Position:LCB<br>Role:Coverage",
            "nflId:47863.0<br>displayName:Sione Takitaki<br>Position:RLB<br>Role:Coverage",
            "nflId:47938.0<br>displayName:Mack Wilson<br>Position:LLB<br>Role:Coverage",
            "nflId:52452.0<br>displayName:Grant Delpit<br>Position:SCBL<br>Role:Coverage"
           ],
           "marker": {
            "color": "#311D00"
           },
           "mode": "markers",
           "name": "CLE",
           "type": "scatter",
           "x": [
            11.61,
            21.68,
            21.22,
            23.83,
            20.11,
            5.85,
            11.06,
            8.41,
            13.16,
            12.28,
            12.95
           ],
           "y": [
            25.64,
            26.95,
            23.18,
            27.51,
            23.49,
            28.12,
            17.97,
            40.41,
            19.31,
            30.17,
            41.21
           ]
          },
          {
           "hoverinfo": "text",
           "hovertext": [
            "nflId:38632.0<br>displayName:Kirk Cousins<br>Position:QB<br>Role:Pass",
            "nflId:40488.0<br>displayName:Adam Thielen<br>Position:RWR<br>Role:Pass Route",
            "nflId:43640.0<br>displayName:Rashod Hill<br>Position:LT<br>Role:Pass Block",
            "nflId:44853.0<br>displayName:Dalvin Cook<br>Position:HB<br>Role:Pass Route",
            "nflId:46131.0<br>displayName:Brian O'Neill<br>Position:RT<br>Role:Pass Block",
            "nflId:46226.0<br>displayName:Tyler Conklin<br>Position:TE-R<br>Role:Pass Route",
            "nflId:47801.0<br>displayName:Garrett Bradbury<br>Position:C<br>Role:Pass Block",
            "nflId:47976.0<br>displayName:Olisaemeka Udoh<br>Position:RG<br>Role:Pass Block",
            "nflId:52430.0<br>displayName:Justin Jefferson<br>Position:SRWR<br>Role:Pass Route",
            "nflId:52466.0<br>displayName:Ezra Cleveland<br>Position:LG<br>Role:Pass Block",
            "nflId:52725.0<br>displayName:Ben Ellefson<br>Position:TE-L<br>Role:Pass Route"
           ],
           "marker": {
            "color": "#4F2683"
           },
           "mode": "markers",
           "name": "MIN",
           "type": "scatter",
           "x": [
            23.68,
            13.77,
            21.81,
            23.99,
            23.4,
            14.36,
            21.12,
            22,
            10.84,
            20.62,
            11.23
           ],
           "y": [
            24.04,
            41.46,
            23.48,
            16.81,
            27.61,
            28.1,
            26.34,
            26.49,
            33.82,
            24.46,
            18.61
           ]
          },
          {
           "hoverinfo": "none",
           "marker": {
            "color": "#CBB67C"
           },
           "mode": "markers",
           "name": "football",
           "type": "scatter",
           "x": [
            23.88
           ],
           "y": [
            24.21
           ]
          }
         ],
         "name": "26"
        },
        {
         "data": [
          {
           "hoverinfo": "none",
           "mode": "text",
           "showlegend": false,
           "text": [
            "10",
            "20",
            "30",
            "40",
            "50",
            "40",
            "30",
            "20",
            "10"
           ],
           "textfont": {
            "color": "#ffffff",
            "family": "Courier New, monospace",
            "size": 30
           },
           "type": "scatter",
           "x": [
            20,
            30,
            40,
            50,
            60,
            70,
            80,
            90,
            100
           ],
           "y": [
            5,
            5,
            5,
            5,
            5,
            5,
            5,
            5,
            5
           ]
          },
          {
           "hoverinfo": "none",
           "mode": "text",
           "showlegend": false,
           "text": [
            "10",
            "20",
            "30",
            "40",
            "50",
            "40",
            "30",
            "20",
            "10"
           ],
           "textfont": {
            "color": "#ffffff",
            "family": "Courier New, monospace",
            "size": 30
           },
           "type": "scatter",
           "x": [
            20,
            30,
            40,
            50,
            60,
            70,
            80,
            90,
            100
           ],
           "y": [
            48.5,
            48.5,
            48.5,
            48.5,
            48.5,
            48.5,
            48.5,
            48.5,
            48.5
           ]
          },
          {
           "hoverinfo": "none",
           "line": {
            "color": "blue",
            "dash": "dash"
           },
           "showlegend": false,
           "type": "scatter",
           "x": [
            18,
            18
           ],
           "y": [
            0,
            53.5
           ]
          },
          {
           "hoverinfo": "none",
           "line": {
            "color": "yellow",
            "dash": "dash"
           },
           "showlegend": false,
           "type": "scatter",
           "x": [
            26,
            26
           ],
           "y": [
            0,
            53.5
           ]
          },
          {
           "hoverinfo": "text",
           "hovertext": [
            "nflId:37317.0<br>displayName:Malcolm Smith<br>Position:MLB<br>Role:Coverage",
            "nflId:38667.0<br>displayName:Malik Jackson<br>Position:LE<br>Role:Pass Rush",
            "nflId:44813.0<br>displayName:Myles Garrett<br>Position:RE<br>Role:Pass Rush",
            "nflId:44838.0<br>displayName:Takkarist McKinley<br>Position:LOLB<br>Role:Pass Rush",
            "nflId:44847.0<br>displayName:Malik McDowell<br>Position:DRT<br>Role:Pass Rush",
            "nflId:44903.0<br>displayName:John Johnson<br>Position:FSL<br>Role:Coverage",
            "nflId:46073.0<br>displayName:Denzel Ward<br>Position:RLB<br>Role:Coverage",
            "nflId:47829.0<br>displayName:Greedy Williams<br>Position:LCB<br>Role:Coverage",
            "nflId:47863.0<br>displayName:Sione Takitaki<br>Position:RLB<br>Role:Coverage",
            "nflId:47938.0<br>displayName:Mack Wilson<br>Position:LLB<br>Role:Coverage",
            "nflId:52452.0<br>displayName:Grant Delpit<br>Position:SCBL<br>Role:Coverage"
           ],
           "marker": {
            "color": "#311D00"
           },
           "mode": "markers",
           "name": "CLE",
           "type": "scatter",
           "x": [
            11.62,
            21.87,
            21.51,
            24.11,
            20.39,
            5.73,
            10.61,
            8.2,
            13.2,
            12.11,
            12.83
           ],
           "y": [
            25.57,
            27.04,
            23.26,
            27.06,
            23.4,
            28.13,
            17.93,
            40.43,
            18.86,
            30.18,
            41.75
           ]
          },
          {
           "hoverinfo": "text",
           "hovertext": [
            "nflId:38632.0<br>displayName:Kirk Cousins<br>Position:QB<br>Role:Pass",
            "nflId:40488.0<br>displayName:Adam Thielen<br>Position:RWR<br>Role:Pass Route",
            "nflId:43640.0<br>displayName:Rashod Hill<br>Position:LT<br>Role:Pass Block",
            "nflId:44853.0<br>displayName:Dalvin Cook<br>Position:HB<br>Role:Pass Route",
            "nflId:46131.0<br>displayName:Brian O'Neill<br>Position:RT<br>Role:Pass Block",
            "nflId:46226.0<br>displayName:Tyler Conklin<br>Position:TE-R<br>Role:Pass Route",
            "nflId:47801.0<br>displayName:Garrett Bradbury<br>Position:C<br>Role:Pass Block",
            "nflId:47976.0<br>displayName:Olisaemeka Udoh<br>Position:RG<br>Role:Pass Block",
            "nflId:52430.0<br>displayName:Justin Jefferson<br>Position:SRWR<br>Role:Pass Route",
            "nflId:52466.0<br>displayName:Ezra Cleveland<br>Position:LG<br>Role:Pass Block",
            "nflId:52725.0<br>displayName:Ben Ellefson<br>Position:TE-L<br>Role:Pass Route"
           ],
           "marker": {
            "color": "#4F2683"
           },
           "mode": "markers",
           "name": "MIN",
           "type": "scatter",
           "x": [
            23.82,
            13.51,
            22.06,
            23.89,
            23.72,
            14.12,
            21.34,
            22.14,
            10.19,
            20.78,
            10.75
           ],
           "y": [
            24.02,
            41.61,
            23.58,
            16.17,
            27.27,
            27.81,
            26.52,
            26.52,
            33.95,
            24.42,
            18.62
           ]
          },
          {
           "hoverinfo": "none",
           "marker": {
            "color": "#CBB67C"
           },
           "mode": "markers",
           "name": "football",
           "type": "scatter",
           "x": [
            23.98
           ],
           "y": [
            24.21
           ]
          }
         ],
         "name": "27"
        },
        {
         "data": [
          {
           "hoverinfo": "none",
           "mode": "text",
           "showlegend": false,
           "text": [
            "10",
            "20",
            "30",
            "40",
            "50",
            "40",
            "30",
            "20",
            "10"
           ],
           "textfont": {
            "color": "#ffffff",
            "family": "Courier New, monospace",
            "size": 30
           },
           "type": "scatter",
           "x": [
            20,
            30,
            40,
            50,
            60,
            70,
            80,
            90,
            100
           ],
           "y": [
            5,
            5,
            5,
            5,
            5,
            5,
            5,
            5,
            5
           ]
          },
          {
           "hoverinfo": "none",
           "mode": "text",
           "showlegend": false,
           "text": [
            "10",
            "20",
            "30",
            "40",
            "50",
            "40",
            "30",
            "20",
            "10"
           ],
           "textfont": {
            "color": "#ffffff",
            "family": "Courier New, monospace",
            "size": 30
           },
           "type": "scatter",
           "x": [
            20,
            30,
            40,
            50,
            60,
            70,
            80,
            90,
            100
           ],
           "y": [
            48.5,
            48.5,
            48.5,
            48.5,
            48.5,
            48.5,
            48.5,
            48.5,
            48.5
           ]
          },
          {
           "hoverinfo": "none",
           "line": {
            "color": "blue",
            "dash": "dash"
           },
           "showlegend": false,
           "type": "scatter",
           "x": [
            18,
            18
           ],
           "y": [
            0,
            53.5
           ]
          },
          {
           "hoverinfo": "none",
           "line": {
            "color": "yellow",
            "dash": "dash"
           },
           "showlegend": false,
           "type": "scatter",
           "x": [
            26,
            26
           ],
           "y": [
            0,
            53.5
           ]
          },
          {
           "hoverinfo": "text",
           "hovertext": [
            "nflId:37317.0<br>displayName:Malcolm Smith<br>Position:MLB<br>Role:Coverage",
            "nflId:38667.0<br>displayName:Malik Jackson<br>Position:LE<br>Role:Pass Rush",
            "nflId:44813.0<br>displayName:Myles Garrett<br>Position:RE<br>Role:Pass Rush",
            "nflId:44838.0<br>displayName:Takkarist McKinley<br>Position:LOLB<br>Role:Pass Rush",
            "nflId:44847.0<br>displayName:Malik McDowell<br>Position:DRT<br>Role:Pass Rush",
            "nflId:44903.0<br>displayName:John Johnson<br>Position:FSL<br>Role:Coverage",
            "nflId:46073.0<br>displayName:Denzel Ward<br>Position:RLB<br>Role:Coverage",
            "nflId:47829.0<br>displayName:Greedy Williams<br>Position:LCB<br>Role:Coverage",
            "nflId:47863.0<br>displayName:Sione Takitaki<br>Position:RLB<br>Role:Coverage",
            "nflId:47938.0<br>displayName:Mack Wilson<br>Position:LLB<br>Role:Coverage",
            "nflId:52452.0<br>displayName:Grant Delpit<br>Position:SCBL<br>Role:Coverage"
           ],
           "marker": {
            "color": "#311D00"
           },
           "mode": "markers",
           "name": "CLE",
           "type": "scatter",
           "x": [
            11.66,
            22.04,
            21.79,
            24.34,
            20.72,
            5.64,
            10.16,
            7.98,
            13.26,
            11.95,
            12.71
           ],
           "y": [
            25.45,
            27.15,
            23.33,
            26.6,
            23.31,
            28.2,
            17.92,
            40.38,
            18.39,
            30.16,
            42.25
           ]
          },
          {
           "hoverinfo": "text",
           "hovertext": [
            "nflId:38632.0<br>displayName:Kirk Cousins<br>Position:QB<br>Role:Pass",
            "nflId:40488.0<br>displayName:Adam Thielen<br>Position:RWR<br>Role:Pass Route",
            "nflId:43640.0<br>displayName:Rashod Hill<br>Position:LT<br>Role:Pass Block",
            "nflId:44853.0<br>displayName:Dalvin Cook<br>Position:HB<br>Role:Pass Route",
            "nflId:46131.0<br>displayName:Brian O'Neill<br>Position:RT<br>Role:Pass Block",
            "nflId:46226.0<br>displayName:Tyler Conklin<br>Position:TE-R<br>Role:Pass Route",
            "nflId:47801.0<br>displayName:Garrett Bradbury<br>Position:C<br>Role:Pass Block",
            "nflId:47976.0<br>displayName:Olisaemeka Udoh<br>Position:RG<br>Role:Pass Block",
            "nflId:52430.0<br>displayName:Justin Jefferson<br>Position:SRWR<br>Role:Pass Route",
            "nflId:52466.0<br>displayName:Ezra Cleveland<br>Position:LG<br>Role:Pass Block",
            "nflId:52725.0<br>displayName:Ben Ellefson<br>Position:TE-L<br>Role:Pass Route"
           ],
           "marker": {
            "color": "#4F2683"
           },
           "mode": "markers",
           "name": "MIN",
           "type": "scatter",
           "x": [
            23.91,
            13.3,
            22.34,
            23.78,
            24.02,
            13.92,
            21.55,
            22.28,
            9.55,
            20.98,
            10.26
           ],
           "y": [
            24.06,
            41.71,
            23.67,
            15.54,
            26.92,
            27.47,
            26.69,
            26.56,
            34.11,
            24.3,
            18.66
           ]
          },
          {
           "hoverinfo": "none",
           "marker": {
            "color": "#CBB67C"
           },
           "mode": "markers",
           "name": "football",
           "type": "scatter",
           "x": [
            24.06
           ],
           "y": [
            24.26
           ]
          }
         ],
         "name": "28"
        },
        {
         "data": [
          {
           "hoverinfo": "none",
           "mode": "text",
           "showlegend": false,
           "text": [
            "10",
            "20",
            "30",
            "40",
            "50",
            "40",
            "30",
            "20",
            "10"
           ],
           "textfont": {
            "color": "#ffffff",
            "family": "Courier New, monospace",
            "size": 30
           },
           "type": "scatter",
           "x": [
            20,
            30,
            40,
            50,
            60,
            70,
            80,
            90,
            100
           ],
           "y": [
            5,
            5,
            5,
            5,
            5,
            5,
            5,
            5,
            5
           ]
          },
          {
           "hoverinfo": "none",
           "mode": "text",
           "showlegend": false,
           "text": [
            "10",
            "20",
            "30",
            "40",
            "50",
            "40",
            "30",
            "20",
            "10"
           ],
           "textfont": {
            "color": "#ffffff",
            "family": "Courier New, monospace",
            "size": 30
           },
           "type": "scatter",
           "x": [
            20,
            30,
            40,
            50,
            60,
            70,
            80,
            90,
            100
           ],
           "y": [
            48.5,
            48.5,
            48.5,
            48.5,
            48.5,
            48.5,
            48.5,
            48.5,
            48.5
           ]
          },
          {
           "hoverinfo": "none",
           "line": {
            "color": "blue",
            "dash": "dash"
           },
           "showlegend": false,
           "type": "scatter",
           "x": [
            18,
            18
           ],
           "y": [
            0,
            53.5
           ]
          },
          {
           "hoverinfo": "none",
           "line": {
            "color": "yellow",
            "dash": "dash"
           },
           "showlegend": false,
           "type": "scatter",
           "x": [
            26,
            26
           ],
           "y": [
            0,
            53.5
           ]
          },
          {
           "hoverinfo": "text",
           "hovertext": [
            "nflId:37317.0<br>displayName:Malcolm Smith<br>Position:MLB<br>Role:Coverage",
            "nflId:38667.0<br>displayName:Malik Jackson<br>Position:LE<br>Role:Pass Rush",
            "nflId:44813.0<br>displayName:Myles Garrett<br>Position:RE<br>Role:Pass Rush",
            "nflId:44838.0<br>displayName:Takkarist McKinley<br>Position:LOLB<br>Role:Pass Rush",
            "nflId:44847.0<br>displayName:Malik McDowell<br>Position:DRT<br>Role:Pass Rush",
            "nflId:44903.0<br>displayName:John Johnson<br>Position:FSL<br>Role:Coverage",
            "nflId:46073.0<br>displayName:Denzel Ward<br>Position:RLB<br>Role:Coverage",
            "nflId:47829.0<br>displayName:Greedy Williams<br>Position:LCB<br>Role:Coverage",
            "nflId:47863.0<br>displayName:Sione Takitaki<br>Position:RLB<br>Role:Coverage",
            "nflId:47938.0<br>displayName:Mack Wilson<br>Position:LLB<br>Role:Coverage",
            "nflId:52452.0<br>displayName:Grant Delpit<br>Position:SCBL<br>Role:Coverage"
           ],
           "marker": {
            "color": "#311D00"
           },
           "mode": "markers",
           "name": "CLE",
           "type": "scatter",
           "x": [
            11.74,
            22.19,
            22.08,
            24.52,
            21.1,
            5.55,
            9.71,
            7.78,
            13.33,
            11.81,
            12.6
           ],
           "y": [
            25.29,
            27.26,
            23.41,
            26.13,
            23.23,
            28.3,
            17.94,
            40.32,
            17.9,
            30.11,
            42.71
           ]
          },
          {
           "hoverinfo": "text",
           "hovertext": [
            "nflId:38632.0<br>displayName:Kirk Cousins<br>Position:QB<br>Role:Pass",
            "nflId:40488.0<br>displayName:Adam Thielen<br>Position:RWR<br>Role:Pass Route",
            "nflId:43640.0<br>displayName:Rashod Hill<br>Position:LT<br>Role:Pass Block",
            "nflId:44853.0<br>displayName:Dalvin Cook<br>Position:HB<br>Role:Pass Route",
            "nflId:46131.0<br>displayName:Brian O'Neill<br>Position:RT<br>Role:Pass Block",
            "nflId:46226.0<br>displayName:Tyler Conklin<br>Position:TE-R<br>Role:Pass Route",
            "nflId:47801.0<br>displayName:Garrett Bradbury<br>Position:C<br>Role:Pass Block",
            "nflId:47976.0<br>displayName:Olisaemeka Udoh<br>Position:RG<br>Role:Pass Block",
            "nflId:52430.0<br>displayName:Justin Jefferson<br>Position:SRWR<br>Role:Pass Route",
            "nflId:52466.0<br>displayName:Ezra Cleveland<br>Position:LG<br>Role:Pass Block",
            "nflId:52725.0<br>displayName:Ben Ellefson<br>Position:TE-L<br>Role:Pass Route"
           ],
           "marker": {
            "color": "#4F2683"
           },
           "mode": "markers",
           "name": "MIN",
           "type": "scatter",
           "x": [
            23.97,
            13.12,
            22.59,
            23.66,
            24.3,
            13.75,
            21.74,
            22.42,
            8.92,
            21.17,
            9.78
           ],
           "y": [
            24.09,
            41.75,
            23.78,
            14.92,
            26.55,
            27.09,
            26.85,
            26.61,
            34.28,
            24.2,
            18.72
           ]
          },
          {
           "hoverinfo": "none",
           "marker": {
            "color": "#CBB67C"
           },
           "mode": "markers",
           "name": "football",
           "type": "scatter",
           "x": [
            24.1
           ],
           "y": [
            24.29
           ]
          }
         ],
         "name": "29"
        },
        {
         "data": [
          {
           "hoverinfo": "none",
           "mode": "text",
           "showlegend": false,
           "text": [
            "10",
            "20",
            "30",
            "40",
            "50",
            "40",
            "30",
            "20",
            "10"
           ],
           "textfont": {
            "color": "#ffffff",
            "family": "Courier New, monospace",
            "size": 30
           },
           "type": "scatter",
           "x": [
            20,
            30,
            40,
            50,
            60,
            70,
            80,
            90,
            100
           ],
           "y": [
            5,
            5,
            5,
            5,
            5,
            5,
            5,
            5,
            5
           ]
          },
          {
           "hoverinfo": "none",
           "mode": "text",
           "showlegend": false,
           "text": [
            "10",
            "20",
            "30",
            "40",
            "50",
            "40",
            "30",
            "20",
            "10"
           ],
           "textfont": {
            "color": "#ffffff",
            "family": "Courier New, monospace",
            "size": 30
           },
           "type": "scatter",
           "x": [
            20,
            30,
            40,
            50,
            60,
            70,
            80,
            90,
            100
           ],
           "y": [
            48.5,
            48.5,
            48.5,
            48.5,
            48.5,
            48.5,
            48.5,
            48.5,
            48.5
           ]
          },
          {
           "hoverinfo": "none",
           "line": {
            "color": "blue",
            "dash": "dash"
           },
           "showlegend": false,
           "type": "scatter",
           "x": [
            18,
            18
           ],
           "y": [
            0,
            53.5
           ]
          },
          {
           "hoverinfo": "none",
           "line": {
            "color": "yellow",
            "dash": "dash"
           },
           "showlegend": false,
           "type": "scatter",
           "x": [
            26,
            26
           ],
           "y": [
            0,
            53.5
           ]
          },
          {
           "hoverinfo": "text",
           "hovertext": [
            "nflId:37317.0<br>displayName:Malcolm Smith<br>Position:MLB<br>Role:Coverage",
            "nflId:38667.0<br>displayName:Malik Jackson<br>Position:LE<br>Role:Pass Rush",
            "nflId:44813.0<br>displayName:Myles Garrett<br>Position:RE<br>Role:Pass Rush",
            "nflId:44838.0<br>displayName:Takkarist McKinley<br>Position:LOLB<br>Role:Pass Rush",
            "nflId:44847.0<br>displayName:Malik McDowell<br>Position:DRT<br>Role:Pass Rush",
            "nflId:44903.0<br>displayName:John Johnson<br>Position:FSL<br>Role:Coverage",
            "nflId:46073.0<br>displayName:Denzel Ward<br>Position:RLB<br>Role:Coverage",
            "nflId:47829.0<br>displayName:Greedy Williams<br>Position:LCB<br>Role:Coverage",
            "nflId:47863.0<br>displayName:Sione Takitaki<br>Position:RLB<br>Role:Coverage",
            "nflId:47938.0<br>displayName:Mack Wilson<br>Position:LLB<br>Role:Coverage",
            "nflId:52452.0<br>displayName:Grant Delpit<br>Position:SCBL<br>Role:Coverage"
           ],
           "marker": {
            "color": "#311D00"
           },
           "mode": "markers",
           "name": "CLE",
           "type": "scatter",
           "x": [
            11.85,
            22.32,
            22.37,
            24.65,
            21.48,
            5.47,
            9.25,
            7.57,
            13.42,
            11.69,
            12.49
           ],
           "y": [
            25.08,
            27.42,
            23.47,
            25.64,
            23.15,
            28.43,
            18,
            40.23,
            17.39,
            30.03,
            43.1
           ]
          },
          {
           "hoverinfo": "text",
           "hovertext": [
            "nflId:38632.0<br>displayName:Kirk Cousins<br>Position:QB<br>Role:Pass",
            "nflId:40488.0<br>displayName:Adam Thielen<br>Position:RWR<br>Role:Pass Route",
            "nflId:43640.0<br>displayName:Rashod Hill<br>Position:LT<br>Role:Pass Block",
            "nflId:44853.0<br>displayName:Dalvin Cook<br>Position:HB<br>Role:Pass Route",
            "nflId:46131.0<br>displayName:Brian O'Neill<br>Position:RT<br>Role:Pass Block",
            "nflId:46226.0<br>displayName:Tyler Conklin<br>Position:TE-R<br>Role:Pass Route",
            "nflId:47801.0<br>displayName:Garrett Bradbury<br>Position:C<br>Role:Pass Block",
            "nflId:47976.0<br>displayName:Olisaemeka Udoh<br>Position:RG<br>Role:Pass Block",
            "nflId:52430.0<br>displayName:Justin Jefferson<br>Position:SRWR<br>Role:Pass Route",
            "nflId:52466.0<br>displayName:Ezra Cleveland<br>Position:LG<br>Role:Pass Block",
            "nflId:52725.0<br>displayName:Ben Ellefson<br>Position:TE-L<br>Role:Pass Route"
           ],
           "marker": {
            "color": "#4F2683"
           },
           "mode": "markers",
           "name": "MIN",
           "type": "scatter",
           "x": [
            24,
            12.96,
            22.83,
            23.53,
            24.54,
            13.61,
            21.91,
            22.55,
            8.3,
            21.37,
            9.29
           ],
           "y": [
            24.14,
            41.72,
            23.88,
            14.31,
            26.14,
            26.69,
            27.01,
            26.67,
            34.5,
            24.06,
            18.81
           ]
          },
          {
           "hoverinfo": "none",
           "marker": {
            "color": "#CBB67C"
           },
           "mode": "markers",
           "name": "football",
           "type": "scatter",
           "x": [
            24.13
           ],
           "y": [
            24.32
           ]
          }
         ],
         "name": "30"
        },
        {
         "data": [
          {
           "hoverinfo": "none",
           "mode": "text",
           "showlegend": false,
           "text": [
            "10",
            "20",
            "30",
            "40",
            "50",
            "40",
            "30",
            "20",
            "10"
           ],
           "textfont": {
            "color": "#ffffff",
            "family": "Courier New, monospace",
            "size": 30
           },
           "type": "scatter",
           "x": [
            20,
            30,
            40,
            50,
            60,
            70,
            80,
            90,
            100
           ],
           "y": [
            5,
            5,
            5,
            5,
            5,
            5,
            5,
            5,
            5
           ]
          },
          {
           "hoverinfo": "none",
           "mode": "text",
           "showlegend": false,
           "text": [
            "10",
            "20",
            "30",
            "40",
            "50",
            "40",
            "30",
            "20",
            "10"
           ],
           "textfont": {
            "color": "#ffffff",
            "family": "Courier New, monospace",
            "size": 30
           },
           "type": "scatter",
           "x": [
            20,
            30,
            40,
            50,
            60,
            70,
            80,
            90,
            100
           ],
           "y": [
            48.5,
            48.5,
            48.5,
            48.5,
            48.5,
            48.5,
            48.5,
            48.5,
            48.5
           ]
          },
          {
           "hoverinfo": "none",
           "line": {
            "color": "blue",
            "dash": "dash"
           },
           "showlegend": false,
           "type": "scatter",
           "x": [
            18,
            18
           ],
           "y": [
            0,
            53.5
           ]
          },
          {
           "hoverinfo": "none",
           "line": {
            "color": "yellow",
            "dash": "dash"
           },
           "showlegend": false,
           "type": "scatter",
           "x": [
            26,
            26
           ],
           "y": [
            0,
            53.5
           ]
          },
          {
           "hoverinfo": "text",
           "hovertext": [
            "nflId:37317.0<br>displayName:Malcolm Smith<br>Position:MLB<br>Role:Coverage",
            "nflId:38667.0<br>displayName:Malik Jackson<br>Position:LE<br>Role:Pass Rush",
            "nflId:44813.0<br>displayName:Myles Garrett<br>Position:RE<br>Role:Pass Rush",
            "nflId:44838.0<br>displayName:Takkarist McKinley<br>Position:LOLB<br>Role:Pass Rush",
            "nflId:44847.0<br>displayName:Malik McDowell<br>Position:DRT<br>Role:Pass Rush",
            "nflId:44903.0<br>displayName:John Johnson<br>Position:FSL<br>Role:Coverage",
            "nflId:46073.0<br>displayName:Denzel Ward<br>Position:RLB<br>Role:Coverage",
            "nflId:47829.0<br>displayName:Greedy Williams<br>Position:LCB<br>Role:Coverage",
            "nflId:47863.0<br>displayName:Sione Takitaki<br>Position:RLB<br>Role:Coverage",
            "nflId:47938.0<br>displayName:Mack Wilson<br>Position:LLB<br>Role:Coverage",
            "nflId:52452.0<br>displayName:Grant Delpit<br>Position:SCBL<br>Role:Coverage"
           ],
           "marker": {
            "color": "#311D00"
           },
           "mode": "markers",
           "name": "CLE",
           "type": "scatter",
           "x": [
            11.98,
            22.44,
            22.64,
            24.75,
            21.89,
            5.39,
            8.8,
            7.36,
            13.52,
            11.6,
            12.37
           ],
           "y": [
            24.84,
            27.57,
            23.54,
            25.18,
            23.08,
            28.6,
            18.12,
            40.12,
            16.88,
            29.94,
            43.41
           ]
          },
          {
           "hoverinfo": "text",
           "hovertext": [
            "nflId:38632.0<br>displayName:Kirk Cousins<br>Position:QB<br>Role:Pass",
            "nflId:40488.0<br>displayName:Adam Thielen<br>Position:RWR<br>Role:Pass Route",
            "nflId:43640.0<br>displayName:Rashod Hill<br>Position:LT<br>Role:Pass Block",
            "nflId:44853.0<br>displayName:Dalvin Cook<br>Position:HB<br>Role:Pass Route",
            "nflId:46131.0<br>displayName:Brian O'Neill<br>Position:RT<br>Role:Pass Block",
            "nflId:46226.0<br>displayName:Tyler Conklin<br>Position:TE-R<br>Role:Pass Route",
            "nflId:47801.0<br>displayName:Garrett Bradbury<br>Position:C<br>Role:Pass Block",
            "nflId:47976.0<br>displayName:Olisaemeka Udoh<br>Position:RG<br>Role:Pass Block",
            "nflId:52430.0<br>displayName:Justin Jefferson<br>Position:SRWR<br>Role:Pass Route",
            "nflId:52466.0<br>displayName:Ezra Cleveland<br>Position:LG<br>Role:Pass Block",
            "nflId:52725.0<br>displayName:Ben Ellefson<br>Position:TE-L<br>Role:Pass Route"
           ],
           "marker": {
            "color": "#4F2683"
           },
           "mode": "markers",
           "name": "MIN",
           "type": "scatter",
           "x": [
            24.01,
            12.84,
            23.05,
            23.4,
            24.76,
            13.52,
            22.09,
            22.67,
            7.7,
            21.58,
            8.8
           ],
           "y": [
            24.23,
            41.65,
            23.97,
            13.71,
            25.73,
            26.25,
            27.19,
            26.74,
            34.75,
            23.88,
            18.94
           ]
          },
          {
           "hoverinfo": "none",
           "marker": {
            "color": "#CBB67C"
           },
           "mode": "markers",
           "name": "football",
           "type": "scatter",
           "x": [
            24.12
           ],
           "y": [
            24.33
           ]
          }
         ],
         "name": "31"
        },
        {
         "data": [
          {
           "hoverinfo": "none",
           "mode": "text",
           "showlegend": false,
           "text": [
            "10",
            "20",
            "30",
            "40",
            "50",
            "40",
            "30",
            "20",
            "10"
           ],
           "textfont": {
            "color": "#ffffff",
            "family": "Courier New, monospace",
            "size": 30
           },
           "type": "scatter",
           "x": [
            20,
            30,
            40,
            50,
            60,
            70,
            80,
            90,
            100
           ],
           "y": [
            5,
            5,
            5,
            5,
            5,
            5,
            5,
            5,
            5
           ]
          },
          {
           "hoverinfo": "none",
           "mode": "text",
           "showlegend": false,
           "text": [
            "10",
            "20",
            "30",
            "40",
            "50",
            "40",
            "30",
            "20",
            "10"
           ],
           "textfont": {
            "color": "#ffffff",
            "family": "Courier New, monospace",
            "size": 30
           },
           "type": "scatter",
           "x": [
            20,
            30,
            40,
            50,
            60,
            70,
            80,
            90,
            100
           ],
           "y": [
            48.5,
            48.5,
            48.5,
            48.5,
            48.5,
            48.5,
            48.5,
            48.5,
            48.5
           ]
          },
          {
           "hoverinfo": "none",
           "line": {
            "color": "blue",
            "dash": "dash"
           },
           "showlegend": false,
           "type": "scatter",
           "x": [
            18,
            18
           ],
           "y": [
            0,
            53.5
           ]
          },
          {
           "hoverinfo": "none",
           "line": {
            "color": "yellow",
            "dash": "dash"
           },
           "showlegend": false,
           "type": "scatter",
           "x": [
            26,
            26
           ],
           "y": [
            0,
            53.5
           ]
          },
          {
           "hoverinfo": "text",
           "hovertext": [
            "nflId:37317.0<br>displayName:Malcolm Smith<br>Position:MLB<br>Role:Coverage",
            "nflId:38667.0<br>displayName:Malik Jackson<br>Position:LE<br>Role:Pass Rush",
            "nflId:44813.0<br>displayName:Myles Garrett<br>Position:RE<br>Role:Pass Rush",
            "nflId:44838.0<br>displayName:Takkarist McKinley<br>Position:LOLB<br>Role:Pass Rush",
            "nflId:44847.0<br>displayName:Malik McDowell<br>Position:DRT<br>Role:Pass Rush",
            "nflId:44903.0<br>displayName:John Johnson<br>Position:FSL<br>Role:Coverage",
            "nflId:46073.0<br>displayName:Denzel Ward<br>Position:RLB<br>Role:Coverage",
            "nflId:47829.0<br>displayName:Greedy Williams<br>Position:LCB<br>Role:Coverage",
            "nflId:47863.0<br>displayName:Sione Takitaki<br>Position:RLB<br>Role:Coverage",
            "nflId:47938.0<br>displayName:Mack Wilson<br>Position:LLB<br>Role:Coverage",
            "nflId:52452.0<br>displayName:Grant Delpit<br>Position:SCBL<br>Role:Coverage"
           ],
           "marker": {
            "color": "#311D00"
           },
           "mode": "markers",
           "name": "CLE",
           "type": "scatter",
           "x": [
            12.14,
            22.57,
            22.93,
            24.82,
            22.29,
            5.29,
            8.36,
            7.12,
            13.64,
            11.53,
            12.26
           ],
           "y": [
            24.58,
            27.74,
            23.62,
            24.73,
            23.02,
            28.8,
            18.28,
            40.01,
            16.36,
            29.83,
            43.66
           ]
          },
          {
           "hoverinfo": "text",
           "hovertext": [
            "nflId:38632.0<br>displayName:Kirk Cousins<br>Position:QB<br>Role:Pass",
            "nflId:40488.0<br>displayName:Adam Thielen<br>Position:RWR<br>Role:Pass Route",
            "nflId:43640.0<br>displayName:Rashod Hill<br>Position:LT<br>Role:Pass Block",
            "nflId:44853.0<br>displayName:Dalvin Cook<br>Position:HB<br>Role:Pass Route",
            "nflId:46131.0<br>displayName:Brian O'Neill<br>Position:RT<br>Role:Pass Block",
            "nflId:46226.0<br>displayName:Tyler Conklin<br>Position:TE-R<br>Role:Pass Route",
            "nflId:47801.0<br>displayName:Garrett Bradbury<br>Position:C<br>Role:Pass Block",
            "nflId:47976.0<br>displayName:Olisaemeka Udoh<br>Position:RG<br>Role:Pass Block",
            "nflId:52430.0<br>displayName:Justin Jefferson<br>Position:SRWR<br>Role:Pass Route",
            "nflId:52466.0<br>displayName:Ezra Cleveland<br>Position:LG<br>Role:Pass Block",
            "nflId:52725.0<br>displayName:Ben Ellefson<br>Position:TE-L<br>Role:Pass Route"
           ],
           "marker": {
            "color": "#4F2683"
           },
           "mode": "markers",
           "name": "MIN",
           "type": "scatter",
           "x": [
            23.99,
            12.75,
            23.28,
            23.26,
            24.96,
            13.47,
            22.24,
            22.79,
            7.12,
            21.79,
            8.3
           ],
           "y": [
            24.34,
            41.53,
            24.06,
            13.13,
            25.33,
            25.8,
            27.34,
            26.8,
            35.06,
            23.72,
            19.1
           ]
          },
          {
           "hoverinfo": "none",
           "marker": {
            "color": "#CBB67C"
           },
           "mode": "markers",
           "name": "football",
           "type": "scatter",
           "x": [
            24.09
           ],
           "y": [
            24.41
           ]
          }
         ],
         "name": "32"
        },
        {
         "data": [
          {
           "hoverinfo": "none",
           "mode": "text",
           "showlegend": false,
           "text": [
            "10",
            "20",
            "30",
            "40",
            "50",
            "40",
            "30",
            "20",
            "10"
           ],
           "textfont": {
            "color": "#ffffff",
            "family": "Courier New, monospace",
            "size": 30
           },
           "type": "scatter",
           "x": [
            20,
            30,
            40,
            50,
            60,
            70,
            80,
            90,
            100
           ],
           "y": [
            5,
            5,
            5,
            5,
            5,
            5,
            5,
            5,
            5
           ]
          },
          {
           "hoverinfo": "none",
           "mode": "text",
           "showlegend": false,
           "text": [
            "10",
            "20",
            "30",
            "40",
            "50",
            "40",
            "30",
            "20",
            "10"
           ],
           "textfont": {
            "color": "#ffffff",
            "family": "Courier New, monospace",
            "size": 30
           },
           "type": "scatter",
           "x": [
            20,
            30,
            40,
            50,
            60,
            70,
            80,
            90,
            100
           ],
           "y": [
            48.5,
            48.5,
            48.5,
            48.5,
            48.5,
            48.5,
            48.5,
            48.5,
            48.5
           ]
          },
          {
           "hoverinfo": "none",
           "line": {
            "color": "blue",
            "dash": "dash"
           },
           "showlegend": false,
           "type": "scatter",
           "x": [
            18,
            18
           ],
           "y": [
            0,
            53.5
           ]
          },
          {
           "hoverinfo": "none",
           "line": {
            "color": "yellow",
            "dash": "dash"
           },
           "showlegend": false,
           "type": "scatter",
           "x": [
            26,
            26
           ],
           "y": [
            0,
            53.5
           ]
          },
          {
           "hoverinfo": "text",
           "hovertext": [
            "nflId:37317.0<br>displayName:Malcolm Smith<br>Position:MLB<br>Role:Coverage",
            "nflId:38667.0<br>displayName:Malik Jackson<br>Position:LE<br>Role:Pass Rush",
            "nflId:44813.0<br>displayName:Myles Garrett<br>Position:RE<br>Role:Pass Rush",
            "nflId:44838.0<br>displayName:Takkarist McKinley<br>Position:LOLB<br>Role:Pass Rush",
            "nflId:44847.0<br>displayName:Malik McDowell<br>Position:DRT<br>Role:Pass Rush",
            "nflId:44903.0<br>displayName:John Johnson<br>Position:FSL<br>Role:Coverage",
            "nflId:46073.0<br>displayName:Denzel Ward<br>Position:RLB<br>Role:Coverage",
            "nflId:47829.0<br>displayName:Greedy Williams<br>Position:LCB<br>Role:Coverage",
            "nflId:47863.0<br>displayName:Sione Takitaki<br>Position:RLB<br>Role:Coverage",
            "nflId:47938.0<br>displayName:Mack Wilson<br>Position:LLB<br>Role:Coverage",
            "nflId:52452.0<br>displayName:Grant Delpit<br>Position:SCBL<br>Role:Coverage"
           ],
           "marker": {
            "color": "#311D00"
           },
           "mode": "markers",
           "name": "CLE",
           "type": "scatter",
           "x": [
            12.32,
            22.7,
            23.2,
            24.87,
            22.68,
            5.19,
            7.9,
            6.87,
            13.76,
            11.49,
            12.14
           ],
           "y": [
            24.29,
            27.92,
            23.69,
            24.31,
            22.98,
            29.02,
            18.49,
            39.89,
            15.85,
            29.72,
            43.84
           ]
          },
          {
           "hoverinfo": "text",
           "hovertext": [
            "nflId:38632.0<br>displayName:Kirk Cousins<br>Position:QB<br>Role:Pass",
            "nflId:40488.0<br>displayName:Adam Thielen<br>Position:RWR<br>Role:Pass Route",
            "nflId:43640.0<br>displayName:Rashod Hill<br>Position:LT<br>Role:Pass Block",
            "nflId:44853.0<br>displayName:Dalvin Cook<br>Position:HB<br>Role:Pass Route",
            "nflId:46131.0<br>displayName:Brian O'Neill<br>Position:RT<br>Role:Pass Block",
            "nflId:46226.0<br>displayName:Tyler Conklin<br>Position:TE-R<br>Role:Pass Route",
            "nflId:47801.0<br>displayName:Garrett Bradbury<br>Position:C<br>Role:Pass Block",
            "nflId:47976.0<br>displayName:Olisaemeka Udoh<br>Position:RG<br>Role:Pass Block",
            "nflId:52430.0<br>displayName:Justin Jefferson<br>Position:SRWR<br>Role:Pass Route",
            "nflId:52466.0<br>displayName:Ezra Cleveland<br>Position:LG<br>Role:Pass Block",
            "nflId:52725.0<br>displayName:Ben Ellefson<br>Position:TE-L<br>Role:Pass Route"
           ],
           "marker": {
            "color": "#4F2683"
           },
           "mode": "markers",
           "name": "MIN",
           "type": "scatter",
           "x": [
            23.95,
            12.67,
            23.5,
            23.11,
            25.14,
            13.43,
            22.39,
            22.9,
            6.58,
            22.01,
            7.82
           ],
           "y": [
            24.47,
            41.36,
            24.15,
            12.56,
            24.93,
            25.34,
            27.51,
            26.87,
            35.41,
            23.54,
            19.29
           ]
          },
          {
           "hoverinfo": "none",
           "marker": {
            "color": "#CBB67C"
           },
           "mode": "markers",
           "name": "football",
           "type": "scatter",
           "x": [
            24.04
           ],
           "y": [
            24.54
           ]
          }
         ],
         "name": "33"
        },
        {
         "data": [
          {
           "hoverinfo": "none",
           "mode": "text",
           "showlegend": false,
           "text": [
            "10",
            "20",
            "30",
            "40",
            "50",
            "40",
            "30",
            "20",
            "10"
           ],
           "textfont": {
            "color": "#ffffff",
            "family": "Courier New, monospace",
            "size": 30
           },
           "type": "scatter",
           "x": [
            20,
            30,
            40,
            50,
            60,
            70,
            80,
            90,
            100
           ],
           "y": [
            5,
            5,
            5,
            5,
            5,
            5,
            5,
            5,
            5
           ]
          },
          {
           "hoverinfo": "none",
           "mode": "text",
           "showlegend": false,
           "text": [
            "10",
            "20",
            "30",
            "40",
            "50",
            "40",
            "30",
            "20",
            "10"
           ],
           "textfont": {
            "color": "#ffffff",
            "family": "Courier New, monospace",
            "size": 30
           },
           "type": "scatter",
           "x": [
            20,
            30,
            40,
            50,
            60,
            70,
            80,
            90,
            100
           ],
           "y": [
            48.5,
            48.5,
            48.5,
            48.5,
            48.5,
            48.5,
            48.5,
            48.5,
            48.5
           ]
          },
          {
           "hoverinfo": "none",
           "line": {
            "color": "blue",
            "dash": "dash"
           },
           "showlegend": false,
           "type": "scatter",
           "x": [
            18,
            18
           ],
           "y": [
            0,
            53.5
           ]
          },
          {
           "hoverinfo": "none",
           "line": {
            "color": "yellow",
            "dash": "dash"
           },
           "showlegend": false,
           "type": "scatter",
           "x": [
            26,
            26
           ],
           "y": [
            0,
            53.5
           ]
          },
          {
           "hoverinfo": "text",
           "hovertext": [
            "nflId:37317.0<br>displayName:Malcolm Smith<br>Position:MLB<br>Role:Coverage",
            "nflId:38667.0<br>displayName:Malik Jackson<br>Position:LE<br>Role:Pass Rush",
            "nflId:44813.0<br>displayName:Myles Garrett<br>Position:RE<br>Role:Pass Rush",
            "nflId:44838.0<br>displayName:Takkarist McKinley<br>Position:LOLB<br>Role:Pass Rush",
            "nflId:44847.0<br>displayName:Malik McDowell<br>Position:DRT<br>Role:Pass Rush",
            "nflId:44903.0<br>displayName:John Johnson<br>Position:FSL<br>Role:Coverage",
            "nflId:46073.0<br>displayName:Denzel Ward<br>Position:RLB<br>Role:Coverage",
            "nflId:47829.0<br>displayName:Greedy Williams<br>Position:LCB<br>Role:Coverage",
            "nflId:47863.0<br>displayName:Sione Takitaki<br>Position:RLB<br>Role:Coverage",
            "nflId:47938.0<br>displayName:Mack Wilson<br>Position:LLB<br>Role:Coverage",
            "nflId:52452.0<br>displayName:Grant Delpit<br>Position:SCBL<br>Role:Coverage"
           ],
           "marker": {
            "color": "#311D00"
           },
           "mode": "markers",
           "name": "CLE",
           "type": "scatter",
           "x": [
            12.51,
            22.84,
            23.46,
            24.92,
            23.06,
            5.07,
            7.45,
            6.58,
            13.89,
            11.47,
            12.02
           ],
           "y": [
            23.97,
            28.11,
            23.76,
            23.94,
            22.95,
            29.24,
            18.72,
            39.81,
            15.34,
            29.62,
            43.95
           ]
          },
          {
           "hoverinfo": "text",
           "hovertext": [
            "nflId:38632.0<br>displayName:Kirk Cousins<br>Position:QB<br>Role:Pass",
            "nflId:40488.0<br>displayName:Adam Thielen<br>Position:RWR<br>Role:Pass Route",
            "nflId:43640.0<br>displayName:Rashod Hill<br>Position:LT<br>Role:Pass Block",
            "nflId:44853.0<br>displayName:Dalvin Cook<br>Position:HB<br>Role:Pass Route",
            "nflId:46131.0<br>displayName:Brian O'Neill<br>Position:RT<br>Role:Pass Block",
            "nflId:46226.0<br>displayName:Tyler Conklin<br>Position:TE-R<br>Role:Pass Route",
            "nflId:47801.0<br>displayName:Garrett Bradbury<br>Position:C<br>Role:Pass Block",
            "nflId:47976.0<br>displayName:Olisaemeka Udoh<br>Position:RG<br>Role:Pass Block",
            "nflId:52430.0<br>displayName:Justin Jefferson<br>Position:SRWR<br>Role:Pass Route",
            "nflId:52466.0<br>displayName:Ezra Cleveland<br>Position:LG<br>Role:Pass Block",
            "nflId:52725.0<br>displayName:Ben Ellefson<br>Position:TE-L<br>Role:Pass Route"
           ],
           "marker": {
            "color": "#4F2683"
           },
           "mode": "markers",
           "name": "MIN",
           "type": "scatter",
           "x": [
            23.89,
            12.61,
            23.75,
            22.95,
            25.27,
            13.4,
            22.56,
            23,
            6.07,
            22.23,
            7.34
           ],
           "y": [
            24.64,
            41.14,
            24.25,
            12.01,
            24.5,
            24.89,
            27.7,
            26.94,
            35.82,
            23.35,
            19.51
           ]
          },
          {
           "hoverinfo": "none",
           "marker": {
            "color": "#CBB67C"
           },
           "mode": "markers",
           "name": "football",
           "type": "scatter",
           "x": [
            23.97
           ],
           "y": [
            24.7
           ]
          }
         ],
         "name": "34"
        },
        {
         "data": [
          {
           "hoverinfo": "none",
           "mode": "text",
           "showlegend": false,
           "text": [
            "10",
            "20",
            "30",
            "40",
            "50",
            "40",
            "30",
            "20",
            "10"
           ],
           "textfont": {
            "color": "#ffffff",
            "family": "Courier New, monospace",
            "size": 30
           },
           "type": "scatter",
           "x": [
            20,
            30,
            40,
            50,
            60,
            70,
            80,
            90,
            100
           ],
           "y": [
            5,
            5,
            5,
            5,
            5,
            5,
            5,
            5,
            5
           ]
          },
          {
           "hoverinfo": "none",
           "mode": "text",
           "showlegend": false,
           "text": [
            "10",
            "20",
            "30",
            "40",
            "50",
            "40",
            "30",
            "20",
            "10"
           ],
           "textfont": {
            "color": "#ffffff",
            "family": "Courier New, monospace",
            "size": 30
           },
           "type": "scatter",
           "x": [
            20,
            30,
            40,
            50,
            60,
            70,
            80,
            90,
            100
           ],
           "y": [
            48.5,
            48.5,
            48.5,
            48.5,
            48.5,
            48.5,
            48.5,
            48.5,
            48.5
           ]
          },
          {
           "hoverinfo": "none",
           "line": {
            "color": "blue",
            "dash": "dash"
           },
           "showlegend": false,
           "type": "scatter",
           "x": [
            18,
            18
           ],
           "y": [
            0,
            53.5
           ]
          },
          {
           "hoverinfo": "none",
           "line": {
            "color": "yellow",
            "dash": "dash"
           },
           "showlegend": false,
           "type": "scatter",
           "x": [
            26,
            26
           ],
           "y": [
            0,
            53.5
           ]
          },
          {
           "hoverinfo": "text",
           "hovertext": [
            "nflId:37317.0<br>displayName:Malcolm Smith<br>Position:MLB<br>Role:Coverage",
            "nflId:38667.0<br>displayName:Malik Jackson<br>Position:LE<br>Role:Pass Rush",
            "nflId:44813.0<br>displayName:Myles Garrett<br>Position:RE<br>Role:Pass Rush",
            "nflId:44838.0<br>displayName:Takkarist McKinley<br>Position:LOLB<br>Role:Pass Rush",
            "nflId:44847.0<br>displayName:Malik McDowell<br>Position:DRT<br>Role:Pass Rush",
            "nflId:44903.0<br>displayName:John Johnson<br>Position:FSL<br>Role:Coverage",
            "nflId:46073.0<br>displayName:Denzel Ward<br>Position:RLB<br>Role:Coverage",
            "nflId:47829.0<br>displayName:Greedy Williams<br>Position:LCB<br>Role:Coverage",
            "nflId:47863.0<br>displayName:Sione Takitaki<br>Position:RLB<br>Role:Coverage",
            "nflId:47938.0<br>displayName:Mack Wilson<br>Position:LLB<br>Role:Coverage",
            "nflId:52452.0<br>displayName:Grant Delpit<br>Position:SCBL<br>Role:Coverage"
           ],
           "marker": {
            "color": "#311D00"
           },
           "mode": "markers",
           "name": "CLE",
           "type": "scatter",
           "x": [
            12.7,
            22.99,
            23.7,
            24.97,
            23.4,
            4.9,
            7.01,
            6.27,
            14.01,
            11.47,
            11.89
           ],
           "y": [
            23.66,
            28.32,
            23.83,
            23.6,
            22.95,
            29.45,
            18.98,
            39.77,
            14.86,
            29.53,
            44.01
           ]
          },
          {
           "hoverinfo": "text",
           "hovertext": [
            "nflId:38632.0<br>displayName:Kirk Cousins<br>Position:QB<br>Role:Pass",
            "nflId:40488.0<br>displayName:Adam Thielen<br>Position:RWR<br>Role:Pass Route",
            "nflId:43640.0<br>displayName:Rashod Hill<br>Position:LT<br>Role:Pass Block",
            "nflId:44853.0<br>displayName:Dalvin Cook<br>Position:HB<br>Role:Pass Route",
            "nflId:46131.0<br>displayName:Brian O'Neill<br>Position:RT<br>Role:Pass Block",
            "nflId:46226.0<br>displayName:Tyler Conklin<br>Position:TE-R<br>Role:Pass Route",
            "nflId:47801.0<br>displayName:Garrett Bradbury<br>Position:C<br>Role:Pass Block",
            "nflId:47976.0<br>displayName:Olisaemeka Udoh<br>Position:RG<br>Role:Pass Block",
            "nflId:52430.0<br>displayName:Justin Jefferson<br>Position:SRWR<br>Role:Pass Route",
            "nflId:52466.0<br>displayName:Ezra Cleveland<br>Position:LG<br>Role:Pass Block",
            "nflId:52725.0<br>displayName:Ben Ellefson<br>Position:TE-L<br>Role:Pass Route"
           ],
           "marker": {
            "color": "#4F2683"
           },
           "mode": "markers",
           "name": "MIN",
           "type": "scatter",
           "x": [
            23.82,
            12.57,
            23.99,
            22.79,
            25.37,
            13.38,
            22.71,
            23.09,
            5.62,
            22.46,
            6.87
           ],
           "y": [
            24.83,
            40.88,
            24.35,
            11.48,
            24.09,
            24.46,
            27.89,
            27,
            36.28,
            23.16,
            19.76
           ]
          },
          {
           "hoverinfo": "none",
           "marker": {
            "color": "#CBB67C"
           },
           "mode": "markers",
           "name": "football",
           "type": "scatter",
           "x": [
            23.88
           ],
           "y": [
            24.89
           ]
          }
         ],
         "name": "35"
        },
        {
         "data": [
          {
           "hoverinfo": "none",
           "mode": "text",
           "showlegend": false,
           "text": [
            "10",
            "20",
            "30",
            "40",
            "50",
            "40",
            "30",
            "20",
            "10"
           ],
           "textfont": {
            "color": "#ffffff",
            "family": "Courier New, monospace",
            "size": 30
           },
           "type": "scatter",
           "x": [
            20,
            30,
            40,
            50,
            60,
            70,
            80,
            90,
            100
           ],
           "y": [
            5,
            5,
            5,
            5,
            5,
            5,
            5,
            5,
            5
           ]
          },
          {
           "hoverinfo": "none",
           "mode": "text",
           "showlegend": false,
           "text": [
            "10",
            "20",
            "30",
            "40",
            "50",
            "40",
            "30",
            "20",
            "10"
           ],
           "textfont": {
            "color": "#ffffff",
            "family": "Courier New, monospace",
            "size": 30
           },
           "type": "scatter",
           "x": [
            20,
            30,
            40,
            50,
            60,
            70,
            80,
            90,
            100
           ],
           "y": [
            48.5,
            48.5,
            48.5,
            48.5,
            48.5,
            48.5,
            48.5,
            48.5,
            48.5
           ]
          },
          {
           "hoverinfo": "none",
           "line": {
            "color": "blue",
            "dash": "dash"
           },
           "showlegend": false,
           "type": "scatter",
           "x": [
            18,
            18
           ],
           "y": [
            0,
            53.5
           ]
          },
          {
           "hoverinfo": "none",
           "line": {
            "color": "yellow",
            "dash": "dash"
           },
           "showlegend": false,
           "type": "scatter",
           "x": [
            26,
            26
           ],
           "y": [
            0,
            53.5
           ]
          },
          {
           "hoverinfo": "text",
           "hovertext": [
            "nflId:37317.0<br>displayName:Malcolm Smith<br>Position:MLB<br>Role:Coverage",
            "nflId:38667.0<br>displayName:Malik Jackson<br>Position:LE<br>Role:Pass Rush",
            "nflId:44813.0<br>displayName:Myles Garrett<br>Position:RE<br>Role:Pass Rush",
            "nflId:44838.0<br>displayName:Takkarist McKinley<br>Position:LOLB<br>Role:Pass Rush",
            "nflId:44847.0<br>displayName:Malik McDowell<br>Position:DRT<br>Role:Pass Rush",
            "nflId:44903.0<br>displayName:John Johnson<br>Position:FSL<br>Role:Coverage",
            "nflId:46073.0<br>displayName:Denzel Ward<br>Position:RLB<br>Role:Coverage",
            "nflId:47829.0<br>displayName:Greedy Williams<br>Position:LCB<br>Role:Coverage",
            "nflId:47863.0<br>displayName:Sione Takitaki<br>Position:RLB<br>Role:Coverage",
            "nflId:47938.0<br>displayName:Mack Wilson<br>Position:LLB<br>Role:Coverage",
            "nflId:52452.0<br>displayName:Grant Delpit<br>Position:SCBL<br>Role:Coverage"
           ],
           "marker": {
            "color": "#311D00"
           },
           "mode": "markers",
           "name": "CLE",
           "type": "scatter",
           "x": [
            12.88,
            23.14,
            23.95,
            25.02,
            23.69,
            4.7,
            6.57,
            5.97,
            14.11,
            11.5,
            11.76
           ],
           "y": [
            23.35,
            28.52,
            23.89,
            23.29,
            22.98,
            29.63,
            19.28,
            39.74,
            14.4,
            29.45,
            43.99
           ]
          },
          {
           "hoverinfo": "text",
           "hovertext": [
            "nflId:38632.0<br>displayName:Kirk Cousins<br>Position:QB<br>Role:Pass",
            "nflId:40488.0<br>displayName:Adam Thielen<br>Position:RWR<br>Role:Pass Route",
            "nflId:43640.0<br>displayName:Rashod Hill<br>Position:LT<br>Role:Pass Block",
            "nflId:44853.0<br>displayName:Dalvin Cook<br>Position:HB<br>Role:Pass Route",
            "nflId:46131.0<br>displayName:Brian O'Neill<br>Position:RT<br>Role:Pass Block",
            "nflId:46226.0<br>displayName:Tyler Conklin<br>Position:TE-R<br>Role:Pass Route",
            "nflId:47801.0<br>displayName:Garrett Bradbury<br>Position:C<br>Role:Pass Block",
            "nflId:47976.0<br>displayName:Olisaemeka Udoh<br>Position:RG<br>Role:Pass Block",
            "nflId:52430.0<br>displayName:Justin Jefferson<br>Position:SRWR<br>Role:Pass Route",
            "nflId:52466.0<br>displayName:Ezra Cleveland<br>Position:LG<br>Role:Pass Block",
            "nflId:52725.0<br>displayName:Ben Ellefson<br>Position:TE-L<br>Role:Pass Route"
           ],
           "marker": {
            "color": "#4F2683"
           },
           "mode": "markers",
           "name": "MIN",
           "type": "scatter",
           "x": [
            23.71,
            12.55,
            24.25,
            22.62,
            25.45,
            13.35,
            22.85,
            23.16,
            5.19,
            22.69,
            6.41
           ],
           "y": [
            25.03,
            40.59,
            24.45,
            10.96,
            23.69,
            24.08,
            28.07,
            27.06,
            36.78,
            22.97,
            20.04
           ]
          },
          {
           "hoverinfo": "none",
           "marker": {
            "color": "#CBB67C"
           },
           "mode": "markers",
           "name": "football",
           "type": "scatter",
           "x": [
            23.76
           ],
           "y": [
            25.09
           ]
          }
         ],
         "name": "36"
        },
        {
         "data": [
          {
           "hoverinfo": "none",
           "mode": "text",
           "showlegend": false,
           "text": [
            "10",
            "20",
            "30",
            "40",
            "50",
            "40",
            "30",
            "20",
            "10"
           ],
           "textfont": {
            "color": "#ffffff",
            "family": "Courier New, monospace",
            "size": 30
           },
           "type": "scatter",
           "x": [
            20,
            30,
            40,
            50,
            60,
            70,
            80,
            90,
            100
           ],
           "y": [
            5,
            5,
            5,
            5,
            5,
            5,
            5,
            5,
            5
           ]
          },
          {
           "hoverinfo": "none",
           "mode": "text",
           "showlegend": false,
           "text": [
            "10",
            "20",
            "30",
            "40",
            "50",
            "40",
            "30",
            "20",
            "10"
           ],
           "textfont": {
            "color": "#ffffff",
            "family": "Courier New, monospace",
            "size": 30
           },
           "type": "scatter",
           "x": [
            20,
            30,
            40,
            50,
            60,
            70,
            80,
            90,
            100
           ],
           "y": [
            48.5,
            48.5,
            48.5,
            48.5,
            48.5,
            48.5,
            48.5,
            48.5,
            48.5
           ]
          },
          {
           "hoverinfo": "none",
           "line": {
            "color": "blue",
            "dash": "dash"
           },
           "showlegend": false,
           "type": "scatter",
           "x": [
            18,
            18
           ],
           "y": [
            0,
            53.5
           ]
          },
          {
           "hoverinfo": "none",
           "line": {
            "color": "yellow",
            "dash": "dash"
           },
           "showlegend": false,
           "type": "scatter",
           "x": [
            26,
            26
           ],
           "y": [
            0,
            53.5
           ]
          },
          {
           "hoverinfo": "text",
           "hovertext": [
            "nflId:37317.0<br>displayName:Malcolm Smith<br>Position:MLB<br>Role:Coverage",
            "nflId:38667.0<br>displayName:Malik Jackson<br>Position:LE<br>Role:Pass Rush",
            "nflId:44813.0<br>displayName:Myles Garrett<br>Position:RE<br>Role:Pass Rush",
            "nflId:44838.0<br>displayName:Takkarist McKinley<br>Position:LOLB<br>Role:Pass Rush",
            "nflId:44847.0<br>displayName:Malik McDowell<br>Position:DRT<br>Role:Pass Rush",
            "nflId:44903.0<br>displayName:John Johnson<br>Position:FSL<br>Role:Coverage",
            "nflId:46073.0<br>displayName:Denzel Ward<br>Position:RLB<br>Role:Coverage",
            "nflId:47829.0<br>displayName:Greedy Williams<br>Position:LCB<br>Role:Coverage",
            "nflId:47863.0<br>displayName:Sione Takitaki<br>Position:RLB<br>Role:Coverage",
            "nflId:47938.0<br>displayName:Mack Wilson<br>Position:LLB<br>Role:Coverage",
            "nflId:52452.0<br>displayName:Grant Delpit<br>Position:SCBL<br>Role:Coverage"
           ],
           "marker": {
            "color": "#311D00"
           },
           "mode": "markers",
           "name": "CLE",
           "type": "scatter",
           "x": [
            13.04,
            23.31,
            24.17,
            25.07,
            23.93,
            4.5,
            6.16,
            5.64,
            14.22,
            11.55,
            11.62
           ],
           "y": [
            23.05,
            28.74,
            23.97,
            23.03,
            23.04,
            29.79,
            19.62,
            39.77,
            13.98,
            29.4,
            43.89
           ]
          },
          {
           "hoverinfo": "text",
           "hovertext": [
            "nflId:38632.0<br>displayName:Kirk Cousins<br>Position:QB<br>Role:Pass",
            "nflId:40488.0<br>displayName:Adam Thielen<br>Position:RWR<br>Role:Pass Route",
            "nflId:43640.0<br>displayName:Rashod Hill<br>Position:LT<br>Role:Pass Block",
            "nflId:44853.0<br>displayName:Dalvin Cook<br>Position:HB<br>Role:Pass Route",
            "nflId:46131.0<br>displayName:Brian O'Neill<br>Position:RT<br>Role:Pass Block",
            "nflId:46226.0<br>displayName:Tyler Conklin<br>Position:TE-R<br>Role:Pass Route",
            "nflId:47801.0<br>displayName:Garrett Bradbury<br>Position:C<br>Role:Pass Block",
            "nflId:47976.0<br>displayName:Olisaemeka Udoh<br>Position:RG<br>Role:Pass Block",
            "nflId:52430.0<br>displayName:Justin Jefferson<br>Position:SRWR<br>Role:Pass Route",
            "nflId:52466.0<br>displayName:Ezra Cleveland<br>Position:LG<br>Role:Pass Block",
            "nflId:52725.0<br>displayName:Ben Ellefson<br>Position:TE-L<br>Role:Pass Route"
           ],
           "marker": {
            "color": "#4F2683"
           },
           "mode": "markers",
           "name": "MIN",
           "type": "scatter",
           "x": [
            23.58,
            12.54,
            24.49,
            22.45,
            25.49,
            13.3,
            23,
            23.22,
            4.79,
            22.93,
            5.98
           ],
           "y": [
            25.25,
            40.27,
            24.54,
            10.46,
            23.3,
            23.73,
            28.26,
            27.12,
            37.33,
            22.78,
            20.36
           ]
          },
          {
           "hoverinfo": "none",
           "marker": {
            "color": "#CBB67C"
           },
           "mode": "markers",
           "name": "football",
           "type": "scatter",
           "x": [
            23.61
           ],
           "y": [
            25.3
           ]
          }
         ],
         "name": "37"
        },
        {
         "data": [
          {
           "hoverinfo": "none",
           "mode": "text",
           "showlegend": false,
           "text": [
            "10",
            "20",
            "30",
            "40",
            "50",
            "40",
            "30",
            "20",
            "10"
           ],
           "textfont": {
            "color": "#ffffff",
            "family": "Courier New, monospace",
            "size": 30
           },
           "type": "scatter",
           "x": [
            20,
            30,
            40,
            50,
            60,
            70,
            80,
            90,
            100
           ],
           "y": [
            5,
            5,
            5,
            5,
            5,
            5,
            5,
            5,
            5
           ]
          },
          {
           "hoverinfo": "none",
           "mode": "text",
           "showlegend": false,
           "text": [
            "10",
            "20",
            "30",
            "40",
            "50",
            "40",
            "30",
            "20",
            "10"
           ],
           "textfont": {
            "color": "#ffffff",
            "family": "Courier New, monospace",
            "size": 30
           },
           "type": "scatter",
           "x": [
            20,
            30,
            40,
            50,
            60,
            70,
            80,
            90,
            100
           ],
           "y": [
            48.5,
            48.5,
            48.5,
            48.5,
            48.5,
            48.5,
            48.5,
            48.5,
            48.5
           ]
          },
          {
           "hoverinfo": "none",
           "line": {
            "color": "blue",
            "dash": "dash"
           },
           "showlegend": false,
           "type": "scatter",
           "x": [
            18,
            18
           ],
           "y": [
            0,
            53.5
           ]
          },
          {
           "hoverinfo": "none",
           "line": {
            "color": "yellow",
            "dash": "dash"
           },
           "showlegend": false,
           "type": "scatter",
           "x": [
            26,
            26
           ],
           "y": [
            0,
            53.5
           ]
          },
          {
           "hoverinfo": "text",
           "hovertext": [
            "nflId:37317.0<br>displayName:Malcolm Smith<br>Position:MLB<br>Role:Coverage",
            "nflId:38667.0<br>displayName:Malik Jackson<br>Position:LE<br>Role:Pass Rush",
            "nflId:44813.0<br>displayName:Myles Garrett<br>Position:RE<br>Role:Pass Rush",
            "nflId:44838.0<br>displayName:Takkarist McKinley<br>Position:LOLB<br>Role:Pass Rush",
            "nflId:44847.0<br>displayName:Malik McDowell<br>Position:DRT<br>Role:Pass Rush",
            "nflId:44903.0<br>displayName:John Johnson<br>Position:FSL<br>Role:Coverage",
            "nflId:46073.0<br>displayName:Denzel Ward<br>Position:RLB<br>Role:Coverage",
            "nflId:47829.0<br>displayName:Greedy Williams<br>Position:LCB<br>Role:Coverage",
            "nflId:47863.0<br>displayName:Sione Takitaki<br>Position:RLB<br>Role:Coverage",
            "nflId:47938.0<br>displayName:Mack Wilson<br>Position:LLB<br>Role:Coverage",
            "nflId:52452.0<br>displayName:Grant Delpit<br>Position:SCBL<br>Role:Coverage"
           ],
           "marker": {
            "color": "#311D00"
           },
           "mode": "markers",
           "name": "CLE",
           "type": "scatter",
           "x": [
            13.19,
            23.46,
            24.38,
            25.1,
            24.12,
            4.3,
            5.77,
            5.29,
            14.3,
            11.61,
            11.49
           ],
           "y": [
            22.79,
            28.97,
            24.05,
            22.79,
            23.12,
            29.92,
            20,
            39.85,
            13.6,
            29.38,
            43.73
           ]
          },
          {
           "hoverinfo": "text",
           "hovertext": [
            "nflId:38632.0<br>displayName:Kirk Cousins<br>Position:QB<br>Role:Pass",
            "nflId:40488.0<br>displayName:Adam Thielen<br>Position:RWR<br>Role:Pass Route",
            "nflId:43640.0<br>displayName:Rashod Hill<br>Position:LT<br>Role:Pass Block",
            "nflId:44853.0<br>displayName:Dalvin Cook<br>Position:HB<br>Role:Pass Route",
            "nflId:46131.0<br>displayName:Brian O'Neill<br>Position:RT<br>Role:Pass Block",
            "nflId:46226.0<br>displayName:Tyler Conklin<br>Position:TE-R<br>Role:Pass Route",
            "nflId:47801.0<br>displayName:Garrett Bradbury<br>Position:C<br>Role:Pass Block",
            "nflId:47976.0<br>displayName:Olisaemeka Udoh<br>Position:RG<br>Role:Pass Block",
            "nflId:52430.0<br>displayName:Justin Jefferson<br>Position:SRWR<br>Role:Pass Route",
            "nflId:52466.0<br>displayName:Ezra Cleveland<br>Position:LG<br>Role:Pass Block",
            "nflId:52725.0<br>displayName:Ben Ellefson<br>Position:TE-L<br>Role:Pass Route"
           ],
           "marker": {
            "color": "#4F2683"
           },
           "mode": "markers",
           "name": "MIN",
           "type": "scatter",
           "x": [
            23.42,
            12.53,
            24.73,
            22.28,
            25.47,
            13.23,
            23.14,
            23.26,
            4.41,
            23.15,
            5.56
           ],
           "y": [
            25.47,
            39.91,
            24.63,
            9.99,
            22.9,
            23.44,
            28.45,
            27.17,
            37.89,
            22.59,
            20.73
           ]
          },
          {
           "hoverinfo": "none",
           "marker": {
            "color": "#CBB67C"
           },
           "mode": "markers",
           "name": "football",
           "type": "scatter",
           "x": [
            23.42
           ],
           "y": [
            25.51
           ]
          }
         ],
         "name": "38"
        },
        {
         "data": [
          {
           "hoverinfo": "none",
           "mode": "text",
           "showlegend": false,
           "text": [
            "10",
            "20",
            "30",
            "40",
            "50",
            "40",
            "30",
            "20",
            "10"
           ],
           "textfont": {
            "color": "#ffffff",
            "family": "Courier New, monospace",
            "size": 30
           },
           "type": "scatter",
           "x": [
            20,
            30,
            40,
            50,
            60,
            70,
            80,
            90,
            100
           ],
           "y": [
            5,
            5,
            5,
            5,
            5,
            5,
            5,
            5,
            5
           ]
          },
          {
           "hoverinfo": "none",
           "mode": "text",
           "showlegend": false,
           "text": [
            "10",
            "20",
            "30",
            "40",
            "50",
            "40",
            "30",
            "20",
            "10"
           ],
           "textfont": {
            "color": "#ffffff",
            "family": "Courier New, monospace",
            "size": 30
           },
           "type": "scatter",
           "x": [
            20,
            30,
            40,
            50,
            60,
            70,
            80,
            90,
            100
           ],
           "y": [
            48.5,
            48.5,
            48.5,
            48.5,
            48.5,
            48.5,
            48.5,
            48.5,
            48.5
           ]
          },
          {
           "hoverinfo": "none",
           "line": {
            "color": "blue",
            "dash": "dash"
           },
           "showlegend": false,
           "type": "scatter",
           "x": [
            18,
            18
           ],
           "y": [
            0,
            53.5
           ]
          },
          {
           "hoverinfo": "none",
           "line": {
            "color": "yellow",
            "dash": "dash"
           },
           "showlegend": false,
           "type": "scatter",
           "x": [
            26,
            26
           ],
           "y": [
            0,
            53.5
           ]
          },
          {
           "hoverinfo": "text",
           "hovertext": [
            "nflId:37317.0<br>displayName:Malcolm Smith<br>Position:MLB<br>Role:Coverage",
            "nflId:38667.0<br>displayName:Malik Jackson<br>Position:LE<br>Role:Pass Rush",
            "nflId:44813.0<br>displayName:Myles Garrett<br>Position:RE<br>Role:Pass Rush",
            "nflId:44838.0<br>displayName:Takkarist McKinley<br>Position:LOLB<br>Role:Pass Rush",
            "nflId:44847.0<br>displayName:Malik McDowell<br>Position:DRT<br>Role:Pass Rush",
            "nflId:44903.0<br>displayName:John Johnson<br>Position:FSL<br>Role:Coverage",
            "nflId:46073.0<br>displayName:Denzel Ward<br>Position:RLB<br>Role:Coverage",
            "nflId:47829.0<br>displayName:Greedy Williams<br>Position:LCB<br>Role:Coverage",
            "nflId:47863.0<br>displayName:Sione Takitaki<br>Position:RLB<br>Role:Coverage",
            "nflId:47938.0<br>displayName:Mack Wilson<br>Position:LLB<br>Role:Coverage",
            "nflId:52452.0<br>displayName:Grant Delpit<br>Position:SCBL<br>Role:Coverage"
           ],
           "marker": {
            "color": "#311D00"
           },
           "mode": "markers",
           "name": "CLE",
           "type": "scatter",
           "x": [
            13.3,
            23.59,
            24.57,
            25.15,
            24.25,
            4.09,
            5.4,
            4.94,
            14.37,
            11.68,
            11.37
           ],
           "y": [
            22.57,
            29.2,
            24.14,
            22.64,
            23.24,
            30.02,
            20.4,
            40,
            13.27,
            29.35,
            43.49
           ]
          },
          {
           "hoverinfo": "text",
           "hovertext": [
            "nflId:38632.0<br>displayName:Kirk Cousins<br>Position:QB<br>Role:Pass",
            "nflId:40488.0<br>displayName:Adam Thielen<br>Position:RWR<br>Role:Pass Route",
            "nflId:43640.0<br>displayName:Rashod Hill<br>Position:LT<br>Role:Pass Block",
            "nflId:44853.0<br>displayName:Dalvin Cook<br>Position:HB<br>Role:Pass Route",
            "nflId:46131.0<br>displayName:Brian O'Neill<br>Position:RT<br>Role:Pass Block",
            "nflId:46226.0<br>displayName:Tyler Conklin<br>Position:TE-R<br>Role:Pass Route",
            "nflId:47801.0<br>displayName:Garrett Bradbury<br>Position:C<br>Role:Pass Block",
            "nflId:47976.0<br>displayName:Olisaemeka Udoh<br>Position:RG<br>Role:Pass Block",
            "nflId:52430.0<br>displayName:Justin Jefferson<br>Position:SRWR<br>Role:Pass Route",
            "nflId:52466.0<br>displayName:Ezra Cleveland<br>Position:LG<br>Role:Pass Block",
            "nflId:52725.0<br>displayName:Ben Ellefson<br>Position:TE-L<br>Role:Pass Route"
           ],
           "marker": {
            "color": "#4F2683"
           },
           "mode": "markers",
           "name": "MIN",
           "type": "scatter",
           "x": [
            23.21,
            12.52,
            24.99,
            22.11,
            25.47,
            13.14,
            23.29,
            23.26,
            4.06,
            23.4,
            5.17
           ],
           "y": [
            25.68,
            39.55,
            24.69,
            9.54,
            22.53,
            23.2,
            28.64,
            27.23,
            38.46,
            22.42,
            21.12
           ]
          },
          {
           "hoverinfo": "none",
           "marker": {
            "color": "#CBB67C"
           },
           "mode": "markers",
           "name": "football",
           "type": "scatter",
           "x": [
            23.21
           ],
           "y": [
            25.7
           ]
          }
         ],
         "name": "39"
        },
        {
         "data": [
          {
           "hoverinfo": "none",
           "mode": "text",
           "showlegend": false,
           "text": [
            "10",
            "20",
            "30",
            "40",
            "50",
            "40",
            "30",
            "20",
            "10"
           ],
           "textfont": {
            "color": "#ffffff",
            "family": "Courier New, monospace",
            "size": 30
           },
           "type": "scatter",
           "x": [
            20,
            30,
            40,
            50,
            60,
            70,
            80,
            90,
            100
           ],
           "y": [
            5,
            5,
            5,
            5,
            5,
            5,
            5,
            5,
            5
           ]
          },
          {
           "hoverinfo": "none",
           "mode": "text",
           "showlegend": false,
           "text": [
            "10",
            "20",
            "30",
            "40",
            "50",
            "40",
            "30",
            "20",
            "10"
           ],
           "textfont": {
            "color": "#ffffff",
            "family": "Courier New, monospace",
            "size": 30
           },
           "type": "scatter",
           "x": [
            20,
            30,
            40,
            50,
            60,
            70,
            80,
            90,
            100
           ],
           "y": [
            48.5,
            48.5,
            48.5,
            48.5,
            48.5,
            48.5,
            48.5,
            48.5,
            48.5
           ]
          },
          {
           "hoverinfo": "none",
           "line": {
            "color": "blue",
            "dash": "dash"
           },
           "showlegend": false,
           "type": "scatter",
           "x": [
            18,
            18
           ],
           "y": [
            0,
            53.5
           ]
          },
          {
           "hoverinfo": "none",
           "line": {
            "color": "yellow",
            "dash": "dash"
           },
           "showlegend": false,
           "type": "scatter",
           "x": [
            26,
            26
           ],
           "y": [
            0,
            53.5
           ]
          },
          {
           "hoverinfo": "text",
           "hovertext": [
            "nflId:37317.0<br>displayName:Malcolm Smith<br>Position:MLB<br>Role:Coverage",
            "nflId:38667.0<br>displayName:Malik Jackson<br>Position:LE<br>Role:Pass Rush",
            "nflId:44813.0<br>displayName:Myles Garrett<br>Position:RE<br>Role:Pass Rush",
            "nflId:44838.0<br>displayName:Takkarist McKinley<br>Position:LOLB<br>Role:Pass Rush",
            "nflId:44847.0<br>displayName:Malik McDowell<br>Position:DRT<br>Role:Pass Rush",
            "nflId:44903.0<br>displayName:John Johnson<br>Position:FSL<br>Role:Coverage",
            "nflId:46073.0<br>displayName:Denzel Ward<br>Position:RLB<br>Role:Coverage",
            "nflId:47829.0<br>displayName:Greedy Williams<br>Position:LCB<br>Role:Coverage",
            "nflId:47863.0<br>displayName:Sione Takitaki<br>Position:RLB<br>Role:Coverage",
            "nflId:47938.0<br>displayName:Mack Wilson<br>Position:LLB<br>Role:Coverage",
            "nflId:52452.0<br>displayName:Grant Delpit<br>Position:SCBL<br>Role:Coverage"
           ],
           "marker": {
            "color": "#311D00"
           },
           "mode": "markers",
           "name": "CLE",
           "type": "scatter",
           "x": [
            13.36,
            23.68,
            24.75,
            25.2,
            24.32,
            3.88,
            5.07,
            4.57,
            14.41,
            11.75,
            11.25
           ],
           "y": [
            22.4,
            29.45,
            24.25,
            22.48,
            23.39,
            30.07,
            20.83,
            40.22,
            13,
            29.32,
            43.22
           ]
          },
          {
           "hoverinfo": "text",
           "hovertext": [
            "nflId:38632.0<br>displayName:Kirk Cousins<br>Position:QB<br>Role:Pass",
            "nflId:40488.0<br>displayName:Adam Thielen<br>Position:RWR<br>Role:Pass Route",
            "nflId:43640.0<br>displayName:Rashod Hill<br>Position:LT<br>Role:Pass Block",
            "nflId:44853.0<br>displayName:Dalvin Cook<br>Position:HB<br>Role:Pass Route",
            "nflId:46131.0<br>displayName:Brian O'Neill<br>Position:RT<br>Role:Pass Block",
            "nflId:46226.0<br>displayName:Tyler Conklin<br>Position:TE-R<br>Role:Pass Route",
            "nflId:47801.0<br>displayName:Garrett Bradbury<br>Position:C<br>Role:Pass Block",
            "nflId:47976.0<br>displayName:Olisaemeka Udoh<br>Position:RG<br>Role:Pass Block",
            "nflId:52430.0<br>displayName:Justin Jefferson<br>Position:SRWR<br>Role:Pass Route",
            "nflId:52466.0<br>displayName:Ezra Cleveland<br>Position:LG<br>Role:Pass Block",
            "nflId:52725.0<br>displayName:Ben Ellefson<br>Position:TE-L<br>Role:Pass Route"
           ],
           "marker": {
            "color": "#4F2683"
           },
           "mode": "markers",
           "name": "MIN",
           "type": "scatter",
           "x": [
            22.98,
            12.51,
            25.24,
            21.94,
            25.44,
            13.02,
            23.42,
            23.25,
            3.73,
            23.63,
            4.81
           ],
           "y": [
            25.88,
            39.15,
            24.75,
            9.11,
            22.16,
            23.02,
            28.83,
            27.29,
            39.03,
            22.26,
            21.54
           ]
          },
          {
           "hoverinfo": "none",
           "marker": {
            "color": "#CBB67C"
           },
           "mode": "markers",
           "name": "football",
           "type": "scatter",
           "x": [
            22.97
           ],
           "y": [
            25.89
           ]
          }
         ],
         "name": "40"
        },
        {
         "data": [
          {
           "hoverinfo": "none",
           "mode": "text",
           "showlegend": false,
           "text": [
            "10",
            "20",
            "30",
            "40",
            "50",
            "40",
            "30",
            "20",
            "10"
           ],
           "textfont": {
            "color": "#ffffff",
            "family": "Courier New, monospace",
            "size": 30
           },
           "type": "scatter",
           "x": [
            20,
            30,
            40,
            50,
            60,
            70,
            80,
            90,
            100
           ],
           "y": [
            5,
            5,
            5,
            5,
            5,
            5,
            5,
            5,
            5
           ]
          },
          {
           "hoverinfo": "none",
           "mode": "text",
           "showlegend": false,
           "text": [
            "10",
            "20",
            "30",
            "40",
            "50",
            "40",
            "30",
            "20",
            "10"
           ],
           "textfont": {
            "color": "#ffffff",
            "family": "Courier New, monospace",
            "size": 30
           },
           "type": "scatter",
           "x": [
            20,
            30,
            40,
            50,
            60,
            70,
            80,
            90,
            100
           ],
           "y": [
            48.5,
            48.5,
            48.5,
            48.5,
            48.5,
            48.5,
            48.5,
            48.5,
            48.5
           ]
          },
          {
           "hoverinfo": "none",
           "line": {
            "color": "blue",
            "dash": "dash"
           },
           "showlegend": false,
           "type": "scatter",
           "x": [
            18,
            18
           ],
           "y": [
            0,
            53.5
           ]
          },
          {
           "hoverinfo": "none",
           "line": {
            "color": "yellow",
            "dash": "dash"
           },
           "showlegend": false,
           "type": "scatter",
           "x": [
            26,
            26
           ],
           "y": [
            0,
            53.5
           ]
          },
          {
           "hoverinfo": "text",
           "hovertext": [
            "nflId:37317.0<br>displayName:Malcolm Smith<br>Position:MLB<br>Role:Coverage",
            "nflId:38667.0<br>displayName:Malik Jackson<br>Position:LE<br>Role:Pass Rush",
            "nflId:44813.0<br>displayName:Myles Garrett<br>Position:RE<br>Role:Pass Rush",
            "nflId:44838.0<br>displayName:Takkarist McKinley<br>Position:LOLB<br>Role:Pass Rush",
            "nflId:44847.0<br>displayName:Malik McDowell<br>Position:DRT<br>Role:Pass Rush",
            "nflId:44903.0<br>displayName:John Johnson<br>Position:FSL<br>Role:Coverage",
            "nflId:46073.0<br>displayName:Denzel Ward<br>Position:RLB<br>Role:Coverage",
            "nflId:47829.0<br>displayName:Greedy Williams<br>Position:LCB<br>Role:Coverage",
            "nflId:47863.0<br>displayName:Sione Takitaki<br>Position:RLB<br>Role:Coverage",
            "nflId:47938.0<br>displayName:Mack Wilson<br>Position:LLB<br>Role:Coverage",
            "nflId:52452.0<br>displayName:Grant Delpit<br>Position:SCBL<br>Role:Coverage"
           ],
           "marker": {
            "color": "#311D00"
           },
           "mode": "markers",
           "name": "CLE",
           "type": "scatter",
           "x": [
            13.36,
            23.73,
            24.92,
            25.25,
            24.34,
            3.68,
            4.76,
            4.2,
            14.43,
            11.83,
            11.14
           ],
           "y": [
            22.28,
            29.72,
            24.35,
            22.4,
            23.55,
            30.09,
            21.28,
            40.5,
            12.79,
            29.29,
            42.88
           ]
          },
          {
           "hoverinfo": "text",
           "hovertext": [
            "nflId:38632.0<br>displayName:Kirk Cousins<br>Position:QB<br>Role:Pass",
            "nflId:40488.0<br>displayName:Adam Thielen<br>Position:RWR<br>Role:Pass Route",
            "nflId:43640.0<br>displayName:Rashod Hill<br>Position:LT<br>Role:Pass Block",
            "nflId:44853.0<br>displayName:Dalvin Cook<br>Position:HB<br>Role:Pass Route",
            "nflId:46131.0<br>displayName:Brian O'Neill<br>Position:RT<br>Role:Pass Block",
            "nflId:46226.0<br>displayName:Tyler Conklin<br>Position:TE-R<br>Role:Pass Route",
            "nflId:47801.0<br>displayName:Garrett Bradbury<br>Position:C<br>Role:Pass Block",
            "nflId:47976.0<br>displayName:Olisaemeka Udoh<br>Position:RG<br>Role:Pass Block",
            "nflId:52430.0<br>displayName:Justin Jefferson<br>Position:SRWR<br>Role:Pass Route",
            "nflId:52466.0<br>displayName:Ezra Cleveland<br>Position:LG<br>Role:Pass Block",
            "nflId:52725.0<br>displayName:Ben Ellefson<br>Position:TE-L<br>Role:Pass Route"
           ],
           "marker": {
            "color": "#4F2683"
           },
           "mode": "markers",
           "name": "MIN",
           "type": "scatter",
           "x": [
            22.71,
            12.49,
            25.5,
            21.77,
            25.37,
            12.87,
            23.55,
            23.22,
            3.41,
            23.82,
            4.47
           ],
           "y": [
            26.05,
            38.74,
            24.8,
            8.71,
            21.81,
            22.9,
            29.01,
            27.34,
            39.6,
            22.11,
            21.97
           ]
          },
          {
           "hoverinfo": "none",
           "marker": {
            "color": "#CBB67C"
           },
           "mode": "markers",
           "name": "football",
           "type": "scatter",
           "x": [
            22.7
           ],
           "y": [
            26.07
           ]
          }
         ],
         "name": "41"
        },
        {
         "data": [
          {
           "hoverinfo": "none",
           "mode": "text",
           "showlegend": false,
           "text": [
            "10",
            "20",
            "30",
            "40",
            "50",
            "40",
            "30",
            "20",
            "10"
           ],
           "textfont": {
            "color": "#ffffff",
            "family": "Courier New, monospace",
            "size": 30
           },
           "type": "scatter",
           "x": [
            20,
            30,
            40,
            50,
            60,
            70,
            80,
            90,
            100
           ],
           "y": [
            5,
            5,
            5,
            5,
            5,
            5,
            5,
            5,
            5
           ]
          },
          {
           "hoverinfo": "none",
           "mode": "text",
           "showlegend": false,
           "text": [
            "10",
            "20",
            "30",
            "40",
            "50",
            "40",
            "30",
            "20",
            "10"
           ],
           "textfont": {
            "color": "#ffffff",
            "family": "Courier New, monospace",
            "size": 30
           },
           "type": "scatter",
           "x": [
            20,
            30,
            40,
            50,
            60,
            70,
            80,
            90,
            100
           ],
           "y": [
            48.5,
            48.5,
            48.5,
            48.5,
            48.5,
            48.5,
            48.5,
            48.5,
            48.5
           ]
          },
          {
           "hoverinfo": "none",
           "line": {
            "color": "blue",
            "dash": "dash"
           },
           "showlegend": false,
           "type": "scatter",
           "x": [
            18,
            18
           ],
           "y": [
            0,
            53.5
           ]
          },
          {
           "hoverinfo": "none",
           "line": {
            "color": "yellow",
            "dash": "dash"
           },
           "showlegend": false,
           "type": "scatter",
           "x": [
            26,
            26
           ],
           "y": [
            0,
            53.5
           ]
          },
          {
           "hoverinfo": "text",
           "hovertext": [
            "nflId:37317.0<br>displayName:Malcolm Smith<br>Position:MLB<br>Role:Coverage",
            "nflId:38667.0<br>displayName:Malik Jackson<br>Position:LE<br>Role:Pass Rush",
            "nflId:44813.0<br>displayName:Myles Garrett<br>Position:RE<br>Role:Pass Rush",
            "nflId:44838.0<br>displayName:Takkarist McKinley<br>Position:LOLB<br>Role:Pass Rush",
            "nflId:44847.0<br>displayName:Malik McDowell<br>Position:DRT<br>Role:Pass Rush",
            "nflId:44903.0<br>displayName:John Johnson<br>Position:FSL<br>Role:Coverage",
            "nflId:46073.0<br>displayName:Denzel Ward<br>Position:RLB<br>Role:Coverage",
            "nflId:47829.0<br>displayName:Greedy Williams<br>Position:LCB<br>Role:Coverage",
            "nflId:47863.0<br>displayName:Sione Takitaki<br>Position:RLB<br>Role:Coverage",
            "nflId:47938.0<br>displayName:Mack Wilson<br>Position:LLB<br>Role:Coverage",
            "nflId:52452.0<br>displayName:Grant Delpit<br>Position:SCBL<br>Role:Coverage"
           ],
           "marker": {
            "color": "#311D00"
           },
           "mode": "markers",
           "name": "CLE",
           "type": "scatter",
           "x": [
            13.32,
            23.72,
            25.08,
            25.3,
            24.3,
            3.5,
            4.48,
            3.84,
            14.43,
            11.91,
            11.04
           ],
           "y": [
            22.21,
            29.99,
            24.46,
            22.32,
            23.74,
            30.05,
            21.74,
            40.82,
            12.63,
            29.24,
            42.5
           ]
          },
          {
           "hoverinfo": "text",
           "hovertext": [
            "nflId:38632.0<br>displayName:Kirk Cousins<br>Position:QB<br>Role:Pass",
            "nflId:40488.0<br>displayName:Adam Thielen<br>Position:RWR<br>Role:Pass Route",
            "nflId:43640.0<br>displayName:Rashod Hill<br>Position:LT<br>Role:Pass Block",
            "nflId:44853.0<br>displayName:Dalvin Cook<br>Position:HB<br>Role:Pass Route",
            "nflId:46131.0<br>displayName:Brian O'Neill<br>Position:RT<br>Role:Pass Block",
            "nflId:46226.0<br>displayName:Tyler Conklin<br>Position:TE-R<br>Role:Pass Route",
            "nflId:47801.0<br>displayName:Garrett Bradbury<br>Position:C<br>Role:Pass Block",
            "nflId:47976.0<br>displayName:Olisaemeka Udoh<br>Position:RG<br>Role:Pass Block",
            "nflId:52430.0<br>displayName:Justin Jefferson<br>Position:SRWR<br>Role:Pass Route",
            "nflId:52466.0<br>displayName:Ezra Cleveland<br>Position:LG<br>Role:Pass Block",
            "nflId:52725.0<br>displayName:Ben Ellefson<br>Position:TE-L<br>Role:Pass Route"
           ],
           "marker": {
            "color": "#4F2683"
           },
           "mode": "markers",
           "name": "MIN",
           "type": "scatter",
           "x": [
            22.4,
            12.46,
            25.75,
            21.6,
            25.29,
            12.68,
            23.67,
            23.18,
            3.08,
            24.01,
            4.19
           ],
           "y": [
            26.21,
            38.32,
            24.85,
            8.32,
            21.47,
            22.83,
            29.19,
            27.39,
            40.12,
            21.98,
            22.43
           ]
          },
          {
           "hoverinfo": "none",
           "marker": {
            "color": "#CBB67C"
           },
           "mode": "markers",
           "name": "football",
           "type": "scatter",
           "x": [
            22.4
           ],
           "y": [
            26.22
           ]
          }
         ],
         "name": "42"
        },
        {
         "data": [
          {
           "hoverinfo": "none",
           "mode": "text",
           "showlegend": false,
           "text": [
            "10",
            "20",
            "30",
            "40",
            "50",
            "40",
            "30",
            "20",
            "10"
           ],
           "textfont": {
            "color": "#ffffff",
            "family": "Courier New, monospace",
            "size": 30
           },
           "type": "scatter",
           "x": [
            20,
            30,
            40,
            50,
            60,
            70,
            80,
            90,
            100
           ],
           "y": [
            5,
            5,
            5,
            5,
            5,
            5,
            5,
            5,
            5
           ]
          },
          {
           "hoverinfo": "none",
           "mode": "text",
           "showlegend": false,
           "text": [
            "10",
            "20",
            "30",
            "40",
            "50",
            "40",
            "30",
            "20",
            "10"
           ],
           "textfont": {
            "color": "#ffffff",
            "family": "Courier New, monospace",
            "size": 30
           },
           "type": "scatter",
           "x": [
            20,
            30,
            40,
            50,
            60,
            70,
            80,
            90,
            100
           ],
           "y": [
            48.5,
            48.5,
            48.5,
            48.5,
            48.5,
            48.5,
            48.5,
            48.5,
            48.5
           ]
          },
          {
           "hoverinfo": "none",
           "line": {
            "color": "blue",
            "dash": "dash"
           },
           "showlegend": false,
           "type": "scatter",
           "x": [
            18,
            18
           ],
           "y": [
            0,
            53.5
           ]
          },
          {
           "hoverinfo": "none",
           "line": {
            "color": "yellow",
            "dash": "dash"
           },
           "showlegend": false,
           "type": "scatter",
           "x": [
            26,
            26
           ],
           "y": [
            0,
            53.5
           ]
          },
          {
           "hoverinfo": "text",
           "hovertext": [
            "nflId:37317.0<br>displayName:Malcolm Smith<br>Position:MLB<br>Role:Coverage",
            "nflId:38667.0<br>displayName:Malik Jackson<br>Position:LE<br>Role:Pass Rush",
            "nflId:44813.0<br>displayName:Myles Garrett<br>Position:RE<br>Role:Pass Rush",
            "nflId:44838.0<br>displayName:Takkarist McKinley<br>Position:LOLB<br>Role:Pass Rush",
            "nflId:44847.0<br>displayName:Malik McDowell<br>Position:DRT<br>Role:Pass Rush",
            "nflId:44903.0<br>displayName:John Johnson<br>Position:FSL<br>Role:Coverage",
            "nflId:46073.0<br>displayName:Denzel Ward<br>Position:RLB<br>Role:Coverage",
            "nflId:47829.0<br>displayName:Greedy Williams<br>Position:LCB<br>Role:Coverage",
            "nflId:47863.0<br>displayName:Sione Takitaki<br>Position:RLB<br>Role:Coverage",
            "nflId:47938.0<br>displayName:Mack Wilson<br>Position:LLB<br>Role:Coverage",
            "nflId:52452.0<br>displayName:Grant Delpit<br>Position:SCBL<br>Role:Coverage"
           ],
           "marker": {
            "color": "#311D00"
           },
           "mode": "markers",
           "name": "CLE",
           "type": "scatter",
           "x": [
            13.23,
            23.68,
            25.23,
            25.35,
            24.18,
            3.33,
            4.24,
            3.48,
            14.41,
            11.99,
            10.95
           ],
           "y": [
            22.2,
            30.24,
            24.58,
            22.3,
            23.94,
            29.96,
            22.21,
            41.18,
            12.51,
            29.15,
            42.06
           ]
          },
          {
           "hoverinfo": "text",
           "hovertext": [
            "nflId:38632.0<br>displayName:Kirk Cousins<br>Position:QB<br>Role:Pass",
            "nflId:40488.0<br>displayName:Adam Thielen<br>Position:RWR<br>Role:Pass Route",
            "nflId:43640.0<br>displayName:Rashod Hill<br>Position:LT<br>Role:Pass Block",
            "nflId:44853.0<br>displayName:Dalvin Cook<br>Position:HB<br>Role:Pass Route",
            "nflId:46131.0<br>displayName:Brian O'Neill<br>Position:RT<br>Role:Pass Block",
            "nflId:46226.0<br>displayName:Tyler Conklin<br>Position:TE-R<br>Role:Pass Route",
            "nflId:47801.0<br>displayName:Garrett Bradbury<br>Position:C<br>Role:Pass Block",
            "nflId:47976.0<br>displayName:Olisaemeka Udoh<br>Position:RG<br>Role:Pass Block",
            "nflId:52430.0<br>displayName:Justin Jefferson<br>Position:SRWR<br>Role:Pass Route",
            "nflId:52466.0<br>displayName:Ezra Cleveland<br>Position:LG<br>Role:Pass Block",
            "nflId:52725.0<br>displayName:Ben Ellefson<br>Position:TE-L<br>Role:Pass Route"
           ],
           "marker": {
            "color": "#4F2683"
           },
           "mode": "markers",
           "name": "MIN",
           "type": "scatter",
           "x": [
            22.07,
            12.4,
            26.04,
            21.43,
            25.19,
            12.47,
            23.77,
            23.11,
            2.77,
            24.19,
            3.94
           ],
           "y": [
            26.34,
            37.88,
            24.88,
            7.96,
            21.16,
            22.8,
            29.35,
            27.43,
            40.57,
            21.87,
            22.91
           ]
          },
          {
           "hoverinfo": "none",
           "marker": {
            "color": "#CBB67C"
           },
           "mode": "markers",
           "name": "football",
           "type": "scatter",
           "x": [
            22.07
           ],
           "y": [
            26.35
           ]
          }
         ],
         "name": "43"
        },
        {
         "data": [
          {
           "hoverinfo": "none",
           "mode": "text",
           "showlegend": false,
           "text": [
            "10",
            "20",
            "30",
            "40",
            "50",
            "40",
            "30",
            "20",
            "10"
           ],
           "textfont": {
            "color": "#ffffff",
            "family": "Courier New, monospace",
            "size": 30
           },
           "type": "scatter",
           "x": [
            20,
            30,
            40,
            50,
            60,
            70,
            80,
            90,
            100
           ],
           "y": [
            5,
            5,
            5,
            5,
            5,
            5,
            5,
            5,
            5
           ]
          },
          {
           "hoverinfo": "none",
           "mode": "text",
           "showlegend": false,
           "text": [
            "10",
            "20",
            "30",
            "40",
            "50",
            "40",
            "30",
            "20",
            "10"
           ],
           "textfont": {
            "color": "#ffffff",
            "family": "Courier New, monospace",
            "size": 30
           },
           "type": "scatter",
           "x": [
            20,
            30,
            40,
            50,
            60,
            70,
            80,
            90,
            100
           ],
           "y": [
            48.5,
            48.5,
            48.5,
            48.5,
            48.5,
            48.5,
            48.5,
            48.5,
            48.5
           ]
          },
          {
           "hoverinfo": "none",
           "line": {
            "color": "blue",
            "dash": "dash"
           },
           "showlegend": false,
           "type": "scatter",
           "x": [
            18,
            18
           ],
           "y": [
            0,
            53.5
           ]
          },
          {
           "hoverinfo": "none",
           "line": {
            "color": "yellow",
            "dash": "dash"
           },
           "showlegend": false,
           "type": "scatter",
           "x": [
            26,
            26
           ],
           "y": [
            0,
            53.5
           ]
          },
          {
           "hoverinfo": "text",
           "hovertext": [
            "nflId:37317.0<br>displayName:Malcolm Smith<br>Position:MLB<br>Role:Coverage",
            "nflId:38667.0<br>displayName:Malik Jackson<br>Position:LE<br>Role:Pass Rush",
            "nflId:44813.0<br>displayName:Myles Garrett<br>Position:RE<br>Role:Pass Rush",
            "nflId:44838.0<br>displayName:Takkarist McKinley<br>Position:LOLB<br>Role:Pass Rush",
            "nflId:44847.0<br>displayName:Malik McDowell<br>Position:DRT<br>Role:Pass Rush",
            "nflId:44903.0<br>displayName:John Johnson<br>Position:FSL<br>Role:Coverage",
            "nflId:46073.0<br>displayName:Denzel Ward<br>Position:RLB<br>Role:Coverage",
            "nflId:47829.0<br>displayName:Greedy Williams<br>Position:LCB<br>Role:Coverage",
            "nflId:47863.0<br>displayName:Sione Takitaki<br>Position:RLB<br>Role:Coverage",
            "nflId:47938.0<br>displayName:Mack Wilson<br>Position:LLB<br>Role:Coverage",
            "nflId:52452.0<br>displayName:Grant Delpit<br>Position:SCBL<br>Role:Coverage"
           ],
           "marker": {
            "color": "#311D00"
           },
           "mode": "markers",
           "name": "CLE",
           "type": "scatter",
           "x": [
            13.07,
            23.6,
            25.38,
            25.47,
            24.03,
            3.19,
            4.02,
            3.14,
            14.38,
            12.06,
            10.87
           ],
           "y": [
            22.25,
            30.5,
            24.71,
            22.28,
            24.14,
            29.83,
            22.68,
            41.57,
            12.42,
            29.04,
            41.58
           ]
          },
          {
           "hoverinfo": "text",
           "hovertext": [
            "nflId:38632.0<br>displayName:Kirk Cousins<br>Position:QB<br>Role:Pass",
            "nflId:40488.0<br>displayName:Adam Thielen<br>Position:RWR<br>Role:Pass Route",
            "nflId:43640.0<br>displayName:Rashod Hill<br>Position:LT<br>Role:Pass Block",
            "nflId:44853.0<br>displayName:Dalvin Cook<br>Position:HB<br>Role:Pass Route",
            "nflId:46131.0<br>displayName:Brian O'Neill<br>Position:RT<br>Role:Pass Block",
            "nflId:46226.0<br>displayName:Tyler Conklin<br>Position:TE-R<br>Role:Pass Route",
            "nflId:47801.0<br>displayName:Garrett Bradbury<br>Position:C<br>Role:Pass Block",
            "nflId:47976.0<br>displayName:Olisaemeka Udoh<br>Position:RG<br>Role:Pass Block",
            "nflId:52430.0<br>displayName:Justin Jefferson<br>Position:SRWR<br>Role:Pass Route",
            "nflId:52466.0<br>displayName:Ezra Cleveland<br>Position:LG<br>Role:Pass Block",
            "nflId:52725.0<br>displayName:Ben Ellefson<br>Position:TE-L<br>Role:Pass Route"
           ],
           "marker": {
            "color": "#4F2683"
           },
           "mode": "markers",
           "name": "MIN",
           "type": "scatter",
           "x": [
            21.72,
            12.31,
            26.3,
            21.27,
            25.07,
            12.24,
            23.87,
            23.01,
            2.47,
            24.34,
            3.73
           ],
           "y": [
            26.45,
            37.42,
            24.9,
            7.62,
            20.86,
            22.82,
            29.51,
            27.48,
            40.98,
            21.78,
            23.39
           ]
          },
          {
           "hoverinfo": "none",
           "marker": {
            "color": "#CBB67C"
           },
           "mode": "markers",
           "name": "football",
           "type": "scatter",
           "x": [
            21.71
           ],
           "y": [
            26.45
           ]
          }
         ],
         "name": "44"
        },
        {
         "data": [
          {
           "hoverinfo": "none",
           "mode": "text",
           "showlegend": false,
           "text": [
            "10",
            "20",
            "30",
            "40",
            "50",
            "40",
            "30",
            "20",
            "10"
           ],
           "textfont": {
            "color": "#ffffff",
            "family": "Courier New, monospace",
            "size": 30
           },
           "type": "scatter",
           "x": [
            20,
            30,
            40,
            50,
            60,
            70,
            80,
            90,
            100
           ],
           "y": [
            5,
            5,
            5,
            5,
            5,
            5,
            5,
            5,
            5
           ]
          },
          {
           "hoverinfo": "none",
           "mode": "text",
           "showlegend": false,
           "text": [
            "10",
            "20",
            "30",
            "40",
            "50",
            "40",
            "30",
            "20",
            "10"
           ],
           "textfont": {
            "color": "#ffffff",
            "family": "Courier New, monospace",
            "size": 30
           },
           "type": "scatter",
           "x": [
            20,
            30,
            40,
            50,
            60,
            70,
            80,
            90,
            100
           ],
           "y": [
            48.5,
            48.5,
            48.5,
            48.5,
            48.5,
            48.5,
            48.5,
            48.5,
            48.5
           ]
          },
          {
           "hoverinfo": "none",
           "line": {
            "color": "blue",
            "dash": "dash"
           },
           "showlegend": false,
           "type": "scatter",
           "x": [
            18,
            18
           ],
           "y": [
            0,
            53.5
           ]
          },
          {
           "hoverinfo": "none",
           "line": {
            "color": "yellow",
            "dash": "dash"
           },
           "showlegend": false,
           "type": "scatter",
           "x": [
            26,
            26
           ],
           "y": [
            0,
            53.5
           ]
          },
          {
           "hoverinfo": "text",
           "hovertext": [
            "nflId:37317.0<br>displayName:Malcolm Smith<br>Position:MLB<br>Role:Coverage",
            "nflId:38667.0<br>displayName:Malik Jackson<br>Position:LE<br>Role:Pass Rush",
            "nflId:44813.0<br>displayName:Myles Garrett<br>Position:RE<br>Role:Pass Rush",
            "nflId:44838.0<br>displayName:Takkarist McKinley<br>Position:LOLB<br>Role:Pass Rush",
            "nflId:44847.0<br>displayName:Malik McDowell<br>Position:DRT<br>Role:Pass Rush",
            "nflId:44903.0<br>displayName:John Johnson<br>Position:FSL<br>Role:Coverage",
            "nflId:46073.0<br>displayName:Denzel Ward<br>Position:RLB<br>Role:Coverage",
            "nflId:47829.0<br>displayName:Greedy Williams<br>Position:LCB<br>Role:Coverage",
            "nflId:47863.0<br>displayName:Sione Takitaki<br>Position:RLB<br>Role:Coverage",
            "nflId:47938.0<br>displayName:Mack Wilson<br>Position:LLB<br>Role:Coverage",
            "nflId:52452.0<br>displayName:Grant Delpit<br>Position:SCBL<br>Role:Coverage"
           ],
           "marker": {
            "color": "#311D00"
           },
           "mode": "markers",
           "name": "CLE",
           "type": "scatter",
           "x": [
            12.86,
            23.44,
            25.5,
            25.53,
            23.83,
            3.08,
            3.86,
            2.83,
            14.35,
            12.13,
            10.79
           ],
           "y": [
            22.35,
            30.77,
            24.85,
            22.27,
            24.34,
            29.68,
            23.12,
            41.97,
            12.36,
            28.87,
            41.06
           ]
          },
          {
           "hoverinfo": "text",
           "hovertext": [
            "nflId:38632.0<br>displayName:Kirk Cousins<br>Position:QB<br>Role:Pass",
            "nflId:40488.0<br>displayName:Adam Thielen<br>Position:RWR<br>Role:Pass Route",
            "nflId:43640.0<br>displayName:Rashod Hill<br>Position:LT<br>Role:Pass Block",
            "nflId:44853.0<br>displayName:Dalvin Cook<br>Position:HB<br>Role:Pass Route",
            "nflId:46131.0<br>displayName:Brian O'Neill<br>Position:RT<br>Role:Pass Block",
            "nflId:46226.0<br>displayName:Tyler Conklin<br>Position:TE-R<br>Role:Pass Route",
            "nflId:47801.0<br>displayName:Garrett Bradbury<br>Position:C<br>Role:Pass Block",
            "nflId:47976.0<br>displayName:Olisaemeka Udoh<br>Position:RG<br>Role:Pass Block",
            "nflId:52430.0<br>displayName:Justin Jefferson<br>Position:SRWR<br>Role:Pass Route",
            "nflId:52466.0<br>displayName:Ezra Cleveland<br>Position:LG<br>Role:Pass Block",
            "nflId:52725.0<br>displayName:Ben Ellefson<br>Position:TE-L<br>Role:Pass Route"
           ],
           "marker": {
            "color": "#4F2683"
           },
           "mode": "markers",
           "name": "MIN",
           "type": "scatter",
           "x": [
            21.34,
            12.19,
            26.54,
            21.11,
            24.94,
            11.97,
            23.96,
            22.89,
            2.17,
            24.46,
            3.56
           ],
           "y": [
            26.54,
            36.96,
            24.92,
            7.29,
            20.59,
            22.87,
            29.65,
            27.52,
            41.34,
            21.71,
            23.88
           ]
          },
          {
           "hoverinfo": "none",
           "marker": {
            "color": "#CBB67C"
           },
           "mode": "markers",
           "name": "football",
           "type": "scatter",
           "x": [
            21.35
           ],
           "y": [
            26.54
           ]
          }
         ],
         "name": "45"
        },
        {
         "data": [
          {
           "hoverinfo": "none",
           "mode": "text",
           "showlegend": false,
           "text": [
            "10",
            "20",
            "30",
            "40",
            "50",
            "40",
            "30",
            "20",
            "10"
           ],
           "textfont": {
            "color": "#ffffff",
            "family": "Courier New, monospace",
            "size": 30
           },
           "type": "scatter",
           "x": [
            20,
            30,
            40,
            50,
            60,
            70,
            80,
            90,
            100
           ],
           "y": [
            5,
            5,
            5,
            5,
            5,
            5,
            5,
            5,
            5
           ]
          },
          {
           "hoverinfo": "none",
           "mode": "text",
           "showlegend": false,
           "text": [
            "10",
            "20",
            "30",
            "40",
            "50",
            "40",
            "30",
            "20",
            "10"
           ],
           "textfont": {
            "color": "#ffffff",
            "family": "Courier New, monospace",
            "size": 30
           },
           "type": "scatter",
           "x": [
            20,
            30,
            40,
            50,
            60,
            70,
            80,
            90,
            100
           ],
           "y": [
            48.5,
            48.5,
            48.5,
            48.5,
            48.5,
            48.5,
            48.5,
            48.5,
            48.5
           ]
          },
          {
           "hoverinfo": "none",
           "line": {
            "color": "blue",
            "dash": "dash"
           },
           "showlegend": false,
           "type": "scatter",
           "x": [
            18,
            18
           ],
           "y": [
            0,
            53.5
           ]
          },
          {
           "hoverinfo": "none",
           "line": {
            "color": "yellow",
            "dash": "dash"
           },
           "showlegend": false,
           "type": "scatter",
           "x": [
            26,
            26
           ],
           "y": [
            0,
            53.5
           ]
          },
          {
           "hoverinfo": "text",
           "hovertext": [
            "nflId:37317.0<br>displayName:Malcolm Smith<br>Position:MLB<br>Role:Coverage",
            "nflId:38667.0<br>displayName:Malik Jackson<br>Position:LE<br>Role:Pass Rush",
            "nflId:44813.0<br>displayName:Myles Garrett<br>Position:RE<br>Role:Pass Rush",
            "nflId:44838.0<br>displayName:Takkarist McKinley<br>Position:LOLB<br>Role:Pass Rush",
            "nflId:44847.0<br>displayName:Malik McDowell<br>Position:DRT<br>Role:Pass Rush",
            "nflId:44903.0<br>displayName:John Johnson<br>Position:FSL<br>Role:Coverage",
            "nflId:46073.0<br>displayName:Denzel Ward<br>Position:RLB<br>Role:Coverage",
            "nflId:47829.0<br>displayName:Greedy Williams<br>Position:LCB<br>Role:Coverage",
            "nflId:47863.0<br>displayName:Sione Takitaki<br>Position:RLB<br>Role:Coverage",
            "nflId:47938.0<br>displayName:Mack Wilson<br>Position:LLB<br>Role:Coverage",
            "nflId:52452.0<br>displayName:Grant Delpit<br>Position:SCBL<br>Role:Coverage"
           ],
           "marker": {
            "color": "#311D00"
           },
           "mode": "markers",
           "name": "CLE",
           "type": "scatter",
           "x": [
            12.6,
            23.25,
            25.62,
            25.6,
            23.58,
            3.01,
            3.72,
            2.53,
            14.3,
            12.21,
            10.71
           ],
           "y": [
            22.49,
            31.03,
            24.99,
            22.27,
            24.53,
            29.52,
            23.57,
            42.35,
            12.3,
            28.67,
            40.5
           ]
          },
          {
           "hoverinfo": "text",
           "hovertext": [
            "nflId:38632.0<br>displayName:Kirk Cousins<br>Position:QB<br>Role:Pass",
            "nflId:40488.0<br>displayName:Adam Thielen<br>Position:RWR<br>Role:Pass Route",
            "nflId:43640.0<br>displayName:Rashod Hill<br>Position:LT<br>Role:Pass Block",
            "nflId:44853.0<br>displayName:Dalvin Cook<br>Position:HB<br>Role:Pass Route",
            "nflId:46131.0<br>displayName:Brian O'Neill<br>Position:RT<br>Role:Pass Block",
            "nflId:46226.0<br>displayName:Tyler Conklin<br>Position:TE-R<br>Role:Pass Route",
            "nflId:47801.0<br>displayName:Garrett Bradbury<br>Position:C<br>Role:Pass Block",
            "nflId:47976.0<br>displayName:Olisaemeka Udoh<br>Position:RG<br>Role:Pass Block",
            "nflId:52430.0<br>displayName:Justin Jefferson<br>Position:SRWR<br>Role:Pass Route",
            "nflId:52466.0<br>displayName:Ezra Cleveland<br>Position:LG<br>Role:Pass Block",
            "nflId:52725.0<br>displayName:Ben Ellefson<br>Position:TE-L<br>Role:Pass Route"
           ],
           "marker": {
            "color": "#4F2683"
           },
           "mode": "markers",
           "name": "MIN",
           "type": "scatter",
           "x": [
            20.94,
            12.03,
            26.77,
            20.95,
            24.81,
            11.69,
            24.04,
            22.74,
            1.89,
            24.56,
            3.44
           ],
           "y": [
            26.61,
            36.48,
            24.93,
            6.98,
            20.33,
            22.94,
            29.78,
            27.54,
            41.66,
            21.65,
            24.38
           ]
          },
          {
           "hoverinfo": "none",
           "marker": {
            "color": "#CBB67C"
           },
           "mode": "markers",
           "name": "football",
           "type": "scatter",
           "x": [
            21.01
           ],
           "y": [
            26.63
           ]
          }
         ],
         "name": "46"
        },
        {
         "data": [
          {
           "hoverinfo": "none",
           "mode": "text",
           "showlegend": false,
           "text": [
            "10",
            "20",
            "30",
            "40",
            "50",
            "40",
            "30",
            "20",
            "10"
           ],
           "textfont": {
            "color": "#ffffff",
            "family": "Courier New, monospace",
            "size": 30
           },
           "type": "scatter",
           "x": [
            20,
            30,
            40,
            50,
            60,
            70,
            80,
            90,
            100
           ],
           "y": [
            5,
            5,
            5,
            5,
            5,
            5,
            5,
            5,
            5
           ]
          },
          {
           "hoverinfo": "none",
           "mode": "text",
           "showlegend": false,
           "text": [
            "10",
            "20",
            "30",
            "40",
            "50",
            "40",
            "30",
            "20",
            "10"
           ],
           "textfont": {
            "color": "#ffffff",
            "family": "Courier New, monospace",
            "size": 30
           },
           "type": "scatter",
           "x": [
            20,
            30,
            40,
            50,
            60,
            70,
            80,
            90,
            100
           ],
           "y": [
            48.5,
            48.5,
            48.5,
            48.5,
            48.5,
            48.5,
            48.5,
            48.5,
            48.5
           ]
          },
          {
           "hoverinfo": "none",
           "line": {
            "color": "blue",
            "dash": "dash"
           },
           "showlegend": false,
           "type": "scatter",
           "x": [
            18,
            18
           ],
           "y": [
            0,
            53.5
           ]
          },
          {
           "hoverinfo": "none",
           "line": {
            "color": "yellow",
            "dash": "dash"
           },
           "showlegend": false,
           "type": "scatter",
           "x": [
            26,
            26
           ],
           "y": [
            0,
            53.5
           ]
          },
          {
           "hoverinfo": "text",
           "hovertext": [
            "nflId:37317.0<br>displayName:Malcolm Smith<br>Position:MLB<br>Role:Coverage",
            "nflId:38667.0<br>displayName:Malik Jackson<br>Position:LE<br>Role:Pass Rush",
            "nflId:44813.0<br>displayName:Myles Garrett<br>Position:RE<br>Role:Pass Rush",
            "nflId:44838.0<br>displayName:Takkarist McKinley<br>Position:LOLB<br>Role:Pass Rush",
            "nflId:44847.0<br>displayName:Malik McDowell<br>Position:DRT<br>Role:Pass Rush",
            "nflId:44903.0<br>displayName:John Johnson<br>Position:FSL<br>Role:Coverage",
            "nflId:46073.0<br>displayName:Denzel Ward<br>Position:RLB<br>Role:Coverage",
            "nflId:47829.0<br>displayName:Greedy Williams<br>Position:LCB<br>Role:Coverage",
            "nflId:47863.0<br>displayName:Sione Takitaki<br>Position:RLB<br>Role:Coverage",
            "nflId:47938.0<br>displayName:Mack Wilson<br>Position:LLB<br>Role:Coverage",
            "nflId:52452.0<br>displayName:Grant Delpit<br>Position:SCBL<br>Role:Coverage"
           ],
           "marker": {
            "color": "#311D00"
           },
           "mode": "markers",
           "name": "CLE",
           "type": "scatter",
           "x": [
            12.3,
            23.01,
            25.73,
            25.67,
            23.29,
            2.97,
            3.6,
            2.23,
            14.25,
            12.29,
            10.63
           ],
           "y": [
            22.66,
            31.26,
            25.13,
            22.28,
            24.71,
            29.37,
            24,
            42.69,
            12.25,
            28.43,
            39.91
           ]
          },
          {
           "hoverinfo": "text",
           "hovertext": [
            "nflId:38632.0<br>displayName:Kirk Cousins<br>Position:QB<br>Role:Pass",
            "nflId:40488.0<br>displayName:Adam Thielen<br>Position:RWR<br>Role:Pass Route",
            "nflId:43640.0<br>displayName:Rashod Hill<br>Position:LT<br>Role:Pass Block",
            "nflId:44853.0<br>displayName:Dalvin Cook<br>Position:HB<br>Role:Pass Route",
            "nflId:46131.0<br>displayName:Brian O'Neill<br>Position:RT<br>Role:Pass Block",
            "nflId:46226.0<br>displayName:Tyler Conklin<br>Position:TE-R<br>Role:Pass Route",
            "nflId:47801.0<br>displayName:Garrett Bradbury<br>Position:C<br>Role:Pass Block",
            "nflId:47976.0<br>displayName:Olisaemeka Udoh<br>Position:RG<br>Role:Pass Block",
            "nflId:52430.0<br>displayName:Justin Jefferson<br>Position:SRWR<br>Role:Pass Route",
            "nflId:52466.0<br>displayName:Ezra Cleveland<br>Position:LG<br>Role:Pass Block",
            "nflId:52725.0<br>displayName:Ben Ellefson<br>Position:TE-L<br>Role:Pass Route"
           ],
           "marker": {
            "color": "#4F2683"
           },
           "mode": "markers",
           "name": "MIN",
           "type": "scatter",
           "x": [
            20.53,
            11.85,
            26.95,
            20.79,
            24.66,
            11.35,
            24.11,
            22.54,
            1.63,
            24.63,
            3.36
           ],
           "y": [
            26.68,
            36,
            24.93,
            6.68,
            20.08,
            23.03,
            29.88,
            27.54,
            41.9,
            21.61,
            24.88
           ]
          },
          {
           "hoverinfo": "none",
           "marker": {
            "color": "#CBB67C"
           },
           "mode": "markers",
           "name": "football",
           "type": "scatter",
           "x": [
            20.62
           ],
           "y": [
            26.73
           ]
          }
         ],
         "name": "47"
        },
        {
         "data": [
          {
           "hoverinfo": "none",
           "mode": "text",
           "showlegend": false,
           "text": [
            "10",
            "20",
            "30",
            "40",
            "50",
            "40",
            "30",
            "20",
            "10"
           ],
           "textfont": {
            "color": "#ffffff",
            "family": "Courier New, monospace",
            "size": 30
           },
           "type": "scatter",
           "x": [
            20,
            30,
            40,
            50,
            60,
            70,
            80,
            90,
            100
           ],
           "y": [
            5,
            5,
            5,
            5,
            5,
            5,
            5,
            5,
            5
           ]
          },
          {
           "hoverinfo": "none",
           "mode": "text",
           "showlegend": false,
           "text": [
            "10",
            "20",
            "30",
            "40",
            "50",
            "40",
            "30",
            "20",
            "10"
           ],
           "textfont": {
            "color": "#ffffff",
            "family": "Courier New, monospace",
            "size": 30
           },
           "type": "scatter",
           "x": [
            20,
            30,
            40,
            50,
            60,
            70,
            80,
            90,
            100
           ],
           "y": [
            48.5,
            48.5,
            48.5,
            48.5,
            48.5,
            48.5,
            48.5,
            48.5,
            48.5
           ]
          },
          {
           "hoverinfo": "none",
           "line": {
            "color": "blue",
            "dash": "dash"
           },
           "showlegend": false,
           "type": "scatter",
           "x": [
            18,
            18
           ],
           "y": [
            0,
            53.5
           ]
          },
          {
           "hoverinfo": "none",
           "line": {
            "color": "yellow",
            "dash": "dash"
           },
           "showlegend": false,
           "type": "scatter",
           "x": [
            26,
            26
           ],
           "y": [
            0,
            53.5
           ]
          },
          {
           "hoverinfo": "text",
           "hovertext": [
            "nflId:37317.0<br>displayName:Malcolm Smith<br>Position:MLB<br>Role:Coverage",
            "nflId:38667.0<br>displayName:Malik Jackson<br>Position:LE<br>Role:Pass Rush",
            "nflId:44813.0<br>displayName:Myles Garrett<br>Position:RE<br>Role:Pass Rush",
            "nflId:44838.0<br>displayName:Takkarist McKinley<br>Position:LOLB<br>Role:Pass Rush",
            "nflId:44847.0<br>displayName:Malik McDowell<br>Position:DRT<br>Role:Pass Rush",
            "nflId:44903.0<br>displayName:John Johnson<br>Position:FSL<br>Role:Coverage",
            "nflId:46073.0<br>displayName:Denzel Ward<br>Position:RLB<br>Role:Coverage",
            "nflId:47829.0<br>displayName:Greedy Williams<br>Position:LCB<br>Role:Coverage",
            "nflId:47863.0<br>displayName:Sione Takitaki<br>Position:RLB<br>Role:Coverage",
            "nflId:47938.0<br>displayName:Mack Wilson<br>Position:LLB<br>Role:Coverage",
            "nflId:52452.0<br>displayName:Grant Delpit<br>Position:SCBL<br>Role:Coverage"
           ],
           "marker": {
            "color": "#311D00"
           },
           "mode": "markers",
           "name": "CLE",
           "type": "scatter",
           "x": [
            11.97,
            22.72,
            25.83,
            25.72,
            22.96,
            2.96,
            3.51,
            1.95,
            14.19,
            12.36,
            10.54
           ],
           "y": [
            22.84,
            31.47,
            25.26,
            22.3,
            24.85,
            29.24,
            24.42,
            43.03,
            12.22,
            28.15,
            39.3
           ]
          },
          {
           "hoverinfo": "text",
           "hovertext": [
            "nflId:38632.0<br>displayName:Kirk Cousins<br>Position:QB<br>Role:Pass",
            "nflId:40488.0<br>displayName:Adam Thielen<br>Position:RWR<br>Role:Pass Route",
            "nflId:43640.0<br>displayName:Rashod Hill<br>Position:LT<br>Role:Pass Block",
            "nflId:44853.0<br>displayName:Dalvin Cook<br>Position:HB<br>Role:Pass Route",
            "nflId:46131.0<br>displayName:Brian O'Neill<br>Position:RT<br>Role:Pass Block",
            "nflId:46226.0<br>displayName:Tyler Conklin<br>Position:TE-R<br>Role:Pass Route",
            "nflId:47801.0<br>displayName:Garrett Bradbury<br>Position:C<br>Role:Pass Block",
            "nflId:47976.0<br>displayName:Olisaemeka Udoh<br>Position:RG<br>Role:Pass Block",
            "nflId:52430.0<br>displayName:Justin Jefferson<br>Position:SRWR<br>Role:Pass Route",
            "nflId:52466.0<br>displayName:Ezra Cleveland<br>Position:LG<br>Role:Pass Block",
            "nflId:52725.0<br>displayName:Ben Ellefson<br>Position:TE-L<br>Role:Pass Route"
           ],
           "marker": {
            "color": "#4F2683"
           },
           "mode": "markers",
           "name": "MIN",
           "type": "scatter",
           "x": [
            20.11,
            11.62,
            27.13,
            20.64,
            24.52,
            11,
            24.17,
            22.3,
            1.38,
            24.67,
            3.33
           ],
           "y": [
            26.76,
            35.51,
            24.92,
            6.41,
            19.86,
            23.13,
            29.98,
            27.51,
            42.08,
            21.58,
            25.37
           ]
          },
          {
           "hoverinfo": "none",
           "marker": {
            "color": "#CBB67C"
           },
           "mode": "markers",
           "name": "football",
           "type": "scatter",
           "x": [
            20.22
           ],
           "y": [
            26.8
           ]
          }
         ],
         "name": "48"
        },
        {
         "data": [
          {
           "hoverinfo": "none",
           "mode": "text",
           "showlegend": false,
           "text": [
            "10",
            "20",
            "30",
            "40",
            "50",
            "40",
            "30",
            "20",
            "10"
           ],
           "textfont": {
            "color": "#ffffff",
            "family": "Courier New, monospace",
            "size": 30
           },
           "type": "scatter",
           "x": [
            20,
            30,
            40,
            50,
            60,
            70,
            80,
            90,
            100
           ],
           "y": [
            5,
            5,
            5,
            5,
            5,
            5,
            5,
            5,
            5
           ]
          },
          {
           "hoverinfo": "none",
           "mode": "text",
           "showlegend": false,
           "text": [
            "10",
            "20",
            "30",
            "40",
            "50",
            "40",
            "30",
            "20",
            "10"
           ],
           "textfont": {
            "color": "#ffffff",
            "family": "Courier New, monospace",
            "size": 30
           },
           "type": "scatter",
           "x": [
            20,
            30,
            40,
            50,
            60,
            70,
            80,
            90,
            100
           ],
           "y": [
            48.5,
            48.5,
            48.5,
            48.5,
            48.5,
            48.5,
            48.5,
            48.5,
            48.5
           ]
          },
          {
           "hoverinfo": "none",
           "line": {
            "color": "blue",
            "dash": "dash"
           },
           "showlegend": false,
           "type": "scatter",
           "x": [
            18,
            18
           ],
           "y": [
            0,
            53.5
           ]
          },
          {
           "hoverinfo": "none",
           "line": {
            "color": "yellow",
            "dash": "dash"
           },
           "showlegend": false,
           "type": "scatter",
           "x": [
            26,
            26
           ],
           "y": [
            0,
            53.5
           ]
          },
          {
           "hoverinfo": "text",
           "hovertext": [
            "nflId:37317.0<br>displayName:Malcolm Smith<br>Position:MLB<br>Role:Coverage",
            "nflId:38667.0<br>displayName:Malik Jackson<br>Position:LE<br>Role:Pass Rush",
            "nflId:44813.0<br>displayName:Myles Garrett<br>Position:RE<br>Role:Pass Rush",
            "nflId:44838.0<br>displayName:Takkarist McKinley<br>Position:LOLB<br>Role:Pass Rush",
            "nflId:44847.0<br>displayName:Malik McDowell<br>Position:DRT<br>Role:Pass Rush",
            "nflId:44903.0<br>displayName:John Johnson<br>Position:FSL<br>Role:Coverage",
            "nflId:46073.0<br>displayName:Denzel Ward<br>Position:RLB<br>Role:Coverage",
            "nflId:47829.0<br>displayName:Greedy Williams<br>Position:LCB<br>Role:Coverage",
            "nflId:47863.0<br>displayName:Sione Takitaki<br>Position:RLB<br>Role:Coverage",
            "nflId:47938.0<br>displayName:Mack Wilson<br>Position:LLB<br>Role:Coverage",
            "nflId:52452.0<br>displayName:Grant Delpit<br>Position:SCBL<br>Role:Coverage"
           ],
           "marker": {
            "color": "#311D00"
           },
           "mode": "markers",
           "name": "CLE",
           "type": "scatter",
           "x": [
            11.63,
            22.38,
            25.92,
            25.75,
            22.58,
            2.99,
            3.45,
            1.77,
            14.13,
            12.43,
            10.44
           ],
           "y": [
            23.04,
            31.66,
            25.39,
            22.3,
            24.97,
            29.17,
            24.82,
            43.19,
            12.1,
            27.88,
            38.66
           ]
          },
          {
           "hoverinfo": "text",
           "hovertext": [
            "nflId:38632.0<br>displayName:Kirk Cousins<br>Position:QB<br>Role:Pass",
            "nflId:40488.0<br>displayName:Adam Thielen<br>Position:RWR<br>Role:Pass Route",
            "nflId:43640.0<br>displayName:Rashod Hill<br>Position:LT<br>Role:Pass Block",
            "nflId:44853.0<br>displayName:Dalvin Cook<br>Position:HB<br>Role:Pass Route",
            "nflId:46131.0<br>displayName:Brian O'Neill<br>Position:RT<br>Role:Pass Block",
            "nflId:46226.0<br>displayName:Tyler Conklin<br>Position:TE-R<br>Role:Pass Route",
            "nflId:47801.0<br>displayName:Garrett Bradbury<br>Position:C<br>Role:Pass Block",
            "nflId:47976.0<br>displayName:Olisaemeka Udoh<br>Position:RG<br>Role:Pass Block",
            "nflId:52430.0<br>displayName:Justin Jefferson<br>Position:SRWR<br>Role:Pass Route",
            "nflId:52466.0<br>displayName:Ezra Cleveland<br>Position:LG<br>Role:Pass Block",
            "nflId:52725.0<br>displayName:Ben Ellefson<br>Position:TE-L<br>Role:Pass Route"
           ],
           "marker": {
            "color": "#4F2683"
           },
           "mode": "markers",
           "name": "MIN",
           "type": "scatter",
           "x": [
            19.67,
            11.38,
            27.28,
            20.5,
            24.36,
            10.63,
            24.22,
            22.04,
            1.17,
            24.71,
            3.35
           ],
           "y": [
            26.85,
            35.02,
            24.92,
            6.16,
            19.64,
            23.23,
            30.05,
            27.48,
            42.17,
            21.57,
            25.85
           ]
          },
          {
           "hoverinfo": "none",
           "marker": {
            "color": "#CBB67C"
           },
           "mode": "markers",
           "name": "football",
           "type": "scatter",
           "x": [
            19.79
           ],
           "y": [
            27.06
           ]
          }
         ],
         "name": "49"
        },
        {
         "data": [
          {
           "hoverinfo": "none",
           "mode": "text",
           "showlegend": false,
           "text": [
            "10",
            "20",
            "30",
            "40",
            "50",
            "40",
            "30",
            "20",
            "10"
           ],
           "textfont": {
            "color": "#ffffff",
            "family": "Courier New, monospace",
            "size": 30
           },
           "type": "scatter",
           "x": [
            20,
            30,
            40,
            50,
            60,
            70,
            80,
            90,
            100
           ],
           "y": [
            5,
            5,
            5,
            5,
            5,
            5,
            5,
            5,
            5
           ]
          },
          {
           "hoverinfo": "none",
           "mode": "text",
           "showlegend": false,
           "text": [
            "10",
            "20",
            "30",
            "40",
            "50",
            "40",
            "30",
            "20",
            "10"
           ],
           "textfont": {
            "color": "#ffffff",
            "family": "Courier New, monospace",
            "size": 30
           },
           "type": "scatter",
           "x": [
            20,
            30,
            40,
            50,
            60,
            70,
            80,
            90,
            100
           ],
           "y": [
            48.5,
            48.5,
            48.5,
            48.5,
            48.5,
            48.5,
            48.5,
            48.5,
            48.5
           ]
          },
          {
           "hoverinfo": "none",
           "line": {
            "color": "blue",
            "dash": "dash"
           },
           "showlegend": false,
           "type": "scatter",
           "x": [
            18,
            18
           ],
           "y": [
            0,
            53.5
           ]
          },
          {
           "hoverinfo": "none",
           "line": {
            "color": "yellow",
            "dash": "dash"
           },
           "showlegend": false,
           "type": "scatter",
           "x": [
            26,
            26
           ],
           "y": [
            0,
            53.5
           ]
          },
          {
           "hoverinfo": "text",
           "hovertext": [
            "nflId:37317.0<br>displayName:Malcolm Smith<br>Position:MLB<br>Role:Coverage",
            "nflId:38667.0<br>displayName:Malik Jackson<br>Position:LE<br>Role:Pass Rush",
            "nflId:44813.0<br>displayName:Myles Garrett<br>Position:RE<br>Role:Pass Rush",
            "nflId:44838.0<br>displayName:Takkarist McKinley<br>Position:LOLB<br>Role:Pass Rush",
            "nflId:44847.0<br>displayName:Malik McDowell<br>Position:DRT<br>Role:Pass Rush",
            "nflId:44903.0<br>displayName:John Johnson<br>Position:FSL<br>Role:Coverage",
            "nflId:46073.0<br>displayName:Denzel Ward<br>Position:RLB<br>Role:Coverage",
            "nflId:47829.0<br>displayName:Greedy Williams<br>Position:LCB<br>Role:Coverage",
            "nflId:47863.0<br>displayName:Sione Takitaki<br>Position:RLB<br>Role:Coverage",
            "nflId:47938.0<br>displayName:Mack Wilson<br>Position:LLB<br>Role:Coverage",
            "nflId:52452.0<br>displayName:Grant Delpit<br>Position:SCBL<br>Role:Coverage"
           ],
           "marker": {
            "color": "#311D00"
           },
           "mode": "markers",
           "name": "CLE",
           "type": "scatter",
           "x": [
            11.27,
            22,
            25.99,
            25.75,
            22.16,
            3.08,
            3.41,
            1.59,
            14.08,
            12.5,
            10.32
           ],
           "y": [
            23.23,
            31.83,
            25.52,
            22.29,
            25.07,
            29.14,
            25.21,
            43.34,
            11.98,
            27.61,
            38.01
           ]
          },
          {
           "hoverinfo": "text",
           "hovertext": [
            "nflId:38632.0<br>displayName:Kirk Cousins<br>Position:QB<br>Role:Pass",
            "nflId:40488.0<br>displayName:Adam Thielen<br>Position:RWR<br>Role:Pass Route",
            "nflId:43640.0<br>displayName:Rashod Hill<br>Position:LT<br>Role:Pass Block",
            "nflId:44853.0<br>displayName:Dalvin Cook<br>Position:HB<br>Role:Pass Route",
            "nflId:46131.0<br>displayName:Brian O'Neill<br>Position:RT<br>Role:Pass Block",
            "nflId:46226.0<br>displayName:Tyler Conklin<br>Position:TE-R<br>Role:Pass Route",
            "nflId:47801.0<br>displayName:Garrett Bradbury<br>Position:C<br>Role:Pass Block",
            "nflId:47976.0<br>displayName:Olisaemeka Udoh<br>Position:RG<br>Role:Pass Block",
            "nflId:52430.0<br>displayName:Justin Jefferson<br>Position:SRWR<br>Role:Pass Route",
            "nflId:52466.0<br>displayName:Ezra Cleveland<br>Position:LG<br>Role:Pass Block",
            "nflId:52725.0<br>displayName:Ben Ellefson<br>Position:TE-L<br>Role:Pass Route"
           ],
           "marker": {
            "color": "#4F2683"
           },
           "mode": "markers",
           "name": "MIN",
           "type": "scatter",
           "x": [
            19.24,
            11.1,
            27.39,
            20.35,
            24.2,
            10.23,
            24.25,
            21.75,
            0.99,
            24.7,
            3.42
           ],
           "y": [
            26.97,
            34.53,
            24.9,
            5.92,
            19.45,
            23.34,
            30.11,
            27.44,
            42.18,
            21.56,
            26.3
           ]
          },
          {
           "hoverinfo": "none",
           "marker": {
            "color": "#CBB67C"
           },
           "mode": "markers",
           "name": "football",
           "type": "scatter",
           "x": [
            19.42
           ],
           "y": [
            27.23
           ]
          }
         ],
         "name": "50"
        },
        {
         "data": [
          {
           "hoverinfo": "none",
           "mode": "text",
           "showlegend": false,
           "text": [
            "10",
            "20",
            "30",
            "40",
            "50",
            "40",
            "30",
            "20",
            "10"
           ],
           "textfont": {
            "color": "#ffffff",
            "family": "Courier New, monospace",
            "size": 30
           },
           "type": "scatter",
           "x": [
            20,
            30,
            40,
            50,
            60,
            70,
            80,
            90,
            100
           ],
           "y": [
            5,
            5,
            5,
            5,
            5,
            5,
            5,
            5,
            5
           ]
          },
          {
           "hoverinfo": "none",
           "mode": "text",
           "showlegend": false,
           "text": [
            "10",
            "20",
            "30",
            "40",
            "50",
            "40",
            "30",
            "20",
            "10"
           ],
           "textfont": {
            "color": "#ffffff",
            "family": "Courier New, monospace",
            "size": 30
           },
           "type": "scatter",
           "x": [
            20,
            30,
            40,
            50,
            60,
            70,
            80,
            90,
            100
           ],
           "y": [
            48.5,
            48.5,
            48.5,
            48.5,
            48.5,
            48.5,
            48.5,
            48.5,
            48.5
           ]
          },
          {
           "hoverinfo": "none",
           "line": {
            "color": "blue",
            "dash": "dash"
           },
           "showlegend": false,
           "type": "scatter",
           "x": [
            18,
            18
           ],
           "y": [
            0,
            53.5
           ]
          },
          {
           "hoverinfo": "none",
           "line": {
            "color": "yellow",
            "dash": "dash"
           },
           "showlegend": false,
           "type": "scatter",
           "x": [
            26,
            26
           ],
           "y": [
            0,
            53.5
           ]
          },
          {
           "hoverinfo": "text",
           "hovertext": [
            "nflId:37317.0<br>displayName:Malcolm Smith<br>Position:MLB<br>Role:Coverage",
            "nflId:38667.0<br>displayName:Malik Jackson<br>Position:LE<br>Role:Pass Rush",
            "nflId:44813.0<br>displayName:Myles Garrett<br>Position:RE<br>Role:Pass Rush",
            "nflId:44838.0<br>displayName:Takkarist McKinley<br>Position:LOLB<br>Role:Pass Rush",
            "nflId:44847.0<br>displayName:Malik McDowell<br>Position:DRT<br>Role:Pass Rush",
            "nflId:44903.0<br>displayName:John Johnson<br>Position:FSL<br>Role:Coverage",
            "nflId:46073.0<br>displayName:Denzel Ward<br>Position:RLB<br>Role:Coverage",
            "nflId:47829.0<br>displayName:Greedy Williams<br>Position:LCB<br>Role:Coverage",
            "nflId:47863.0<br>displayName:Sione Takitaki<br>Position:RLB<br>Role:Coverage",
            "nflId:47938.0<br>displayName:Mack Wilson<br>Position:LLB<br>Role:Coverage",
            "nflId:52452.0<br>displayName:Grant Delpit<br>Position:SCBL<br>Role:Coverage"
           ],
           "marker": {
            "color": "#311D00"
           },
           "mode": "markers",
           "name": "CLE",
           "type": "scatter",
           "x": [
            10.9,
            21.58,
            26.05,
            25.74,
            21.72,
            3.18,
            3.4,
            1.44,
            14.02,
            12.57,
            10.2
           ],
           "y": [
            23.43,
            31.97,
            25.65,
            22.28,
            25.14,
            29.13,
            25.59,
            43.42,
            11.85,
            27.36,
            37.33
           ]
          },
          {
           "hoverinfo": "text",
           "hovertext": [
            "nflId:38632.0<br>displayName:Kirk Cousins<br>Position:QB<br>Role:Pass",
            "nflId:40488.0<br>displayName:Adam Thielen<br>Position:RWR<br>Role:Pass Route",
            "nflId:43640.0<br>displayName:Rashod Hill<br>Position:LT<br>Role:Pass Block",
            "nflId:44853.0<br>displayName:Dalvin Cook<br>Position:HB<br>Role:Pass Route",
            "nflId:46131.0<br>displayName:Brian O'Neill<br>Position:RT<br>Role:Pass Block",
            "nflId:46226.0<br>displayName:Tyler Conklin<br>Position:TE-R<br>Role:Pass Route",
            "nflId:47801.0<br>displayName:Garrett Bradbury<br>Position:C<br>Role:Pass Block",
            "nflId:47976.0<br>displayName:Olisaemeka Udoh<br>Position:RG<br>Role:Pass Block",
            "nflId:52430.0<br>displayName:Justin Jefferson<br>Position:SRWR<br>Role:Pass Route",
            "nflId:52466.0<br>displayName:Ezra Cleveland<br>Position:LG<br>Role:Pass Block",
            "nflId:52725.0<br>displayName:Ben Ellefson<br>Position:TE-L<br>Role:Pass Route"
           ],
           "marker": {
            "color": "#4F2683"
           },
           "mode": "markers",
           "name": "MIN",
           "type": "scatter",
           "x": [
            18.81,
            10.81,
            27.46,
            20.22,
            24.05,
            9.84,
            24.26,
            21.41,
            0.86,
            24.67,
            3.53
           ],
           "y": [
            27.11,
            34.04,
            24.89,
            5.7,
            19.26,
            23.45,
            30.16,
            27.39,
            42.12,
            21.57,
            26.75
           ]
          },
          {
           "hoverinfo": "none",
           "marker": {
            "color": "#CBB67C"
           },
           "mode": "markers",
           "name": "football",
           "type": "scatter",
           "x": [
            19.01
           ],
           "y": [
            27.45
           ]
          }
         ],
         "name": "51"
        },
        {
         "data": [
          {
           "hoverinfo": "none",
           "mode": "text",
           "showlegend": false,
           "text": [
            "10",
            "20",
            "30",
            "40",
            "50",
            "40",
            "30",
            "20",
            "10"
           ],
           "textfont": {
            "color": "#ffffff",
            "family": "Courier New, monospace",
            "size": 30
           },
           "type": "scatter",
           "x": [
            20,
            30,
            40,
            50,
            60,
            70,
            80,
            90,
            100
           ],
           "y": [
            5,
            5,
            5,
            5,
            5,
            5,
            5,
            5,
            5
           ]
          },
          {
           "hoverinfo": "none",
           "mode": "text",
           "showlegend": false,
           "text": [
            "10",
            "20",
            "30",
            "40",
            "50",
            "40",
            "30",
            "20",
            "10"
           ],
           "textfont": {
            "color": "#ffffff",
            "family": "Courier New, monospace",
            "size": 30
           },
           "type": "scatter",
           "x": [
            20,
            30,
            40,
            50,
            60,
            70,
            80,
            90,
            100
           ],
           "y": [
            48.5,
            48.5,
            48.5,
            48.5,
            48.5,
            48.5,
            48.5,
            48.5,
            48.5
           ]
          },
          {
           "hoverinfo": "none",
           "line": {
            "color": "blue",
            "dash": "dash"
           },
           "showlegend": false,
           "type": "scatter",
           "x": [
            18,
            18
           ],
           "y": [
            0,
            53.5
           ]
          },
          {
           "hoverinfo": "none",
           "line": {
            "color": "yellow",
            "dash": "dash"
           },
           "showlegend": false,
           "type": "scatter",
           "x": [
            26,
            26
           ],
           "y": [
            0,
            53.5
           ]
          },
          {
           "hoverinfo": "text",
           "hovertext": [
            "nflId:37317.0<br>displayName:Malcolm Smith<br>Position:MLB<br>Role:Coverage",
            "nflId:38667.0<br>displayName:Malik Jackson<br>Position:LE<br>Role:Pass Rush",
            "nflId:44813.0<br>displayName:Myles Garrett<br>Position:RE<br>Role:Pass Rush",
            "nflId:44838.0<br>displayName:Takkarist McKinley<br>Position:LOLB<br>Role:Pass Rush",
            "nflId:44847.0<br>displayName:Malik McDowell<br>Position:DRT<br>Role:Pass Rush",
            "nflId:44903.0<br>displayName:John Johnson<br>Position:FSL<br>Role:Coverage",
            "nflId:46073.0<br>displayName:Denzel Ward<br>Position:RLB<br>Role:Coverage",
            "nflId:47829.0<br>displayName:Greedy Williams<br>Position:LCB<br>Role:Coverage",
            "nflId:47863.0<br>displayName:Sione Takitaki<br>Position:RLB<br>Role:Coverage",
            "nflId:47938.0<br>displayName:Mack Wilson<br>Position:LLB<br>Role:Coverage",
            "nflId:52452.0<br>displayName:Grant Delpit<br>Position:SCBL<br>Role:Coverage"
           ],
           "marker": {
            "color": "#311D00"
           },
           "mode": "markers",
           "name": "CLE",
           "type": "scatter",
           "x": [
            10.55,
            21.12,
            26.09,
            25.72,
            21.28,
            3.31,
            3.41,
            1.35,
            13.98,
            12.64,
            10.08
           ],
           "y": [
            23.63,
            32.1,
            25.76,
            22.27,
            25.21,
            29.17,
            25.96,
            43.42,
            11.68,
            27.17,
            36.65
           ]
          },
          {
           "hoverinfo": "text",
           "hovertext": [
            "nflId:38632.0<br>displayName:Kirk Cousins<br>Position:QB<br>Role:Pass",
            "nflId:40488.0<br>displayName:Adam Thielen<br>Position:RWR<br>Role:Pass Route",
            "nflId:43640.0<br>displayName:Rashod Hill<br>Position:LT<br>Role:Pass Block",
            "nflId:44853.0<br>displayName:Dalvin Cook<br>Position:HB<br>Role:Pass Route",
            "nflId:46131.0<br>displayName:Brian O'Neill<br>Position:RT<br>Role:Pass Block",
            "nflId:46226.0<br>displayName:Tyler Conklin<br>Position:TE-R<br>Role:Pass Route",
            "nflId:47801.0<br>displayName:Garrett Bradbury<br>Position:C<br>Role:Pass Block",
            "nflId:47976.0<br>displayName:Olisaemeka Udoh<br>Position:RG<br>Role:Pass Block",
            "nflId:52430.0<br>displayName:Justin Jefferson<br>Position:SRWR<br>Role:Pass Route",
            "nflId:52466.0<br>displayName:Ezra Cleveland<br>Position:LG<br>Role:Pass Block",
            "nflId:52725.0<br>displayName:Ben Ellefson<br>Position:TE-L<br>Role:Pass Route"
           ],
           "marker": {
            "color": "#4F2683"
           },
           "mode": "markers",
           "name": "MIN",
           "type": "scatter",
           "x": [
            18.39,
            10.51,
            27.52,
            20.08,
            23.89,
            9.44,
            24.24,
            21.04,
            0.76,
            24.61,
            3.66
           ],
           "y": [
            27.3,
            33.56,
            24.9,
            5.51,
            19.1,
            23.56,
            30.18,
            27.34,
            41.99,
            21.59,
            27.18
           ]
          },
          {
           "hoverinfo": "none",
           "marker": {
            "color": "#CBB67C"
           },
           "mode": "markers",
           "name": "football",
           "type": "scatter",
           "x": [
            18.53
           ],
           "y": [
            27.72
           ]
          }
         ],
         "name": "52"
        },
        {
         "data": [
          {
           "hoverinfo": "none",
           "mode": "text",
           "showlegend": false,
           "text": [
            "10",
            "20",
            "30",
            "40",
            "50",
            "40",
            "30",
            "20",
            "10"
           ],
           "textfont": {
            "color": "#ffffff",
            "family": "Courier New, monospace",
            "size": 30
           },
           "type": "scatter",
           "x": [
            20,
            30,
            40,
            50,
            60,
            70,
            80,
            90,
            100
           ],
           "y": [
            5,
            5,
            5,
            5,
            5,
            5,
            5,
            5,
            5
           ]
          },
          {
           "hoverinfo": "none",
           "mode": "text",
           "showlegend": false,
           "text": [
            "10",
            "20",
            "30",
            "40",
            "50",
            "40",
            "30",
            "20",
            "10"
           ],
           "textfont": {
            "color": "#ffffff",
            "family": "Courier New, monospace",
            "size": 30
           },
           "type": "scatter",
           "x": [
            20,
            30,
            40,
            50,
            60,
            70,
            80,
            90,
            100
           ],
           "y": [
            48.5,
            48.5,
            48.5,
            48.5,
            48.5,
            48.5,
            48.5,
            48.5,
            48.5
           ]
          },
          {
           "hoverinfo": "none",
           "line": {
            "color": "blue",
            "dash": "dash"
           },
           "showlegend": false,
           "type": "scatter",
           "x": [
            18,
            18
           ],
           "y": [
            0,
            53.5
           ]
          },
          {
           "hoverinfo": "none",
           "line": {
            "color": "yellow",
            "dash": "dash"
           },
           "showlegend": false,
           "type": "scatter",
           "x": [
            26,
            26
           ],
           "y": [
            0,
            53.5
           ]
          },
          {
           "hoverinfo": "text",
           "hovertext": [
            "nflId:37317.0<br>displayName:Malcolm Smith<br>Position:MLB<br>Role:Coverage",
            "nflId:38667.0<br>displayName:Malik Jackson<br>Position:LE<br>Role:Pass Rush",
            "nflId:44813.0<br>displayName:Myles Garrett<br>Position:RE<br>Role:Pass Rush",
            "nflId:44838.0<br>displayName:Takkarist McKinley<br>Position:LOLB<br>Role:Pass Rush",
            "nflId:44847.0<br>displayName:Malik McDowell<br>Position:DRT<br>Role:Pass Rush",
            "nflId:44903.0<br>displayName:John Johnson<br>Position:FSL<br>Role:Coverage",
            "nflId:46073.0<br>displayName:Denzel Ward<br>Position:RLB<br>Role:Coverage",
            "nflId:47829.0<br>displayName:Greedy Williams<br>Position:LCB<br>Role:Coverage",
            "nflId:47863.0<br>displayName:Sione Takitaki<br>Position:RLB<br>Role:Coverage",
            "nflId:47938.0<br>displayName:Mack Wilson<br>Position:LLB<br>Role:Coverage",
            "nflId:52452.0<br>displayName:Grant Delpit<br>Position:SCBL<br>Role:Coverage"
           ],
           "marker": {
            "color": "#311D00"
           },
           "mode": "markers",
           "name": "CLE",
           "type": "scatter",
           "x": [
            10.21,
            20.65,
            26.12,
            25.71,
            20.81,
            3.48,
            3.46,
            1.27,
            13.96,
            12.68,
            9.96
           ],
           "y": [
            23.83,
            32.2,
            25.87,
            22.24,
            25.28,
            29.26,
            26.31,
            43.36,
            11.45,
            27.03,
            35.96
           ]
          },
          {
           "hoverinfo": "text",
           "hovertext": [
            "nflId:38632.0<br>displayName:Kirk Cousins<br>Position:QB<br>Role:Pass",
            "nflId:40488.0<br>displayName:Adam Thielen<br>Position:RWR<br>Role:Pass Route",
            "nflId:43640.0<br>displayName:Rashod Hill<br>Position:LT<br>Role:Pass Block",
            "nflId:44853.0<br>displayName:Dalvin Cook<br>Position:HB<br>Role:Pass Route",
            "nflId:46131.0<br>displayName:Brian O'Neill<br>Position:RT<br>Role:Pass Block",
            "nflId:46226.0<br>displayName:Tyler Conklin<br>Position:TE-R<br>Role:Pass Route",
            "nflId:47801.0<br>displayName:Garrett Bradbury<br>Position:C<br>Role:Pass Block",
            "nflId:47976.0<br>displayName:Olisaemeka Udoh<br>Position:RG<br>Role:Pass Block",
            "nflId:52430.0<br>displayName:Justin Jefferson<br>Position:SRWR<br>Role:Pass Route",
            "nflId:52466.0<br>displayName:Ezra Cleveland<br>Position:LG<br>Role:Pass Block",
            "nflId:52725.0<br>displayName:Ben Ellefson<br>Position:TE-L<br>Role:Pass Route"
           ],
           "marker": {
            "color": "#4F2683"
           },
           "mode": "markers",
           "name": "MIN",
           "type": "scatter",
           "x": [
            17.97,
            10.2,
            27.55,
            19.95,
            23.74,
            9.04,
            24.22,
            20.64,
            0.7,
            24.54,
            3.81
           ],
           "y": [
            27.52,
            33.12,
            24.9,
            5.32,
            18.95,
            23.67,
            30.19,
            27.29,
            41.8,
            21.61,
            27.61
           ]
          },
          {
           "hoverinfo": "none",
           "marker": {
            "color": "#CBB67C"
           },
           "mode": "markers",
           "name": "football",
           "type": "scatter",
           "x": [
            18.12
           ],
           "y": [
            27.95
           ]
          }
         ],
         "name": "53"
        },
        {
         "data": [
          {
           "hoverinfo": "none",
           "mode": "text",
           "showlegend": false,
           "text": [
            "10",
            "20",
            "30",
            "40",
            "50",
            "40",
            "30",
            "20",
            "10"
           ],
           "textfont": {
            "color": "#ffffff",
            "family": "Courier New, monospace",
            "size": 30
           },
           "type": "scatter",
           "x": [
            20,
            30,
            40,
            50,
            60,
            70,
            80,
            90,
            100
           ],
           "y": [
            5,
            5,
            5,
            5,
            5,
            5,
            5,
            5,
            5
           ]
          },
          {
           "hoverinfo": "none",
           "mode": "text",
           "showlegend": false,
           "text": [
            "10",
            "20",
            "30",
            "40",
            "50",
            "40",
            "30",
            "20",
            "10"
           ],
           "textfont": {
            "color": "#ffffff",
            "family": "Courier New, monospace",
            "size": 30
           },
           "type": "scatter",
           "x": [
            20,
            30,
            40,
            50,
            60,
            70,
            80,
            90,
            100
           ],
           "y": [
            48.5,
            48.5,
            48.5,
            48.5,
            48.5,
            48.5,
            48.5,
            48.5,
            48.5
           ]
          },
          {
           "hoverinfo": "none",
           "line": {
            "color": "blue",
            "dash": "dash"
           },
           "showlegend": false,
           "type": "scatter",
           "x": [
            18,
            18
           ],
           "y": [
            0,
            53.5
           ]
          },
          {
           "hoverinfo": "none",
           "line": {
            "color": "yellow",
            "dash": "dash"
           },
           "showlegend": false,
           "type": "scatter",
           "x": [
            26,
            26
           ],
           "y": [
            0,
            53.5
           ]
          },
          {
           "hoverinfo": "text",
           "hovertext": [
            "nflId:37317.0<br>displayName:Malcolm Smith<br>Position:MLB<br>Role:Coverage",
            "nflId:38667.0<br>displayName:Malik Jackson<br>Position:LE<br>Role:Pass Rush",
            "nflId:44813.0<br>displayName:Myles Garrett<br>Position:RE<br>Role:Pass Rush",
            "nflId:44838.0<br>displayName:Takkarist McKinley<br>Position:LOLB<br>Role:Pass Rush",
            "nflId:44847.0<br>displayName:Malik McDowell<br>Position:DRT<br>Role:Pass Rush",
            "nflId:44903.0<br>displayName:John Johnson<br>Position:FSL<br>Role:Coverage",
            "nflId:46073.0<br>displayName:Denzel Ward<br>Position:RLB<br>Role:Coverage",
            "nflId:47829.0<br>displayName:Greedy Williams<br>Position:LCB<br>Role:Coverage",
            "nflId:47863.0<br>displayName:Sione Takitaki<br>Position:RLB<br>Role:Coverage",
            "nflId:47938.0<br>displayName:Mack Wilson<br>Position:LLB<br>Role:Coverage",
            "nflId:52452.0<br>displayName:Grant Delpit<br>Position:SCBL<br>Role:Coverage"
           ],
           "marker": {
            "color": "#311D00"
           },
           "mode": "markers",
           "name": "CLE",
           "type": "scatter",
           "x": [
            9.88,
            20.13,
            26.14,
            25.7,
            20.32,
            3.67,
            3.52,
            1.23,
            13.95,
            12.72,
            9.84
           ],
           "y": [
            24.05,
            32.26,
            25.98,
            22.22,
            25.34,
            29.4,
            26.65,
            43.25,
            11.21,
            26.93,
            35.28
           ]
          },
          {
           "hoverinfo": "text",
           "hovertext": [
            "nflId:38632.0<br>displayName:Kirk Cousins<br>Position:QB<br>Role:Pass",
            "nflId:40488.0<br>displayName:Adam Thielen<br>Position:RWR<br>Role:Pass Route",
            "nflId:43640.0<br>displayName:Rashod Hill<br>Position:LT<br>Role:Pass Block",
            "nflId:44853.0<br>displayName:Dalvin Cook<br>Position:HB<br>Role:Pass Route",
            "nflId:46131.0<br>displayName:Brian O'Neill<br>Position:RT<br>Role:Pass Block",
            "nflId:46226.0<br>displayName:Tyler Conklin<br>Position:TE-R<br>Role:Pass Route",
            "nflId:47801.0<br>displayName:Garrett Bradbury<br>Position:C<br>Role:Pass Block",
            "nflId:47976.0<br>displayName:Olisaemeka Udoh<br>Position:RG<br>Role:Pass Block",
            "nflId:52430.0<br>displayName:Justin Jefferson<br>Position:SRWR<br>Role:Pass Route",
            "nflId:52466.0<br>displayName:Ezra Cleveland<br>Position:LG<br>Role:Pass Block",
            "nflId:52725.0<br>displayName:Ben Ellefson<br>Position:TE-L<br>Role:Pass Route"
           ],
           "marker": {
            "color": "#4F2683"
           },
           "mode": "markers",
           "name": "MIN",
           "type": "scatter",
           "x": [
            17.57,
            9.9,
            27.56,
            19.82,
            23.58,
            8.65,
            24.16,
            20.22,
            0.67,
            24.44,
            3.98
           ],
           "y": [
            27.78,
            32.7,
            24.92,
            5.15,
            18.82,
            23.78,
            30.18,
            27.26,
            41.55,
            21.65,
            28.01
           ]
          },
          {
           "hoverinfo": "none",
           "marker": {
            "color": "#CBB67C"
           },
           "mode": "markers",
           "name": "football",
           "type": "scatter",
           "x": [
            17.77
           ],
           "y": [
            28.16
           ]
          }
         ],
         "name": "54"
        },
        {
         "data": [
          {
           "hoverinfo": "none",
           "mode": "text",
           "showlegend": false,
           "text": [
            "10",
            "20",
            "30",
            "40",
            "50",
            "40",
            "30",
            "20",
            "10"
           ],
           "textfont": {
            "color": "#ffffff",
            "family": "Courier New, monospace",
            "size": 30
           },
           "type": "scatter",
           "x": [
            20,
            30,
            40,
            50,
            60,
            70,
            80,
            90,
            100
           ],
           "y": [
            5,
            5,
            5,
            5,
            5,
            5,
            5,
            5,
            5
           ]
          },
          {
           "hoverinfo": "none",
           "mode": "text",
           "showlegend": false,
           "text": [
            "10",
            "20",
            "30",
            "40",
            "50",
            "40",
            "30",
            "20",
            "10"
           ],
           "textfont": {
            "color": "#ffffff",
            "family": "Courier New, monospace",
            "size": 30
           },
           "type": "scatter",
           "x": [
            20,
            30,
            40,
            50,
            60,
            70,
            80,
            90,
            100
           ],
           "y": [
            48.5,
            48.5,
            48.5,
            48.5,
            48.5,
            48.5,
            48.5,
            48.5,
            48.5
           ]
          },
          {
           "hoverinfo": "none",
           "line": {
            "color": "blue",
            "dash": "dash"
           },
           "showlegend": false,
           "type": "scatter",
           "x": [
            18,
            18
           ],
           "y": [
            0,
            53.5
           ]
          },
          {
           "hoverinfo": "none",
           "line": {
            "color": "yellow",
            "dash": "dash"
           },
           "showlegend": false,
           "type": "scatter",
           "x": [
            26,
            26
           ],
           "y": [
            0,
            53.5
           ]
          },
          {
           "hoverinfo": "text",
           "hovertext": [
            "nflId:37317.0<br>displayName:Malcolm Smith<br>Position:MLB<br>Role:Coverage",
            "nflId:38667.0<br>displayName:Malik Jackson<br>Position:LE<br>Role:Pass Rush",
            "nflId:44813.0<br>displayName:Myles Garrett<br>Position:RE<br>Role:Pass Rush",
            "nflId:44838.0<br>displayName:Takkarist McKinley<br>Position:LOLB<br>Role:Pass Rush",
            "nflId:44847.0<br>displayName:Malik McDowell<br>Position:DRT<br>Role:Pass Rush",
            "nflId:44903.0<br>displayName:John Johnson<br>Position:FSL<br>Role:Coverage",
            "nflId:46073.0<br>displayName:Denzel Ward<br>Position:RLB<br>Role:Coverage",
            "nflId:47829.0<br>displayName:Greedy Williams<br>Position:LCB<br>Role:Coverage",
            "nflId:47863.0<br>displayName:Sione Takitaki<br>Position:RLB<br>Role:Coverage",
            "nflId:47938.0<br>displayName:Mack Wilson<br>Position:LLB<br>Role:Coverage",
            "nflId:52452.0<br>displayName:Grant Delpit<br>Position:SCBL<br>Role:Coverage"
           ],
           "marker": {
            "color": "#311D00"
           },
           "mode": "markers",
           "name": "CLE",
           "type": "scatter",
           "x": [
            9.55,
            19.58,
            26.15,
            25.69,
            19.84,
            3.89,
            3.6,
            1.23,
            13.96,
            12.75,
            9.73
           ],
           "y": [
            24.27,
            32.3,
            26.07,
            22.19,
            25.4,
            29.6,
            26.97,
            43.06,
            10.94,
            26.9,
            34.59
           ]
          },
          {
           "hoverinfo": "text",
           "hovertext": [
            "nflId:38632.0<br>displayName:Kirk Cousins<br>Position:QB<br>Role:Pass",
            "nflId:40488.0<br>displayName:Adam Thielen<br>Position:RWR<br>Role:Pass Route",
            "nflId:43640.0<br>displayName:Rashod Hill<br>Position:LT<br>Role:Pass Block",
            "nflId:44853.0<br>displayName:Dalvin Cook<br>Position:HB<br>Role:Pass Route",
            "nflId:46131.0<br>displayName:Brian O'Neill<br>Position:RT<br>Role:Pass Block",
            "nflId:46226.0<br>displayName:Tyler Conklin<br>Position:TE-R<br>Role:Pass Route",
            "nflId:47801.0<br>displayName:Garrett Bradbury<br>Position:C<br>Role:Pass Block",
            "nflId:47976.0<br>displayName:Olisaemeka Udoh<br>Position:RG<br>Role:Pass Block",
            "nflId:52430.0<br>displayName:Justin Jefferson<br>Position:SRWR<br>Role:Pass Route",
            "nflId:52466.0<br>displayName:Ezra Cleveland<br>Position:LG<br>Role:Pass Block",
            "nflId:52725.0<br>displayName:Ben Ellefson<br>Position:TE-L<br>Role:Pass Route"
           ],
           "marker": {
            "color": "#4F2683"
           },
           "mode": "markers",
           "name": "MIN",
           "type": "scatter",
           "x": [
            17.18,
            9.61,
            27.54,
            19.7,
            23.42,
            8.27,
            24.08,
            19.76,
            0.69,
            24.33,
            4.15
           ],
           "y": [
            28.07,
            32.31,
            24.94,
            5,
            18.71,
            23.9,
            30.17,
            27.25,
            41.26,
            21.69,
            28.42
           ]
          },
          {
           "hoverinfo": "none",
           "marker": {
            "color": "#CBB67C"
           },
           "mode": "markers",
           "name": "football",
           "type": "scatter",
           "x": [
            17.41
           ],
           "y": [
            28.4
           ]
          }
         ],
         "name": "55"
        },
        {
         "data": [
          {
           "hoverinfo": "none",
           "mode": "text",
           "showlegend": false,
           "text": [
            "10",
            "20",
            "30",
            "40",
            "50",
            "40",
            "30",
            "20",
            "10"
           ],
           "textfont": {
            "color": "#ffffff",
            "family": "Courier New, monospace",
            "size": 30
           },
           "type": "scatter",
           "x": [
            20,
            30,
            40,
            50,
            60,
            70,
            80,
            90,
            100
           ],
           "y": [
            5,
            5,
            5,
            5,
            5,
            5,
            5,
            5,
            5
           ]
          },
          {
           "hoverinfo": "none",
           "mode": "text",
           "showlegend": false,
           "text": [
            "10",
            "20",
            "30",
            "40",
            "50",
            "40",
            "30",
            "20",
            "10"
           ],
           "textfont": {
            "color": "#ffffff",
            "family": "Courier New, monospace",
            "size": 30
           },
           "type": "scatter",
           "x": [
            20,
            30,
            40,
            50,
            60,
            70,
            80,
            90,
            100
           ],
           "y": [
            48.5,
            48.5,
            48.5,
            48.5,
            48.5,
            48.5,
            48.5,
            48.5,
            48.5
           ]
          },
          {
           "hoverinfo": "none",
           "line": {
            "color": "blue",
            "dash": "dash"
           },
           "showlegend": false,
           "type": "scatter",
           "x": [
            18,
            18
           ],
           "y": [
            0,
            53.5
           ]
          },
          {
           "hoverinfo": "none",
           "line": {
            "color": "yellow",
            "dash": "dash"
           },
           "showlegend": false,
           "type": "scatter",
           "x": [
            26,
            26
           ],
           "y": [
            0,
            53.5
           ]
          },
          {
           "hoverinfo": "text",
           "hovertext": [
            "nflId:37317.0<br>displayName:Malcolm Smith<br>Position:MLB<br>Role:Coverage",
            "nflId:38667.0<br>displayName:Malik Jackson<br>Position:LE<br>Role:Pass Rush",
            "nflId:44813.0<br>displayName:Myles Garrett<br>Position:RE<br>Role:Pass Rush",
            "nflId:44838.0<br>displayName:Takkarist McKinley<br>Position:LOLB<br>Role:Pass Rush",
            "nflId:44847.0<br>displayName:Malik McDowell<br>Position:DRT<br>Role:Pass Rush",
            "nflId:44903.0<br>displayName:John Johnson<br>Position:FSL<br>Role:Coverage",
            "nflId:46073.0<br>displayName:Denzel Ward<br>Position:RLB<br>Role:Coverage",
            "nflId:47829.0<br>displayName:Greedy Williams<br>Position:LCB<br>Role:Coverage",
            "nflId:47863.0<br>displayName:Sione Takitaki<br>Position:RLB<br>Role:Coverage",
            "nflId:47938.0<br>displayName:Mack Wilson<br>Position:LLB<br>Role:Coverage",
            "nflId:52452.0<br>displayName:Grant Delpit<br>Position:SCBL<br>Role:Coverage"
           ],
           "marker": {
            "color": "#311D00"
           },
           "mode": "markers",
           "name": "CLE",
           "type": "scatter",
           "x": [
            9.23,
            19.01,
            26.14,
            25.68,
            19.34,
            4.14,
            3.71,
            1.25,
            13.99,
            12.76,
            9.61
           ],
           "y": [
            24.51,
            32.31,
            26.17,
            22.15,
            25.47,
            29.86,
            27.28,
            42.81,
            10.64,
            26.96,
            33.91
           ]
          },
          {
           "hoverinfo": "text",
           "hovertext": [
            "nflId:38632.0<br>displayName:Kirk Cousins<br>Position:QB<br>Role:Pass",
            "nflId:40488.0<br>displayName:Adam Thielen<br>Position:RWR<br>Role:Pass Route",
            "nflId:43640.0<br>displayName:Rashod Hill<br>Position:LT<br>Role:Pass Block",
            "nflId:44853.0<br>displayName:Dalvin Cook<br>Position:HB<br>Role:Pass Route",
            "nflId:46131.0<br>displayName:Brian O'Neill<br>Position:RT<br>Role:Pass Block",
            "nflId:46226.0<br>displayName:Tyler Conklin<br>Position:TE-R<br>Role:Pass Route",
            "nflId:47801.0<br>displayName:Garrett Bradbury<br>Position:C<br>Role:Pass Block",
            "nflId:47976.0<br>displayName:Olisaemeka Udoh<br>Position:RG<br>Role:Pass Block",
            "nflId:52430.0<br>displayName:Justin Jefferson<br>Position:SRWR<br>Role:Pass Route",
            "nflId:52466.0<br>displayName:Ezra Cleveland<br>Position:LG<br>Role:Pass Block",
            "nflId:52725.0<br>displayName:Ben Ellefson<br>Position:TE-L<br>Role:Pass Route"
           ],
           "marker": {
            "color": "#4F2683"
           },
           "mode": "markers",
           "name": "MIN",
           "type": "scatter",
           "x": [
            16.81,
            9.32,
            27.53,
            19.57,
            23.25,
            7.9,
            23.98,
            19.28,
            0.74,
            24.21,
            4.3
           ],
           "y": [
            28.39,
            31.95,
            24.97,
            4.87,
            18.63,
            24.04,
            30.16,
            27.25,
            40.93,
            21.73,
            28.82
           ]
          },
          {
           "hoverinfo": "none",
           "marker": {
            "color": "#CBB67C"
           },
           "mode": "markers",
           "name": "football",
           "type": "scatter",
           "x": [
            17.04
           ],
           "y": [
            28.66
           ]
          }
         ],
         "name": "56"
        },
        {
         "data": [
          {
           "hoverinfo": "none",
           "mode": "text",
           "showlegend": false,
           "text": [
            "10",
            "20",
            "30",
            "40",
            "50",
            "40",
            "30",
            "20",
            "10"
           ],
           "textfont": {
            "color": "#ffffff",
            "family": "Courier New, monospace",
            "size": 30
           },
           "type": "scatter",
           "x": [
            20,
            30,
            40,
            50,
            60,
            70,
            80,
            90,
            100
           ],
           "y": [
            5,
            5,
            5,
            5,
            5,
            5,
            5,
            5,
            5
           ]
          },
          {
           "hoverinfo": "none",
           "mode": "text",
           "showlegend": false,
           "text": [
            "10",
            "20",
            "30",
            "40",
            "50",
            "40",
            "30",
            "20",
            "10"
           ],
           "textfont": {
            "color": "#ffffff",
            "family": "Courier New, monospace",
            "size": 30
           },
           "type": "scatter",
           "x": [
            20,
            30,
            40,
            50,
            60,
            70,
            80,
            90,
            100
           ],
           "y": [
            48.5,
            48.5,
            48.5,
            48.5,
            48.5,
            48.5,
            48.5,
            48.5,
            48.5
           ]
          },
          {
           "hoverinfo": "none",
           "line": {
            "color": "blue",
            "dash": "dash"
           },
           "showlegend": false,
           "type": "scatter",
           "x": [
            18,
            18
           ],
           "y": [
            0,
            53.5
           ]
          },
          {
           "hoverinfo": "none",
           "line": {
            "color": "yellow",
            "dash": "dash"
           },
           "showlegend": false,
           "type": "scatter",
           "x": [
            26,
            26
           ],
           "y": [
            0,
            53.5
           ]
          },
          {
           "hoverinfo": "text",
           "hovertext": [
            "nflId:37317.0<br>displayName:Malcolm Smith<br>Position:MLB<br>Role:Coverage",
            "nflId:38667.0<br>displayName:Malik Jackson<br>Position:LE<br>Role:Pass Rush",
            "nflId:44813.0<br>displayName:Myles Garrett<br>Position:RE<br>Role:Pass Rush",
            "nflId:44838.0<br>displayName:Takkarist McKinley<br>Position:LOLB<br>Role:Pass Rush",
            "nflId:44847.0<br>displayName:Malik McDowell<br>Position:DRT<br>Role:Pass Rush",
            "nflId:44903.0<br>displayName:John Johnson<br>Position:FSL<br>Role:Coverage",
            "nflId:46073.0<br>displayName:Denzel Ward<br>Position:RLB<br>Role:Coverage",
            "nflId:47829.0<br>displayName:Greedy Williams<br>Position:LCB<br>Role:Coverage",
            "nflId:47863.0<br>displayName:Sione Takitaki<br>Position:RLB<br>Role:Coverage",
            "nflId:47938.0<br>displayName:Mack Wilson<br>Position:LLB<br>Role:Coverage",
            "nflId:52452.0<br>displayName:Grant Delpit<br>Position:SCBL<br>Role:Coverage"
           ],
           "marker": {
            "color": "#311D00"
           },
           "mode": "markers",
           "name": "CLE",
           "type": "scatter",
           "x": [
            8.93,
            18.44,
            26.13,
            25.66,
            18.85,
            4.41,
            3.83,
            1.3,
            14.05,
            12.76,
            9.51
           ],
           "y": [
            24.77,
            32.28,
            26.25,
            22.12,
            25.56,
            30.16,
            27.57,
            42.49,
            10.31,
            27.09,
            33.24
           ]
          },
          {
           "hoverinfo": "text",
           "hovertext": [
            "nflId:38632.0<br>displayName:Kirk Cousins<br>Position:QB<br>Role:Pass",
            "nflId:40488.0<br>displayName:Adam Thielen<br>Position:RWR<br>Role:Pass Route",
            "nflId:43640.0<br>displayName:Rashod Hill<br>Position:LT<br>Role:Pass Block",
            "nflId:44853.0<br>displayName:Dalvin Cook<br>Position:HB<br>Role:Pass Route",
            "nflId:46131.0<br>displayName:Brian O'Neill<br>Position:RT<br>Role:Pass Block",
            "nflId:46226.0<br>displayName:Tyler Conklin<br>Position:TE-R<br>Role:Pass Route",
            "nflId:47801.0<br>displayName:Garrett Bradbury<br>Position:C<br>Role:Pass Block",
            "nflId:47976.0<br>displayName:Olisaemeka Udoh<br>Position:RG<br>Role:Pass Block",
            "nflId:52430.0<br>displayName:Justin Jefferson<br>Position:SRWR<br>Role:Pass Route",
            "nflId:52466.0<br>displayName:Ezra Cleveland<br>Position:LG<br>Role:Pass Block",
            "nflId:52725.0<br>displayName:Ben Ellefson<br>Position:TE-L<br>Role:Pass Route"
           ],
           "marker": {
            "color": "#4F2683"
           },
           "mode": "markers",
           "name": "MIN",
           "type": "scatter",
           "x": [
            16.46,
            9.05,
            27.51,
            19.45,
            23.08,
            7.54,
            23.86,
            18.79,
            0.83,
            24.07,
            4.45
           ],
           "y": [
            28.74,
            31.63,
            25,
            4.76,
            18.56,
            24.2,
            30.14,
            27.26,
            40.57,
            21.79,
            29.21
           ]
          },
          {
           "hoverinfo": "none",
           "marker": {
            "color": "#CBB67C"
           },
           "mode": "markers",
           "name": "football",
           "type": "scatter",
           "x": [
            16.67
           ],
           "y": [
            28.94
           ]
          }
         ],
         "name": "57"
        },
        {
         "data": [
          {
           "hoverinfo": "none",
           "mode": "text",
           "showlegend": false,
           "text": [
            "10",
            "20",
            "30",
            "40",
            "50",
            "40",
            "30",
            "20",
            "10"
           ],
           "textfont": {
            "color": "#ffffff",
            "family": "Courier New, monospace",
            "size": 30
           },
           "type": "scatter",
           "x": [
            20,
            30,
            40,
            50,
            60,
            70,
            80,
            90,
            100
           ],
           "y": [
            5,
            5,
            5,
            5,
            5,
            5,
            5,
            5,
            5
           ]
          },
          {
           "hoverinfo": "none",
           "mode": "text",
           "showlegend": false,
           "text": [
            "10",
            "20",
            "30",
            "40",
            "50",
            "40",
            "30",
            "20",
            "10"
           ],
           "textfont": {
            "color": "#ffffff",
            "family": "Courier New, monospace",
            "size": 30
           },
           "type": "scatter",
           "x": [
            20,
            30,
            40,
            50,
            60,
            70,
            80,
            90,
            100
           ],
           "y": [
            48.5,
            48.5,
            48.5,
            48.5,
            48.5,
            48.5,
            48.5,
            48.5,
            48.5
           ]
          },
          {
           "hoverinfo": "none",
           "line": {
            "color": "blue",
            "dash": "dash"
           },
           "showlegend": false,
           "type": "scatter",
           "x": [
            18,
            18
           ],
           "y": [
            0,
            53.5
           ]
          },
          {
           "hoverinfo": "none",
           "line": {
            "color": "yellow",
            "dash": "dash"
           },
           "showlegend": false,
           "type": "scatter",
           "x": [
            26,
            26
           ],
           "y": [
            0,
            53.5
           ]
          },
          {
           "hoverinfo": "text",
           "hovertext": [
            "nflId:37317.0<br>displayName:Malcolm Smith<br>Position:MLB<br>Role:Coverage",
            "nflId:38667.0<br>displayName:Malik Jackson<br>Position:LE<br>Role:Pass Rush",
            "nflId:44813.0<br>displayName:Myles Garrett<br>Position:RE<br>Role:Pass Rush",
            "nflId:44838.0<br>displayName:Takkarist McKinley<br>Position:LOLB<br>Role:Pass Rush",
            "nflId:44847.0<br>displayName:Malik McDowell<br>Position:DRT<br>Role:Pass Rush",
            "nflId:44903.0<br>displayName:John Johnson<br>Position:FSL<br>Role:Coverage",
            "nflId:46073.0<br>displayName:Denzel Ward<br>Position:RLB<br>Role:Coverage",
            "nflId:47829.0<br>displayName:Greedy Williams<br>Position:LCB<br>Role:Coverage",
            "nflId:47863.0<br>displayName:Sione Takitaki<br>Position:RLB<br>Role:Coverage",
            "nflId:47938.0<br>displayName:Mack Wilson<br>Position:LLB<br>Role:Coverage",
            "nflId:52452.0<br>displayName:Grant Delpit<br>Position:SCBL<br>Role:Coverage"
           ],
           "marker": {
            "color": "#311D00"
           },
           "mode": "markers",
           "name": "CLE",
           "type": "scatter",
           "x": [
            8.64,
            17.89,
            26.11,
            25.65,
            18.36,
            4.7,
            3.98,
            1.37,
            14.14,
            12.75,
            9.42
           ],
           "y": [
            25.05,
            32.24,
            26.33,
            22.09,
            25.66,
            30.49,
            27.85,
            42.13,
            10,
            27.29,
            32.58
           ]
          },
          {
           "hoverinfo": "text",
           "hovertext": [
            "nflId:38632.0<br>displayName:Kirk Cousins<br>Position:QB<br>Role:Pass",
            "nflId:40488.0<br>displayName:Adam Thielen<br>Position:RWR<br>Role:Pass Route",
            "nflId:43640.0<br>displayName:Rashod Hill<br>Position:LT<br>Role:Pass Block",
            "nflId:44853.0<br>displayName:Dalvin Cook<br>Position:HB<br>Role:Pass Route",
            "nflId:46131.0<br>displayName:Brian O'Neill<br>Position:RT<br>Role:Pass Block",
            "nflId:46226.0<br>displayName:Tyler Conklin<br>Position:TE-R<br>Role:Pass Route",
            "nflId:47801.0<br>displayName:Garrett Bradbury<br>Position:C<br>Role:Pass Block",
            "nflId:47976.0<br>displayName:Olisaemeka Udoh<br>Position:RG<br>Role:Pass Block",
            "nflId:52430.0<br>displayName:Justin Jefferson<br>Position:SRWR<br>Role:Pass Route",
            "nflId:52466.0<br>displayName:Ezra Cleveland<br>Position:LG<br>Role:Pass Block",
            "nflId:52725.0<br>displayName:Ben Ellefson<br>Position:TE-L<br>Role:Pass Route"
           ],
           "marker": {
            "color": "#4F2683"
           },
           "mode": "markers",
           "name": "MIN",
           "type": "scatter",
           "x": [
            16.13,
            8.81,
            27.48,
            19.33,
            22.92,
            7.21,
            23.72,
            18.29,
            0.95,
            23.92,
            4.56
           ],
           "y": [
            29.1,
            31.34,
            25.04,
            4.66,
            18.53,
            24.36,
            30.12,
            27.32,
            40.19,
            21.86,
            29.6
           ]
          },
          {
           "hoverinfo": "none",
           "marker": {
            "color": "#CBB67C"
           },
           "mode": "markers",
           "name": "football",
           "type": "scatter",
           "x": [
            16.31
           ],
           "y": [
            29.22
           ]
          }
         ],
         "name": "58"
        }
       ],
       "layout": {
        "annotations": [
         {
          "align": "center",
          "bgcolor": "#ff7f0e",
          "bordercolor": "black",
          "borderpad": 4,
          "borderwidth": 2,
          "font": {
           "color": "black",
           "family": "Courier New, monospace",
           "size": 16
          },
          "opacity": 1,
          "showarrow": false,
          "text": "1",
          "x": 26,
          "y": 0
         },
         {
          "align": "center",
          "bgcolor": "#ff7f0e",
          "bordercolor": "black",
          "borderpad": 4,
          "borderwidth": 2,
          "font": {
           "color": "black",
           "family": "Courier New, monospace",
           "size": 16
          },
          "opacity": 1,
          "showarrow": false,
          "text": "1",
          "x": 26,
          "y": 53
         }
        ],
        "autosize": false,
        "height": 600,
        "plot_bgcolor": "#00B140",
        "sliders": [
         {
          "active": 0,
          "currentvalue": {
           "font": {
            "size": 20
           },
           "prefix": "Frame:",
           "visible": true,
           "xanchor": "right"
          },
          "len": 0.9,
          "pad": {
           "b": 10,
           "t": 50
          },
          "steps": [
           {
            "args": [
             [
              1
             ],
             {
              "frame": {
               "duration": 100,
               "redraw": false
              },
              "mode": "immediate",
              "transition": {
               "duration": 0
              }
             }
            ],
            "label": "1",
            "method": "animate"
           },
           {
            "args": [
             [
              2
             ],
             {
              "frame": {
               "duration": 100,
               "redraw": false
              },
              "mode": "immediate",
              "transition": {
               "duration": 0
              }
             }
            ],
            "label": "2",
            "method": "animate"
           },
           {
            "args": [
             [
              3
             ],
             {
              "frame": {
               "duration": 100,
               "redraw": false
              },
              "mode": "immediate",
              "transition": {
               "duration": 0
              }
             }
            ],
            "label": "3",
            "method": "animate"
           },
           {
            "args": [
             [
              4
             ],
             {
              "frame": {
               "duration": 100,
               "redraw": false
              },
              "mode": "immediate",
              "transition": {
               "duration": 0
              }
             }
            ],
            "label": "4",
            "method": "animate"
           },
           {
            "args": [
             [
              5
             ],
             {
              "frame": {
               "duration": 100,
               "redraw": false
              },
              "mode": "immediate",
              "transition": {
               "duration": 0
              }
             }
            ],
            "label": "5",
            "method": "animate"
           },
           {
            "args": [
             [
              6
             ],
             {
              "frame": {
               "duration": 100,
               "redraw": false
              },
              "mode": "immediate",
              "transition": {
               "duration": 0
              }
             }
            ],
            "label": "6",
            "method": "animate"
           },
           {
            "args": [
             [
              7
             ],
             {
              "frame": {
               "duration": 100,
               "redraw": false
              },
              "mode": "immediate",
              "transition": {
               "duration": 0
              }
             }
            ],
            "label": "7",
            "method": "animate"
           },
           {
            "args": [
             [
              8
             ],
             {
              "frame": {
               "duration": 100,
               "redraw": false
              },
              "mode": "immediate",
              "transition": {
               "duration": 0
              }
             }
            ],
            "label": "8",
            "method": "animate"
           },
           {
            "args": [
             [
              9
             ],
             {
              "frame": {
               "duration": 100,
               "redraw": false
              },
              "mode": "immediate",
              "transition": {
               "duration": 0
              }
             }
            ],
            "label": "9",
            "method": "animate"
           },
           {
            "args": [
             [
              10
             ],
             {
              "frame": {
               "duration": 100,
               "redraw": false
              },
              "mode": "immediate",
              "transition": {
               "duration": 0
              }
             }
            ],
            "label": "10",
            "method": "animate"
           },
           {
            "args": [
             [
              11
             ],
             {
              "frame": {
               "duration": 100,
               "redraw": false
              },
              "mode": "immediate",
              "transition": {
               "duration": 0
              }
             }
            ],
            "label": "11",
            "method": "animate"
           },
           {
            "args": [
             [
              12
             ],
             {
              "frame": {
               "duration": 100,
               "redraw": false
              },
              "mode": "immediate",
              "transition": {
               "duration": 0
              }
             }
            ],
            "label": "12",
            "method": "animate"
           },
           {
            "args": [
             [
              13
             ],
             {
              "frame": {
               "duration": 100,
               "redraw": false
              },
              "mode": "immediate",
              "transition": {
               "duration": 0
              }
             }
            ],
            "label": "13",
            "method": "animate"
           },
           {
            "args": [
             [
              14
             ],
             {
              "frame": {
               "duration": 100,
               "redraw": false
              },
              "mode": "immediate",
              "transition": {
               "duration": 0
              }
             }
            ],
            "label": "14",
            "method": "animate"
           },
           {
            "args": [
             [
              15
             ],
             {
              "frame": {
               "duration": 100,
               "redraw": false
              },
              "mode": "immediate",
              "transition": {
               "duration": 0
              }
             }
            ],
            "label": "15",
            "method": "animate"
           },
           {
            "args": [
             [
              16
             ],
             {
              "frame": {
               "duration": 100,
               "redraw": false
              },
              "mode": "immediate",
              "transition": {
               "duration": 0
              }
             }
            ],
            "label": "16",
            "method": "animate"
           },
           {
            "args": [
             [
              17
             ],
             {
              "frame": {
               "duration": 100,
               "redraw": false
              },
              "mode": "immediate",
              "transition": {
               "duration": 0
              }
             }
            ],
            "label": "17",
            "method": "animate"
           },
           {
            "args": [
             [
              18
             ],
             {
              "frame": {
               "duration": 100,
               "redraw": false
              },
              "mode": "immediate",
              "transition": {
               "duration": 0
              }
             }
            ],
            "label": "18",
            "method": "animate"
           },
           {
            "args": [
             [
              19
             ],
             {
              "frame": {
               "duration": 100,
               "redraw": false
              },
              "mode": "immediate",
              "transition": {
               "duration": 0
              }
             }
            ],
            "label": "19",
            "method": "animate"
           },
           {
            "args": [
             [
              20
             ],
             {
              "frame": {
               "duration": 100,
               "redraw": false
              },
              "mode": "immediate",
              "transition": {
               "duration": 0
              }
             }
            ],
            "label": "20",
            "method": "animate"
           },
           {
            "args": [
             [
              21
             ],
             {
              "frame": {
               "duration": 100,
               "redraw": false
              },
              "mode": "immediate",
              "transition": {
               "duration": 0
              }
             }
            ],
            "label": "21",
            "method": "animate"
           },
           {
            "args": [
             [
              22
             ],
             {
              "frame": {
               "duration": 100,
               "redraw": false
              },
              "mode": "immediate",
              "transition": {
               "duration": 0
              }
             }
            ],
            "label": "22",
            "method": "animate"
           },
           {
            "args": [
             [
              23
             ],
             {
              "frame": {
               "duration": 100,
               "redraw": false
              },
              "mode": "immediate",
              "transition": {
               "duration": 0
              }
             }
            ],
            "label": "23",
            "method": "animate"
           },
           {
            "args": [
             [
              24
             ],
             {
              "frame": {
               "duration": 100,
               "redraw": false
              },
              "mode": "immediate",
              "transition": {
               "duration": 0
              }
             }
            ],
            "label": "24",
            "method": "animate"
           },
           {
            "args": [
             [
              25
             ],
             {
              "frame": {
               "duration": 100,
               "redraw": false
              },
              "mode": "immediate",
              "transition": {
               "duration": 0
              }
             }
            ],
            "label": "25",
            "method": "animate"
           },
           {
            "args": [
             [
              26
             ],
             {
              "frame": {
               "duration": 100,
               "redraw": false
              },
              "mode": "immediate",
              "transition": {
               "duration": 0
              }
             }
            ],
            "label": "26",
            "method": "animate"
           },
           {
            "args": [
             [
              27
             ],
             {
              "frame": {
               "duration": 100,
               "redraw": false
              },
              "mode": "immediate",
              "transition": {
               "duration": 0
              }
             }
            ],
            "label": "27",
            "method": "animate"
           },
           {
            "args": [
             [
              28
             ],
             {
              "frame": {
               "duration": 100,
               "redraw": false
              },
              "mode": "immediate",
              "transition": {
               "duration": 0
              }
             }
            ],
            "label": "28",
            "method": "animate"
           },
           {
            "args": [
             [
              29
             ],
             {
              "frame": {
               "duration": 100,
               "redraw": false
              },
              "mode": "immediate",
              "transition": {
               "duration": 0
              }
             }
            ],
            "label": "29",
            "method": "animate"
           },
           {
            "args": [
             [
              30
             ],
             {
              "frame": {
               "duration": 100,
               "redraw": false
              },
              "mode": "immediate",
              "transition": {
               "duration": 0
              }
             }
            ],
            "label": "30",
            "method": "animate"
           },
           {
            "args": [
             [
              31
             ],
             {
              "frame": {
               "duration": 100,
               "redraw": false
              },
              "mode": "immediate",
              "transition": {
               "duration": 0
              }
             }
            ],
            "label": "31",
            "method": "animate"
           },
           {
            "args": [
             [
              32
             ],
             {
              "frame": {
               "duration": 100,
               "redraw": false
              },
              "mode": "immediate",
              "transition": {
               "duration": 0
              }
             }
            ],
            "label": "32",
            "method": "animate"
           },
           {
            "args": [
             [
              33
             ],
             {
              "frame": {
               "duration": 100,
               "redraw": false
              },
              "mode": "immediate",
              "transition": {
               "duration": 0
              }
             }
            ],
            "label": "33",
            "method": "animate"
           },
           {
            "args": [
             [
              34
             ],
             {
              "frame": {
               "duration": 100,
               "redraw": false
              },
              "mode": "immediate",
              "transition": {
               "duration": 0
              }
             }
            ],
            "label": "34",
            "method": "animate"
           },
           {
            "args": [
             [
              35
             ],
             {
              "frame": {
               "duration": 100,
               "redraw": false
              },
              "mode": "immediate",
              "transition": {
               "duration": 0
              }
             }
            ],
            "label": "35",
            "method": "animate"
           },
           {
            "args": [
             [
              36
             ],
             {
              "frame": {
               "duration": 100,
               "redraw": false
              },
              "mode": "immediate",
              "transition": {
               "duration": 0
              }
             }
            ],
            "label": "36",
            "method": "animate"
           },
           {
            "args": [
             [
              37
             ],
             {
              "frame": {
               "duration": 100,
               "redraw": false
              },
              "mode": "immediate",
              "transition": {
               "duration": 0
              }
             }
            ],
            "label": "37",
            "method": "animate"
           },
           {
            "args": [
             [
              38
             ],
             {
              "frame": {
               "duration": 100,
               "redraw": false
              },
              "mode": "immediate",
              "transition": {
               "duration": 0
              }
             }
            ],
            "label": "38",
            "method": "animate"
           },
           {
            "args": [
             [
              39
             ],
             {
              "frame": {
               "duration": 100,
               "redraw": false
              },
              "mode": "immediate",
              "transition": {
               "duration": 0
              }
             }
            ],
            "label": "39",
            "method": "animate"
           },
           {
            "args": [
             [
              40
             ],
             {
              "frame": {
               "duration": 100,
               "redraw": false
              },
              "mode": "immediate",
              "transition": {
               "duration": 0
              }
             }
            ],
            "label": "40",
            "method": "animate"
           },
           {
            "args": [
             [
              41
             ],
             {
              "frame": {
               "duration": 100,
               "redraw": false
              },
              "mode": "immediate",
              "transition": {
               "duration": 0
              }
             }
            ],
            "label": "41",
            "method": "animate"
           },
           {
            "args": [
             [
              42
             ],
             {
              "frame": {
               "duration": 100,
               "redraw": false
              },
              "mode": "immediate",
              "transition": {
               "duration": 0
              }
             }
            ],
            "label": "42",
            "method": "animate"
           },
           {
            "args": [
             [
              43
             ],
             {
              "frame": {
               "duration": 100,
               "redraw": false
              },
              "mode": "immediate",
              "transition": {
               "duration": 0
              }
             }
            ],
            "label": "43",
            "method": "animate"
           },
           {
            "args": [
             [
              44
             ],
             {
              "frame": {
               "duration": 100,
               "redraw": false
              },
              "mode": "immediate",
              "transition": {
               "duration": 0
              }
             }
            ],
            "label": "44",
            "method": "animate"
           },
           {
            "args": [
             [
              45
             ],
             {
              "frame": {
               "duration": 100,
               "redraw": false
              },
              "mode": "immediate",
              "transition": {
               "duration": 0
              }
             }
            ],
            "label": "45",
            "method": "animate"
           },
           {
            "args": [
             [
              46
             ],
             {
              "frame": {
               "duration": 100,
               "redraw": false
              },
              "mode": "immediate",
              "transition": {
               "duration": 0
              }
             }
            ],
            "label": "46",
            "method": "animate"
           },
           {
            "args": [
             [
              47
             ],
             {
              "frame": {
               "duration": 100,
               "redraw": false
              },
              "mode": "immediate",
              "transition": {
               "duration": 0
              }
             }
            ],
            "label": "47",
            "method": "animate"
           },
           {
            "args": [
             [
              48
             ],
             {
              "frame": {
               "duration": 100,
               "redraw": false
              },
              "mode": "immediate",
              "transition": {
               "duration": 0
              }
             }
            ],
            "label": "48",
            "method": "animate"
           },
           {
            "args": [
             [
              49
             ],
             {
              "frame": {
               "duration": 100,
               "redraw": false
              },
              "mode": "immediate",
              "transition": {
               "duration": 0
              }
             }
            ],
            "label": "49",
            "method": "animate"
           },
           {
            "args": [
             [
              50
             ],
             {
              "frame": {
               "duration": 100,
               "redraw": false
              },
              "mode": "immediate",
              "transition": {
               "duration": 0
              }
             }
            ],
            "label": "50",
            "method": "animate"
           },
           {
            "args": [
             [
              51
             ],
             {
              "frame": {
               "duration": 100,
               "redraw": false
              },
              "mode": "immediate",
              "transition": {
               "duration": 0
              }
             }
            ],
            "label": "51",
            "method": "animate"
           },
           {
            "args": [
             [
              52
             ],
             {
              "frame": {
               "duration": 100,
               "redraw": false
              },
              "mode": "immediate",
              "transition": {
               "duration": 0
              }
             }
            ],
            "label": "52",
            "method": "animate"
           },
           {
            "args": [
             [
              53
             ],
             {
              "frame": {
               "duration": 100,
               "redraw": false
              },
              "mode": "immediate",
              "transition": {
               "duration": 0
              }
             }
            ],
            "label": "53",
            "method": "animate"
           },
           {
            "args": [
             [
              54
             ],
             {
              "frame": {
               "duration": 100,
               "redraw": false
              },
              "mode": "immediate",
              "transition": {
               "duration": 0
              }
             }
            ],
            "label": "54",
            "method": "animate"
           },
           {
            "args": [
             [
              55
             ],
             {
              "frame": {
               "duration": 100,
               "redraw": false
              },
              "mode": "immediate",
              "transition": {
               "duration": 0
              }
             }
            ],
            "label": "55",
            "method": "animate"
           },
           {
            "args": [
             [
              56
             ],
             {
              "frame": {
               "duration": 100,
               "redraw": false
              },
              "mode": "immediate",
              "transition": {
               "duration": 0
              }
             }
            ],
            "label": "56",
            "method": "animate"
           },
           {
            "args": [
             [
              57
             ],
             {
              "frame": {
               "duration": 100,
               "redraw": false
              },
              "mode": "immediate",
              "transition": {
               "duration": 0
              }
             }
            ],
            "label": "57",
            "method": "animate"
           },
           {
            "args": [
             [
              58
             ],
             {
              "frame": {
               "duration": 100,
               "redraw": false
              },
              "mode": "immediate",
              "transition": {
               "duration": 0
              }
             }
            ],
            "label": "58",
            "method": "animate"
           }
          ],
          "transition": {
           "duration": 300,
           "easing": "cubic-in-out"
          },
          "x": 0.1,
          "xanchor": "left",
          "y": 0,
          "yanchor": "top"
         }
        ],
        "template": {
         "data": {
          "bar": [
           {
            "error_x": {
             "color": "#2a3f5f"
            },
            "error_y": {
             "color": "#2a3f5f"
            },
            "marker": {
             "line": {
              "color": "#E5ECF6",
              "width": 0.5
             },
             "pattern": {
              "fillmode": "overlay",
              "size": 10,
              "solidity": 0.2
             }
            },
            "type": "bar"
           }
          ],
          "barpolar": [
           {
            "marker": {
             "line": {
              "color": "#E5ECF6",
              "width": 0.5
             },
             "pattern": {
              "fillmode": "overlay",
              "size": 10,
              "solidity": 0.2
             }
            },
            "type": "barpolar"
           }
          ],
          "carpet": [
           {
            "aaxis": {
             "endlinecolor": "#2a3f5f",
             "gridcolor": "white",
             "linecolor": "white",
             "minorgridcolor": "white",
             "startlinecolor": "#2a3f5f"
            },
            "baxis": {
             "endlinecolor": "#2a3f5f",
             "gridcolor": "white",
             "linecolor": "white",
             "minorgridcolor": "white",
             "startlinecolor": "#2a3f5f"
            },
            "type": "carpet"
           }
          ],
          "choropleth": [
           {
            "colorbar": {
             "outlinewidth": 0,
             "ticks": ""
            },
            "type": "choropleth"
           }
          ],
          "contour": [
           {
            "colorbar": {
             "outlinewidth": 0,
             "ticks": ""
            },
            "colorscale": [
             [
              0,
              "#0d0887"
             ],
             [
              0.1111111111111111,
              "#46039f"
             ],
             [
              0.2222222222222222,
              "#7201a8"
             ],
             [
              0.3333333333333333,
              "#9c179e"
             ],
             [
              0.4444444444444444,
              "#bd3786"
             ],
             [
              0.5555555555555556,
              "#d8576b"
             ],
             [
              0.6666666666666666,
              "#ed7953"
             ],
             [
              0.7777777777777778,
              "#fb9f3a"
             ],
             [
              0.8888888888888888,
              "#fdca26"
             ],
             [
              1,
              "#f0f921"
             ]
            ],
            "type": "contour"
           }
          ],
          "contourcarpet": [
           {
            "colorbar": {
             "outlinewidth": 0,
             "ticks": ""
            },
            "type": "contourcarpet"
           }
          ],
          "heatmap": [
           {
            "colorbar": {
             "outlinewidth": 0,
             "ticks": ""
            },
            "colorscale": [
             [
              0,
              "#0d0887"
             ],
             [
              0.1111111111111111,
              "#46039f"
             ],
             [
              0.2222222222222222,
              "#7201a8"
             ],
             [
              0.3333333333333333,
              "#9c179e"
             ],
             [
              0.4444444444444444,
              "#bd3786"
             ],
             [
              0.5555555555555556,
              "#d8576b"
             ],
             [
              0.6666666666666666,
              "#ed7953"
             ],
             [
              0.7777777777777778,
              "#fb9f3a"
             ],
             [
              0.8888888888888888,
              "#fdca26"
             ],
             [
              1,
              "#f0f921"
             ]
            ],
            "type": "heatmap"
           }
          ],
          "heatmapgl": [
           {
            "colorbar": {
             "outlinewidth": 0,
             "ticks": ""
            },
            "colorscale": [
             [
              0,
              "#0d0887"
             ],
             [
              0.1111111111111111,
              "#46039f"
             ],
             [
              0.2222222222222222,
              "#7201a8"
             ],
             [
              0.3333333333333333,
              "#9c179e"
             ],
             [
              0.4444444444444444,
              "#bd3786"
             ],
             [
              0.5555555555555556,
              "#d8576b"
             ],
             [
              0.6666666666666666,
              "#ed7953"
             ],
             [
              0.7777777777777778,
              "#fb9f3a"
             ],
             [
              0.8888888888888888,
              "#fdca26"
             ],
             [
              1,
              "#f0f921"
             ]
            ],
            "type": "heatmapgl"
           }
          ],
          "histogram": [
           {
            "marker": {
             "pattern": {
              "fillmode": "overlay",
              "size": 10,
              "solidity": 0.2
             }
            },
            "type": "histogram"
           }
          ],
          "histogram2d": [
           {
            "colorbar": {
             "outlinewidth": 0,
             "ticks": ""
            },
            "colorscale": [
             [
              0,
              "#0d0887"
             ],
             [
              0.1111111111111111,
              "#46039f"
             ],
             [
              0.2222222222222222,
              "#7201a8"
             ],
             [
              0.3333333333333333,
              "#9c179e"
             ],
             [
              0.4444444444444444,
              "#bd3786"
             ],
             [
              0.5555555555555556,
              "#d8576b"
             ],
             [
              0.6666666666666666,
              "#ed7953"
             ],
             [
              0.7777777777777778,
              "#fb9f3a"
             ],
             [
              0.8888888888888888,
              "#fdca26"
             ],
             [
              1,
              "#f0f921"
             ]
            ],
            "type": "histogram2d"
           }
          ],
          "histogram2dcontour": [
           {
            "colorbar": {
             "outlinewidth": 0,
             "ticks": ""
            },
            "colorscale": [
             [
              0,
              "#0d0887"
             ],
             [
              0.1111111111111111,
              "#46039f"
             ],
             [
              0.2222222222222222,
              "#7201a8"
             ],
             [
              0.3333333333333333,
              "#9c179e"
             ],
             [
              0.4444444444444444,
              "#bd3786"
             ],
             [
              0.5555555555555556,
              "#d8576b"
             ],
             [
              0.6666666666666666,
              "#ed7953"
             ],
             [
              0.7777777777777778,
              "#fb9f3a"
             ],
             [
              0.8888888888888888,
              "#fdca26"
             ],
             [
              1,
              "#f0f921"
             ]
            ],
            "type": "histogram2dcontour"
           }
          ],
          "mesh3d": [
           {
            "colorbar": {
             "outlinewidth": 0,
             "ticks": ""
            },
            "type": "mesh3d"
           }
          ],
          "parcoords": [
           {
            "line": {
             "colorbar": {
              "outlinewidth": 0,
              "ticks": ""
             }
            },
            "type": "parcoords"
           }
          ],
          "pie": [
           {
            "automargin": true,
            "type": "pie"
           }
          ],
          "scatter": [
           {
            "fillpattern": {
             "fillmode": "overlay",
             "size": 10,
             "solidity": 0.2
            },
            "type": "scatter"
           }
          ],
          "scatter3d": [
           {
            "line": {
             "colorbar": {
              "outlinewidth": 0,
              "ticks": ""
             }
            },
            "marker": {
             "colorbar": {
              "outlinewidth": 0,
              "ticks": ""
             }
            },
            "type": "scatter3d"
           }
          ],
          "scattercarpet": [
           {
            "marker": {
             "colorbar": {
              "outlinewidth": 0,
              "ticks": ""
             }
            },
            "type": "scattercarpet"
           }
          ],
          "scattergeo": [
           {
            "marker": {
             "colorbar": {
              "outlinewidth": 0,
              "ticks": ""
             }
            },
            "type": "scattergeo"
           }
          ],
          "scattergl": [
           {
            "marker": {
             "colorbar": {
              "outlinewidth": 0,
              "ticks": ""
             }
            },
            "type": "scattergl"
           }
          ],
          "scattermapbox": [
           {
            "marker": {
             "colorbar": {
              "outlinewidth": 0,
              "ticks": ""
             }
            },
            "type": "scattermapbox"
           }
          ],
          "scatterpolar": [
           {
            "marker": {
             "colorbar": {
              "outlinewidth": 0,
              "ticks": ""
             }
            },
            "type": "scatterpolar"
           }
          ],
          "scatterpolargl": [
           {
            "marker": {
             "colorbar": {
              "outlinewidth": 0,
              "ticks": ""
             }
            },
            "type": "scatterpolargl"
           }
          ],
          "scatterternary": [
           {
            "marker": {
             "colorbar": {
              "outlinewidth": 0,
              "ticks": ""
             }
            },
            "type": "scatterternary"
           }
          ],
          "surface": [
           {
            "colorbar": {
             "outlinewidth": 0,
             "ticks": ""
            },
            "colorscale": [
             [
              0,
              "#0d0887"
             ],
             [
              0.1111111111111111,
              "#46039f"
             ],
             [
              0.2222222222222222,
              "#7201a8"
             ],
             [
              0.3333333333333333,
              "#9c179e"
             ],
             [
              0.4444444444444444,
              "#bd3786"
             ],
             [
              0.5555555555555556,
              "#d8576b"
             ],
             [
              0.6666666666666666,
              "#ed7953"
             ],
             [
              0.7777777777777778,
              "#fb9f3a"
             ],
             [
              0.8888888888888888,
              "#fdca26"
             ],
             [
              1,
              "#f0f921"
             ]
            ],
            "type": "surface"
           }
          ],
          "table": [
           {
            "cells": {
             "fill": {
              "color": "#EBF0F8"
             },
             "line": {
              "color": "white"
             }
            },
            "header": {
             "fill": {
              "color": "#C8D4E3"
             },
             "line": {
              "color": "white"
             }
            },
            "type": "table"
           }
          ]
         },
         "layout": {
          "annotationdefaults": {
           "arrowcolor": "#2a3f5f",
           "arrowhead": 0,
           "arrowwidth": 1
          },
          "autotypenumbers": "strict",
          "coloraxis": {
           "colorbar": {
            "outlinewidth": 0,
            "ticks": ""
           }
          },
          "colorscale": {
           "diverging": [
            [
             0,
             "#8e0152"
            ],
            [
             0.1,
             "#c51b7d"
            ],
            [
             0.2,
             "#de77ae"
            ],
            [
             0.3,
             "#f1b6da"
            ],
            [
             0.4,
             "#fde0ef"
            ],
            [
             0.5,
             "#f7f7f7"
            ],
            [
             0.6,
             "#e6f5d0"
            ],
            [
             0.7,
             "#b8e186"
            ],
            [
             0.8,
             "#7fbc41"
            ],
            [
             0.9,
             "#4d9221"
            ],
            [
             1,
             "#276419"
            ]
           ],
           "sequential": [
            [
             0,
             "#0d0887"
            ],
            [
             0.1111111111111111,
             "#46039f"
            ],
            [
             0.2222222222222222,
             "#7201a8"
            ],
            [
             0.3333333333333333,
             "#9c179e"
            ],
            [
             0.4444444444444444,
             "#bd3786"
            ],
            [
             0.5555555555555556,
             "#d8576b"
            ],
            [
             0.6666666666666666,
             "#ed7953"
            ],
            [
             0.7777777777777778,
             "#fb9f3a"
            ],
            [
             0.8888888888888888,
             "#fdca26"
            ],
            [
             1,
             "#f0f921"
            ]
           ],
           "sequentialminus": [
            [
             0,
             "#0d0887"
            ],
            [
             0.1111111111111111,
             "#46039f"
            ],
            [
             0.2222222222222222,
             "#7201a8"
            ],
            [
             0.3333333333333333,
             "#9c179e"
            ],
            [
             0.4444444444444444,
             "#bd3786"
            ],
            [
             0.5555555555555556,
             "#d8576b"
            ],
            [
             0.6666666666666666,
             "#ed7953"
            ],
            [
             0.7777777777777778,
             "#fb9f3a"
            ],
            [
             0.8888888888888888,
             "#fdca26"
            ],
            [
             1,
             "#f0f921"
            ]
           ]
          },
          "colorway": [
           "#636efa",
           "#EF553B",
           "#00cc96",
           "#ab63fa",
           "#FFA15A",
           "#19d3f3",
           "#FF6692",
           "#B6E880",
           "#FF97FF",
           "#FECB52"
          ],
          "font": {
           "color": "#2a3f5f"
          },
          "geo": {
           "bgcolor": "white",
           "lakecolor": "white",
           "landcolor": "#E5ECF6",
           "showlakes": true,
           "showland": true,
           "subunitcolor": "white"
          },
          "hoverlabel": {
           "align": "left"
          },
          "hovermode": "closest",
          "mapbox": {
           "style": "light"
          },
          "paper_bgcolor": "white",
          "plot_bgcolor": "#E5ECF6",
          "polar": {
           "angularaxis": {
            "gridcolor": "white",
            "linecolor": "white",
            "ticks": ""
           },
           "bgcolor": "#E5ECF6",
           "radialaxis": {
            "gridcolor": "white",
            "linecolor": "white",
            "ticks": ""
           }
          },
          "scene": {
           "xaxis": {
            "backgroundcolor": "#E5ECF6",
            "gridcolor": "white",
            "gridwidth": 2,
            "linecolor": "white",
            "showbackground": true,
            "ticks": "",
            "zerolinecolor": "white"
           },
           "yaxis": {
            "backgroundcolor": "#E5ECF6",
            "gridcolor": "white",
            "gridwidth": 2,
            "linecolor": "white",
            "showbackground": true,
            "ticks": "",
            "zerolinecolor": "white"
           },
           "zaxis": {
            "backgroundcolor": "#E5ECF6",
            "gridcolor": "white",
            "gridwidth": 2,
            "linecolor": "white",
            "showbackground": true,
            "ticks": "",
            "zerolinecolor": "white"
           }
          },
          "shapedefaults": {
           "line": {
            "color": "#2a3f5f"
           }
          },
          "ternary": {
           "aaxis": {
            "gridcolor": "white",
            "linecolor": "white",
            "ticks": ""
           },
           "baxis": {
            "gridcolor": "white",
            "linecolor": "white",
            "ticks": ""
           },
           "bgcolor": "#E5ECF6",
           "caxis": {
            "gridcolor": "white",
            "linecolor": "white",
            "ticks": ""
           }
          },
          "title": {
           "x": 0.05
          },
          "xaxis": {
           "automargin": true,
           "gridcolor": "white",
           "linecolor": "white",
           "ticks": "",
           "title": {
            "standoff": 15
           },
           "zerolinecolor": "white",
           "zerolinewidth": 2
          },
          "yaxis": {
           "automargin": true,
           "gridcolor": "white",
           "linecolor": "white",
           "ticks": "",
           "title": {
            "standoff": 15
           },
           "zerolinecolor": "white",
           "zerolinewidth": 2
          }
         }
        },
        "title": {
         "text": "GameId: 2021100305, PlayId: 317<br>08:17 1Q<br><br><br><br><br><br><br><br><br><br><br><br><br><br><br><br><br><br><br>(8:17) K.Cousins scrambles up the middle to CLE 7 for 1 yard. K.Cousins pass short right<br>to J.Jefferson for 7 yards, TOUCHDOWN NULLIFIED by Penalty. PENALTY on MIN-K.Cousins, Illegal Forward Pass, 5 yards, enforced at CLE 7."
        },
        "updatemenus": [
         {
          "buttons": [
           {
            "args": [
             null,
             {
              "frame": {
               "duration": 100,
               "redraw": false
              },
              "fromcurrent": true,
              "transition": {
               "duration": 0
              }
             }
            ],
            "label": "Play",
            "method": "animate"
           },
           {
            "args": [
             [
              null
             ],
             {
              "frame": {
               "duration": 0,
               "redraw": false
              },
              "mode": "immediate",
              "transition": {
               "duration": 0
              }
             }
            ],
            "label": "Pause",
            "method": "animate"
           }
          ],
          "direction": "left",
          "pad": {
           "r": 10,
           "t": 87
          },
          "showactive": false,
          "type": "buttons",
          "x": 0.1,
          "xanchor": "right",
          "y": 0,
          "yanchor": "top"
         }
        ],
        "width": 1200,
        "xaxis": {
         "autorange": false,
         "range": [
          0,
          120
         ],
         "showticklabels": false,
         "tickmode": "array",
         "tickvals": [
          10,
          15,
          20,
          25,
          30,
          35,
          40,
          45,
          50,
          55,
          60,
          65,
          70,
          75,
          80,
          85,
          90,
          95,
          100,
          105,
          110
         ]
        },
        "yaxis": {
         "autorange": false,
         "range": [
          0,
          53.3
         ],
         "showgrid": false,
         "showticklabels": false
        }
       }
      }
     },
     "metadata": {},
     "output_type": "display_data"
    }
   ],
   "source": [
    "#Choose A Game and Play\n",
    "gameId = 2021100305\t\n",
    "playId = 317\n",
    "\n",
    "#Run Animate Plays Function (Must Input Correct Week)\n",
    "animate_play(week4, plays, players, pffScout, gameId, playId)"
   ]
  },
  {
   "cell_type": "code",
   "execution_count": 99,
   "metadata": {},
   "outputs": [
    {
     "data": {
      "text/html": [
       "<div>\n",
       "<style scoped>\n",
       "    .dataframe tbody tr th:only-of-type {\n",
       "        vertical-align: middle;\n",
       "    }\n",
       "\n",
       "    .dataframe tbody tr th {\n",
       "        vertical-align: top;\n",
       "    }\n",
       "\n",
       "    .dataframe thead th {\n",
       "        text-align: right;\n",
       "    }\n",
       "</style>\n",
       "<table border=\"1\" class=\"dataframe\">\n",
       "  <thead>\n",
       "    <tr style=\"text-align: right;\">\n",
       "      <th></th>\n",
       "      <th>frameId</th>\n",
       "      <th>event</th>\n",
       "    </tr>\n",
       "  </thead>\n",
       "  <tbody>\n",
       "    <tr>\n",
       "      <th>1926694</th>\n",
       "      <td>1</td>\n",
       "      <td>None</td>\n",
       "    </tr>\n",
       "    <tr>\n",
       "      <th>1926716</th>\n",
       "      <td>2</td>\n",
       "      <td>None</td>\n",
       "    </tr>\n",
       "    <tr>\n",
       "      <th>1926738</th>\n",
       "      <td>3</td>\n",
       "      <td>None</td>\n",
       "    </tr>\n",
       "    <tr>\n",
       "      <th>1926760</th>\n",
       "      <td>4</td>\n",
       "      <td>None</td>\n",
       "    </tr>\n",
       "    <tr>\n",
       "      <th>1926782</th>\n",
       "      <td>5</td>\n",
       "      <td>None</td>\n",
       "    </tr>\n",
       "    <tr>\n",
       "      <th>1926804</th>\n",
       "      <td>6</td>\n",
       "      <td>ball_snap</td>\n",
       "    </tr>\n",
       "    <tr>\n",
       "      <th>1926826</th>\n",
       "      <td>7</td>\n",
       "      <td>None</td>\n",
       "    </tr>\n",
       "    <tr>\n",
       "      <th>1926848</th>\n",
       "      <td>8</td>\n",
       "      <td>None</td>\n",
       "    </tr>\n",
       "    <tr>\n",
       "      <th>1926870</th>\n",
       "      <td>9</td>\n",
       "      <td>None</td>\n",
       "    </tr>\n",
       "    <tr>\n",
       "      <th>1926892</th>\n",
       "      <td>10</td>\n",
       "      <td>None</td>\n",
       "    </tr>\n",
       "    <tr>\n",
       "      <th>1926914</th>\n",
       "      <td>11</td>\n",
       "      <td>None</td>\n",
       "    </tr>\n",
       "    <tr>\n",
       "      <th>1926936</th>\n",
       "      <td>12</td>\n",
       "      <td>None</td>\n",
       "    </tr>\n",
       "    <tr>\n",
       "      <th>1926958</th>\n",
       "      <td>13</td>\n",
       "      <td>None</td>\n",
       "    </tr>\n",
       "    <tr>\n",
       "      <th>1926980</th>\n",
       "      <td>14</td>\n",
       "      <td>None</td>\n",
       "    </tr>\n",
       "    <tr>\n",
       "      <th>1927002</th>\n",
       "      <td>15</td>\n",
       "      <td>None</td>\n",
       "    </tr>\n",
       "    <tr>\n",
       "      <th>1927024</th>\n",
       "      <td>16</td>\n",
       "      <td>None</td>\n",
       "    </tr>\n",
       "    <tr>\n",
       "      <th>1927046</th>\n",
       "      <td>17</td>\n",
       "      <td>None</td>\n",
       "    </tr>\n",
       "    <tr>\n",
       "      <th>1927068</th>\n",
       "      <td>18</td>\n",
       "      <td>play_action</td>\n",
       "    </tr>\n",
       "    <tr>\n",
       "      <th>1927090</th>\n",
       "      <td>19</td>\n",
       "      <td>None</td>\n",
       "    </tr>\n",
       "    <tr>\n",
       "      <th>1927112</th>\n",
       "      <td>20</td>\n",
       "      <td>None</td>\n",
       "    </tr>\n",
       "    <tr>\n",
       "      <th>1927134</th>\n",
       "      <td>21</td>\n",
       "      <td>None</td>\n",
       "    </tr>\n",
       "    <tr>\n",
       "      <th>1927156</th>\n",
       "      <td>22</td>\n",
       "      <td>None</td>\n",
       "    </tr>\n",
       "    <tr>\n",
       "      <th>1927178</th>\n",
       "      <td>23</td>\n",
       "      <td>None</td>\n",
       "    </tr>\n",
       "    <tr>\n",
       "      <th>1927200</th>\n",
       "      <td>24</td>\n",
       "      <td>None</td>\n",
       "    </tr>\n",
       "    <tr>\n",
       "      <th>1927222</th>\n",
       "      <td>25</td>\n",
       "      <td>None</td>\n",
       "    </tr>\n",
       "    <tr>\n",
       "      <th>1927244</th>\n",
       "      <td>26</td>\n",
       "      <td>None</td>\n",
       "    </tr>\n",
       "    <tr>\n",
       "      <th>1927266</th>\n",
       "      <td>27</td>\n",
       "      <td>None</td>\n",
       "    </tr>\n",
       "    <tr>\n",
       "      <th>1927288</th>\n",
       "      <td>28</td>\n",
       "      <td>None</td>\n",
       "    </tr>\n",
       "    <tr>\n",
       "      <th>1927310</th>\n",
       "      <td>29</td>\n",
       "      <td>None</td>\n",
       "    </tr>\n",
       "    <tr>\n",
       "      <th>1927332</th>\n",
       "      <td>30</td>\n",
       "      <td>None</td>\n",
       "    </tr>\n",
       "    <tr>\n",
       "      <th>1927354</th>\n",
       "      <td>31</td>\n",
       "      <td>None</td>\n",
       "    </tr>\n",
       "    <tr>\n",
       "      <th>1927376</th>\n",
       "      <td>32</td>\n",
       "      <td>None</td>\n",
       "    </tr>\n",
       "    <tr>\n",
       "      <th>1927398</th>\n",
       "      <td>33</td>\n",
       "      <td>None</td>\n",
       "    </tr>\n",
       "    <tr>\n",
       "      <th>1927420</th>\n",
       "      <td>34</td>\n",
       "      <td>None</td>\n",
       "    </tr>\n",
       "    <tr>\n",
       "      <th>1927442</th>\n",
       "      <td>35</td>\n",
       "      <td>None</td>\n",
       "    </tr>\n",
       "    <tr>\n",
       "      <th>1927464</th>\n",
       "      <td>36</td>\n",
       "      <td>None</td>\n",
       "    </tr>\n",
       "    <tr>\n",
       "      <th>1927486</th>\n",
       "      <td>37</td>\n",
       "      <td>None</td>\n",
       "    </tr>\n",
       "    <tr>\n",
       "      <th>1927508</th>\n",
       "      <td>38</td>\n",
       "      <td>None</td>\n",
       "    </tr>\n",
       "    <tr>\n",
       "      <th>1927530</th>\n",
       "      <td>39</td>\n",
       "      <td>None</td>\n",
       "    </tr>\n",
       "    <tr>\n",
       "      <th>1927552</th>\n",
       "      <td>40</td>\n",
       "      <td>None</td>\n",
       "    </tr>\n",
       "    <tr>\n",
       "      <th>1927574</th>\n",
       "      <td>41</td>\n",
       "      <td>None</td>\n",
       "    </tr>\n",
       "    <tr>\n",
       "      <th>1927596</th>\n",
       "      <td>42</td>\n",
       "      <td>None</td>\n",
       "    </tr>\n",
       "    <tr>\n",
       "      <th>1927618</th>\n",
       "      <td>43</td>\n",
       "      <td>None</td>\n",
       "    </tr>\n",
       "    <tr>\n",
       "      <th>1927640</th>\n",
       "      <td>44</td>\n",
       "      <td>None</td>\n",
       "    </tr>\n",
       "    <tr>\n",
       "      <th>1927662</th>\n",
       "      <td>45</td>\n",
       "      <td>None</td>\n",
       "    </tr>\n",
       "    <tr>\n",
       "      <th>1927684</th>\n",
       "      <td>46</td>\n",
       "      <td>None</td>\n",
       "    </tr>\n",
       "    <tr>\n",
       "      <th>1927706</th>\n",
       "      <td>47</td>\n",
       "      <td>None</td>\n",
       "    </tr>\n",
       "    <tr>\n",
       "      <th>1927728</th>\n",
       "      <td>48</td>\n",
       "      <td>None</td>\n",
       "    </tr>\n",
       "    <tr>\n",
       "      <th>1927750</th>\n",
       "      <td>49</td>\n",
       "      <td>None</td>\n",
       "    </tr>\n",
       "    <tr>\n",
       "      <th>1927772</th>\n",
       "      <td>50</td>\n",
       "      <td>None</td>\n",
       "    </tr>\n",
       "    <tr>\n",
       "      <th>1927794</th>\n",
       "      <td>51</td>\n",
       "      <td>None</td>\n",
       "    </tr>\n",
       "    <tr>\n",
       "      <th>1927816</th>\n",
       "      <td>52</td>\n",
       "      <td>autoevent_passforward</td>\n",
       "    </tr>\n",
       "    <tr>\n",
       "      <th>1927838</th>\n",
       "      <td>53</td>\n",
       "      <td>None</td>\n",
       "    </tr>\n",
       "    <tr>\n",
       "      <th>1927860</th>\n",
       "      <td>54</td>\n",
       "      <td>run</td>\n",
       "    </tr>\n",
       "    <tr>\n",
       "      <th>1927882</th>\n",
       "      <td>55</td>\n",
       "      <td>None</td>\n",
       "    </tr>\n",
       "    <tr>\n",
       "      <th>1927904</th>\n",
       "      <td>56</td>\n",
       "      <td>None</td>\n",
       "    </tr>\n",
       "    <tr>\n",
       "      <th>1927926</th>\n",
       "      <td>57</td>\n",
       "      <td>None</td>\n",
       "    </tr>\n",
       "  </tbody>\n",
       "</table>\n",
       "</div>"
      ],
      "text/plain": [
       "         frameId                  event\n",
       "1926694        1                   None\n",
       "1926716        2                   None\n",
       "1926738        3                   None\n",
       "1926760        4                   None\n",
       "1926782        5                   None\n",
       "1926804        6              ball_snap\n",
       "1926826        7                   None\n",
       "1926848        8                   None\n",
       "1926870        9                   None\n",
       "1926892       10                   None\n",
       "1926914       11                   None\n",
       "1926936       12                   None\n",
       "1926958       13                   None\n",
       "1926980       14                   None\n",
       "1927002       15                   None\n",
       "1927024       16                   None\n",
       "1927046       17                   None\n",
       "1927068       18            play_action\n",
       "1927090       19                   None\n",
       "1927112       20                   None\n",
       "1927134       21                   None\n",
       "1927156       22                   None\n",
       "1927178       23                   None\n",
       "1927200       24                   None\n",
       "1927222       25                   None\n",
       "1927244       26                   None\n",
       "1927266       27                   None\n",
       "1927288       28                   None\n",
       "1927310       29                   None\n",
       "1927332       30                   None\n",
       "1927354       31                   None\n",
       "1927376       32                   None\n",
       "1927398       33                   None\n",
       "1927420       34                   None\n",
       "1927442       35                   None\n",
       "1927464       36                   None\n",
       "1927486       37                   None\n",
       "1927508       38                   None\n",
       "1927530       39                   None\n",
       "1927552       40                   None\n",
       "1927574       41                   None\n",
       "1927596       42                   None\n",
       "1927618       43                   None\n",
       "1927640       44                   None\n",
       "1927662       45                   None\n",
       "1927684       46                   None\n",
       "1927706       47                   None\n",
       "1927728       48                   None\n",
       "1927750       49                   None\n",
       "1927772       50                   None\n",
       "1927794       51                   None\n",
       "1927816       52  autoevent_passforward\n",
       "1927838       53                   None\n",
       "1927860       54                    run\n",
       "1927882       55                   None\n",
       "1927904       56                   None\n",
       "1927926       57                   None"
      ]
     },
     "execution_count": 99,
     "metadata": {},
     "output_type": "execute_result"
    }
   ],
   "source": [
    "#Print Out All Frames From A Player and Play\n",
    "player_in_play = ptrack.loc[(ptrack['gameId'] == gameId) & (ptrack['playId'] == playId)]['nflId'].reset_index().loc[0, 'nflId']\n",
    "ptrack.loc[(ptrack['gameId'] == gameId) & (ptrack['nflId'] == player_in_play) & (ptrack['playId'] == playId)].sort_values(by = 'frameId', ascending = True)[['frameId', 'event']]\n",
    "\n",
    "#Print Out All Frames From Selected Game\n",
    "#ptrack.loc[(ptrack['gameId'] == gameId) & (ptrack['playId'] == playId) & (ptrack['nflId'] == 53440)]\n",
    "\n",
    "#Print Out All Plays From Selected Game\n",
    "#ptrack.loc[(ptrack.gameId == gameId) & (ptrack.playDirection == 'right')]['playId'].sort_values().unique()\n",
    "\n",
    "#Print Out All pbp Data From Selected Play\n",
    "#pbp[(pbp['gameId'] == gameId) & (pbp['playId'] == playId)]\n"
   ]
  },
  {
   "attachments": {},
   "cell_type": "markdown",
   "metadata": {},
   "source": [
    "<font size=\"5\">Explore Effect Of Block Types On Hurry Rate</font>"
   ]
  },
  {
   "cell_type": "code",
   "execution_count": null,
   "metadata": {},
   "outputs": [],
   "source": [
    "#For Each Block Type, Find The Success Rate of A Defesnvie Player Creating A Pressure\n",
    "\n",
    "# #How We Found Positions\n",
    "# #pffScout.pff_positionLinedUp.sort_values().unique()\n",
    "\n",
    "# #Create A New Data Frame Only With 9 D-Linemen Positons\n",
    "# ptrackl = ptrack.loc[(ptrack['pff_positionLinedUp'] == \"LOLB\") | (ptrack['pff_positionLinedUp'] == \"ROLB\") | (ptrack['pff_positionLinedUp'] == \"LEO\") |\n",
    "#     (ptrack['pff_positionLinedUp'] == \"REO\") | (ptrack['pff_positionLinedUp'] == \"DLT\") | (ptrack['pff_positionLinedUp'] == \"DRT\") |\n",
    "#     (ptrack['pff_positionLinedUp'] == \"NLT\") | (ptrack['pff_positionLinedUp'] == \"NRT\") | (ptrack['pff_positionLinedUp'] == \"NT\")]\n",
    "\n",
    "# #Must First Change The pff_blockType in ptrack To A String (Data Did Not Group By Properly When An Int)\n",
    "# ptrackl.pff_blockType = ptrack.pff_blockType.astype(\"str\")\n",
    "\n",
    "# #For Each Block Type, Find The Percentage of Time A Hury Occurs\n",
    "# ptrackl.groupby('pff_blockType')['pff_hurry'].count() #Ideally Would Be .average() Instead\n",
    "\n",
    "# #Frequency of Different Type of Blocks Performed (EDA)\n",
    "# #ptrack.pff_blockType.value_counts()\n",
    "\n",
    "# #Issue Is Only The Players Issuing The Block (Offensive Players) Are Assigned A Block Type\n",
    "# #However, The Defensive Players They Blocked Are Noted In The pff_nflIdBlockedPlayer Column In ptrack"
   ]
  },
  {
   "cell_type": "code",
   "execution_count": null,
   "metadata": {},
   "outputs": [],
   "source": [
    "# #Create A Data Frame Containing Only Plays Where A Pass Block Occured (One Row Per Block)\n",
    "# ptrack_blocks = ptrack.loc[ptrack['pff_blockType'] != '0'][['gameId', 'playId', 'nflId', 'pff_nflIdBlockedPlayer', 'pff_blockType', 'pff_hurryAllowed']]\n",
    "\n",
    "# #Reduce To Each Play (One Row Per Interaction Between Blocked Player And Blocker) (First Interation of A Defensive Player Being Blocked In Play)\n",
    "# ptrack_blocks = ptrack_blocks.drop_duplicates() \n",
    "\n",
    "# #Sampler of The ptrack_blocks Data Frame\n",
    "# ptrack_blocks.sort_values('gameId', ascending = False).head(5)\n",
    "\n",
    "# #Show How Often Each Block Type Resulted In A Hurry\n",
    "# ptrack_block_hurry = pd.DataFrame(ptrack_blocks.groupby('pff_blockType')['pff_hurryAllowed'].mean().round(4).sort_values(ascending = False))\n",
    "# ptrack_block_hurry"
   ]
  },
  {
   "cell_type": "code",
   "execution_count": null,
   "metadata": {},
   "outputs": [],
   "source": [
    "# #Can Each Offensive Player Only Get One Block Per Play (I'd Assume Not, But Lets Check) (Yes They Do!)\n",
    "# ptrack_blocks_per_play = pd.DataFrame(ptrack_blocks.groupby(['gameId', 'playId', 'nflId'])['pff_blockType'].count())\n",
    "# ptrack_blocks_per_play = ptrack_blocks_per_play.reset_index()\n",
    "\n",
    "# ptrack_blocks_per_play[ptrack_blocks_per_play['pff_blockType'] != 1].head() #No Rows Appear\n",
    "# #Yes! Each Offensive Player Only Gets One Block Per Play!"
   ]
  },
  {
   "attachments": {},
   "cell_type": "markdown",
   "metadata": {
    "tags": []
   },
   "source": [
    "<font size=\"5\"> Explore  Distance From Quarterback At Each Second </font>\n",
    "\n",
    "Each D-Line Position and Each Second Post Snap"
   ]
  },
  {
   "cell_type": "code",
   "execution_count": null,
   "metadata": {},
   "outputs": [],
   "source": [
    "#Create Role-Specific Data Frames\n",
    "ptrack_prush = ptrack[ptrack.pff_role == \"Pass Rush\"]\n",
    "ptrack_pblock = ptrack[ptrack.pff_role == \"Pass Block\"]\n",
    "\n",
    "#Descriptive Stats On Frames In Plays\n",
    "pd.DataFrame(ptrack.groupby(['gameId', 'playId'])['frameId'].max()).mean()\n",
    "\n",
    "#Available Roles On The Field\n",
    "ptrack.pff_role.value_counts()\n",
    "\n",
    "#Top 8 Most Popular Pass Rush Positions\n",
    "ptrack_prush.pff_positionLinedUp.value_counts().reset_index().head(8)"
   ]
  },
  {
   "cell_type": "code",
   "execution_count": null,
   "metadata": {},
   "outputs": [],
   "source": [
    "#Display Scatter Plot\n",
    "ptrack_prush_drt_dist_from_qb = ptrack_prush[ptrack_prush['pff_positionLinedUp'] == 'RE'].groupby('frameId')['dist_from_qb'].mean().reset_index()\n",
    "plt.scatter(x = ptrack_prush_drt_dist_from_qb.frameId, y = ptrack_prush_drt_dist_from_qb.dist_from_qb, marker = \"8\")\n",
    "plt.title(\"Average Distance From The Quarterback As Time Progresses (RE)\")\n",
    "plt.xlabel(\"Frames (10 Frames = 1 Second Post-Snap)\")\n",
    "plt.ylabel(\"Euclidead Distance From Quarterback\")"
   ]
  },
  {
   "attachments": {},
   "cell_type": "markdown",
   "metadata": {
    "tags": []
   },
   "source": [
    "<font size=\"5\"> Explore Angle of Offensive Linemen Relative To Direction of Pass Rusher During Contact </font>"
   ]
  },
  {
   "cell_type": "code",
   "execution_count": null,
   "metadata": {},
   "outputs": [],
   "source": [
    "#While Engaged In The Immediate Zone, How Do Shoulder Angles Change?"
   ]
  },
  {
   "attachments": {},
   "cell_type": "markdown",
   "metadata": {},
   "source": [
    "<font size=\"5\"> Define The \"Immediate Zone\" Depth For Pass Blockers </font>"
   ]
  },
  {
   "cell_type": "code",
   "execution_count": null,
   "metadata": {},
   "outputs": [],
   "source": [
    "#Gather Data And Fields Relevant To Answering The Question\n",
    "\n",
    "#Crate Data Frame With Only Pass Blocking Plays\n",
    "ptrack_block = ptrack.loc[ptrack['pff_blockType'] != '0']\n",
    "\n",
    "#Find Rows With Players Who Were Blocked Against (And Who Have The Role of Pass Rusher)\n",
    "ptrack_block_rushers = ptrack.loc[(ptrack.nflId.isin(ptrack_block.pff_nflIdBlockedPlayer)) & (ptrack.pff_role == \"Pass Rush\")]\n",
    "ptrack_block_rushers = ptrack_block_rushers[['gameId', 'playId', 'nflId', 'frameId', 'pff_role', 'pff_positionLinedUp', 'x', 'y', 's', 'a', 'dis', 'o', 'dir', 'displayName']]\n",
    "\n",
    "#Merge Pass Blocking Plays Data From O-Linemen Perspecitve With Pass Rusher Tracking Data\n",
    "ptrack_imm_box = ptrack_block.merge(ptrack_block_rushers, left_on = ['gameId', 'playId', 'pff_nflIdBlockedPlayer', 'frameId'], \n",
    "                                                        right_on = ['gameId', 'playId', 'nflId', 'frameId'], how = 'inner')\n",
    "\n",
    "#Reduce To Columns Of Interest\n",
    "ptrack_imm_box = ptrack_imm_box[['gameId', 'playId', 'nflId_x', 'frameId', 'pff_role_x', 'pff_positionLinedUp_x', 'pff_blockType','x_x', 'y_x', 's_x', 'a_x', 'dis_x', 'o_x', 'dir_x', \n",
    "            'displayName_x','nflId_y', 'pff_role_y', 'pff_positionLinedUp_y', 'x_y', 'y_y', 's_y', 'a_y', 'dis_y', 'o_y', 'dir_y', 'displayName_y']]\n",
    "\n",
    "#Rename Columns\n",
    "ptrack_imm_box = ptrack_imm_box.rename(columns = {\"nflId_x\":\"nflId_blocker\", \"displayName_x\": \"displayName_blocker\", \"pff_role_x\": \"pff_role_blocker\", \n",
    "            \"pff_positionLinedUp_x\": \"pff_positionLinedUp_blocker\", \"x_x\": \"x_blocker\", \"y_x\": \"y_blocker\", \"s_x\": \"s_blocker\", \"a_x\": \"a_blocker\", \"dis_x\": \"dis_blocker\", \n",
    "            \"o_x\": \"o_blocker\", \"dir_x\": \"dir_blocker\", \"nflId_y\":\"nflId_rusher\", \"displayName_y\": \"displayName_rusher\", \"pff_role_y\": \"pff_role_rusher\", \n",
    "            \"pff_positionLinedUp_y\": \"pff_positionLinedUp_rusher\", \"x_y\": \"x_rusher\", \"y_y\": \"y_rusher\", \"s_y\": \"s_rusher\", \"a_y\": \"a_rusher\", \"dis_y\": \"dis_rusher\", \n",
    "            \"o_y\": \"o_rusher\", \"dir_y\": \"dir_rusher\"})\n",
    "\n",
    "#Calculate Distance Between Pass Blocker And Pass Rusher at Each Frame\n",
    "ptrack_imm_box['blocker_rusher_distance'] = np.hypot((ptrack_imm_box.y_blocker - ptrack_imm_box.y_rusher), (ptrack_imm_box.x_blocker - ptrack_imm_box.x_rusher))\n",
    "\n",
    "#Calculate Difference Between Rusher Direction and Blocker Orientation\n",
    "ptrack_imm_box['diff_btw_rusher_dir_blocker_o'] = abs((ptrack_imm_box.dir_rusher - 180) - ptrack_imm_box.o_blocker)"
   ]
  },
  {
   "cell_type": "code",
   "execution_count": null,
   "metadata": {},
   "outputs": [],
   "source": [
    "#How Far Away From A Blocker Does A Pass Rusher Slow Down or Deccelerate? (1 Yard In Front and 1.5 Yards Across (.75 Either Side))\n",
    "#Filter Down To Where Rusher Direction and Blocker Orientation Are Generally Matched (25 Degrees In Either Direction)\n",
    "ptrack_imm_box_10orless = ptrack_imm_box[ptrack_imm_box.diff_btw_rusher_dir_blocker_o < 10]\n",
    "\n",
    "#Speed\n",
    "#distance_and_speed = pd.DataFrame(ptrack_imm_box_10orless.groupby(round(ptrack_imm_box_10orless.blocker_rusher_distance,0))['s_rusher'].mean()).reset_index()\n",
    "#sns.scatterplot(distance_and_speed.blocker_rusher_distance, distance_and_speed.s_rusher)\n",
    "\n",
    "#Acceleration\n",
    "distance_and_acceleration = pd.DataFrame(ptrack_imm_box_10orless.groupby(round(ptrack_imm_box_10orless.blocker_rusher_distance,0))['a_rusher'].mean()).reset_index()\n",
    "sns.scatterplot(distance_and_acceleration.blocker_rusher_distance, distance_and_acceleration.a_rusher)\n",
    "\n",
    "#Acceleration Hit Their Lowest Rates Within 1-2 Yards of The Pass Blocker!!"
   ]
  },
  {
   "attachments": {},
   "cell_type": "markdown",
   "metadata": {},
   "source": [
    "<font size=\"5\"> Explore The Immediate Zone At Each Frame For Pass Blockers </font>"
   ]
  },
  {
   "cell_type": "code",
   "execution_count": null,
   "metadata": {},
   "outputs": [],
   "source": [
    "#Create The Immediate Zone In The Main ptrack Data Frame \n",
    "\n",
    "#Define The Width And Depth Of This Zone\n",
    "imm_box_width = .75\n",
    "imm_box_depth = 1\n",
    "\n",
    "#bl = Bottom Left\n",
    "ptrack['bl_rz_x'] = ptrack.x - (imm_box_width * np.cos(np.radians(ptrack.o)))\n",
    "ptrack['bl_rz_y'] = ptrack.y + (imm_box_width * np.sin(np.radians(ptrack.o)))\n",
    "\n",
    "#br = Bottom Right\n",
    "ptrack['br_rz_x'] = ptrack.x + (imm_box_width * np.cos(np.radians(ptrack.o)))\n",
    "ptrack['br_rz_y'] = ptrack.y - (imm_box_width * np.sin(np.radians(ptrack.o)))\n",
    "\n",
    "#fl = Front Left\n",
    "ptrack['fl_rz_x'] = ptrack.bl_rz_x + (imm_box_depth * np.cos(np.radians(ptrack.o - 90)))\n",
    "ptrack['fl_rz_y'] = ptrack.bl_rz_y - (imm_box_depth * np.sin(np.radians(ptrack.o - 90)))\n",
    "\n",
    "#fr = Front Right\n",
    "ptrack['fr_rz_x'] = ptrack.br_rz_x + (imm_box_depth * np.cos(np.radians(ptrack.o - 90)))\n",
    "ptrack['fr_rz_y'] = ptrack.br_rz_y - (imm_box_depth * np.sin(np.radians(ptrack.o - 90)))\n"
   ]
  },
  {
   "cell_type": "code",
   "execution_count": null,
   "metadata": {},
   "outputs": [],
   "source": [
    "#Plot Instances of Rushers In A Blocker's Immediate Zone\n",
    "\n",
    "#Provide Orientation Angle (Whole Number)\n",
    "o_angle = 50\n",
    "\n",
    "#In Order To Test If The Above Calculations Are Correct, First Find Plays With A Known Orientation Angle (Choose One)\n",
    "ptrack_o_filter = ptrack.loc[(ptrack.gameId == 2021090900) & (round(ptrack.o,0) == o_angle)].head(1).reset_index()\n",
    "\n",
    "#Use The Player, Play, and Frame To Create A Scatter Plot With The Immediate Zone\n",
    "ptrack_filter = ptrack.loc[(ptrack.gameId == ptrack_o_filter.at[0, 'gameId']) & (ptrack.playId == ptrack_o_filter.at[0, 'playId']) & (ptrack.nflId == ptrack_o_filter.at[0, 'nflId']) & (ptrack.frameId == ptrack_o_filter.at[0, 'frameId'])].reset_index()\n",
    "\n",
    "#Plot The Immediate Zone On A Play\n",
    "sns.scatterplot(data = ptrack_filter, x = 'bl_rz_x', y = 'bl_rz_y', marker = '^', s = 200)\n",
    "sns.scatterplot(data = ptrack_filter, x = 'br_rz_x', y = 'br_rz_y', marker = '^', s = 200)\n",
    "sns.scatterplot(data = ptrack_filter, x = 'fl_rz_x', y = 'fl_rz_y', marker = 'v', s = 200)\n",
    "sns.scatterplot(data = ptrack_filter, x = 'fr_rz_x', y = 'fr_rz_y', marker = 'v', s = 200)\n",
    "sns.scatterplot(x = ptrack_filter.x, y = ptrack_filter.y, marker = 'o', s = 100)\n",
    "plt.scatter(x = 41.5, y = 21.75, s = 100, marker = 'X')\n",
    "print(\"Provided Player Orientation In Degrees (Second Number): \", ptrack_filter['o'])"
   ]
  },
  {
   "attachments": {},
   "cell_type": "markdown",
   "metadata": {},
   "source": [
    "<font size=\"5\"> Understand The Immediate Zone On Plays Where Blocks Are Known To Occur </font>"
   ]
  },
  {
   "cell_type": "code",
   "execution_count": 42,
   "metadata": {},
   "outputs": [
    {
     "data": {
      "text/plain": [
       "PP    1015853\n",
       "PA     291269\n",
       "PT     251556\n",
       "SW     130627\n",
       "CL     112396\n",
       "NB      54063\n",
       "PU      36795\n",
       "BH      18921\n",
       "UP      13621\n",
       "PR      11794\n",
       "0        7899\n",
       "SR       4768\n",
       "CH       2554\n",
       "Name: pff_blockType, dtype: int64"
      ]
     },
     "execution_count": 42,
     "metadata": {},
     "output_type": "execute_result"
    }
   ],
   "source": [
    "#Look At Block Types On Known Blocking Plays\n",
    "ptrack.loc[(ptrack.pff_blockType != 0) & (ptrack.pff_role == \"Pass Block\")]['pff_blockType'].value_counts()"
   ]
  },
  {
   "attachments": {},
   "cell_type": "markdown",
   "metadata": {},
   "source": [
    "<font size=\"5\"> Explore Events Classifications (Understand Beginning and End Of QB Possession) </font>"
   ]
  },
  {
   "cell_type": "code",
   "execution_count": 43,
   "metadata": {},
   "outputs": [
    {
     "data": {
      "text/plain": [
       "None                         7339728\n",
       "ball_snap                     187704\n",
       "pass_forward                  166056\n",
       "autoevent_ballsnap             82874\n",
       "autoevent_passforward          82148\n",
       "play_action                    43494\n",
       "run                            10428\n",
       "qb_sack                         9922\n",
       "pass_arrived                    8074\n",
       "autoevent_passinterrupted       4422\n",
       "man_in_motion                   3894\n",
       "line_set                        3080\n",
       "shift                           2926\n",
       "pass_tipped                     2442\n",
       "first_contact                   1760\n",
       "qb_strip_sack                   1276\n",
       "pass_outcome_incomplete          880\n",
       "pass_outcome_caught              506\n",
       "fumble                           374\n",
       "fumble_offense_recovered         242\n",
       "handoff                          220\n",
       "tackle                            66\n",
       "huddle_break_offense              66\n",
       "penalty_flag                      44\n",
       "out_of_bounds                     22\n",
       "dropped_pass                      22\n",
       "lateral                           22\n",
       "Name: event, dtype: int64"
      ]
     },
     "execution_count": 43,
     "metadata": {},
     "output_type": "execute_result"
    }
   ],
   "source": [
    "#Determine Which Events Are The End Of QB Possession\n",
    "ptrack.event.value_counts()"
   ]
  },
  {
   "cell_type": "code",
   "execution_count": 16,
   "metadata": {},
   "outputs": [
    {
     "name": "stderr",
     "output_type": "stream",
     "text": [
      "C:\\Users\\Peter\\AppData\\Local\\Temp\\ipykernel_15680\\1631962698.py:12: FutureWarning:\n",
      "\n",
      "Passing 'suffixes' which cause duplicate columns {'frameId_x'} in the result is deprecated and will raise a MergeError in a future version.\n",
      "\n",
      "C:\\Users\\Peter\\AppData\\Local\\Temp\\ipykernel_15680\\1631962698.py:12: FutureWarning:\n",
      "\n",
      "Passing 'suffixes' which cause duplicate columns {'frameId_x'} in the result is deprecated and will raise a MergeError in a future version.\n",
      "\n",
      "C:\\Users\\Peter\\AppData\\Local\\Temp\\ipykernel_15680\\1631962698.py:12: FutureWarning:\n",
      "\n",
      "Passing 'suffixes' which cause duplicate columns {'frameId_x'} in the result is deprecated and will raise a MergeError in a future version.\n",
      "\n"
     ]
    }
   ],
   "source": [
    "#Establish The Frame In Each Play At Which The Starting/Ending Of QB Possession Occurs With New Columns (2 Minutes Run-Time)\n",
    "\n",
    "#Temporary Data Frame\n",
    "ptrack_qb_poss = ptrack\n",
    "\n",
    "#Arrays of Starting and Ending Values\n",
    "poss_events = ['ball_snap', 'autoevent_ballsnap','pass_forward', 'autoevent_passforward', 'run', 'qb_sack', 'qb_strip_sack']\n",
    "\n",
    "#Add Frames Of Events To Each Frame of Each Plays\n",
    "for i in range(len(poss_events)):\n",
    "    temp = ptrack.loc[ptrack.event == poss_events[i]][['gameId', 'playId', 'frameId']].drop_duplicates()\n",
    "    ptrack_qb_poss = ptrack_qb_poss.merge(temp, on = ['gameId', 'playId'], how = \"left\")\n",
    "\n",
    "#Rename Columns\n",
    "indices_to_be_changed = [46, 47, 48, 49, 50, 51, 52, 15]\n",
    "names_to_insert = [\"ball_snap_event_frame\", \"autoevent_ballsnap_event_frame\", \"pass_forward_event_frame\", \"autoevent_passforward_event_frame\", \n",
    "                   \"run_event_frame\", \"qb_sack_event_frame\", \"qb_strip_sack_event_frame\", \"frameId\"]\n",
    "for i in range(len(indices_to_be_changed)):\n",
    "    ptrack_qb_poss.columns.values[indices_to_be_changed[i]] = names_to_insert[i]"
   ]
  },
  {
   "cell_type": "code",
   "execution_count": 17,
   "metadata": {},
   "outputs": [],
   "source": [
    "#Reduce 'ball_snap', 'autoevent_ballsnap','pass_forward', and 'autoevent_passforward' To Just Two Columns\n",
    "\n",
    "#If Any Column of The Four of Interest Is Null, Fill Them So They Can Be Compared\n",
    "poss_events_to_be_condensed = ['ball_snap_event_frame', \"autoevent_ballsnap_event_frame\", \"pass_forward_event_frame\", \"autoevent_passforward_event_frame\"]\n",
    "for i in range(len(poss_events_to_be_condensed)):\n",
    "    if i <= 1: #For Ball Snap, Fill With A Frame Greater Than The Max In Any Play (Since We Want The Lesser)\n",
    "        ptrack_qb_poss[poss_events_to_be_condensed[i]] = ptrack_qb_poss[poss_events_to_be_condensed[i]].fillna(250)\n",
    "    else: #For Pass Forward, Fill With A Frame Lesser Than The Min In Any Play (Since We Want Greater Than)\n",
    "        ptrack_qb_poss[poss_events_to_be_condensed[i]] = ptrack_qb_poss[poss_events_to_be_condensed[i]].fillna(-1)\n",
    "    \n",
    "#Determine Earlier of \"ball_snap_event_frame\" and \"autoevent_ballsnap_event_frame\", Smaller Of The Two Into \"ball_snap_event_frame_\" (Doesn't Affect Calculations Much & More Time The Better)\n",
    "ptrack_qb_poss[\"ball_snap_event_frame_\"] = np.where(ptrack_qb_poss[\"ball_snap_event_frame\"] <= ptrack_qb_poss[\"autoevent_ballsnap_event_frame\"], ptrack_qb_poss[\"ball_snap_event_frame\"], ptrack_qb_poss[\"autoevent_ballsnap_event_frame\"])\n",
    "\n",
    "#Determine Earlier of \"pass_forward_event_frame\" and \"autoevent_passforward_event_frame\", Larger Of The Two Into \"pass_forward_event_frame_\" (Expect Rushers To Not Give Up Until Ball Fully Out of Pocket)\n",
    "ptrack_qb_poss[\"pass_forward_event_frame_\"] = np.where(ptrack_qb_poss[\"pass_forward_event_frame\"] >= ptrack_qb_poss[\"autoevent_passforward_event_frame\"], ptrack_qb_poss[\"pass_forward_event_frame\"], ptrack_qb_poss[\"autoevent_passforward_event_frame\"])\n",
    "\n",
    "#When Both Auto and Non-Auto Columns Are Null, Set Their Values Appropriately\n",
    "ptrack_qb_poss.loc[ptrack_qb_poss[\"ball_snap_event_frame_\"] == 250, \"ball_snap_event_frame_\"] = 1 #If No Ball Snap Is Recorded, Set QB Possesion Starting at Frame 1\n",
    "ptrack_qb_poss.loc[ptrack_qb_poss[\"pass_forward_event_frame_\"] == -1, \"pass_forward_event_frame_\"] = np.nan #If No Pass Forward Is Recorded, Don't Make It End Of Possession\n",
    "\n",
    "#Remove The Four Uneccessary Columns and Rename The Two Now In Their Place\n",
    "ptrack_qb_poss = ptrack_qb_poss.drop(['ball_snap_event_frame', 'autoevent_ballsnap_event_frame', 'pass_forward_event_frame',\t'autoevent_passforward_event_frame'], axis = 1)\n",
    "ptrack_qb_poss = ptrack_qb_poss.rename(columns = {\"ball_snap_event_frame_\": \"ball_snap_event_frame\", \"pass_forward_event_frame_\": \"pass_forward_event_frame\"})"
   ]
  },
  {
   "cell_type": "code",
   "execution_count": null,
   "metadata": {},
   "outputs": [],
   "source": [
    "#Do Strip Sacks and Sacks Occur In The Same Play? (Nope, They Are Mutually Exclusive)\n",
    "ptrack_qb_poss.loc[(ptrack_qb_poss.qb_sack_event_frame.notnull() == True) & (ptrack_qb_poss.qb_strip_sack_event_frame.notnull == True)]"
   ]
  },
  {
   "cell_type": "code",
   "execution_count": 46,
   "metadata": {},
   "outputs": [
    {
     "data": {
      "text/html": [
       "<div>\n",
       "<style scoped>\n",
       "    .dataframe tbody tr th:only-of-type {\n",
       "        vertical-align: middle;\n",
       "    }\n",
       "\n",
       "    .dataframe tbody tr th {\n",
       "        vertical-align: top;\n",
       "    }\n",
       "\n",
       "    .dataframe thead th {\n",
       "        text-align: right;\n",
       "    }\n",
       "</style>\n",
       "<table border=\"1\" class=\"dataframe\">\n",
       "  <thead>\n",
       "    <tr style=\"text-align: right;\">\n",
       "      <th></th>\n",
       "      <th>gameId</th>\n",
       "      <th>playId</th>\n",
       "      <th>playDescription</th>\n",
       "      <th>week</th>\n",
       "    </tr>\n",
       "  </thead>\n",
       "  <tbody>\n",
       "    <tr>\n",
       "      <th>0</th>\n",
       "      <td>2021090900</td>\n",
       "      <td>1776</td>\n",
       "      <td>(4:25) (Shotgun) D.Prescott to TB 10 for -5 ya...</td>\n",
       "      <td>1</td>\n",
       "    </tr>\n",
       "    <tr>\n",
       "      <th>1</th>\n",
       "      <td>2021091207</td>\n",
       "      <td>3148</td>\n",
       "      <td>(5:28) (Shotgun) R.Tannehill sacked at TEN 34 ...</td>\n",
       "      <td>1</td>\n",
       "    </tr>\n",
       "    <tr>\n",
       "      <th>2</th>\n",
       "      <td>2021091913</td>\n",
       "      <td>865</td>\n",
       "      <td>(:18) (Shotgun) C.Humphrey to KC 12 for -9 yar...</td>\n",
       "      <td>2</td>\n",
       "    </tr>\n",
       "    <tr>\n",
       "      <th>3</th>\n",
       "      <td>2021092606</td>\n",
       "      <td>3870</td>\n",
       "      <td>(2:12) (Shotgun) D.Jones sacked at NYG 40 for ...</td>\n",
       "      <td>3</td>\n",
       "    </tr>\n",
       "    <tr>\n",
       "      <th>4</th>\n",
       "      <td>2021092610</td>\n",
       "      <td>839</td>\n",
       "      <td>(1:36) (Shotgun) D.Carr Aborted. A.James FUMBL...</td>\n",
       "      <td>3</td>\n",
       "    </tr>\n",
       "    <tr>\n",
       "      <th>5</th>\n",
       "      <td>2021092610</td>\n",
       "      <td>2033</td>\n",
       "      <td>(:27) (Shotgun) J.Brissett FUMBLES (Aborted) a...</td>\n",
       "      <td>3</td>\n",
       "    </tr>\n",
       "    <tr>\n",
       "      <th>6</th>\n",
       "      <td>2021100302</td>\n",
       "      <td>3524</td>\n",
       "      <td>(10:06) J.Fields sacked at CHI 33 for -10 yard...</td>\n",
       "      <td>4</td>\n",
       "    </tr>\n",
       "    <tr>\n",
       "      <th>7</th>\n",
       "      <td>2021100304</td>\n",
       "      <td>293</td>\n",
       "      <td>(10:49) (Shotgun) J.Brissett to IND 27 for -5 ...</td>\n",
       "      <td>4</td>\n",
       "    </tr>\n",
       "    <tr>\n",
       "      <th>8</th>\n",
       "      <td>2021100304</td>\n",
       "      <td>2703</td>\n",
       "      <td>(15:00) (Shotgun) J.Brissett sacked at MIA 23 ...</td>\n",
       "      <td>4</td>\n",
       "    </tr>\n",
       "    <tr>\n",
       "      <th>9</th>\n",
       "      <td>2021100307</td>\n",
       "      <td>2997</td>\n",
       "      <td>(12:55) Fumbled snap. Z.Wilson to TEN 36 for -...</td>\n",
       "      <td>4</td>\n",
       "    </tr>\n",
       "    <tr>\n",
       "      <th>10</th>\n",
       "      <td>2021101706</td>\n",
       "      <td>73</td>\n",
       "      <td>(14:54) D.Jones sacked at NYG 11 for -8 yards ...</td>\n",
       "      <td>6</td>\n",
       "    </tr>\n",
       "    <tr>\n",
       "      <th>11</th>\n",
       "      <td>2021101707</td>\n",
       "      <td>2181</td>\n",
       "      <td>(:31) M.Remmers reported in as eligible.  P.Ma...</td>\n",
       "      <td>6</td>\n",
       "    </tr>\n",
       "    <tr>\n",
       "      <th>12</th>\n",
       "      <td>2021102405</td>\n",
       "      <td>507</td>\n",
       "      <td>(7:05) (Shotgun) P.Mahomes sacked at KC 43 for...</td>\n",
       "      <td>7</td>\n",
       "    </tr>\n",
       "    <tr>\n",
       "      <th>13</th>\n",
       "      <td>2021102500</td>\n",
       "      <td>1953</td>\n",
       "      <td>(:47) (Shotgun) J.Winston to SEA 18 for -5 yar...</td>\n",
       "      <td>7</td>\n",
       "    </tr>\n",
       "    <tr>\n",
       "      <th>14</th>\n",
       "      <td>2021103105</td>\n",
       "      <td>2596</td>\n",
       "      <td>(6:38) (Shotgun) D.Mills to HOU 14 for -5 yard...</td>\n",
       "      <td>8</td>\n",
       "    </tr>\n",
       "    <tr>\n",
       "      <th>15</th>\n",
       "      <td>2021103110</td>\n",
       "      <td>1742</td>\n",
       "      <td>(:23) (Shotgun) T.Heinicke to DEN 42 for -6 ya...</td>\n",
       "      <td>8</td>\n",
       "    </tr>\n",
       "    <tr>\n",
       "      <th>16</th>\n",
       "      <td>2021103111</td>\n",
       "      <td>3246</td>\n",
       "      <td>(:34) (Shotgun) T.Siemian to NO 24 for -5 yard...</td>\n",
       "      <td>8</td>\n",
       "    </tr>\n",
       "  </tbody>\n",
       "</table>\n",
       "</div>"
      ],
      "text/plain": [
       "        gameId  playId                                    playDescription  \\\n",
       "0   2021090900    1776  (4:25) (Shotgun) D.Prescott to TB 10 for -5 ya...   \n",
       "1   2021091207    3148  (5:28) (Shotgun) R.Tannehill sacked at TEN 34 ...   \n",
       "2   2021091913     865  (:18) (Shotgun) C.Humphrey to KC 12 for -9 yar...   \n",
       "3   2021092606    3870  (2:12) (Shotgun) D.Jones sacked at NYG 40 for ...   \n",
       "4   2021092610     839  (1:36) (Shotgun) D.Carr Aborted. A.James FUMBL...   \n",
       "5   2021092610    2033  (:27) (Shotgun) J.Brissett FUMBLES (Aborted) a...   \n",
       "6   2021100302    3524  (10:06) J.Fields sacked at CHI 33 for -10 yard...   \n",
       "7   2021100304     293  (10:49) (Shotgun) J.Brissett to IND 27 for -5 ...   \n",
       "8   2021100304    2703  (15:00) (Shotgun) J.Brissett sacked at MIA 23 ...   \n",
       "9   2021100307    2997  (12:55) Fumbled snap. Z.Wilson to TEN 36 for -...   \n",
       "10  2021101706      73  (14:54) D.Jones sacked at NYG 11 for -8 yards ...   \n",
       "11  2021101707    2181  (:31) M.Remmers reported in as eligible.  P.Ma...   \n",
       "12  2021102405     507  (7:05) (Shotgun) P.Mahomes sacked at KC 43 for...   \n",
       "13  2021102500    1953  (:47) (Shotgun) J.Winston to SEA 18 for -5 yar...   \n",
       "14  2021103105    2596  (6:38) (Shotgun) D.Mills to HOU 14 for -5 yard...   \n",
       "15  2021103110    1742  (:23) (Shotgun) T.Heinicke to DEN 42 for -6 ya...   \n",
       "16  2021103111    3246  (:34) (Shotgun) T.Siemian to NO 24 for -5 yard...   \n",
       "\n",
       "    week  \n",
       "0      1  \n",
       "1      1  \n",
       "2      2  \n",
       "3      3  \n",
       "4      3  \n",
       "5      3  \n",
       "6      4  \n",
       "7      4  \n",
       "8      4  \n",
       "9      4  \n",
       "10     6  \n",
       "11     6  \n",
       "12     7  \n",
       "13     7  \n",
       "14     8  \n",
       "15     8  \n",
       "16     8  "
      ]
     },
     "execution_count": 46,
     "metadata": {},
     "output_type": "execute_result"
    }
   ],
   "source": [
    "#Who Is Being Fumbled On The 17 Fumble Plays? We Need To Identify If These Fumbles Are The QB (End Possession) And If The QB Recovered To Keep Retain Possssion\n",
    "ptrack_fumbles = ptrack_qb_poss.loc[ptrack_qb_poss['event'] == 'fumble'] [['gameId', 'playId', 'event']].drop_duplicates()\n",
    "ptrack_fumbles = pbp.merge(ptrack_fumbles, on = ['gameId', 'playId'], how = 'inner')[['gameId', 'playId', 'playDescription', 'week']]\n",
    "#ptrack_fumbles\n",
    "\n",
    "#Should Make Fumbles End of Possession?\n",
    "\n",
    "# Index GameId      PlayId  Week    QB Fumbled?  QB Recovered? End Of Possession?\n",
    "# 0     2021090900\t1776\t1       Yes          Yes           No\n",
    "# 1\t    2021091207\t3148\t1       Yes          No            No (Bc Sack Came Right After)\n",
    "# 2\t    2021091913\t865\t    2       Yes          Yes           No\n",
    "# 3\t    2021092606\t3870\t3       Yes          No            No (Poss Already Ended W Strip Sack)\n",
    "# 4\t    2021092610\t839\t    3       Yes          Yes           No\n",
    "# 5\t    2021092610\t2033\t3       Yes          Yes           No\n",
    "# 6\t    2021100302\t3524\t4       Yes          No            No (Poss Already Ended W Strip Sack)\n",
    "# 7\t    2021100304\t293\t    4       Yes          Yes(Not Rec.) No (Ends Up Throwing)\n",
    "# 8\t    2021100304\t2703    4\t    Yes          No            No (Poss Already Ended W Strip Sack)\n",
    "# 9\t    2021100307\t2997    4\t    Yes          Yes           No\n",
    "# 10\t2021101706\t73\t    6       Yes          No(Not Rec.)  No (Ends Up Throwing Somehow)\n",
    "# 11\t2021101707\t2181    6\t    Yes          Yes           No\n",
    "# 12\t2021102405\t507     7       Yes          No            No (Poss Already Ended W Strip Sack)\n",
    "# 13\t2021102500\t1953\t7       Yes          Yes           No\n",
    "# 14\t2021103105\t2596\t8       Yes          Yes           No\n",
    "# 15\t2021103110\t1742\t8       Yes          Yes           No (Sack Came Later In Play)\n",
    "# 16\t2021103111\t3246    8       Yes          Yes           No\n",
    "\n",
    "#Fumbles Will Not Be Marked As The End of Any Possession, Because In All Case The QB Either Recovers The Football Himself Or Has Already Been Sacked\n"
   ]
  },
  {
   "cell_type": "code",
   "execution_count": null,
   "metadata": {},
   "outputs": [],
   "source": [
    "#Filter Out Rows That Don't Satisfy QB Possesion Conditions\n",
    "\n",
    "#Drop All That Come BEFORE Ball Snap\n",
    "ptrack_qb_poss_test = ptrack_qb_poss.drop(ptrack_qb_poss[ptrack_qb_poss.frameId < ptrack_qb_poss.ball_snap_event_frame].index) \n",
    "\n",
    "#Drop All That Come AFTER QB Sack, QB Strip Sack, Run, Pass Forward In That Order (If The Event Isn't In The Play Nothing Will Be Dropped)\n",
    "\n",
    "#If A QB Is Sacked, There's Nothing More A Line Can Do (Although Sometimes The QB Can Get The Pass Off). That's Why Strip & Normal Sacks Are The First Two.\n",
    "#If A QB Runs And Then Throws, We Say That He's Too Far Away For Linemen For It To Be Fair. If Pass Then Run, Count The Pass Frame First.\n",
    "\n",
    "ending_event_frames = ['qb_sack_event_frame', 'qb_strip_sack_event_frame', 'run_event_frame', 'pass_forward_event_frame']\n",
    "for i in range(len(ending_event_frames)):\n",
    "    ptrack_qb_poss_test = ptrack_qb_poss_test.drop(ptrack_qb_poss_test[ptrack_qb_poss_test['frameId'] > ptrack_qb_poss_test[ending_event_frames[i]]].index) "
   ]
  },
  {
   "cell_type": "code",
   "execution_count": null,
   "metadata": {},
   "outputs": [],
   "source": [
    "#Ensure That The Possession Beginning and End Are Properly Filtered Out\n",
    "\n",
    "#Test Different Events Happening\n",
    "test = ptrack_qb_poss.loc[ptrack_qb_poss['qb_sack_event_frame'].isna() == False][['gameId', 'nflId', 'playId']].reset_index()\n",
    "gameId = test.loc[0, \"gameId\"]\n",
    "nflId = test.loc[0, \"nflId\"]\n",
    "playId = test.loc[0, \"playId\"]\n",
    "\n",
    "#Show All Plays And Look If Frames Are Properly Filtered\n",
    "ptrack_qb_poss_test.loc[(ptrack_qb_poss_test['gameId'] == gameId) & (ptrack_qb_poss_test['nflId'] == nflId) & (ptrack_qb_poss_test['playId'] == playId)][['frameId', 'event', 'ball_snap_event_frame','run_event_frame', 'pass_forward_event_frame', 'qb_sack_event_frame', 'qb_strip_sack_event_frame']]"
   ]
  },
  {
   "attachments": {},
   "cell_type": "markdown",
   "metadata": {},
   "source": [
    "<font size=\"5\"> Explore Drop Back Types </font>"
   ]
  },
  {
   "cell_type": "code",
   "execution_count": null,
   "metadata": {},
   "outputs": [],
   "source": [
    "#Frequency of Drop Backs Types\n",
    "pbp.dropBackType.value_counts()"
   ]
  },
  {
   "cell_type": "code",
   "execution_count": null,
   "metadata": {},
   "outputs": [],
   "source": [
    "#How Is Drop Back Type Influenced By Other Factors\n",
    "pbp.groupby('dropBackType')['defendersInBox'].mean().sort_values()"
   ]
  }
 ],
 "metadata": {
  "kernelspec": {
   "display_name": "Python 3.10.8 64-bit (microsoft store)",
   "language": "python",
   "name": "python3"
  },
  "language_info": {
   "codemirror_mode": {
    "name": "ipython",
    "version": 3
   },
   "file_extension": ".py",
   "mimetype": "text/x-python",
   "name": "python",
   "nbconvert_exporter": "python",
   "pygments_lexer": "ipython3",
   "version": "3.10.9"
  },
  "orig_nbformat": 4,
  "vscode": {
   "interpreter": {
    "hash": "0734c24ccee641e8c1aa56e5abe0e6d58c5e64b0808290a0db05a6d9678c0817"
   }
  }
 },
 "nbformat": 4,
 "nbformat_minor": 2
}
