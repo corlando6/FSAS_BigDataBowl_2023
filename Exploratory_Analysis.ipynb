{
 "cells": [
  {
   "attachments": {},
   "cell_type": "markdown",
   "metadata": {},
   "source": [
    "<font size = \"6\"> Fordham Sports Analytics Society Big Data Bowl 2023 - Exploratory Analysis </font>\n",
    "\n",
    "<font size = \"4\"> Run through ideas for eventual model, create new model features, and understand provided materials. </font>\n",
    "\n",
    "- Authors:  Peter Majors, Chris Orlando, Jack Townsend, and Etienne Busnel\n",
    "- Kaggle:  https://www.kaggle.com/competitions/nfl-big-data-bowl-2023/overview (Resources)\n",
    "- Our Github:  https://github.com/peterlmajors/FSAS_BigDataBowl_2023 (Up-To-Date Code)"
   ]
  },
  {
   "cell_type": "code",
   "execution_count": 135,
   "metadata": {},
   "outputs": [],
   "source": [
    "#Import Required Packages\n",
    "\n",
    "#Data Manipulation\n",
    "import pandas as pd\n",
    "import numpy as np\n",
    "import math\n",
    "\n",
    "#Data Vizualization\n",
    "import seaborn as sns \n",
    "from matplotlib import pyplot as plt\n",
    "import plotly.graph_objects as go\n",
    "from haversine import haversine\n",
    "from scipy.stats import pearsonr, spearmanr\n",
    "\n",
    "#Notebook Settings\n",
    "pd.set_option('display.max_columns', 1000)\n",
    "pd.set_option('display.max_rows', 1000)"
   ]
  },
  {
   "cell_type": "code",
   "execution_count": 136,
   "metadata": {},
   "outputs": [],
   "source": [
    "#Importing Kaggle Data (Needed For Animated Plays Function (Takes Original Data))\n",
    "\n",
    "# #Games - Basic Information On All Games\n",
    "games = pd.read_csv(\"C:/Users/Peter/Python Scripts/Case Competitions/NFL Big Data Bowl 2023/case_data/games.csv\")\n",
    "\n",
    "# #pffScout - PFF Judgements For Each Player On Each Play\n",
    "pffScout = pd.read_csv(\"C:/Users/Peter/Python Scripts/Case Competitions/NFL Big Data Bowl 2023/case_data/pffScoutingData.csv\")\n",
    "\n",
    "# #Players - Basics On Players\n",
    "players = pd.read_csv(\"C:/Users/Peter/Python Scripts/Case Competitions/NFL Big Data Bowl 2023/case_data/players.csv\")\n",
    "\n",
    "# #Plays - Everthing About Specific Plays\n",
    "plays = pd.read_csv(\"C:/Users/Peter/Python Scripts/Case Competitions/NFL Big Data Bowl 2023/case_data/plays.csv\")\n",
    "\n",
    "# #Week - Frame-By-Frame Player Tracking\n",
    "week1 = pd.read_csv(\"C:/Users/Peter/Python Scripts/Case Competitions/NFL Big Data Bowl 2023/case_data/week1.csv\")\n",
    "week2 = pd.read_csv(\"C:/Users/Peter/Python Scripts/Case Competitions/NFL Big Data Bowl 2023/case_data/week2.csv\")\n",
    "week3 = pd.read_csv(\"C:/Users/Peter/Python Scripts/Case Competitions/NFL Big Data Bowl 2023/case_data/week3.csv\")\n",
    "week4 = pd.read_csv(\"C:/Users/Peter/Python Scripts/Case Competitions/NFL Big Data Bowl 2023/case_data/week4.csv\")\n",
    "week5 = pd.read_csv(\"C:/Users/Peter/Python Scripts/Case Competitions/NFL Big Data Bowl 2023/case_data/week5.csv\")\n",
    "week6 = pd.read_csv(\"C:/Users/Peter/Python Scripts/Case Competitions/NFL Big Data Bowl 2023/case_data/week6.csv\")\n",
    "week7 = pd.read_csv(\"C:/Users/Peter/Python Scripts/Case Competitions/NFL Big Data Bowl 2023/case_data/week7.csv\")\n",
    "week8 = pd.read_csv(\"C:/Users/Peter/Python Scripts/Case Competitions/NFL Big Data Bowl 2023/case_data/week8.csv\")"
   ]
  },
  {
   "cell_type": "code",
   "execution_count": 137,
   "metadata": {},
   "outputs": [],
   "source": [
    "#Define Function To Animate Plays\n",
    "colors = {'ARI':\"#97233F\", 'ATL':\"#A71930\", 'BAL':'#241773', 'BUF':\"#00338D\", 'CAR':\"#0085CA\", 'CHI':\"#C83803\", 'CIN':\"#FB4F14\", 'CLE':\"#311D00\", \n",
    "          'DAL':'#003594', 'DEN':\"#FB4F14\", 'DET':\"#0076B6\", 'GB':\"#203731\", 'HOU':\"#03202F\", 'IND':\"#002C5F\", 'JAX':\"#9F792C\", 'KC':\"#E31837\", \n",
    "          'LA':\"#003594\", 'LAC':\"#0080C6\", 'LV':\"#000000\", 'MIA':\"#008E97\", 'MIN':\"#4F2683\", 'NE':\"#002244\", 'NO':\"#D3BC8D\", 'NYG':\"#0B2265\", \n",
    "          'NYJ':\"#125740\", 'PHI':\"#004C54\", 'PIT':\"#FFB612\", 'SEA':\"#69BE28\", 'SF':\"#AA0000\", 'TB':'#D50A0A', 'TEN':\"#4B92DB\", 'WAS':\"#5A1414\", \n",
    "          'football':'#CBB67C'}\n",
    "\n",
    "def animate_play(tracking_df, play_df,players,pffScoutingData, gameId,playId):\n",
    "    selected_play_df = play_df[(play_df.playId==playId)&(play_df.gameId==gameId)].copy()\n",
    "    \n",
    "    tracking_players_df = pd.merge(tracking_df,players,how=\"left\",on = \"nflId\")\n",
    "    tracking_players_df = pd.merge(tracking_players_df,pffScoutingData,how=\"left\",on = [\"nflId\",\"playId\",\"gameId\"])\n",
    "    selected_tracking_df = tracking_players_df[(tracking_players_df.playId==playId)&(tracking_players_df.gameId==gameId)].copy()\n",
    "\n",
    "    sorted_frame_list = selected_tracking_df.frameId.unique()\n",
    "    sorted_frame_list.sort()\n",
    "\n",
    "    # get play General information \n",
    "    line_of_scrimmage = selected_play_df.absoluteYardlineNumber.values[0]\n",
    "    first_down_marker = line_of_scrimmage + selected_play_df.yardsToGo.values[0]\n",
    "    down = selected_play_df.down.values[0]\n",
    "    quarter = selected_play_df.quarter.values[0]\n",
    "    gameClock = selected_play_df.gameClock.values[0]\n",
    "    playDescription = selected_play_df.playDescription.values[0]\n",
    "    # Handle case where we have a really long Play Description and want to split it into two lines\n",
    "    if len(playDescription.split(\" \"))>15 and len(playDescription)>115:\n",
    "        playDescription = \" \".join(playDescription.split(\" \")[0:16]) + \"<br>\" + \" \".join(playDescription.split(\" \")[16:])\n",
    "\n",
    "    # initialize plotly start and stop buttons for animation\n",
    "    updatemenus_dict = [\n",
    "        {\n",
    "             \"buttons\": [\n",
    "                {\n",
    "                    \"args\": [None, {\"frame\": {\"duration\": 100, \"redraw\": False},\n",
    "                                \"fromcurrent\": True, \"transition\": {\"duration\": 0}}],\n",
    "                    \"label\": \"Play\",\n",
    "                    \"method\": \"animate\"\n",
    "                },\n",
    "                {\n",
    "                    \"args\": [[None], {\"frame\": {\"duration\": 0, \"redraw\": False},\n",
    "                                      \"mode\": \"immediate\",\n",
    "                                      \"transition\": {\"duration\": 0}}],\n",
    "                    \"label\": \"Pause\",\n",
    "                    \"method\": \"animate\"\n",
    "                }\n",
    "            ],\n",
    "            \"direction\": \"left\",\n",
    "            \"pad\": {\"r\": 10, \"t\": 87},\n",
    "            \"showactive\": False,\n",
    "            \"type\": \"buttons\",\n",
    "            \"x\": 0.1,\n",
    "            \"xanchor\": \"right\",\n",
    "            \"y\": 0,\n",
    "            \"yanchor\": \"top\"\n",
    "        }\n",
    "    ]\n",
    "    # initialize plotly slider to show frame position in animation\n",
    "    sliders_dict = {\n",
    "        \"active\": 0,\n",
    "        \"yanchor\": \"top\",\n",
    "        \"xanchor\": \"left\",\n",
    "        \"currentvalue\": {\n",
    "            \"font\": {\"size\": 20},\n",
    "            \"prefix\": \"Frame:\",\n",
    "            \"visible\": True,\n",
    "            \"xanchor\": \"right\"\n",
    "        },\n",
    "        \"transition\": {\"duration\": 300, \"easing\": \"cubic-in-out\"},\n",
    "        \"pad\": {\"b\": 10, \"t\": 50},\n",
    "        \"len\": 0.9,\n",
    "        \"x\": 0.1,\n",
    "        \"y\": 0,\n",
    "        \"steps\": []\n",
    "    }\n",
    "\n",
    "\n",
    "    frames = []\n",
    "    for frameId in sorted_frame_list:\n",
    "        data = []\n",
    "        # Add Numbers to Field \n",
    "        data.append(\n",
    "            go.Scatter(\n",
    "                x=np.arange(20,110,10), \n",
    "                y=[5]*len(np.arange(20,110,10)),\n",
    "                mode='text',\n",
    "                text=list(map(str,list(np.arange(20, 61, 10)-10)+list(np.arange(40, 9, -10)))),\n",
    "                textfont_size = 30,\n",
    "                textfont_family = \"Courier New, monospace\",\n",
    "                textfont_color = \"#ffffff\",\n",
    "                showlegend=False,\n",
    "                hoverinfo='none'\n",
    "            )\n",
    "        )\n",
    "        data.append(\n",
    "            go.Scatter(\n",
    "                x=np.arange(20,110,10), \n",
    "                y=[53.5-5]*len(np.arange(20,110,10)),\n",
    "                mode='text',\n",
    "                text=list(map(str,list(np.arange(20, 61, 10)-10)+list(np.arange(40, 9, -10)))),\n",
    "                textfont_size = 30,\n",
    "                textfont_family = \"Courier New, monospace\",\n",
    "                textfont_color = \"#ffffff\",\n",
    "                showlegend=False,\n",
    "                hoverinfo='none'\n",
    "            )\n",
    "        )\n",
    "        # Add line of scrimage \n",
    "        data.append(\n",
    "            go.Scatter(\n",
    "                x=[line_of_scrimmage,line_of_scrimmage], \n",
    "                y=[0,53.5],\n",
    "                line_dash='dash',\n",
    "                line_color='blue',\n",
    "                showlegend=False,\n",
    "                hoverinfo='none'\n",
    "            )\n",
    "        )\n",
    "        # Add First down line \n",
    "        data.append(\n",
    "            go.Scatter(\n",
    "                x=[first_down_marker,first_down_marker], \n",
    "                y=[0,53.5],\n",
    "                line_dash='dash',\n",
    "                line_color='yellow',\n",
    "                showlegend=False,\n",
    "                hoverinfo='none'\n",
    "            )\n",
    "        )\n",
    "        # Plot Players\n",
    "        for team in selected_tracking_df.team.unique():\n",
    "            plot_df = selected_tracking_df[(selected_tracking_df.team==team)&(selected_tracking_df.frameId==frameId)].copy()\n",
    "            if team != \"football\":\n",
    "                hover_text_array=[]\n",
    "                for nflId in plot_df.nflId:\n",
    "                    selected_player_df = plot_df[plot_df.nflId==nflId]\n",
    "                    hover_text_array.append(\"nflId:{}<br>displayName:{}<br>Position:{}<br>Role:{}\".format(selected_player_df[\"nflId\"].values[0],\n",
    "                                                                                      selected_player_df[\"displayName\"].values[0],\n",
    "                                                                                      selected_player_df[\"pff_positionLinedUp\"].values[0],\n",
    "                                                                                      selected_player_df[\"pff_role\"].values[0]))\n",
    "                data.append(go.Scatter(x=plot_df[\"x\"], y=plot_df[\"y\"],mode = 'markers',marker_color=colors[team],name=team,hovertext=hover_text_array,hoverinfo=\"text\"))\n",
    "            else:\n",
    "                data.append(go.Scatter(x=plot_df[\"x\"], y=plot_df[\"y\"],mode = 'markers',marker_color=colors[team],name=team,hoverinfo='none'))\n",
    "        # add frame to slider\n",
    "        slider_step = {\"args\": [\n",
    "            [frameId],\n",
    "            {\"frame\": {\"duration\": 100, \"redraw\": False},\n",
    "             \"mode\": \"immediate\",\n",
    "             \"transition\": {\"duration\": 0}}\n",
    "        ],\n",
    "            \"label\": str(frameId),\n",
    "            \"method\": \"animate\"}\n",
    "        sliders_dict[\"steps\"].append(slider_step)\n",
    "        frames.append(go.Frame(data=data, name=str(frameId)))\n",
    "\n",
    "    scale=10\n",
    "    layout = go.Layout(\n",
    "        autosize=False,\n",
    "        width=120*scale,\n",
    "        height=60*scale,\n",
    "        xaxis=dict(range=[0, 120], autorange=False, tickmode='array',tickvals=np.arange(10, 111, 5).tolist(),showticklabels=False),\n",
    "        yaxis=dict(range=[0, 53.3], autorange=False,showgrid=False,showticklabels=False),\n",
    "\n",
    "        plot_bgcolor='#00B140',\n",
    "        # Create title and add play description at the bottom of the chart for better visual appeal\n",
    "        title=f\"GameId: {gameId}, PlayId: {playId}<br>{gameClock} {quarter}Q\"+\"<br>\"*19+f\"{playDescription}\",\n",
    "        updatemenus=updatemenus_dict,\n",
    "        sliders = [sliders_dict]\n",
    "    )\n",
    "\n",
    "    fig = go.Figure(\n",
    "        data=frames[0][\"data\"],\n",
    "        layout= layout,\n",
    "        frames=frames[1:]\n",
    "    )\n",
    "    # Create First Down Markers \n",
    "    for y_val in [0,53]:\n",
    "        fig.add_annotation(\n",
    "                x=first_down_marker,\n",
    "                y=y_val,\n",
    "                text=str(down),\n",
    "                showarrow=False,\n",
    "                font=dict(\n",
    "                    family=\"Courier New, monospace\",\n",
    "                    size=16,\n",
    "                    color=\"black\"\n",
    "                    ),\n",
    "                align=\"center\",\n",
    "                bordercolor=\"black\",\n",
    "                borderwidth=2,\n",
    "                borderpad=4,\n",
    "                bgcolor=\"#ff7f0e\",\n",
    "                opacity=1\n",
    "                )\n",
    "\n",
    "    return fig"
   ]
  },
  {
   "cell_type": "code",
   "execution_count": 138,
   "metadata": {},
   "outputs": [],
   "source": [
    "#Import Our Merged DataFrames\n",
    "# ptrack = pd.read_csv(\"C:/Users/Peter/Python Scripts/Case Competitions/NFL Big Data Bowl 2023/merged_data/ptrack.csv\") #Player Tracking\n",
    "ptrack_qb_poss = pd.read_csv(\"C:/Users/Peter/Python Scripts/Case Competitions/NFL Big Data Bowl 2023/merged_data/ptrack_qb_poss.csv\") #Player Tracking Only On Frames Where QB The Target For Pass Rushers\n",
    "# pbp = pd.read_csv(\"C:/Users/Peter/Python Scripts/Case Competitions/NFL Big Data Bowl 2023/merged_data/pbp.csv\") #Play-By-Play Data\n",
    "# pff_qb_pressure = pd.read_csv(\"C:/Users/Peter/Python Scripts/Case Competitions/NFL Big Data Bowl 2023/merged_data/pff_qb_pressure.csv\") #Import PFF Data On QB Pressures"
   ]
  },
  {
   "attachments": {},
   "cell_type": "markdown",
   "metadata": {},
   "source": [
    "<font size=\"5\">Check Out Individual Plays</font>"
   ]
  },
  {
   "cell_type": "code",
   "execution_count": 142,
   "metadata": {},
   "outputs": [
    {
     "data": {
      "application/vnd.plotly.v1+json": {
       "config": {
        "plotlyServerURL": "https://plot.ly"
       },
       "data": [
        {
         "hoverinfo": "none",
         "mode": "text",
         "showlegend": false,
         "text": [
          "10",
          "20",
          "30",
          "40",
          "50",
          "40",
          "30",
          "20",
          "10"
         ],
         "textfont": {
          "color": "#ffffff",
          "family": "Courier New, monospace",
          "size": 30
         },
         "type": "scatter",
         "x": [
          20,
          30,
          40,
          50,
          60,
          70,
          80,
          90,
          100
         ],
         "y": [
          5,
          5,
          5,
          5,
          5,
          5,
          5,
          5,
          5
         ]
        },
        {
         "hoverinfo": "none",
         "mode": "text",
         "showlegend": false,
         "text": [
          "10",
          "20",
          "30",
          "40",
          "50",
          "40",
          "30",
          "20",
          "10"
         ],
         "textfont": {
          "color": "#ffffff",
          "family": "Courier New, monospace",
          "size": 30
         },
         "type": "scatter",
         "x": [
          20,
          30,
          40,
          50,
          60,
          70,
          80,
          90,
          100
         ],
         "y": [
          48.5,
          48.5,
          48.5,
          48.5,
          48.5,
          48.5,
          48.5,
          48.5,
          48.5
         ]
        },
        {
         "hoverinfo": "none",
         "line": {
          "color": "blue",
          "dash": "dash"
         },
         "showlegend": false,
         "type": "scatter",
         "x": [
          43,
          43
         ],
         "y": [
          0,
          53.5
         ]
        },
        {
         "hoverinfo": "none",
         "line": {
          "color": "yellow",
          "dash": "dash"
         },
         "showlegend": false,
         "type": "scatter",
         "x": [
          45,
          45
         ],
         "y": [
          0,
          53.5
         ]
        },
        {
         "hoverinfo": "text",
         "hovertext": [
          "nflId:25511.0<br>displayName:Tom Brady<br>Position:QB<br>Role:Pass",
          "nflId:35481.0<br>displayName:Rob Gronkowski<br>Position:TE-L<br>Role:Pass Route",
          "nflId:35634.0<br>displayName:Antonio Brown<br>Position:LWR<br>Role:Pass Route",
          "nflId:39985.0<br>displayName:Giovani Bernard<br>Position:HB-R<br>Role:Pass Route",
          "nflId:40151.0<br>displayName:Ryan Jensen<br>Position:C<br>Role:Pass Block",
          "nflId:41233.0<br>displayName:Mike Evans<br>Position:RWR<br>Role:Pass Route",
          "nflId:42377.0<br>displayName:Donovan Smith<br>Position:LT<br>Role:Pass Block",
          "nflId:42404.0<br>displayName:Ali Marpet<br>Position:LG<br>Role:Pass Block",
          "nflId:44896.0<br>displayName:Chris Godwin<br>Position:SLWR<br>Role:Pass Route",
          "nflId:46163.0<br>displayName:Alex Cappa<br>Position:RG<br>Role:Pass Block",
          "nflId:52421.0<br>displayName:Tristan Wirfs<br>Position:RT<br>Role:Pass Block"
         ],
         "marker": {
          "color": "#D50A0A"
         },
         "mode": "markers",
         "name": "TB",
         "type": "scatter",
         "x": [
          37.77,
          41.08,
          40.99,
          37.54,
          42.18,
          42.01,
          41.55,
          41.95,
          40.09,
          41.42,
          41.15
         ],
         "y": [
          24.22,
          29.15,
          36.74,
          22.26,
          23.97,
          16.19,
          26.89,
          25.66,
          36.72,
          22.63,
          21.36
         ]
        },
        {
         "hoverinfo": "text",
         "hovertext": [
          "nflId:41263.0<br>displayName:Demarcus Lawrence<br>Position:LEO<br>Role:Pass Rush",
          "nflId:42403.0<br>displayName:Randy Gregory<br>Position:ROLB<br>Role:Pass Rush",
          "nflId:43306.0<br>displayName:Keanu Neal<br>Position:ROLB<br>Role:Coverage",
          "nflId:43478.0<br>displayName:Anthony Brown<br>Position:RCB<br>Role:Coverage",
          "nflId:44904.0<br>displayName:Jourdan Lewis<br>Position:SCBR<br>Role:Coverage",
          "nflId:44955.0<br>displayName:Carlos Watkins<br>Position:DRT<br>Role:Pass Rush",
          "nflId:44962.0<br>displayName:Damontae Kazee<br>Position:FS<br>Role:Coverage",
          "nflId:47996.0<br>displayName:Donovan Wilson<br>Position:LILB<br>Role:Coverage",
          "nflId:52459.0<br>displayName:Trevon Diggs<br>Position:LCB<br>Role:Coverage",
          "nflId:53441.0<br>displayName:Micah Parsons<br>Position:LILB<br>Role:Pass Rush",
          "nflId:53504.0<br>displayName:Osa Odighizuwa<br>Position:RE<br>Role:Pass Rush"
         ],
         "marker": {
          "color": "#003594"
         },
         "mode": "markers",
         "name": "DAL",
         "type": "scatter",
         "x": [
          43.66,
          44.03,
          44.59,
          43.49,
          44.5,
          43.47,
          58.6,
          48.36,
          43.5,
          43.71,
          43.69
         ],
         "y": [
          18.7,
          32.69,
          29.62,
          37.55,
          37.78,
          25.14,
          27.33,
          22.8,
          16.27,
          21.88,
          26.67
         ]
        },
        {
         "hoverinfo": "none",
         "marker": {
          "color": "#CBB67C"
         },
         "mode": "markers",
         "name": "football",
         "type": "scatter",
         "x": [
          42.92
         ],
         "y": [
          24.04
         ]
        }
       ],
       "frames": [
        {
         "data": [
          {
           "hoverinfo": "none",
           "mode": "text",
           "showlegend": false,
           "text": [
            "10",
            "20",
            "30",
            "40",
            "50",
            "40",
            "30",
            "20",
            "10"
           ],
           "textfont": {
            "color": "#ffffff",
            "family": "Courier New, monospace",
            "size": 30
           },
           "type": "scatter",
           "x": [
            20,
            30,
            40,
            50,
            60,
            70,
            80,
            90,
            100
           ],
           "y": [
            5,
            5,
            5,
            5,
            5,
            5,
            5,
            5,
            5
           ]
          },
          {
           "hoverinfo": "none",
           "mode": "text",
           "showlegend": false,
           "text": [
            "10",
            "20",
            "30",
            "40",
            "50",
            "40",
            "30",
            "20",
            "10"
           ],
           "textfont": {
            "color": "#ffffff",
            "family": "Courier New, monospace",
            "size": 30
           },
           "type": "scatter",
           "x": [
            20,
            30,
            40,
            50,
            60,
            70,
            80,
            90,
            100
           ],
           "y": [
            48.5,
            48.5,
            48.5,
            48.5,
            48.5,
            48.5,
            48.5,
            48.5,
            48.5
           ]
          },
          {
           "hoverinfo": "none",
           "line": {
            "color": "blue",
            "dash": "dash"
           },
           "showlegend": false,
           "type": "scatter",
           "x": [
            43,
            43
           ],
           "y": [
            0,
            53.5
           ]
          },
          {
           "hoverinfo": "none",
           "line": {
            "color": "yellow",
            "dash": "dash"
           },
           "showlegend": false,
           "type": "scatter",
           "x": [
            45,
            45
           ],
           "y": [
            0,
            53.5
           ]
          },
          {
           "hoverinfo": "text",
           "hovertext": [
            "nflId:25511.0<br>displayName:Tom Brady<br>Position:QB<br>Role:Pass",
            "nflId:35481.0<br>displayName:Rob Gronkowski<br>Position:TE-L<br>Role:Pass Route",
            "nflId:35634.0<br>displayName:Antonio Brown<br>Position:LWR<br>Role:Pass Route",
            "nflId:39985.0<br>displayName:Giovani Bernard<br>Position:HB-R<br>Role:Pass Route",
            "nflId:40151.0<br>displayName:Ryan Jensen<br>Position:C<br>Role:Pass Block",
            "nflId:41233.0<br>displayName:Mike Evans<br>Position:RWR<br>Role:Pass Route",
            "nflId:42377.0<br>displayName:Donovan Smith<br>Position:LT<br>Role:Pass Block",
            "nflId:42404.0<br>displayName:Ali Marpet<br>Position:LG<br>Role:Pass Block",
            "nflId:44896.0<br>displayName:Chris Godwin<br>Position:SLWR<br>Role:Pass Route",
            "nflId:46163.0<br>displayName:Alex Cappa<br>Position:RG<br>Role:Pass Block",
            "nflId:52421.0<br>displayName:Tristan Wirfs<br>Position:RT<br>Role:Pass Block"
           ],
           "marker": {
            "color": "#D50A0A"
           },
           "mode": "markers",
           "name": "TB",
           "type": "scatter",
           "x": [
            37.78,
            41.34,
            40.99,
            37.55,
            42.16,
            42.02,
            41.54,
            41.95,
            40.08,
            41.42,
            41.14
           ],
           "y": [
            24.22,
            29.45,
            36.73,
            22.25,
            23.97,
            16.19,
            26.88,
            25.66,
            36.37,
            22.62,
            21.36
           ]
          },
          {
           "hoverinfo": "text",
           "hovertext": [
            "nflId:41263.0<br>displayName:Demarcus Lawrence<br>Position:LEO<br>Role:Pass Rush",
            "nflId:42403.0<br>displayName:Randy Gregory<br>Position:ROLB<br>Role:Pass Rush",
            "nflId:43306.0<br>displayName:Keanu Neal<br>Position:ROLB<br>Role:Coverage",
            "nflId:43478.0<br>displayName:Anthony Brown<br>Position:RCB<br>Role:Coverage",
            "nflId:44904.0<br>displayName:Jourdan Lewis<br>Position:SCBR<br>Role:Coverage",
            "nflId:44955.0<br>displayName:Carlos Watkins<br>Position:DRT<br>Role:Pass Rush",
            "nflId:44962.0<br>displayName:Damontae Kazee<br>Position:FS<br>Role:Coverage",
            "nflId:47996.0<br>displayName:Donovan Wilson<br>Position:LILB<br>Role:Coverage",
            "nflId:52459.0<br>displayName:Trevon Diggs<br>Position:LCB<br>Role:Coverage",
            "nflId:53441.0<br>displayName:Micah Parsons<br>Position:LILB<br>Role:Pass Rush",
            "nflId:53504.0<br>displayName:Osa Odighizuwa<br>Position:RE<br>Role:Pass Rush"
           ],
           "marker": {
            "color": "#003594"
           },
           "mode": "markers",
           "name": "DAL",
           "type": "scatter",
           "x": [
            43.62,
            44.02,
            44.58,
            43.53,
            44.54,
            43.46,
            58.65,
            48.29,
            43.47,
            43.71,
            43.69
           ],
           "y": [
            18.75,
            32.68,
            29.56,
            37.58,
            37.48,
            25.14,
            27.29,
            22.75,
            16.19,
            21.88,
            26.66
           ]
          },
          {
           "hoverinfo": "none",
           "marker": {
            "color": "#CBB67C"
           },
           "mode": "markers",
           "name": "football",
           "type": "scatter",
           "x": [
            42.23
           ],
           "y": [
            23.91
           ]
          }
         ],
         "name": "2"
        },
        {
         "data": [
          {
           "hoverinfo": "none",
           "mode": "text",
           "showlegend": false,
           "text": [
            "10",
            "20",
            "30",
            "40",
            "50",
            "40",
            "30",
            "20",
            "10"
           ],
           "textfont": {
            "color": "#ffffff",
            "family": "Courier New, monospace",
            "size": 30
           },
           "type": "scatter",
           "x": [
            20,
            30,
            40,
            50,
            60,
            70,
            80,
            90,
            100
           ],
           "y": [
            5,
            5,
            5,
            5,
            5,
            5,
            5,
            5,
            5
           ]
          },
          {
           "hoverinfo": "none",
           "mode": "text",
           "showlegend": false,
           "text": [
            "10",
            "20",
            "30",
            "40",
            "50",
            "40",
            "30",
            "20",
            "10"
           ],
           "textfont": {
            "color": "#ffffff",
            "family": "Courier New, monospace",
            "size": 30
           },
           "type": "scatter",
           "x": [
            20,
            30,
            40,
            50,
            60,
            70,
            80,
            90,
            100
           ],
           "y": [
            48.5,
            48.5,
            48.5,
            48.5,
            48.5,
            48.5,
            48.5,
            48.5,
            48.5
           ]
          },
          {
           "hoverinfo": "none",
           "line": {
            "color": "blue",
            "dash": "dash"
           },
           "showlegend": false,
           "type": "scatter",
           "x": [
            43,
            43
           ],
           "y": [
            0,
            53.5
           ]
          },
          {
           "hoverinfo": "none",
           "line": {
            "color": "yellow",
            "dash": "dash"
           },
           "showlegend": false,
           "type": "scatter",
           "x": [
            45,
            45
           ],
           "y": [
            0,
            53.5
           ]
          },
          {
           "hoverinfo": "text",
           "hovertext": [
            "nflId:25511.0<br>displayName:Tom Brady<br>Position:QB<br>Role:Pass",
            "nflId:35481.0<br>displayName:Rob Gronkowski<br>Position:TE-L<br>Role:Pass Route",
            "nflId:35634.0<br>displayName:Antonio Brown<br>Position:LWR<br>Role:Pass Route",
            "nflId:39985.0<br>displayName:Giovani Bernard<br>Position:HB-R<br>Role:Pass Route",
            "nflId:40151.0<br>displayName:Ryan Jensen<br>Position:C<br>Role:Pass Block",
            "nflId:41233.0<br>displayName:Mike Evans<br>Position:RWR<br>Role:Pass Route",
            "nflId:42377.0<br>displayName:Donovan Smith<br>Position:LT<br>Role:Pass Block",
            "nflId:42404.0<br>displayName:Ali Marpet<br>Position:LG<br>Role:Pass Block",
            "nflId:44896.0<br>displayName:Chris Godwin<br>Position:SLWR<br>Role:Pass Route",
            "nflId:46163.0<br>displayName:Alex Cappa<br>Position:RG<br>Role:Pass Block",
            "nflId:52421.0<br>displayName:Tristan Wirfs<br>Position:RT<br>Role:Pass Block"
           ],
           "marker": {
            "color": "#D50A0A"
           },
           "mode": "markers",
           "name": "TB",
           "type": "scatter",
           "x": [
            37.78,
            41.53,
            40.99,
            37.53,
            42.15,
            42.01,
            41.53,
            41.94,
            40.07,
            41.42,
            41.14
           ],
           "y": [
            24.24,
            29.39,
            36.74,
            22.22,
            23.97,
            16.19,
            26.89,
            25.66,
            36.03,
            22.63,
            21.36
           ]
          },
          {
           "hoverinfo": "text",
           "hovertext": [
            "nflId:41263.0<br>displayName:Demarcus Lawrence<br>Position:LEO<br>Role:Pass Rush",
            "nflId:42403.0<br>displayName:Randy Gregory<br>Position:ROLB<br>Role:Pass Rush",
            "nflId:43306.0<br>displayName:Keanu Neal<br>Position:ROLB<br>Role:Coverage",
            "nflId:43478.0<br>displayName:Anthony Brown<br>Position:RCB<br>Role:Coverage",
            "nflId:44904.0<br>displayName:Jourdan Lewis<br>Position:SCBR<br>Role:Coverage",
            "nflId:44955.0<br>displayName:Carlos Watkins<br>Position:DRT<br>Role:Pass Rush",
            "nflId:44962.0<br>displayName:Damontae Kazee<br>Position:FS<br>Role:Coverage",
            "nflId:47996.0<br>displayName:Donovan Wilson<br>Position:LILB<br>Role:Coverage",
            "nflId:52459.0<br>displayName:Trevon Diggs<br>Position:LCB<br>Role:Coverage",
            "nflId:53441.0<br>displayName:Micah Parsons<br>Position:LILB<br>Role:Pass Rush",
            "nflId:53504.0<br>displayName:Osa Odighizuwa<br>Position:RE<br>Role:Pass Rush"
           ],
           "marker": {
            "color": "#003594"
           },
           "mode": "markers",
           "name": "DAL",
           "type": "scatter",
           "x": [
            43.59,
            43.99,
            44.6,
            43.54,
            44.57,
            43.46,
            58.71,
            48.23,
            43.44,
            43.71,
            43.69
           ],
           "y": [
            18.8,
            32.67,
            29.52,
            37.6,
            37.18,
            25.15,
            27.26,
            22.67,
            16.13,
            21.89,
            26.66
           ]
          },
          {
           "hoverinfo": "none",
           "marker": {
            "color": "#CBB67C"
           },
           "mode": "markers",
           "name": "football",
           "type": "scatter",
           "x": [
            42.17
           ],
           "y": [
            23.89
           ]
          }
         ],
         "name": "3"
        },
        {
         "data": [
          {
           "hoverinfo": "none",
           "mode": "text",
           "showlegend": false,
           "text": [
            "10",
            "20",
            "30",
            "40",
            "50",
            "40",
            "30",
            "20",
            "10"
           ],
           "textfont": {
            "color": "#ffffff",
            "family": "Courier New, monospace",
            "size": 30
           },
           "type": "scatter",
           "x": [
            20,
            30,
            40,
            50,
            60,
            70,
            80,
            90,
            100
           ],
           "y": [
            5,
            5,
            5,
            5,
            5,
            5,
            5,
            5,
            5
           ]
          },
          {
           "hoverinfo": "none",
           "mode": "text",
           "showlegend": false,
           "text": [
            "10",
            "20",
            "30",
            "40",
            "50",
            "40",
            "30",
            "20",
            "10"
           ],
           "textfont": {
            "color": "#ffffff",
            "family": "Courier New, monospace",
            "size": 30
           },
           "type": "scatter",
           "x": [
            20,
            30,
            40,
            50,
            60,
            70,
            80,
            90,
            100
           ],
           "y": [
            48.5,
            48.5,
            48.5,
            48.5,
            48.5,
            48.5,
            48.5,
            48.5,
            48.5
           ]
          },
          {
           "hoverinfo": "none",
           "line": {
            "color": "blue",
            "dash": "dash"
           },
           "showlegend": false,
           "type": "scatter",
           "x": [
            43,
            43
           ],
           "y": [
            0,
            53.5
           ]
          },
          {
           "hoverinfo": "none",
           "line": {
            "color": "yellow",
            "dash": "dash"
           },
           "showlegend": false,
           "type": "scatter",
           "x": [
            45,
            45
           ],
           "y": [
            0,
            53.5
           ]
          },
          {
           "hoverinfo": "text",
           "hovertext": [
            "nflId:25511.0<br>displayName:Tom Brady<br>Position:QB<br>Role:Pass",
            "nflId:35481.0<br>displayName:Rob Gronkowski<br>Position:TE-L<br>Role:Pass Route",
            "nflId:35634.0<br>displayName:Antonio Brown<br>Position:LWR<br>Role:Pass Route",
            "nflId:39985.0<br>displayName:Giovani Bernard<br>Position:HB-R<br>Role:Pass Route",
            "nflId:40151.0<br>displayName:Ryan Jensen<br>Position:C<br>Role:Pass Block",
            "nflId:41233.0<br>displayName:Mike Evans<br>Position:RWR<br>Role:Pass Route",
            "nflId:42377.0<br>displayName:Donovan Smith<br>Position:LT<br>Role:Pass Block",
            "nflId:42404.0<br>displayName:Ali Marpet<br>Position:LG<br>Role:Pass Block",
            "nflId:44896.0<br>displayName:Chris Godwin<br>Position:SLWR<br>Role:Pass Route",
            "nflId:46163.0<br>displayName:Alex Cappa<br>Position:RG<br>Role:Pass Block",
            "nflId:52421.0<br>displayName:Tristan Wirfs<br>Position:RT<br>Role:Pass Block"
           ],
           "marker": {
            "color": "#D50A0A"
           },
           "mode": "markers",
           "name": "TB",
           "type": "scatter",
           "x": [
            37.73,
            41.53,
            40.99,
            37.54,
            42.15,
            42.01,
            41.5,
            41.94,
            40.07,
            41.42,
            41.14
           ],
           "y": [
            24.25,
            29.38,
            36.74,
            22.24,
            23.98,
            16.2,
            26.89,
            25.66,
            35.71,
            22.63,
            21.35
           ]
          },
          {
           "hoverinfo": "text",
           "hovertext": [
            "nflId:41263.0<br>displayName:Demarcus Lawrence<br>Position:LEO<br>Role:Pass Rush",
            "nflId:42403.0<br>displayName:Randy Gregory<br>Position:ROLB<br>Role:Pass Rush",
            "nflId:43306.0<br>displayName:Keanu Neal<br>Position:ROLB<br>Role:Coverage",
            "nflId:43478.0<br>displayName:Anthony Brown<br>Position:RCB<br>Role:Coverage",
            "nflId:44904.0<br>displayName:Jourdan Lewis<br>Position:SCBR<br>Role:Coverage",
            "nflId:44955.0<br>displayName:Carlos Watkins<br>Position:DRT<br>Role:Pass Rush",
            "nflId:44962.0<br>displayName:Damontae Kazee<br>Position:FS<br>Role:Coverage",
            "nflId:47996.0<br>displayName:Donovan Wilson<br>Position:LILB<br>Role:Coverage",
            "nflId:52459.0<br>displayName:Trevon Diggs<br>Position:LCB<br>Role:Coverage",
            "nflId:53441.0<br>displayName:Micah Parsons<br>Position:LILB<br>Role:Pass Rush",
            "nflId:53504.0<br>displayName:Osa Odighizuwa<br>Position:RE<br>Role:Pass Rush"
           ],
           "marker": {
            "color": "#003594"
           },
           "mode": "markers",
           "name": "DAL",
           "type": "scatter",
           "x": [
            43.52,
            43.98,
            44.63,
            43.59,
            44.58,
            43.44,
            58.78,
            48.19,
            43.41,
            43.7,
            43.7
           ],
           "y": [
            18.83,
            32.66,
            29.43,
            37.65,
            36.9,
            25.14,
            27.23,
            22.6,
            16.06,
            21.91,
            26.66
           ]
          },
          {
           "hoverinfo": "none",
           "marker": {
            "color": "#CBB67C"
           },
           "mode": "markers",
           "name": "football",
           "type": "scatter",
           "x": [
            42.1
           ],
           "y": [
            23.89
           ]
          }
         ],
         "name": "4"
        },
        {
         "data": [
          {
           "hoverinfo": "none",
           "mode": "text",
           "showlegend": false,
           "text": [
            "10",
            "20",
            "30",
            "40",
            "50",
            "40",
            "30",
            "20",
            "10"
           ],
           "textfont": {
            "color": "#ffffff",
            "family": "Courier New, monospace",
            "size": 30
           },
           "type": "scatter",
           "x": [
            20,
            30,
            40,
            50,
            60,
            70,
            80,
            90,
            100
           ],
           "y": [
            5,
            5,
            5,
            5,
            5,
            5,
            5,
            5,
            5
           ]
          },
          {
           "hoverinfo": "none",
           "mode": "text",
           "showlegend": false,
           "text": [
            "10",
            "20",
            "30",
            "40",
            "50",
            "40",
            "30",
            "20",
            "10"
           ],
           "textfont": {
            "color": "#ffffff",
            "family": "Courier New, monospace",
            "size": 30
           },
           "type": "scatter",
           "x": [
            20,
            30,
            40,
            50,
            60,
            70,
            80,
            90,
            100
           ],
           "y": [
            48.5,
            48.5,
            48.5,
            48.5,
            48.5,
            48.5,
            48.5,
            48.5,
            48.5
           ]
          },
          {
           "hoverinfo": "none",
           "line": {
            "color": "blue",
            "dash": "dash"
           },
           "showlegend": false,
           "type": "scatter",
           "x": [
            43,
            43
           ],
           "y": [
            0,
            53.5
           ]
          },
          {
           "hoverinfo": "none",
           "line": {
            "color": "yellow",
            "dash": "dash"
           },
           "showlegend": false,
           "type": "scatter",
           "x": [
            45,
            45
           ],
           "y": [
            0,
            53.5
           ]
          },
          {
           "hoverinfo": "text",
           "hovertext": [
            "nflId:25511.0<br>displayName:Tom Brady<br>Position:QB<br>Role:Pass",
            "nflId:35481.0<br>displayName:Rob Gronkowski<br>Position:TE-L<br>Role:Pass Route",
            "nflId:35634.0<br>displayName:Antonio Brown<br>Position:LWR<br>Role:Pass Route",
            "nflId:39985.0<br>displayName:Giovani Bernard<br>Position:HB-R<br>Role:Pass Route",
            "nflId:40151.0<br>displayName:Ryan Jensen<br>Position:C<br>Role:Pass Block",
            "nflId:41233.0<br>displayName:Mike Evans<br>Position:RWR<br>Role:Pass Route",
            "nflId:42377.0<br>displayName:Donovan Smith<br>Position:LT<br>Role:Pass Block",
            "nflId:42404.0<br>displayName:Ali Marpet<br>Position:LG<br>Role:Pass Block",
            "nflId:44896.0<br>displayName:Chris Godwin<br>Position:SLWR<br>Role:Pass Route",
            "nflId:46163.0<br>displayName:Alex Cappa<br>Position:RG<br>Role:Pass Block",
            "nflId:52421.0<br>displayName:Tristan Wirfs<br>Position:RT<br>Role:Pass Block"
           ],
           "marker": {
            "color": "#D50A0A"
           },
           "mode": "markers",
           "name": "TB",
           "type": "scatter",
           "x": [
            37.69,
            41.54,
            41.01,
            37.56,
            42.14,
            42.01,
            41.46,
            41.94,
            40.11,
            41.42,
            41.13
           ],
           "y": [
            24.26,
            29.36,
            36.75,
            22.26,
            23.99,
            16.2,
            26.91,
            25.65,
            35.39,
            22.63,
            21.34
           ]
          },
          {
           "hoverinfo": "text",
           "hovertext": [
            "nflId:41263.0<br>displayName:Demarcus Lawrence<br>Position:LEO<br>Role:Pass Rush",
            "nflId:42403.0<br>displayName:Randy Gregory<br>Position:ROLB<br>Role:Pass Rush",
            "nflId:43306.0<br>displayName:Keanu Neal<br>Position:ROLB<br>Role:Coverage",
            "nflId:43478.0<br>displayName:Anthony Brown<br>Position:RCB<br>Role:Coverage",
            "nflId:44904.0<br>displayName:Jourdan Lewis<br>Position:SCBR<br>Role:Coverage",
            "nflId:44955.0<br>displayName:Carlos Watkins<br>Position:DRT<br>Role:Pass Rush",
            "nflId:44962.0<br>displayName:Damontae Kazee<br>Position:FS<br>Role:Coverage",
            "nflId:47996.0<br>displayName:Donovan Wilson<br>Position:LILB<br>Role:Coverage",
            "nflId:52459.0<br>displayName:Trevon Diggs<br>Position:LCB<br>Role:Coverage",
            "nflId:53441.0<br>displayName:Micah Parsons<br>Position:LILB<br>Role:Pass Rush",
            "nflId:53504.0<br>displayName:Osa Odighizuwa<br>Position:RE<br>Role:Pass Rush"
           ],
           "marker": {
            "color": "#003594"
           },
           "mode": "markers",
           "name": "DAL",
           "type": "scatter",
           "x": [
            43.41,
            43.96,
            44.65,
            43.61,
            44.6,
            43.41,
            58.88,
            48.13,
            43.38,
            43.69,
            43.7
           ],
           "y": [
            18.87,
            32.65,
            29.41,
            37.61,
            36.62,
            25.16,
            27.2,
            22.53,
            15.98,
            21.92,
            26.66
           ]
          },
          {
           "hoverinfo": "none",
           "marker": {
            "color": "#CBB67C"
           },
           "mode": "markers",
           "name": "football",
           "type": "scatter",
           "x": [
            41.82
           ],
           "y": [
            23.91
           ]
          }
         ],
         "name": "5"
        },
        {
         "data": [
          {
           "hoverinfo": "none",
           "mode": "text",
           "showlegend": false,
           "text": [
            "10",
            "20",
            "30",
            "40",
            "50",
            "40",
            "30",
            "20",
            "10"
           ],
           "textfont": {
            "color": "#ffffff",
            "family": "Courier New, monospace",
            "size": 30
           },
           "type": "scatter",
           "x": [
            20,
            30,
            40,
            50,
            60,
            70,
            80,
            90,
            100
           ],
           "y": [
            5,
            5,
            5,
            5,
            5,
            5,
            5,
            5,
            5
           ]
          },
          {
           "hoverinfo": "none",
           "mode": "text",
           "showlegend": false,
           "text": [
            "10",
            "20",
            "30",
            "40",
            "50",
            "40",
            "30",
            "20",
            "10"
           ],
           "textfont": {
            "color": "#ffffff",
            "family": "Courier New, monospace",
            "size": 30
           },
           "type": "scatter",
           "x": [
            20,
            30,
            40,
            50,
            60,
            70,
            80,
            90,
            100
           ],
           "y": [
            48.5,
            48.5,
            48.5,
            48.5,
            48.5,
            48.5,
            48.5,
            48.5,
            48.5
           ]
          },
          {
           "hoverinfo": "none",
           "line": {
            "color": "blue",
            "dash": "dash"
           },
           "showlegend": false,
           "type": "scatter",
           "x": [
            43,
            43
           ],
           "y": [
            0,
            53.5
           ]
          },
          {
           "hoverinfo": "none",
           "line": {
            "color": "yellow",
            "dash": "dash"
           },
           "showlegend": false,
           "type": "scatter",
           "x": [
            45,
            45
           ],
           "y": [
            0,
            53.5
           ]
          },
          {
           "hoverinfo": "text",
           "hovertext": [
            "nflId:25511.0<br>displayName:Tom Brady<br>Position:QB<br>Role:Pass",
            "nflId:35481.0<br>displayName:Rob Gronkowski<br>Position:TE-L<br>Role:Pass Route",
            "nflId:35634.0<br>displayName:Antonio Brown<br>Position:LWR<br>Role:Pass Route",
            "nflId:39985.0<br>displayName:Giovani Bernard<br>Position:HB-R<br>Role:Pass Route",
            "nflId:40151.0<br>displayName:Ryan Jensen<br>Position:C<br>Role:Pass Block",
            "nflId:41233.0<br>displayName:Mike Evans<br>Position:RWR<br>Role:Pass Route",
            "nflId:42377.0<br>displayName:Donovan Smith<br>Position:LT<br>Role:Pass Block",
            "nflId:42404.0<br>displayName:Ali Marpet<br>Position:LG<br>Role:Pass Block",
            "nflId:44896.0<br>displayName:Chris Godwin<br>Position:SLWR<br>Role:Pass Route",
            "nflId:46163.0<br>displayName:Alex Cappa<br>Position:RG<br>Role:Pass Block",
            "nflId:52421.0<br>displayName:Tristan Wirfs<br>Position:RT<br>Role:Pass Block"
           ],
           "marker": {
            "color": "#D50A0A"
           },
           "mode": "markers",
           "name": "TB",
           "type": "scatter",
           "x": [
            37.64,
            41.65,
            41.04,
            37.55,
            42.1,
            42.01,
            41.38,
            41.93,
            40.16,
            41.41,
            41.11
           ],
           "y": [
            24.26,
            29.34,
            36.77,
            22.27,
            24.02,
            16.2,
            26.92,
            25.65,
            35.09,
            22.63,
            21.31
           ]
          },
          {
           "hoverinfo": "text",
           "hovertext": [
            "nflId:41263.0<br>displayName:Demarcus Lawrence<br>Position:LEO<br>Role:Pass Rush",
            "nflId:42403.0<br>displayName:Randy Gregory<br>Position:ROLB<br>Role:Pass Rush",
            "nflId:43306.0<br>displayName:Keanu Neal<br>Position:ROLB<br>Role:Coverage",
            "nflId:43478.0<br>displayName:Anthony Brown<br>Position:RCB<br>Role:Coverage",
            "nflId:44904.0<br>displayName:Jourdan Lewis<br>Position:SCBR<br>Role:Coverage",
            "nflId:44955.0<br>displayName:Carlos Watkins<br>Position:DRT<br>Role:Pass Rush",
            "nflId:44962.0<br>displayName:Damontae Kazee<br>Position:FS<br>Role:Coverage",
            "nflId:47996.0<br>displayName:Donovan Wilson<br>Position:LILB<br>Role:Coverage",
            "nflId:52459.0<br>displayName:Trevon Diggs<br>Position:LCB<br>Role:Coverage",
            "nflId:53441.0<br>displayName:Micah Parsons<br>Position:LILB<br>Role:Pass Rush",
            "nflId:53504.0<br>displayName:Osa Odighizuwa<br>Position:RE<br>Role:Pass Rush"
           ],
           "marker": {
            "color": "#003594"
           },
           "mode": "markers",
           "name": "DAL",
           "type": "scatter",
           "x": [
            43.3,
            43.9,
            44.68,
            43.61,
            44.61,
            43.35,
            58.99,
            48.07,
            43.35,
            43.68,
            43.7
           ],
           "y": [
            18.89,
            32.63,
            29.35,
            37.62,
            36.36,
            25.18,
            27.18,
            22.41,
            15.88,
            21.93,
            26.67
           ]
          },
          {
           "hoverinfo": "none",
           "marker": {
            "color": "#CBB67C"
           },
           "mode": "markers",
           "name": "football",
           "type": "scatter",
           "x": [
            41.56
           ],
           "y": [
            23.92
           ]
          }
         ],
         "name": "6"
        },
        {
         "data": [
          {
           "hoverinfo": "none",
           "mode": "text",
           "showlegend": false,
           "text": [
            "10",
            "20",
            "30",
            "40",
            "50",
            "40",
            "30",
            "20",
            "10"
           ],
           "textfont": {
            "color": "#ffffff",
            "family": "Courier New, monospace",
            "size": 30
           },
           "type": "scatter",
           "x": [
            20,
            30,
            40,
            50,
            60,
            70,
            80,
            90,
            100
           ],
           "y": [
            5,
            5,
            5,
            5,
            5,
            5,
            5,
            5,
            5
           ]
          },
          {
           "hoverinfo": "none",
           "mode": "text",
           "showlegend": false,
           "text": [
            "10",
            "20",
            "30",
            "40",
            "50",
            "40",
            "30",
            "20",
            "10"
           ],
           "textfont": {
            "color": "#ffffff",
            "family": "Courier New, monospace",
            "size": 30
           },
           "type": "scatter",
           "x": [
            20,
            30,
            40,
            50,
            60,
            70,
            80,
            90,
            100
           ],
           "y": [
            48.5,
            48.5,
            48.5,
            48.5,
            48.5,
            48.5,
            48.5,
            48.5,
            48.5
           ]
          },
          {
           "hoverinfo": "none",
           "line": {
            "color": "blue",
            "dash": "dash"
           },
           "showlegend": false,
           "type": "scatter",
           "x": [
            43,
            43
           ],
           "y": [
            0,
            53.5
           ]
          },
          {
           "hoverinfo": "none",
           "line": {
            "color": "yellow",
            "dash": "dash"
           },
           "showlegend": false,
           "type": "scatter",
           "x": [
            45,
            45
           ],
           "y": [
            0,
            53.5
           ]
          },
          {
           "hoverinfo": "text",
           "hovertext": [
            "nflId:25511.0<br>displayName:Tom Brady<br>Position:QB<br>Role:Pass",
            "nflId:35481.0<br>displayName:Rob Gronkowski<br>Position:TE-L<br>Role:Pass Route",
            "nflId:35634.0<br>displayName:Antonio Brown<br>Position:LWR<br>Role:Pass Route",
            "nflId:39985.0<br>displayName:Giovani Bernard<br>Position:HB-R<br>Role:Pass Route",
            "nflId:40151.0<br>displayName:Ryan Jensen<br>Position:C<br>Role:Pass Block",
            "nflId:41233.0<br>displayName:Mike Evans<br>Position:RWR<br>Role:Pass Route",
            "nflId:42377.0<br>displayName:Donovan Smith<br>Position:LT<br>Role:Pass Block",
            "nflId:42404.0<br>displayName:Ali Marpet<br>Position:LG<br>Role:Pass Block",
            "nflId:44896.0<br>displayName:Chris Godwin<br>Position:SLWR<br>Role:Pass Route",
            "nflId:46163.0<br>displayName:Alex Cappa<br>Position:RG<br>Role:Pass Block",
            "nflId:52421.0<br>displayName:Tristan Wirfs<br>Position:RT<br>Role:Pass Block"
           ],
           "marker": {
            "color": "#D50A0A"
           },
           "mode": "markers",
           "name": "TB",
           "type": "scatter",
           "x": [
            37.56,
            41.75,
            41.1,
            37.59,
            42.03,
            42.02,
            41.28,
            41.92,
            40.22,
            41.4,
            41.07
           ],
           "y": [
            24.26,
            29.36,
            36.82,
            22.31,
            24.06,
            16.21,
            26.95,
            25.65,
            34.81,
            22.64,
            21.27
           ]
          },
          {
           "hoverinfo": "text",
           "hovertext": [
            "nflId:41263.0<br>displayName:Demarcus Lawrence<br>Position:LEO<br>Role:Pass Rush",
            "nflId:42403.0<br>displayName:Randy Gregory<br>Position:ROLB<br>Role:Pass Rush",
            "nflId:43306.0<br>displayName:Keanu Neal<br>Position:ROLB<br>Role:Coverage",
            "nflId:43478.0<br>displayName:Anthony Brown<br>Position:RCB<br>Role:Coverage",
            "nflId:44904.0<br>displayName:Jourdan Lewis<br>Position:SCBR<br>Role:Coverage",
            "nflId:44955.0<br>displayName:Carlos Watkins<br>Position:DRT<br>Role:Pass Rush",
            "nflId:44962.0<br>displayName:Damontae Kazee<br>Position:FS<br>Role:Coverage",
            "nflId:47996.0<br>displayName:Donovan Wilson<br>Position:LILB<br>Role:Coverage",
            "nflId:52459.0<br>displayName:Trevon Diggs<br>Position:LCB<br>Role:Coverage",
            "nflId:53441.0<br>displayName:Micah Parsons<br>Position:LILB<br>Role:Pass Rush",
            "nflId:53504.0<br>displayName:Osa Odighizuwa<br>Position:RE<br>Role:Pass Rush"
           ],
           "marker": {
            "color": "#003594"
           },
           "mode": "markers",
           "name": "DAL",
           "type": "scatter",
           "x": [
            43.19,
            43.83,
            44.71,
            43.63,
            44.61,
            43.28,
            59.12,
            48.01,
            43.33,
            43.62,
            43.67
           ],
           "y": [
            18.91,
            32.62,
            29.26,
            37.64,
            36.12,
            25.2,
            27.17,
            22.29,
            15.81,
            21.96,
            26.67
           ]
          },
          {
           "hoverinfo": "none",
           "marker": {
            "color": "#CBB67C"
           },
           "mode": "markers",
           "name": "football",
           "type": "scatter",
           "x": [
            41.07
           ],
           "y": [
            23.94
           ]
          }
         ],
         "name": "7"
        },
        {
         "data": [
          {
           "hoverinfo": "none",
           "mode": "text",
           "showlegend": false,
           "text": [
            "10",
            "20",
            "30",
            "40",
            "50",
            "40",
            "30",
            "20",
            "10"
           ],
           "textfont": {
            "color": "#ffffff",
            "family": "Courier New, monospace",
            "size": 30
           },
           "type": "scatter",
           "x": [
            20,
            30,
            40,
            50,
            60,
            70,
            80,
            90,
            100
           ],
           "y": [
            5,
            5,
            5,
            5,
            5,
            5,
            5,
            5,
            5
           ]
          },
          {
           "hoverinfo": "none",
           "mode": "text",
           "showlegend": false,
           "text": [
            "10",
            "20",
            "30",
            "40",
            "50",
            "40",
            "30",
            "20",
            "10"
           ],
           "textfont": {
            "color": "#ffffff",
            "family": "Courier New, monospace",
            "size": 30
           },
           "type": "scatter",
           "x": [
            20,
            30,
            40,
            50,
            60,
            70,
            80,
            90,
            100
           ],
           "y": [
            48.5,
            48.5,
            48.5,
            48.5,
            48.5,
            48.5,
            48.5,
            48.5,
            48.5
           ]
          },
          {
           "hoverinfo": "none",
           "line": {
            "color": "blue",
            "dash": "dash"
           },
           "showlegend": false,
           "type": "scatter",
           "x": [
            43,
            43
           ],
           "y": [
            0,
            53.5
           ]
          },
          {
           "hoverinfo": "none",
           "line": {
            "color": "yellow",
            "dash": "dash"
           },
           "showlegend": false,
           "type": "scatter",
           "x": [
            45,
            45
           ],
           "y": [
            0,
            53.5
           ]
          },
          {
           "hoverinfo": "text",
           "hovertext": [
            "nflId:25511.0<br>displayName:Tom Brady<br>Position:QB<br>Role:Pass",
            "nflId:35481.0<br>displayName:Rob Gronkowski<br>Position:TE-L<br>Role:Pass Route",
            "nflId:35634.0<br>displayName:Antonio Brown<br>Position:LWR<br>Role:Pass Route",
            "nflId:39985.0<br>displayName:Giovani Bernard<br>Position:HB-R<br>Role:Pass Route",
            "nflId:40151.0<br>displayName:Ryan Jensen<br>Position:C<br>Role:Pass Block",
            "nflId:41233.0<br>displayName:Mike Evans<br>Position:RWR<br>Role:Pass Route",
            "nflId:42377.0<br>displayName:Donovan Smith<br>Position:LT<br>Role:Pass Block",
            "nflId:42404.0<br>displayName:Ali Marpet<br>Position:LG<br>Role:Pass Block",
            "nflId:44896.0<br>displayName:Chris Godwin<br>Position:SLWR<br>Role:Pass Route",
            "nflId:46163.0<br>displayName:Alex Cappa<br>Position:RG<br>Role:Pass Block",
            "nflId:52421.0<br>displayName:Tristan Wirfs<br>Position:RT<br>Role:Pass Block"
           ],
           "marker": {
            "color": "#D50A0A"
           },
           "mode": "markers",
           "name": "TB",
           "type": "scatter",
           "x": [
            37.47,
            41.87,
            41.2,
            37.6,
            41.95,
            42.03,
            41.14,
            41.89,
            40.34,
            41.37,
            40.99
           ],
           "y": [
            24.25,
            29.42,
            36.9,
            22.33,
            24.1,
            16.22,
            27.01,
            25.65,
            34.55,
            22.66,
            21.21
           ]
          },
          {
           "hoverinfo": "text",
           "hovertext": [
            "nflId:41263.0<br>displayName:Demarcus Lawrence<br>Position:LEO<br>Role:Pass Rush",
            "nflId:42403.0<br>displayName:Randy Gregory<br>Position:ROLB<br>Role:Pass Rush",
            "nflId:43306.0<br>displayName:Keanu Neal<br>Position:ROLB<br>Role:Coverage",
            "nflId:43478.0<br>displayName:Anthony Brown<br>Position:RCB<br>Role:Coverage",
            "nflId:44904.0<br>displayName:Jourdan Lewis<br>Position:SCBR<br>Role:Coverage",
            "nflId:44955.0<br>displayName:Carlos Watkins<br>Position:DRT<br>Role:Pass Rush",
            "nflId:44962.0<br>displayName:Damontae Kazee<br>Position:FS<br>Role:Coverage",
            "nflId:47996.0<br>displayName:Donovan Wilson<br>Position:LILB<br>Role:Coverage",
            "nflId:52459.0<br>displayName:Trevon Diggs<br>Position:LCB<br>Role:Coverage",
            "nflId:53441.0<br>displayName:Micah Parsons<br>Position:LILB<br>Role:Pass Rush",
            "nflId:53504.0<br>displayName:Osa Odighizuwa<br>Position:RE<br>Role:Pass Rush"
           ],
           "marker": {
            "color": "#003594"
           },
           "mode": "markers",
           "name": "DAL",
           "type": "scatter",
           "x": [
            43.03,
            43.68,
            44.72,
            43.7,
            44.62,
            43.13,
            59.28,
            47.96,
            43.34,
            43.52,
            43.62
           ],
           "y": [
            18.93,
            32.54,
            29.19,
            37.64,
            35.89,
            25.25,
            27.16,
            22.17,
            15.76,
            22.01,
            26.69
           ]
          },
          {
           "hoverinfo": "none",
           "marker": {
            "color": "#CBB67C"
           },
           "mode": "markers",
           "name": "football",
           "type": "scatter",
           "x": [
            40.71
           ],
           "y": [
            23.95
           ]
          }
         ],
         "name": "8"
        },
        {
         "data": [
          {
           "hoverinfo": "none",
           "mode": "text",
           "showlegend": false,
           "text": [
            "10",
            "20",
            "30",
            "40",
            "50",
            "40",
            "30",
            "20",
            "10"
           ],
           "textfont": {
            "color": "#ffffff",
            "family": "Courier New, monospace",
            "size": 30
           },
           "type": "scatter",
           "x": [
            20,
            30,
            40,
            50,
            60,
            70,
            80,
            90,
            100
           ],
           "y": [
            5,
            5,
            5,
            5,
            5,
            5,
            5,
            5,
            5
           ]
          },
          {
           "hoverinfo": "none",
           "mode": "text",
           "showlegend": false,
           "text": [
            "10",
            "20",
            "30",
            "40",
            "50",
            "40",
            "30",
            "20",
            "10"
           ],
           "textfont": {
            "color": "#ffffff",
            "family": "Courier New, monospace",
            "size": 30
           },
           "type": "scatter",
           "x": [
            20,
            30,
            40,
            50,
            60,
            70,
            80,
            90,
            100
           ],
           "y": [
            48.5,
            48.5,
            48.5,
            48.5,
            48.5,
            48.5,
            48.5,
            48.5,
            48.5
           ]
          },
          {
           "hoverinfo": "none",
           "line": {
            "color": "blue",
            "dash": "dash"
           },
           "showlegend": false,
           "type": "scatter",
           "x": [
            43,
            43
           ],
           "y": [
            0,
            53.5
           ]
          },
          {
           "hoverinfo": "none",
           "line": {
            "color": "yellow",
            "dash": "dash"
           },
           "showlegend": false,
           "type": "scatter",
           "x": [
            45,
            45
           ],
           "y": [
            0,
            53.5
           ]
          },
          {
           "hoverinfo": "text",
           "hovertext": [
            "nflId:25511.0<br>displayName:Tom Brady<br>Position:QB<br>Role:Pass",
            "nflId:35481.0<br>displayName:Rob Gronkowski<br>Position:TE-L<br>Role:Pass Route",
            "nflId:35634.0<br>displayName:Antonio Brown<br>Position:LWR<br>Role:Pass Route",
            "nflId:39985.0<br>displayName:Giovani Bernard<br>Position:HB-R<br>Role:Pass Route",
            "nflId:40151.0<br>displayName:Ryan Jensen<br>Position:C<br>Role:Pass Block",
            "nflId:41233.0<br>displayName:Mike Evans<br>Position:RWR<br>Role:Pass Route",
            "nflId:42377.0<br>displayName:Donovan Smith<br>Position:LT<br>Role:Pass Block",
            "nflId:42404.0<br>displayName:Ali Marpet<br>Position:LG<br>Role:Pass Block",
            "nflId:44896.0<br>displayName:Chris Godwin<br>Position:SLWR<br>Role:Pass Route",
            "nflId:46163.0<br>displayName:Alex Cappa<br>Position:RG<br>Role:Pass Block",
            "nflId:52421.0<br>displayName:Tristan Wirfs<br>Position:RT<br>Role:Pass Block"
           ],
           "marker": {
            "color": "#D50A0A"
           },
           "mode": "markers",
           "name": "TB",
           "type": "scatter",
           "x": [
            37.38,
            42.04,
            41.36,
            37.61,
            41.86,
            42.05,
            40.94,
            41.84,
            40.5,
            41.32,
            40.87
           ],
           "y": [
            24.24,
            29.55,
            37.02,
            22.35,
            24.16,
            16.23,
            27.11,
            25.65,
            34.31,
            22.68,
            21.14
           ]
          },
          {
           "hoverinfo": "text",
           "hovertext": [
            "nflId:41263.0<br>displayName:Demarcus Lawrence<br>Position:LEO<br>Role:Pass Rush",
            "nflId:42403.0<br>displayName:Randy Gregory<br>Position:ROLB<br>Role:Pass Rush",
            "nflId:43306.0<br>displayName:Keanu Neal<br>Position:ROLB<br>Role:Coverage",
            "nflId:43478.0<br>displayName:Anthony Brown<br>Position:RCB<br>Role:Coverage",
            "nflId:44904.0<br>displayName:Jourdan Lewis<br>Position:SCBR<br>Role:Coverage",
            "nflId:44955.0<br>displayName:Carlos Watkins<br>Position:DRT<br>Role:Pass Rush",
            "nflId:44962.0<br>displayName:Damontae Kazee<br>Position:FS<br>Role:Coverage",
            "nflId:47996.0<br>displayName:Donovan Wilson<br>Position:LILB<br>Role:Coverage",
            "nflId:52459.0<br>displayName:Trevon Diggs<br>Position:LCB<br>Role:Coverage",
            "nflId:53441.0<br>displayName:Micah Parsons<br>Position:LILB<br>Role:Pass Rush",
            "nflId:53504.0<br>displayName:Osa Odighizuwa<br>Position:RE<br>Role:Pass Rush"
           ],
           "marker": {
            "color": "#003594"
           },
           "mode": "markers",
           "name": "DAL",
           "type": "scatter",
           "x": [
            42.87,
            43.49,
            44.73,
            43.73,
            44.62,
            42.96,
            59.44,
            47.91,
            43.38,
            43.36,
            43.55
           ],
           "y": [
            18.98,
            32.46,
            29.15,
            37.65,
            35.68,
            25.28,
            27.16,
            22.06,
            15.72,
            22.07,
            26.73
           ]
          },
          {
           "hoverinfo": "none",
           "marker": {
            "color": "#CBB67C"
           },
           "mode": "markers",
           "name": "football",
           "type": "scatter",
           "x": [
            40.27
           ],
           "y": [
            23.97
           ]
          }
         ],
         "name": "9"
        },
        {
         "data": [
          {
           "hoverinfo": "none",
           "mode": "text",
           "showlegend": false,
           "text": [
            "10",
            "20",
            "30",
            "40",
            "50",
            "40",
            "30",
            "20",
            "10"
           ],
           "textfont": {
            "color": "#ffffff",
            "family": "Courier New, monospace",
            "size": 30
           },
           "type": "scatter",
           "x": [
            20,
            30,
            40,
            50,
            60,
            70,
            80,
            90,
            100
           ],
           "y": [
            5,
            5,
            5,
            5,
            5,
            5,
            5,
            5,
            5
           ]
          },
          {
           "hoverinfo": "none",
           "mode": "text",
           "showlegend": false,
           "text": [
            "10",
            "20",
            "30",
            "40",
            "50",
            "40",
            "30",
            "20",
            "10"
           ],
           "textfont": {
            "color": "#ffffff",
            "family": "Courier New, monospace",
            "size": 30
           },
           "type": "scatter",
           "x": [
            20,
            30,
            40,
            50,
            60,
            70,
            80,
            90,
            100
           ],
           "y": [
            48.5,
            48.5,
            48.5,
            48.5,
            48.5,
            48.5,
            48.5,
            48.5,
            48.5
           ]
          },
          {
           "hoverinfo": "none",
           "line": {
            "color": "blue",
            "dash": "dash"
           },
           "showlegend": false,
           "type": "scatter",
           "x": [
            43,
            43
           ],
           "y": [
            0,
            53.5
           ]
          },
          {
           "hoverinfo": "none",
           "line": {
            "color": "yellow",
            "dash": "dash"
           },
           "showlegend": false,
           "type": "scatter",
           "x": [
            45,
            45
           ],
           "y": [
            0,
            53.5
           ]
          },
          {
           "hoverinfo": "text",
           "hovertext": [
            "nflId:25511.0<br>displayName:Tom Brady<br>Position:QB<br>Role:Pass",
            "nflId:35481.0<br>displayName:Rob Gronkowski<br>Position:TE-L<br>Role:Pass Route",
            "nflId:35634.0<br>displayName:Antonio Brown<br>Position:LWR<br>Role:Pass Route",
            "nflId:39985.0<br>displayName:Giovani Bernard<br>Position:HB-R<br>Role:Pass Route",
            "nflId:40151.0<br>displayName:Ryan Jensen<br>Position:C<br>Role:Pass Block",
            "nflId:41233.0<br>displayName:Mike Evans<br>Position:RWR<br>Role:Pass Route",
            "nflId:42377.0<br>displayName:Donovan Smith<br>Position:LT<br>Role:Pass Block",
            "nflId:42404.0<br>displayName:Ali Marpet<br>Position:LG<br>Role:Pass Block",
            "nflId:44896.0<br>displayName:Chris Godwin<br>Position:SLWR<br>Role:Pass Route",
            "nflId:46163.0<br>displayName:Alex Cappa<br>Position:RG<br>Role:Pass Block",
            "nflId:52421.0<br>displayName:Tristan Wirfs<br>Position:RT<br>Role:Pass Block"
           ],
           "marker": {
            "color": "#D50A0A"
           },
           "mode": "markers",
           "name": "TB",
           "type": "scatter",
           "x": [
            37.27,
            42.21,
            41.54,
            37.65,
            41.74,
            42.09,
            40.72,
            41.73,
            40.69,
            41.25,
            40.75
           ],
           "y": [
            24.23,
            29.71,
            37.18,
            22.38,
            24.24,
            16.25,
            27.2,
            25.66,
            34.08,
            22.69,
            21.05
           ]
          },
          {
           "hoverinfo": "text",
           "hovertext": [
            "nflId:41263.0<br>displayName:Demarcus Lawrence<br>Position:LEO<br>Role:Pass Rush",
            "nflId:42403.0<br>displayName:Randy Gregory<br>Position:ROLB<br>Role:Pass Rush",
            "nflId:43306.0<br>displayName:Keanu Neal<br>Position:ROLB<br>Role:Coverage",
            "nflId:43478.0<br>displayName:Anthony Brown<br>Position:RCB<br>Role:Coverage",
            "nflId:44904.0<br>displayName:Jourdan Lewis<br>Position:SCBR<br>Role:Coverage",
            "nflId:44955.0<br>displayName:Carlos Watkins<br>Position:DRT<br>Role:Pass Rush",
            "nflId:44962.0<br>displayName:Damontae Kazee<br>Position:FS<br>Role:Coverage",
            "nflId:47996.0<br>displayName:Donovan Wilson<br>Position:LILB<br>Role:Coverage",
            "nflId:52459.0<br>displayName:Trevon Diggs<br>Position:LCB<br>Role:Coverage",
            "nflId:53441.0<br>displayName:Micah Parsons<br>Position:LILB<br>Role:Pass Rush",
            "nflId:53504.0<br>displayName:Osa Odighizuwa<br>Position:RE<br>Role:Pass Rush"
           ],
           "marker": {
            "color": "#003594"
           },
           "mode": "markers",
           "name": "DAL",
           "type": "scatter",
           "x": [
            42.6,
            43.11,
            44.77,
            43.78,
            44.61,
            42.76,
            59.62,
            47.85,
            43.46,
            43.12,
            43.46
           ],
           "y": [
            19.09,
            32.24,
            29.19,
            37.69,
            35.47,
            25.31,
            27.14,
            21.92,
            15.69,
            22.2,
            26.77
           ]
          },
          {
           "hoverinfo": "none",
           "marker": {
            "color": "#CBB67C"
           },
           "mode": "markers",
           "name": "football",
           "type": "scatter",
           "x": [
            39.79
           ],
           "y": [
            23.98
           ]
          }
         ],
         "name": "10"
        },
        {
         "data": [
          {
           "hoverinfo": "none",
           "mode": "text",
           "showlegend": false,
           "text": [
            "10",
            "20",
            "30",
            "40",
            "50",
            "40",
            "30",
            "20",
            "10"
           ],
           "textfont": {
            "color": "#ffffff",
            "family": "Courier New, monospace",
            "size": 30
           },
           "type": "scatter",
           "x": [
            20,
            30,
            40,
            50,
            60,
            70,
            80,
            90,
            100
           ],
           "y": [
            5,
            5,
            5,
            5,
            5,
            5,
            5,
            5,
            5
           ]
          },
          {
           "hoverinfo": "none",
           "mode": "text",
           "showlegend": false,
           "text": [
            "10",
            "20",
            "30",
            "40",
            "50",
            "40",
            "30",
            "20",
            "10"
           ],
           "textfont": {
            "color": "#ffffff",
            "family": "Courier New, monospace",
            "size": 30
           },
           "type": "scatter",
           "x": [
            20,
            30,
            40,
            50,
            60,
            70,
            80,
            90,
            100
           ],
           "y": [
            48.5,
            48.5,
            48.5,
            48.5,
            48.5,
            48.5,
            48.5,
            48.5,
            48.5
           ]
          },
          {
           "hoverinfo": "none",
           "line": {
            "color": "blue",
            "dash": "dash"
           },
           "showlegend": false,
           "type": "scatter",
           "x": [
            43,
            43
           ],
           "y": [
            0,
            53.5
           ]
          },
          {
           "hoverinfo": "none",
           "line": {
            "color": "yellow",
            "dash": "dash"
           },
           "showlegend": false,
           "type": "scatter",
           "x": [
            45,
            45
           ],
           "y": [
            0,
            53.5
           ]
          },
          {
           "hoverinfo": "text",
           "hovertext": [
            "nflId:25511.0<br>displayName:Tom Brady<br>Position:QB<br>Role:Pass",
            "nflId:35481.0<br>displayName:Rob Gronkowski<br>Position:TE-L<br>Role:Pass Route",
            "nflId:35634.0<br>displayName:Antonio Brown<br>Position:LWR<br>Role:Pass Route",
            "nflId:39985.0<br>displayName:Giovani Bernard<br>Position:HB-R<br>Role:Pass Route",
            "nflId:40151.0<br>displayName:Ryan Jensen<br>Position:C<br>Role:Pass Block",
            "nflId:41233.0<br>displayName:Mike Evans<br>Position:RWR<br>Role:Pass Route",
            "nflId:42377.0<br>displayName:Donovan Smith<br>Position:LT<br>Role:Pass Block",
            "nflId:42404.0<br>displayName:Ali Marpet<br>Position:LG<br>Role:Pass Block",
            "nflId:44896.0<br>displayName:Chris Godwin<br>Position:SLWR<br>Role:Pass Route",
            "nflId:46163.0<br>displayName:Alex Cappa<br>Position:RG<br>Role:Pass Block",
            "nflId:52421.0<br>displayName:Tristan Wirfs<br>Position:RT<br>Role:Pass Block"
           ],
           "marker": {
            "color": "#D50A0A"
           },
           "mode": "markers",
           "name": "TB",
           "type": "scatter",
           "x": [
            37.14,
            42.39,
            41.77,
            37.67,
            41.58,
            42.17,
            40.46,
            41.59,
            40.9,
            41.15,
            40.6
           ],
           "y": [
            24.22,
            29.89,
            37.38,
            22.41,
            24.31,
            16.29,
            27.3,
            25.67,
            33.89,
            22.7,
            20.98
           ]
          },
          {
           "hoverinfo": "text",
           "hovertext": [
            "nflId:41263.0<br>displayName:Demarcus Lawrence<br>Position:LEO<br>Role:Pass Rush",
            "nflId:42403.0<br>displayName:Randy Gregory<br>Position:ROLB<br>Role:Pass Rush",
            "nflId:43306.0<br>displayName:Keanu Neal<br>Position:ROLB<br>Role:Coverage",
            "nflId:43478.0<br>displayName:Anthony Brown<br>Position:RCB<br>Role:Coverage",
            "nflId:44904.0<br>displayName:Jourdan Lewis<br>Position:SCBR<br>Role:Coverage",
            "nflId:44955.0<br>displayName:Carlos Watkins<br>Position:DRT<br>Role:Pass Rush",
            "nflId:44962.0<br>displayName:Damontae Kazee<br>Position:FS<br>Role:Coverage",
            "nflId:47996.0<br>displayName:Donovan Wilson<br>Position:LILB<br>Role:Coverage",
            "nflId:52459.0<br>displayName:Trevon Diggs<br>Position:LCB<br>Role:Coverage",
            "nflId:53441.0<br>displayName:Micah Parsons<br>Position:LILB<br>Role:Pass Rush",
            "nflId:53504.0<br>displayName:Osa Odighizuwa<br>Position:RE<br>Role:Pass Rush"
           ],
           "marker": {
            "color": "#003594"
           },
           "mode": "markers",
           "name": "DAL",
           "type": "scatter",
           "x": [
            42.34,
            42.71,
            44.78,
            43.87,
            44.68,
            42.55,
            59.81,
            47.8,
            43.6,
            42.81,
            43.25
           ],
           "y": [
            19.2,
            32.07,
            29.24,
            37.74,
            35.27,
            25.37,
            27.12,
            21.77,
            15.67,
            22.24,
            26.78
           ]
          },
          {
           "hoverinfo": "none",
           "marker": {
            "color": "#CBB67C"
           },
           "mode": "markers",
           "name": "football",
           "type": "scatter",
           "x": [
            39.28
           ],
           "y": [
            24
           ]
          }
         ],
         "name": "11"
        },
        {
         "data": [
          {
           "hoverinfo": "none",
           "mode": "text",
           "showlegend": false,
           "text": [
            "10",
            "20",
            "30",
            "40",
            "50",
            "40",
            "30",
            "20",
            "10"
           ],
           "textfont": {
            "color": "#ffffff",
            "family": "Courier New, monospace",
            "size": 30
           },
           "type": "scatter",
           "x": [
            20,
            30,
            40,
            50,
            60,
            70,
            80,
            90,
            100
           ],
           "y": [
            5,
            5,
            5,
            5,
            5,
            5,
            5,
            5,
            5
           ]
          },
          {
           "hoverinfo": "none",
           "mode": "text",
           "showlegend": false,
           "text": [
            "10",
            "20",
            "30",
            "40",
            "50",
            "40",
            "30",
            "20",
            "10"
           ],
           "textfont": {
            "color": "#ffffff",
            "family": "Courier New, monospace",
            "size": 30
           },
           "type": "scatter",
           "x": [
            20,
            30,
            40,
            50,
            60,
            70,
            80,
            90,
            100
           ],
           "y": [
            48.5,
            48.5,
            48.5,
            48.5,
            48.5,
            48.5,
            48.5,
            48.5,
            48.5
           ]
          },
          {
           "hoverinfo": "none",
           "line": {
            "color": "blue",
            "dash": "dash"
           },
           "showlegend": false,
           "type": "scatter",
           "x": [
            43,
            43
           ],
           "y": [
            0,
            53.5
           ]
          },
          {
           "hoverinfo": "none",
           "line": {
            "color": "yellow",
            "dash": "dash"
           },
           "showlegend": false,
           "type": "scatter",
           "x": [
            45,
            45
           ],
           "y": [
            0,
            53.5
           ]
          },
          {
           "hoverinfo": "text",
           "hovertext": [
            "nflId:25511.0<br>displayName:Tom Brady<br>Position:QB<br>Role:Pass",
            "nflId:35481.0<br>displayName:Rob Gronkowski<br>Position:TE-L<br>Role:Pass Route",
            "nflId:35634.0<br>displayName:Antonio Brown<br>Position:LWR<br>Role:Pass Route",
            "nflId:39985.0<br>displayName:Giovani Bernard<br>Position:HB-R<br>Role:Pass Route",
            "nflId:40151.0<br>displayName:Ryan Jensen<br>Position:C<br>Role:Pass Block",
            "nflId:41233.0<br>displayName:Mike Evans<br>Position:RWR<br>Role:Pass Route",
            "nflId:42377.0<br>displayName:Donovan Smith<br>Position:LT<br>Role:Pass Block",
            "nflId:42404.0<br>displayName:Ali Marpet<br>Position:LG<br>Role:Pass Block",
            "nflId:44896.0<br>displayName:Chris Godwin<br>Position:SLWR<br>Role:Pass Route",
            "nflId:46163.0<br>displayName:Alex Cappa<br>Position:RG<br>Role:Pass Block",
            "nflId:52421.0<br>displayName:Tristan Wirfs<br>Position:RT<br>Role:Pass Block"
           ],
           "marker": {
            "color": "#D50A0A"
           },
           "mode": "markers",
           "name": "TB",
           "type": "scatter",
           "x": [
            36.99,
            42.57,
            42.02,
            37.69,
            41.42,
            42.3,
            40.2,
            41.43,
            41.16,
            41.05,
            40.42
           ],
           "y": [
            24.19,
            30.13,
            37.59,
            22.44,
            24.37,
            16.36,
            27.39,
            25.67,
            33.72,
            22.71,
            20.92
           ]
          },
          {
           "hoverinfo": "text",
           "hovertext": [
            "nflId:41263.0<br>displayName:Demarcus Lawrence<br>Position:LEO<br>Role:Pass Rush",
            "nflId:42403.0<br>displayName:Randy Gregory<br>Position:ROLB<br>Role:Pass Rush",
            "nflId:43306.0<br>displayName:Keanu Neal<br>Position:ROLB<br>Role:Coverage",
            "nflId:43478.0<br>displayName:Anthony Brown<br>Position:RCB<br>Role:Coverage",
            "nflId:44904.0<br>displayName:Jourdan Lewis<br>Position:SCBR<br>Role:Coverage",
            "nflId:44955.0<br>displayName:Carlos Watkins<br>Position:DRT<br>Role:Pass Rush",
            "nflId:44962.0<br>displayName:Damontae Kazee<br>Position:FS<br>Role:Coverage",
            "nflId:47996.0<br>displayName:Donovan Wilson<br>Position:LILB<br>Role:Coverage",
            "nflId:52459.0<br>displayName:Trevon Diggs<br>Position:LCB<br>Role:Coverage",
            "nflId:53441.0<br>displayName:Micah Parsons<br>Position:LILB<br>Role:Pass Rush",
            "nflId:53504.0<br>displayName:Osa Odighizuwa<br>Position:RE<br>Role:Pass Rush"
           ],
           "marker": {
            "color": "#003594"
           },
           "mode": "markers",
           "name": "DAL",
           "type": "scatter",
           "x": [
            42.12,
            42.31,
            44.83,
            43.98,
            44.75,
            42.35,
            60.02,
            47.74,
            43.76,
            42.48,
            42.99
           ],
           "y": [
            19.29,
            31.86,
            29.3,
            37.83,
            35.08,
            25.4,
            27.11,
            21.58,
            15.65,
            22.32,
            26.7
           ]
          },
          {
           "hoverinfo": "none",
           "marker": {
            "color": "#CBB67C"
           },
           "mode": "markers",
           "name": "football",
           "type": "scatter",
           "x": [
            38.66
           ],
           "y": [
            24.01
           ]
          }
         ],
         "name": "12"
        },
        {
         "data": [
          {
           "hoverinfo": "none",
           "mode": "text",
           "showlegend": false,
           "text": [
            "10",
            "20",
            "30",
            "40",
            "50",
            "40",
            "30",
            "20",
            "10"
           ],
           "textfont": {
            "color": "#ffffff",
            "family": "Courier New, monospace",
            "size": 30
           },
           "type": "scatter",
           "x": [
            20,
            30,
            40,
            50,
            60,
            70,
            80,
            90,
            100
           ],
           "y": [
            5,
            5,
            5,
            5,
            5,
            5,
            5,
            5,
            5
           ]
          },
          {
           "hoverinfo": "none",
           "mode": "text",
           "showlegend": false,
           "text": [
            "10",
            "20",
            "30",
            "40",
            "50",
            "40",
            "30",
            "20",
            "10"
           ],
           "textfont": {
            "color": "#ffffff",
            "family": "Courier New, monospace",
            "size": 30
           },
           "type": "scatter",
           "x": [
            20,
            30,
            40,
            50,
            60,
            70,
            80,
            90,
            100
           ],
           "y": [
            48.5,
            48.5,
            48.5,
            48.5,
            48.5,
            48.5,
            48.5,
            48.5,
            48.5
           ]
          },
          {
           "hoverinfo": "none",
           "line": {
            "color": "blue",
            "dash": "dash"
           },
           "showlegend": false,
           "type": "scatter",
           "x": [
            43,
            43
           ],
           "y": [
            0,
            53.5
           ]
          },
          {
           "hoverinfo": "none",
           "line": {
            "color": "yellow",
            "dash": "dash"
           },
           "showlegend": false,
           "type": "scatter",
           "x": [
            45,
            45
           ],
           "y": [
            0,
            53.5
           ]
          },
          {
           "hoverinfo": "text",
           "hovertext": [
            "nflId:25511.0<br>displayName:Tom Brady<br>Position:QB<br>Role:Pass",
            "nflId:35481.0<br>displayName:Rob Gronkowski<br>Position:TE-L<br>Role:Pass Route",
            "nflId:35634.0<br>displayName:Antonio Brown<br>Position:LWR<br>Role:Pass Route",
            "nflId:39985.0<br>displayName:Giovani Bernard<br>Position:HB-R<br>Role:Pass Route",
            "nflId:40151.0<br>displayName:Ryan Jensen<br>Position:C<br>Role:Pass Block",
            "nflId:41233.0<br>displayName:Mike Evans<br>Position:RWR<br>Role:Pass Route",
            "nflId:42377.0<br>displayName:Donovan Smith<br>Position:LT<br>Role:Pass Block",
            "nflId:42404.0<br>displayName:Ali Marpet<br>Position:LG<br>Role:Pass Block",
            "nflId:44896.0<br>displayName:Chris Godwin<br>Position:SLWR<br>Role:Pass Route",
            "nflId:46163.0<br>displayName:Alex Cappa<br>Position:RG<br>Role:Pass Block",
            "nflId:52421.0<br>displayName:Tristan Wirfs<br>Position:RT<br>Role:Pass Block"
           ],
           "marker": {
            "color": "#D50A0A"
           },
           "mode": "markers",
           "name": "TB",
           "type": "scatter",
           "x": [
            36.8,
            42.74,
            42.34,
            37.71,
            41.23,
            42.49,
            39.95,
            41.23,
            41.47,
            40.92,
            40.27
           ],
           "y": [
            24.16,
            30.4,
            37.87,
            22.47,
            24.43,
            16.46,
            27.49,
            25.68,
            33.54,
            22.69,
            20.89
           ]
          },
          {
           "hoverinfo": "text",
           "hovertext": [
            "nflId:41263.0<br>displayName:Demarcus Lawrence<br>Position:LEO<br>Role:Pass Rush",
            "nflId:42403.0<br>displayName:Randy Gregory<br>Position:ROLB<br>Role:Pass Rush",
            "nflId:43306.0<br>displayName:Keanu Neal<br>Position:ROLB<br>Role:Coverage",
            "nflId:43478.0<br>displayName:Anthony Brown<br>Position:RCB<br>Role:Coverage",
            "nflId:44904.0<br>displayName:Jourdan Lewis<br>Position:SCBR<br>Role:Coverage",
            "nflId:44955.0<br>displayName:Carlos Watkins<br>Position:DRT<br>Role:Pass Rush",
            "nflId:44962.0<br>displayName:Damontae Kazee<br>Position:FS<br>Role:Coverage",
            "nflId:47996.0<br>displayName:Donovan Wilson<br>Position:LILB<br>Role:Coverage",
            "nflId:52459.0<br>displayName:Trevon Diggs<br>Position:LCB<br>Role:Coverage",
            "nflId:53441.0<br>displayName:Micah Parsons<br>Position:LILB<br>Role:Pass Rush",
            "nflId:53504.0<br>displayName:Osa Odighizuwa<br>Position:RE<br>Role:Pass Rush"
           ],
           "marker": {
            "color": "#003594"
           },
           "mode": "markers",
           "name": "DAL",
           "type": "scatter",
           "x": [
            41.9,
            41.87,
            44.86,
            44.13,
            44.83,
            42.15,
            60.24,
            47.67,
            44.01,
            42.12,
            42.78
           ],
           "y": [
            19.5,
            31.65,
            29.4,
            37.94,
            34.88,
            25.44,
            27.09,
            21.4,
            15.66,
            22.41,
            26.62
           ]
          },
          {
           "hoverinfo": "none",
           "marker": {
            "color": "#CBB67C"
           },
           "mode": "markers",
           "name": "football",
           "type": "scatter",
           "x": [
            37.95
           ],
           "y": [
            24.02
           ]
          }
         ],
         "name": "13"
        },
        {
         "data": [
          {
           "hoverinfo": "none",
           "mode": "text",
           "showlegend": false,
           "text": [
            "10",
            "20",
            "30",
            "40",
            "50",
            "40",
            "30",
            "20",
            "10"
           ],
           "textfont": {
            "color": "#ffffff",
            "family": "Courier New, monospace",
            "size": 30
           },
           "type": "scatter",
           "x": [
            20,
            30,
            40,
            50,
            60,
            70,
            80,
            90,
            100
           ],
           "y": [
            5,
            5,
            5,
            5,
            5,
            5,
            5,
            5,
            5
           ]
          },
          {
           "hoverinfo": "none",
           "mode": "text",
           "showlegend": false,
           "text": [
            "10",
            "20",
            "30",
            "40",
            "50",
            "40",
            "30",
            "20",
            "10"
           ],
           "textfont": {
            "color": "#ffffff",
            "family": "Courier New, monospace",
            "size": 30
           },
           "type": "scatter",
           "x": [
            20,
            30,
            40,
            50,
            60,
            70,
            80,
            90,
            100
           ],
           "y": [
            48.5,
            48.5,
            48.5,
            48.5,
            48.5,
            48.5,
            48.5,
            48.5,
            48.5
           ]
          },
          {
           "hoverinfo": "none",
           "line": {
            "color": "blue",
            "dash": "dash"
           },
           "showlegend": false,
           "type": "scatter",
           "x": [
            43,
            43
           ],
           "y": [
            0,
            53.5
           ]
          },
          {
           "hoverinfo": "none",
           "line": {
            "color": "yellow",
            "dash": "dash"
           },
           "showlegend": false,
           "type": "scatter",
           "x": [
            45,
            45
           ],
           "y": [
            0,
            53.5
           ]
          },
          {
           "hoverinfo": "text",
           "hovertext": [
            "nflId:25511.0<br>displayName:Tom Brady<br>Position:QB<br>Role:Pass",
            "nflId:35481.0<br>displayName:Rob Gronkowski<br>Position:TE-L<br>Role:Pass Route",
            "nflId:35634.0<br>displayName:Antonio Brown<br>Position:LWR<br>Role:Pass Route",
            "nflId:39985.0<br>displayName:Giovani Bernard<br>Position:HB-R<br>Role:Pass Route",
            "nflId:40151.0<br>displayName:Ryan Jensen<br>Position:C<br>Role:Pass Block",
            "nflId:41233.0<br>displayName:Mike Evans<br>Position:RWR<br>Role:Pass Route",
            "nflId:42377.0<br>displayName:Donovan Smith<br>Position:LT<br>Role:Pass Block",
            "nflId:42404.0<br>displayName:Ali Marpet<br>Position:LG<br>Role:Pass Block",
            "nflId:44896.0<br>displayName:Chris Godwin<br>Position:SLWR<br>Role:Pass Route",
            "nflId:46163.0<br>displayName:Alex Cappa<br>Position:RG<br>Role:Pass Block",
            "nflId:52421.0<br>displayName:Tristan Wirfs<br>Position:RT<br>Role:Pass Block"
           ],
           "marker": {
            "color": "#D50A0A"
           },
           "mode": "markers",
           "name": "TB",
           "type": "scatter",
           "x": [
            36.56,
            42.9,
            42.65,
            37.73,
            41.01,
            42.73,
            39.67,
            41.05,
            41.8,
            40.79,
            40.1
           ],
           "y": [
            24.15,
            30.69,
            38.16,
            22.49,
            24.49,
            16.61,
            27.59,
            25.68,
            33.38,
            22.66,
            20.86
           ]
          },
          {
           "hoverinfo": "text",
           "hovertext": [
            "nflId:41263.0<br>displayName:Demarcus Lawrence<br>Position:LEO<br>Role:Pass Rush",
            "nflId:42403.0<br>displayName:Randy Gregory<br>Position:ROLB<br>Role:Pass Rush",
            "nflId:43306.0<br>displayName:Keanu Neal<br>Position:ROLB<br>Role:Coverage",
            "nflId:43478.0<br>displayName:Anthony Brown<br>Position:RCB<br>Role:Coverage",
            "nflId:44904.0<br>displayName:Jourdan Lewis<br>Position:SCBR<br>Role:Coverage",
            "nflId:44955.0<br>displayName:Carlos Watkins<br>Position:DRT<br>Role:Pass Rush",
            "nflId:44962.0<br>displayName:Damontae Kazee<br>Position:FS<br>Role:Coverage",
            "nflId:47996.0<br>displayName:Donovan Wilson<br>Position:LILB<br>Role:Coverage",
            "nflId:52459.0<br>displayName:Trevon Diggs<br>Position:LCB<br>Role:Coverage",
            "nflId:53441.0<br>displayName:Micah Parsons<br>Position:LILB<br>Role:Pass Rush",
            "nflId:53504.0<br>displayName:Osa Odighizuwa<br>Position:RE<br>Role:Pass Rush"
           ],
           "marker": {
            "color": "#003594"
           },
           "mode": "markers",
           "name": "DAL",
           "type": "scatter",
           "x": [
            41.66,
            41.36,
            44.93,
            44.31,
            44.93,
            41.89,
            60.47,
            47.6,
            44.29,
            41.73,
            42.57
           ],
           "y": [
            19.69,
            31.38,
            29.6,
            38.1,
            34.67,
            25.51,
            27.06,
            21.25,
            15.67,
            22.5,
            26.55
           ]
          },
          {
           "hoverinfo": "none",
           "marker": {
            "color": "#CBB67C"
           },
           "mode": "markers",
           "name": "football",
           "type": "scatter",
           "x": [
            37.3
           ],
           "y": [
            24.04
           ]
          }
         ],
         "name": "14"
        },
        {
         "data": [
          {
           "hoverinfo": "none",
           "mode": "text",
           "showlegend": false,
           "text": [
            "10",
            "20",
            "30",
            "40",
            "50",
            "40",
            "30",
            "20",
            "10"
           ],
           "textfont": {
            "color": "#ffffff",
            "family": "Courier New, monospace",
            "size": 30
           },
           "type": "scatter",
           "x": [
            20,
            30,
            40,
            50,
            60,
            70,
            80,
            90,
            100
           ],
           "y": [
            5,
            5,
            5,
            5,
            5,
            5,
            5,
            5,
            5
           ]
          },
          {
           "hoverinfo": "none",
           "mode": "text",
           "showlegend": false,
           "text": [
            "10",
            "20",
            "30",
            "40",
            "50",
            "40",
            "30",
            "20",
            "10"
           ],
           "textfont": {
            "color": "#ffffff",
            "family": "Courier New, monospace",
            "size": 30
           },
           "type": "scatter",
           "x": [
            20,
            30,
            40,
            50,
            60,
            70,
            80,
            90,
            100
           ],
           "y": [
            48.5,
            48.5,
            48.5,
            48.5,
            48.5,
            48.5,
            48.5,
            48.5,
            48.5
           ]
          },
          {
           "hoverinfo": "none",
           "line": {
            "color": "blue",
            "dash": "dash"
           },
           "showlegend": false,
           "type": "scatter",
           "x": [
            43,
            43
           ],
           "y": [
            0,
            53.5
           ]
          },
          {
           "hoverinfo": "none",
           "line": {
            "color": "yellow",
            "dash": "dash"
           },
           "showlegend": false,
           "type": "scatter",
           "x": [
            45,
            45
           ],
           "y": [
            0,
            53.5
           ]
          },
          {
           "hoverinfo": "text",
           "hovertext": [
            "nflId:25511.0<br>displayName:Tom Brady<br>Position:QB<br>Role:Pass",
            "nflId:35481.0<br>displayName:Rob Gronkowski<br>Position:TE-L<br>Role:Pass Route",
            "nflId:35634.0<br>displayName:Antonio Brown<br>Position:LWR<br>Role:Pass Route",
            "nflId:39985.0<br>displayName:Giovani Bernard<br>Position:HB-R<br>Role:Pass Route",
            "nflId:40151.0<br>displayName:Ryan Jensen<br>Position:C<br>Role:Pass Block",
            "nflId:41233.0<br>displayName:Mike Evans<br>Position:RWR<br>Role:Pass Route",
            "nflId:42377.0<br>displayName:Donovan Smith<br>Position:LT<br>Role:Pass Block",
            "nflId:42404.0<br>displayName:Ali Marpet<br>Position:LG<br>Role:Pass Block",
            "nflId:44896.0<br>displayName:Chris Godwin<br>Position:SLWR<br>Role:Pass Route",
            "nflId:46163.0<br>displayName:Alex Cappa<br>Position:RG<br>Role:Pass Block",
            "nflId:52421.0<br>displayName:Tristan Wirfs<br>Position:RT<br>Role:Pass Block"
           ],
           "marker": {
            "color": "#D50A0A"
           },
           "mode": "markers",
           "name": "TB",
           "type": "scatter",
           "x": [
            36.34,
            43.04,
            43.02,
            37.75,
            40.82,
            43.01,
            39.39,
            40.88,
            42.17,
            40.63,
            39.93
           ],
           "y": [
            24.12,
            31.01,
            38.47,
            22.52,
            24.55,
            16.8,
            27.67,
            25.67,
            33.19,
            22.62,
            20.85
           ]
          },
          {
           "hoverinfo": "text",
           "hovertext": [
            "nflId:41263.0<br>displayName:Demarcus Lawrence<br>Position:LEO<br>Role:Pass Rush",
            "nflId:42403.0<br>displayName:Randy Gregory<br>Position:ROLB<br>Role:Pass Rush",
            "nflId:43306.0<br>displayName:Keanu Neal<br>Position:ROLB<br>Role:Coverage",
            "nflId:43478.0<br>displayName:Anthony Brown<br>Position:RCB<br>Role:Coverage",
            "nflId:44904.0<br>displayName:Jourdan Lewis<br>Position:SCBR<br>Role:Coverage",
            "nflId:44955.0<br>displayName:Carlos Watkins<br>Position:DRT<br>Role:Pass Rush",
            "nflId:44962.0<br>displayName:Damontae Kazee<br>Position:FS<br>Role:Coverage",
            "nflId:47996.0<br>displayName:Donovan Wilson<br>Position:LILB<br>Role:Coverage",
            "nflId:52459.0<br>displayName:Trevon Diggs<br>Position:LCB<br>Role:Coverage",
            "nflId:53441.0<br>displayName:Micah Parsons<br>Position:LILB<br>Role:Pass Rush",
            "nflId:53504.0<br>displayName:Osa Odighizuwa<br>Position:RE<br>Role:Pass Rush"
           ],
           "marker": {
            "color": "#003594"
           },
           "mode": "markers",
           "name": "DAL",
           "type": "scatter",
           "x": [
            41.42,
            40.89,
            44.99,
            44.54,
            45.07,
            41.68,
            60.71,
            47.54,
            44.62,
            41.33,
            42.37
           ],
           "y": [
            19.9,
            31.09,
            29.82,
            38.32,
            34.46,
            25.58,
            27.04,
            21.17,
            15.7,
            22.52,
            26.42
           ]
          },
          {
           "hoverinfo": "none",
           "marker": {
            "color": "#CBB67C"
           },
           "mode": "markers",
           "name": "football",
           "type": "scatter",
           "x": [
            36.97
           ],
           "y": [
            24.03
           ]
          }
         ],
         "name": "15"
        },
        {
         "data": [
          {
           "hoverinfo": "none",
           "mode": "text",
           "showlegend": false,
           "text": [
            "10",
            "20",
            "30",
            "40",
            "50",
            "40",
            "30",
            "20",
            "10"
           ],
           "textfont": {
            "color": "#ffffff",
            "family": "Courier New, monospace",
            "size": 30
           },
           "type": "scatter",
           "x": [
            20,
            30,
            40,
            50,
            60,
            70,
            80,
            90,
            100
           ],
           "y": [
            5,
            5,
            5,
            5,
            5,
            5,
            5,
            5,
            5
           ]
          },
          {
           "hoverinfo": "none",
           "mode": "text",
           "showlegend": false,
           "text": [
            "10",
            "20",
            "30",
            "40",
            "50",
            "40",
            "30",
            "20",
            "10"
           ],
           "textfont": {
            "color": "#ffffff",
            "family": "Courier New, monospace",
            "size": 30
           },
           "type": "scatter",
           "x": [
            20,
            30,
            40,
            50,
            60,
            70,
            80,
            90,
            100
           ],
           "y": [
            48.5,
            48.5,
            48.5,
            48.5,
            48.5,
            48.5,
            48.5,
            48.5,
            48.5
           ]
          },
          {
           "hoverinfo": "none",
           "line": {
            "color": "blue",
            "dash": "dash"
           },
           "showlegend": false,
           "type": "scatter",
           "x": [
            43,
            43
           ],
           "y": [
            0,
            53.5
           ]
          },
          {
           "hoverinfo": "none",
           "line": {
            "color": "yellow",
            "dash": "dash"
           },
           "showlegend": false,
           "type": "scatter",
           "x": [
            45,
            45
           ],
           "y": [
            0,
            53.5
           ]
          },
          {
           "hoverinfo": "text",
           "hovertext": [
            "nflId:25511.0<br>displayName:Tom Brady<br>Position:QB<br>Role:Pass",
            "nflId:35481.0<br>displayName:Rob Gronkowski<br>Position:TE-L<br>Role:Pass Route",
            "nflId:35634.0<br>displayName:Antonio Brown<br>Position:LWR<br>Role:Pass Route",
            "nflId:39985.0<br>displayName:Giovani Bernard<br>Position:HB-R<br>Role:Pass Route",
            "nflId:40151.0<br>displayName:Ryan Jensen<br>Position:C<br>Role:Pass Block",
            "nflId:41233.0<br>displayName:Mike Evans<br>Position:RWR<br>Role:Pass Route",
            "nflId:42377.0<br>displayName:Donovan Smith<br>Position:LT<br>Role:Pass Block",
            "nflId:42404.0<br>displayName:Ali Marpet<br>Position:LG<br>Role:Pass Block",
            "nflId:44896.0<br>displayName:Chris Godwin<br>Position:SLWR<br>Role:Pass Route",
            "nflId:46163.0<br>displayName:Alex Cappa<br>Position:RG<br>Role:Pass Block",
            "nflId:52421.0<br>displayName:Tristan Wirfs<br>Position:RT<br>Role:Pass Block"
           ],
           "marker": {
            "color": "#D50A0A"
           },
           "mode": "markers",
           "name": "TB",
           "type": "scatter",
           "x": [
            36.1,
            43.16,
            43.45,
            37.78,
            40.62,
            43.33,
            39.1,
            40.7,
            42.6,
            40.45,
            39.8
           ],
           "y": [
            24.1,
            31.35,
            38.8,
            22.54,
            24.6,
            17.03,
            27.73,
            25.66,
            32.98,
            22.57,
            20.85
           ]
          },
          {
           "hoverinfo": "text",
           "hovertext": [
            "nflId:41263.0<br>displayName:Demarcus Lawrence<br>Position:LEO<br>Role:Pass Rush",
            "nflId:42403.0<br>displayName:Randy Gregory<br>Position:ROLB<br>Role:Pass Rush",
            "nflId:43306.0<br>displayName:Keanu Neal<br>Position:ROLB<br>Role:Coverage",
            "nflId:43478.0<br>displayName:Anthony Brown<br>Position:RCB<br>Role:Coverage",
            "nflId:44904.0<br>displayName:Jourdan Lewis<br>Position:SCBR<br>Role:Coverage",
            "nflId:44955.0<br>displayName:Carlos Watkins<br>Position:DRT<br>Role:Pass Rush",
            "nflId:44962.0<br>displayName:Damontae Kazee<br>Position:FS<br>Role:Coverage",
            "nflId:47996.0<br>displayName:Donovan Wilson<br>Position:LILB<br>Role:Coverage",
            "nflId:52459.0<br>displayName:Trevon Diggs<br>Position:LCB<br>Role:Coverage",
            "nflId:53441.0<br>displayName:Micah Parsons<br>Position:LILB<br>Role:Pass Rush",
            "nflId:53504.0<br>displayName:Osa Odighizuwa<br>Position:RE<br>Role:Pass Rush"
           ],
           "marker": {
            "color": "#003594"
           },
           "mode": "markers",
           "name": "DAL",
           "type": "scatter",
           "x": [
            41.18,
            40.41,
            45.02,
            44.79,
            45.24,
            41.48,
            60.96,
            47.49,
            44.98,
            40.94,
            42.17
           ],
           "y": [
            20.13,
            30.82,
            30.12,
            38.55,
            34.23,
            25.64,
            27.04,
            21.11,
            15.75,
            22.53,
            26.33
           ]
          },
          {
           "hoverinfo": "none",
           "marker": {
            "color": "#CBB67C"
           },
           "mode": "markers",
           "name": "football",
           "type": "scatter",
           "x": [
            36.51
           ],
           "y": [
            24.04
           ]
          }
         ],
         "name": "16"
        },
        {
         "data": [
          {
           "hoverinfo": "none",
           "mode": "text",
           "showlegend": false,
           "text": [
            "10",
            "20",
            "30",
            "40",
            "50",
            "40",
            "30",
            "20",
            "10"
           ],
           "textfont": {
            "color": "#ffffff",
            "family": "Courier New, monospace",
            "size": 30
           },
           "type": "scatter",
           "x": [
            20,
            30,
            40,
            50,
            60,
            70,
            80,
            90,
            100
           ],
           "y": [
            5,
            5,
            5,
            5,
            5,
            5,
            5,
            5,
            5
           ]
          },
          {
           "hoverinfo": "none",
           "mode": "text",
           "showlegend": false,
           "text": [
            "10",
            "20",
            "30",
            "40",
            "50",
            "40",
            "30",
            "20",
            "10"
           ],
           "textfont": {
            "color": "#ffffff",
            "family": "Courier New, monospace",
            "size": 30
           },
           "type": "scatter",
           "x": [
            20,
            30,
            40,
            50,
            60,
            70,
            80,
            90,
            100
           ],
           "y": [
            48.5,
            48.5,
            48.5,
            48.5,
            48.5,
            48.5,
            48.5,
            48.5,
            48.5
           ]
          },
          {
           "hoverinfo": "none",
           "line": {
            "color": "blue",
            "dash": "dash"
           },
           "showlegend": false,
           "type": "scatter",
           "x": [
            43,
            43
           ],
           "y": [
            0,
            53.5
           ]
          },
          {
           "hoverinfo": "none",
           "line": {
            "color": "yellow",
            "dash": "dash"
           },
           "showlegend": false,
           "type": "scatter",
           "x": [
            45,
            45
           ],
           "y": [
            0,
            53.5
           ]
          },
          {
           "hoverinfo": "text",
           "hovertext": [
            "nflId:25511.0<br>displayName:Tom Brady<br>Position:QB<br>Role:Pass",
            "nflId:35481.0<br>displayName:Rob Gronkowski<br>Position:TE-L<br>Role:Pass Route",
            "nflId:35634.0<br>displayName:Antonio Brown<br>Position:LWR<br>Role:Pass Route",
            "nflId:39985.0<br>displayName:Giovani Bernard<br>Position:HB-R<br>Role:Pass Route",
            "nflId:40151.0<br>displayName:Ryan Jensen<br>Position:C<br>Role:Pass Block",
            "nflId:41233.0<br>displayName:Mike Evans<br>Position:RWR<br>Role:Pass Route",
            "nflId:42377.0<br>displayName:Donovan Smith<br>Position:LT<br>Role:Pass Block",
            "nflId:42404.0<br>displayName:Ali Marpet<br>Position:LG<br>Role:Pass Block",
            "nflId:44896.0<br>displayName:Chris Godwin<br>Position:SLWR<br>Role:Pass Route",
            "nflId:46163.0<br>displayName:Alex Cappa<br>Position:RG<br>Role:Pass Block",
            "nflId:52421.0<br>displayName:Tristan Wirfs<br>Position:RT<br>Role:Pass Block"
           ],
           "marker": {
            "color": "#D50A0A"
           },
           "mode": "markers",
           "name": "TB",
           "type": "scatter",
           "x": [
            35.86,
            43.29,
            43.89,
            37.79,
            40.43,
            43.62,
            38.78,
            40.5,
            43.03,
            40.22,
            39.67
           ],
           "y": [
            24.08,
            31.71,
            39.14,
            22.55,
            24.66,
            17.37,
            27.77,
            25.68,
            32.77,
            22.51,
            20.89
           ]
          },
          {
           "hoverinfo": "text",
           "hovertext": [
            "nflId:41263.0<br>displayName:Demarcus Lawrence<br>Position:LEO<br>Role:Pass Rush",
            "nflId:42403.0<br>displayName:Randy Gregory<br>Position:ROLB<br>Role:Pass Rush",
            "nflId:43306.0<br>displayName:Keanu Neal<br>Position:ROLB<br>Role:Coverage",
            "nflId:43478.0<br>displayName:Anthony Brown<br>Position:RCB<br>Role:Coverage",
            "nflId:44904.0<br>displayName:Jourdan Lewis<br>Position:SCBR<br>Role:Coverage",
            "nflId:44955.0<br>displayName:Carlos Watkins<br>Position:DRT<br>Role:Pass Rush",
            "nflId:44962.0<br>displayName:Damontae Kazee<br>Position:FS<br>Role:Coverage",
            "nflId:47996.0<br>displayName:Donovan Wilson<br>Position:LILB<br>Role:Coverage",
            "nflId:52459.0<br>displayName:Trevon Diggs<br>Position:LCB<br>Role:Coverage",
            "nflId:53441.0<br>displayName:Micah Parsons<br>Position:LILB<br>Role:Pass Rush",
            "nflId:53504.0<br>displayName:Osa Odighizuwa<br>Position:RE<br>Role:Pass Rush"
           ],
           "marker": {
            "color": "#003594"
           },
           "mode": "markers",
           "name": "DAL",
           "type": "scatter",
           "x": [
            40.96,
            39.9,
            45.07,
            45.1,
            45.43,
            41.27,
            61.23,
            47.44,
            45.36,
            40.58,
            41.95
           ],
           "y": [
            20.38,
            30.54,
            30.46,
            38.81,
            33.98,
            25.68,
            27.05,
            21.05,
            15.82,
            22.52,
            26.2
           ]
          },
          {
           "hoverinfo": "none",
           "marker": {
            "color": "#CBB67C"
           },
           "mode": "markers",
           "name": "football",
           "type": "scatter",
           "x": [
            36.26
           ],
           "y": [
            23.99
           ]
          }
         ],
         "name": "17"
        },
        {
         "data": [
          {
           "hoverinfo": "none",
           "mode": "text",
           "showlegend": false,
           "text": [
            "10",
            "20",
            "30",
            "40",
            "50",
            "40",
            "30",
            "20",
            "10"
           ],
           "textfont": {
            "color": "#ffffff",
            "family": "Courier New, monospace",
            "size": 30
           },
           "type": "scatter",
           "x": [
            20,
            30,
            40,
            50,
            60,
            70,
            80,
            90,
            100
           ],
           "y": [
            5,
            5,
            5,
            5,
            5,
            5,
            5,
            5,
            5
           ]
          },
          {
           "hoverinfo": "none",
           "mode": "text",
           "showlegend": false,
           "text": [
            "10",
            "20",
            "30",
            "40",
            "50",
            "40",
            "30",
            "20",
            "10"
           ],
           "textfont": {
            "color": "#ffffff",
            "family": "Courier New, monospace",
            "size": 30
           },
           "type": "scatter",
           "x": [
            20,
            30,
            40,
            50,
            60,
            70,
            80,
            90,
            100
           ],
           "y": [
            48.5,
            48.5,
            48.5,
            48.5,
            48.5,
            48.5,
            48.5,
            48.5,
            48.5
           ]
          },
          {
           "hoverinfo": "none",
           "line": {
            "color": "blue",
            "dash": "dash"
           },
           "showlegend": false,
           "type": "scatter",
           "x": [
            43,
            43
           ],
           "y": [
            0,
            53.5
           ]
          },
          {
           "hoverinfo": "none",
           "line": {
            "color": "yellow",
            "dash": "dash"
           },
           "showlegend": false,
           "type": "scatter",
           "x": [
            45,
            45
           ],
           "y": [
            0,
            53.5
           ]
          },
          {
           "hoverinfo": "text",
           "hovertext": [
            "nflId:25511.0<br>displayName:Tom Brady<br>Position:QB<br>Role:Pass",
            "nflId:35481.0<br>displayName:Rob Gronkowski<br>Position:TE-L<br>Role:Pass Route",
            "nflId:35634.0<br>displayName:Antonio Brown<br>Position:LWR<br>Role:Pass Route",
            "nflId:39985.0<br>displayName:Giovani Bernard<br>Position:HB-R<br>Role:Pass Route",
            "nflId:40151.0<br>displayName:Ryan Jensen<br>Position:C<br>Role:Pass Block",
            "nflId:41233.0<br>displayName:Mike Evans<br>Position:RWR<br>Role:Pass Route",
            "nflId:42377.0<br>displayName:Donovan Smith<br>Position:LT<br>Role:Pass Block",
            "nflId:42404.0<br>displayName:Ali Marpet<br>Position:LG<br>Role:Pass Block",
            "nflId:44896.0<br>displayName:Chris Godwin<br>Position:SLWR<br>Role:Pass Route",
            "nflId:46163.0<br>displayName:Alex Cappa<br>Position:RG<br>Role:Pass Block",
            "nflId:52421.0<br>displayName:Tristan Wirfs<br>Position:RT<br>Role:Pass Block"
           ],
           "marker": {
            "color": "#D50A0A"
           },
           "mode": "markers",
           "name": "TB",
           "type": "scatter",
           "x": [
            35.63,
            43.42,
            44.35,
            37.8,
            40.25,
            43.93,
            38.46,
            40.32,
            43.49,
            40.01,
            39.55
           ],
           "y": [
            24.05,
            32.1,
            39.5,
            22.56,
            24.66,
            17.72,
            27.8,
            25.69,
            32.57,
            22.51,
            20.92
           ]
          },
          {
           "hoverinfo": "text",
           "hovertext": [
            "nflId:41263.0<br>displayName:Demarcus Lawrence<br>Position:LEO<br>Role:Pass Rush",
            "nflId:42403.0<br>displayName:Randy Gregory<br>Position:ROLB<br>Role:Pass Rush",
            "nflId:43306.0<br>displayName:Keanu Neal<br>Position:ROLB<br>Role:Coverage",
            "nflId:43478.0<br>displayName:Anthony Brown<br>Position:RCB<br>Role:Coverage",
            "nflId:44904.0<br>displayName:Jourdan Lewis<br>Position:SCBR<br>Role:Coverage",
            "nflId:44955.0<br>displayName:Carlos Watkins<br>Position:DRT<br>Role:Pass Rush",
            "nflId:44962.0<br>displayName:Damontae Kazee<br>Position:FS<br>Role:Coverage",
            "nflId:47996.0<br>displayName:Donovan Wilson<br>Position:LILB<br>Role:Coverage",
            "nflId:52459.0<br>displayName:Trevon Diggs<br>Position:LCB<br>Role:Coverage",
            "nflId:53441.0<br>displayName:Micah Parsons<br>Position:LILB<br>Role:Pass Rush",
            "nflId:53504.0<br>displayName:Osa Odighizuwa<br>Position:RE<br>Role:Pass Rush"
           ],
           "marker": {
            "color": "#003594"
           },
           "mode": "markers",
           "name": "DAL",
           "type": "scatter",
           "x": [
            40.72,
            39.41,
            45.11,
            45.45,
            45.63,
            41.07,
            61.51,
            47.4,
            45.76,
            40.24,
            41.75
           ],
           "y": [
            20.75,
            30.25,
            30.85,
            39.08,
            33.72,
            25.72,
            27.07,
            21.05,
            15.9,
            22.48,
            26.07
           ]
          },
          {
           "hoverinfo": "none",
           "marker": {
            "color": "#CBB67C"
           },
           "mode": "markers",
           "name": "football",
           "type": "scatter",
           "x": [
            35.98
           ],
           "y": [
            23.99
           ]
          }
         ],
         "name": "18"
        },
        {
         "data": [
          {
           "hoverinfo": "none",
           "mode": "text",
           "showlegend": false,
           "text": [
            "10",
            "20",
            "30",
            "40",
            "50",
            "40",
            "30",
            "20",
            "10"
           ],
           "textfont": {
            "color": "#ffffff",
            "family": "Courier New, monospace",
            "size": 30
           },
           "type": "scatter",
           "x": [
            20,
            30,
            40,
            50,
            60,
            70,
            80,
            90,
            100
           ],
           "y": [
            5,
            5,
            5,
            5,
            5,
            5,
            5,
            5,
            5
           ]
          },
          {
           "hoverinfo": "none",
           "mode": "text",
           "showlegend": false,
           "text": [
            "10",
            "20",
            "30",
            "40",
            "50",
            "40",
            "30",
            "20",
            "10"
           ],
           "textfont": {
            "color": "#ffffff",
            "family": "Courier New, monospace",
            "size": 30
           },
           "type": "scatter",
           "x": [
            20,
            30,
            40,
            50,
            60,
            70,
            80,
            90,
            100
           ],
           "y": [
            48.5,
            48.5,
            48.5,
            48.5,
            48.5,
            48.5,
            48.5,
            48.5,
            48.5
           ]
          },
          {
           "hoverinfo": "none",
           "line": {
            "color": "blue",
            "dash": "dash"
           },
           "showlegend": false,
           "type": "scatter",
           "x": [
            43,
            43
           ],
           "y": [
            0,
            53.5
           ]
          },
          {
           "hoverinfo": "none",
           "line": {
            "color": "yellow",
            "dash": "dash"
           },
           "showlegend": false,
           "type": "scatter",
           "x": [
            45,
            45
           ],
           "y": [
            0,
            53.5
           ]
          },
          {
           "hoverinfo": "text",
           "hovertext": [
            "nflId:25511.0<br>displayName:Tom Brady<br>Position:QB<br>Role:Pass",
            "nflId:35481.0<br>displayName:Rob Gronkowski<br>Position:TE-L<br>Role:Pass Route",
            "nflId:35634.0<br>displayName:Antonio Brown<br>Position:LWR<br>Role:Pass Route",
            "nflId:39985.0<br>displayName:Giovani Bernard<br>Position:HB-R<br>Role:Pass Route",
            "nflId:40151.0<br>displayName:Ryan Jensen<br>Position:C<br>Role:Pass Block",
            "nflId:41233.0<br>displayName:Mike Evans<br>Position:RWR<br>Role:Pass Route",
            "nflId:42377.0<br>displayName:Donovan Smith<br>Position:LT<br>Role:Pass Block",
            "nflId:42404.0<br>displayName:Ali Marpet<br>Position:LG<br>Role:Pass Block",
            "nflId:44896.0<br>displayName:Chris Godwin<br>Position:SLWR<br>Role:Pass Route",
            "nflId:46163.0<br>displayName:Alex Cappa<br>Position:RG<br>Role:Pass Block",
            "nflId:52421.0<br>displayName:Tristan Wirfs<br>Position:RT<br>Role:Pass Block"
           ],
           "marker": {
            "color": "#D50A0A"
           },
           "mode": "markers",
           "name": "TB",
           "type": "scatter",
           "x": [
            35.42,
            43.54,
            44.85,
            37.79,
            40.05,
            44.24,
            38.14,
            40.15,
            43.96,
            39.75,
            39.43
           ],
           "y": [
            24.02,
            32.51,
            39.86,
            22.53,
            24.65,
            18.13,
            27.79,
            25.7,
            32.32,
            22.5,
            20.97
           ]
          },
          {
           "hoverinfo": "text",
           "hovertext": [
            "nflId:41263.0<br>displayName:Demarcus Lawrence<br>Position:LEO<br>Role:Pass Rush",
            "nflId:42403.0<br>displayName:Randy Gregory<br>Position:ROLB<br>Role:Pass Rush",
            "nflId:43306.0<br>displayName:Keanu Neal<br>Position:ROLB<br>Role:Coverage",
            "nflId:43478.0<br>displayName:Anthony Brown<br>Position:RCB<br>Role:Coverage",
            "nflId:44904.0<br>displayName:Jourdan Lewis<br>Position:SCBR<br>Role:Coverage",
            "nflId:44955.0<br>displayName:Carlos Watkins<br>Position:DRT<br>Role:Pass Rush",
            "nflId:44962.0<br>displayName:Damontae Kazee<br>Position:FS<br>Role:Coverage",
            "nflId:47996.0<br>displayName:Donovan Wilson<br>Position:LILB<br>Role:Coverage",
            "nflId:52459.0<br>displayName:Trevon Diggs<br>Position:LCB<br>Role:Coverage",
            "nflId:53441.0<br>displayName:Micah Parsons<br>Position:LILB<br>Role:Pass Rush",
            "nflId:53504.0<br>displayName:Osa Odighizuwa<br>Position:RE<br>Role:Pass Rush"
           ],
           "marker": {
            "color": "#003594"
           },
           "mode": "markers",
           "name": "DAL",
           "type": "scatter",
           "x": [
            40.51,
            38.94,
            45.15,
            45.87,
            45.83,
            40.87,
            61.8,
            47.35,
            46.16,
            39.94,
            41.56
           ],
           "y": [
            21.04,
            29.92,
            31.3,
            39.38,
            33.43,
            25.76,
            27.09,
            21.1,
            16.02,
            22.41,
            25.92
           ]
          },
          {
           "hoverinfo": "none",
           "marker": {
            "color": "#CBB67C"
           },
           "mode": "markers",
           "name": "football",
           "type": "scatter",
           "x": [
            35.72
           ],
           "y": [
            23.9
           ]
          }
         ],
         "name": "19"
        },
        {
         "data": [
          {
           "hoverinfo": "none",
           "mode": "text",
           "showlegend": false,
           "text": [
            "10",
            "20",
            "30",
            "40",
            "50",
            "40",
            "30",
            "20",
            "10"
           ],
           "textfont": {
            "color": "#ffffff",
            "family": "Courier New, monospace",
            "size": 30
           },
           "type": "scatter",
           "x": [
            20,
            30,
            40,
            50,
            60,
            70,
            80,
            90,
            100
           ],
           "y": [
            5,
            5,
            5,
            5,
            5,
            5,
            5,
            5,
            5
           ]
          },
          {
           "hoverinfo": "none",
           "mode": "text",
           "showlegend": false,
           "text": [
            "10",
            "20",
            "30",
            "40",
            "50",
            "40",
            "30",
            "20",
            "10"
           ],
           "textfont": {
            "color": "#ffffff",
            "family": "Courier New, monospace",
            "size": 30
           },
           "type": "scatter",
           "x": [
            20,
            30,
            40,
            50,
            60,
            70,
            80,
            90,
            100
           ],
           "y": [
            48.5,
            48.5,
            48.5,
            48.5,
            48.5,
            48.5,
            48.5,
            48.5,
            48.5
           ]
          },
          {
           "hoverinfo": "none",
           "line": {
            "color": "blue",
            "dash": "dash"
           },
           "showlegend": false,
           "type": "scatter",
           "x": [
            43,
            43
           ],
           "y": [
            0,
            53.5
           ]
          },
          {
           "hoverinfo": "none",
           "line": {
            "color": "yellow",
            "dash": "dash"
           },
           "showlegend": false,
           "type": "scatter",
           "x": [
            45,
            45
           ],
           "y": [
            0,
            53.5
           ]
          },
          {
           "hoverinfo": "text",
           "hovertext": [
            "nflId:25511.0<br>displayName:Tom Brady<br>Position:QB<br>Role:Pass",
            "nflId:35481.0<br>displayName:Rob Gronkowski<br>Position:TE-L<br>Role:Pass Route",
            "nflId:35634.0<br>displayName:Antonio Brown<br>Position:LWR<br>Role:Pass Route",
            "nflId:39985.0<br>displayName:Giovani Bernard<br>Position:HB-R<br>Role:Pass Route",
            "nflId:40151.0<br>displayName:Ryan Jensen<br>Position:C<br>Role:Pass Block",
            "nflId:41233.0<br>displayName:Mike Evans<br>Position:RWR<br>Role:Pass Route",
            "nflId:42377.0<br>displayName:Donovan Smith<br>Position:LT<br>Role:Pass Block",
            "nflId:42404.0<br>displayName:Ali Marpet<br>Position:LG<br>Role:Pass Block",
            "nflId:44896.0<br>displayName:Chris Godwin<br>Position:SLWR<br>Role:Pass Route",
            "nflId:46163.0<br>displayName:Alex Cappa<br>Position:RG<br>Role:Pass Block",
            "nflId:52421.0<br>displayName:Tristan Wirfs<br>Position:RT<br>Role:Pass Block"
           ],
           "marker": {
            "color": "#D50A0A"
           },
           "mode": "markers",
           "name": "TB",
           "type": "scatter",
           "x": [
            35.22,
            43.64,
            45.41,
            37.75,
            39.88,
            44.53,
            37.83,
            39.99,
            44.44,
            39.52,
            39.27
           ],
           "y": [
            23.98,
            32.95,
            40.21,
            22.49,
            24.63,
            18.58,
            27.74,
            25.71,
            32.05,
            22.52,
            21.06
           ]
          },
          {
           "hoverinfo": "text",
           "hovertext": [
            "nflId:41263.0<br>displayName:Demarcus Lawrence<br>Position:LEO<br>Role:Pass Rush",
            "nflId:42403.0<br>displayName:Randy Gregory<br>Position:ROLB<br>Role:Pass Rush",
            "nflId:43306.0<br>displayName:Keanu Neal<br>Position:ROLB<br>Role:Coverage",
            "nflId:43478.0<br>displayName:Anthony Brown<br>Position:RCB<br>Role:Coverage",
            "nflId:44904.0<br>displayName:Jourdan Lewis<br>Position:SCBR<br>Role:Coverage",
            "nflId:44955.0<br>displayName:Carlos Watkins<br>Position:DRT<br>Role:Pass Rush",
            "nflId:44962.0<br>displayName:Damontae Kazee<br>Position:FS<br>Role:Coverage",
            "nflId:47996.0<br>displayName:Donovan Wilson<br>Position:LILB<br>Role:Coverage",
            "nflId:52459.0<br>displayName:Trevon Diggs<br>Position:LCB<br>Role:Coverage",
            "nflId:53441.0<br>displayName:Micah Parsons<br>Position:LILB<br>Role:Pass Rush",
            "nflId:53504.0<br>displayName:Osa Odighizuwa<br>Position:RE<br>Role:Pass Rush"
           ],
           "marker": {
            "color": "#003594"
           },
           "mode": "markers",
           "name": "DAL",
           "type": "scatter",
           "x": [
            40.22,
            38.5,
            45.19,
            46.29,
            46.03,
            40.65,
            62.1,
            47.29,
            46.57,
            39.65,
            41.33
           ],
           "y": [
            21.48,
            29.58,
            31.81,
            39.68,
            33.1,
            25.8,
            27.14,
            21.18,
            16.17,
            22.37,
            25.6
           ]
          },
          {
           "hoverinfo": "none",
           "marker": {
            "color": "#CBB67C"
           },
           "mode": "markers",
           "name": "football",
           "type": "scatter",
           "x": [
            35.55
           ],
           "y": [
            23.9
           ]
          }
         ],
         "name": "20"
        },
        {
         "data": [
          {
           "hoverinfo": "none",
           "mode": "text",
           "showlegend": false,
           "text": [
            "10",
            "20",
            "30",
            "40",
            "50",
            "40",
            "30",
            "20",
            "10"
           ],
           "textfont": {
            "color": "#ffffff",
            "family": "Courier New, monospace",
            "size": 30
           },
           "type": "scatter",
           "x": [
            20,
            30,
            40,
            50,
            60,
            70,
            80,
            90,
            100
           ],
           "y": [
            5,
            5,
            5,
            5,
            5,
            5,
            5,
            5,
            5
           ]
          },
          {
           "hoverinfo": "none",
           "mode": "text",
           "showlegend": false,
           "text": [
            "10",
            "20",
            "30",
            "40",
            "50",
            "40",
            "30",
            "20",
            "10"
           ],
           "textfont": {
            "color": "#ffffff",
            "family": "Courier New, monospace",
            "size": 30
           },
           "type": "scatter",
           "x": [
            20,
            30,
            40,
            50,
            60,
            70,
            80,
            90,
            100
           ],
           "y": [
            48.5,
            48.5,
            48.5,
            48.5,
            48.5,
            48.5,
            48.5,
            48.5,
            48.5
           ]
          },
          {
           "hoverinfo": "none",
           "line": {
            "color": "blue",
            "dash": "dash"
           },
           "showlegend": false,
           "type": "scatter",
           "x": [
            43,
            43
           ],
           "y": [
            0,
            53.5
           ]
          },
          {
           "hoverinfo": "none",
           "line": {
            "color": "yellow",
            "dash": "dash"
           },
           "showlegend": false,
           "type": "scatter",
           "x": [
            45,
            45
           ],
           "y": [
            0,
            53.5
           ]
          },
          {
           "hoverinfo": "text",
           "hovertext": [
            "nflId:25511.0<br>displayName:Tom Brady<br>Position:QB<br>Role:Pass",
            "nflId:35481.0<br>displayName:Rob Gronkowski<br>Position:TE-L<br>Role:Pass Route",
            "nflId:35634.0<br>displayName:Antonio Brown<br>Position:LWR<br>Role:Pass Route",
            "nflId:39985.0<br>displayName:Giovani Bernard<br>Position:HB-R<br>Role:Pass Route",
            "nflId:40151.0<br>displayName:Ryan Jensen<br>Position:C<br>Role:Pass Block",
            "nflId:41233.0<br>displayName:Mike Evans<br>Position:RWR<br>Role:Pass Route",
            "nflId:42377.0<br>displayName:Donovan Smith<br>Position:LT<br>Role:Pass Block",
            "nflId:42404.0<br>displayName:Ali Marpet<br>Position:LG<br>Role:Pass Block",
            "nflId:44896.0<br>displayName:Chris Godwin<br>Position:SLWR<br>Role:Pass Route",
            "nflId:46163.0<br>displayName:Alex Cappa<br>Position:RG<br>Role:Pass Block",
            "nflId:52421.0<br>displayName:Tristan Wirfs<br>Position:RT<br>Role:Pass Block"
           ],
           "marker": {
            "color": "#D50A0A"
           },
           "mode": "markers",
           "name": "TB",
           "type": "scatter",
           "x": [
            35.04,
            43.74,
            46,
            37.68,
            39.72,
            44.78,
            37.54,
            39.82,
            44.91,
            39.28,
            39.11
           ],
           "y": [
            23.96,
            33.41,
            40.55,
            22.4,
            24.61,
            19.07,
            27.7,
            25.72,
            31.76,
            22.53,
            21.13
           ]
          },
          {
           "hoverinfo": "text",
           "hovertext": [
            "nflId:41263.0<br>displayName:Demarcus Lawrence<br>Position:LEO<br>Role:Pass Rush",
            "nflId:42403.0<br>displayName:Randy Gregory<br>Position:ROLB<br>Role:Pass Rush",
            "nflId:43306.0<br>displayName:Keanu Neal<br>Position:ROLB<br>Role:Coverage",
            "nflId:43478.0<br>displayName:Anthony Brown<br>Position:RCB<br>Role:Coverage",
            "nflId:44904.0<br>displayName:Jourdan Lewis<br>Position:SCBR<br>Role:Coverage",
            "nflId:44955.0<br>displayName:Carlos Watkins<br>Position:DRT<br>Role:Pass Rush",
            "nflId:44962.0<br>displayName:Damontae Kazee<br>Position:FS<br>Role:Coverage",
            "nflId:47996.0<br>displayName:Donovan Wilson<br>Position:LILB<br>Role:Coverage",
            "nflId:52459.0<br>displayName:Trevon Diggs<br>Position:LCB<br>Role:Coverage",
            "nflId:53441.0<br>displayName:Micah Parsons<br>Position:LILB<br>Role:Pass Rush",
            "nflId:53504.0<br>displayName:Osa Odighizuwa<br>Position:RE<br>Role:Pass Rush"
           ],
           "marker": {
            "color": "#003594"
           },
           "mode": "markers",
           "name": "DAL",
           "type": "scatter",
           "x": [
            39.97,
            38.06,
            45.23,
            46.79,
            46.3,
            40.45,
            62.4,
            47.23,
            46.95,
            39.38,
            41.12
           ],
           "y": [
            21.85,
            29.23,
            32.35,
            39.98,
            32.74,
            25.82,
            27.21,
            21.32,
            16.36,
            22.32,
            25.34
           ]
          },
          {
           "hoverinfo": "none",
           "marker": {
            "color": "#CBB67C"
           },
           "mode": "markers",
           "name": "football",
           "type": "scatter",
           "x": [
            35.35
           ],
           "y": [
            23.82
           ]
          }
         ],
         "name": "21"
        },
        {
         "data": [
          {
           "hoverinfo": "none",
           "mode": "text",
           "showlegend": false,
           "text": [
            "10",
            "20",
            "30",
            "40",
            "50",
            "40",
            "30",
            "20",
            "10"
           ],
           "textfont": {
            "color": "#ffffff",
            "family": "Courier New, monospace",
            "size": 30
           },
           "type": "scatter",
           "x": [
            20,
            30,
            40,
            50,
            60,
            70,
            80,
            90,
            100
           ],
           "y": [
            5,
            5,
            5,
            5,
            5,
            5,
            5,
            5,
            5
           ]
          },
          {
           "hoverinfo": "none",
           "mode": "text",
           "showlegend": false,
           "text": [
            "10",
            "20",
            "30",
            "40",
            "50",
            "40",
            "30",
            "20",
            "10"
           ],
           "textfont": {
            "color": "#ffffff",
            "family": "Courier New, monospace",
            "size": 30
           },
           "type": "scatter",
           "x": [
            20,
            30,
            40,
            50,
            60,
            70,
            80,
            90,
            100
           ],
           "y": [
            48.5,
            48.5,
            48.5,
            48.5,
            48.5,
            48.5,
            48.5,
            48.5,
            48.5
           ]
          },
          {
           "hoverinfo": "none",
           "line": {
            "color": "blue",
            "dash": "dash"
           },
           "showlegend": false,
           "type": "scatter",
           "x": [
            43,
            43
           ],
           "y": [
            0,
            53.5
           ]
          },
          {
           "hoverinfo": "none",
           "line": {
            "color": "yellow",
            "dash": "dash"
           },
           "showlegend": false,
           "type": "scatter",
           "x": [
            45,
            45
           ],
           "y": [
            0,
            53.5
           ]
          },
          {
           "hoverinfo": "text",
           "hovertext": [
            "nflId:25511.0<br>displayName:Tom Brady<br>Position:QB<br>Role:Pass",
            "nflId:35481.0<br>displayName:Rob Gronkowski<br>Position:TE-L<br>Role:Pass Route",
            "nflId:35634.0<br>displayName:Antonio Brown<br>Position:LWR<br>Role:Pass Route",
            "nflId:39985.0<br>displayName:Giovani Bernard<br>Position:HB-R<br>Role:Pass Route",
            "nflId:40151.0<br>displayName:Ryan Jensen<br>Position:C<br>Role:Pass Block",
            "nflId:41233.0<br>displayName:Mike Evans<br>Position:RWR<br>Role:Pass Route",
            "nflId:42377.0<br>displayName:Donovan Smith<br>Position:LT<br>Role:Pass Block",
            "nflId:42404.0<br>displayName:Ali Marpet<br>Position:LG<br>Role:Pass Block",
            "nflId:44896.0<br>displayName:Chris Godwin<br>Position:SLWR<br>Role:Pass Route",
            "nflId:46163.0<br>displayName:Alex Cappa<br>Position:RG<br>Role:Pass Block",
            "nflId:52421.0<br>displayName:Tristan Wirfs<br>Position:RT<br>Role:Pass Block"
           ],
           "marker": {
            "color": "#D50A0A"
           },
           "mode": "markers",
           "name": "TB",
           "type": "scatter",
           "x": [
            34.86,
            43.84,
            46.63,
            37.6,
            39.57,
            44.99,
            37.21,
            39.66,
            45.39,
            39.04,
            38.95
           ],
           "y": [
            23.94,
            33.89,
            40.87,
            22.3,
            24.57,
            19.58,
            27.5,
            25.73,
            31.44,
            22.59,
            21.2
           ]
          },
          {
           "hoverinfo": "text",
           "hovertext": [
            "nflId:41263.0<br>displayName:Demarcus Lawrence<br>Position:LEO<br>Role:Pass Rush",
            "nflId:42403.0<br>displayName:Randy Gregory<br>Position:ROLB<br>Role:Pass Rush",
            "nflId:43306.0<br>displayName:Keanu Neal<br>Position:ROLB<br>Role:Coverage",
            "nflId:43478.0<br>displayName:Anthony Brown<br>Position:RCB<br>Role:Coverage",
            "nflId:44904.0<br>displayName:Jourdan Lewis<br>Position:SCBR<br>Role:Coverage",
            "nflId:44955.0<br>displayName:Carlos Watkins<br>Position:DRT<br>Role:Pass Rush",
            "nflId:44962.0<br>displayName:Damontae Kazee<br>Position:FS<br>Role:Coverage",
            "nflId:47996.0<br>displayName:Donovan Wilson<br>Position:LILB<br>Role:Coverage",
            "nflId:52459.0<br>displayName:Trevon Diggs<br>Position:LCB<br>Role:Coverage",
            "nflId:53441.0<br>displayName:Micah Parsons<br>Position:LILB<br>Role:Pass Rush",
            "nflId:53504.0<br>displayName:Osa Odighizuwa<br>Position:RE<br>Role:Pass Rush"
           ],
           "marker": {
            "color": "#003594"
           },
           "mode": "markers",
           "name": "DAL",
           "type": "scatter",
           "x": [
            39.69,
            37.64,
            45.27,
            47.34,
            46.56,
            40.26,
            62.68,
            47.17,
            47.32,
            39.13,
            40.9
           ],
           "y": [
            22.2,
            28.9,
            32.95,
            40.28,
            32.37,
            25.88,
            27.33,
            21.5,
            16.59,
            22.29,
            25.11
           ]
          },
          {
           "hoverinfo": "none",
           "marker": {
            "color": "#CBB67C"
           },
           "mode": "markers",
           "name": "football",
           "type": "scatter",
           "x": [
            35.26
           ],
           "y": [
            23.81
           ]
          }
         ],
         "name": "22"
        },
        {
         "data": [
          {
           "hoverinfo": "none",
           "mode": "text",
           "showlegend": false,
           "text": [
            "10",
            "20",
            "30",
            "40",
            "50",
            "40",
            "30",
            "20",
            "10"
           ],
           "textfont": {
            "color": "#ffffff",
            "family": "Courier New, monospace",
            "size": 30
           },
           "type": "scatter",
           "x": [
            20,
            30,
            40,
            50,
            60,
            70,
            80,
            90,
            100
           ],
           "y": [
            5,
            5,
            5,
            5,
            5,
            5,
            5,
            5,
            5
           ]
          },
          {
           "hoverinfo": "none",
           "mode": "text",
           "showlegend": false,
           "text": [
            "10",
            "20",
            "30",
            "40",
            "50",
            "40",
            "30",
            "20",
            "10"
           ],
           "textfont": {
            "color": "#ffffff",
            "family": "Courier New, monospace",
            "size": 30
           },
           "type": "scatter",
           "x": [
            20,
            30,
            40,
            50,
            60,
            70,
            80,
            90,
            100
           ],
           "y": [
            48.5,
            48.5,
            48.5,
            48.5,
            48.5,
            48.5,
            48.5,
            48.5,
            48.5
           ]
          },
          {
           "hoverinfo": "none",
           "line": {
            "color": "blue",
            "dash": "dash"
           },
           "showlegend": false,
           "type": "scatter",
           "x": [
            43,
            43
           ],
           "y": [
            0,
            53.5
           ]
          },
          {
           "hoverinfo": "none",
           "line": {
            "color": "yellow",
            "dash": "dash"
           },
           "showlegend": false,
           "type": "scatter",
           "x": [
            45,
            45
           ],
           "y": [
            0,
            53.5
           ]
          },
          {
           "hoverinfo": "text",
           "hovertext": [
            "nflId:25511.0<br>displayName:Tom Brady<br>Position:QB<br>Role:Pass",
            "nflId:35481.0<br>displayName:Rob Gronkowski<br>Position:TE-L<br>Role:Pass Route",
            "nflId:35634.0<br>displayName:Antonio Brown<br>Position:LWR<br>Role:Pass Route",
            "nflId:39985.0<br>displayName:Giovani Bernard<br>Position:HB-R<br>Role:Pass Route",
            "nflId:40151.0<br>displayName:Ryan Jensen<br>Position:C<br>Role:Pass Block",
            "nflId:41233.0<br>displayName:Mike Evans<br>Position:RWR<br>Role:Pass Route",
            "nflId:42377.0<br>displayName:Donovan Smith<br>Position:LT<br>Role:Pass Block",
            "nflId:42404.0<br>displayName:Ali Marpet<br>Position:LG<br>Role:Pass Block",
            "nflId:44896.0<br>displayName:Chris Godwin<br>Position:SLWR<br>Role:Pass Route",
            "nflId:46163.0<br>displayName:Alex Cappa<br>Position:RG<br>Role:Pass Block",
            "nflId:52421.0<br>displayName:Tristan Wirfs<br>Position:RT<br>Role:Pass Block"
           ],
           "marker": {
            "color": "#D50A0A"
           },
           "mode": "markers",
           "name": "TB",
           "type": "scatter",
           "x": [
            34.68,
            43.96,
            47.29,
            37.52,
            39.45,
            45.16,
            36.9,
            39.51,
            45.88,
            38.82,
            38.83
           ],
           "y": [
            23.94,
            34.39,
            41.14,
            22.17,
            24.53,
            20.16,
            27.34,
            25.73,
            31.1,
            22.69,
            21.28
           ]
          },
          {
           "hoverinfo": "text",
           "hovertext": [
            "nflId:41263.0<br>displayName:Demarcus Lawrence<br>Position:LEO<br>Role:Pass Rush",
            "nflId:42403.0<br>displayName:Randy Gregory<br>Position:ROLB<br>Role:Pass Rush",
            "nflId:43306.0<br>displayName:Keanu Neal<br>Position:ROLB<br>Role:Coverage",
            "nflId:43478.0<br>displayName:Anthony Brown<br>Position:RCB<br>Role:Coverage",
            "nflId:44904.0<br>displayName:Jourdan Lewis<br>Position:SCBR<br>Role:Coverage",
            "nflId:44955.0<br>displayName:Carlos Watkins<br>Position:DRT<br>Role:Pass Rush",
            "nflId:44962.0<br>displayName:Damontae Kazee<br>Position:FS<br>Role:Coverage",
            "nflId:47996.0<br>displayName:Donovan Wilson<br>Position:LILB<br>Role:Coverage",
            "nflId:52459.0<br>displayName:Trevon Diggs<br>Position:LCB<br>Role:Coverage",
            "nflId:53441.0<br>displayName:Micah Parsons<br>Position:LILB<br>Role:Pass Rush",
            "nflId:53504.0<br>displayName:Osa Odighizuwa<br>Position:RE<br>Role:Pass Rush"
           ],
           "marker": {
            "color": "#003594"
           },
           "mode": "markers",
           "name": "DAL",
           "type": "scatter",
           "x": [
            39.4,
            37.24,
            45.31,
            47.92,
            46.86,
            40.12,
            62.98,
            47.11,
            47.66,
            38.9,
            40.7
           ],
           "y": [
            22.54,
            28.56,
            33.59,
            40.58,
            31.99,
            25.97,
            27.49,
            21.74,
            16.88,
            22.24,
            24.86
           ]
          },
          {
           "hoverinfo": "none",
           "marker": {
            "color": "#CBB67C"
           },
           "mode": "markers",
           "name": "football",
           "type": "scatter",
           "x": [
            35.09
           ],
           "y": [
            23.74
           ]
          }
         ],
         "name": "23"
        },
        {
         "data": [
          {
           "hoverinfo": "none",
           "mode": "text",
           "showlegend": false,
           "text": [
            "10",
            "20",
            "30",
            "40",
            "50",
            "40",
            "30",
            "20",
            "10"
           ],
           "textfont": {
            "color": "#ffffff",
            "family": "Courier New, monospace",
            "size": 30
           },
           "type": "scatter",
           "x": [
            20,
            30,
            40,
            50,
            60,
            70,
            80,
            90,
            100
           ],
           "y": [
            5,
            5,
            5,
            5,
            5,
            5,
            5,
            5,
            5
           ]
          },
          {
           "hoverinfo": "none",
           "mode": "text",
           "showlegend": false,
           "text": [
            "10",
            "20",
            "30",
            "40",
            "50",
            "40",
            "30",
            "20",
            "10"
           ],
           "textfont": {
            "color": "#ffffff",
            "family": "Courier New, monospace",
            "size": 30
           },
           "type": "scatter",
           "x": [
            20,
            30,
            40,
            50,
            60,
            70,
            80,
            90,
            100
           ],
           "y": [
            48.5,
            48.5,
            48.5,
            48.5,
            48.5,
            48.5,
            48.5,
            48.5,
            48.5
           ]
          },
          {
           "hoverinfo": "none",
           "line": {
            "color": "blue",
            "dash": "dash"
           },
           "showlegend": false,
           "type": "scatter",
           "x": [
            43,
            43
           ],
           "y": [
            0,
            53.5
           ]
          },
          {
           "hoverinfo": "none",
           "line": {
            "color": "yellow",
            "dash": "dash"
           },
           "showlegend": false,
           "type": "scatter",
           "x": [
            45,
            45
           ],
           "y": [
            0,
            53.5
           ]
          },
          {
           "hoverinfo": "text",
           "hovertext": [
            "nflId:25511.0<br>displayName:Tom Brady<br>Position:QB<br>Role:Pass",
            "nflId:35481.0<br>displayName:Rob Gronkowski<br>Position:TE-L<br>Role:Pass Route",
            "nflId:35634.0<br>displayName:Antonio Brown<br>Position:LWR<br>Role:Pass Route",
            "nflId:39985.0<br>displayName:Giovani Bernard<br>Position:HB-R<br>Role:Pass Route",
            "nflId:40151.0<br>displayName:Ryan Jensen<br>Position:C<br>Role:Pass Block",
            "nflId:41233.0<br>displayName:Mike Evans<br>Position:RWR<br>Role:Pass Route",
            "nflId:42377.0<br>displayName:Donovan Smith<br>Position:LT<br>Role:Pass Block",
            "nflId:42404.0<br>displayName:Ali Marpet<br>Position:LG<br>Role:Pass Block",
            "nflId:44896.0<br>displayName:Chris Godwin<br>Position:SLWR<br>Role:Pass Route",
            "nflId:46163.0<br>displayName:Alex Cappa<br>Position:RG<br>Role:Pass Block",
            "nflId:52421.0<br>displayName:Tristan Wirfs<br>Position:RT<br>Role:Pass Block"
           ],
           "marker": {
            "color": "#D50A0A"
           },
           "mode": "markers",
           "name": "TB",
           "type": "scatter",
           "x": [
            34.51,
            44.07,
            47.95,
            37.42,
            39.33,
            45.29,
            36.62,
            39.39,
            46.37,
            38.58,
            38.62
           ],
           "y": [
            23.92,
            34.91,
            41.39,
            22,
            24.47,
            20.75,
            27.19,
            25.76,
            30.72,
            22.79,
            21.4
           ]
          },
          {
           "hoverinfo": "text",
           "hovertext": [
            "nflId:41263.0<br>displayName:Demarcus Lawrence<br>Position:LEO<br>Role:Pass Rush",
            "nflId:42403.0<br>displayName:Randy Gregory<br>Position:ROLB<br>Role:Pass Rush",
            "nflId:43306.0<br>displayName:Keanu Neal<br>Position:ROLB<br>Role:Coverage",
            "nflId:43478.0<br>displayName:Anthony Brown<br>Position:RCB<br>Role:Coverage",
            "nflId:44904.0<br>displayName:Jourdan Lewis<br>Position:SCBR<br>Role:Coverage",
            "nflId:44955.0<br>displayName:Carlos Watkins<br>Position:DRT<br>Role:Pass Rush",
            "nflId:44962.0<br>displayName:Damontae Kazee<br>Position:FS<br>Role:Coverage",
            "nflId:47996.0<br>displayName:Donovan Wilson<br>Position:LILB<br>Role:Coverage",
            "nflId:52459.0<br>displayName:Trevon Diggs<br>Position:LCB<br>Role:Coverage",
            "nflId:53441.0<br>displayName:Micah Parsons<br>Position:LILB<br>Role:Pass Rush",
            "nflId:53504.0<br>displayName:Osa Odighizuwa<br>Position:RE<br>Role:Pass Rush"
           ],
           "marker": {
            "color": "#003594"
           },
           "mode": "markers",
           "name": "DAL",
           "type": "scatter",
           "x": [
            39.06,
            36.88,
            45.36,
            48.54,
            47.19,
            39.99,
            63.27,
            47.06,
            47.97,
            38.68,
            40.52
           ],
           "y": [
            22.85,
            28.25,
            34.29,
            40.86,
            31.59,
            26.06,
            27.68,
            22.04,
            17.23,
            22.21,
            24.63
           ]
          },
          {
           "hoverinfo": "none",
           "marker": {
            "color": "#CBB67C"
           },
           "mode": "markers",
           "name": "football",
           "type": "scatter",
           "x": [
            35.04
           ],
           "y": [
            23.73
           ]
          }
         ],
         "name": "24"
        },
        {
         "data": [
          {
           "hoverinfo": "none",
           "mode": "text",
           "showlegend": false,
           "text": [
            "10",
            "20",
            "30",
            "40",
            "50",
            "40",
            "30",
            "20",
            "10"
           ],
           "textfont": {
            "color": "#ffffff",
            "family": "Courier New, monospace",
            "size": 30
           },
           "type": "scatter",
           "x": [
            20,
            30,
            40,
            50,
            60,
            70,
            80,
            90,
            100
           ],
           "y": [
            5,
            5,
            5,
            5,
            5,
            5,
            5,
            5,
            5
           ]
          },
          {
           "hoverinfo": "none",
           "mode": "text",
           "showlegend": false,
           "text": [
            "10",
            "20",
            "30",
            "40",
            "50",
            "40",
            "30",
            "20",
            "10"
           ],
           "textfont": {
            "color": "#ffffff",
            "family": "Courier New, monospace",
            "size": 30
           },
           "type": "scatter",
           "x": [
            20,
            30,
            40,
            50,
            60,
            70,
            80,
            90,
            100
           ],
           "y": [
            48.5,
            48.5,
            48.5,
            48.5,
            48.5,
            48.5,
            48.5,
            48.5,
            48.5
           ]
          },
          {
           "hoverinfo": "none",
           "line": {
            "color": "blue",
            "dash": "dash"
           },
           "showlegend": false,
           "type": "scatter",
           "x": [
            43,
            43
           ],
           "y": [
            0,
            53.5
           ]
          },
          {
           "hoverinfo": "none",
           "line": {
            "color": "yellow",
            "dash": "dash"
           },
           "showlegend": false,
           "type": "scatter",
           "x": [
            45,
            45
           ],
           "y": [
            0,
            53.5
           ]
          },
          {
           "hoverinfo": "text",
           "hovertext": [
            "nflId:25511.0<br>displayName:Tom Brady<br>Position:QB<br>Role:Pass",
            "nflId:35481.0<br>displayName:Rob Gronkowski<br>Position:TE-L<br>Role:Pass Route",
            "nflId:35634.0<br>displayName:Antonio Brown<br>Position:LWR<br>Role:Pass Route",
            "nflId:39985.0<br>displayName:Giovani Bernard<br>Position:HB-R<br>Role:Pass Route",
            "nflId:40151.0<br>displayName:Ryan Jensen<br>Position:C<br>Role:Pass Block",
            "nflId:41233.0<br>displayName:Mike Evans<br>Position:RWR<br>Role:Pass Route",
            "nflId:42377.0<br>displayName:Donovan Smith<br>Position:LT<br>Role:Pass Block",
            "nflId:42404.0<br>displayName:Ali Marpet<br>Position:LG<br>Role:Pass Block",
            "nflId:44896.0<br>displayName:Chris Godwin<br>Position:SLWR<br>Role:Pass Route",
            "nflId:46163.0<br>displayName:Alex Cappa<br>Position:RG<br>Role:Pass Block",
            "nflId:52421.0<br>displayName:Tristan Wirfs<br>Position:RT<br>Role:Pass Block"
           ],
           "marker": {
            "color": "#D50A0A"
           },
           "mode": "markers",
           "name": "TB",
           "type": "scatter",
           "x": [
            34.36,
            44.2,
            48.63,
            37.29,
            39.22,
            45.41,
            36.34,
            39.28,
            46.85,
            38.36,
            38.42
           ],
           "y": [
            23.89,
            35.47,
            41.62,
            21.8,
            24.39,
            21.39,
            26.96,
            25.79,
            30.34,
            22.9,
            21.5
           ]
          },
          {
           "hoverinfo": "text",
           "hovertext": [
            "nflId:41263.0<br>displayName:Demarcus Lawrence<br>Position:LEO<br>Role:Pass Rush",
            "nflId:42403.0<br>displayName:Randy Gregory<br>Position:ROLB<br>Role:Pass Rush",
            "nflId:43306.0<br>displayName:Keanu Neal<br>Position:ROLB<br>Role:Coverage",
            "nflId:43478.0<br>displayName:Anthony Brown<br>Position:RCB<br>Role:Coverage",
            "nflId:44904.0<br>displayName:Jourdan Lewis<br>Position:SCBR<br>Role:Coverage",
            "nflId:44955.0<br>displayName:Carlos Watkins<br>Position:DRT<br>Role:Pass Rush",
            "nflId:44962.0<br>displayName:Damontae Kazee<br>Position:FS<br>Role:Coverage",
            "nflId:47996.0<br>displayName:Donovan Wilson<br>Position:LILB<br>Role:Coverage",
            "nflId:52459.0<br>displayName:Trevon Diggs<br>Position:LCB<br>Role:Coverage",
            "nflId:53441.0<br>displayName:Micah Parsons<br>Position:LILB<br>Role:Pass Rush",
            "nflId:53504.0<br>displayName:Osa Odighizuwa<br>Position:RE<br>Role:Pass Rush"
           ],
           "marker": {
            "color": "#003594"
           },
           "mode": "markers",
           "name": "DAL",
           "type": "scatter",
           "x": [
            38.73,
            36.56,
            45.41,
            49.18,
            47.53,
            39.9,
            63.59,
            46.99,
            48.25,
            38.46,
            40.29
           ],
           "y": [
            23.15,
            27.95,
            35.02,
            41.13,
            31.19,
            26.14,
            27.89,
            22.31,
            17.61,
            22.21,
            24.33
           ]
          },
          {
           "hoverinfo": "none",
           "marker": {
            "color": "#CBB67C"
           },
           "mode": "markers",
           "name": "football",
           "type": "scatter",
           "x": [
            34.88
           ],
           "y": [
            23.66
           ]
          }
         ],
         "name": "25"
        },
        {
         "data": [
          {
           "hoverinfo": "none",
           "mode": "text",
           "showlegend": false,
           "text": [
            "10",
            "20",
            "30",
            "40",
            "50",
            "40",
            "30",
            "20",
            "10"
           ],
           "textfont": {
            "color": "#ffffff",
            "family": "Courier New, monospace",
            "size": 30
           },
           "type": "scatter",
           "x": [
            20,
            30,
            40,
            50,
            60,
            70,
            80,
            90,
            100
           ],
           "y": [
            5,
            5,
            5,
            5,
            5,
            5,
            5,
            5,
            5
           ]
          },
          {
           "hoverinfo": "none",
           "mode": "text",
           "showlegend": false,
           "text": [
            "10",
            "20",
            "30",
            "40",
            "50",
            "40",
            "30",
            "20",
            "10"
           ],
           "textfont": {
            "color": "#ffffff",
            "family": "Courier New, monospace",
            "size": 30
           },
           "type": "scatter",
           "x": [
            20,
            30,
            40,
            50,
            60,
            70,
            80,
            90,
            100
           ],
           "y": [
            48.5,
            48.5,
            48.5,
            48.5,
            48.5,
            48.5,
            48.5,
            48.5,
            48.5
           ]
          },
          {
           "hoverinfo": "none",
           "line": {
            "color": "blue",
            "dash": "dash"
           },
           "showlegend": false,
           "type": "scatter",
           "x": [
            43,
            43
           ],
           "y": [
            0,
            53.5
           ]
          },
          {
           "hoverinfo": "none",
           "line": {
            "color": "yellow",
            "dash": "dash"
           },
           "showlegend": false,
           "type": "scatter",
           "x": [
            45,
            45
           ],
           "y": [
            0,
            53.5
           ]
          },
          {
           "hoverinfo": "text",
           "hovertext": [
            "nflId:25511.0<br>displayName:Tom Brady<br>Position:QB<br>Role:Pass",
            "nflId:35481.0<br>displayName:Rob Gronkowski<br>Position:TE-L<br>Role:Pass Route",
            "nflId:35634.0<br>displayName:Antonio Brown<br>Position:LWR<br>Role:Pass Route",
            "nflId:39985.0<br>displayName:Giovani Bernard<br>Position:HB-R<br>Role:Pass Route",
            "nflId:40151.0<br>displayName:Ryan Jensen<br>Position:C<br>Role:Pass Block",
            "nflId:41233.0<br>displayName:Mike Evans<br>Position:RWR<br>Role:Pass Route",
            "nflId:42377.0<br>displayName:Donovan Smith<br>Position:LT<br>Role:Pass Block",
            "nflId:42404.0<br>displayName:Ali Marpet<br>Position:LG<br>Role:Pass Block",
            "nflId:44896.0<br>displayName:Chris Godwin<br>Position:SLWR<br>Role:Pass Route",
            "nflId:46163.0<br>displayName:Alex Cappa<br>Position:RG<br>Role:Pass Block",
            "nflId:52421.0<br>displayName:Tristan Wirfs<br>Position:RT<br>Role:Pass Block"
           ],
           "marker": {
            "color": "#D50A0A"
           },
           "mode": "markers",
           "name": "TB",
           "type": "scatter",
           "x": [
            34.21,
            44.35,
            49.26,
            37.17,
            39.12,
            45.47,
            36.08,
            39.18,
            47.34,
            38.12,
            38.19
           ],
           "y": [
            23.85,
            36.06,
            41.82,
            21.56,
            24.3,
            22.04,
            26.7,
            25.85,
            29.95,
            23.04,
            21.6
           ]
          },
          {
           "hoverinfo": "text",
           "hovertext": [
            "nflId:41263.0<br>displayName:Demarcus Lawrence<br>Position:LEO<br>Role:Pass Rush",
            "nflId:42403.0<br>displayName:Randy Gregory<br>Position:ROLB<br>Role:Pass Rush",
            "nflId:43306.0<br>displayName:Keanu Neal<br>Position:ROLB<br>Role:Coverage",
            "nflId:43478.0<br>displayName:Anthony Brown<br>Position:RCB<br>Role:Coverage",
            "nflId:44904.0<br>displayName:Jourdan Lewis<br>Position:SCBR<br>Role:Coverage",
            "nflId:44955.0<br>displayName:Carlos Watkins<br>Position:DRT<br>Role:Pass Rush",
            "nflId:44962.0<br>displayName:Damontae Kazee<br>Position:FS<br>Role:Coverage",
            "nflId:47996.0<br>displayName:Donovan Wilson<br>Position:LILB<br>Role:Coverage",
            "nflId:52459.0<br>displayName:Trevon Diggs<br>Position:LCB<br>Role:Coverage",
            "nflId:53441.0<br>displayName:Micah Parsons<br>Position:LILB<br>Role:Pass Rush",
            "nflId:53504.0<br>displayName:Osa Odighizuwa<br>Position:RE<br>Role:Pass Rush"
           ],
           "marker": {
            "color": "#003594"
           },
           "mode": "markers",
           "name": "DAL",
           "type": "scatter",
           "x": [
            38.39,
            36.25,
            45.47,
            49.84,
            47.89,
            39.79,
            63.9,
            46.95,
            48.51,
            38.19,
            39.95
           ],
           "y": [
            23.44,
            27.65,
            35.74,
            41.39,
            30.77,
            26.28,
            28.13,
            22.56,
            18.02,
            22.34,
            23.96
           ]
          },
          {
           "hoverinfo": "none",
           "marker": {
            "color": "#CBB67C"
           },
           "mode": "markers",
           "name": "football",
           "type": "scatter",
           "x": [
            34.85
           ],
           "y": [
            23.66
           ]
          }
         ],
         "name": "26"
        },
        {
         "data": [
          {
           "hoverinfo": "none",
           "mode": "text",
           "showlegend": false,
           "text": [
            "10",
            "20",
            "30",
            "40",
            "50",
            "40",
            "30",
            "20",
            "10"
           ],
           "textfont": {
            "color": "#ffffff",
            "family": "Courier New, monospace",
            "size": 30
           },
           "type": "scatter",
           "x": [
            20,
            30,
            40,
            50,
            60,
            70,
            80,
            90,
            100
           ],
           "y": [
            5,
            5,
            5,
            5,
            5,
            5,
            5,
            5,
            5
           ]
          },
          {
           "hoverinfo": "none",
           "mode": "text",
           "showlegend": false,
           "text": [
            "10",
            "20",
            "30",
            "40",
            "50",
            "40",
            "30",
            "20",
            "10"
           ],
           "textfont": {
            "color": "#ffffff",
            "family": "Courier New, monospace",
            "size": 30
           },
           "type": "scatter",
           "x": [
            20,
            30,
            40,
            50,
            60,
            70,
            80,
            90,
            100
           ],
           "y": [
            48.5,
            48.5,
            48.5,
            48.5,
            48.5,
            48.5,
            48.5,
            48.5,
            48.5
           ]
          },
          {
           "hoverinfo": "none",
           "line": {
            "color": "blue",
            "dash": "dash"
           },
           "showlegend": false,
           "type": "scatter",
           "x": [
            43,
            43
           ],
           "y": [
            0,
            53.5
           ]
          },
          {
           "hoverinfo": "none",
           "line": {
            "color": "yellow",
            "dash": "dash"
           },
           "showlegend": false,
           "type": "scatter",
           "x": [
            45,
            45
           ],
           "y": [
            0,
            53.5
           ]
          },
          {
           "hoverinfo": "text",
           "hovertext": [
            "nflId:25511.0<br>displayName:Tom Brady<br>Position:QB<br>Role:Pass",
            "nflId:35481.0<br>displayName:Rob Gronkowski<br>Position:TE-L<br>Role:Pass Route",
            "nflId:35634.0<br>displayName:Antonio Brown<br>Position:LWR<br>Role:Pass Route",
            "nflId:39985.0<br>displayName:Giovani Bernard<br>Position:HB-R<br>Role:Pass Route",
            "nflId:40151.0<br>displayName:Ryan Jensen<br>Position:C<br>Role:Pass Block",
            "nflId:41233.0<br>displayName:Mike Evans<br>Position:RWR<br>Role:Pass Route",
            "nflId:42377.0<br>displayName:Donovan Smith<br>Position:LT<br>Role:Pass Block",
            "nflId:42404.0<br>displayName:Ali Marpet<br>Position:LG<br>Role:Pass Block",
            "nflId:44896.0<br>displayName:Chris Godwin<br>Position:SLWR<br>Role:Pass Route",
            "nflId:46163.0<br>displayName:Alex Cappa<br>Position:RG<br>Role:Pass Block",
            "nflId:52421.0<br>displayName:Tristan Wirfs<br>Position:RT<br>Role:Pass Block"
           ],
           "marker": {
            "color": "#D50A0A"
           },
           "mode": "markers",
           "name": "TB",
           "type": "scatter",
           "x": [
            34.08,
            44.5,
            49.84,
            37.04,
            39.06,
            45.53,
            35.81,
            39.09,
            47.83,
            37.92,
            37.96
           ],
           "y": [
            23.79,
            36.65,
            41.96,
            21.26,
            24.13,
            22.74,
            26.47,
            25.94,
            29.53,
            23.23,
            21.74
           ]
          },
          {
           "hoverinfo": "text",
           "hovertext": [
            "nflId:41263.0<br>displayName:Demarcus Lawrence<br>Position:LEO<br>Role:Pass Rush",
            "nflId:42403.0<br>displayName:Randy Gregory<br>Position:ROLB<br>Role:Pass Rush",
            "nflId:43306.0<br>displayName:Keanu Neal<br>Position:ROLB<br>Role:Coverage",
            "nflId:43478.0<br>displayName:Anthony Brown<br>Position:RCB<br>Role:Coverage",
            "nflId:44904.0<br>displayName:Jourdan Lewis<br>Position:SCBR<br>Role:Coverage",
            "nflId:44955.0<br>displayName:Carlos Watkins<br>Position:DRT<br>Role:Pass Rush",
            "nflId:44962.0<br>displayName:Damontae Kazee<br>Position:FS<br>Role:Coverage",
            "nflId:47996.0<br>displayName:Donovan Wilson<br>Position:LILB<br>Role:Coverage",
            "nflId:52459.0<br>displayName:Trevon Diggs<br>Position:LCB<br>Role:Coverage",
            "nflId:53441.0<br>displayName:Micah Parsons<br>Position:LILB<br>Role:Pass Rush",
            "nflId:53504.0<br>displayName:Osa Odighizuwa<br>Position:RE<br>Role:Pass Rush"
           ],
           "marker": {
            "color": "#003594"
           },
           "mode": "markers",
           "name": "DAL",
           "type": "scatter",
           "x": [
            38.04,
            35.95,
            45.53,
            50.49,
            48.27,
            39.68,
            64.24,
            46.92,
            48.71,
            37.94,
            39.66
           ],
           "y": [
            23.69,
            27.36,
            36.47,
            41.63,
            30.37,
            26.43,
            28.4,
            22.77,
            18.46,
            22.45,
            23.6
           ]
          },
          {
           "hoverinfo": "none",
           "marker": {
            "color": "#CBB67C"
           },
           "mode": "markers",
           "name": "football",
           "type": "scatter",
           "x": [
            34.83
           ],
           "y": [
            23.66
           ]
          }
         ],
         "name": "27"
        },
        {
         "data": [
          {
           "hoverinfo": "none",
           "mode": "text",
           "showlegend": false,
           "text": [
            "10",
            "20",
            "30",
            "40",
            "50",
            "40",
            "30",
            "20",
            "10"
           ],
           "textfont": {
            "color": "#ffffff",
            "family": "Courier New, monospace",
            "size": 30
           },
           "type": "scatter",
           "x": [
            20,
            30,
            40,
            50,
            60,
            70,
            80,
            90,
            100
           ],
           "y": [
            5,
            5,
            5,
            5,
            5,
            5,
            5,
            5,
            5
           ]
          },
          {
           "hoverinfo": "none",
           "mode": "text",
           "showlegend": false,
           "text": [
            "10",
            "20",
            "30",
            "40",
            "50",
            "40",
            "30",
            "20",
            "10"
           ],
           "textfont": {
            "color": "#ffffff",
            "family": "Courier New, monospace",
            "size": 30
           },
           "type": "scatter",
           "x": [
            20,
            30,
            40,
            50,
            60,
            70,
            80,
            90,
            100
           ],
           "y": [
            48.5,
            48.5,
            48.5,
            48.5,
            48.5,
            48.5,
            48.5,
            48.5,
            48.5
           ]
          },
          {
           "hoverinfo": "none",
           "line": {
            "color": "blue",
            "dash": "dash"
           },
           "showlegend": false,
           "type": "scatter",
           "x": [
            43,
            43
           ],
           "y": [
            0,
            53.5
           ]
          },
          {
           "hoverinfo": "none",
           "line": {
            "color": "yellow",
            "dash": "dash"
           },
           "showlegend": false,
           "type": "scatter",
           "x": [
            45,
            45
           ],
           "y": [
            0,
            53.5
           ]
          },
          {
           "hoverinfo": "text",
           "hovertext": [
            "nflId:25511.0<br>displayName:Tom Brady<br>Position:QB<br>Role:Pass",
            "nflId:35481.0<br>displayName:Rob Gronkowski<br>Position:TE-L<br>Role:Pass Route",
            "nflId:35634.0<br>displayName:Antonio Brown<br>Position:LWR<br>Role:Pass Route",
            "nflId:39985.0<br>displayName:Giovani Bernard<br>Position:HB-R<br>Role:Pass Route",
            "nflId:40151.0<br>displayName:Ryan Jensen<br>Position:C<br>Role:Pass Block",
            "nflId:41233.0<br>displayName:Mike Evans<br>Position:RWR<br>Role:Pass Route",
            "nflId:42377.0<br>displayName:Donovan Smith<br>Position:LT<br>Role:Pass Block",
            "nflId:42404.0<br>displayName:Ali Marpet<br>Position:LG<br>Role:Pass Block",
            "nflId:44896.0<br>displayName:Chris Godwin<br>Position:SLWR<br>Role:Pass Route",
            "nflId:46163.0<br>displayName:Alex Cappa<br>Position:RG<br>Role:Pass Block",
            "nflId:52421.0<br>displayName:Tristan Wirfs<br>Position:RT<br>Role:Pass Block"
           ],
           "marker": {
            "color": "#D50A0A"
           },
           "mode": "markers",
           "name": "TB",
           "type": "scatter",
           "x": [
            33.97,
            44.63,
            50.47,
            36.91,
            38.95,
            45.54,
            35.58,
            39.01,
            48.34,
            37.74,
            37.72
           ],
           "y": [
            23.7,
            37.25,
            42.13,
            20.94,
            23.99,
            23.44,
            26.23,
            26.11,
            29.09,
            23.41,
            21.88
           ]
          },
          {
           "hoverinfo": "text",
           "hovertext": [
            "nflId:41263.0<br>displayName:Demarcus Lawrence<br>Position:LEO<br>Role:Pass Rush",
            "nflId:42403.0<br>displayName:Randy Gregory<br>Position:ROLB<br>Role:Pass Rush",
            "nflId:43306.0<br>displayName:Keanu Neal<br>Position:ROLB<br>Role:Coverage",
            "nflId:43478.0<br>displayName:Anthony Brown<br>Position:RCB<br>Role:Coverage",
            "nflId:44904.0<br>displayName:Jourdan Lewis<br>Position:SCBR<br>Role:Coverage",
            "nflId:44955.0<br>displayName:Carlos Watkins<br>Position:DRT<br>Role:Pass Rush",
            "nflId:44962.0<br>displayName:Damontae Kazee<br>Position:FS<br>Role:Coverage",
            "nflId:47996.0<br>displayName:Donovan Wilson<br>Position:LILB<br>Role:Coverage",
            "nflId:52459.0<br>displayName:Trevon Diggs<br>Position:LCB<br>Role:Coverage",
            "nflId:53441.0<br>displayName:Micah Parsons<br>Position:LILB<br>Role:Pass Rush",
            "nflId:53504.0<br>displayName:Osa Odighizuwa<br>Position:RE<br>Role:Pass Rush"
           ],
           "marker": {
            "color": "#003594"
           },
           "mode": "markers",
           "name": "DAL",
           "type": "scatter",
           "x": [
            37.69,
            35.64,
            45.59,
            51.14,
            48.67,
            39.56,
            64.58,
            46.91,
            48.9,
            37.67,
            39.37
           ],
           "y": [
            23.93,
            27.1,
            37.21,
            41.83,
            29.94,
            26.6,
            28.68,
            22.91,
            18.94,
            22.57,
            23.23
           ]
          },
          {
           "hoverinfo": "none",
           "marker": {
            "color": "#CBB67C"
           },
           "mode": "markers",
           "name": "football",
           "type": "scatter",
           "x": [
            34.61
           ],
           "y": [
            23.56
           ]
          }
         ],
         "name": "28"
        },
        {
         "data": [
          {
           "hoverinfo": "none",
           "mode": "text",
           "showlegend": false,
           "text": [
            "10",
            "20",
            "30",
            "40",
            "50",
            "40",
            "30",
            "20",
            "10"
           ],
           "textfont": {
            "color": "#ffffff",
            "family": "Courier New, monospace",
            "size": 30
           },
           "type": "scatter",
           "x": [
            20,
            30,
            40,
            50,
            60,
            70,
            80,
            90,
            100
           ],
           "y": [
            5,
            5,
            5,
            5,
            5,
            5,
            5,
            5,
            5
           ]
          },
          {
           "hoverinfo": "none",
           "mode": "text",
           "showlegend": false,
           "text": [
            "10",
            "20",
            "30",
            "40",
            "50",
            "40",
            "30",
            "20",
            "10"
           ],
           "textfont": {
            "color": "#ffffff",
            "family": "Courier New, monospace",
            "size": 30
           },
           "type": "scatter",
           "x": [
            20,
            30,
            40,
            50,
            60,
            70,
            80,
            90,
            100
           ],
           "y": [
            48.5,
            48.5,
            48.5,
            48.5,
            48.5,
            48.5,
            48.5,
            48.5,
            48.5
           ]
          },
          {
           "hoverinfo": "none",
           "line": {
            "color": "blue",
            "dash": "dash"
           },
           "showlegend": false,
           "type": "scatter",
           "x": [
            43,
            43
           ],
           "y": [
            0,
            53.5
           ]
          },
          {
           "hoverinfo": "none",
           "line": {
            "color": "yellow",
            "dash": "dash"
           },
           "showlegend": false,
           "type": "scatter",
           "x": [
            45,
            45
           ],
           "y": [
            0,
            53.5
           ]
          },
          {
           "hoverinfo": "text",
           "hovertext": [
            "nflId:25511.0<br>displayName:Tom Brady<br>Position:QB<br>Role:Pass",
            "nflId:35481.0<br>displayName:Rob Gronkowski<br>Position:TE-L<br>Role:Pass Route",
            "nflId:35634.0<br>displayName:Antonio Brown<br>Position:LWR<br>Role:Pass Route",
            "nflId:39985.0<br>displayName:Giovani Bernard<br>Position:HB-R<br>Role:Pass Route",
            "nflId:40151.0<br>displayName:Ryan Jensen<br>Position:C<br>Role:Pass Block",
            "nflId:41233.0<br>displayName:Mike Evans<br>Position:RWR<br>Role:Pass Route",
            "nflId:42377.0<br>displayName:Donovan Smith<br>Position:LT<br>Role:Pass Block",
            "nflId:42404.0<br>displayName:Ali Marpet<br>Position:LG<br>Role:Pass Block",
            "nflId:44896.0<br>displayName:Chris Godwin<br>Position:SLWR<br>Role:Pass Route",
            "nflId:46163.0<br>displayName:Alex Cappa<br>Position:RG<br>Role:Pass Block",
            "nflId:52421.0<br>displayName:Tristan Wirfs<br>Position:RT<br>Role:Pass Block"
           ],
           "marker": {
            "color": "#D50A0A"
           },
           "mode": "markers",
           "name": "TB",
           "type": "scatter",
           "x": [
            33.86,
            44.77,
            51.02,
            36.81,
            38.85,
            45.58,
            35.28,
            38.96,
            48.86,
            37.56,
            37.46
           ],
           "y": [
            23.6,
            37.87,
            42.27,
            20.56,
            23.84,
            24.16,
            25.97,
            26.23,
            28.65,
            23.61,
            22.03
           ]
          },
          {
           "hoverinfo": "text",
           "hovertext": [
            "nflId:41263.0<br>displayName:Demarcus Lawrence<br>Position:LEO<br>Role:Pass Rush",
            "nflId:42403.0<br>displayName:Randy Gregory<br>Position:ROLB<br>Role:Pass Rush",
            "nflId:43306.0<br>displayName:Keanu Neal<br>Position:ROLB<br>Role:Coverage",
            "nflId:43478.0<br>displayName:Anthony Brown<br>Position:RCB<br>Role:Coverage",
            "nflId:44904.0<br>displayName:Jourdan Lewis<br>Position:SCBR<br>Role:Coverage",
            "nflId:44955.0<br>displayName:Carlos Watkins<br>Position:DRT<br>Role:Pass Rush",
            "nflId:44962.0<br>displayName:Damontae Kazee<br>Position:FS<br>Role:Coverage",
            "nflId:47996.0<br>displayName:Donovan Wilson<br>Position:LILB<br>Role:Coverage",
            "nflId:52459.0<br>displayName:Trevon Diggs<br>Position:LCB<br>Role:Coverage",
            "nflId:53441.0<br>displayName:Micah Parsons<br>Position:LILB<br>Role:Pass Rush",
            "nflId:53504.0<br>displayName:Osa Odighizuwa<br>Position:RE<br>Role:Pass Rush"
           ],
           "marker": {
            "color": "#003594"
           },
           "mode": "markers",
           "name": "DAL",
           "type": "scatter",
           "x": [
            37.34,
            35.38,
            45.66,
            51.75,
            49.09,
            39.53,
            64.92,
            46.9,
            49.08,
            37.41,
            39.08
           ],
           "y": [
            24.13,
            26.86,
            37.92,
            42.02,
            29.5,
            26.75,
            28.97,
            23.02,
            19.44,
            22.71,
            22.88
           ]
          },
          {
           "hoverinfo": "none",
           "marker": {
            "color": "#CBB67C"
           },
           "mode": "markers",
           "name": "football",
           "type": "scatter",
           "x": [
            34.35
           ],
           "y": [
            23.4
           ]
          }
         ],
         "name": "29"
        },
        {
         "data": [
          {
           "hoverinfo": "none",
           "mode": "text",
           "showlegend": false,
           "text": [
            "10",
            "20",
            "30",
            "40",
            "50",
            "40",
            "30",
            "20",
            "10"
           ],
           "textfont": {
            "color": "#ffffff",
            "family": "Courier New, monospace",
            "size": 30
           },
           "type": "scatter",
           "x": [
            20,
            30,
            40,
            50,
            60,
            70,
            80,
            90,
            100
           ],
           "y": [
            5,
            5,
            5,
            5,
            5,
            5,
            5,
            5,
            5
           ]
          },
          {
           "hoverinfo": "none",
           "mode": "text",
           "showlegend": false,
           "text": [
            "10",
            "20",
            "30",
            "40",
            "50",
            "40",
            "30",
            "20",
            "10"
           ],
           "textfont": {
            "color": "#ffffff",
            "family": "Courier New, monospace",
            "size": 30
           },
           "type": "scatter",
           "x": [
            20,
            30,
            40,
            50,
            60,
            70,
            80,
            90,
            100
           ],
           "y": [
            48.5,
            48.5,
            48.5,
            48.5,
            48.5,
            48.5,
            48.5,
            48.5,
            48.5
           ]
          },
          {
           "hoverinfo": "none",
           "line": {
            "color": "blue",
            "dash": "dash"
           },
           "showlegend": false,
           "type": "scatter",
           "x": [
            43,
            43
           ],
           "y": [
            0,
            53.5
           ]
          },
          {
           "hoverinfo": "none",
           "line": {
            "color": "yellow",
            "dash": "dash"
           },
           "showlegend": false,
           "type": "scatter",
           "x": [
            45,
            45
           ],
           "y": [
            0,
            53.5
           ]
          },
          {
           "hoverinfo": "text",
           "hovertext": [
            "nflId:25511.0<br>displayName:Tom Brady<br>Position:QB<br>Role:Pass",
            "nflId:35481.0<br>displayName:Rob Gronkowski<br>Position:TE-L<br>Role:Pass Route",
            "nflId:35634.0<br>displayName:Antonio Brown<br>Position:LWR<br>Role:Pass Route",
            "nflId:39985.0<br>displayName:Giovani Bernard<br>Position:HB-R<br>Role:Pass Route",
            "nflId:40151.0<br>displayName:Ryan Jensen<br>Position:C<br>Role:Pass Block",
            "nflId:41233.0<br>displayName:Mike Evans<br>Position:RWR<br>Role:Pass Route",
            "nflId:42377.0<br>displayName:Donovan Smith<br>Position:LT<br>Role:Pass Block",
            "nflId:42404.0<br>displayName:Ali Marpet<br>Position:LG<br>Role:Pass Block",
            "nflId:44896.0<br>displayName:Chris Godwin<br>Position:SLWR<br>Role:Pass Route",
            "nflId:46163.0<br>displayName:Alex Cappa<br>Position:RG<br>Role:Pass Block",
            "nflId:52421.0<br>displayName:Tristan Wirfs<br>Position:RT<br>Role:Pass Block"
           ],
           "marker": {
            "color": "#D50A0A"
           },
           "mode": "markers",
           "name": "TB",
           "type": "scatter",
           "x": [
            33.77,
            44.9,
            51.54,
            36.73,
            38.74,
            45.61,
            35.03,
            38.89,
            49.38,
            37.38,
            37.2
           ],
           "y": [
            23.43,
            38.5,
            42.4,
            20.16,
            23.67,
            24.88,
            25.73,
            26.41,
            28.18,
            23.84,
            22.18
           ]
          },
          {
           "hoverinfo": "text",
           "hovertext": [
            "nflId:41263.0<br>displayName:Demarcus Lawrence<br>Position:LEO<br>Role:Pass Rush",
            "nflId:42403.0<br>displayName:Randy Gregory<br>Position:ROLB<br>Role:Pass Rush",
            "nflId:43306.0<br>displayName:Keanu Neal<br>Position:ROLB<br>Role:Coverage",
            "nflId:43478.0<br>displayName:Anthony Brown<br>Position:RCB<br>Role:Coverage",
            "nflId:44904.0<br>displayName:Jourdan Lewis<br>Position:SCBR<br>Role:Coverage",
            "nflId:44955.0<br>displayName:Carlos Watkins<br>Position:DRT<br>Role:Pass Rush",
            "nflId:44962.0<br>displayName:Damontae Kazee<br>Position:FS<br>Role:Coverage",
            "nflId:47996.0<br>displayName:Donovan Wilson<br>Position:LILB<br>Role:Coverage",
            "nflId:52459.0<br>displayName:Trevon Diggs<br>Position:LCB<br>Role:Coverage",
            "nflId:53441.0<br>displayName:Micah Parsons<br>Position:LILB<br>Role:Pass Rush",
            "nflId:53504.0<br>displayName:Osa Odighizuwa<br>Position:RE<br>Role:Pass Rush"
           ],
           "marker": {
            "color": "#003594"
           },
           "mode": "markers",
           "name": "DAL",
           "type": "scatter",
           "x": [
            36.98,
            35.14,
            45.77,
            52.34,
            49.53,
            39.5,
            65.28,
            46.9,
            49.24,
            37.09,
            38.78
           ],
           "y": [
            24.29,
            26.64,
            38.59,
            42.2,
            29.06,
            26.91,
            29.26,
            23.08,
            19.97,
            22.84,
            22.48
           ]
          },
          {
           "hoverinfo": "none",
           "marker": {
            "color": "#CBB67C"
           },
           "mode": "markers",
           "name": "football",
           "type": "scatter",
           "x": [
            34.35
           ],
           "y": [
            23.4
           ]
          }
         ],
         "name": "30"
        },
        {
         "data": [
          {
           "hoverinfo": "none",
           "mode": "text",
           "showlegend": false,
           "text": [
            "10",
            "20",
            "30",
            "40",
            "50",
            "40",
            "30",
            "20",
            "10"
           ],
           "textfont": {
            "color": "#ffffff",
            "family": "Courier New, monospace",
            "size": 30
           },
           "type": "scatter",
           "x": [
            20,
            30,
            40,
            50,
            60,
            70,
            80,
            90,
            100
           ],
           "y": [
            5,
            5,
            5,
            5,
            5,
            5,
            5,
            5,
            5
           ]
          },
          {
           "hoverinfo": "none",
           "mode": "text",
           "showlegend": false,
           "text": [
            "10",
            "20",
            "30",
            "40",
            "50",
            "40",
            "30",
            "20",
            "10"
           ],
           "textfont": {
            "color": "#ffffff",
            "family": "Courier New, monospace",
            "size": 30
           },
           "type": "scatter",
           "x": [
            20,
            30,
            40,
            50,
            60,
            70,
            80,
            90,
            100
           ],
           "y": [
            48.5,
            48.5,
            48.5,
            48.5,
            48.5,
            48.5,
            48.5,
            48.5,
            48.5
           ]
          },
          {
           "hoverinfo": "none",
           "line": {
            "color": "blue",
            "dash": "dash"
           },
           "showlegend": false,
           "type": "scatter",
           "x": [
            43,
            43
           ],
           "y": [
            0,
            53.5
           ]
          },
          {
           "hoverinfo": "none",
           "line": {
            "color": "yellow",
            "dash": "dash"
           },
           "showlegend": false,
           "type": "scatter",
           "x": [
            45,
            45
           ],
           "y": [
            0,
            53.5
           ]
          },
          {
           "hoverinfo": "text",
           "hovertext": [
            "nflId:25511.0<br>displayName:Tom Brady<br>Position:QB<br>Role:Pass",
            "nflId:35481.0<br>displayName:Rob Gronkowski<br>Position:TE-L<br>Role:Pass Route",
            "nflId:35634.0<br>displayName:Antonio Brown<br>Position:LWR<br>Role:Pass Route",
            "nflId:39985.0<br>displayName:Giovani Bernard<br>Position:HB-R<br>Role:Pass Route",
            "nflId:40151.0<br>displayName:Ryan Jensen<br>Position:C<br>Role:Pass Block",
            "nflId:41233.0<br>displayName:Mike Evans<br>Position:RWR<br>Role:Pass Route",
            "nflId:42377.0<br>displayName:Donovan Smith<br>Position:LT<br>Role:Pass Block",
            "nflId:42404.0<br>displayName:Ali Marpet<br>Position:LG<br>Role:Pass Block",
            "nflId:44896.0<br>displayName:Chris Godwin<br>Position:SLWR<br>Role:Pass Route",
            "nflId:46163.0<br>displayName:Alex Cappa<br>Position:RG<br>Role:Pass Block",
            "nflId:52421.0<br>displayName:Tristan Wirfs<br>Position:RT<br>Role:Pass Block"
           ],
           "marker": {
            "color": "#D50A0A"
           },
           "mode": "markers",
           "name": "TB",
           "type": "scatter",
           "x": [
            33.68,
            45.04,
            52.04,
            36.67,
            38.6,
            45.64,
            34.81,
            38.84,
            49.91,
            37.22,
            36.89
           ],
           "y": [
            23.28,
            39.15,
            42.5,
            19.72,
            23.5,
            25.62,
            25.49,
            26.57,
            27.67,
            24.06,
            22.33
           ]
          },
          {
           "hoverinfo": "text",
           "hovertext": [
            "nflId:41263.0<br>displayName:Demarcus Lawrence<br>Position:LEO<br>Role:Pass Rush",
            "nflId:42403.0<br>displayName:Randy Gregory<br>Position:ROLB<br>Role:Pass Rush",
            "nflId:43306.0<br>displayName:Keanu Neal<br>Position:ROLB<br>Role:Coverage",
            "nflId:43478.0<br>displayName:Anthony Brown<br>Position:RCB<br>Role:Coverage",
            "nflId:44904.0<br>displayName:Jourdan Lewis<br>Position:SCBR<br>Role:Coverage",
            "nflId:44955.0<br>displayName:Carlos Watkins<br>Position:DRT<br>Role:Pass Rush",
            "nflId:44962.0<br>displayName:Damontae Kazee<br>Position:FS<br>Role:Coverage",
            "nflId:47996.0<br>displayName:Donovan Wilson<br>Position:LILB<br>Role:Coverage",
            "nflId:52459.0<br>displayName:Trevon Diggs<br>Position:LCB<br>Role:Coverage",
            "nflId:53441.0<br>displayName:Micah Parsons<br>Position:LILB<br>Role:Pass Rush",
            "nflId:53504.0<br>displayName:Osa Odighizuwa<br>Position:RE<br>Role:Pass Rush"
           ],
           "marker": {
            "color": "#003594"
           },
           "mode": "markers",
           "name": "DAL",
           "type": "scatter",
           "x": [
            36.62,
            34.96,
            45.88,
            52.85,
            49.99,
            39.49,
            65.65,
            46.91,
            49.39,
            36.81,
            38.42
           ],
           "y": [
            24.42,
            26.38,
            39.26,
            42.4,
            28.6,
            27.21,
            29.55,
            23.1,
            20.53,
            22.99,
            22.17
           ]
          },
          {
           "hoverinfo": "none",
           "marker": {
            "color": "#CBB67C"
           },
           "mode": "markers",
           "name": "football",
           "type": "scatter",
           "x": [
            34.02
           ],
           "y": [
            23.02
           ]
          }
         ],
         "name": "31"
        },
        {
         "data": [
          {
           "hoverinfo": "none",
           "mode": "text",
           "showlegend": false,
           "text": [
            "10",
            "20",
            "30",
            "40",
            "50",
            "40",
            "30",
            "20",
            "10"
           ],
           "textfont": {
            "color": "#ffffff",
            "family": "Courier New, monospace",
            "size": 30
           },
           "type": "scatter",
           "x": [
            20,
            30,
            40,
            50,
            60,
            70,
            80,
            90,
            100
           ],
           "y": [
            5,
            5,
            5,
            5,
            5,
            5,
            5,
            5,
            5
           ]
          },
          {
           "hoverinfo": "none",
           "mode": "text",
           "showlegend": false,
           "text": [
            "10",
            "20",
            "30",
            "40",
            "50",
            "40",
            "30",
            "20",
            "10"
           ],
           "textfont": {
            "color": "#ffffff",
            "family": "Courier New, monospace",
            "size": 30
           },
           "type": "scatter",
           "x": [
            20,
            30,
            40,
            50,
            60,
            70,
            80,
            90,
            100
           ],
           "y": [
            48.5,
            48.5,
            48.5,
            48.5,
            48.5,
            48.5,
            48.5,
            48.5,
            48.5
           ]
          },
          {
           "hoverinfo": "none",
           "line": {
            "color": "blue",
            "dash": "dash"
           },
           "showlegend": false,
           "type": "scatter",
           "x": [
            43,
            43
           ],
           "y": [
            0,
            53.5
           ]
          },
          {
           "hoverinfo": "none",
           "line": {
            "color": "yellow",
            "dash": "dash"
           },
           "showlegend": false,
           "type": "scatter",
           "x": [
            45,
            45
           ],
           "y": [
            0,
            53.5
           ]
          },
          {
           "hoverinfo": "text",
           "hovertext": [
            "nflId:25511.0<br>displayName:Tom Brady<br>Position:QB<br>Role:Pass",
            "nflId:35481.0<br>displayName:Rob Gronkowski<br>Position:TE-L<br>Role:Pass Route",
            "nflId:35634.0<br>displayName:Antonio Brown<br>Position:LWR<br>Role:Pass Route",
            "nflId:39985.0<br>displayName:Giovani Bernard<br>Position:HB-R<br>Role:Pass Route",
            "nflId:40151.0<br>displayName:Ryan Jensen<br>Position:C<br>Role:Pass Block",
            "nflId:41233.0<br>displayName:Mike Evans<br>Position:RWR<br>Role:Pass Route",
            "nflId:42377.0<br>displayName:Donovan Smith<br>Position:LT<br>Role:Pass Block",
            "nflId:42404.0<br>displayName:Ali Marpet<br>Position:LG<br>Role:Pass Block",
            "nflId:44896.0<br>displayName:Chris Godwin<br>Position:SLWR<br>Role:Pass Route",
            "nflId:46163.0<br>displayName:Alex Cappa<br>Position:RG<br>Role:Pass Block",
            "nflId:52421.0<br>displayName:Tristan Wirfs<br>Position:RT<br>Role:Pass Block"
           ],
           "marker": {
            "color": "#D50A0A"
           },
           "mode": "markers",
           "name": "TB",
           "type": "scatter",
           "x": [
            33.6,
            45.2,
            52.5,
            36.65,
            38.45,
            45.7,
            34.65,
            38.81,
            50.43,
            37.05,
            36.58
           ],
           "y": [
            23.09,
            39.79,
            42.55,
            19.27,
            23.28,
            26.36,
            25.26,
            26.76,
            27.15,
            24.33,
            22.49
           ]
          },
          {
           "hoverinfo": "text",
           "hovertext": [
            "nflId:41263.0<br>displayName:Demarcus Lawrence<br>Position:LEO<br>Role:Pass Rush",
            "nflId:42403.0<br>displayName:Randy Gregory<br>Position:ROLB<br>Role:Pass Rush",
            "nflId:43306.0<br>displayName:Keanu Neal<br>Position:ROLB<br>Role:Coverage",
            "nflId:43478.0<br>displayName:Anthony Brown<br>Position:RCB<br>Role:Coverage",
            "nflId:44904.0<br>displayName:Jourdan Lewis<br>Position:SCBR<br>Role:Coverage",
            "nflId:44955.0<br>displayName:Carlos Watkins<br>Position:DRT<br>Role:Pass Rush",
            "nflId:44962.0<br>displayName:Damontae Kazee<br>Position:FS<br>Role:Coverage",
            "nflId:47996.0<br>displayName:Donovan Wilson<br>Position:LILB<br>Role:Coverage",
            "nflId:52459.0<br>displayName:Trevon Diggs<br>Position:LCB<br>Role:Coverage",
            "nflId:53441.0<br>displayName:Micah Parsons<br>Position:LILB<br>Role:Pass Rush",
            "nflId:53504.0<br>displayName:Osa Odighizuwa<br>Position:RE<br>Role:Pass Rush"
           ],
           "marker": {
            "color": "#003594"
           },
           "mode": "markers",
           "name": "DAL",
           "type": "scatter",
           "x": [
            36.26,
            34.78,
            46.01,
            53.33,
            50.47,
            39.52,
            66.03,
            46.93,
            49.55,
            36.52,
            38.07
           ],
           "y": [
            24.51,
            26.2,
            39.89,
            42.59,
            28.14,
            27.44,
            29.84,
            22.89,
            21.1,
            23.15,
            21.86
           ]
          },
          {
           "hoverinfo": "none",
           "marker": {
            "color": "#CBB67C"
           },
           "mode": "markers",
           "name": "football",
           "type": "scatter",
           "x": [
            33.52
           ],
           "y": [
            22.33
           ]
          }
         ],
         "name": "32"
        },
        {
         "data": [
          {
           "hoverinfo": "none",
           "mode": "text",
           "showlegend": false,
           "text": [
            "10",
            "20",
            "30",
            "40",
            "50",
            "40",
            "30",
            "20",
            "10"
           ],
           "textfont": {
            "color": "#ffffff",
            "family": "Courier New, monospace",
            "size": 30
           },
           "type": "scatter",
           "x": [
            20,
            30,
            40,
            50,
            60,
            70,
            80,
            90,
            100
           ],
           "y": [
            5,
            5,
            5,
            5,
            5,
            5,
            5,
            5,
            5
           ]
          },
          {
           "hoverinfo": "none",
           "mode": "text",
           "showlegend": false,
           "text": [
            "10",
            "20",
            "30",
            "40",
            "50",
            "40",
            "30",
            "20",
            "10"
           ],
           "textfont": {
            "color": "#ffffff",
            "family": "Courier New, monospace",
            "size": 30
           },
           "type": "scatter",
           "x": [
            20,
            30,
            40,
            50,
            60,
            70,
            80,
            90,
            100
           ],
           "y": [
            48.5,
            48.5,
            48.5,
            48.5,
            48.5,
            48.5,
            48.5,
            48.5,
            48.5
           ]
          },
          {
           "hoverinfo": "none",
           "line": {
            "color": "blue",
            "dash": "dash"
           },
           "showlegend": false,
           "type": "scatter",
           "x": [
            43,
            43
           ],
           "y": [
            0,
            53.5
           ]
          },
          {
           "hoverinfo": "none",
           "line": {
            "color": "yellow",
            "dash": "dash"
           },
           "showlegend": false,
           "type": "scatter",
           "x": [
            45,
            45
           ],
           "y": [
            0,
            53.5
           ]
          },
          {
           "hoverinfo": "text",
           "hovertext": [
            "nflId:25511.0<br>displayName:Tom Brady<br>Position:QB<br>Role:Pass",
            "nflId:35481.0<br>displayName:Rob Gronkowski<br>Position:TE-L<br>Role:Pass Route",
            "nflId:35634.0<br>displayName:Antonio Brown<br>Position:LWR<br>Role:Pass Route",
            "nflId:39985.0<br>displayName:Giovani Bernard<br>Position:HB-R<br>Role:Pass Route",
            "nflId:40151.0<br>displayName:Ryan Jensen<br>Position:C<br>Role:Pass Block",
            "nflId:41233.0<br>displayName:Mike Evans<br>Position:RWR<br>Role:Pass Route",
            "nflId:42377.0<br>displayName:Donovan Smith<br>Position:LT<br>Role:Pass Block",
            "nflId:42404.0<br>displayName:Ali Marpet<br>Position:LG<br>Role:Pass Block",
            "nflId:44896.0<br>displayName:Chris Godwin<br>Position:SLWR<br>Role:Pass Route",
            "nflId:46163.0<br>displayName:Alex Cappa<br>Position:RG<br>Role:Pass Block",
            "nflId:52421.0<br>displayName:Tristan Wirfs<br>Position:RT<br>Role:Pass Block"
           ],
           "marker": {
            "color": "#D50A0A"
           },
           "mode": "markers",
           "name": "TB",
           "type": "scatter",
           "x": [
            33.53,
            45.35,
            52.92,
            36.69,
            38.28,
            45.77,
            34.51,
            38.8,
            50.94,
            36.9,
            36.26
           ],
           "y": [
            22.85,
            40.43,
            42.56,
            18.79,
            23.07,
            27.09,
            25.05,
            26.94,
            26.62,
            24.56,
            22.68
           ]
          },
          {
           "hoverinfo": "text",
           "hovertext": [
            "nflId:41263.0<br>displayName:Demarcus Lawrence<br>Position:LEO<br>Role:Pass Rush",
            "nflId:42403.0<br>displayName:Randy Gregory<br>Position:ROLB<br>Role:Pass Rush",
            "nflId:43306.0<br>displayName:Keanu Neal<br>Position:ROLB<br>Role:Coverage",
            "nflId:43478.0<br>displayName:Anthony Brown<br>Position:RCB<br>Role:Coverage",
            "nflId:44904.0<br>displayName:Jourdan Lewis<br>Position:SCBR<br>Role:Coverage",
            "nflId:44955.0<br>displayName:Carlos Watkins<br>Position:DRT<br>Role:Pass Rush",
            "nflId:44962.0<br>displayName:Damontae Kazee<br>Position:FS<br>Role:Coverage",
            "nflId:47996.0<br>displayName:Donovan Wilson<br>Position:LILB<br>Role:Coverage",
            "nflId:52459.0<br>displayName:Trevon Diggs<br>Position:LCB<br>Role:Coverage",
            "nflId:53441.0<br>displayName:Micah Parsons<br>Position:LILB<br>Role:Pass Rush",
            "nflId:53504.0<br>displayName:Osa Odighizuwa<br>Position:RE<br>Role:Pass Rush"
           ],
           "marker": {
            "color": "#003594"
           },
           "mode": "markers",
           "name": "DAL",
           "type": "scatter",
           "x": [
            35.91,
            34.68,
            46.22,
            53.75,
            50.97,
            39.57,
            66.42,
            46.91,
            49.67,
            36.11,
            37.68
           ],
           "y": [
            24.58,
            25.87,
            40.47,
            42.78,
            27.64,
            27.66,
            30.09,
            22.58,
            21.67,
            23.22,
            21.55
           ]
          },
          {
           "hoverinfo": "none",
           "marker": {
            "color": "#CBB67C"
           },
           "mode": "markers",
           "name": "football",
           "type": "scatter",
           "x": [
            33.45
           ],
           "y": [
            22.25
           ]
          }
         ],
         "name": "33"
        },
        {
         "data": [
          {
           "hoverinfo": "none",
           "mode": "text",
           "showlegend": false,
           "text": [
            "10",
            "20",
            "30",
            "40",
            "50",
            "40",
            "30",
            "20",
            "10"
           ],
           "textfont": {
            "color": "#ffffff",
            "family": "Courier New, monospace",
            "size": 30
           },
           "type": "scatter",
           "x": [
            20,
            30,
            40,
            50,
            60,
            70,
            80,
            90,
            100
           ],
           "y": [
            5,
            5,
            5,
            5,
            5,
            5,
            5,
            5,
            5
           ]
          },
          {
           "hoverinfo": "none",
           "mode": "text",
           "showlegend": false,
           "text": [
            "10",
            "20",
            "30",
            "40",
            "50",
            "40",
            "30",
            "20",
            "10"
           ],
           "textfont": {
            "color": "#ffffff",
            "family": "Courier New, monospace",
            "size": 30
           },
           "type": "scatter",
           "x": [
            20,
            30,
            40,
            50,
            60,
            70,
            80,
            90,
            100
           ],
           "y": [
            48.5,
            48.5,
            48.5,
            48.5,
            48.5,
            48.5,
            48.5,
            48.5,
            48.5
           ]
          },
          {
           "hoverinfo": "none",
           "line": {
            "color": "blue",
            "dash": "dash"
           },
           "showlegend": false,
           "type": "scatter",
           "x": [
            43,
            43
           ],
           "y": [
            0,
            53.5
           ]
          },
          {
           "hoverinfo": "none",
           "line": {
            "color": "yellow",
            "dash": "dash"
           },
           "showlegend": false,
           "type": "scatter",
           "x": [
            45,
            45
           ],
           "y": [
            0,
            53.5
           ]
          },
          {
           "hoverinfo": "text",
           "hovertext": [
            "nflId:25511.0<br>displayName:Tom Brady<br>Position:QB<br>Role:Pass",
            "nflId:35481.0<br>displayName:Rob Gronkowski<br>Position:TE-L<br>Role:Pass Route",
            "nflId:35634.0<br>displayName:Antonio Brown<br>Position:LWR<br>Role:Pass Route",
            "nflId:39985.0<br>displayName:Giovani Bernard<br>Position:HB-R<br>Role:Pass Route",
            "nflId:40151.0<br>displayName:Ryan Jensen<br>Position:C<br>Role:Pass Block",
            "nflId:41233.0<br>displayName:Mike Evans<br>Position:RWR<br>Role:Pass Route",
            "nflId:42377.0<br>displayName:Donovan Smith<br>Position:LT<br>Role:Pass Block",
            "nflId:42404.0<br>displayName:Ali Marpet<br>Position:LG<br>Role:Pass Block",
            "nflId:44896.0<br>displayName:Chris Godwin<br>Position:SLWR<br>Role:Pass Route",
            "nflId:46163.0<br>displayName:Alex Cappa<br>Position:RG<br>Role:Pass Block",
            "nflId:52421.0<br>displayName:Tristan Wirfs<br>Position:RT<br>Role:Pass Block"
           ],
           "marker": {
            "color": "#D50A0A"
           },
           "mode": "markers",
           "name": "TB",
           "type": "scatter",
           "x": [
            33.44,
            45.52,
            53.29,
            36.74,
            38.07,
            45.85,
            34.39,
            38.85,
            51.43,
            36.71,
            35.96
           ],
           "y": [
            22.58,
            41.07,
            42.53,
            18.29,
            22.86,
            27.82,
            24.85,
            27.11,
            26.06,
            24.85,
            22.86
           ]
          },
          {
           "hoverinfo": "text",
           "hovertext": [
            "nflId:41263.0<br>displayName:Demarcus Lawrence<br>Position:LEO<br>Role:Pass Rush",
            "nflId:42403.0<br>displayName:Randy Gregory<br>Position:ROLB<br>Role:Pass Rush",
            "nflId:43306.0<br>displayName:Keanu Neal<br>Position:ROLB<br>Role:Coverage",
            "nflId:43478.0<br>displayName:Anthony Brown<br>Position:RCB<br>Role:Coverage",
            "nflId:44904.0<br>displayName:Jourdan Lewis<br>Position:SCBR<br>Role:Coverage",
            "nflId:44955.0<br>displayName:Carlos Watkins<br>Position:DRT<br>Role:Pass Rush",
            "nflId:44962.0<br>displayName:Damontae Kazee<br>Position:FS<br>Role:Coverage",
            "nflId:47996.0<br>displayName:Donovan Wilson<br>Position:LILB<br>Role:Coverage",
            "nflId:52459.0<br>displayName:Trevon Diggs<br>Position:LCB<br>Role:Coverage",
            "nflId:53441.0<br>displayName:Micah Parsons<br>Position:LILB<br>Role:Pass Rush",
            "nflId:53504.0<br>displayName:Osa Odighizuwa<br>Position:RE<br>Role:Pass Rush"
           ],
           "marker": {
            "color": "#003594"
           },
           "mode": "markers",
           "name": "DAL",
           "type": "scatter",
           "x": [
            35.51,
            34.63,
            46.44,
            54.11,
            51.49,
            39.61,
            66.84,
            46.9,
            49.76,
            35.78,
            37.25
           ],
           "y": [
            24.53,
            25.5,
            41.05,
            42.89,
            27.11,
            27.88,
            30.3,
            22.19,
            22.23,
            23.36,
            21.28
           ]
          },
          {
           "hoverinfo": "none",
           "marker": {
            "color": "#CBB67C"
           },
           "mode": "markers",
           "name": "football",
           "type": "scatter",
           "x": [
            33.4
           ],
           "y": [
            22.05
           ]
          }
         ],
         "name": "34"
        },
        {
         "data": [
          {
           "hoverinfo": "none",
           "mode": "text",
           "showlegend": false,
           "text": [
            "10",
            "20",
            "30",
            "40",
            "50",
            "40",
            "30",
            "20",
            "10"
           ],
           "textfont": {
            "color": "#ffffff",
            "family": "Courier New, monospace",
            "size": 30
           },
           "type": "scatter",
           "x": [
            20,
            30,
            40,
            50,
            60,
            70,
            80,
            90,
            100
           ],
           "y": [
            5,
            5,
            5,
            5,
            5,
            5,
            5,
            5,
            5
           ]
          },
          {
           "hoverinfo": "none",
           "mode": "text",
           "showlegend": false,
           "text": [
            "10",
            "20",
            "30",
            "40",
            "50",
            "40",
            "30",
            "20",
            "10"
           ],
           "textfont": {
            "color": "#ffffff",
            "family": "Courier New, monospace",
            "size": 30
           },
           "type": "scatter",
           "x": [
            20,
            30,
            40,
            50,
            60,
            70,
            80,
            90,
            100
           ],
           "y": [
            48.5,
            48.5,
            48.5,
            48.5,
            48.5,
            48.5,
            48.5,
            48.5,
            48.5
           ]
          },
          {
           "hoverinfo": "none",
           "line": {
            "color": "blue",
            "dash": "dash"
           },
           "showlegend": false,
           "type": "scatter",
           "x": [
            43,
            43
           ],
           "y": [
            0,
            53.5
           ]
          },
          {
           "hoverinfo": "none",
           "line": {
            "color": "yellow",
            "dash": "dash"
           },
           "showlegend": false,
           "type": "scatter",
           "x": [
            45,
            45
           ],
           "y": [
            0,
            53.5
           ]
          },
          {
           "hoverinfo": "text",
           "hovertext": [
            "nflId:25511.0<br>displayName:Tom Brady<br>Position:QB<br>Role:Pass",
            "nflId:35481.0<br>displayName:Rob Gronkowski<br>Position:TE-L<br>Role:Pass Route",
            "nflId:35634.0<br>displayName:Antonio Brown<br>Position:LWR<br>Role:Pass Route",
            "nflId:39985.0<br>displayName:Giovani Bernard<br>Position:HB-R<br>Role:Pass Route",
            "nflId:40151.0<br>displayName:Ryan Jensen<br>Position:C<br>Role:Pass Block",
            "nflId:41233.0<br>displayName:Mike Evans<br>Position:RWR<br>Role:Pass Route",
            "nflId:42377.0<br>displayName:Donovan Smith<br>Position:LT<br>Role:Pass Block",
            "nflId:42404.0<br>displayName:Ali Marpet<br>Position:LG<br>Role:Pass Block",
            "nflId:44896.0<br>displayName:Chris Godwin<br>Position:SLWR<br>Role:Pass Route",
            "nflId:46163.0<br>displayName:Alex Cappa<br>Position:RG<br>Role:Pass Block",
            "nflId:52421.0<br>displayName:Tristan Wirfs<br>Position:RT<br>Role:Pass Block"
           ],
           "marker": {
            "color": "#D50A0A"
           },
           "mode": "markers",
           "name": "TB",
           "type": "scatter",
           "x": [
            33.33,
            45.71,
            53.6,
            36.82,
            37.84,
            45.94,
            34.29,
            38.89,
            51.86,
            36.53,
            35.67
           ],
           "y": [
            22.25,
            41.68,
            42.45,
            17.78,
            22.66,
            28.54,
            24.66,
            27.27,
            25.44,
            25.1,
            23.01
           ]
          },
          {
           "hoverinfo": "text",
           "hovertext": [
            "nflId:41263.0<br>displayName:Demarcus Lawrence<br>Position:LEO<br>Role:Pass Rush",
            "nflId:42403.0<br>displayName:Randy Gregory<br>Position:ROLB<br>Role:Pass Rush",
            "nflId:43306.0<br>displayName:Keanu Neal<br>Position:ROLB<br>Role:Coverage",
            "nflId:43478.0<br>displayName:Anthony Brown<br>Position:RCB<br>Role:Coverage",
            "nflId:44904.0<br>displayName:Jourdan Lewis<br>Position:SCBR<br>Role:Coverage",
            "nflId:44955.0<br>displayName:Carlos Watkins<br>Position:DRT<br>Role:Pass Rush",
            "nflId:44962.0<br>displayName:Damontae Kazee<br>Position:FS<br>Role:Coverage",
            "nflId:47996.0<br>displayName:Donovan Wilson<br>Position:LILB<br>Role:Coverage",
            "nflId:52459.0<br>displayName:Trevon Diggs<br>Position:LCB<br>Role:Coverage",
            "nflId:53441.0<br>displayName:Micah Parsons<br>Position:LILB<br>Role:Pass Rush",
            "nflId:53504.0<br>displayName:Osa Odighizuwa<br>Position:RE<br>Role:Pass Rush"
           ],
           "marker": {
            "color": "#003594"
           },
           "mode": "markers",
           "name": "DAL",
           "type": "scatter",
           "x": [
            35.14,
            34.57,
            46.71,
            54.43,
            52.01,
            39.66,
            67.28,
            46.9,
            49.87,
            35.41,
            36.76
           ],
           "y": [
            24.52,
            25.31,
            41.58,
            43.02,
            26.56,
            28.1,
            30.46,
            21.79,
            22.84,
            23.23,
            20.98
           ]
          },
          {
           "hoverinfo": "none",
           "marker": {
            "color": "#CBB67C"
           },
           "mode": "markers",
           "name": "football",
           "type": "scatter",
           "x": [
            33.4
           ],
           "y": [
            22.07
           ]
          }
         ],
         "name": "35"
        },
        {
         "data": [
          {
           "hoverinfo": "none",
           "mode": "text",
           "showlegend": false,
           "text": [
            "10",
            "20",
            "30",
            "40",
            "50",
            "40",
            "30",
            "20",
            "10"
           ],
           "textfont": {
            "color": "#ffffff",
            "family": "Courier New, monospace",
            "size": 30
           },
           "type": "scatter",
           "x": [
            20,
            30,
            40,
            50,
            60,
            70,
            80,
            90,
            100
           ],
           "y": [
            5,
            5,
            5,
            5,
            5,
            5,
            5,
            5,
            5
           ]
          },
          {
           "hoverinfo": "none",
           "mode": "text",
           "showlegend": false,
           "text": [
            "10",
            "20",
            "30",
            "40",
            "50",
            "40",
            "30",
            "20",
            "10"
           ],
           "textfont": {
            "color": "#ffffff",
            "family": "Courier New, monospace",
            "size": 30
           },
           "type": "scatter",
           "x": [
            20,
            30,
            40,
            50,
            60,
            70,
            80,
            90,
            100
           ],
           "y": [
            48.5,
            48.5,
            48.5,
            48.5,
            48.5,
            48.5,
            48.5,
            48.5,
            48.5
           ]
          },
          {
           "hoverinfo": "none",
           "line": {
            "color": "blue",
            "dash": "dash"
           },
           "showlegend": false,
           "type": "scatter",
           "x": [
            43,
            43
           ],
           "y": [
            0,
            53.5
           ]
          },
          {
           "hoverinfo": "none",
           "line": {
            "color": "yellow",
            "dash": "dash"
           },
           "showlegend": false,
           "type": "scatter",
           "x": [
            45,
            45
           ],
           "y": [
            0,
            53.5
           ]
          },
          {
           "hoverinfo": "text",
           "hovertext": [
            "nflId:25511.0<br>displayName:Tom Brady<br>Position:QB<br>Role:Pass",
            "nflId:35481.0<br>displayName:Rob Gronkowski<br>Position:TE-L<br>Role:Pass Route",
            "nflId:35634.0<br>displayName:Antonio Brown<br>Position:LWR<br>Role:Pass Route",
            "nflId:39985.0<br>displayName:Giovani Bernard<br>Position:HB-R<br>Role:Pass Route",
            "nflId:40151.0<br>displayName:Ryan Jensen<br>Position:C<br>Role:Pass Block",
            "nflId:41233.0<br>displayName:Mike Evans<br>Position:RWR<br>Role:Pass Route",
            "nflId:42377.0<br>displayName:Donovan Smith<br>Position:LT<br>Role:Pass Block",
            "nflId:42404.0<br>displayName:Ali Marpet<br>Position:LG<br>Role:Pass Block",
            "nflId:44896.0<br>displayName:Chris Godwin<br>Position:SLWR<br>Role:Pass Route",
            "nflId:46163.0<br>displayName:Alex Cappa<br>Position:RG<br>Role:Pass Block",
            "nflId:52421.0<br>displayName:Tristan Wirfs<br>Position:RT<br>Role:Pass Block"
           ],
           "marker": {
            "color": "#D50A0A"
           },
           "mode": "markers",
           "name": "TB",
           "type": "scatter",
           "x": [
            33.21,
            45.92,
            53.88,
            36.95,
            37.56,
            46.07,
            34.2,
            38.95,
            52.29,
            36.34,
            35.41
           ],
           "y": [
            21.92,
            42.3,
            42.29,
            17.27,
            22.43,
            29.24,
            24.49,
            27.44,
            24.8,
            25.35,
            23.11
           ]
          },
          {
           "hoverinfo": "text",
           "hovertext": [
            "nflId:41263.0<br>displayName:Demarcus Lawrence<br>Position:LEO<br>Role:Pass Rush",
            "nflId:42403.0<br>displayName:Randy Gregory<br>Position:ROLB<br>Role:Pass Rush",
            "nflId:43306.0<br>displayName:Keanu Neal<br>Position:ROLB<br>Role:Coverage",
            "nflId:43478.0<br>displayName:Anthony Brown<br>Position:RCB<br>Role:Coverage",
            "nflId:44904.0<br>displayName:Jourdan Lewis<br>Position:SCBR<br>Role:Coverage",
            "nflId:44955.0<br>displayName:Carlos Watkins<br>Position:DRT<br>Role:Pass Rush",
            "nflId:44962.0<br>displayName:Damontae Kazee<br>Position:FS<br>Role:Coverage",
            "nflId:47996.0<br>displayName:Donovan Wilson<br>Position:LILB<br>Role:Coverage",
            "nflId:52459.0<br>displayName:Trevon Diggs<br>Position:LCB<br>Role:Coverage",
            "nflId:53441.0<br>displayName:Micah Parsons<br>Position:LILB<br>Role:Pass Rush",
            "nflId:53504.0<br>displayName:Osa Odighizuwa<br>Position:RE<br>Role:Pass Rush"
           ],
           "marker": {
            "color": "#003594"
           },
           "mode": "markers",
           "name": "DAL",
           "type": "scatter",
           "x": [
            34.79,
            34.51,
            46.97,
            54.66,
            52.53,
            39.77,
            67.7,
            46.89,
            49.97,
            35.05,
            36.3
           ],
           "y": [
            24.49,
            25.15,
            42.08,
            43.06,
            25.97,
            28.31,
            30.58,
            21.34,
            23.45,
            23.24,
            20.75
           ]
          },
          {
           "hoverinfo": "none",
           "marker": {
            "color": "#CBB67C"
           },
           "mode": "markers",
           "name": "football",
           "type": "scatter",
           "x": [
            33.38
           ],
           "y": [
            22.02
           ]
          }
         ],
         "name": "36"
        },
        {
         "data": [
          {
           "hoverinfo": "none",
           "mode": "text",
           "showlegend": false,
           "text": [
            "10",
            "20",
            "30",
            "40",
            "50",
            "40",
            "30",
            "20",
            "10"
           ],
           "textfont": {
            "color": "#ffffff",
            "family": "Courier New, monospace",
            "size": 30
           },
           "type": "scatter",
           "x": [
            20,
            30,
            40,
            50,
            60,
            70,
            80,
            90,
            100
           ],
           "y": [
            5,
            5,
            5,
            5,
            5,
            5,
            5,
            5,
            5
           ]
          },
          {
           "hoverinfo": "none",
           "mode": "text",
           "showlegend": false,
           "text": [
            "10",
            "20",
            "30",
            "40",
            "50",
            "40",
            "30",
            "20",
            "10"
           ],
           "textfont": {
            "color": "#ffffff",
            "family": "Courier New, monospace",
            "size": 30
           },
           "type": "scatter",
           "x": [
            20,
            30,
            40,
            50,
            60,
            70,
            80,
            90,
            100
           ],
           "y": [
            48.5,
            48.5,
            48.5,
            48.5,
            48.5,
            48.5,
            48.5,
            48.5,
            48.5
           ]
          },
          {
           "hoverinfo": "none",
           "line": {
            "color": "blue",
            "dash": "dash"
           },
           "showlegend": false,
           "type": "scatter",
           "x": [
            43,
            43
           ],
           "y": [
            0,
            53.5
           ]
          },
          {
           "hoverinfo": "none",
           "line": {
            "color": "yellow",
            "dash": "dash"
           },
           "showlegend": false,
           "type": "scatter",
           "x": [
            45,
            45
           ],
           "y": [
            0,
            53.5
           ]
          },
          {
           "hoverinfo": "text",
           "hovertext": [
            "nflId:25511.0<br>displayName:Tom Brady<br>Position:QB<br>Role:Pass",
            "nflId:35481.0<br>displayName:Rob Gronkowski<br>Position:TE-L<br>Role:Pass Route",
            "nflId:35634.0<br>displayName:Antonio Brown<br>Position:LWR<br>Role:Pass Route",
            "nflId:39985.0<br>displayName:Giovani Bernard<br>Position:HB-R<br>Role:Pass Route",
            "nflId:40151.0<br>displayName:Ryan Jensen<br>Position:C<br>Role:Pass Block",
            "nflId:41233.0<br>displayName:Mike Evans<br>Position:RWR<br>Role:Pass Route",
            "nflId:42377.0<br>displayName:Donovan Smith<br>Position:LT<br>Role:Pass Block",
            "nflId:42404.0<br>displayName:Ali Marpet<br>Position:LG<br>Role:Pass Block",
            "nflId:44896.0<br>displayName:Chris Godwin<br>Position:SLWR<br>Role:Pass Route",
            "nflId:46163.0<br>displayName:Alex Cappa<br>Position:RG<br>Role:Pass Block",
            "nflId:52421.0<br>displayName:Tristan Wirfs<br>Position:RT<br>Role:Pass Block"
           ],
           "marker": {
            "color": "#D50A0A"
           },
           "mode": "markers",
           "name": "TB",
           "type": "scatter",
           "x": [
            33.1,
            46.13,
            54.12,
            37.1,
            37.27,
            46.2,
            34.13,
            39.01,
            52.68,
            36.14,
            35.13
           ],
           "y": [
            21.56,
            42.9,
            42.07,
            16.75,
            22.18,
            29.93,
            24.35,
            27.57,
            24.14,
            25.59,
            23.21
           ]
          },
          {
           "hoverinfo": "text",
           "hovertext": [
            "nflId:41263.0<br>displayName:Demarcus Lawrence<br>Position:LEO<br>Role:Pass Rush",
            "nflId:42403.0<br>displayName:Randy Gregory<br>Position:ROLB<br>Role:Pass Rush",
            "nflId:43306.0<br>displayName:Keanu Neal<br>Position:ROLB<br>Role:Coverage",
            "nflId:43478.0<br>displayName:Anthony Brown<br>Position:RCB<br>Role:Coverage",
            "nflId:44904.0<br>displayName:Jourdan Lewis<br>Position:SCBR<br>Role:Coverage",
            "nflId:44955.0<br>displayName:Carlos Watkins<br>Position:DRT<br>Role:Pass Rush",
            "nflId:44962.0<br>displayName:Damontae Kazee<br>Position:FS<br>Role:Coverage",
            "nflId:47996.0<br>displayName:Donovan Wilson<br>Position:LILB<br>Role:Coverage",
            "nflId:52459.0<br>displayName:Trevon Diggs<br>Position:LCB<br>Role:Coverage",
            "nflId:53441.0<br>displayName:Micah Parsons<br>Position:LILB<br>Role:Pass Rush",
            "nflId:53504.0<br>displayName:Osa Odighizuwa<br>Position:RE<br>Role:Pass Rush"
           ],
           "marker": {
            "color": "#003594"
           },
           "mode": "markers",
           "name": "DAL",
           "type": "scatter",
           "x": [
            34.38,
            34.49,
            47.19,
            54.86,
            53.04,
            39.95,
            68.11,
            46.82,
            50.05,
            34.69,
            35.83
           ],
           "y": [
            24.42,
            24.93,
            42.46,
            43.1,
            25.34,
            28.51,
            30.6,
            20.81,
            24.06,
            23.19,
            20.53
           ]
          },
          {
           "hoverinfo": "none",
           "marker": {
            "color": "#CBB67C"
           },
           "mode": "markers",
           "name": "football",
           "type": "scatter",
           "x": [
            33.34
           ],
           "y": [
            21.96
           ]
          }
         ],
         "name": "37"
        },
        {
         "data": [
          {
           "hoverinfo": "none",
           "mode": "text",
           "showlegend": false,
           "text": [
            "10",
            "20",
            "30",
            "40",
            "50",
            "40",
            "30",
            "20",
            "10"
           ],
           "textfont": {
            "color": "#ffffff",
            "family": "Courier New, monospace",
            "size": 30
           },
           "type": "scatter",
           "x": [
            20,
            30,
            40,
            50,
            60,
            70,
            80,
            90,
            100
           ],
           "y": [
            5,
            5,
            5,
            5,
            5,
            5,
            5,
            5,
            5
           ]
          },
          {
           "hoverinfo": "none",
           "mode": "text",
           "showlegend": false,
           "text": [
            "10",
            "20",
            "30",
            "40",
            "50",
            "40",
            "30",
            "20",
            "10"
           ],
           "textfont": {
            "color": "#ffffff",
            "family": "Courier New, monospace",
            "size": 30
           },
           "type": "scatter",
           "x": [
            20,
            30,
            40,
            50,
            60,
            70,
            80,
            90,
            100
           ],
           "y": [
            48.5,
            48.5,
            48.5,
            48.5,
            48.5,
            48.5,
            48.5,
            48.5,
            48.5
           ]
          },
          {
           "hoverinfo": "none",
           "line": {
            "color": "blue",
            "dash": "dash"
           },
           "showlegend": false,
           "type": "scatter",
           "x": [
            43,
            43
           ],
           "y": [
            0,
            53.5
           ]
          },
          {
           "hoverinfo": "none",
           "line": {
            "color": "yellow",
            "dash": "dash"
           },
           "showlegend": false,
           "type": "scatter",
           "x": [
            45,
            45
           ],
           "y": [
            0,
            53.5
           ]
          },
          {
           "hoverinfo": "text",
           "hovertext": [
            "nflId:25511.0<br>displayName:Tom Brady<br>Position:QB<br>Role:Pass",
            "nflId:35481.0<br>displayName:Rob Gronkowski<br>Position:TE-L<br>Role:Pass Route",
            "nflId:35634.0<br>displayName:Antonio Brown<br>Position:LWR<br>Role:Pass Route",
            "nflId:39985.0<br>displayName:Giovani Bernard<br>Position:HB-R<br>Role:Pass Route",
            "nflId:40151.0<br>displayName:Ryan Jensen<br>Position:C<br>Role:Pass Block",
            "nflId:41233.0<br>displayName:Mike Evans<br>Position:RWR<br>Role:Pass Route",
            "nflId:42377.0<br>displayName:Donovan Smith<br>Position:LT<br>Role:Pass Block",
            "nflId:42404.0<br>displayName:Ali Marpet<br>Position:LG<br>Role:Pass Block",
            "nflId:44896.0<br>displayName:Chris Godwin<br>Position:SLWR<br>Role:Pass Route",
            "nflId:46163.0<br>displayName:Alex Cappa<br>Position:RG<br>Role:Pass Block",
            "nflId:52421.0<br>displayName:Tristan Wirfs<br>Position:RT<br>Role:Pass Block"
           ],
           "marker": {
            "color": "#D50A0A"
           },
           "mode": "markers",
           "name": "TB",
           "type": "scatter",
           "x": [
            32.99,
            46.36,
            54.32,
            37.28,
            36.96,
            46.32,
            34.07,
            39.1,
            53.01,
            35.92,
            34.85
           ],
           "y": [
            21.21,
            43.5,
            41.83,
            16.22,
            21.93,
            30.59,
            24.22,
            27.73,
            23.44,
            25.8,
            23.3
           ]
          },
          {
           "hoverinfo": "text",
           "hovertext": [
            "nflId:41263.0<br>displayName:Demarcus Lawrence<br>Position:LEO<br>Role:Pass Rush",
            "nflId:42403.0<br>displayName:Randy Gregory<br>Position:ROLB<br>Role:Pass Rush",
            "nflId:43306.0<br>displayName:Keanu Neal<br>Position:ROLB<br>Role:Coverage",
            "nflId:43478.0<br>displayName:Anthony Brown<br>Position:RCB<br>Role:Coverage",
            "nflId:44904.0<br>displayName:Jourdan Lewis<br>Position:SCBR<br>Role:Coverage",
            "nflId:44955.0<br>displayName:Carlos Watkins<br>Position:DRT<br>Role:Pass Rush",
            "nflId:44962.0<br>displayName:Damontae Kazee<br>Position:FS<br>Role:Coverage",
            "nflId:47996.0<br>displayName:Donovan Wilson<br>Position:LILB<br>Role:Coverage",
            "nflId:52459.0<br>displayName:Trevon Diggs<br>Position:LCB<br>Role:Coverage",
            "nflId:53441.0<br>displayName:Micah Parsons<br>Position:LILB<br>Role:Pass Rush",
            "nflId:53504.0<br>displayName:Osa Odighizuwa<br>Position:RE<br>Role:Pass Rush"
           ],
           "marker": {
            "color": "#003594"
           },
           "mode": "markers",
           "name": "DAL",
           "type": "scatter",
           "x": [
            33.96,
            34.46,
            47.46,
            55.04,
            53.52,
            40.28,
            68.52,
            46.77,
            50.13,
            34.33,
            35.33
           ],
           "y": [
            24.3,
            24.72,
            42.75,
            42.98,
            24.7,
            28.68,
            30.6,
            20.27,
            24.69,
            23.09,
            20.34
           ]
          },
          {
           "hoverinfo": "none",
           "marker": {
            "color": "#CBB67C"
           },
           "mode": "markers",
           "name": "football",
           "type": "scatter",
           "x": [
            33.3
           ],
           "y": [
            21.88
           ]
          }
         ],
         "name": "38"
        },
        {
         "data": [
          {
           "hoverinfo": "none",
           "mode": "text",
           "showlegend": false,
           "text": [
            "10",
            "20",
            "30",
            "40",
            "50",
            "40",
            "30",
            "20",
            "10"
           ],
           "textfont": {
            "color": "#ffffff",
            "family": "Courier New, monospace",
            "size": 30
           },
           "type": "scatter",
           "x": [
            20,
            30,
            40,
            50,
            60,
            70,
            80,
            90,
            100
           ],
           "y": [
            5,
            5,
            5,
            5,
            5,
            5,
            5,
            5,
            5
           ]
          },
          {
           "hoverinfo": "none",
           "mode": "text",
           "showlegend": false,
           "text": [
            "10",
            "20",
            "30",
            "40",
            "50",
            "40",
            "30",
            "20",
            "10"
           ],
           "textfont": {
            "color": "#ffffff",
            "family": "Courier New, monospace",
            "size": 30
           },
           "type": "scatter",
           "x": [
            20,
            30,
            40,
            50,
            60,
            70,
            80,
            90,
            100
           ],
           "y": [
            48.5,
            48.5,
            48.5,
            48.5,
            48.5,
            48.5,
            48.5,
            48.5,
            48.5
           ]
          },
          {
           "hoverinfo": "none",
           "line": {
            "color": "blue",
            "dash": "dash"
           },
           "showlegend": false,
           "type": "scatter",
           "x": [
            43,
            43
           ],
           "y": [
            0,
            53.5
           ]
          },
          {
           "hoverinfo": "none",
           "line": {
            "color": "yellow",
            "dash": "dash"
           },
           "showlegend": false,
           "type": "scatter",
           "x": [
            45,
            45
           ],
           "y": [
            0,
            53.5
           ]
          },
          {
           "hoverinfo": "text",
           "hovertext": [
            "nflId:25511.0<br>displayName:Tom Brady<br>Position:QB<br>Role:Pass",
            "nflId:35481.0<br>displayName:Rob Gronkowski<br>Position:TE-L<br>Role:Pass Route",
            "nflId:35634.0<br>displayName:Antonio Brown<br>Position:LWR<br>Role:Pass Route",
            "nflId:39985.0<br>displayName:Giovani Bernard<br>Position:HB-R<br>Role:Pass Route",
            "nflId:40151.0<br>displayName:Ryan Jensen<br>Position:C<br>Role:Pass Block",
            "nflId:41233.0<br>displayName:Mike Evans<br>Position:RWR<br>Role:Pass Route",
            "nflId:42377.0<br>displayName:Donovan Smith<br>Position:LT<br>Role:Pass Block",
            "nflId:42404.0<br>displayName:Ali Marpet<br>Position:LG<br>Role:Pass Block",
            "nflId:44896.0<br>displayName:Chris Godwin<br>Position:SLWR<br>Role:Pass Route",
            "nflId:46163.0<br>displayName:Alex Cappa<br>Position:RG<br>Role:Pass Block",
            "nflId:52421.0<br>displayName:Tristan Wirfs<br>Position:RT<br>Role:Pass Block"
           ],
           "marker": {
            "color": "#D50A0A"
           },
           "mode": "markers",
           "name": "TB",
           "type": "scatter",
           "x": [
            32.85,
            46.6,
            54.53,
            37.47,
            36.64,
            46.46,
            33.98,
            39.23,
            53.34,
            35.73,
            34.55
           ],
           "y": [
            20.85,
            44.1,
            41.53,
            15.69,
            21.69,
            31.25,
            24.15,
            27.84,
            22.75,
            25.98,
            23.36
           ]
          },
          {
           "hoverinfo": "text",
           "hovertext": [
            "nflId:41263.0<br>displayName:Demarcus Lawrence<br>Position:LEO<br>Role:Pass Rush",
            "nflId:42403.0<br>displayName:Randy Gregory<br>Position:ROLB<br>Role:Pass Rush",
            "nflId:43306.0<br>displayName:Keanu Neal<br>Position:ROLB<br>Role:Coverage",
            "nflId:43478.0<br>displayName:Anthony Brown<br>Position:RCB<br>Role:Coverage",
            "nflId:44904.0<br>displayName:Jourdan Lewis<br>Position:SCBR<br>Role:Coverage",
            "nflId:44955.0<br>displayName:Carlos Watkins<br>Position:DRT<br>Role:Pass Rush",
            "nflId:44962.0<br>displayName:Damontae Kazee<br>Position:FS<br>Role:Coverage",
            "nflId:47996.0<br>displayName:Donovan Wilson<br>Position:LILB<br>Role:Coverage",
            "nflId:52459.0<br>displayName:Trevon Diggs<br>Position:LCB<br>Role:Coverage",
            "nflId:53441.0<br>displayName:Micah Parsons<br>Position:LILB<br>Role:Pass Rush",
            "nflId:53504.0<br>displayName:Osa Odighizuwa<br>Position:RE<br>Role:Pass Rush"
           ],
           "marker": {
            "color": "#003594"
           },
           "mode": "markers",
           "name": "DAL",
           "type": "scatter",
           "x": [
            33.59,
            34.42,
            47.75,
            55.18,
            53.96,
            40.35,
            68.93,
            46.72,
            50.2,
            34.02,
            34.85
           ],
           "y": [
            24.17,
            24.58,
            42.97,
            42.91,
            24.02,
            28.71,
            30.55,
            19.68,
            25.35,
            22.94,
            20.16
           ]
          },
          {
           "hoverinfo": "none",
           "marker": {
            "color": "#CBB67C"
           },
           "mode": "markers",
           "name": "football",
           "type": "scatter",
           "x": [
            33.25
           ],
           "y": [
            21.79
           ]
          }
         ],
         "name": "39"
        },
        {
         "data": [
          {
           "hoverinfo": "none",
           "mode": "text",
           "showlegend": false,
           "text": [
            "10",
            "20",
            "30",
            "40",
            "50",
            "40",
            "30",
            "20",
            "10"
           ],
           "textfont": {
            "color": "#ffffff",
            "family": "Courier New, monospace",
            "size": 30
           },
           "type": "scatter",
           "x": [
            20,
            30,
            40,
            50,
            60,
            70,
            80,
            90,
            100
           ],
           "y": [
            5,
            5,
            5,
            5,
            5,
            5,
            5,
            5,
            5
           ]
          },
          {
           "hoverinfo": "none",
           "mode": "text",
           "showlegend": false,
           "text": [
            "10",
            "20",
            "30",
            "40",
            "50",
            "40",
            "30",
            "20",
            "10"
           ],
           "textfont": {
            "color": "#ffffff",
            "family": "Courier New, monospace",
            "size": 30
           },
           "type": "scatter",
           "x": [
            20,
            30,
            40,
            50,
            60,
            70,
            80,
            90,
            100
           ],
           "y": [
            48.5,
            48.5,
            48.5,
            48.5,
            48.5,
            48.5,
            48.5,
            48.5,
            48.5
           ]
          },
          {
           "hoverinfo": "none",
           "line": {
            "color": "blue",
            "dash": "dash"
           },
           "showlegend": false,
           "type": "scatter",
           "x": [
            43,
            43
           ],
           "y": [
            0,
            53.5
           ]
          },
          {
           "hoverinfo": "none",
           "line": {
            "color": "yellow",
            "dash": "dash"
           },
           "showlegend": false,
           "type": "scatter",
           "x": [
            45,
            45
           ],
           "y": [
            0,
            53.5
           ]
          },
          {
           "hoverinfo": "text",
           "hovertext": [
            "nflId:25511.0<br>displayName:Tom Brady<br>Position:QB<br>Role:Pass",
            "nflId:35481.0<br>displayName:Rob Gronkowski<br>Position:TE-L<br>Role:Pass Route",
            "nflId:35634.0<br>displayName:Antonio Brown<br>Position:LWR<br>Role:Pass Route",
            "nflId:39985.0<br>displayName:Giovani Bernard<br>Position:HB-R<br>Role:Pass Route",
            "nflId:40151.0<br>displayName:Ryan Jensen<br>Position:C<br>Role:Pass Block",
            "nflId:41233.0<br>displayName:Mike Evans<br>Position:RWR<br>Role:Pass Route",
            "nflId:42377.0<br>displayName:Donovan Smith<br>Position:LT<br>Role:Pass Block",
            "nflId:42404.0<br>displayName:Ali Marpet<br>Position:LG<br>Role:Pass Block",
            "nflId:44896.0<br>displayName:Chris Godwin<br>Position:SLWR<br>Role:Pass Route",
            "nflId:46163.0<br>displayName:Alex Cappa<br>Position:RG<br>Role:Pass Block",
            "nflId:52421.0<br>displayName:Tristan Wirfs<br>Position:RT<br>Role:Pass Block"
           ],
           "marker": {
            "color": "#D50A0A"
           },
           "mode": "markers",
           "name": "TB",
           "type": "scatter",
           "x": [
            32.69,
            46.88,
            54.72,
            37.69,
            36.31,
            46.61,
            33.9,
            39.43,
            53.64,
            35.54,
            34.29
           ],
           "y": [
            20.5,
            44.67,
            41.19,
            15.17,
            21.42,
            31.87,
            24.09,
            27.87,
            22.02,
            26.09,
            23.41
           ]
          },
          {
           "hoverinfo": "text",
           "hovertext": [
            "nflId:41263.0<br>displayName:Demarcus Lawrence<br>Position:LEO<br>Role:Pass Rush",
            "nflId:42403.0<br>displayName:Randy Gregory<br>Position:ROLB<br>Role:Pass Rush",
            "nflId:43306.0<br>displayName:Keanu Neal<br>Position:ROLB<br>Role:Coverage",
            "nflId:43478.0<br>displayName:Anthony Brown<br>Position:RCB<br>Role:Coverage",
            "nflId:44904.0<br>displayName:Jourdan Lewis<br>Position:SCBR<br>Role:Coverage",
            "nflId:44955.0<br>displayName:Carlos Watkins<br>Position:DRT<br>Role:Pass Rush",
            "nflId:44962.0<br>displayName:Damontae Kazee<br>Position:FS<br>Role:Coverage",
            "nflId:47996.0<br>displayName:Donovan Wilson<br>Position:LILB<br>Role:Coverage",
            "nflId:52459.0<br>displayName:Trevon Diggs<br>Position:LCB<br>Role:Coverage",
            "nflId:53441.0<br>displayName:Micah Parsons<br>Position:LILB<br>Role:Pass Rush",
            "nflId:53504.0<br>displayName:Osa Odighizuwa<br>Position:RE<br>Role:Pass Rush"
           ],
           "marker": {
            "color": "#003594"
           },
           "mode": "markers",
           "name": "DAL",
           "type": "scatter",
           "x": [
            33.21,
            34.39,
            48.03,
            55.34,
            54.39,
            40.47,
            69.32,
            46.7,
            50.26,
            33.77,
            34.42
           ],
           "y": [
            24.06,
            24.48,
            43.14,
            42.82,
            23.31,
            28.73,
            30.43,
            19.09,
            26.02,
            22.7,
            20.06
           ]
          },
          {
           "hoverinfo": "none",
           "marker": {
            "color": "#CBB67C"
           },
           "mode": "markers",
           "name": "football",
           "type": "scatter",
           "x": [
            36.55
           ],
           "y": [
            19.21
           ]
          }
         ],
         "name": "40"
        },
        {
         "data": [
          {
           "hoverinfo": "none",
           "mode": "text",
           "showlegend": false,
           "text": [
            "10",
            "20",
            "30",
            "40",
            "50",
            "40",
            "30",
            "20",
            "10"
           ],
           "textfont": {
            "color": "#ffffff",
            "family": "Courier New, monospace",
            "size": 30
           },
           "type": "scatter",
           "x": [
            20,
            30,
            40,
            50,
            60,
            70,
            80,
            90,
            100
           ],
           "y": [
            5,
            5,
            5,
            5,
            5,
            5,
            5,
            5,
            5
           ]
          },
          {
           "hoverinfo": "none",
           "mode": "text",
           "showlegend": false,
           "text": [
            "10",
            "20",
            "30",
            "40",
            "50",
            "40",
            "30",
            "20",
            "10"
           ],
           "textfont": {
            "color": "#ffffff",
            "family": "Courier New, monospace",
            "size": 30
           },
           "type": "scatter",
           "x": [
            20,
            30,
            40,
            50,
            60,
            70,
            80,
            90,
            100
           ],
           "y": [
            48.5,
            48.5,
            48.5,
            48.5,
            48.5,
            48.5,
            48.5,
            48.5,
            48.5
           ]
          },
          {
           "hoverinfo": "none",
           "line": {
            "color": "blue",
            "dash": "dash"
           },
           "showlegend": false,
           "type": "scatter",
           "x": [
            43,
            43
           ],
           "y": [
            0,
            53.5
           ]
          },
          {
           "hoverinfo": "none",
           "line": {
            "color": "yellow",
            "dash": "dash"
           },
           "showlegend": false,
           "type": "scatter",
           "x": [
            45,
            45
           ],
           "y": [
            0,
            53.5
           ]
          },
          {
           "hoverinfo": "text",
           "hovertext": [
            "nflId:25511.0<br>displayName:Tom Brady<br>Position:QB<br>Role:Pass",
            "nflId:35481.0<br>displayName:Rob Gronkowski<br>Position:TE-L<br>Role:Pass Route",
            "nflId:35634.0<br>displayName:Antonio Brown<br>Position:LWR<br>Role:Pass Route",
            "nflId:39985.0<br>displayName:Giovani Bernard<br>Position:HB-R<br>Role:Pass Route",
            "nflId:40151.0<br>displayName:Ryan Jensen<br>Position:C<br>Role:Pass Block",
            "nflId:41233.0<br>displayName:Mike Evans<br>Position:RWR<br>Role:Pass Route",
            "nflId:42377.0<br>displayName:Donovan Smith<br>Position:LT<br>Role:Pass Block",
            "nflId:42404.0<br>displayName:Ali Marpet<br>Position:LG<br>Role:Pass Block",
            "nflId:44896.0<br>displayName:Chris Godwin<br>Position:SLWR<br>Role:Pass Route",
            "nflId:46163.0<br>displayName:Alex Cappa<br>Position:RG<br>Role:Pass Block",
            "nflId:52421.0<br>displayName:Tristan Wirfs<br>Position:RT<br>Role:Pass Block"
           ],
           "marker": {
            "color": "#D50A0A"
           },
           "mode": "markers",
           "name": "TB",
           "type": "scatter",
           "x": [
            32.53,
            47.17,
            54.89,
            37.95,
            36,
            46.76,
            33.83,
            39.57,
            53.91,
            35.33,
            34.01
           ],
           "y": [
            20.17,
            45.2,
            40.81,
            14.66,
            21.13,
            32.45,
            24.03,
            27.88,
            21.27,
            26.17,
            23.44
           ]
          },
          {
           "hoverinfo": "text",
           "hovertext": [
            "nflId:41263.0<br>displayName:Demarcus Lawrence<br>Position:LEO<br>Role:Pass Rush",
            "nflId:42403.0<br>displayName:Randy Gregory<br>Position:ROLB<br>Role:Pass Rush",
            "nflId:43306.0<br>displayName:Keanu Neal<br>Position:ROLB<br>Role:Coverage",
            "nflId:43478.0<br>displayName:Anthony Brown<br>Position:RCB<br>Role:Coverage",
            "nflId:44904.0<br>displayName:Jourdan Lewis<br>Position:SCBR<br>Role:Coverage",
            "nflId:44955.0<br>displayName:Carlos Watkins<br>Position:DRT<br>Role:Pass Rush",
            "nflId:44962.0<br>displayName:Damontae Kazee<br>Position:FS<br>Role:Coverage",
            "nflId:47996.0<br>displayName:Donovan Wilson<br>Position:LILB<br>Role:Coverage",
            "nflId:52459.0<br>displayName:Trevon Diggs<br>Position:LCB<br>Role:Coverage",
            "nflId:53441.0<br>displayName:Micah Parsons<br>Position:LILB<br>Role:Pass Rush",
            "nflId:53504.0<br>displayName:Osa Odighizuwa<br>Position:RE<br>Role:Pass Rush"
           ],
           "marker": {
            "color": "#003594"
           },
           "mode": "markers",
           "name": "DAL",
           "type": "scatter",
           "x": [
            32.85,
            34.38,
            48.3,
            55.44,
            54.75,
            40.6,
            69.7,
            46.62,
            50.31,
            33.58,
            33.97
           ],
           "y": [
            23.95,
            24.38,
            43.22,
            42.7,
            22.58,
            28.72,
            30.19,
            18.41,
            26.7,
            22.38,
            19.95
           ]
          },
          {
           "hoverinfo": "none",
           "marker": {
            "color": "#CBB67C"
           },
           "mode": "markers",
           "name": "football",
           "type": "scatter",
           "x": [
            37.77
           ],
           "y": [
            18.49
           ]
          }
         ],
         "name": "41"
        },
        {
         "data": [
          {
           "hoverinfo": "none",
           "mode": "text",
           "showlegend": false,
           "text": [
            "10",
            "20",
            "30",
            "40",
            "50",
            "40",
            "30",
            "20",
            "10"
           ],
           "textfont": {
            "color": "#ffffff",
            "family": "Courier New, monospace",
            "size": 30
           },
           "type": "scatter",
           "x": [
            20,
            30,
            40,
            50,
            60,
            70,
            80,
            90,
            100
           ],
           "y": [
            5,
            5,
            5,
            5,
            5,
            5,
            5,
            5,
            5
           ]
          },
          {
           "hoverinfo": "none",
           "mode": "text",
           "showlegend": false,
           "text": [
            "10",
            "20",
            "30",
            "40",
            "50",
            "40",
            "30",
            "20",
            "10"
           ],
           "textfont": {
            "color": "#ffffff",
            "family": "Courier New, monospace",
            "size": 30
           },
           "type": "scatter",
           "x": [
            20,
            30,
            40,
            50,
            60,
            70,
            80,
            90,
            100
           ],
           "y": [
            48.5,
            48.5,
            48.5,
            48.5,
            48.5,
            48.5,
            48.5,
            48.5,
            48.5
           ]
          },
          {
           "hoverinfo": "none",
           "line": {
            "color": "blue",
            "dash": "dash"
           },
           "showlegend": false,
           "type": "scatter",
           "x": [
            43,
            43
           ],
           "y": [
            0,
            53.5
           ]
          },
          {
           "hoverinfo": "none",
           "line": {
            "color": "yellow",
            "dash": "dash"
           },
           "showlegend": false,
           "type": "scatter",
           "x": [
            45,
            45
           ],
           "y": [
            0,
            53.5
           ]
          },
          {
           "hoverinfo": "text",
           "hovertext": [
            "nflId:25511.0<br>displayName:Tom Brady<br>Position:QB<br>Role:Pass",
            "nflId:35481.0<br>displayName:Rob Gronkowski<br>Position:TE-L<br>Role:Pass Route",
            "nflId:35634.0<br>displayName:Antonio Brown<br>Position:LWR<br>Role:Pass Route",
            "nflId:39985.0<br>displayName:Giovani Bernard<br>Position:HB-R<br>Role:Pass Route",
            "nflId:40151.0<br>displayName:Ryan Jensen<br>Position:C<br>Role:Pass Block",
            "nflId:41233.0<br>displayName:Mike Evans<br>Position:RWR<br>Role:Pass Route",
            "nflId:42377.0<br>displayName:Donovan Smith<br>Position:LT<br>Role:Pass Block",
            "nflId:42404.0<br>displayName:Ali Marpet<br>Position:LG<br>Role:Pass Block",
            "nflId:44896.0<br>displayName:Chris Godwin<br>Position:SLWR<br>Role:Pass Route",
            "nflId:46163.0<br>displayName:Alex Cappa<br>Position:RG<br>Role:Pass Block",
            "nflId:52421.0<br>displayName:Tristan Wirfs<br>Position:RT<br>Role:Pass Block"
           ],
           "marker": {
            "color": "#D50A0A"
           },
           "mode": "markers",
           "name": "TB",
           "type": "scatter",
           "x": [
            32.3,
            47.49,
            55.05,
            38.26,
            35.71,
            46.92,
            33.74,
            39.73,
            54.15,
            35.15,
            33.72
           ],
           "y": [
            19.85,
            45.71,
            40.4,
            14.15,
            20.85,
            32.99,
            23.99,
            27.88,
            20.49,
            26.19,
            23.45
           ]
          },
          {
           "hoverinfo": "text",
           "hovertext": [
            "nflId:41263.0<br>displayName:Demarcus Lawrence<br>Position:LEO<br>Role:Pass Rush",
            "nflId:42403.0<br>displayName:Randy Gregory<br>Position:ROLB<br>Role:Pass Rush",
            "nflId:43306.0<br>displayName:Keanu Neal<br>Position:ROLB<br>Role:Coverage",
            "nflId:43478.0<br>displayName:Anthony Brown<br>Position:RCB<br>Role:Coverage",
            "nflId:44904.0<br>displayName:Jourdan Lewis<br>Position:SCBR<br>Role:Coverage",
            "nflId:44955.0<br>displayName:Carlos Watkins<br>Position:DRT<br>Role:Pass Rush",
            "nflId:44962.0<br>displayName:Damontae Kazee<br>Position:FS<br>Role:Coverage",
            "nflId:47996.0<br>displayName:Donovan Wilson<br>Position:LILB<br>Role:Coverage",
            "nflId:52459.0<br>displayName:Trevon Diggs<br>Position:LCB<br>Role:Coverage",
            "nflId:53441.0<br>displayName:Micah Parsons<br>Position:LILB<br>Role:Pass Rush",
            "nflId:53504.0<br>displayName:Osa Odighizuwa<br>Position:RE<br>Role:Pass Rush"
           ],
           "marker": {
            "color": "#003594"
           },
           "mode": "markers",
           "name": "DAL",
           "type": "scatter",
           "x": [
            32.49,
            34.37,
            48.57,
            55.57,
            55.1,
            40.77,
            70.1,
            46.55,
            50.36,
            33.44,
            33.57
           ],
           "y": [
            23.86,
            24.3,
            43.25,
            42.28,
            21.83,
            28.67,
            29.93,
            17.73,
            27.4,
            21.98,
            19.81
           ]
          },
          {
           "hoverinfo": "none",
           "marker": {
            "color": "#CBB67C"
           },
           "mode": "markers",
           "name": "football",
           "type": "scatter",
           "x": [
            38.91
           ],
           "y": [
            17.79
           ]
          }
         ],
         "name": "42"
        },
        {
         "data": [
          {
           "hoverinfo": "none",
           "mode": "text",
           "showlegend": false,
           "text": [
            "10",
            "20",
            "30",
            "40",
            "50",
            "40",
            "30",
            "20",
            "10"
           ],
           "textfont": {
            "color": "#ffffff",
            "family": "Courier New, monospace",
            "size": 30
           },
           "type": "scatter",
           "x": [
            20,
            30,
            40,
            50,
            60,
            70,
            80,
            90,
            100
           ],
           "y": [
            5,
            5,
            5,
            5,
            5,
            5,
            5,
            5,
            5
           ]
          },
          {
           "hoverinfo": "none",
           "mode": "text",
           "showlegend": false,
           "text": [
            "10",
            "20",
            "30",
            "40",
            "50",
            "40",
            "30",
            "20",
            "10"
           ],
           "textfont": {
            "color": "#ffffff",
            "family": "Courier New, monospace",
            "size": 30
           },
           "type": "scatter",
           "x": [
            20,
            30,
            40,
            50,
            60,
            70,
            80,
            90,
            100
           ],
           "y": [
            48.5,
            48.5,
            48.5,
            48.5,
            48.5,
            48.5,
            48.5,
            48.5,
            48.5
           ]
          },
          {
           "hoverinfo": "none",
           "line": {
            "color": "blue",
            "dash": "dash"
           },
           "showlegend": false,
           "type": "scatter",
           "x": [
            43,
            43
           ],
           "y": [
            0,
            53.5
           ]
          },
          {
           "hoverinfo": "none",
           "line": {
            "color": "yellow",
            "dash": "dash"
           },
           "showlegend": false,
           "type": "scatter",
           "x": [
            45,
            45
           ],
           "y": [
            0,
            53.5
           ]
          },
          {
           "hoverinfo": "text",
           "hovertext": [
            "nflId:25511.0<br>displayName:Tom Brady<br>Position:QB<br>Role:Pass",
            "nflId:35481.0<br>displayName:Rob Gronkowski<br>Position:TE-L<br>Role:Pass Route",
            "nflId:35634.0<br>displayName:Antonio Brown<br>Position:LWR<br>Role:Pass Route",
            "nflId:39985.0<br>displayName:Giovani Bernard<br>Position:HB-R<br>Role:Pass Route",
            "nflId:40151.0<br>displayName:Ryan Jensen<br>Position:C<br>Role:Pass Block",
            "nflId:41233.0<br>displayName:Mike Evans<br>Position:RWR<br>Role:Pass Route",
            "nflId:42377.0<br>displayName:Donovan Smith<br>Position:LT<br>Role:Pass Block",
            "nflId:42404.0<br>displayName:Ali Marpet<br>Position:LG<br>Role:Pass Block",
            "nflId:44896.0<br>displayName:Chris Godwin<br>Position:SLWR<br>Role:Pass Route",
            "nflId:46163.0<br>displayName:Alex Cappa<br>Position:RG<br>Role:Pass Block",
            "nflId:52421.0<br>displayName:Tristan Wirfs<br>Position:RT<br>Role:Pass Block"
           ],
           "marker": {
            "color": "#D50A0A"
           },
           "mode": "markers",
           "name": "TB",
           "type": "scatter",
           "x": [
            32.07,
            47.82,
            55.21,
            38.58,
            35.43,
            47.07,
            33.64,
            39.95,
            54.37,
            35,
            33.46
           ],
           "y": [
            19.54,
            46.17,
            39.97,
            13.66,
            20.54,
            33.47,
            23.95,
            27.86,
            19.68,
            26.16,
            23.48
           ]
          },
          {
           "hoverinfo": "text",
           "hovertext": [
            "nflId:41263.0<br>displayName:Demarcus Lawrence<br>Position:LEO<br>Role:Pass Rush",
            "nflId:42403.0<br>displayName:Randy Gregory<br>Position:ROLB<br>Role:Pass Rush",
            "nflId:43306.0<br>displayName:Keanu Neal<br>Position:ROLB<br>Role:Coverage",
            "nflId:43478.0<br>displayName:Anthony Brown<br>Position:RCB<br>Role:Coverage",
            "nflId:44904.0<br>displayName:Jourdan Lewis<br>Position:SCBR<br>Role:Coverage",
            "nflId:44955.0<br>displayName:Carlos Watkins<br>Position:DRT<br>Role:Pass Rush",
            "nflId:44962.0<br>displayName:Damontae Kazee<br>Position:FS<br>Role:Coverage",
            "nflId:47996.0<br>displayName:Donovan Wilson<br>Position:LILB<br>Role:Coverage",
            "nflId:52459.0<br>displayName:Trevon Diggs<br>Position:LCB<br>Role:Coverage",
            "nflId:53441.0<br>displayName:Micah Parsons<br>Position:LILB<br>Role:Pass Rush",
            "nflId:53504.0<br>displayName:Osa Odighizuwa<br>Position:RE<br>Role:Pass Rush"
           ],
           "marker": {
            "color": "#003594"
           },
           "mode": "markers",
           "name": "DAL",
           "type": "scatter",
           "x": [
            32.13,
            34.37,
            48.85,
            55.68,
            55.4,
            40.95,
            70.47,
            46.47,
            50.39,
            33.35,
            33.17
           ],
           "y": [
            23.79,
            24.25,
            43.21,
            41.96,
            21.06,
            28.53,
            29.6,
            17.04,
            28.09,
            21.52,
            19.71
           ]
          },
          {
           "hoverinfo": "none",
           "marker": {
            "color": "#CBB67C"
           },
           "mode": "markers",
           "name": "football",
           "type": "scatter",
           "x": [
            40.07
           ],
           "y": [
            17.08
           ]
          }
         ],
         "name": "43"
        }
       ],
       "layout": {
        "annotations": [
         {
          "align": "center",
          "bgcolor": "#ff7f0e",
          "bordercolor": "black",
          "borderpad": 4,
          "borderwidth": 2,
          "font": {
           "color": "black",
           "family": "Courier New, monospace",
           "size": 16
          },
          "opacity": 1,
          "showarrow": false,
          "text": "3",
          "x": 45,
          "y": 0
         },
         {
          "align": "center",
          "bgcolor": "#ff7f0e",
          "bordercolor": "black",
          "borderpad": 4,
          "borderwidth": 2,
          "font": {
           "color": "black",
           "family": "Courier New, monospace",
           "size": 16
          },
          "opacity": 1,
          "showarrow": false,
          "text": "3",
          "x": 45,
          "y": 53
         }
        ],
        "autosize": false,
        "height": 600,
        "plot_bgcolor": "#00B140",
        "sliders": [
         {
          "active": 0,
          "currentvalue": {
           "font": {
            "size": 20
           },
           "prefix": "Frame:",
           "visible": true,
           "xanchor": "right"
          },
          "len": 0.9,
          "pad": {
           "b": 10,
           "t": 50
          },
          "steps": [
           {
            "args": [
             [
              1
             ],
             {
              "frame": {
               "duration": 100,
               "redraw": false
              },
              "mode": "immediate",
              "transition": {
               "duration": 0
              }
             }
            ],
            "label": "1",
            "method": "animate"
           },
           {
            "args": [
             [
              2
             ],
             {
              "frame": {
               "duration": 100,
               "redraw": false
              },
              "mode": "immediate",
              "transition": {
               "duration": 0
              }
             }
            ],
            "label": "2",
            "method": "animate"
           },
           {
            "args": [
             [
              3
             ],
             {
              "frame": {
               "duration": 100,
               "redraw": false
              },
              "mode": "immediate",
              "transition": {
               "duration": 0
              }
             }
            ],
            "label": "3",
            "method": "animate"
           },
           {
            "args": [
             [
              4
             ],
             {
              "frame": {
               "duration": 100,
               "redraw": false
              },
              "mode": "immediate",
              "transition": {
               "duration": 0
              }
             }
            ],
            "label": "4",
            "method": "animate"
           },
           {
            "args": [
             [
              5
             ],
             {
              "frame": {
               "duration": 100,
               "redraw": false
              },
              "mode": "immediate",
              "transition": {
               "duration": 0
              }
             }
            ],
            "label": "5",
            "method": "animate"
           },
           {
            "args": [
             [
              6
             ],
             {
              "frame": {
               "duration": 100,
               "redraw": false
              },
              "mode": "immediate",
              "transition": {
               "duration": 0
              }
             }
            ],
            "label": "6",
            "method": "animate"
           },
           {
            "args": [
             [
              7
             ],
             {
              "frame": {
               "duration": 100,
               "redraw": false
              },
              "mode": "immediate",
              "transition": {
               "duration": 0
              }
             }
            ],
            "label": "7",
            "method": "animate"
           },
           {
            "args": [
             [
              8
             ],
             {
              "frame": {
               "duration": 100,
               "redraw": false
              },
              "mode": "immediate",
              "transition": {
               "duration": 0
              }
             }
            ],
            "label": "8",
            "method": "animate"
           },
           {
            "args": [
             [
              9
             ],
             {
              "frame": {
               "duration": 100,
               "redraw": false
              },
              "mode": "immediate",
              "transition": {
               "duration": 0
              }
             }
            ],
            "label": "9",
            "method": "animate"
           },
           {
            "args": [
             [
              10
             ],
             {
              "frame": {
               "duration": 100,
               "redraw": false
              },
              "mode": "immediate",
              "transition": {
               "duration": 0
              }
             }
            ],
            "label": "10",
            "method": "animate"
           },
           {
            "args": [
             [
              11
             ],
             {
              "frame": {
               "duration": 100,
               "redraw": false
              },
              "mode": "immediate",
              "transition": {
               "duration": 0
              }
             }
            ],
            "label": "11",
            "method": "animate"
           },
           {
            "args": [
             [
              12
             ],
             {
              "frame": {
               "duration": 100,
               "redraw": false
              },
              "mode": "immediate",
              "transition": {
               "duration": 0
              }
             }
            ],
            "label": "12",
            "method": "animate"
           },
           {
            "args": [
             [
              13
             ],
             {
              "frame": {
               "duration": 100,
               "redraw": false
              },
              "mode": "immediate",
              "transition": {
               "duration": 0
              }
             }
            ],
            "label": "13",
            "method": "animate"
           },
           {
            "args": [
             [
              14
             ],
             {
              "frame": {
               "duration": 100,
               "redraw": false
              },
              "mode": "immediate",
              "transition": {
               "duration": 0
              }
             }
            ],
            "label": "14",
            "method": "animate"
           },
           {
            "args": [
             [
              15
             ],
             {
              "frame": {
               "duration": 100,
               "redraw": false
              },
              "mode": "immediate",
              "transition": {
               "duration": 0
              }
             }
            ],
            "label": "15",
            "method": "animate"
           },
           {
            "args": [
             [
              16
             ],
             {
              "frame": {
               "duration": 100,
               "redraw": false
              },
              "mode": "immediate",
              "transition": {
               "duration": 0
              }
             }
            ],
            "label": "16",
            "method": "animate"
           },
           {
            "args": [
             [
              17
             ],
             {
              "frame": {
               "duration": 100,
               "redraw": false
              },
              "mode": "immediate",
              "transition": {
               "duration": 0
              }
             }
            ],
            "label": "17",
            "method": "animate"
           },
           {
            "args": [
             [
              18
             ],
             {
              "frame": {
               "duration": 100,
               "redraw": false
              },
              "mode": "immediate",
              "transition": {
               "duration": 0
              }
             }
            ],
            "label": "18",
            "method": "animate"
           },
           {
            "args": [
             [
              19
             ],
             {
              "frame": {
               "duration": 100,
               "redraw": false
              },
              "mode": "immediate",
              "transition": {
               "duration": 0
              }
             }
            ],
            "label": "19",
            "method": "animate"
           },
           {
            "args": [
             [
              20
             ],
             {
              "frame": {
               "duration": 100,
               "redraw": false
              },
              "mode": "immediate",
              "transition": {
               "duration": 0
              }
             }
            ],
            "label": "20",
            "method": "animate"
           },
           {
            "args": [
             [
              21
             ],
             {
              "frame": {
               "duration": 100,
               "redraw": false
              },
              "mode": "immediate",
              "transition": {
               "duration": 0
              }
             }
            ],
            "label": "21",
            "method": "animate"
           },
           {
            "args": [
             [
              22
             ],
             {
              "frame": {
               "duration": 100,
               "redraw": false
              },
              "mode": "immediate",
              "transition": {
               "duration": 0
              }
             }
            ],
            "label": "22",
            "method": "animate"
           },
           {
            "args": [
             [
              23
             ],
             {
              "frame": {
               "duration": 100,
               "redraw": false
              },
              "mode": "immediate",
              "transition": {
               "duration": 0
              }
             }
            ],
            "label": "23",
            "method": "animate"
           },
           {
            "args": [
             [
              24
             ],
             {
              "frame": {
               "duration": 100,
               "redraw": false
              },
              "mode": "immediate",
              "transition": {
               "duration": 0
              }
             }
            ],
            "label": "24",
            "method": "animate"
           },
           {
            "args": [
             [
              25
             ],
             {
              "frame": {
               "duration": 100,
               "redraw": false
              },
              "mode": "immediate",
              "transition": {
               "duration": 0
              }
             }
            ],
            "label": "25",
            "method": "animate"
           },
           {
            "args": [
             [
              26
             ],
             {
              "frame": {
               "duration": 100,
               "redraw": false
              },
              "mode": "immediate",
              "transition": {
               "duration": 0
              }
             }
            ],
            "label": "26",
            "method": "animate"
           },
           {
            "args": [
             [
              27
             ],
             {
              "frame": {
               "duration": 100,
               "redraw": false
              },
              "mode": "immediate",
              "transition": {
               "duration": 0
              }
             }
            ],
            "label": "27",
            "method": "animate"
           },
           {
            "args": [
             [
              28
             ],
             {
              "frame": {
               "duration": 100,
               "redraw": false
              },
              "mode": "immediate",
              "transition": {
               "duration": 0
              }
             }
            ],
            "label": "28",
            "method": "animate"
           },
           {
            "args": [
             [
              29
             ],
             {
              "frame": {
               "duration": 100,
               "redraw": false
              },
              "mode": "immediate",
              "transition": {
               "duration": 0
              }
             }
            ],
            "label": "29",
            "method": "animate"
           },
           {
            "args": [
             [
              30
             ],
             {
              "frame": {
               "duration": 100,
               "redraw": false
              },
              "mode": "immediate",
              "transition": {
               "duration": 0
              }
             }
            ],
            "label": "30",
            "method": "animate"
           },
           {
            "args": [
             [
              31
             ],
             {
              "frame": {
               "duration": 100,
               "redraw": false
              },
              "mode": "immediate",
              "transition": {
               "duration": 0
              }
             }
            ],
            "label": "31",
            "method": "animate"
           },
           {
            "args": [
             [
              32
             ],
             {
              "frame": {
               "duration": 100,
               "redraw": false
              },
              "mode": "immediate",
              "transition": {
               "duration": 0
              }
             }
            ],
            "label": "32",
            "method": "animate"
           },
           {
            "args": [
             [
              33
             ],
             {
              "frame": {
               "duration": 100,
               "redraw": false
              },
              "mode": "immediate",
              "transition": {
               "duration": 0
              }
             }
            ],
            "label": "33",
            "method": "animate"
           },
           {
            "args": [
             [
              34
             ],
             {
              "frame": {
               "duration": 100,
               "redraw": false
              },
              "mode": "immediate",
              "transition": {
               "duration": 0
              }
             }
            ],
            "label": "34",
            "method": "animate"
           },
           {
            "args": [
             [
              35
             ],
             {
              "frame": {
               "duration": 100,
               "redraw": false
              },
              "mode": "immediate",
              "transition": {
               "duration": 0
              }
             }
            ],
            "label": "35",
            "method": "animate"
           },
           {
            "args": [
             [
              36
             ],
             {
              "frame": {
               "duration": 100,
               "redraw": false
              },
              "mode": "immediate",
              "transition": {
               "duration": 0
              }
             }
            ],
            "label": "36",
            "method": "animate"
           },
           {
            "args": [
             [
              37
             ],
             {
              "frame": {
               "duration": 100,
               "redraw": false
              },
              "mode": "immediate",
              "transition": {
               "duration": 0
              }
             }
            ],
            "label": "37",
            "method": "animate"
           },
           {
            "args": [
             [
              38
             ],
             {
              "frame": {
               "duration": 100,
               "redraw": false
              },
              "mode": "immediate",
              "transition": {
               "duration": 0
              }
             }
            ],
            "label": "38",
            "method": "animate"
           },
           {
            "args": [
             [
              39
             ],
             {
              "frame": {
               "duration": 100,
               "redraw": false
              },
              "mode": "immediate",
              "transition": {
               "duration": 0
              }
             }
            ],
            "label": "39",
            "method": "animate"
           },
           {
            "args": [
             [
              40
             ],
             {
              "frame": {
               "duration": 100,
               "redraw": false
              },
              "mode": "immediate",
              "transition": {
               "duration": 0
              }
             }
            ],
            "label": "40",
            "method": "animate"
           },
           {
            "args": [
             [
              41
             ],
             {
              "frame": {
               "duration": 100,
               "redraw": false
              },
              "mode": "immediate",
              "transition": {
               "duration": 0
              }
             }
            ],
            "label": "41",
            "method": "animate"
           },
           {
            "args": [
             [
              42
             ],
             {
              "frame": {
               "duration": 100,
               "redraw": false
              },
              "mode": "immediate",
              "transition": {
               "duration": 0
              }
             }
            ],
            "label": "42",
            "method": "animate"
           },
           {
            "args": [
             [
              43
             ],
             {
              "frame": {
               "duration": 100,
               "redraw": false
              },
              "mode": "immediate",
              "transition": {
               "duration": 0
              }
             }
            ],
            "label": "43",
            "method": "animate"
           }
          ],
          "transition": {
           "duration": 300,
           "easing": "cubic-in-out"
          },
          "x": 0.1,
          "xanchor": "left",
          "y": 0,
          "yanchor": "top"
         }
        ],
        "template": {
         "data": {
          "bar": [
           {
            "error_x": {
             "color": "#2a3f5f"
            },
            "error_y": {
             "color": "#2a3f5f"
            },
            "marker": {
             "line": {
              "color": "#E5ECF6",
              "width": 0.5
             },
             "pattern": {
              "fillmode": "overlay",
              "size": 10,
              "solidity": 0.2
             }
            },
            "type": "bar"
           }
          ],
          "barpolar": [
           {
            "marker": {
             "line": {
              "color": "#E5ECF6",
              "width": 0.5
             },
             "pattern": {
              "fillmode": "overlay",
              "size": 10,
              "solidity": 0.2
             }
            },
            "type": "barpolar"
           }
          ],
          "carpet": [
           {
            "aaxis": {
             "endlinecolor": "#2a3f5f",
             "gridcolor": "white",
             "linecolor": "white",
             "minorgridcolor": "white",
             "startlinecolor": "#2a3f5f"
            },
            "baxis": {
             "endlinecolor": "#2a3f5f",
             "gridcolor": "white",
             "linecolor": "white",
             "minorgridcolor": "white",
             "startlinecolor": "#2a3f5f"
            },
            "type": "carpet"
           }
          ],
          "choropleth": [
           {
            "colorbar": {
             "outlinewidth": 0,
             "ticks": ""
            },
            "type": "choropleth"
           }
          ],
          "contour": [
           {
            "colorbar": {
             "outlinewidth": 0,
             "ticks": ""
            },
            "colorscale": [
             [
              0,
              "#0d0887"
             ],
             [
              0.1111111111111111,
              "#46039f"
             ],
             [
              0.2222222222222222,
              "#7201a8"
             ],
             [
              0.3333333333333333,
              "#9c179e"
             ],
             [
              0.4444444444444444,
              "#bd3786"
             ],
             [
              0.5555555555555556,
              "#d8576b"
             ],
             [
              0.6666666666666666,
              "#ed7953"
             ],
             [
              0.7777777777777778,
              "#fb9f3a"
             ],
             [
              0.8888888888888888,
              "#fdca26"
             ],
             [
              1,
              "#f0f921"
             ]
            ],
            "type": "contour"
           }
          ],
          "contourcarpet": [
           {
            "colorbar": {
             "outlinewidth": 0,
             "ticks": ""
            },
            "type": "contourcarpet"
           }
          ],
          "heatmap": [
           {
            "colorbar": {
             "outlinewidth": 0,
             "ticks": ""
            },
            "colorscale": [
             [
              0,
              "#0d0887"
             ],
             [
              0.1111111111111111,
              "#46039f"
             ],
             [
              0.2222222222222222,
              "#7201a8"
             ],
             [
              0.3333333333333333,
              "#9c179e"
             ],
             [
              0.4444444444444444,
              "#bd3786"
             ],
             [
              0.5555555555555556,
              "#d8576b"
             ],
             [
              0.6666666666666666,
              "#ed7953"
             ],
             [
              0.7777777777777778,
              "#fb9f3a"
             ],
             [
              0.8888888888888888,
              "#fdca26"
             ],
             [
              1,
              "#f0f921"
             ]
            ],
            "type": "heatmap"
           }
          ],
          "heatmapgl": [
           {
            "colorbar": {
             "outlinewidth": 0,
             "ticks": ""
            },
            "colorscale": [
             [
              0,
              "#0d0887"
             ],
             [
              0.1111111111111111,
              "#46039f"
             ],
             [
              0.2222222222222222,
              "#7201a8"
             ],
             [
              0.3333333333333333,
              "#9c179e"
             ],
             [
              0.4444444444444444,
              "#bd3786"
             ],
             [
              0.5555555555555556,
              "#d8576b"
             ],
             [
              0.6666666666666666,
              "#ed7953"
             ],
             [
              0.7777777777777778,
              "#fb9f3a"
             ],
             [
              0.8888888888888888,
              "#fdca26"
             ],
             [
              1,
              "#f0f921"
             ]
            ],
            "type": "heatmapgl"
           }
          ],
          "histogram": [
           {
            "marker": {
             "pattern": {
              "fillmode": "overlay",
              "size": 10,
              "solidity": 0.2
             }
            },
            "type": "histogram"
           }
          ],
          "histogram2d": [
           {
            "colorbar": {
             "outlinewidth": 0,
             "ticks": ""
            },
            "colorscale": [
             [
              0,
              "#0d0887"
             ],
             [
              0.1111111111111111,
              "#46039f"
             ],
             [
              0.2222222222222222,
              "#7201a8"
             ],
             [
              0.3333333333333333,
              "#9c179e"
             ],
             [
              0.4444444444444444,
              "#bd3786"
             ],
             [
              0.5555555555555556,
              "#d8576b"
             ],
             [
              0.6666666666666666,
              "#ed7953"
             ],
             [
              0.7777777777777778,
              "#fb9f3a"
             ],
             [
              0.8888888888888888,
              "#fdca26"
             ],
             [
              1,
              "#f0f921"
             ]
            ],
            "type": "histogram2d"
           }
          ],
          "histogram2dcontour": [
           {
            "colorbar": {
             "outlinewidth": 0,
             "ticks": ""
            },
            "colorscale": [
             [
              0,
              "#0d0887"
             ],
             [
              0.1111111111111111,
              "#46039f"
             ],
             [
              0.2222222222222222,
              "#7201a8"
             ],
             [
              0.3333333333333333,
              "#9c179e"
             ],
             [
              0.4444444444444444,
              "#bd3786"
             ],
             [
              0.5555555555555556,
              "#d8576b"
             ],
             [
              0.6666666666666666,
              "#ed7953"
             ],
             [
              0.7777777777777778,
              "#fb9f3a"
             ],
             [
              0.8888888888888888,
              "#fdca26"
             ],
             [
              1,
              "#f0f921"
             ]
            ],
            "type": "histogram2dcontour"
           }
          ],
          "mesh3d": [
           {
            "colorbar": {
             "outlinewidth": 0,
             "ticks": ""
            },
            "type": "mesh3d"
           }
          ],
          "parcoords": [
           {
            "line": {
             "colorbar": {
              "outlinewidth": 0,
              "ticks": ""
             }
            },
            "type": "parcoords"
           }
          ],
          "pie": [
           {
            "automargin": true,
            "type": "pie"
           }
          ],
          "scatter": [
           {
            "fillpattern": {
             "fillmode": "overlay",
             "size": 10,
             "solidity": 0.2
            },
            "type": "scatter"
           }
          ],
          "scatter3d": [
           {
            "line": {
             "colorbar": {
              "outlinewidth": 0,
              "ticks": ""
             }
            },
            "marker": {
             "colorbar": {
              "outlinewidth": 0,
              "ticks": ""
             }
            },
            "type": "scatter3d"
           }
          ],
          "scattercarpet": [
           {
            "marker": {
             "colorbar": {
              "outlinewidth": 0,
              "ticks": ""
             }
            },
            "type": "scattercarpet"
           }
          ],
          "scattergeo": [
           {
            "marker": {
             "colorbar": {
              "outlinewidth": 0,
              "ticks": ""
             }
            },
            "type": "scattergeo"
           }
          ],
          "scattergl": [
           {
            "marker": {
             "colorbar": {
              "outlinewidth": 0,
              "ticks": ""
             }
            },
            "type": "scattergl"
           }
          ],
          "scattermapbox": [
           {
            "marker": {
             "colorbar": {
              "outlinewidth": 0,
              "ticks": ""
             }
            },
            "type": "scattermapbox"
           }
          ],
          "scatterpolar": [
           {
            "marker": {
             "colorbar": {
              "outlinewidth": 0,
              "ticks": ""
             }
            },
            "type": "scatterpolar"
           }
          ],
          "scatterpolargl": [
           {
            "marker": {
             "colorbar": {
              "outlinewidth": 0,
              "ticks": ""
             }
            },
            "type": "scatterpolargl"
           }
          ],
          "scatterternary": [
           {
            "marker": {
             "colorbar": {
              "outlinewidth": 0,
              "ticks": ""
             }
            },
            "type": "scatterternary"
           }
          ],
          "surface": [
           {
            "colorbar": {
             "outlinewidth": 0,
             "ticks": ""
            },
            "colorscale": [
             [
              0,
              "#0d0887"
             ],
             [
              0.1111111111111111,
              "#46039f"
             ],
             [
              0.2222222222222222,
              "#7201a8"
             ],
             [
              0.3333333333333333,
              "#9c179e"
             ],
             [
              0.4444444444444444,
              "#bd3786"
             ],
             [
              0.5555555555555556,
              "#d8576b"
             ],
             [
              0.6666666666666666,
              "#ed7953"
             ],
             [
              0.7777777777777778,
              "#fb9f3a"
             ],
             [
              0.8888888888888888,
              "#fdca26"
             ],
             [
              1,
              "#f0f921"
             ]
            ],
            "type": "surface"
           }
          ],
          "table": [
           {
            "cells": {
             "fill": {
              "color": "#EBF0F8"
             },
             "line": {
              "color": "white"
             }
            },
            "header": {
             "fill": {
              "color": "#C8D4E3"
             },
             "line": {
              "color": "white"
             }
            },
            "type": "table"
           }
          ]
         },
         "layout": {
          "annotationdefaults": {
           "arrowcolor": "#2a3f5f",
           "arrowhead": 0,
           "arrowwidth": 1
          },
          "autotypenumbers": "strict",
          "coloraxis": {
           "colorbar": {
            "outlinewidth": 0,
            "ticks": ""
           }
          },
          "colorscale": {
           "diverging": [
            [
             0,
             "#8e0152"
            ],
            [
             0.1,
             "#c51b7d"
            ],
            [
             0.2,
             "#de77ae"
            ],
            [
             0.3,
             "#f1b6da"
            ],
            [
             0.4,
             "#fde0ef"
            ],
            [
             0.5,
             "#f7f7f7"
            ],
            [
             0.6,
             "#e6f5d0"
            ],
            [
             0.7,
             "#b8e186"
            ],
            [
             0.8,
             "#7fbc41"
            ],
            [
             0.9,
             "#4d9221"
            ],
            [
             1,
             "#276419"
            ]
           ],
           "sequential": [
            [
             0,
             "#0d0887"
            ],
            [
             0.1111111111111111,
             "#46039f"
            ],
            [
             0.2222222222222222,
             "#7201a8"
            ],
            [
             0.3333333333333333,
             "#9c179e"
            ],
            [
             0.4444444444444444,
             "#bd3786"
            ],
            [
             0.5555555555555556,
             "#d8576b"
            ],
            [
             0.6666666666666666,
             "#ed7953"
            ],
            [
             0.7777777777777778,
             "#fb9f3a"
            ],
            [
             0.8888888888888888,
             "#fdca26"
            ],
            [
             1,
             "#f0f921"
            ]
           ],
           "sequentialminus": [
            [
             0,
             "#0d0887"
            ],
            [
             0.1111111111111111,
             "#46039f"
            ],
            [
             0.2222222222222222,
             "#7201a8"
            ],
            [
             0.3333333333333333,
             "#9c179e"
            ],
            [
             0.4444444444444444,
             "#bd3786"
            ],
            [
             0.5555555555555556,
             "#d8576b"
            ],
            [
             0.6666666666666666,
             "#ed7953"
            ],
            [
             0.7777777777777778,
             "#fb9f3a"
            ],
            [
             0.8888888888888888,
             "#fdca26"
            ],
            [
             1,
             "#f0f921"
            ]
           ]
          },
          "colorway": [
           "#636efa",
           "#EF553B",
           "#00cc96",
           "#ab63fa",
           "#FFA15A",
           "#19d3f3",
           "#FF6692",
           "#B6E880",
           "#FF97FF",
           "#FECB52"
          ],
          "font": {
           "color": "#2a3f5f"
          },
          "geo": {
           "bgcolor": "white",
           "lakecolor": "white",
           "landcolor": "#E5ECF6",
           "showlakes": true,
           "showland": true,
           "subunitcolor": "white"
          },
          "hoverlabel": {
           "align": "left"
          },
          "hovermode": "closest",
          "mapbox": {
           "style": "light"
          },
          "paper_bgcolor": "white",
          "plot_bgcolor": "#E5ECF6",
          "polar": {
           "angularaxis": {
            "gridcolor": "white",
            "linecolor": "white",
            "ticks": ""
           },
           "bgcolor": "#E5ECF6",
           "radialaxis": {
            "gridcolor": "white",
            "linecolor": "white",
            "ticks": ""
           }
          },
          "scene": {
           "xaxis": {
            "backgroundcolor": "#E5ECF6",
            "gridcolor": "white",
            "gridwidth": 2,
            "linecolor": "white",
            "showbackground": true,
            "ticks": "",
            "zerolinecolor": "white"
           },
           "yaxis": {
            "backgroundcolor": "#E5ECF6",
            "gridcolor": "white",
            "gridwidth": 2,
            "linecolor": "white",
            "showbackground": true,
            "ticks": "",
            "zerolinecolor": "white"
           },
           "zaxis": {
            "backgroundcolor": "#E5ECF6",
            "gridcolor": "white",
            "gridwidth": 2,
            "linecolor": "white",
            "showbackground": true,
            "ticks": "",
            "zerolinecolor": "white"
           }
          },
          "shapedefaults": {
           "line": {
            "color": "#2a3f5f"
           }
          },
          "ternary": {
           "aaxis": {
            "gridcolor": "white",
            "linecolor": "white",
            "ticks": ""
           },
           "baxis": {
            "gridcolor": "white",
            "linecolor": "white",
            "ticks": ""
           },
           "bgcolor": "#E5ECF6",
           "caxis": {
            "gridcolor": "white",
            "linecolor": "white",
            "ticks": ""
           }
          },
          "title": {
           "x": 0.05
          },
          "xaxis": {
           "automargin": true,
           "gridcolor": "white",
           "linecolor": "white",
           "ticks": "",
           "title": {
            "standoff": 15
           },
           "zerolinecolor": "white",
           "zerolinewidth": 2
          },
          "yaxis": {
           "automargin": true,
           "gridcolor": "white",
           "linecolor": "white",
           "ticks": "",
           "title": {
            "standoff": 15
           },
           "zerolinecolor": "white",
           "zerolinewidth": 2
          }
         }
        },
        "title": {
         "text": "GameId: 2021090900, PlayId: 97<br>13:33 1Q<br><br><br><br><br><br><br><br><br><br><br><br><br><br><br><br><br><br><br>(13:33) (Shotgun) T.Brady pass incomplete deep right to C.Godwin."
        },
        "updatemenus": [
         {
          "buttons": [
           {
            "args": [
             null,
             {
              "frame": {
               "duration": 100,
               "redraw": false
              },
              "fromcurrent": true,
              "transition": {
               "duration": 0
              }
             }
            ],
            "label": "Play",
            "method": "animate"
           },
           {
            "args": [
             [
              null
             ],
             {
              "frame": {
               "duration": 0,
               "redraw": false
              },
              "mode": "immediate",
              "transition": {
               "duration": 0
              }
             }
            ],
            "label": "Pause",
            "method": "animate"
           }
          ],
          "direction": "left",
          "pad": {
           "r": 10,
           "t": 87
          },
          "showactive": false,
          "type": "buttons",
          "x": 0.1,
          "xanchor": "right",
          "y": 0,
          "yanchor": "top"
         }
        ],
        "width": 1200,
        "xaxis": {
         "autorange": false,
         "range": [
          0,
          120
         ],
         "showticklabels": false,
         "tickmode": "array",
         "tickvals": [
          10,
          15,
          20,
          25,
          30,
          35,
          40,
          45,
          50,
          55,
          60,
          65,
          70,
          75,
          80,
          85,
          90,
          95,
          100,
          105,
          110
         ]
        },
        "yaxis": {
         "autorange": false,
         "range": [
          0,
          53.3
         ],
         "showgrid": false,
         "showticklabels": false
        }
       }
      }
     },
     "metadata": {},
     "output_type": "display_data"
    }
   ],
   "source": [
    "#Choose A Game and Play\n",
    "gameId = 2021090900\n",
    "playId = 97\n",
    "\n",
    "#Run Animate Plays Function (Must Input Correct Week)\n",
    "animate_play(week1, plays, players, pffScout, gameId, playId)"
   ]
  },
  {
   "cell_type": "code",
   "execution_count": 107,
   "metadata": {},
   "outputs": [
    {
     "data": {
      "text/html": [
       "<div>\n",
       "<style scoped>\n",
       "    .dataframe tbody tr th:only-of-type {\n",
       "        vertical-align: middle;\n",
       "    }\n",
       "\n",
       "    .dataframe tbody tr th {\n",
       "        vertical-align: top;\n",
       "    }\n",
       "\n",
       "    .dataframe thead th {\n",
       "        text-align: right;\n",
       "    }\n",
       "</style>\n",
       "<table border=\"1\" class=\"dataframe\">\n",
       "  <thead>\n",
       "    <tr style=\"text-align: right;\">\n",
       "      <th></th>\n",
       "      <th>Unnamed: 0</th>\n",
       "      <th>gameId</th>\n",
       "      <th>playId</th>\n",
       "      <th>nflId</th>\n",
       "      <th>pff_role</th>\n",
       "      <th>pff_positionLinedUp</th>\n",
       "      <th>pff_hit</th>\n",
       "      <th>pff_hurry</th>\n",
       "      <th>pff_sack</th>\n",
       "      <th>pff_beatenByDefender</th>\n",
       "      <th>pff_hitAllowed</th>\n",
       "      <th>pff_hurryAllowed</th>\n",
       "      <th>pff_sackAllowed</th>\n",
       "      <th>pff_nflIdBlockedPlayer</th>\n",
       "      <th>pff_blockType</th>\n",
       "      <th>pff_backFieldBlock</th>\n",
       "      <th>frameId</th>\n",
       "      <th>time</th>\n",
       "      <th>jerseyNumber</th>\n",
       "      <th>team</th>\n",
       "      <th>playDirection</th>\n",
       "      <th>x</th>\n",
       "      <th>y</th>\n",
       "      <th>s</th>\n",
       "      <th>a</th>\n",
       "      <th>dis</th>\n",
       "      <th>o</th>\n",
       "      <th>dir</th>\n",
       "      <th>event</th>\n",
       "      <th>height</th>\n",
       "      <th>weight</th>\n",
       "      <th>birthDate</th>\n",
       "      <th>collegeName</th>\n",
       "      <th>officialPosition</th>\n",
       "      <th>displayName</th>\n",
       "      <th>x_qb</th>\n",
       "      <th>y_qb</th>\n",
       "      <th>s_qb</th>\n",
       "      <th>a_qb</th>\n",
       "      <th>dis_qb</th>\n",
       "      <th>o_qb</th>\n",
       "      <th>dir_qb</th>\n",
       "      <th>dist_from_qb</th>\n",
       "      <th>angle_to_qb</th>\n",
       "      <th>angle_to_qb_diff_o</th>\n",
       "      <th>nflId_blocker_x</th>\n",
       "      <th>nflId_rusher_x</th>\n",
       "      <th>displayName_rusher_x</th>\n",
       "      <th>pff_positionLinedUp_rusher_x</th>\n",
       "      <th>x_rusher_x</th>\n",
       "      <th>y_rusher_x</th>\n",
       "      <th>s_rusher_x</th>\n",
       "      <th>a_rusher_x</th>\n",
       "      <th>dis_rusher_x</th>\n",
       "      <th>o_rusher_x</th>\n",
       "      <th>dir_rusher_x</th>\n",
       "      <th>rusher_in_imm_box_x</th>\n",
       "      <th>blocker_rusher_distance_x</th>\n",
       "      <th>diff_btw_rusher_dir_blocker_o_x</th>\n",
       "      <th>bl_im_x_x</th>\n",
       "      <th>bl_im_y_x</th>\n",
       "      <th>br_im_x_x</th>\n",
       "      <th>br_im_y_x</th>\n",
       "      <th>fl_im_x_x</th>\n",
       "      <th>fl_im_y_x</th>\n",
       "      <th>fr_im_x_x</th>\n",
       "      <th>fr_im_y_x</th>\n",
       "      <th>nflId_blocker_y</th>\n",
       "      <th>nflId_rusher_y</th>\n",
       "      <th>displayName_rusher_y</th>\n",
       "      <th>pff_positionLinedUp_rusher_y</th>\n",
       "      <th>x_rusher_y</th>\n",
       "      <th>y_rusher_y</th>\n",
       "      <th>s_rusher_y</th>\n",
       "      <th>a_rusher_y</th>\n",
       "      <th>dis_rusher_y</th>\n",
       "      <th>o_rusher_y</th>\n",
       "      <th>dir_rusher_y</th>\n",
       "      <th>rusher_in_imm_box_y</th>\n",
       "      <th>blocker_rusher_distance_y</th>\n",
       "      <th>diff_btw_rusher_dir_blocker_o_y</th>\n",
       "      <th>bl_im_x_y</th>\n",
       "      <th>bl_im_y_y</th>\n",
       "      <th>br_im_x_y</th>\n",
       "      <th>br_im_y_y</th>\n",
       "      <th>fl_im_x_y</th>\n",
       "      <th>fl_im_y_y</th>\n",
       "      <th>fr_im_x_y</th>\n",
       "      <th>fr_im_y_y</th>\n",
       "    </tr>\n",
       "  </thead>\n",
       "  <tbody>\n",
       "    <tr>\n",
       "      <th>235429</th>\n",
       "      <td>235429</td>\n",
       "      <td>2021103111</td>\n",
       "      <td>1063</td>\n",
       "      <td>52421</td>\n",
       "      <td>Pass Block</td>\n",
       "      <td>RT</td>\n",
       "      <td>0.0</td>\n",
       "      <td>0.0</td>\n",
       "      <td>0.0</td>\n",
       "      <td>1.0</td>\n",
       "      <td>0.0</td>\n",
       "      <td>0.0</td>\n",
       "      <td>0.0</td>\n",
       "      <td>37097.0</td>\n",
       "      <td>PA</td>\n",
       "      <td>0.0</td>\n",
       "      <td>1</td>\n",
       "      <td>2021-10-31T21:05:45.000</td>\n",
       "      <td>78.0</td>\n",
       "      <td>TB</td>\n",
       "      <td>left</td>\n",
       "      <td>55.07</td>\n",
       "      <td>27.12</td>\n",
       "      <td>0.00</td>\n",
       "      <td>0.00</td>\n",
       "      <td>0.01</td>\n",
       "      <td>260.76</td>\n",
       "      <td>10.07</td>\n",
       "      <td>None</td>\n",
       "      <td>6-5</td>\n",
       "      <td>322</td>\n",
       "      <td>1999-01-24</td>\n",
       "      <td>Iowa</td>\n",
       "      <td>T</td>\n",
       "      <td>Tristan Wirfs</td>\n",
       "      <td>55.44</td>\n",
       "      <td>23.70</td>\n",
       "      <td>0.00</td>\n",
       "      <td>0.00</td>\n",
       "      <td>0.00</td>\n",
       "      <td>267.87</td>\n",
       "      <td>281.88</td>\n",
       "      <td>3.439956</td>\n",
       "      <td>0.67</td>\n",
       "      <td>260.09</td>\n",
       "      <td>52421.0</td>\n",
       "      <td>37097.0</td>\n",
       "      <td>Cameron Jordan</td>\n",
       "      <td>LOLB</td>\n",
       "      <td>53.14</td>\n",
       "      <td>28.73</td>\n",
       "      <td>0.00</td>\n",
       "      <td>0.00</td>\n",
       "      <td>0.00</td>\n",
       "      <td>140.10</td>\n",
       "      <td>123.29</td>\n",
       "      <td>False</td>\n",
       "      <td>2.51</td>\n",
       "      <td>317.47</td>\n",
       "      <td>55.19</td>\n",
       "      <td>26.38</td>\n",
       "      <td>54.95</td>\n",
       "      <td>27.86</td>\n",
       "      <td>54.01</td>\n",
       "      <td>26.19</td>\n",
       "      <td>53.77</td>\n",
       "      <td>27.67</td>\n",
       "      <td>52421.0</td>\n",
       "      <td>37097.0</td>\n",
       "      <td>Cameron Jordan</td>\n",
       "      <td>LOLB</td>\n",
       "      <td>53.14</td>\n",
       "      <td>28.73</td>\n",
       "      <td>0.00</td>\n",
       "      <td>0.00</td>\n",
       "      <td>0.00</td>\n",
       "      <td>140.10</td>\n",
       "      <td>123.29</td>\n",
       "      <td>False</td>\n",
       "      <td>2.51</td>\n",
       "      <td>317.47</td>\n",
       "      <td>55.19</td>\n",
       "      <td>26.38</td>\n",
       "      <td>54.95</td>\n",
       "      <td>27.86</td>\n",
       "      <td>54.20</td>\n",
       "      <td>26.22</td>\n",
       "      <td>53.96</td>\n",
       "      <td>27.70</td>\n",
       "    </tr>\n",
       "    <tr>\n",
       "      <th>235451</th>\n",
       "      <td>235451</td>\n",
       "      <td>2021103111</td>\n",
       "      <td>1063</td>\n",
       "      <td>52421</td>\n",
       "      <td>Pass Block</td>\n",
       "      <td>RT</td>\n",
       "      <td>0.0</td>\n",
       "      <td>0.0</td>\n",
       "      <td>0.0</td>\n",
       "      <td>1.0</td>\n",
       "      <td>0.0</td>\n",
       "      <td>0.0</td>\n",
       "      <td>0.0</td>\n",
       "      <td>37097.0</td>\n",
       "      <td>PA</td>\n",
       "      <td>0.0</td>\n",
       "      <td>2</td>\n",
       "      <td>2021-10-31T21:05:45.100</td>\n",
       "      <td>78.0</td>\n",
       "      <td>TB</td>\n",
       "      <td>left</td>\n",
       "      <td>55.07</td>\n",
       "      <td>27.12</td>\n",
       "      <td>0.00</td>\n",
       "      <td>0.00</td>\n",
       "      <td>0.00</td>\n",
       "      <td>260.76</td>\n",
       "      <td>11.16</td>\n",
       "      <td>None</td>\n",
       "      <td>6-5</td>\n",
       "      <td>322</td>\n",
       "      <td>1999-01-24</td>\n",
       "      <td>Iowa</td>\n",
       "      <td>T</td>\n",
       "      <td>Tristan Wirfs</td>\n",
       "      <td>55.44</td>\n",
       "      <td>23.71</td>\n",
       "      <td>0.00</td>\n",
       "      <td>0.00</td>\n",
       "      <td>0.00</td>\n",
       "      <td>267.87</td>\n",
       "      <td>284.13</td>\n",
       "      <td>3.430015</td>\n",
       "      <td>0.67</td>\n",
       "      <td>260.09</td>\n",
       "      <td>52421.0</td>\n",
       "      <td>37097.0</td>\n",
       "      <td>Cameron Jordan</td>\n",
       "      <td>LOLB</td>\n",
       "      <td>53.14</td>\n",
       "      <td>28.72</td>\n",
       "      <td>0.00</td>\n",
       "      <td>0.00</td>\n",
       "      <td>0.00</td>\n",
       "      <td>140.10</td>\n",
       "      <td>124.83</td>\n",
       "      <td>False</td>\n",
       "      <td>2.51</td>\n",
       "      <td>315.93</td>\n",
       "      <td>55.19</td>\n",
       "      <td>26.38</td>\n",
       "      <td>54.95</td>\n",
       "      <td>27.86</td>\n",
       "      <td>54.01</td>\n",
       "      <td>26.19</td>\n",
       "      <td>53.77</td>\n",
       "      <td>27.67</td>\n",
       "      <td>52421.0</td>\n",
       "      <td>37097.0</td>\n",
       "      <td>Cameron Jordan</td>\n",
       "      <td>LOLB</td>\n",
       "      <td>53.14</td>\n",
       "      <td>28.72</td>\n",
       "      <td>0.00</td>\n",
       "      <td>0.00</td>\n",
       "      <td>0.00</td>\n",
       "      <td>140.10</td>\n",
       "      <td>124.83</td>\n",
       "      <td>False</td>\n",
       "      <td>2.51</td>\n",
       "      <td>315.93</td>\n",
       "      <td>55.19</td>\n",
       "      <td>26.38</td>\n",
       "      <td>54.95</td>\n",
       "      <td>27.86</td>\n",
       "      <td>54.20</td>\n",
       "      <td>26.22</td>\n",
       "      <td>53.96</td>\n",
       "      <td>27.70</td>\n",
       "    </tr>\n",
       "    <tr>\n",
       "      <th>235473</th>\n",
       "      <td>235473</td>\n",
       "      <td>2021103111</td>\n",
       "      <td>1063</td>\n",
       "      <td>52421</td>\n",
       "      <td>Pass Block</td>\n",
       "      <td>RT</td>\n",
       "      <td>0.0</td>\n",
       "      <td>0.0</td>\n",
       "      <td>0.0</td>\n",
       "      <td>1.0</td>\n",
       "      <td>0.0</td>\n",
       "      <td>0.0</td>\n",
       "      <td>0.0</td>\n",
       "      <td>37097.0</td>\n",
       "      <td>PA</td>\n",
       "      <td>0.0</td>\n",
       "      <td>3</td>\n",
       "      <td>2021-10-31T21:05:45.200</td>\n",
       "      <td>78.0</td>\n",
       "      <td>TB</td>\n",
       "      <td>left</td>\n",
       "      <td>55.07</td>\n",
       "      <td>27.12</td>\n",
       "      <td>0.00</td>\n",
       "      <td>0.00</td>\n",
       "      <td>0.00</td>\n",
       "      <td>260.76</td>\n",
       "      <td>15.19</td>\n",
       "      <td>None</td>\n",
       "      <td>6-5</td>\n",
       "      <td>322</td>\n",
       "      <td>1999-01-24</td>\n",
       "      <td>Iowa</td>\n",
       "      <td>T</td>\n",
       "      <td>Tristan Wirfs</td>\n",
       "      <td>55.44</td>\n",
       "      <td>23.72</td>\n",
       "      <td>0.00</td>\n",
       "      <td>0.00</td>\n",
       "      <td>0.01</td>\n",
       "      <td>267.87</td>\n",
       "      <td>288.92</td>\n",
       "      <td>3.420073</td>\n",
       "      <td>0.68</td>\n",
       "      <td>260.08</td>\n",
       "      <td>52421.0</td>\n",
       "      <td>37097.0</td>\n",
       "      <td>Cameron Jordan</td>\n",
       "      <td>LOLB</td>\n",
       "      <td>53.13</td>\n",
       "      <td>28.72</td>\n",
       "      <td>0.00</td>\n",
       "      <td>0.00</td>\n",
       "      <td>0.01</td>\n",
       "      <td>140.10</td>\n",
       "      <td>129.40</td>\n",
       "      <td>False</td>\n",
       "      <td>2.51</td>\n",
       "      <td>311.36</td>\n",
       "      <td>55.19</td>\n",
       "      <td>26.38</td>\n",
       "      <td>54.95</td>\n",
       "      <td>27.86</td>\n",
       "      <td>54.01</td>\n",
       "      <td>26.19</td>\n",
       "      <td>53.77</td>\n",
       "      <td>27.67</td>\n",
       "      <td>52421.0</td>\n",
       "      <td>37097.0</td>\n",
       "      <td>Cameron Jordan</td>\n",
       "      <td>LOLB</td>\n",
       "      <td>53.13</td>\n",
       "      <td>28.72</td>\n",
       "      <td>0.00</td>\n",
       "      <td>0.00</td>\n",
       "      <td>0.01</td>\n",
       "      <td>140.10</td>\n",
       "      <td>129.40</td>\n",
       "      <td>False</td>\n",
       "      <td>2.51</td>\n",
       "      <td>311.36</td>\n",
       "      <td>55.19</td>\n",
       "      <td>26.38</td>\n",
       "      <td>54.95</td>\n",
       "      <td>27.86</td>\n",
       "      <td>54.20</td>\n",
       "      <td>26.22</td>\n",
       "      <td>53.96</td>\n",
       "      <td>27.70</td>\n",
       "    </tr>\n",
       "    <tr>\n",
       "      <th>235495</th>\n",
       "      <td>235495</td>\n",
       "      <td>2021103111</td>\n",
       "      <td>1063</td>\n",
       "      <td>52421</td>\n",
       "      <td>Pass Block</td>\n",
       "      <td>RT</td>\n",
       "      <td>0.0</td>\n",
       "      <td>0.0</td>\n",
       "      <td>0.0</td>\n",
       "      <td>1.0</td>\n",
       "      <td>0.0</td>\n",
       "      <td>0.0</td>\n",
       "      <td>0.0</td>\n",
       "      <td>37097.0</td>\n",
       "      <td>PA</td>\n",
       "      <td>0.0</td>\n",
       "      <td>4</td>\n",
       "      <td>2021-10-31T21:05:45.300</td>\n",
       "      <td>78.0</td>\n",
       "      <td>TB</td>\n",
       "      <td>left</td>\n",
       "      <td>55.07</td>\n",
       "      <td>27.12</td>\n",
       "      <td>0.00</td>\n",
       "      <td>0.00</td>\n",
       "      <td>0.00</td>\n",
       "      <td>260.76</td>\n",
       "      <td>15.37</td>\n",
       "      <td>None</td>\n",
       "      <td>6-5</td>\n",
       "      <td>322</td>\n",
       "      <td>1999-01-24</td>\n",
       "      <td>Iowa</td>\n",
       "      <td>T</td>\n",
       "      <td>Tristan Wirfs</td>\n",
       "      <td>55.45</td>\n",
       "      <td>23.72</td>\n",
       "      <td>0.00</td>\n",
       "      <td>0.00</td>\n",
       "      <td>0.01</td>\n",
       "      <td>267.87</td>\n",
       "      <td>295.83</td>\n",
       "      <td>3.421169</td>\n",
       "      <td>0.72</td>\n",
       "      <td>260.04</td>\n",
       "      <td>52421.0</td>\n",
       "      <td>37097.0</td>\n",
       "      <td>Cameron Jordan</td>\n",
       "      <td>LOLB</td>\n",
       "      <td>53.14</td>\n",
       "      <td>28.72</td>\n",
       "      <td>0.00</td>\n",
       "      <td>0.00</td>\n",
       "      <td>0.00</td>\n",
       "      <td>140.10</td>\n",
       "      <td>128.67</td>\n",
       "      <td>False</td>\n",
       "      <td>2.51</td>\n",
       "      <td>312.09</td>\n",
       "      <td>55.19</td>\n",
       "      <td>26.38</td>\n",
       "      <td>54.95</td>\n",
       "      <td>27.86</td>\n",
       "      <td>54.01</td>\n",
       "      <td>26.19</td>\n",
       "      <td>53.77</td>\n",
       "      <td>27.67</td>\n",
       "      <td>52421.0</td>\n",
       "      <td>37097.0</td>\n",
       "      <td>Cameron Jordan</td>\n",
       "      <td>LOLB</td>\n",
       "      <td>53.14</td>\n",
       "      <td>28.72</td>\n",
       "      <td>0.00</td>\n",
       "      <td>0.00</td>\n",
       "      <td>0.00</td>\n",
       "      <td>140.10</td>\n",
       "      <td>128.67</td>\n",
       "      <td>False</td>\n",
       "      <td>2.51</td>\n",
       "      <td>312.09</td>\n",
       "      <td>55.19</td>\n",
       "      <td>26.38</td>\n",
       "      <td>54.95</td>\n",
       "      <td>27.86</td>\n",
       "      <td>54.20</td>\n",
       "      <td>26.22</td>\n",
       "      <td>53.96</td>\n",
       "      <td>27.70</td>\n",
       "    </tr>\n",
       "    <tr>\n",
       "      <th>235517</th>\n",
       "      <td>235517</td>\n",
       "      <td>2021103111</td>\n",
       "      <td>1063</td>\n",
       "      <td>52421</td>\n",
       "      <td>Pass Block</td>\n",
       "      <td>RT</td>\n",
       "      <td>0.0</td>\n",
       "      <td>0.0</td>\n",
       "      <td>0.0</td>\n",
       "      <td>1.0</td>\n",
       "      <td>0.0</td>\n",
       "      <td>0.0</td>\n",
       "      <td>0.0</td>\n",
       "      <td>37097.0</td>\n",
       "      <td>PA</td>\n",
       "      <td>0.0</td>\n",
       "      <td>5</td>\n",
       "      <td>2021-10-31T21:05:45.400</td>\n",
       "      <td>78.0</td>\n",
       "      <td>TB</td>\n",
       "      <td>left</td>\n",
       "      <td>55.07</td>\n",
       "      <td>27.12</td>\n",
       "      <td>0.00</td>\n",
       "      <td>0.05</td>\n",
       "      <td>0.00</td>\n",
       "      <td>261.91</td>\n",
       "      <td>90.59</td>\n",
       "      <td>None</td>\n",
       "      <td>6-5</td>\n",
       "      <td>322</td>\n",
       "      <td>1999-01-24</td>\n",
       "      <td>Iowa</td>\n",
       "      <td>T</td>\n",
       "      <td>Tristan Wirfs</td>\n",
       "      <td>55.47</td>\n",
       "      <td>23.73</td>\n",
       "      <td>0.00</td>\n",
       "      <td>0.00</td>\n",
       "      <td>0.01</td>\n",
       "      <td>267.87</td>\n",
       "      <td>305.33</td>\n",
       "      <td>3.413517</td>\n",
       "      <td>0.80</td>\n",
       "      <td>261.11</td>\n",
       "      <td>52421.0</td>\n",
       "      <td>37097.0</td>\n",
       "      <td>Cameron Jordan</td>\n",
       "      <td>LOLB</td>\n",
       "      <td>53.14</td>\n",
       "      <td>28.72</td>\n",
       "      <td>0.00</td>\n",
       "      <td>0.00</td>\n",
       "      <td>0.01</td>\n",
       "      <td>138.64</td>\n",
       "      <td>127.88</td>\n",
       "      <td>False</td>\n",
       "      <td>2.51</td>\n",
       "      <td>314.03</td>\n",
       "      <td>55.18</td>\n",
       "      <td>26.38</td>\n",
       "      <td>54.96</td>\n",
       "      <td>27.86</td>\n",
       "      <td>53.99</td>\n",
       "      <td>26.21</td>\n",
       "      <td>53.77</td>\n",
       "      <td>27.69</td>\n",
       "      <td>52421.0</td>\n",
       "      <td>37097.0</td>\n",
       "      <td>Cameron Jordan</td>\n",
       "      <td>LOLB</td>\n",
       "      <td>53.14</td>\n",
       "      <td>28.72</td>\n",
       "      <td>0.00</td>\n",
       "      <td>0.00</td>\n",
       "      <td>0.01</td>\n",
       "      <td>138.64</td>\n",
       "      <td>127.88</td>\n",
       "      <td>False</td>\n",
       "      <td>2.51</td>\n",
       "      <td>314.03</td>\n",
       "      <td>55.18</td>\n",
       "      <td>26.38</td>\n",
       "      <td>54.96</td>\n",
       "      <td>27.86</td>\n",
       "      <td>54.19</td>\n",
       "      <td>26.24</td>\n",
       "      <td>53.97</td>\n",
       "      <td>27.72</td>\n",
       "    </tr>\n",
       "    <tr>\n",
       "      <th>235539</th>\n",
       "      <td>235539</td>\n",
       "      <td>2021103111</td>\n",
       "      <td>1063</td>\n",
       "      <td>52421</td>\n",
       "      <td>Pass Block</td>\n",
       "      <td>RT</td>\n",
       "      <td>0.0</td>\n",
       "      <td>0.0</td>\n",
       "      <td>0.0</td>\n",
       "      <td>1.0</td>\n",
       "      <td>0.0</td>\n",
       "      <td>0.0</td>\n",
       "      <td>0.0</td>\n",
       "      <td>37097.0</td>\n",
       "      <td>PA</td>\n",
       "      <td>0.0</td>\n",
       "      <td>6</td>\n",
       "      <td>2021-10-31T21:05:45.500</td>\n",
       "      <td>78.0</td>\n",
       "      <td>TB</td>\n",
       "      <td>left</td>\n",
       "      <td>55.07</td>\n",
       "      <td>27.12</td>\n",
       "      <td>0.03</td>\n",
       "      <td>0.29</td>\n",
       "      <td>0.01</td>\n",
       "      <td>261.91</td>\n",
       "      <td>32.43</td>\n",
       "      <td>ball_snap</td>\n",
       "      <td>6-5</td>\n",
       "      <td>322</td>\n",
       "      <td>1999-01-24</td>\n",
       "      <td>Iowa</td>\n",
       "      <td>T</td>\n",
       "      <td>Tristan Wirfs</td>\n",
       "      <td>55.48</td>\n",
       "      <td>23.73</td>\n",
       "      <td>0.00</td>\n",
       "      <td>0.00</td>\n",
       "      <td>0.02</td>\n",
       "      <td>267.04</td>\n",
       "      <td>325.26</td>\n",
       "      <td>3.414704</td>\n",
       "      <td>0.84</td>\n",
       "      <td>261.07</td>\n",
       "      <td>52421.0</td>\n",
       "      <td>37097.0</td>\n",
       "      <td>Cameron Jordan</td>\n",
       "      <td>LOLB</td>\n",
       "      <td>53.15</td>\n",
       "      <td>28.72</td>\n",
       "      <td>0.00</td>\n",
       "      <td>0.00</td>\n",
       "      <td>0.01</td>\n",
       "      <td>137.36</td>\n",
       "      <td>123.83</td>\n",
       "      <td>False</td>\n",
       "      <td>2.50</td>\n",
       "      <td>318.08</td>\n",
       "      <td>55.18</td>\n",
       "      <td>26.38</td>\n",
       "      <td>54.96</td>\n",
       "      <td>27.86</td>\n",
       "      <td>53.99</td>\n",
       "      <td>26.21</td>\n",
       "      <td>53.77</td>\n",
       "      <td>27.69</td>\n",
       "      <td>52421.0</td>\n",
       "      <td>37097.0</td>\n",
       "      <td>Cameron Jordan</td>\n",
       "      <td>LOLB</td>\n",
       "      <td>53.15</td>\n",
       "      <td>28.72</td>\n",
       "      <td>0.00</td>\n",
       "      <td>0.00</td>\n",
       "      <td>0.01</td>\n",
       "      <td>137.36</td>\n",
       "      <td>123.83</td>\n",
       "      <td>False</td>\n",
       "      <td>2.50</td>\n",
       "      <td>318.08</td>\n",
       "      <td>55.18</td>\n",
       "      <td>26.38</td>\n",
       "      <td>54.96</td>\n",
       "      <td>27.86</td>\n",
       "      <td>54.19</td>\n",
       "      <td>26.24</td>\n",
       "      <td>53.97</td>\n",
       "      <td>27.72</td>\n",
       "    </tr>\n",
       "    <tr>\n",
       "      <th>235561</th>\n",
       "      <td>235561</td>\n",
       "      <td>2021103111</td>\n",
       "      <td>1063</td>\n",
       "      <td>52421</td>\n",
       "      <td>Pass Block</td>\n",
       "      <td>RT</td>\n",
       "      <td>0.0</td>\n",
       "      <td>0.0</td>\n",
       "      <td>0.0</td>\n",
       "      <td>1.0</td>\n",
       "      <td>0.0</td>\n",
       "      <td>0.0</td>\n",
       "      <td>0.0</td>\n",
       "      <td>37097.0</td>\n",
       "      <td>PA</td>\n",
       "      <td>0.0</td>\n",
       "      <td>7</td>\n",
       "      <td>2021-10-31T21:05:45.600</td>\n",
       "      <td>78.0</td>\n",
       "      <td>TB</td>\n",
       "      <td>left</td>\n",
       "      <td>55.08</td>\n",
       "      <td>27.13</td>\n",
       "      <td>0.11</td>\n",
       "      <td>0.64</td>\n",
       "      <td>0.01</td>\n",
       "      <td>263.57</td>\n",
       "      <td>19.64</td>\n",
       "      <td>None</td>\n",
       "      <td>6-5</td>\n",
       "      <td>322</td>\n",
       "      <td>1999-01-24</td>\n",
       "      <td>Iowa</td>\n",
       "      <td>T</td>\n",
       "      <td>Tristan Wirfs</td>\n",
       "      <td>55.50</td>\n",
       "      <td>23.73</td>\n",
       "      <td>0.00</td>\n",
       "      <td>0.00</td>\n",
       "      <td>0.01</td>\n",
       "      <td>267.73</td>\n",
       "      <td>342.80</td>\n",
       "      <td>3.425843</td>\n",
       "      <td>0.87</td>\n",
       "      <td>262.70</td>\n",
       "      <td>52421.0</td>\n",
       "      <td>37097.0</td>\n",
       "      <td>Cameron Jordan</td>\n",
       "      <td>LOLB</td>\n",
       "      <td>53.16</td>\n",
       "      <td>28.71</td>\n",
       "      <td>0.04</td>\n",
       "      <td>0.65</td>\n",
       "      <td>0.01</td>\n",
       "      <td>134.03</td>\n",
       "      <td>102.39</td>\n",
       "      <td>False</td>\n",
       "      <td>2.49</td>\n",
       "      <td>341.18</td>\n",
       "      <td>55.16</td>\n",
       "      <td>26.38</td>\n",
       "      <td>55.00</td>\n",
       "      <td>27.88</td>\n",
       "      <td>53.97</td>\n",
       "      <td>26.25</td>\n",
       "      <td>53.81</td>\n",
       "      <td>27.75</td>\n",
       "      <td>52421.0</td>\n",
       "      <td>37097.0</td>\n",
       "      <td>Cameron Jordan</td>\n",
       "      <td>LOLB</td>\n",
       "      <td>53.16</td>\n",
       "      <td>28.71</td>\n",
       "      <td>0.04</td>\n",
       "      <td>0.65</td>\n",
       "      <td>0.01</td>\n",
       "      <td>134.03</td>\n",
       "      <td>102.39</td>\n",
       "      <td>False</td>\n",
       "      <td>2.49</td>\n",
       "      <td>341.18</td>\n",
       "      <td>55.16</td>\n",
       "      <td>26.38</td>\n",
       "      <td>55.00</td>\n",
       "      <td>27.88</td>\n",
       "      <td>54.17</td>\n",
       "      <td>26.27</td>\n",
       "      <td>54.01</td>\n",
       "      <td>27.77</td>\n",
       "    </tr>\n",
       "    <tr>\n",
       "      <th>235583</th>\n",
       "      <td>235583</td>\n",
       "      <td>2021103111</td>\n",
       "      <td>1063</td>\n",
       "      <td>52421</td>\n",
       "      <td>Pass Block</td>\n",
       "      <td>RT</td>\n",
       "      <td>0.0</td>\n",
       "      <td>0.0</td>\n",
       "      <td>0.0</td>\n",
       "      <td>1.0</td>\n",
       "      <td>0.0</td>\n",
       "      <td>0.0</td>\n",
       "      <td>0.0</td>\n",
       "      <td>37097.0</td>\n",
       "      <td>PA</td>\n",
       "      <td>0.0</td>\n",
       "      <td>8</td>\n",
       "      <td>2021-10-31T21:05:45.700</td>\n",
       "      <td>78.0</td>\n",
       "      <td>TB</td>\n",
       "      <td>left</td>\n",
       "      <td>55.08</td>\n",
       "      <td>27.16</td>\n",
       "      <td>0.27</td>\n",
       "      <td>1.02</td>\n",
       "      <td>0.03</td>\n",
       "      <td>265.23</td>\n",
       "      <td>17.42</td>\n",
       "      <td>None</td>\n",
       "      <td>6-5</td>\n",
       "      <td>322</td>\n",
       "      <td>1999-01-24</td>\n",
       "      <td>Iowa</td>\n",
       "      <td>T</td>\n",
       "      <td>Tristan Wirfs</td>\n",
       "      <td>55.52</td>\n",
       "      <td>23.74</td>\n",
       "      <td>0.00</td>\n",
       "      <td>0.00</td>\n",
       "      <td>0.03</td>\n",
       "      <td>268.58</td>\n",
       "      <td>21.66</td>\n",
       "      <td>3.448188</td>\n",
       "      <td>0.95</td>\n",
       "      <td>264.28</td>\n",
       "      <td>52421.0</td>\n",
       "      <td>37097.0</td>\n",
       "      <td>Cameron Jordan</td>\n",
       "      <td>LOLB</td>\n",
       "      <td>53.19</td>\n",
       "      <td>28.71</td>\n",
       "      <td>0.21</td>\n",
       "      <td>1.60</td>\n",
       "      <td>0.02</td>\n",
       "      <td>134.03</td>\n",
       "      <td>102.20</td>\n",
       "      <td>False</td>\n",
       "      <td>2.44</td>\n",
       "      <td>343.03</td>\n",
       "      <td>55.14</td>\n",
       "      <td>26.41</td>\n",
       "      <td>55.02</td>\n",
       "      <td>27.91</td>\n",
       "      <td>53.94</td>\n",
       "      <td>26.31</td>\n",
       "      <td>53.82</td>\n",
       "      <td>27.81</td>\n",
       "      <td>52421.0</td>\n",
       "      <td>37097.0</td>\n",
       "      <td>Cameron Jordan</td>\n",
       "      <td>LOLB</td>\n",
       "      <td>53.19</td>\n",
       "      <td>28.71</td>\n",
       "      <td>0.21</td>\n",
       "      <td>1.60</td>\n",
       "      <td>0.02</td>\n",
       "      <td>134.03</td>\n",
       "      <td>102.20</td>\n",
       "      <td>False</td>\n",
       "      <td>2.44</td>\n",
       "      <td>343.03</td>\n",
       "      <td>55.14</td>\n",
       "      <td>26.41</td>\n",
       "      <td>55.02</td>\n",
       "      <td>27.91</td>\n",
       "      <td>54.14</td>\n",
       "      <td>26.33</td>\n",
       "      <td>54.02</td>\n",
       "      <td>27.83</td>\n",
       "    </tr>\n",
       "    <tr>\n",
       "      <th>235605</th>\n",
       "      <td>235605</td>\n",
       "      <td>2021103111</td>\n",
       "      <td>1063</td>\n",
       "      <td>52421</td>\n",
       "      <td>Pass Block</td>\n",
       "      <td>RT</td>\n",
       "      <td>0.0</td>\n",
       "      <td>0.0</td>\n",
       "      <td>0.0</td>\n",
       "      <td>1.0</td>\n",
       "      <td>0.0</td>\n",
       "      <td>0.0</td>\n",
       "      <td>0.0</td>\n",
       "      <td>37097.0</td>\n",
       "      <td>PA</td>\n",
       "      <td>0.0</td>\n",
       "      <td>9</td>\n",
       "      <td>2021-10-31T21:05:45.800</td>\n",
       "      <td>78.0</td>\n",
       "      <td>TB</td>\n",
       "      <td>left</td>\n",
       "      <td>55.10</td>\n",
       "      <td>27.20</td>\n",
       "      <td>0.45</td>\n",
       "      <td>1.09</td>\n",
       "      <td>0.05</td>\n",
       "      <td>266.63</td>\n",
       "      <td>16.64</td>\n",
       "      <td>None</td>\n",
       "      <td>6-5</td>\n",
       "      <td>322</td>\n",
       "      <td>1999-01-24</td>\n",
       "      <td>Iowa</td>\n",
       "      <td>T</td>\n",
       "      <td>Tristan Wirfs</td>\n",
       "      <td>55.54</td>\n",
       "      <td>23.74</td>\n",
       "      <td>0.09</td>\n",
       "      <td>1.72</td>\n",
       "      <td>0.02</td>\n",
       "      <td>269.24</td>\n",
       "      <td>81.06</td>\n",
       "      <td>3.487865</td>\n",
       "      <td>0.93</td>\n",
       "      <td>265.70</td>\n",
       "      <td>52421.0</td>\n",
       "      <td>37097.0</td>\n",
       "      <td>Cameron Jordan</td>\n",
       "      <td>LOLB</td>\n",
       "      <td>53.24</td>\n",
       "      <td>28.70</td>\n",
       "      <td>0.54</td>\n",
       "      <td>2.70</td>\n",
       "      <td>0.05</td>\n",
       "      <td>130.77</td>\n",
       "      <td>101.55</td>\n",
       "      <td>False</td>\n",
       "      <td>2.39</td>\n",
       "      <td>345.08</td>\n",
       "      <td>55.14</td>\n",
       "      <td>26.45</td>\n",
       "      <td>55.06</td>\n",
       "      <td>27.95</td>\n",
       "      <td>53.94</td>\n",
       "      <td>26.38</td>\n",
       "      <td>53.86</td>\n",
       "      <td>27.88</td>\n",
       "      <td>52421.0</td>\n",
       "      <td>37097.0</td>\n",
       "      <td>Cameron Jordan</td>\n",
       "      <td>LOLB</td>\n",
       "      <td>53.24</td>\n",
       "      <td>28.70</td>\n",
       "      <td>0.54</td>\n",
       "      <td>2.70</td>\n",
       "      <td>0.05</td>\n",
       "      <td>130.77</td>\n",
       "      <td>101.55</td>\n",
       "      <td>False</td>\n",
       "      <td>2.39</td>\n",
       "      <td>345.08</td>\n",
       "      <td>55.14</td>\n",
       "      <td>26.45</td>\n",
       "      <td>55.06</td>\n",
       "      <td>27.95</td>\n",
       "      <td>54.14</td>\n",
       "      <td>26.39</td>\n",
       "      <td>54.06</td>\n",
       "      <td>27.89</td>\n",
       "    </tr>\n",
       "    <tr>\n",
       "      <th>235627</th>\n",
       "      <td>235627</td>\n",
       "      <td>2021103111</td>\n",
       "      <td>1063</td>\n",
       "      <td>52421</td>\n",
       "      <td>Pass Block</td>\n",
       "      <td>RT</td>\n",
       "      <td>0.0</td>\n",
       "      <td>0.0</td>\n",
       "      <td>0.0</td>\n",
       "      <td>1.0</td>\n",
       "      <td>0.0</td>\n",
       "      <td>0.0</td>\n",
       "      <td>0.0</td>\n",
       "      <td>37097.0</td>\n",
       "      <td>PA</td>\n",
       "      <td>0.0</td>\n",
       "      <td>10</td>\n",
       "      <td>2021-10-31T21:05:45.900</td>\n",
       "      <td>78.0</td>\n",
       "      <td>TB</td>\n",
       "      <td>left</td>\n",
       "      <td>55.12</td>\n",
       "      <td>27.27</td>\n",
       "      <td>0.63</td>\n",
       "      <td>1.16</td>\n",
       "      <td>0.07</td>\n",
       "      <td>268.71</td>\n",
       "      <td>17.95</td>\n",
       "      <td>None</td>\n",
       "      <td>6-5</td>\n",
       "      <td>322</td>\n",
       "      <td>1999-01-24</td>\n",
       "      <td>Iowa</td>\n",
       "      <td>T</td>\n",
       "      <td>Tristan Wirfs</td>\n",
       "      <td>55.59</td>\n",
       "      <td>23.75</td>\n",
       "      <td>0.50</td>\n",
       "      <td>4.00</td>\n",
       "      <td>0.05</td>\n",
       "      <td>265.60</td>\n",
       "      <td>80.80</td>\n",
       "      <td>3.551239</td>\n",
       "      <td>1.02</td>\n",
       "      <td>267.69</td>\n",
       "      <td>52421.0</td>\n",
       "      <td>37097.0</td>\n",
       "      <td>Cameron Jordan</td>\n",
       "      <td>LOLB</td>\n",
       "      <td>53.32</td>\n",
       "      <td>28.68</td>\n",
       "      <td>0.95</td>\n",
       "      <td>3.15</td>\n",
       "      <td>0.09</td>\n",
       "      <td>126.42</td>\n",
       "      <td>102.89</td>\n",
       "      <td>False</td>\n",
       "      <td>2.29</td>\n",
       "      <td>345.82</td>\n",
       "      <td>55.14</td>\n",
       "      <td>26.52</td>\n",
       "      <td>55.10</td>\n",
       "      <td>28.02</td>\n",
       "      <td>53.94</td>\n",
       "      <td>26.49</td>\n",
       "      <td>53.90</td>\n",
       "      <td>27.99</td>\n",
       "      <td>52421.0</td>\n",
       "      <td>37097.0</td>\n",
       "      <td>Cameron Jordan</td>\n",
       "      <td>LOLB</td>\n",
       "      <td>53.32</td>\n",
       "      <td>28.68</td>\n",
       "      <td>0.95</td>\n",
       "      <td>3.15</td>\n",
       "      <td>0.09</td>\n",
       "      <td>126.42</td>\n",
       "      <td>102.89</td>\n",
       "      <td>False</td>\n",
       "      <td>2.29</td>\n",
       "      <td>345.82</td>\n",
       "      <td>55.14</td>\n",
       "      <td>26.52</td>\n",
       "      <td>55.10</td>\n",
       "      <td>28.02</td>\n",
       "      <td>54.14</td>\n",
       "      <td>26.50</td>\n",
       "      <td>54.10</td>\n",
       "      <td>28.00</td>\n",
       "    </tr>\n",
       "    <tr>\n",
       "      <th>235649</th>\n",
       "      <td>235649</td>\n",
       "      <td>2021103111</td>\n",
       "      <td>1063</td>\n",
       "      <td>52421</td>\n",
       "      <td>Pass Block</td>\n",
       "      <td>RT</td>\n",
       "      <td>0.0</td>\n",
       "      <td>0.0</td>\n",
       "      <td>0.0</td>\n",
       "      <td>1.0</td>\n",
       "      <td>0.0</td>\n",
       "      <td>0.0</td>\n",
       "      <td>0.0</td>\n",
       "      <td>37097.0</td>\n",
       "      <td>PA</td>\n",
       "      <td>0.0</td>\n",
       "      <td>11</td>\n",
       "      <td>2021-10-31T21:05:46.000</td>\n",
       "      <td>78.0</td>\n",
       "      <td>TB</td>\n",
       "      <td>left</td>\n",
       "      <td>55.15</td>\n",
       "      <td>27.34</td>\n",
       "      <td>0.77</td>\n",
       "      <td>1.06</td>\n",
       "      <td>0.07</td>\n",
       "      <td>270.62</td>\n",
       "      <td>19.49</td>\n",
       "      <td>None</td>\n",
       "      <td>6-5</td>\n",
       "      <td>322</td>\n",
       "      <td>1999-01-24</td>\n",
       "      <td>Iowa</td>\n",
       "      <td>T</td>\n",
       "      <td>Tristan Wirfs</td>\n",
       "      <td>55.67</td>\n",
       "      <td>23.76</td>\n",
       "      <td>1.08</td>\n",
       "      <td>5.39</td>\n",
       "      <td>0.09</td>\n",
       "      <td>266.95</td>\n",
       "      <td>82.04</td>\n",
       "      <td>3.617568</td>\n",
       "      <td>1.21</td>\n",
       "      <td>269.41</td>\n",
       "      <td>52421.0</td>\n",
       "      <td>37097.0</td>\n",
       "      <td>Cameron Jordan</td>\n",
       "      <td>LOLB</td>\n",
       "      <td>53.45</td>\n",
       "      <td>28.66</td>\n",
       "      <td>1.36</td>\n",
       "      <td>2.80</td>\n",
       "      <td>0.13</td>\n",
       "      <td>126.42</td>\n",
       "      <td>101.32</td>\n",
       "      <td>False</td>\n",
       "      <td>2.15</td>\n",
       "      <td>349.30</td>\n",
       "      <td>55.14</td>\n",
       "      <td>26.59</td>\n",
       "      <td>55.16</td>\n",
       "      <td>28.09</td>\n",
       "      <td>53.94</td>\n",
       "      <td>26.60</td>\n",
       "      <td>53.96</td>\n",
       "      <td>28.10</td>\n",
       "      <td>52421.0</td>\n",
       "      <td>37097.0</td>\n",
       "      <td>Cameron Jordan</td>\n",
       "      <td>LOLB</td>\n",
       "      <td>53.45</td>\n",
       "      <td>28.66</td>\n",
       "      <td>1.36</td>\n",
       "      <td>2.80</td>\n",
       "      <td>0.13</td>\n",
       "      <td>126.42</td>\n",
       "      <td>101.32</td>\n",
       "      <td>False</td>\n",
       "      <td>2.15</td>\n",
       "      <td>349.30</td>\n",
       "      <td>55.14</td>\n",
       "      <td>26.59</td>\n",
       "      <td>55.16</td>\n",
       "      <td>28.09</td>\n",
       "      <td>54.14</td>\n",
       "      <td>26.60</td>\n",
       "      <td>54.16</td>\n",
       "      <td>28.10</td>\n",
       "    </tr>\n",
       "    <tr>\n",
       "      <th>235671</th>\n",
       "      <td>235671</td>\n",
       "      <td>2021103111</td>\n",
       "      <td>1063</td>\n",
       "      <td>52421</td>\n",
       "      <td>Pass Block</td>\n",
       "      <td>RT</td>\n",
       "      <td>0.0</td>\n",
       "      <td>0.0</td>\n",
       "      <td>0.0</td>\n",
       "      <td>1.0</td>\n",
       "      <td>0.0</td>\n",
       "      <td>0.0</td>\n",
       "      <td>0.0</td>\n",
       "      <td>37097.0</td>\n",
       "      <td>PA</td>\n",
       "      <td>0.0</td>\n",
       "      <td>12</td>\n",
       "      <td>2021-10-31T21:05:46.100</td>\n",
       "      <td>78.0</td>\n",
       "      <td>TB</td>\n",
       "      <td>left</td>\n",
       "      <td>55.20</td>\n",
       "      <td>27.41</td>\n",
       "      <td>0.92</td>\n",
       "      <td>0.89</td>\n",
       "      <td>0.10</td>\n",
       "      <td>275.09</td>\n",
       "      <td>27.97</td>\n",
       "      <td>None</td>\n",
       "      <td>6-5</td>\n",
       "      <td>322</td>\n",
       "      <td>1999-01-24</td>\n",
       "      <td>Iowa</td>\n",
       "      <td>T</td>\n",
       "      <td>Tristan Wirfs</td>\n",
       "      <td>55.82</td>\n",
       "      <td>23.78</td>\n",
       "      <td>1.73</td>\n",
       "      <td>5.85</td>\n",
       "      <td>0.15</td>\n",
       "      <td>269.23</td>\n",
       "      <td>81.67</td>\n",
       "      <td>3.682567</td>\n",
       "      <td>1.67</td>\n",
       "      <td>273.42</td>\n",
       "      <td>52421.0</td>\n",
       "      <td>37097.0</td>\n",
       "      <td>Cameron Jordan</td>\n",
       "      <td>LOLB</td>\n",
       "      <td>53.61</td>\n",
       "      <td>28.64</td>\n",
       "      <td>1.69</td>\n",
       "      <td>2.24</td>\n",
       "      <td>0.17</td>\n",
       "      <td>125.52</td>\n",
       "      <td>99.12</td>\n",
       "      <td>False</td>\n",
       "      <td>2.01</td>\n",
       "      <td>355.97</td>\n",
       "      <td>55.13</td>\n",
       "      <td>26.66</td>\n",
       "      <td>55.27</td>\n",
       "      <td>28.16</td>\n",
       "      <td>53.93</td>\n",
       "      <td>26.77</td>\n",
       "      <td>54.07</td>\n",
       "      <td>28.27</td>\n",
       "      <td>52421.0</td>\n",
       "      <td>37097.0</td>\n",
       "      <td>Cameron Jordan</td>\n",
       "      <td>LOLB</td>\n",
       "      <td>53.61</td>\n",
       "      <td>28.64</td>\n",
       "      <td>1.69</td>\n",
       "      <td>2.24</td>\n",
       "      <td>0.17</td>\n",
       "      <td>125.52</td>\n",
       "      <td>99.12</td>\n",
       "      <td>False</td>\n",
       "      <td>2.01</td>\n",
       "      <td>355.97</td>\n",
       "      <td>55.13</td>\n",
       "      <td>26.66</td>\n",
       "      <td>55.27</td>\n",
       "      <td>28.16</td>\n",
       "      <td>54.13</td>\n",
       "      <td>26.75</td>\n",
       "      <td>54.27</td>\n",
       "      <td>28.25</td>\n",
       "    </tr>\n",
       "    <tr>\n",
       "      <th>235693</th>\n",
       "      <td>235693</td>\n",
       "      <td>2021103111</td>\n",
       "      <td>1063</td>\n",
       "      <td>52421</td>\n",
       "      <td>Pass Block</td>\n",
       "      <td>RT</td>\n",
       "      <td>0.0</td>\n",
       "      <td>0.0</td>\n",
       "      <td>0.0</td>\n",
       "      <td>1.0</td>\n",
       "      <td>0.0</td>\n",
       "      <td>0.0</td>\n",
       "      <td>0.0</td>\n",
       "      <td>37097.0</td>\n",
       "      <td>PA</td>\n",
       "      <td>0.0</td>\n",
       "      <td>13</td>\n",
       "      <td>2021-10-31T21:05:46.200</td>\n",
       "      <td>78.0</td>\n",
       "      <td>TB</td>\n",
       "      <td>left</td>\n",
       "      <td>55.28</td>\n",
       "      <td>27.49</td>\n",
       "      <td>1.04</td>\n",
       "      <td>0.79</td>\n",
       "      <td>0.11</td>\n",
       "      <td>277.27</td>\n",
       "      <td>36.58</td>\n",
       "      <td>None</td>\n",
       "      <td>6-5</td>\n",
       "      <td>322</td>\n",
       "      <td>1999-01-24</td>\n",
       "      <td>Iowa</td>\n",
       "      <td>T</td>\n",
       "      <td>Tristan Wirfs</td>\n",
       "      <td>56.04</td>\n",
       "      <td>23.81</td>\n",
       "      <td>2.50</td>\n",
       "      <td>6.38</td>\n",
       "      <td>0.23</td>\n",
       "      <td>270.69</td>\n",
       "      <td>82.45</td>\n",
       "      <td>3.757659</td>\n",
       "      <td>2.44</td>\n",
       "      <td>274.83</td>\n",
       "      <td>52421.0</td>\n",
       "      <td>37097.0</td>\n",
       "      <td>Cameron Jordan</td>\n",
       "      <td>LOLB</td>\n",
       "      <td>53.81</td>\n",
       "      <td>28.62</td>\n",
       "      <td>1.96</td>\n",
       "      <td>1.59</td>\n",
       "      <td>0.20</td>\n",
       "      <td>123.53</td>\n",
       "      <td>96.21</td>\n",
       "      <td>False</td>\n",
       "      <td>1.85</td>\n",
       "      <td>361.06</td>\n",
       "      <td>55.19</td>\n",
       "      <td>26.75</td>\n",
       "      <td>55.37</td>\n",
       "      <td>28.23</td>\n",
       "      <td>54.00</td>\n",
       "      <td>26.90</td>\n",
       "      <td>54.18</td>\n",
       "      <td>28.38</td>\n",
       "      <td>52421.0</td>\n",
       "      <td>37097.0</td>\n",
       "      <td>Cameron Jordan</td>\n",
       "      <td>LOLB</td>\n",
       "      <td>53.81</td>\n",
       "      <td>28.62</td>\n",
       "      <td>1.96</td>\n",
       "      <td>1.59</td>\n",
       "      <td>0.20</td>\n",
       "      <td>123.53</td>\n",
       "      <td>96.21</td>\n",
       "      <td>False</td>\n",
       "      <td>1.85</td>\n",
       "      <td>361.06</td>\n",
       "      <td>55.19</td>\n",
       "      <td>26.75</td>\n",
       "      <td>55.37</td>\n",
       "      <td>28.23</td>\n",
       "      <td>54.20</td>\n",
       "      <td>26.88</td>\n",
       "      <td>54.38</td>\n",
       "      <td>28.36</td>\n",
       "    </tr>\n",
       "    <tr>\n",
       "      <th>235715</th>\n",
       "      <td>235715</td>\n",
       "      <td>2021103111</td>\n",
       "      <td>1063</td>\n",
       "      <td>52421</td>\n",
       "      <td>Pass Block</td>\n",
       "      <td>RT</td>\n",
       "      <td>0.0</td>\n",
       "      <td>0.0</td>\n",
       "      <td>0.0</td>\n",
       "      <td>1.0</td>\n",
       "      <td>0.0</td>\n",
       "      <td>0.0</td>\n",
       "      <td>0.0</td>\n",
       "      <td>37097.0</td>\n",
       "      <td>PA</td>\n",
       "      <td>0.0</td>\n",
       "      <td>14</td>\n",
       "      <td>2021-10-31T21:05:46.300</td>\n",
       "      <td>78.0</td>\n",
       "      <td>TB</td>\n",
       "      <td>left</td>\n",
       "      <td>55.35</td>\n",
       "      <td>27.58</td>\n",
       "      <td>1.12</td>\n",
       "      <td>0.68</td>\n",
       "      <td>0.11</td>\n",
       "      <td>281.84</td>\n",
       "      <td>40.56</td>\n",
       "      <td>None</td>\n",
       "      <td>6-5</td>\n",
       "      <td>322</td>\n",
       "      <td>1999-01-24</td>\n",
       "      <td>Iowa</td>\n",
       "      <td>T</td>\n",
       "      <td>Tristan Wirfs</td>\n",
       "      <td>56.34</td>\n",
       "      <td>23.84</td>\n",
       "      <td>3.20</td>\n",
       "      <td>5.84</td>\n",
       "      <td>0.30</td>\n",
       "      <td>277.85</td>\n",
       "      <td>83.31</td>\n",
       "      <td>3.868811</td>\n",
       "      <td>4.01</td>\n",
       "      <td>277.83</td>\n",
       "      <td>52421.0</td>\n",
       "      <td>37097.0</td>\n",
       "      <td>Cameron Jordan</td>\n",
       "      <td>LOLB</td>\n",
       "      <td>54.03</td>\n",
       "      <td>28.62</td>\n",
       "      <td>2.16</td>\n",
       "      <td>1.06</td>\n",
       "      <td>0.22</td>\n",
       "      <td>122.11</td>\n",
       "      <td>93.19</td>\n",
       "      <td>False</td>\n",
       "      <td>1.68</td>\n",
       "      <td>368.65</td>\n",
       "      <td>55.20</td>\n",
       "      <td>26.85</td>\n",
       "      <td>55.50</td>\n",
       "      <td>28.31</td>\n",
       "      <td>54.03</td>\n",
       "      <td>27.10</td>\n",
       "      <td>54.33</td>\n",
       "      <td>28.56</td>\n",
       "      <td>52421.0</td>\n",
       "      <td>37097.0</td>\n",
       "      <td>Cameron Jordan</td>\n",
       "      <td>LOLB</td>\n",
       "      <td>54.03</td>\n",
       "      <td>28.62</td>\n",
       "      <td>2.16</td>\n",
       "      <td>1.06</td>\n",
       "      <td>0.22</td>\n",
       "      <td>122.11</td>\n",
       "      <td>93.19</td>\n",
       "      <td>False</td>\n",
       "      <td>1.68</td>\n",
       "      <td>368.65</td>\n",
       "      <td>55.20</td>\n",
       "      <td>26.85</td>\n",
       "      <td>55.50</td>\n",
       "      <td>28.31</td>\n",
       "      <td>54.22</td>\n",
       "      <td>27.06</td>\n",
       "      <td>54.52</td>\n",
       "      <td>28.52</td>\n",
       "    </tr>\n",
       "    <tr>\n",
       "      <th>235737</th>\n",
       "      <td>235737</td>\n",
       "      <td>2021103111</td>\n",
       "      <td>1063</td>\n",
       "      <td>52421</td>\n",
       "      <td>Pass Block</td>\n",
       "      <td>RT</td>\n",
       "      <td>0.0</td>\n",
       "      <td>0.0</td>\n",
       "      <td>0.0</td>\n",
       "      <td>1.0</td>\n",
       "      <td>0.0</td>\n",
       "      <td>0.0</td>\n",
       "      <td>0.0</td>\n",
       "      <td>37097.0</td>\n",
       "      <td>PA</td>\n",
       "      <td>0.0</td>\n",
       "      <td>15</td>\n",
       "      <td>2021-10-31T21:05:46.400</td>\n",
       "      <td>78.0</td>\n",
       "      <td>TB</td>\n",
       "      <td>left</td>\n",
       "      <td>55.45</td>\n",
       "      <td>27.65</td>\n",
       "      <td>1.18</td>\n",
       "      <td>0.73</td>\n",
       "      <td>0.12</td>\n",
       "      <td>287.00</td>\n",
       "      <td>46.82</td>\n",
       "      <td>play_action</td>\n",
       "      <td>6-5</td>\n",
       "      <td>322</td>\n",
       "      <td>1999-01-24</td>\n",
       "      <td>Iowa</td>\n",
       "      <td>T</td>\n",
       "      <td>Tristan Wirfs</td>\n",
       "      <td>56.69</td>\n",
       "      <td>23.88</td>\n",
       "      <td>3.77</td>\n",
       "      <td>5.01</td>\n",
       "      <td>0.35</td>\n",
       "      <td>285.93</td>\n",
       "      <td>83.63</td>\n",
       "      <td>3.968690</td>\n",
       "      <td>6.17</td>\n",
       "      <td>280.83</td>\n",
       "      <td>52421.0</td>\n",
       "      <td>37097.0</td>\n",
       "      <td>Cameron Jordan</td>\n",
       "      <td>LOLB</td>\n",
       "      <td>54.28</td>\n",
       "      <td>28.64</td>\n",
       "      <td>2.34</td>\n",
       "      <td>0.82</td>\n",
       "      <td>0.25</td>\n",
       "      <td>123.73</td>\n",
       "      <td>89.39</td>\n",
       "      <td>False</td>\n",
       "      <td>1.53</td>\n",
       "      <td>377.61</td>\n",
       "      <td>55.23</td>\n",
       "      <td>26.93</td>\n",
       "      <td>55.67</td>\n",
       "      <td>28.37</td>\n",
       "      <td>54.08</td>\n",
       "      <td>27.28</td>\n",
       "      <td>54.52</td>\n",
       "      <td>28.72</td>\n",
       "      <td>52421.0</td>\n",
       "      <td>37097.0</td>\n",
       "      <td>Cameron Jordan</td>\n",
       "      <td>LOLB</td>\n",
       "      <td>54.28</td>\n",
       "      <td>28.64</td>\n",
       "      <td>2.34</td>\n",
       "      <td>0.82</td>\n",
       "      <td>0.25</td>\n",
       "      <td>123.73</td>\n",
       "      <td>89.39</td>\n",
       "      <td>False</td>\n",
       "      <td>1.53</td>\n",
       "      <td>377.61</td>\n",
       "      <td>55.23</td>\n",
       "      <td>26.93</td>\n",
       "      <td>55.67</td>\n",
       "      <td>28.37</td>\n",
       "      <td>54.27</td>\n",
       "      <td>27.22</td>\n",
       "      <td>54.71</td>\n",
       "      <td>28.66</td>\n",
       "    </tr>\n",
       "    <tr>\n",
       "      <th>235759</th>\n",
       "      <td>235759</td>\n",
       "      <td>2021103111</td>\n",
       "      <td>1063</td>\n",
       "      <td>52421</td>\n",
       "      <td>Pass Block</td>\n",
       "      <td>RT</td>\n",
       "      <td>0.0</td>\n",
       "      <td>0.0</td>\n",
       "      <td>0.0</td>\n",
       "      <td>1.0</td>\n",
       "      <td>0.0</td>\n",
       "      <td>0.0</td>\n",
       "      <td>0.0</td>\n",
       "      <td>37097.0</td>\n",
       "      <td>PA</td>\n",
       "      <td>0.0</td>\n",
       "      <td>16</td>\n",
       "      <td>2021-10-31T21:05:46.500</td>\n",
       "      <td>78.0</td>\n",
       "      <td>TB</td>\n",
       "      <td>left</td>\n",
       "      <td>55.57</td>\n",
       "      <td>27.72</td>\n",
       "      <td>1.30</td>\n",
       "      <td>0.97</td>\n",
       "      <td>0.14</td>\n",
       "      <td>298.00</td>\n",
       "      <td>56.42</td>\n",
       "      <td>None</td>\n",
       "      <td>6-5</td>\n",
       "      <td>322</td>\n",
       "      <td>1999-01-24</td>\n",
       "      <td>Iowa</td>\n",
       "      <td>T</td>\n",
       "      <td>Tristan Wirfs</td>\n",
       "      <td>57.09</td>\n",
       "      <td>23.92</td>\n",
       "      <td>4.24</td>\n",
       "      <td>4.04</td>\n",
       "      <td>0.40</td>\n",
       "      <td>304.93</td>\n",
       "      <td>84.16</td>\n",
       "      <td>4.092725</td>\n",
       "      <td>9.09</td>\n",
       "      <td>288.91</td>\n",
       "      <td>52421.0</td>\n",
       "      <td>37097.0</td>\n",
       "      <td>Cameron Jordan</td>\n",
       "      <td>LOLB</td>\n",
       "      <td>54.54</td>\n",
       "      <td>28.66</td>\n",
       "      <td>2.45</td>\n",
       "      <td>0.86</td>\n",
       "      <td>0.26</td>\n",
       "      <td>125.30</td>\n",
       "      <td>86.51</td>\n",
       "      <td>False</td>\n",
       "      <td>1.39</td>\n",
       "      <td>391.49</td>\n",
       "      <td>55.22</td>\n",
       "      <td>27.06</td>\n",
       "      <td>55.92</td>\n",
       "      <td>28.38</td>\n",
       "      <td>54.16</td>\n",
       "      <td>27.62</td>\n",
       "      <td>54.86</td>\n",
       "      <td>28.94</td>\n",
       "      <td>52421.0</td>\n",
       "      <td>37097.0</td>\n",
       "      <td>Cameron Jordan</td>\n",
       "      <td>LOLB</td>\n",
       "      <td>54.54</td>\n",
       "      <td>28.66</td>\n",
       "      <td>2.45</td>\n",
       "      <td>0.86</td>\n",
       "      <td>0.26</td>\n",
       "      <td>125.30</td>\n",
       "      <td>86.51</td>\n",
       "      <td>False</td>\n",
       "      <td>1.39</td>\n",
       "      <td>391.49</td>\n",
       "      <td>55.22</td>\n",
       "      <td>27.06</td>\n",
       "      <td>55.92</td>\n",
       "      <td>28.38</td>\n",
       "      <td>54.34</td>\n",
       "      <td>27.53</td>\n",
       "      <td>55.04</td>\n",
       "      <td>28.85</td>\n",
       "    </tr>\n",
       "    <tr>\n",
       "      <th>235781</th>\n",
       "      <td>235781</td>\n",
       "      <td>2021103111</td>\n",
       "      <td>1063</td>\n",
       "      <td>52421</td>\n",
       "      <td>Pass Block</td>\n",
       "      <td>RT</td>\n",
       "      <td>0.0</td>\n",
       "      <td>0.0</td>\n",
       "      <td>0.0</td>\n",
       "      <td>1.0</td>\n",
       "      <td>0.0</td>\n",
       "      <td>0.0</td>\n",
       "      <td>0.0</td>\n",
       "      <td>37097.0</td>\n",
       "      <td>PA</td>\n",
       "      <td>0.0</td>\n",
       "      <td>17</td>\n",
       "      <td>2021-10-31T21:05:46.600</td>\n",
       "      <td>78.0</td>\n",
       "      <td>TB</td>\n",
       "      <td>left</td>\n",
       "      <td>55.70</td>\n",
       "      <td>27.78</td>\n",
       "      <td>1.38</td>\n",
       "      <td>1.10</td>\n",
       "      <td>0.14</td>\n",
       "      <td>303.37</td>\n",
       "      <td>63.24</td>\n",
       "      <td>None</td>\n",
       "      <td>6-5</td>\n",
       "      <td>322</td>\n",
       "      <td>1999-01-24</td>\n",
       "      <td>Iowa</td>\n",
       "      <td>T</td>\n",
       "      <td>Tristan Wirfs</td>\n",
       "      <td>57.54</td>\n",
       "      <td>23.96</td>\n",
       "      <td>4.61</td>\n",
       "      <td>3.11</td>\n",
       "      <td>0.45</td>\n",
       "      <td>336.16</td>\n",
       "      <td>85.06</td>\n",
       "      <td>4.240047</td>\n",
       "      <td>13.06</td>\n",
       "      <td>290.31</td>\n",
       "      <td>52421.0</td>\n",
       "      <td>37097.0</td>\n",
       "      <td>Cameron Jordan</td>\n",
       "      <td>LOLB</td>\n",
       "      <td>54.80</td>\n",
       "      <td>28.69</td>\n",
       "      <td>2.53</td>\n",
       "      <td>0.86</td>\n",
       "      <td>0.26</td>\n",
       "      <td>128.57</td>\n",
       "      <td>83.45</td>\n",
       "      <td>False</td>\n",
       "      <td>1.28</td>\n",
       "      <td>399.92</td>\n",
       "      <td>55.29</td>\n",
       "      <td>27.15</td>\n",
       "      <td>56.11</td>\n",
       "      <td>28.41</td>\n",
       "      <td>54.29</td>\n",
       "      <td>27.81</td>\n",
       "      <td>55.11</td>\n",
       "      <td>29.07</td>\n",
       "      <td>52421.0</td>\n",
       "      <td>37097.0</td>\n",
       "      <td>Cameron Jordan</td>\n",
       "      <td>LOLB</td>\n",
       "      <td>54.80</td>\n",
       "      <td>28.69</td>\n",
       "      <td>2.53</td>\n",
       "      <td>0.86</td>\n",
       "      <td>0.26</td>\n",
       "      <td>128.57</td>\n",
       "      <td>83.45</td>\n",
       "      <td>False</td>\n",
       "      <td>1.28</td>\n",
       "      <td>399.92</td>\n",
       "      <td>55.29</td>\n",
       "      <td>27.15</td>\n",
       "      <td>56.11</td>\n",
       "      <td>28.41</td>\n",
       "      <td>54.45</td>\n",
       "      <td>27.70</td>\n",
       "      <td>55.27</td>\n",
       "      <td>28.96</td>\n",
       "    </tr>\n",
       "    <tr>\n",
       "      <th>235803</th>\n",
       "      <td>235803</td>\n",
       "      <td>2021103111</td>\n",
       "      <td>1063</td>\n",
       "      <td>52421</td>\n",
       "      <td>Pass Block</td>\n",
       "      <td>RT</td>\n",
       "      <td>0.0</td>\n",
       "      <td>0.0</td>\n",
       "      <td>0.0</td>\n",
       "      <td>1.0</td>\n",
       "      <td>0.0</td>\n",
       "      <td>0.0</td>\n",
       "      <td>0.0</td>\n",
       "      <td>37097.0</td>\n",
       "      <td>PA</td>\n",
       "      <td>0.0</td>\n",
       "      <td>18</td>\n",
       "      <td>2021-10-31T21:05:46.700</td>\n",
       "      <td>78.0</td>\n",
       "      <td>TB</td>\n",
       "      <td>left</td>\n",
       "      <td>55.84</td>\n",
       "      <td>27.84</td>\n",
       "      <td>1.51</td>\n",
       "      <td>1.08</td>\n",
       "      <td>0.16</td>\n",
       "      <td>307.74</td>\n",
       "      <td>68.14</td>\n",
       "      <td>None</td>\n",
       "      <td>6-5</td>\n",
       "      <td>322</td>\n",
       "      <td>1999-01-24</td>\n",
       "      <td>Iowa</td>\n",
       "      <td>T</td>\n",
       "      <td>Tristan Wirfs</td>\n",
       "      <td>58.00</td>\n",
       "      <td>23.99</td>\n",
       "      <td>4.81</td>\n",
       "      <td>2.00</td>\n",
       "      <td>0.47</td>\n",
       "      <td>353.09</td>\n",
       "      <td>85.70</td>\n",
       "      <td>4.414533</td>\n",
       "      <td>17.47</td>\n",
       "      <td>290.27</td>\n",
       "      <td>52421.0</td>\n",
       "      <td>37097.0</td>\n",
       "      <td>Cameron Jordan</td>\n",
       "      <td>LOLB</td>\n",
       "      <td>55.08</td>\n",
       "      <td>28.73</td>\n",
       "      <td>2.67</td>\n",
       "      <td>0.77</td>\n",
       "      <td>0.29</td>\n",
       "      <td>131.63</td>\n",
       "      <td>81.44</td>\n",
       "      <td>False</td>\n",
       "      <td>1.17</td>\n",
       "      <td>406.30</td>\n",
       "      <td>55.38</td>\n",
       "      <td>27.25</td>\n",
       "      <td>56.30</td>\n",
       "      <td>28.43</td>\n",
       "      <td>54.43</td>\n",
       "      <td>27.98</td>\n",
       "      <td>55.35</td>\n",
       "      <td>29.16</td>\n",
       "      <td>52421.0</td>\n",
       "      <td>37097.0</td>\n",
       "      <td>Cameron Jordan</td>\n",
       "      <td>LOLB</td>\n",
       "      <td>55.08</td>\n",
       "      <td>28.73</td>\n",
       "      <td>2.67</td>\n",
       "      <td>0.77</td>\n",
       "      <td>0.29</td>\n",
       "      <td>131.63</td>\n",
       "      <td>81.44</td>\n",
       "      <td>False</td>\n",
       "      <td>1.17</td>\n",
       "      <td>406.30</td>\n",
       "      <td>55.38</td>\n",
       "      <td>27.25</td>\n",
       "      <td>56.30</td>\n",
       "      <td>28.43</td>\n",
       "      <td>54.59</td>\n",
       "      <td>27.86</td>\n",
       "      <td>55.51</td>\n",
       "      <td>29.04</td>\n",
       "    </tr>\n",
       "    <tr>\n",
       "      <th>235825</th>\n",
       "      <td>235825</td>\n",
       "      <td>2021103111</td>\n",
       "      <td>1063</td>\n",
       "      <td>52421</td>\n",
       "      <td>Pass Block</td>\n",
       "      <td>RT</td>\n",
       "      <td>0.0</td>\n",
       "      <td>0.0</td>\n",
       "      <td>0.0</td>\n",
       "      <td>1.0</td>\n",
       "      <td>0.0</td>\n",
       "      <td>0.0</td>\n",
       "      <td>0.0</td>\n",
       "      <td>37097.0</td>\n",
       "      <td>PA</td>\n",
       "      <td>0.0</td>\n",
       "      <td>19</td>\n",
       "      <td>2021-10-31T21:05:46.800</td>\n",
       "      <td>78.0</td>\n",
       "      <td>TB</td>\n",
       "      <td>left</td>\n",
       "      <td>56.01</td>\n",
       "      <td>27.90</td>\n",
       "      <td>1.70</td>\n",
       "      <td>1.05</td>\n",
       "      <td>0.18</td>\n",
       "      <td>316.37</td>\n",
       "      <td>71.74</td>\n",
       "      <td>None</td>\n",
       "      <td>6-5</td>\n",
       "      <td>322</td>\n",
       "      <td>1999-01-24</td>\n",
       "      <td>Iowa</td>\n",
       "      <td>T</td>\n",
       "      <td>Tristan Wirfs</td>\n",
       "      <td>58.49</td>\n",
       "      <td>24.03</td>\n",
       "      <td>4.91</td>\n",
       "      <td>1.01</td>\n",
       "      <td>0.48</td>\n",
       "      <td>358.85</td>\n",
       "      <td>86.09</td>\n",
       "      <td>4.596444</td>\n",
       "      <td>22.33</td>\n",
       "      <td>294.04</td>\n",
       "      <td>52421.0</td>\n",
       "      <td>37097.0</td>\n",
       "      <td>Cameron Jordan</td>\n",
       "      <td>LOLB</td>\n",
       "      <td>55.38</td>\n",
       "      <td>28.78</td>\n",
       "      <td>2.79</td>\n",
       "      <td>0.66</td>\n",
       "      <td>0.30</td>\n",
       "      <td>134.85</td>\n",
       "      <td>79.99</td>\n",
       "      <td>False</td>\n",
       "      <td>1.08</td>\n",
       "      <td>416.38</td>\n",
       "      <td>55.47</td>\n",
       "      <td>27.38</td>\n",
       "      <td>56.55</td>\n",
       "      <td>28.42</td>\n",
       "      <td>54.64</td>\n",
       "      <td>28.25</td>\n",
       "      <td>55.72</td>\n",
       "      <td>29.29</td>\n",
       "      <td>52421.0</td>\n",
       "      <td>37097.0</td>\n",
       "      <td>Cameron Jordan</td>\n",
       "      <td>LOLB</td>\n",
       "      <td>55.38</td>\n",
       "      <td>28.78</td>\n",
       "      <td>2.79</td>\n",
       "      <td>0.66</td>\n",
       "      <td>0.30</td>\n",
       "      <td>134.85</td>\n",
       "      <td>79.99</td>\n",
       "      <td>False</td>\n",
       "      <td>1.08</td>\n",
       "      <td>416.38</td>\n",
       "      <td>55.47</td>\n",
       "      <td>27.38</td>\n",
       "      <td>56.55</td>\n",
       "      <td>28.42</td>\n",
       "      <td>54.78</td>\n",
       "      <td>28.10</td>\n",
       "      <td>55.86</td>\n",
       "      <td>29.14</td>\n",
       "    </tr>\n",
       "    <tr>\n",
       "      <th>235847</th>\n",
       "      <td>235847</td>\n",
       "      <td>2021103111</td>\n",
       "      <td>1063</td>\n",
       "      <td>52421</td>\n",
       "      <td>Pass Block</td>\n",
       "      <td>RT</td>\n",
       "      <td>0.0</td>\n",
       "      <td>0.0</td>\n",
       "      <td>0.0</td>\n",
       "      <td>1.0</td>\n",
       "      <td>0.0</td>\n",
       "      <td>0.0</td>\n",
       "      <td>0.0</td>\n",
       "      <td>37097.0</td>\n",
       "      <td>PA</td>\n",
       "      <td>0.0</td>\n",
       "      <td>20</td>\n",
       "      <td>2021-10-31T21:05:46.900</td>\n",
       "      <td>78.0</td>\n",
       "      <td>TB</td>\n",
       "      <td>left</td>\n",
       "      <td>56.22</td>\n",
       "      <td>27.96</td>\n",
       "      <td>1.99</td>\n",
       "      <td>1.17</td>\n",
       "      <td>0.21</td>\n",
       "      <td>320.43</td>\n",
       "      <td>74.48</td>\n",
       "      <td>None</td>\n",
       "      <td>6-5</td>\n",
       "      <td>322</td>\n",
       "      <td>1999-01-24</td>\n",
       "      <td>Iowa</td>\n",
       "      <td>T</td>\n",
       "      <td>Tristan Wirfs</td>\n",
       "      <td>58.98</td>\n",
       "      <td>24.06</td>\n",
       "      <td>4.93</td>\n",
       "      <td>0.33</td>\n",
       "      <td>0.49</td>\n",
       "      <td>2.13</td>\n",
       "      <td>86.38</td>\n",
       "      <td>4.777824</td>\n",
       "      <td>26.60</td>\n",
       "      <td>293.83</td>\n",
       "      <td>52421.0</td>\n",
       "      <td>37097.0</td>\n",
       "      <td>Cameron Jordan</td>\n",
       "      <td>LOLB</td>\n",
       "      <td>55.68</td>\n",
       "      <td>28.84</td>\n",
       "      <td>2.88</td>\n",
       "      <td>0.57</td>\n",
       "      <td>0.31</td>\n",
       "      <td>137.05</td>\n",
       "      <td>79.04</td>\n",
       "      <td>False</td>\n",
       "      <td>1.03</td>\n",
       "      <td>421.39</td>\n",
       "      <td>55.64</td>\n",
       "      <td>27.48</td>\n",
       "      <td>56.80</td>\n",
       "      <td>28.44</td>\n",
       "      <td>54.88</td>\n",
       "      <td>28.41</td>\n",
       "      <td>56.04</td>\n",
       "      <td>29.37</td>\n",
       "      <td>52421.0</td>\n",
       "      <td>37097.0</td>\n",
       "      <td>Cameron Jordan</td>\n",
       "      <td>LOLB</td>\n",
       "      <td>55.68</td>\n",
       "      <td>28.84</td>\n",
       "      <td>2.88</td>\n",
       "      <td>0.57</td>\n",
       "      <td>0.31</td>\n",
       "      <td>137.05</td>\n",
       "      <td>79.04</td>\n",
       "      <td>False</td>\n",
       "      <td>1.03</td>\n",
       "      <td>421.39</td>\n",
       "      <td>55.64</td>\n",
       "      <td>27.48</td>\n",
       "      <td>56.80</td>\n",
       "      <td>28.44</td>\n",
       "      <td>55.00</td>\n",
       "      <td>28.25</td>\n",
       "      <td>56.16</td>\n",
       "      <td>29.21</td>\n",
       "    </tr>\n",
       "    <tr>\n",
       "      <th>235869</th>\n",
       "      <td>235869</td>\n",
       "      <td>2021103111</td>\n",
       "      <td>1063</td>\n",
       "      <td>52421</td>\n",
       "      <td>Pass Block</td>\n",
       "      <td>RT</td>\n",
       "      <td>0.0</td>\n",
       "      <td>0.0</td>\n",
       "      <td>0.0</td>\n",
       "      <td>1.0</td>\n",
       "      <td>0.0</td>\n",
       "      <td>0.0</td>\n",
       "      <td>0.0</td>\n",
       "      <td>37097.0</td>\n",
       "      <td>PA</td>\n",
       "      <td>0.0</td>\n",
       "      <td>21</td>\n",
       "      <td>2021-10-31T21:05:47.000</td>\n",
       "      <td>78.0</td>\n",
       "      <td>TB</td>\n",
       "      <td>left</td>\n",
       "      <td>56.43</td>\n",
       "      <td>28.02</td>\n",
       "      <td>2.21</td>\n",
       "      <td>1.18</td>\n",
       "      <td>0.23</td>\n",
       "      <td>324.77</td>\n",
       "      <td>76.61</td>\n",
       "      <td>None</td>\n",
       "      <td>6-5</td>\n",
       "      <td>322</td>\n",
       "      <td>1999-01-24</td>\n",
       "      <td>Iowa</td>\n",
       "      <td>T</td>\n",
       "      <td>Tristan Wirfs</td>\n",
       "      <td>59.46</td>\n",
       "      <td>24.09</td>\n",
       "      <td>4.86</td>\n",
       "      <td>0.69</td>\n",
       "      <td>0.49</td>\n",
       "      <td>1.42</td>\n",
       "      <td>86.73</td>\n",
       "      <td>4.962439</td>\n",
       "      <td>30.73</td>\n",
       "      <td>294.04</td>\n",
       "      <td>52421.0</td>\n",
       "      <td>37097.0</td>\n",
       "      <td>Cameron Jordan</td>\n",
       "      <td>LOLB</td>\n",
       "      <td>56.00</td>\n",
       "      <td>28.89</td>\n",
       "      <td>3.04</td>\n",
       "      <td>0.33</td>\n",
       "      <td>0.33</td>\n",
       "      <td>138.54</td>\n",
       "      <td>79.40</td>\n",
       "      <td>False</td>\n",
       "      <td>0.97</td>\n",
       "      <td>425.37</td>\n",
       "      <td>55.82</td>\n",
       "      <td>27.59</td>\n",
       "      <td>57.04</td>\n",
       "      <td>28.45</td>\n",
       "      <td>55.13</td>\n",
       "      <td>28.57</td>\n",
       "      <td>56.35</td>\n",
       "      <td>29.43</td>\n",
       "      <td>52421.0</td>\n",
       "      <td>37097.0</td>\n",
       "      <td>Cameron Jordan</td>\n",
       "      <td>LOLB</td>\n",
       "      <td>56.00</td>\n",
       "      <td>28.89</td>\n",
       "      <td>3.04</td>\n",
       "      <td>0.33</td>\n",
       "      <td>0.33</td>\n",
       "      <td>138.54</td>\n",
       "      <td>79.40</td>\n",
       "      <td>False</td>\n",
       "      <td>0.97</td>\n",
       "      <td>425.37</td>\n",
       "      <td>55.82</td>\n",
       "      <td>27.59</td>\n",
       "      <td>57.04</td>\n",
       "      <td>28.45</td>\n",
       "      <td>55.24</td>\n",
       "      <td>28.41</td>\n",
       "      <td>56.46</td>\n",
       "      <td>29.27</td>\n",
       "    </tr>\n",
       "    <tr>\n",
       "      <th>235891</th>\n",
       "      <td>235891</td>\n",
       "      <td>2021103111</td>\n",
       "      <td>1063</td>\n",
       "      <td>52421</td>\n",
       "      <td>Pass Block</td>\n",
       "      <td>RT</td>\n",
       "      <td>0.0</td>\n",
       "      <td>0.0</td>\n",
       "      <td>0.0</td>\n",
       "      <td>1.0</td>\n",
       "      <td>0.0</td>\n",
       "      <td>0.0</td>\n",
       "      <td>0.0</td>\n",
       "      <td>37097.0</td>\n",
       "      <td>PA</td>\n",
       "      <td>0.0</td>\n",
       "      <td>22</td>\n",
       "      <td>2021-10-31T21:05:47.100</td>\n",
       "      <td>78.0</td>\n",
       "      <td>TB</td>\n",
       "      <td>left</td>\n",
       "      <td>56.67</td>\n",
       "      <td>28.07</td>\n",
       "      <td>2.41</td>\n",
       "      <td>0.87</td>\n",
       "      <td>0.24</td>\n",
       "      <td>327.80</td>\n",
       "      <td>77.33</td>\n",
       "      <td>None</td>\n",
       "      <td>6-5</td>\n",
       "      <td>322</td>\n",
       "      <td>1999-01-24</td>\n",
       "      <td>Iowa</td>\n",
       "      <td>T</td>\n",
       "      <td>Tristan Wirfs</td>\n",
       "      <td>59.94</td>\n",
       "      <td>24.11</td>\n",
       "      <td>4.67</td>\n",
       "      <td>1.47</td>\n",
       "      <td>0.47</td>\n",
       "      <td>358.34</td>\n",
       "      <td>87.38</td>\n",
       "      <td>5.135611</td>\n",
       "      <td>34.29</td>\n",
       "      <td>293.51</td>\n",
       "      <td>52421.0</td>\n",
       "      <td>37097.0</td>\n",
       "      <td>Cameron Jordan</td>\n",
       "      <td>LOLB</td>\n",
       "      <td>56.32</td>\n",
       "      <td>28.94</td>\n",
       "      <td>3.11</td>\n",
       "      <td>0.36</td>\n",
       "      <td>0.32</td>\n",
       "      <td>142.49</td>\n",
       "      <td>80.05</td>\n",
       "      <td>False</td>\n",
       "      <td>0.94</td>\n",
       "      <td>427.75</td>\n",
       "      <td>56.04</td>\n",
       "      <td>27.67</td>\n",
       "      <td>57.30</td>\n",
       "      <td>28.47</td>\n",
       "      <td>55.40</td>\n",
       "      <td>28.69</td>\n",
       "      <td>56.66</td>\n",
       "      <td>29.49</td>\n",
       "      <td>52421.0</td>\n",
       "      <td>37097.0</td>\n",
       "      <td>Cameron Jordan</td>\n",
       "      <td>LOLB</td>\n",
       "      <td>56.32</td>\n",
       "      <td>28.94</td>\n",
       "      <td>3.11</td>\n",
       "      <td>0.36</td>\n",
       "      <td>0.32</td>\n",
       "      <td>142.49</td>\n",
       "      <td>80.05</td>\n",
       "      <td>False</td>\n",
       "      <td>0.94</td>\n",
       "      <td>427.75</td>\n",
       "      <td>56.04</td>\n",
       "      <td>27.67</td>\n",
       "      <td>57.30</td>\n",
       "      <td>28.47</td>\n",
       "      <td>55.51</td>\n",
       "      <td>28.52</td>\n",
       "      <td>56.77</td>\n",
       "      <td>29.32</td>\n",
       "    </tr>\n",
       "    <tr>\n",
       "      <th>235913</th>\n",
       "      <td>235913</td>\n",
       "      <td>2021103111</td>\n",
       "      <td>1063</td>\n",
       "      <td>52421</td>\n",
       "      <td>Pass Block</td>\n",
       "      <td>RT</td>\n",
       "      <td>0.0</td>\n",
       "      <td>0.0</td>\n",
       "      <td>0.0</td>\n",
       "      <td>1.0</td>\n",
       "      <td>0.0</td>\n",
       "      <td>0.0</td>\n",
       "      <td>0.0</td>\n",
       "      <td>37097.0</td>\n",
       "      <td>PA</td>\n",
       "      <td>0.0</td>\n",
       "      <td>23</td>\n",
       "      <td>2021-10-31T21:05:47.200</td>\n",
       "      <td>78.0</td>\n",
       "      <td>TB</td>\n",
       "      <td>left</td>\n",
       "      <td>56.93</td>\n",
       "      <td>28.12</td>\n",
       "      <td>2.60</td>\n",
       "      <td>0.65</td>\n",
       "      <td>0.27</td>\n",
       "      <td>333.87</td>\n",
       "      <td>79.06</td>\n",
       "      <td>None</td>\n",
       "      <td>6-5</td>\n",
       "      <td>322</td>\n",
       "      <td>1999-01-24</td>\n",
       "      <td>Iowa</td>\n",
       "      <td>T</td>\n",
       "      <td>Tristan Wirfs</td>\n",
       "      <td>60.39</td>\n",
       "      <td>24.14</td>\n",
       "      <td>4.42</td>\n",
       "      <td>2.07</td>\n",
       "      <td>0.45</td>\n",
       "      <td>355.68</td>\n",
       "      <td>87.56</td>\n",
       "      <td>5.273708</td>\n",
       "      <td>37.08</td>\n",
       "      <td>296.79</td>\n",
       "      <td>52421.0</td>\n",
       "      <td>37097.0</td>\n",
       "      <td>Cameron Jordan</td>\n",
       "      <td>LOLB</td>\n",
       "      <td>56.66</td>\n",
       "      <td>28.98</td>\n",
       "      <td>3.25</td>\n",
       "      <td>0.40</td>\n",
       "      <td>0.34</td>\n",
       "      <td>146.96</td>\n",
       "      <td>81.85</td>\n",
       "      <td>False</td>\n",
       "      <td>0.90</td>\n",
       "      <td>432.02</td>\n",
       "      <td>56.26</td>\n",
       "      <td>27.79</td>\n",
       "      <td>57.60</td>\n",
       "      <td>28.45</td>\n",
       "      <td>55.73</td>\n",
       "      <td>28.87</td>\n",
       "      <td>57.07</td>\n",
       "      <td>29.53</td>\n",
       "      <td>52421.0</td>\n",
       "      <td>37097.0</td>\n",
       "      <td>Cameron Jordan</td>\n",
       "      <td>LOLB</td>\n",
       "      <td>56.66</td>\n",
       "      <td>28.98</td>\n",
       "      <td>3.25</td>\n",
       "      <td>0.40</td>\n",
       "      <td>0.34</td>\n",
       "      <td>146.96</td>\n",
       "      <td>81.85</td>\n",
       "      <td>False</td>\n",
       "      <td>0.90</td>\n",
       "      <td>432.02</td>\n",
       "      <td>56.26</td>\n",
       "      <td>27.79</td>\n",
       "      <td>57.60</td>\n",
       "      <td>28.45</td>\n",
       "      <td>55.82</td>\n",
       "      <td>28.69</td>\n",
       "      <td>57.16</td>\n",
       "      <td>29.35</td>\n",
       "    </tr>\n",
       "    <tr>\n",
       "      <th>235935</th>\n",
       "      <td>235935</td>\n",
       "      <td>2021103111</td>\n",
       "      <td>1063</td>\n",
       "      <td>52421</td>\n",
       "      <td>Pass Block</td>\n",
       "      <td>RT</td>\n",
       "      <td>0.0</td>\n",
       "      <td>0.0</td>\n",
       "      <td>0.0</td>\n",
       "      <td>1.0</td>\n",
       "      <td>0.0</td>\n",
       "      <td>0.0</td>\n",
       "      <td>0.0</td>\n",
       "      <td>37097.0</td>\n",
       "      <td>PA</td>\n",
       "      <td>0.0</td>\n",
       "      <td>24</td>\n",
       "      <td>2021-10-31T21:05:47.300</td>\n",
       "      <td>78.0</td>\n",
       "      <td>TB</td>\n",
       "      <td>left</td>\n",
       "      <td>57.22</td>\n",
       "      <td>28.16</td>\n",
       "      <td>2.79</td>\n",
       "      <td>0.59</td>\n",
       "      <td>0.29</td>\n",
       "      <td>337.75</td>\n",
       "      <td>81.47</td>\n",
       "      <td>None</td>\n",
       "      <td>6-5</td>\n",
       "      <td>322</td>\n",
       "      <td>1999-01-24</td>\n",
       "      <td>Iowa</td>\n",
       "      <td>T</td>\n",
       "      <td>Tristan Wirfs</td>\n",
       "      <td>60.79</td>\n",
       "      <td>24.15</td>\n",
       "      <td>3.88</td>\n",
       "      <td>3.19</td>\n",
       "      <td>0.40</td>\n",
       "      <td>353.65</td>\n",
       "      <td>87.76</td>\n",
       "      <td>5.368892</td>\n",
       "      <td>38.40</td>\n",
       "      <td>299.35</td>\n",
       "      <td>52421.0</td>\n",
       "      <td>37097.0</td>\n",
       "      <td>Cameron Jordan</td>\n",
       "      <td>LOLB</td>\n",
       "      <td>57.01</td>\n",
       "      <td>29.02</td>\n",
       "      <td>3.35</td>\n",
       "      <td>0.60</td>\n",
       "      <td>0.35</td>\n",
       "      <td>145.37</td>\n",
       "      <td>83.64</td>\n",
       "      <td>False</td>\n",
       "      <td>0.89</td>\n",
       "      <td>434.11</td>\n",
       "      <td>56.53</td>\n",
       "      <td>27.88</td>\n",
       "      <td>57.91</td>\n",
       "      <td>28.44</td>\n",
       "      <td>56.08</td>\n",
       "      <td>28.99</td>\n",
       "      <td>57.46</td>\n",
       "      <td>29.55</td>\n",
       "      <td>52421.0</td>\n",
       "      <td>37097.0</td>\n",
       "      <td>Cameron Jordan</td>\n",
       "      <td>LOLB</td>\n",
       "      <td>57.01</td>\n",
       "      <td>29.02</td>\n",
       "      <td>3.35</td>\n",
       "      <td>0.60</td>\n",
       "      <td>0.35</td>\n",
       "      <td>145.37</td>\n",
       "      <td>83.64</td>\n",
       "      <td>False</td>\n",
       "      <td>0.89</td>\n",
       "      <td>434.11</td>\n",
       "      <td>56.53</td>\n",
       "      <td>27.88</td>\n",
       "      <td>57.91</td>\n",
       "      <td>28.44</td>\n",
       "      <td>56.15</td>\n",
       "      <td>28.81</td>\n",
       "      <td>57.53</td>\n",
       "      <td>29.37</td>\n",
       "    </tr>\n",
       "    <tr>\n",
       "      <th>235957</th>\n",
       "      <td>235957</td>\n",
       "      <td>2021103111</td>\n",
       "      <td>1063</td>\n",
       "      <td>52421</td>\n",
       "      <td>Pass Block</td>\n",
       "      <td>RT</td>\n",
       "      <td>0.0</td>\n",
       "      <td>0.0</td>\n",
       "      <td>0.0</td>\n",
       "      <td>1.0</td>\n",
       "      <td>0.0</td>\n",
       "      <td>0.0</td>\n",
       "      <td>0.0</td>\n",
       "      <td>37097.0</td>\n",
       "      <td>PA</td>\n",
       "      <td>0.0</td>\n",
       "      <td>25</td>\n",
       "      <td>2021-10-31T21:05:47.400</td>\n",
       "      <td>78.0</td>\n",
       "      <td>TB</td>\n",
       "      <td>left</td>\n",
       "      <td>57.50</td>\n",
       "      <td>28.19</td>\n",
       "      <td>2.86</td>\n",
       "      <td>0.53</td>\n",
       "      <td>0.29</td>\n",
       "      <td>339.33</td>\n",
       "      <td>83.41</td>\n",
       "      <td>None</td>\n",
       "      <td>6-5</td>\n",
       "      <td>322</td>\n",
       "      <td>1999-01-24</td>\n",
       "      <td>Iowa</td>\n",
       "      <td>T</td>\n",
       "      <td>Tristan Wirfs</td>\n",
       "      <td>61.13</td>\n",
       "      <td>24.17</td>\n",
       "      <td>3.27</td>\n",
       "      <td>4.26</td>\n",
       "      <td>0.35</td>\n",
       "      <td>350.73</td>\n",
       "      <td>87.91</td>\n",
       "      <td>5.416392</td>\n",
       "      <td>39.19</td>\n",
       "      <td>300.14</td>\n",
       "      <td>52421.0</td>\n",
       "      <td>37097.0</td>\n",
       "      <td>Cameron Jordan</td>\n",
       "      <td>LOLB</td>\n",
       "      <td>57.36</td>\n",
       "      <td>29.04</td>\n",
       "      <td>3.40</td>\n",
       "      <td>0.82</td>\n",
       "      <td>0.35</td>\n",
       "      <td>139.84</td>\n",
       "      <td>85.74</td>\n",
       "      <td>False</td>\n",
       "      <td>0.86</td>\n",
       "      <td>433.59</td>\n",
       "      <td>56.80</td>\n",
       "      <td>27.93</td>\n",
       "      <td>58.20</td>\n",
       "      <td>28.45</td>\n",
       "      <td>56.38</td>\n",
       "      <td>29.05</td>\n",
       "      <td>57.78</td>\n",
       "      <td>29.57</td>\n",
       "      <td>52421.0</td>\n",
       "      <td>37097.0</td>\n",
       "      <td>Cameron Jordan</td>\n",
       "      <td>LOLB</td>\n",
       "      <td>57.36</td>\n",
       "      <td>29.04</td>\n",
       "      <td>3.40</td>\n",
       "      <td>0.82</td>\n",
       "      <td>0.35</td>\n",
       "      <td>139.84</td>\n",
       "      <td>85.74</td>\n",
       "      <td>False</td>\n",
       "      <td>0.86</td>\n",
       "      <td>433.59</td>\n",
       "      <td>56.80</td>\n",
       "      <td>27.93</td>\n",
       "      <td>58.20</td>\n",
       "      <td>28.45</td>\n",
       "      <td>56.45</td>\n",
       "      <td>28.87</td>\n",
       "      <td>57.85</td>\n",
       "      <td>29.39</td>\n",
       "    </tr>\n",
       "    <tr>\n",
       "      <th>235979</th>\n",
       "      <td>235979</td>\n",
       "      <td>2021103111</td>\n",
       "      <td>1063</td>\n",
       "      <td>52421</td>\n",
       "      <td>Pass Block</td>\n",
       "      <td>RT</td>\n",
       "      <td>0.0</td>\n",
       "      <td>0.0</td>\n",
       "      <td>0.0</td>\n",
       "      <td>1.0</td>\n",
       "      <td>0.0</td>\n",
       "      <td>0.0</td>\n",
       "      <td>0.0</td>\n",
       "      <td>37097.0</td>\n",
       "      <td>PA</td>\n",
       "      <td>0.0</td>\n",
       "      <td>26</td>\n",
       "      <td>2021-10-31T21:05:47.500</td>\n",
       "      <td>78.0</td>\n",
       "      <td>TB</td>\n",
       "      <td>left</td>\n",
       "      <td>57.81</td>\n",
       "      <td>28.21</td>\n",
       "      <td>2.99</td>\n",
       "      <td>0.66</td>\n",
       "      <td>0.31</td>\n",
       "      <td>343.59</td>\n",
       "      <td>85.73</td>\n",
       "      <td>None</td>\n",
       "      <td>6-5</td>\n",
       "      <td>322</td>\n",
       "      <td>1999-01-24</td>\n",
       "      <td>Iowa</td>\n",
       "      <td>T</td>\n",
       "      <td>Tristan Wirfs</td>\n",
       "      <td>61.43</td>\n",
       "      <td>24.18</td>\n",
       "      <td>2.65</td>\n",
       "      <td>5.07</td>\n",
       "      <td>0.29</td>\n",
       "      <td>349.10</td>\n",
       "      <td>87.98</td>\n",
       "      <td>5.417130</td>\n",
       "      <td>38.90</td>\n",
       "      <td>304.69</td>\n",
       "      <td>52421.0</td>\n",
       "      <td>37097.0</td>\n",
       "      <td>Cameron Jordan</td>\n",
       "      <td>LOLB</td>\n",
       "      <td>57.71</td>\n",
       "      <td>29.05</td>\n",
       "      <td>3.45</td>\n",
       "      <td>0.99</td>\n",
       "      <td>0.35</td>\n",
       "      <td>147.48</td>\n",
       "      <td>87.93</td>\n",
       "      <td>False</td>\n",
       "      <td>0.85</td>\n",
       "      <td>435.66</td>\n",
       "      <td>57.09</td>\n",
       "      <td>28.00</td>\n",
       "      <td>58.53</td>\n",
       "      <td>28.42</td>\n",
       "      <td>56.75</td>\n",
       "      <td>29.15</td>\n",
       "      <td>58.19</td>\n",
       "      <td>29.57</td>\n",
       "      <td>52421.0</td>\n",
       "      <td>37097.0</td>\n",
       "      <td>Cameron Jordan</td>\n",
       "      <td>LOLB</td>\n",
       "      <td>57.71</td>\n",
       "      <td>29.05</td>\n",
       "      <td>3.45</td>\n",
       "      <td>0.99</td>\n",
       "      <td>0.35</td>\n",
       "      <td>147.48</td>\n",
       "      <td>87.93</td>\n",
       "      <td>False</td>\n",
       "      <td>0.85</td>\n",
       "      <td>435.66</td>\n",
       "      <td>57.09</td>\n",
       "      <td>28.00</td>\n",
       "      <td>58.53</td>\n",
       "      <td>28.42</td>\n",
       "      <td>56.81</td>\n",
       "      <td>28.96</td>\n",
       "      <td>58.25</td>\n",
       "      <td>29.38</td>\n",
       "    </tr>\n",
       "    <tr>\n",
       "      <th>236001</th>\n",
       "      <td>236001</td>\n",
       "      <td>2021103111</td>\n",
       "      <td>1063</td>\n",
       "      <td>52421</td>\n",
       "      <td>Pass Block</td>\n",
       "      <td>RT</td>\n",
       "      <td>0.0</td>\n",
       "      <td>0.0</td>\n",
       "      <td>0.0</td>\n",
       "      <td>1.0</td>\n",
       "      <td>0.0</td>\n",
       "      <td>0.0</td>\n",
       "      <td>0.0</td>\n",
       "      <td>37097.0</td>\n",
       "      <td>PA</td>\n",
       "      <td>0.0</td>\n",
       "      <td>27</td>\n",
       "      <td>2021-10-31T21:05:47.600</td>\n",
       "      <td>78.0</td>\n",
       "      <td>TB</td>\n",
       "      <td>left</td>\n",
       "      <td>58.13</td>\n",
       "      <td>28.22</td>\n",
       "      <td>3.09</td>\n",
       "      <td>0.84</td>\n",
       "      <td>0.32</td>\n",
       "      <td>351.81</td>\n",
       "      <td>88.66</td>\n",
       "      <td>None</td>\n",
       "      <td>6-5</td>\n",
       "      <td>322</td>\n",
       "      <td>1999-01-24</td>\n",
       "      <td>Iowa</td>\n",
       "      <td>T</td>\n",
       "      <td>Tristan Wirfs</td>\n",
       "      <td>61.66</td>\n",
       "      <td>24.19</td>\n",
       "      <td>1.99</td>\n",
       "      <td>5.70</td>\n",
       "      <td>0.23</td>\n",
       "      <td>347.73</td>\n",
       "      <td>88.15</td>\n",
       "      <td>5.357406</td>\n",
       "      <td>37.50</td>\n",
       "      <td>314.31</td>\n",
       "      <td>52421.0</td>\n",
       "      <td>37097.0</td>\n",
       "      <td>Cameron Jordan</td>\n",
       "      <td>LOLB</td>\n",
       "      <td>58.07</td>\n",
       "      <td>29.05</td>\n",
       "      <td>3.44</td>\n",
       "      <td>1.23</td>\n",
       "      <td>0.35</td>\n",
       "      <td>147.48</td>\n",
       "      <td>90.62</td>\n",
       "      <td>False</td>\n",
       "      <td>0.83</td>\n",
       "      <td>441.19</td>\n",
       "      <td>57.39</td>\n",
       "      <td>28.11</td>\n",
       "      <td>58.87</td>\n",
       "      <td>28.33</td>\n",
       "      <td>57.22</td>\n",
       "      <td>29.30</td>\n",
       "      <td>58.70</td>\n",
       "      <td>29.52</td>\n",
       "      <td>52421.0</td>\n",
       "      <td>37097.0</td>\n",
       "      <td>Cameron Jordan</td>\n",
       "      <td>LOLB</td>\n",
       "      <td>58.07</td>\n",
       "      <td>29.05</td>\n",
       "      <td>3.44</td>\n",
       "      <td>1.23</td>\n",
       "      <td>0.35</td>\n",
       "      <td>147.48</td>\n",
       "      <td>90.62</td>\n",
       "      <td>False</td>\n",
       "      <td>0.83</td>\n",
       "      <td>441.19</td>\n",
       "      <td>57.39</td>\n",
       "      <td>28.11</td>\n",
       "      <td>58.87</td>\n",
       "      <td>28.33</td>\n",
       "      <td>57.25</td>\n",
       "      <td>29.10</td>\n",
       "      <td>58.73</td>\n",
       "      <td>29.32</td>\n",
       "    </tr>\n",
       "    <tr>\n",
       "      <th>236023</th>\n",
       "      <td>236023</td>\n",
       "      <td>2021103111</td>\n",
       "      <td>1063</td>\n",
       "      <td>52421</td>\n",
       "      <td>Pass Block</td>\n",
       "      <td>RT</td>\n",
       "      <td>0.0</td>\n",
       "      <td>0.0</td>\n",
       "      <td>0.0</td>\n",
       "      <td>1.0</td>\n",
       "      <td>0.0</td>\n",
       "      <td>0.0</td>\n",
       "      <td>0.0</td>\n",
       "      <td>37097.0</td>\n",
       "      <td>PA</td>\n",
       "      <td>0.0</td>\n",
       "      <td>28</td>\n",
       "      <td>2021-10-31T21:05:47.700</td>\n",
       "      <td>78.0</td>\n",
       "      <td>TB</td>\n",
       "      <td>left</td>\n",
       "      <td>58.46</td>\n",
       "      <td>28.20</td>\n",
       "      <td>3.14</td>\n",
       "      <td>1.07</td>\n",
       "      <td>0.32</td>\n",
       "      <td>355.11</td>\n",
       "      <td>91.94</td>\n",
       "      <td>None</td>\n",
       "      <td>6-5</td>\n",
       "      <td>322</td>\n",
       "      <td>1999-01-24</td>\n",
       "      <td>Iowa</td>\n",
       "      <td>T</td>\n",
       "      <td>Tristan Wirfs</td>\n",
       "      <td>61.82</td>\n",
       "      <td>24.19</td>\n",
       "      <td>1.21</td>\n",
       "      <td>6.17</td>\n",
       "      <td>0.16</td>\n",
       "      <td>346.67</td>\n",
       "      <td>88.42</td>\n",
       "      <td>5.231606</td>\n",
       "      <td>35.07</td>\n",
       "      <td>320.04</td>\n",
       "      <td>52421.0</td>\n",
       "      <td>37097.0</td>\n",
       "      <td>Cameron Jordan</td>\n",
       "      <td>LOLB</td>\n",
       "      <td>58.42</td>\n",
       "      <td>29.02</td>\n",
       "      <td>3.44</td>\n",
       "      <td>1.46</td>\n",
       "      <td>0.36</td>\n",
       "      <td>139.40</td>\n",
       "      <td>93.90</td>\n",
       "      <td>False</td>\n",
       "      <td>0.82</td>\n",
       "      <td>441.21</td>\n",
       "      <td>57.71</td>\n",
       "      <td>28.14</td>\n",
       "      <td>59.21</td>\n",
       "      <td>28.26</td>\n",
       "      <td>57.61</td>\n",
       "      <td>29.34</td>\n",
       "      <td>59.11</td>\n",
       "      <td>29.46</td>\n",
       "      <td>52421.0</td>\n",
       "      <td>37097.0</td>\n",
       "      <td>Cameron Jordan</td>\n",
       "      <td>LOLB</td>\n",
       "      <td>58.42</td>\n",
       "      <td>29.02</td>\n",
       "      <td>3.44</td>\n",
       "      <td>1.46</td>\n",
       "      <td>0.36</td>\n",
       "      <td>139.40</td>\n",
       "      <td>93.90</td>\n",
       "      <td>False</td>\n",
       "      <td>0.82</td>\n",
       "      <td>441.21</td>\n",
       "      <td>57.71</td>\n",
       "      <td>28.14</td>\n",
       "      <td>59.21</td>\n",
       "      <td>28.26</td>\n",
       "      <td>57.62</td>\n",
       "      <td>29.14</td>\n",
       "      <td>59.12</td>\n",
       "      <td>29.26</td>\n",
       "    </tr>\n",
       "    <tr>\n",
       "      <th>236045</th>\n",
       "      <td>236045</td>\n",
       "      <td>2021103111</td>\n",
       "      <td>1063</td>\n",
       "      <td>52421</td>\n",
       "      <td>Pass Block</td>\n",
       "      <td>RT</td>\n",
       "      <td>0.0</td>\n",
       "      <td>0.0</td>\n",
       "      <td>0.0</td>\n",
       "      <td>1.0</td>\n",
       "      <td>0.0</td>\n",
       "      <td>0.0</td>\n",
       "      <td>0.0</td>\n",
       "      <td>37097.0</td>\n",
       "      <td>PA</td>\n",
       "      <td>0.0</td>\n",
       "      <td>29</td>\n",
       "      <td>2021-10-31T21:05:47.800</td>\n",
       "      <td>78.0</td>\n",
       "      <td>TB</td>\n",
       "      <td>left</td>\n",
       "      <td>58.77</td>\n",
       "      <td>28.17</td>\n",
       "      <td>3.13</td>\n",
       "      <td>1.32</td>\n",
       "      <td>0.32</td>\n",
       "      <td>359.98</td>\n",
       "      <td>95.59</td>\n",
       "      <td>None</td>\n",
       "      <td>6-5</td>\n",
       "      <td>322</td>\n",
       "      <td>1999-01-24</td>\n",
       "      <td>Iowa</td>\n",
       "      <td>T</td>\n",
       "      <td>Tristan Wirfs</td>\n",
       "      <td>61.91</td>\n",
       "      <td>24.19</td>\n",
       "      <td>0.53</td>\n",
       "      <td>6.14</td>\n",
       "      <td>0.09</td>\n",
       "      <td>347.94</td>\n",
       "      <td>88.35</td>\n",
       "      <td>5.069517</td>\n",
       "      <td>31.90</td>\n",
       "      <td>328.08</td>\n",
       "      <td>52421.0</td>\n",
       "      <td>37097.0</td>\n",
       "      <td>Cameron Jordan</td>\n",
       "      <td>LOLB</td>\n",
       "      <td>58.77</td>\n",
       "      <td>28.98</td>\n",
       "      <td>3.37</td>\n",
       "      <td>1.65</td>\n",
       "      <td>0.35</td>\n",
       "      <td>136.94</td>\n",
       "      <td>96.55</td>\n",
       "      <td>False</td>\n",
       "      <td>0.81</td>\n",
       "      <td>443.43</td>\n",
       "      <td>58.02</td>\n",
       "      <td>28.17</td>\n",
       "      <td>59.52</td>\n",
       "      <td>28.17</td>\n",
       "      <td>58.02</td>\n",
       "      <td>29.37</td>\n",
       "      <td>59.52</td>\n",
       "      <td>29.37</td>\n",
       "      <td>52421.0</td>\n",
       "      <td>37097.0</td>\n",
       "      <td>Cameron Jordan</td>\n",
       "      <td>LOLB</td>\n",
       "      <td>58.77</td>\n",
       "      <td>28.98</td>\n",
       "      <td>3.37</td>\n",
       "      <td>1.65</td>\n",
       "      <td>0.35</td>\n",
       "      <td>136.94</td>\n",
       "      <td>96.55</td>\n",
       "      <td>False</td>\n",
       "      <td>0.81</td>\n",
       "      <td>443.43</td>\n",
       "      <td>58.02</td>\n",
       "      <td>28.17</td>\n",
       "      <td>59.52</td>\n",
       "      <td>28.17</td>\n",
       "      <td>58.02</td>\n",
       "      <td>29.17</td>\n",
       "      <td>59.52</td>\n",
       "      <td>29.17</td>\n",
       "    </tr>\n",
       "    <tr>\n",
       "      <th>236067</th>\n",
       "      <td>236067</td>\n",
       "      <td>2021103111</td>\n",
       "      <td>1063</td>\n",
       "      <td>52421</td>\n",
       "      <td>Pass Block</td>\n",
       "      <td>RT</td>\n",
       "      <td>0.0</td>\n",
       "      <td>0.0</td>\n",
       "      <td>0.0</td>\n",
       "      <td>1.0</td>\n",
       "      <td>0.0</td>\n",
       "      <td>0.0</td>\n",
       "      <td>0.0</td>\n",
       "      <td>37097.0</td>\n",
       "      <td>PA</td>\n",
       "      <td>0.0</td>\n",
       "      <td>30</td>\n",
       "      <td>2021-10-31T21:05:47.900</td>\n",
       "      <td>78.0</td>\n",
       "      <td>TB</td>\n",
       "      <td>left</td>\n",
       "      <td>59.09</td>\n",
       "      <td>28.12</td>\n",
       "      <td>3.10</td>\n",
       "      <td>1.47</td>\n",
       "      <td>0.32</td>\n",
       "      <td>0.89</td>\n",
       "      <td>98.75</td>\n",
       "      <td>None</td>\n",
       "      <td>6-5</td>\n",
       "      <td>322</td>\n",
       "      <td>1999-01-24</td>\n",
       "      <td>Iowa</td>\n",
       "      <td>T</td>\n",
       "      <td>Tristan Wirfs</td>\n",
       "      <td>61.93</td>\n",
       "      <td>24.19</td>\n",
       "      <td>0.08</td>\n",
       "      <td>5.77</td>\n",
       "      <td>0.02</td>\n",
       "      <td>350.97</td>\n",
       "      <td>268.12</td>\n",
       "      <td>4.848763</td>\n",
       "      <td>27.57</td>\n",
       "      <td>-26.68</td>\n",
       "      <td>52421.0</td>\n",
       "      <td>37097.0</td>\n",
       "      <td>Cameron Jordan</td>\n",
       "      <td>LOLB</td>\n",
       "      <td>59.09</td>\n",
       "      <td>28.93</td>\n",
       "      <td>3.19</td>\n",
       "      <td>2.01</td>\n",
       "      <td>0.32</td>\n",
       "      <td>136.16</td>\n",
       "      <td>99.89</td>\n",
       "      <td>False</td>\n",
       "      <td>0.81</td>\n",
       "      <td>81.00</td>\n",
       "      <td>58.34</td>\n",
       "      <td>28.13</td>\n",
       "      <td>59.84</td>\n",
       "      <td>28.11</td>\n",
       "      <td>58.36</td>\n",
       "      <td>29.33</td>\n",
       "      <td>59.86</td>\n",
       "      <td>29.31</td>\n",
       "      <td>52421.0</td>\n",
       "      <td>37097.0</td>\n",
       "      <td>Cameron Jordan</td>\n",
       "      <td>LOLB</td>\n",
       "      <td>59.09</td>\n",
       "      <td>28.93</td>\n",
       "      <td>3.19</td>\n",
       "      <td>2.01</td>\n",
       "      <td>0.32</td>\n",
       "      <td>136.16</td>\n",
       "      <td>99.89</td>\n",
       "      <td>False</td>\n",
       "      <td>0.81</td>\n",
       "      <td>81.00</td>\n",
       "      <td>58.34</td>\n",
       "      <td>28.13</td>\n",
       "      <td>59.84</td>\n",
       "      <td>28.11</td>\n",
       "      <td>58.36</td>\n",
       "      <td>29.13</td>\n",
       "      <td>59.86</td>\n",
       "      <td>29.11</td>\n",
       "    </tr>\n",
       "    <tr>\n",
       "      <th>236089</th>\n",
       "      <td>236089</td>\n",
       "      <td>2021103111</td>\n",
       "      <td>1063</td>\n",
       "      <td>52421</td>\n",
       "      <td>Pass Block</td>\n",
       "      <td>RT</td>\n",
       "      <td>0.0</td>\n",
       "      <td>0.0</td>\n",
       "      <td>0.0</td>\n",
       "      <td>1.0</td>\n",
       "      <td>0.0</td>\n",
       "      <td>0.0</td>\n",
       "      <td>0.0</td>\n",
       "      <td>37097.0</td>\n",
       "      <td>PA</td>\n",
       "      <td>0.0</td>\n",
       "      <td>31</td>\n",
       "      <td>2021-10-31T21:05:48.000</td>\n",
       "      <td>78.0</td>\n",
       "      <td>TB</td>\n",
       "      <td>left</td>\n",
       "      <td>59.39</td>\n",
       "      <td>28.07</td>\n",
       "      <td>3.02</td>\n",
       "      <td>1.62</td>\n",
       "      <td>0.31</td>\n",
       "      <td>0.89</td>\n",
       "      <td>101.44</td>\n",
       "      <td>None</td>\n",
       "      <td>6-5</td>\n",
       "      <td>322</td>\n",
       "      <td>1999-01-24</td>\n",
       "      <td>Iowa</td>\n",
       "      <td>T</td>\n",
       "      <td>Tristan Wirfs</td>\n",
       "      <td>61.89</td>\n",
       "      <td>24.19</td>\n",
       "      <td>0.70</td>\n",
       "      <td>5.25</td>\n",
       "      <td>0.04</td>\n",
       "      <td>354.73</td>\n",
       "      <td>272.16</td>\n",
       "      <td>4.615669</td>\n",
       "      <td>22.55</td>\n",
       "      <td>-21.66</td>\n",
       "      <td>52421.0</td>\n",
       "      <td>37097.0</td>\n",
       "      <td>Cameron Jordan</td>\n",
       "      <td>LOLB</td>\n",
       "      <td>59.39</td>\n",
       "      <td>28.86</td>\n",
       "      <td>3.01</td>\n",
       "      <td>2.23</td>\n",
       "      <td>0.31</td>\n",
       "      <td>136.16</td>\n",
       "      <td>102.95</td>\n",
       "      <td>False</td>\n",
       "      <td>0.79</td>\n",
       "      <td>77.94</td>\n",
       "      <td>58.64</td>\n",
       "      <td>28.08</td>\n",
       "      <td>60.14</td>\n",
       "      <td>28.06</td>\n",
       "      <td>58.66</td>\n",
       "      <td>29.28</td>\n",
       "      <td>60.16</td>\n",
       "      <td>29.26</td>\n",
       "      <td>52421.0</td>\n",
       "      <td>37097.0</td>\n",
       "      <td>Cameron Jordan</td>\n",
       "      <td>LOLB</td>\n",
       "      <td>59.39</td>\n",
       "      <td>28.86</td>\n",
       "      <td>3.01</td>\n",
       "      <td>2.23</td>\n",
       "      <td>0.31</td>\n",
       "      <td>136.16</td>\n",
       "      <td>102.95</td>\n",
       "      <td>False</td>\n",
       "      <td>0.79</td>\n",
       "      <td>77.94</td>\n",
       "      <td>58.64</td>\n",
       "      <td>28.08</td>\n",
       "      <td>60.14</td>\n",
       "      <td>28.06</td>\n",
       "      <td>58.66</td>\n",
       "      <td>29.08</td>\n",
       "      <td>60.16</td>\n",
       "      <td>29.06</td>\n",
       "    </tr>\n",
       "    <tr>\n",
       "      <th>236111</th>\n",
       "      <td>236111</td>\n",
       "      <td>2021103111</td>\n",
       "      <td>1063</td>\n",
       "      <td>52421</td>\n",
       "      <td>Pass Block</td>\n",
       "      <td>RT</td>\n",
       "      <td>0.0</td>\n",
       "      <td>0.0</td>\n",
       "      <td>0.0</td>\n",
       "      <td>1.0</td>\n",
       "      <td>0.0</td>\n",
       "      <td>0.0</td>\n",
       "      <td>0.0</td>\n",
       "      <td>37097.0</td>\n",
       "      <td>PA</td>\n",
       "      <td>0.0</td>\n",
       "      <td>32</td>\n",
       "      <td>2021-10-31T21:05:48.100</td>\n",
       "      <td>78.0</td>\n",
       "      <td>TB</td>\n",
       "      <td>left</td>\n",
       "      <td>59.69</td>\n",
       "      <td>28.00</td>\n",
       "      <td>2.94</td>\n",
       "      <td>1.66</td>\n",
       "      <td>0.30</td>\n",
       "      <td>355.80</td>\n",
       "      <td>103.67</td>\n",
       "      <td>None</td>\n",
       "      <td>6-5</td>\n",
       "      <td>322</td>\n",
       "      <td>1999-01-24</td>\n",
       "      <td>Iowa</td>\n",
       "      <td>T</td>\n",
       "      <td>Tristan Wirfs</td>\n",
       "      <td>61.79</td>\n",
       "      <td>24.20</td>\n",
       "      <td>1.20</td>\n",
       "      <td>4.52</td>\n",
       "      <td>0.10</td>\n",
       "      <td>355.72</td>\n",
       "      <td>272.59</td>\n",
       "      <td>4.341659</td>\n",
       "      <td>16.98</td>\n",
       "      <td>338.82</td>\n",
       "      <td>52421.0</td>\n",
       "      <td>37097.0</td>\n",
       "      <td>Cameron Jordan</td>\n",
       "      <td>LOLB</td>\n",
       "      <td>59.65</td>\n",
       "      <td>28.77</td>\n",
       "      <td>2.71</td>\n",
       "      <td>2.67</td>\n",
       "      <td>0.27</td>\n",
       "      <td>137.69</td>\n",
       "      <td>108.00</td>\n",
       "      <td>False</td>\n",
       "      <td>0.77</td>\n",
       "      <td>427.80</td>\n",
       "      <td>58.94</td>\n",
       "      <td>27.95</td>\n",
       "      <td>60.44</td>\n",
       "      <td>28.05</td>\n",
       "      <td>58.85</td>\n",
       "      <td>29.15</td>\n",
       "      <td>60.35</td>\n",
       "      <td>29.25</td>\n",
       "      <td>52421.0</td>\n",
       "      <td>37097.0</td>\n",
       "      <td>Cameron Jordan</td>\n",
       "      <td>LOLB</td>\n",
       "      <td>59.65</td>\n",
       "      <td>28.77</td>\n",
       "      <td>2.71</td>\n",
       "      <td>2.67</td>\n",
       "      <td>0.27</td>\n",
       "      <td>137.69</td>\n",
       "      <td>108.00</td>\n",
       "      <td>False</td>\n",
       "      <td>0.77</td>\n",
       "      <td>427.80</td>\n",
       "      <td>58.94</td>\n",
       "      <td>27.95</td>\n",
       "      <td>60.44</td>\n",
       "      <td>28.05</td>\n",
       "      <td>58.87</td>\n",
       "      <td>28.95</td>\n",
       "      <td>60.37</td>\n",
       "      <td>29.05</td>\n",
       "    </tr>\n",
       "    <tr>\n",
       "      <th>236133</th>\n",
       "      <td>236133</td>\n",
       "      <td>2021103111</td>\n",
       "      <td>1063</td>\n",
       "      <td>52421</td>\n",
       "      <td>Pass Block</td>\n",
       "      <td>RT</td>\n",
       "      <td>0.0</td>\n",
       "      <td>0.0</td>\n",
       "      <td>0.0</td>\n",
       "      <td>1.0</td>\n",
       "      <td>0.0</td>\n",
       "      <td>0.0</td>\n",
       "      <td>0.0</td>\n",
       "      <td>37097.0</td>\n",
       "      <td>PA</td>\n",
       "      <td>0.0</td>\n",
       "      <td>33</td>\n",
       "      <td>2021-10-31T21:05:48.200</td>\n",
       "      <td>78.0</td>\n",
       "      <td>TB</td>\n",
       "      <td>left</td>\n",
       "      <td>59.97</td>\n",
       "      <td>27.92</td>\n",
       "      <td>2.86</td>\n",
       "      <td>1.72</td>\n",
       "      <td>0.30</td>\n",
       "      <td>350.99</td>\n",
       "      <td>106.35</td>\n",
       "      <td>None</td>\n",
       "      <td>6-5</td>\n",
       "      <td>322</td>\n",
       "      <td>1999-01-24</td>\n",
       "      <td>Iowa</td>\n",
       "      <td>T</td>\n",
       "      <td>Tristan Wirfs</td>\n",
       "      <td>61.66</td>\n",
       "      <td>24.21</td>\n",
       "      <td>1.57</td>\n",
       "      <td>3.60</td>\n",
       "      <td>0.14</td>\n",
       "      <td>355.72</td>\n",
       "      <td>273.39</td>\n",
       "      <td>4.076788</td>\n",
       "      <td>11.72</td>\n",
       "      <td>339.27</td>\n",
       "      <td>52421.0</td>\n",
       "      <td>37097.0</td>\n",
       "      <td>Cameron Jordan</td>\n",
       "      <td>LOLB</td>\n",
       "      <td>59.87</td>\n",
       "      <td>28.66</td>\n",
       "      <td>2.43</td>\n",
       "      <td>2.94</td>\n",
       "      <td>0.25</td>\n",
       "      <td>138.43</td>\n",
       "      <td>114.43</td>\n",
       "      <td>False</td>\n",
       "      <td>0.75</td>\n",
       "      <td>416.56</td>\n",
       "      <td>59.23</td>\n",
       "      <td>27.80</td>\n",
       "      <td>60.71</td>\n",
       "      <td>28.04</td>\n",
       "      <td>59.04</td>\n",
       "      <td>28.99</td>\n",
       "      <td>60.52</td>\n",
       "      <td>29.23</td>\n",
       "      <td>52421.0</td>\n",
       "      <td>37097.0</td>\n",
       "      <td>Cameron Jordan</td>\n",
       "      <td>LOLB</td>\n",
       "      <td>59.87</td>\n",
       "      <td>28.66</td>\n",
       "      <td>2.43</td>\n",
       "      <td>2.94</td>\n",
       "      <td>0.25</td>\n",
       "      <td>138.43</td>\n",
       "      <td>114.43</td>\n",
       "      <td>False</td>\n",
       "      <td>0.75</td>\n",
       "      <td>416.56</td>\n",
       "      <td>59.23</td>\n",
       "      <td>27.80</td>\n",
       "      <td>60.71</td>\n",
       "      <td>28.04</td>\n",
       "      <td>59.07</td>\n",
       "      <td>28.79</td>\n",
       "      <td>60.55</td>\n",
       "      <td>29.03</td>\n",
       "    </tr>\n",
       "    <tr>\n",
       "      <th>236155</th>\n",
       "      <td>236155</td>\n",
       "      <td>2021103111</td>\n",
       "      <td>1063</td>\n",
       "      <td>52421</td>\n",
       "      <td>Pass Block</td>\n",
       "      <td>RT</td>\n",
       "      <td>0.0</td>\n",
       "      <td>0.0</td>\n",
       "      <td>0.0</td>\n",
       "      <td>1.0</td>\n",
       "      <td>0.0</td>\n",
       "      <td>0.0</td>\n",
       "      <td>0.0</td>\n",
       "      <td>37097.0</td>\n",
       "      <td>PA</td>\n",
       "      <td>0.0</td>\n",
       "      <td>34</td>\n",
       "      <td>2021-10-31T21:05:48.300</td>\n",
       "      <td>78.0</td>\n",
       "      <td>TB</td>\n",
       "      <td>left</td>\n",
       "      <td>60.25</td>\n",
       "      <td>27.84</td>\n",
       "      <td>2.77</td>\n",
       "      <td>1.66</td>\n",
       "      <td>0.29</td>\n",
       "      <td>345.43</td>\n",
       "      <td>107.31</td>\n",
       "      <td>None</td>\n",
       "      <td>6-5</td>\n",
       "      <td>322</td>\n",
       "      <td>1999-01-24</td>\n",
       "      <td>Iowa</td>\n",
       "      <td>T</td>\n",
       "      <td>Tristan Wirfs</td>\n",
       "      <td>61.49</td>\n",
       "      <td>24.22</td>\n",
       "      <td>1.82</td>\n",
       "      <td>2.62</td>\n",
       "      <td>0.17</td>\n",
       "      <td>355.72</td>\n",
       "      <td>274.29</td>\n",
       "      <td>3.826487</td>\n",
       "      <td>6.69</td>\n",
       "      <td>338.74</td>\n",
       "      <td>52421.0</td>\n",
       "      <td>37097.0</td>\n",
       "      <td>Cameron Jordan</td>\n",
       "      <td>LOLB</td>\n",
       "      <td>60.06</td>\n",
       "      <td>28.53</td>\n",
       "      <td>2.19</td>\n",
       "      <td>3.10</td>\n",
       "      <td>0.23</td>\n",
       "      <td>137.28</td>\n",
       "      <td>122.65</td>\n",
       "      <td>False</td>\n",
       "      <td>0.72</td>\n",
       "      <td>402.78</td>\n",
       "      <td>59.52</td>\n",
       "      <td>27.65</td>\n",
       "      <td>60.98</td>\n",
       "      <td>28.03</td>\n",
       "      <td>59.22</td>\n",
       "      <td>28.81</td>\n",
       "      <td>60.68</td>\n",
       "      <td>29.19</td>\n",
       "      <td>52421.0</td>\n",
       "      <td>37097.0</td>\n",
       "      <td>Cameron Jordan</td>\n",
       "      <td>LOLB</td>\n",
       "      <td>60.06</td>\n",
       "      <td>28.53</td>\n",
       "      <td>2.19</td>\n",
       "      <td>3.10</td>\n",
       "      <td>0.23</td>\n",
       "      <td>137.28</td>\n",
       "      <td>122.65</td>\n",
       "      <td>False</td>\n",
       "      <td>0.72</td>\n",
       "      <td>402.78</td>\n",
       "      <td>59.52</td>\n",
       "      <td>27.65</td>\n",
       "      <td>60.98</td>\n",
       "      <td>28.03</td>\n",
       "      <td>59.27</td>\n",
       "      <td>28.62</td>\n",
       "      <td>60.73</td>\n",
       "      <td>29.00</td>\n",
       "    </tr>\n",
       "    <tr>\n",
       "      <th>236177</th>\n",
       "      <td>236177</td>\n",
       "      <td>2021103111</td>\n",
       "      <td>1063</td>\n",
       "      <td>52421</td>\n",
       "      <td>Pass Block</td>\n",
       "      <td>RT</td>\n",
       "      <td>0.0</td>\n",
       "      <td>0.0</td>\n",
       "      <td>0.0</td>\n",
       "      <td>1.0</td>\n",
       "      <td>0.0</td>\n",
       "      <td>0.0</td>\n",
       "      <td>0.0</td>\n",
       "      <td>37097.0</td>\n",
       "      <td>PA</td>\n",
       "      <td>0.0</td>\n",
       "      <td>35</td>\n",
       "      <td>2021-10-31T21:05:48.400</td>\n",
       "      <td>78.0</td>\n",
       "      <td>TB</td>\n",
       "      <td>left</td>\n",
       "      <td>60.51</td>\n",
       "      <td>27.76</td>\n",
       "      <td>2.63</td>\n",
       "      <td>1.67</td>\n",
       "      <td>0.27</td>\n",
       "      <td>339.66</td>\n",
       "      <td>107.93</td>\n",
       "      <td>None</td>\n",
       "      <td>6-5</td>\n",
       "      <td>322</td>\n",
       "      <td>1999-01-24</td>\n",
       "      <td>Iowa</td>\n",
       "      <td>T</td>\n",
       "      <td>Tristan Wirfs</td>\n",
       "      <td>61.32</td>\n",
       "      <td>24.23</td>\n",
       "      <td>1.78</td>\n",
       "      <td>1.07</td>\n",
       "      <td>0.17</td>\n",
       "      <td>346.28</td>\n",
       "      <td>273.88</td>\n",
       "      <td>3.621740</td>\n",
       "      <td>3.01</td>\n",
       "      <td>336.65</td>\n",
       "      <td>52421.0</td>\n",
       "      <td>37097.0</td>\n",
       "      <td>Cameron Jordan</td>\n",
       "      <td>LOLB</td>\n",
       "      <td>60.19</td>\n",
       "      <td>28.38</td>\n",
       "      <td>1.96</td>\n",
       "      <td>3.18</td>\n",
       "      <td>0.20</td>\n",
       "      <td>140.40</td>\n",
       "      <td>135.27</td>\n",
       "      <td>False</td>\n",
       "      <td>0.70</td>\n",
       "      <td>384.39</td>\n",
       "      <td>59.81</td>\n",
       "      <td>27.50</td>\n",
       "      <td>61.21</td>\n",
       "      <td>28.02</td>\n",
       "      <td>59.39</td>\n",
       "      <td>28.63</td>\n",
       "      <td>60.79</td>\n",
       "      <td>29.15</td>\n",
       "      <td>52421.0</td>\n",
       "      <td>37097.0</td>\n",
       "      <td>Cameron Jordan</td>\n",
       "      <td>LOLB</td>\n",
       "      <td>60.19</td>\n",
       "      <td>28.38</td>\n",
       "      <td>1.96</td>\n",
       "      <td>3.18</td>\n",
       "      <td>0.20</td>\n",
       "      <td>140.40</td>\n",
       "      <td>135.27</td>\n",
       "      <td>False</td>\n",
       "      <td>0.70</td>\n",
       "      <td>384.39</td>\n",
       "      <td>59.81</td>\n",
       "      <td>27.50</td>\n",
       "      <td>61.21</td>\n",
       "      <td>28.02</td>\n",
       "      <td>59.46</td>\n",
       "      <td>28.44</td>\n",
       "      <td>60.86</td>\n",
       "      <td>28.96</td>\n",
       "    </tr>\n",
       "    <tr>\n",
       "      <th>236199</th>\n",
       "      <td>236199</td>\n",
       "      <td>2021103111</td>\n",
       "      <td>1063</td>\n",
       "      <td>52421</td>\n",
       "      <td>Pass Block</td>\n",
       "      <td>RT</td>\n",
       "      <td>0.0</td>\n",
       "      <td>0.0</td>\n",
       "      <td>0.0</td>\n",
       "      <td>1.0</td>\n",
       "      <td>0.0</td>\n",
       "      <td>0.0</td>\n",
       "      <td>0.0</td>\n",
       "      <td>37097.0</td>\n",
       "      <td>PA</td>\n",
       "      <td>0.0</td>\n",
       "      <td>36</td>\n",
       "      <td>2021-10-31T21:05:48.500</td>\n",
       "      <td>78.0</td>\n",
       "      <td>TB</td>\n",
       "      <td>left</td>\n",
       "      <td>60.76</td>\n",
       "      <td>27.69</td>\n",
       "      <td>2.49</td>\n",
       "      <td>1.69</td>\n",
       "      <td>0.26</td>\n",
       "      <td>334.18</td>\n",
       "      <td>107.66</td>\n",
       "      <td>None</td>\n",
       "      <td>6-5</td>\n",
       "      <td>322</td>\n",
       "      <td>1999-01-24</td>\n",
       "      <td>Iowa</td>\n",
       "      <td>T</td>\n",
       "      <td>Tristan Wirfs</td>\n",
       "      <td>61.15</td>\n",
       "      <td>24.24</td>\n",
       "      <td>1.76</td>\n",
       "      <td>0.15</td>\n",
       "      <td>0.17</td>\n",
       "      <td>338.39</td>\n",
       "      <td>274.66</td>\n",
       "      <td>3.471974</td>\n",
       "      <td>0.73</td>\n",
       "      <td>333.45</td>\n",
       "      <td>52421.0</td>\n",
       "      <td>37097.0</td>\n",
       "      <td>Cameron Jordan</td>\n",
       "      <td>LOLB</td>\n",
       "      <td>60.29</td>\n",
       "      <td>28.21</td>\n",
       "      <td>1.84</td>\n",
       "      <td>3.01</td>\n",
       "      <td>0.20</td>\n",
       "      <td>140.40</td>\n",
       "      <td>149.16</td>\n",
       "      <td>False</td>\n",
       "      <td>0.70</td>\n",
       "      <td>365.02</td>\n",
       "      <td>60.08</td>\n",
       "      <td>27.36</td>\n",
       "      <td>61.44</td>\n",
       "      <td>28.02</td>\n",
       "      <td>59.56</td>\n",
       "      <td>28.44</td>\n",
       "      <td>60.92</td>\n",
       "      <td>29.10</td>\n",
       "      <td>52421.0</td>\n",
       "      <td>37097.0</td>\n",
       "      <td>Cameron Jordan</td>\n",
       "      <td>LOLB</td>\n",
       "      <td>60.29</td>\n",
       "      <td>28.21</td>\n",
       "      <td>1.84</td>\n",
       "      <td>3.01</td>\n",
       "      <td>0.20</td>\n",
       "      <td>140.40</td>\n",
       "      <td>149.16</td>\n",
       "      <td>False</td>\n",
       "      <td>0.70</td>\n",
       "      <td>365.02</td>\n",
       "      <td>60.08</td>\n",
       "      <td>27.36</td>\n",
       "      <td>61.44</td>\n",
       "      <td>28.02</td>\n",
       "      <td>59.64</td>\n",
       "      <td>28.26</td>\n",
       "      <td>61.00</td>\n",
       "      <td>28.92</td>\n",
       "    </tr>\n",
       "    <tr>\n",
       "      <th>236221</th>\n",
       "      <td>236221</td>\n",
       "      <td>2021103111</td>\n",
       "      <td>1063</td>\n",
       "      <td>52421</td>\n",
       "      <td>Pass Block</td>\n",
       "      <td>RT</td>\n",
       "      <td>0.0</td>\n",
       "      <td>0.0</td>\n",
       "      <td>0.0</td>\n",
       "      <td>1.0</td>\n",
       "      <td>0.0</td>\n",
       "      <td>0.0</td>\n",
       "      <td>0.0</td>\n",
       "      <td>37097.0</td>\n",
       "      <td>PA</td>\n",
       "      <td>0.0</td>\n",
       "      <td>37</td>\n",
       "      <td>2021-10-31T21:05:48.600</td>\n",
       "      <td>78.0</td>\n",
       "      <td>TB</td>\n",
       "      <td>left</td>\n",
       "      <td>60.99</td>\n",
       "      <td>27.61</td>\n",
       "      <td>2.33</td>\n",
       "      <td>1.71</td>\n",
       "      <td>0.24</td>\n",
       "      <td>328.90</td>\n",
       "      <td>108.24</td>\n",
       "      <td>pass_forward</td>\n",
       "      <td>6-5</td>\n",
       "      <td>322</td>\n",
       "      <td>1999-01-24</td>\n",
       "      <td>Iowa</td>\n",
       "      <td>T</td>\n",
       "      <td>Tristan Wirfs</td>\n",
       "      <td>60.97</td>\n",
       "      <td>24.26</td>\n",
       "      <td>1.69</td>\n",
       "      <td>0.65</td>\n",
       "      <td>0.17</td>\n",
       "      <td>329.67</td>\n",
       "      <td>274.01</td>\n",
       "      <td>3.350060</td>\n",
       "      <td>0.00</td>\n",
       "      <td>328.90</td>\n",
       "      <td>52421.0</td>\n",
       "      <td>37097.0</td>\n",
       "      <td>Cameron Jordan</td>\n",
       "      <td>LOLB</td>\n",
       "      <td>60.32</td>\n",
       "      <td>28.00</td>\n",
       "      <td>1.90</td>\n",
       "      <td>3.27</td>\n",
       "      <td>0.21</td>\n",
       "      <td>142.54</td>\n",
       "      <td>165.92</td>\n",
       "      <td>False</td>\n",
       "      <td>0.78</td>\n",
       "      <td>342.98</td>\n",
       "      <td>60.35</td>\n",
       "      <td>27.22</td>\n",
       "      <td>61.63</td>\n",
       "      <td>28.00</td>\n",
       "      <td>59.73</td>\n",
       "      <td>28.25</td>\n",
       "      <td>61.01</td>\n",
       "      <td>29.03</td>\n",
       "      <td>52421.0</td>\n",
       "      <td>37097.0</td>\n",
       "      <td>Cameron Jordan</td>\n",
       "      <td>LOLB</td>\n",
       "      <td>60.32</td>\n",
       "      <td>28.00</td>\n",
       "      <td>1.90</td>\n",
       "      <td>3.27</td>\n",
       "      <td>0.21</td>\n",
       "      <td>142.54</td>\n",
       "      <td>165.92</td>\n",
       "      <td>False</td>\n",
       "      <td>0.78</td>\n",
       "      <td>342.98</td>\n",
       "      <td>60.35</td>\n",
       "      <td>27.22</td>\n",
       "      <td>61.63</td>\n",
       "      <td>28.00</td>\n",
       "      <td>59.83</td>\n",
       "      <td>28.08</td>\n",
       "      <td>61.11</td>\n",
       "      <td>28.86</td>\n",
       "    </tr>\n",
       "    <tr>\n",
       "      <th>236243</th>\n",
       "      <td>236243</td>\n",
       "      <td>2021103111</td>\n",
       "      <td>1063</td>\n",
       "      <td>52421</td>\n",
       "      <td>Pass Block</td>\n",
       "      <td>RT</td>\n",
       "      <td>0.0</td>\n",
       "      <td>0.0</td>\n",
       "      <td>0.0</td>\n",
       "      <td>1.0</td>\n",
       "      <td>0.0</td>\n",
       "      <td>0.0</td>\n",
       "      <td>0.0</td>\n",
       "      <td>37097.0</td>\n",
       "      <td>PA</td>\n",
       "      <td>0.0</td>\n",
       "      <td>38</td>\n",
       "      <td>2021-10-31T21:05:48.700</td>\n",
       "      <td>78.0</td>\n",
       "      <td>TB</td>\n",
       "      <td>left</td>\n",
       "      <td>61.21</td>\n",
       "      <td>27.55</td>\n",
       "      <td>2.16</td>\n",
       "      <td>1.67</td>\n",
       "      <td>0.22</td>\n",
       "      <td>319.96</td>\n",
       "      <td>106.16</td>\n",
       "      <td>autoevent_passforward</td>\n",
       "      <td>6-5</td>\n",
       "      <td>322</td>\n",
       "      <td>1999-01-24</td>\n",
       "      <td>Iowa</td>\n",
       "      <td>T</td>\n",
       "      <td>Tristan Wirfs</td>\n",
       "      <td>60.82</td>\n",
       "      <td>24.26</td>\n",
       "      <td>1.50</td>\n",
       "      <td>1.29</td>\n",
       "      <td>0.15</td>\n",
       "      <td>316.14</td>\n",
       "      <td>273.69</td>\n",
       "      <td>3.313035</td>\n",
       "      <td>0.81</td>\n",
       "      <td>319.15</td>\n",
       "      <td>52421.0</td>\n",
       "      <td>37097.0</td>\n",
       "      <td>Cameron Jordan</td>\n",
       "      <td>LOLB</td>\n",
       "      <td>60.31</td>\n",
       "      <td>27.76</td>\n",
       "      <td>2.17</td>\n",
       "      <td>3.45</td>\n",
       "      <td>0.24</td>\n",
       "      <td>145.92</td>\n",
       "      <td>180.76</td>\n",
       "      <td>False</td>\n",
       "      <td>0.92</td>\n",
       "      <td>319.20</td>\n",
       "      <td>60.64</td>\n",
       "      <td>27.07</td>\n",
       "      <td>61.78</td>\n",
       "      <td>28.03</td>\n",
       "      <td>59.87</td>\n",
       "      <td>27.99</td>\n",
       "      <td>61.01</td>\n",
       "      <td>28.95</td>\n",
       "      <td>52421.0</td>\n",
       "      <td>37097.0</td>\n",
       "      <td>Cameron Jordan</td>\n",
       "      <td>LOLB</td>\n",
       "      <td>60.31</td>\n",
       "      <td>27.76</td>\n",
       "      <td>2.17</td>\n",
       "      <td>3.45</td>\n",
       "      <td>0.24</td>\n",
       "      <td>145.92</td>\n",
       "      <td>180.76</td>\n",
       "      <td>False</td>\n",
       "      <td>0.92</td>\n",
       "      <td>319.20</td>\n",
       "      <td>60.64</td>\n",
       "      <td>27.07</td>\n",
       "      <td>61.78</td>\n",
       "      <td>28.03</td>\n",
       "      <td>60.00</td>\n",
       "      <td>27.84</td>\n",
       "      <td>61.14</td>\n",
       "      <td>28.80</td>\n",
       "    </tr>\n",
       "    <tr>\n",
       "      <th>236265</th>\n",
       "      <td>236265</td>\n",
       "      <td>2021103111</td>\n",
       "      <td>1063</td>\n",
       "      <td>52421</td>\n",
       "      <td>Pass Block</td>\n",
       "      <td>RT</td>\n",
       "      <td>0.0</td>\n",
       "      <td>0.0</td>\n",
       "      <td>0.0</td>\n",
       "      <td>1.0</td>\n",
       "      <td>0.0</td>\n",
       "      <td>0.0</td>\n",
       "      <td>0.0</td>\n",
       "      <td>37097.0</td>\n",
       "      <td>PA</td>\n",
       "      <td>0.0</td>\n",
       "      <td>39</td>\n",
       "      <td>2021-10-31T21:05:48.800</td>\n",
       "      <td>78.0</td>\n",
       "      <td>TB</td>\n",
       "      <td>left</td>\n",
       "      <td>61.41</td>\n",
       "      <td>27.49</td>\n",
       "      <td>2.02</td>\n",
       "      <td>1.66</td>\n",
       "      <td>0.21</td>\n",
       "      <td>308.24</td>\n",
       "      <td>105.18</td>\n",
       "      <td>None</td>\n",
       "      <td>6-5</td>\n",
       "      <td>322</td>\n",
       "      <td>1999-01-24</td>\n",
       "      <td>Iowa</td>\n",
       "      <td>T</td>\n",
       "      <td>Tristan Wirfs</td>\n",
       "      <td>60.70</td>\n",
       "      <td>24.27</td>\n",
       "      <td>1.20</td>\n",
       "      <td>1.94</td>\n",
       "      <td>0.13</td>\n",
       "      <td>299.85</td>\n",
       "      <td>271.27</td>\n",
       "      <td>3.297347</td>\n",
       "      <td>2.78</td>\n",
       "      <td>305.46</td>\n",
       "      <td>52421.0</td>\n",
       "      <td>37097.0</td>\n",
       "      <td>Cameron Jordan</td>\n",
       "      <td>LOLB</td>\n",
       "      <td>60.29</td>\n",
       "      <td>27.53</td>\n",
       "      <td>2.36</td>\n",
       "      <td>3.08</td>\n",
       "      <td>0.24</td>\n",
       "      <td>147.17</td>\n",
       "      <td>189.19</td>\n",
       "      <td>False</td>\n",
       "      <td>1.12</td>\n",
       "      <td>299.05</td>\n",
       "      <td>60.95</td>\n",
       "      <td>26.90</td>\n",
       "      <td>61.87</td>\n",
       "      <td>28.08</td>\n",
       "      <td>60.01</td>\n",
       "      <td>27.64</td>\n",
       "      <td>60.93</td>\n",
       "      <td>28.82</td>\n",
       "      <td>52421.0</td>\n",
       "      <td>37097.0</td>\n",
       "      <td>Cameron Jordan</td>\n",
       "      <td>LOLB</td>\n",
       "      <td>60.29</td>\n",
       "      <td>27.53</td>\n",
       "      <td>2.36</td>\n",
       "      <td>3.08</td>\n",
       "      <td>0.24</td>\n",
       "      <td>147.17</td>\n",
       "      <td>189.19</td>\n",
       "      <td>False</td>\n",
       "      <td>1.12</td>\n",
       "      <td>299.05</td>\n",
       "      <td>60.95</td>\n",
       "      <td>26.90</td>\n",
       "      <td>61.87</td>\n",
       "      <td>28.08</td>\n",
       "      <td>60.16</td>\n",
       "      <td>27.52</td>\n",
       "      <td>61.08</td>\n",
       "      <td>28.70</td>\n",
       "    </tr>\n",
       "    <tr>\n",
       "      <th>236287</th>\n",
       "      <td>236287</td>\n",
       "      <td>2021103111</td>\n",
       "      <td>1063</td>\n",
       "      <td>52421</td>\n",
       "      <td>Pass Block</td>\n",
       "      <td>RT</td>\n",
       "      <td>0.0</td>\n",
       "      <td>0.0</td>\n",
       "      <td>0.0</td>\n",
       "      <td>1.0</td>\n",
       "      <td>0.0</td>\n",
       "      <td>0.0</td>\n",
       "      <td>0.0</td>\n",
       "      <td>37097.0</td>\n",
       "      <td>PA</td>\n",
       "      <td>0.0</td>\n",
       "      <td>40</td>\n",
       "      <td>2021-10-31T21:05:48.900</td>\n",
       "      <td>78.0</td>\n",
       "      <td>TB</td>\n",
       "      <td>left</td>\n",
       "      <td>61.60</td>\n",
       "      <td>27.45</td>\n",
       "      <td>1.85</td>\n",
       "      <td>1.68</td>\n",
       "      <td>0.19</td>\n",
       "      <td>293.07</td>\n",
       "      <td>103.71</td>\n",
       "      <td>None</td>\n",
       "      <td>6-5</td>\n",
       "      <td>322</td>\n",
       "      <td>1999-01-24</td>\n",
       "      <td>Iowa</td>\n",
       "      <td>T</td>\n",
       "      <td>Tristan Wirfs</td>\n",
       "      <td>60.59</td>\n",
       "      <td>24.26</td>\n",
       "      <td>0.98</td>\n",
       "      <td>2.12</td>\n",
       "      <td>0.11</td>\n",
       "      <td>281.25</td>\n",
       "      <td>268.14</td>\n",
       "      <td>3.346072</td>\n",
       "      <td>5.72</td>\n",
       "      <td>287.35</td>\n",
       "      <td>52421.0</td>\n",
       "      <td>37097.0</td>\n",
       "      <td>Cameron Jordan</td>\n",
       "      <td>LOLB</td>\n",
       "      <td>60.21</td>\n",
       "      <td>27.26</td>\n",
       "      <td>2.67</td>\n",
       "      <td>2.86</td>\n",
       "      <td>0.27</td>\n",
       "      <td>148.31</td>\n",
       "      <td>196.32</td>\n",
       "      <td>False</td>\n",
       "      <td>1.40</td>\n",
       "      <td>276.75</td>\n",
       "      <td>61.31</td>\n",
       "      <td>26.76</td>\n",
       "      <td>61.89</td>\n",
       "      <td>28.14</td>\n",
       "      <td>60.21</td>\n",
       "      <td>27.23</td>\n",
       "      <td>60.79</td>\n",
       "      <td>28.61</td>\n",
       "      <td>52421.0</td>\n",
       "      <td>37097.0</td>\n",
       "      <td>Cameron Jordan</td>\n",
       "      <td>LOLB</td>\n",
       "      <td>60.21</td>\n",
       "      <td>27.26</td>\n",
       "      <td>2.67</td>\n",
       "      <td>2.86</td>\n",
       "      <td>0.27</td>\n",
       "      <td>148.31</td>\n",
       "      <td>196.32</td>\n",
       "      <td>False</td>\n",
       "      <td>1.40</td>\n",
       "      <td>276.75</td>\n",
       "      <td>61.31</td>\n",
       "      <td>26.76</td>\n",
       "      <td>61.89</td>\n",
       "      <td>28.14</td>\n",
       "      <td>60.39</td>\n",
       "      <td>27.15</td>\n",
       "      <td>60.97</td>\n",
       "      <td>28.53</td>\n",
       "    </tr>\n",
       "    <tr>\n",
       "      <th>236309</th>\n",
       "      <td>236309</td>\n",
       "      <td>2021103111</td>\n",
       "      <td>1063</td>\n",
       "      <td>52421</td>\n",
       "      <td>Pass Block</td>\n",
       "      <td>RT</td>\n",
       "      <td>0.0</td>\n",
       "      <td>0.0</td>\n",
       "      <td>0.0</td>\n",
       "      <td>1.0</td>\n",
       "      <td>0.0</td>\n",
       "      <td>0.0</td>\n",
       "      <td>0.0</td>\n",
       "      <td>37097.0</td>\n",
       "      <td>PA</td>\n",
       "      <td>0.0</td>\n",
       "      <td>41</td>\n",
       "      <td>2021-10-31T21:05:49.000</td>\n",
       "      <td>78.0</td>\n",
       "      <td>TB</td>\n",
       "      <td>left</td>\n",
       "      <td>61.77</td>\n",
       "      <td>27.41</td>\n",
       "      <td>1.69</td>\n",
       "      <td>1.65</td>\n",
       "      <td>0.18</td>\n",
       "      <td>283.18</td>\n",
       "      <td>101.55</td>\n",
       "      <td>None</td>\n",
       "      <td>6-5</td>\n",
       "      <td>322</td>\n",
       "      <td>1999-01-24</td>\n",
       "      <td>Iowa</td>\n",
       "      <td>T</td>\n",
       "      <td>Tristan Wirfs</td>\n",
       "      <td>60.50</td>\n",
       "      <td>24.26</td>\n",
       "      <td>0.75</td>\n",
       "      <td>2.17</td>\n",
       "      <td>0.09</td>\n",
       "      <td>274.99</td>\n",
       "      <td>262.42</td>\n",
       "      <td>3.396380</td>\n",
       "      <td>9.23</td>\n",
       "      <td>273.95</td>\n",
       "      <td>52421.0</td>\n",
       "      <td>37097.0</td>\n",
       "      <td>Cameron Jordan</td>\n",
       "      <td>LOLB</td>\n",
       "      <td>60.13</td>\n",
       "      <td>26.96</td>\n",
       "      <td>3.07</td>\n",
       "      <td>2.09</td>\n",
       "      <td>0.32</td>\n",
       "      <td>171.87</td>\n",
       "      <td>198.56</td>\n",
       "      <td>False</td>\n",
       "      <td>1.70</td>\n",
       "      <td>264.62</td>\n",
       "      <td>61.60</td>\n",
       "      <td>26.68</td>\n",
       "      <td>61.94</td>\n",
       "      <td>28.14</td>\n",
       "      <td>60.43</td>\n",
       "      <td>26.95</td>\n",
       "      <td>60.77</td>\n",
       "      <td>28.41</td>\n",
       "      <td>52421.0</td>\n",
       "      <td>37097.0</td>\n",
       "      <td>Cameron Jordan</td>\n",
       "      <td>LOLB</td>\n",
       "      <td>60.13</td>\n",
       "      <td>26.96</td>\n",
       "      <td>3.07</td>\n",
       "      <td>2.09</td>\n",
       "      <td>0.32</td>\n",
       "      <td>171.87</td>\n",
       "      <td>198.56</td>\n",
       "      <td>False</td>\n",
       "      <td>1.70</td>\n",
       "      <td>264.62</td>\n",
       "      <td>61.60</td>\n",
       "      <td>26.68</td>\n",
       "      <td>61.94</td>\n",
       "      <td>28.14</td>\n",
       "      <td>60.63</td>\n",
       "      <td>26.91</td>\n",
       "      <td>60.97</td>\n",
       "      <td>28.37</td>\n",
       "    </tr>\n",
       "    <tr>\n",
       "      <th>236331</th>\n",
       "      <td>236331</td>\n",
       "      <td>2021103111</td>\n",
       "      <td>1063</td>\n",
       "      <td>52421</td>\n",
       "      <td>Pass Block</td>\n",
       "      <td>RT</td>\n",
       "      <td>0.0</td>\n",
       "      <td>0.0</td>\n",
       "      <td>0.0</td>\n",
       "      <td>1.0</td>\n",
       "      <td>0.0</td>\n",
       "      <td>0.0</td>\n",
       "      <td>0.0</td>\n",
       "      <td>37097.0</td>\n",
       "      <td>PA</td>\n",
       "      <td>0.0</td>\n",
       "      <td>42</td>\n",
       "      <td>2021-10-31T21:05:49.100</td>\n",
       "      <td>78.0</td>\n",
       "      <td>TB</td>\n",
       "      <td>left</td>\n",
       "      <td>61.93</td>\n",
       "      <td>27.39</td>\n",
       "      <td>1.50</td>\n",
       "      <td>1.72</td>\n",
       "      <td>0.16</td>\n",
       "      <td>272.13</td>\n",
       "      <td>97.08</td>\n",
       "      <td>None</td>\n",
       "      <td>6-5</td>\n",
       "      <td>322</td>\n",
       "      <td>1999-01-24</td>\n",
       "      <td>Iowa</td>\n",
       "      <td>T</td>\n",
       "      <td>Tristan Wirfs</td>\n",
       "      <td>60.44</td>\n",
       "      <td>24.24</td>\n",
       "      <td>0.51</td>\n",
       "      <td>2.30</td>\n",
       "      <td>0.06</td>\n",
       "      <td>272.53</td>\n",
       "      <td>243.93</td>\n",
       "      <td>3.484623</td>\n",
       "      <td>12.61</td>\n",
       "      <td>259.52</td>\n",
       "      <td>52421.0</td>\n",
       "      <td>37097.0</td>\n",
       "      <td>Cameron Jordan</td>\n",
       "      <td>LOLB</td>\n",
       "      <td>60.03</td>\n",
       "      <td>26.64</td>\n",
       "      <td>3.30</td>\n",
       "      <td>1.30</td>\n",
       "      <td>0.33</td>\n",
       "      <td>179.04</td>\n",
       "      <td>199.45</td>\n",
       "      <td>False</td>\n",
       "      <td>2.04</td>\n",
       "      <td>252.68</td>\n",
       "      <td>61.90</td>\n",
       "      <td>26.64</td>\n",
       "      <td>61.96</td>\n",
       "      <td>28.14</td>\n",
       "      <td>60.70</td>\n",
       "      <td>26.68</td>\n",
       "      <td>60.76</td>\n",
       "      <td>28.18</td>\n",
       "      <td>52421.0</td>\n",
       "      <td>37097.0</td>\n",
       "      <td>Cameron Jordan</td>\n",
       "      <td>LOLB</td>\n",
       "      <td>60.03</td>\n",
       "      <td>26.64</td>\n",
       "      <td>3.30</td>\n",
       "      <td>1.30</td>\n",
       "      <td>0.33</td>\n",
       "      <td>179.04</td>\n",
       "      <td>199.45</td>\n",
       "      <td>False</td>\n",
       "      <td>2.04</td>\n",
       "      <td>252.68</td>\n",
       "      <td>61.90</td>\n",
       "      <td>26.64</td>\n",
       "      <td>61.96</td>\n",
       "      <td>28.14</td>\n",
       "      <td>60.90</td>\n",
       "      <td>26.68</td>\n",
       "      <td>60.96</td>\n",
       "      <td>28.18</td>\n",
       "    </tr>\n",
       "  </tbody>\n",
       "</table>\n",
       "</div>"
      ],
      "text/plain": [
       "        Unnamed: 0      gameId  playId  nflId    pff_role pff_positionLinedUp  \\\n",
       "235429      235429  2021103111    1063  52421  Pass Block                  RT   \n",
       "235451      235451  2021103111    1063  52421  Pass Block                  RT   \n",
       "235473      235473  2021103111    1063  52421  Pass Block                  RT   \n",
       "235495      235495  2021103111    1063  52421  Pass Block                  RT   \n",
       "235517      235517  2021103111    1063  52421  Pass Block                  RT   \n",
       "235539      235539  2021103111    1063  52421  Pass Block                  RT   \n",
       "235561      235561  2021103111    1063  52421  Pass Block                  RT   \n",
       "235583      235583  2021103111    1063  52421  Pass Block                  RT   \n",
       "235605      235605  2021103111    1063  52421  Pass Block                  RT   \n",
       "235627      235627  2021103111    1063  52421  Pass Block                  RT   \n",
       "235649      235649  2021103111    1063  52421  Pass Block                  RT   \n",
       "235671      235671  2021103111    1063  52421  Pass Block                  RT   \n",
       "235693      235693  2021103111    1063  52421  Pass Block                  RT   \n",
       "235715      235715  2021103111    1063  52421  Pass Block                  RT   \n",
       "235737      235737  2021103111    1063  52421  Pass Block                  RT   \n",
       "235759      235759  2021103111    1063  52421  Pass Block                  RT   \n",
       "235781      235781  2021103111    1063  52421  Pass Block                  RT   \n",
       "235803      235803  2021103111    1063  52421  Pass Block                  RT   \n",
       "235825      235825  2021103111    1063  52421  Pass Block                  RT   \n",
       "235847      235847  2021103111    1063  52421  Pass Block                  RT   \n",
       "235869      235869  2021103111    1063  52421  Pass Block                  RT   \n",
       "235891      235891  2021103111    1063  52421  Pass Block                  RT   \n",
       "235913      235913  2021103111    1063  52421  Pass Block                  RT   \n",
       "235935      235935  2021103111    1063  52421  Pass Block                  RT   \n",
       "235957      235957  2021103111    1063  52421  Pass Block                  RT   \n",
       "235979      235979  2021103111    1063  52421  Pass Block                  RT   \n",
       "236001      236001  2021103111    1063  52421  Pass Block                  RT   \n",
       "236023      236023  2021103111    1063  52421  Pass Block                  RT   \n",
       "236045      236045  2021103111    1063  52421  Pass Block                  RT   \n",
       "236067      236067  2021103111    1063  52421  Pass Block                  RT   \n",
       "236089      236089  2021103111    1063  52421  Pass Block                  RT   \n",
       "236111      236111  2021103111    1063  52421  Pass Block                  RT   \n",
       "236133      236133  2021103111    1063  52421  Pass Block                  RT   \n",
       "236155      236155  2021103111    1063  52421  Pass Block                  RT   \n",
       "236177      236177  2021103111    1063  52421  Pass Block                  RT   \n",
       "236199      236199  2021103111    1063  52421  Pass Block                  RT   \n",
       "236221      236221  2021103111    1063  52421  Pass Block                  RT   \n",
       "236243      236243  2021103111    1063  52421  Pass Block                  RT   \n",
       "236265      236265  2021103111    1063  52421  Pass Block                  RT   \n",
       "236287      236287  2021103111    1063  52421  Pass Block                  RT   \n",
       "236309      236309  2021103111    1063  52421  Pass Block                  RT   \n",
       "236331      236331  2021103111    1063  52421  Pass Block                  RT   \n",
       "\n",
       "        pff_hit  pff_hurry  pff_sack  pff_beatenByDefender  pff_hitAllowed  \\\n",
       "235429      0.0        0.0       0.0                   1.0             0.0   \n",
       "235451      0.0        0.0       0.0                   1.0             0.0   \n",
       "235473      0.0        0.0       0.0                   1.0             0.0   \n",
       "235495      0.0        0.0       0.0                   1.0             0.0   \n",
       "235517      0.0        0.0       0.0                   1.0             0.0   \n",
       "235539      0.0        0.0       0.0                   1.0             0.0   \n",
       "235561      0.0        0.0       0.0                   1.0             0.0   \n",
       "235583      0.0        0.0       0.0                   1.0             0.0   \n",
       "235605      0.0        0.0       0.0                   1.0             0.0   \n",
       "235627      0.0        0.0       0.0                   1.0             0.0   \n",
       "235649      0.0        0.0       0.0                   1.0             0.0   \n",
       "235671      0.0        0.0       0.0                   1.0             0.0   \n",
       "235693      0.0        0.0       0.0                   1.0             0.0   \n",
       "235715      0.0        0.0       0.0                   1.0             0.0   \n",
       "235737      0.0        0.0       0.0                   1.0             0.0   \n",
       "235759      0.0        0.0       0.0                   1.0             0.0   \n",
       "235781      0.0        0.0       0.0                   1.0             0.0   \n",
       "235803      0.0        0.0       0.0                   1.0             0.0   \n",
       "235825      0.0        0.0       0.0                   1.0             0.0   \n",
       "235847      0.0        0.0       0.0                   1.0             0.0   \n",
       "235869      0.0        0.0       0.0                   1.0             0.0   \n",
       "235891      0.0        0.0       0.0                   1.0             0.0   \n",
       "235913      0.0        0.0       0.0                   1.0             0.0   \n",
       "235935      0.0        0.0       0.0                   1.0             0.0   \n",
       "235957      0.0        0.0       0.0                   1.0             0.0   \n",
       "235979      0.0        0.0       0.0                   1.0             0.0   \n",
       "236001      0.0        0.0       0.0                   1.0             0.0   \n",
       "236023      0.0        0.0       0.0                   1.0             0.0   \n",
       "236045      0.0        0.0       0.0                   1.0             0.0   \n",
       "236067      0.0        0.0       0.0                   1.0             0.0   \n",
       "236089      0.0        0.0       0.0                   1.0             0.0   \n",
       "236111      0.0        0.0       0.0                   1.0             0.0   \n",
       "236133      0.0        0.0       0.0                   1.0             0.0   \n",
       "236155      0.0        0.0       0.0                   1.0             0.0   \n",
       "236177      0.0        0.0       0.0                   1.0             0.0   \n",
       "236199      0.0        0.0       0.0                   1.0             0.0   \n",
       "236221      0.0        0.0       0.0                   1.0             0.0   \n",
       "236243      0.0        0.0       0.0                   1.0             0.0   \n",
       "236265      0.0        0.0       0.0                   1.0             0.0   \n",
       "236287      0.0        0.0       0.0                   1.0             0.0   \n",
       "236309      0.0        0.0       0.0                   1.0             0.0   \n",
       "236331      0.0        0.0       0.0                   1.0             0.0   \n",
       "\n",
       "        pff_hurryAllowed  pff_sackAllowed  pff_nflIdBlockedPlayer  \\\n",
       "235429               0.0              0.0                 37097.0   \n",
       "235451               0.0              0.0                 37097.0   \n",
       "235473               0.0              0.0                 37097.0   \n",
       "235495               0.0              0.0                 37097.0   \n",
       "235517               0.0              0.0                 37097.0   \n",
       "235539               0.0              0.0                 37097.0   \n",
       "235561               0.0              0.0                 37097.0   \n",
       "235583               0.0              0.0                 37097.0   \n",
       "235605               0.0              0.0                 37097.0   \n",
       "235627               0.0              0.0                 37097.0   \n",
       "235649               0.0              0.0                 37097.0   \n",
       "235671               0.0              0.0                 37097.0   \n",
       "235693               0.0              0.0                 37097.0   \n",
       "235715               0.0              0.0                 37097.0   \n",
       "235737               0.0              0.0                 37097.0   \n",
       "235759               0.0              0.0                 37097.0   \n",
       "235781               0.0              0.0                 37097.0   \n",
       "235803               0.0              0.0                 37097.0   \n",
       "235825               0.0              0.0                 37097.0   \n",
       "235847               0.0              0.0                 37097.0   \n",
       "235869               0.0              0.0                 37097.0   \n",
       "235891               0.0              0.0                 37097.0   \n",
       "235913               0.0              0.0                 37097.0   \n",
       "235935               0.0              0.0                 37097.0   \n",
       "235957               0.0              0.0                 37097.0   \n",
       "235979               0.0              0.0                 37097.0   \n",
       "236001               0.0              0.0                 37097.0   \n",
       "236023               0.0              0.0                 37097.0   \n",
       "236045               0.0              0.0                 37097.0   \n",
       "236067               0.0              0.0                 37097.0   \n",
       "236089               0.0              0.0                 37097.0   \n",
       "236111               0.0              0.0                 37097.0   \n",
       "236133               0.0              0.0                 37097.0   \n",
       "236155               0.0              0.0                 37097.0   \n",
       "236177               0.0              0.0                 37097.0   \n",
       "236199               0.0              0.0                 37097.0   \n",
       "236221               0.0              0.0                 37097.0   \n",
       "236243               0.0              0.0                 37097.0   \n",
       "236265               0.0              0.0                 37097.0   \n",
       "236287               0.0              0.0                 37097.0   \n",
       "236309               0.0              0.0                 37097.0   \n",
       "236331               0.0              0.0                 37097.0   \n",
       "\n",
       "       pff_blockType  pff_backFieldBlock  frameId                     time  \\\n",
       "235429            PA                 0.0        1  2021-10-31T21:05:45.000   \n",
       "235451            PA                 0.0        2  2021-10-31T21:05:45.100   \n",
       "235473            PA                 0.0        3  2021-10-31T21:05:45.200   \n",
       "235495            PA                 0.0        4  2021-10-31T21:05:45.300   \n",
       "235517            PA                 0.0        5  2021-10-31T21:05:45.400   \n",
       "235539            PA                 0.0        6  2021-10-31T21:05:45.500   \n",
       "235561            PA                 0.0        7  2021-10-31T21:05:45.600   \n",
       "235583            PA                 0.0        8  2021-10-31T21:05:45.700   \n",
       "235605            PA                 0.0        9  2021-10-31T21:05:45.800   \n",
       "235627            PA                 0.0       10  2021-10-31T21:05:45.900   \n",
       "235649            PA                 0.0       11  2021-10-31T21:05:46.000   \n",
       "235671            PA                 0.0       12  2021-10-31T21:05:46.100   \n",
       "235693            PA                 0.0       13  2021-10-31T21:05:46.200   \n",
       "235715            PA                 0.0       14  2021-10-31T21:05:46.300   \n",
       "235737            PA                 0.0       15  2021-10-31T21:05:46.400   \n",
       "235759            PA                 0.0       16  2021-10-31T21:05:46.500   \n",
       "235781            PA                 0.0       17  2021-10-31T21:05:46.600   \n",
       "235803            PA                 0.0       18  2021-10-31T21:05:46.700   \n",
       "235825            PA                 0.0       19  2021-10-31T21:05:46.800   \n",
       "235847            PA                 0.0       20  2021-10-31T21:05:46.900   \n",
       "235869            PA                 0.0       21  2021-10-31T21:05:47.000   \n",
       "235891            PA                 0.0       22  2021-10-31T21:05:47.100   \n",
       "235913            PA                 0.0       23  2021-10-31T21:05:47.200   \n",
       "235935            PA                 0.0       24  2021-10-31T21:05:47.300   \n",
       "235957            PA                 0.0       25  2021-10-31T21:05:47.400   \n",
       "235979            PA                 0.0       26  2021-10-31T21:05:47.500   \n",
       "236001            PA                 0.0       27  2021-10-31T21:05:47.600   \n",
       "236023            PA                 0.0       28  2021-10-31T21:05:47.700   \n",
       "236045            PA                 0.0       29  2021-10-31T21:05:47.800   \n",
       "236067            PA                 0.0       30  2021-10-31T21:05:47.900   \n",
       "236089            PA                 0.0       31  2021-10-31T21:05:48.000   \n",
       "236111            PA                 0.0       32  2021-10-31T21:05:48.100   \n",
       "236133            PA                 0.0       33  2021-10-31T21:05:48.200   \n",
       "236155            PA                 0.0       34  2021-10-31T21:05:48.300   \n",
       "236177            PA                 0.0       35  2021-10-31T21:05:48.400   \n",
       "236199            PA                 0.0       36  2021-10-31T21:05:48.500   \n",
       "236221            PA                 0.0       37  2021-10-31T21:05:48.600   \n",
       "236243            PA                 0.0       38  2021-10-31T21:05:48.700   \n",
       "236265            PA                 0.0       39  2021-10-31T21:05:48.800   \n",
       "236287            PA                 0.0       40  2021-10-31T21:05:48.900   \n",
       "236309            PA                 0.0       41  2021-10-31T21:05:49.000   \n",
       "236331            PA                 0.0       42  2021-10-31T21:05:49.100   \n",
       "\n",
       "        jerseyNumber team playDirection      x      y     s     a   dis  \\\n",
       "235429          78.0   TB          left  55.07  27.12  0.00  0.00  0.01   \n",
       "235451          78.0   TB          left  55.07  27.12  0.00  0.00  0.00   \n",
       "235473          78.0   TB          left  55.07  27.12  0.00  0.00  0.00   \n",
       "235495          78.0   TB          left  55.07  27.12  0.00  0.00  0.00   \n",
       "235517          78.0   TB          left  55.07  27.12  0.00  0.05  0.00   \n",
       "235539          78.0   TB          left  55.07  27.12  0.03  0.29  0.01   \n",
       "235561          78.0   TB          left  55.08  27.13  0.11  0.64  0.01   \n",
       "235583          78.0   TB          left  55.08  27.16  0.27  1.02  0.03   \n",
       "235605          78.0   TB          left  55.10  27.20  0.45  1.09  0.05   \n",
       "235627          78.0   TB          left  55.12  27.27  0.63  1.16  0.07   \n",
       "235649          78.0   TB          left  55.15  27.34  0.77  1.06  0.07   \n",
       "235671          78.0   TB          left  55.20  27.41  0.92  0.89  0.10   \n",
       "235693          78.0   TB          left  55.28  27.49  1.04  0.79  0.11   \n",
       "235715          78.0   TB          left  55.35  27.58  1.12  0.68  0.11   \n",
       "235737          78.0   TB          left  55.45  27.65  1.18  0.73  0.12   \n",
       "235759          78.0   TB          left  55.57  27.72  1.30  0.97  0.14   \n",
       "235781          78.0   TB          left  55.70  27.78  1.38  1.10  0.14   \n",
       "235803          78.0   TB          left  55.84  27.84  1.51  1.08  0.16   \n",
       "235825          78.0   TB          left  56.01  27.90  1.70  1.05  0.18   \n",
       "235847          78.0   TB          left  56.22  27.96  1.99  1.17  0.21   \n",
       "235869          78.0   TB          left  56.43  28.02  2.21  1.18  0.23   \n",
       "235891          78.0   TB          left  56.67  28.07  2.41  0.87  0.24   \n",
       "235913          78.0   TB          left  56.93  28.12  2.60  0.65  0.27   \n",
       "235935          78.0   TB          left  57.22  28.16  2.79  0.59  0.29   \n",
       "235957          78.0   TB          left  57.50  28.19  2.86  0.53  0.29   \n",
       "235979          78.0   TB          left  57.81  28.21  2.99  0.66  0.31   \n",
       "236001          78.0   TB          left  58.13  28.22  3.09  0.84  0.32   \n",
       "236023          78.0   TB          left  58.46  28.20  3.14  1.07  0.32   \n",
       "236045          78.0   TB          left  58.77  28.17  3.13  1.32  0.32   \n",
       "236067          78.0   TB          left  59.09  28.12  3.10  1.47  0.32   \n",
       "236089          78.0   TB          left  59.39  28.07  3.02  1.62  0.31   \n",
       "236111          78.0   TB          left  59.69  28.00  2.94  1.66  0.30   \n",
       "236133          78.0   TB          left  59.97  27.92  2.86  1.72  0.30   \n",
       "236155          78.0   TB          left  60.25  27.84  2.77  1.66  0.29   \n",
       "236177          78.0   TB          left  60.51  27.76  2.63  1.67  0.27   \n",
       "236199          78.0   TB          left  60.76  27.69  2.49  1.69  0.26   \n",
       "236221          78.0   TB          left  60.99  27.61  2.33  1.71  0.24   \n",
       "236243          78.0   TB          left  61.21  27.55  2.16  1.67  0.22   \n",
       "236265          78.0   TB          left  61.41  27.49  2.02  1.66  0.21   \n",
       "236287          78.0   TB          left  61.60  27.45  1.85  1.68  0.19   \n",
       "236309          78.0   TB          left  61.77  27.41  1.69  1.65  0.18   \n",
       "236331          78.0   TB          left  61.93  27.39  1.50  1.72  0.16   \n",
       "\n",
       "             o     dir                  event height  weight   birthDate  \\\n",
       "235429  260.76   10.07                   None    6-5     322  1999-01-24   \n",
       "235451  260.76   11.16                   None    6-5     322  1999-01-24   \n",
       "235473  260.76   15.19                   None    6-5     322  1999-01-24   \n",
       "235495  260.76   15.37                   None    6-5     322  1999-01-24   \n",
       "235517  261.91   90.59                   None    6-5     322  1999-01-24   \n",
       "235539  261.91   32.43              ball_snap    6-5     322  1999-01-24   \n",
       "235561  263.57   19.64                   None    6-5     322  1999-01-24   \n",
       "235583  265.23   17.42                   None    6-5     322  1999-01-24   \n",
       "235605  266.63   16.64                   None    6-5     322  1999-01-24   \n",
       "235627  268.71   17.95                   None    6-5     322  1999-01-24   \n",
       "235649  270.62   19.49                   None    6-5     322  1999-01-24   \n",
       "235671  275.09   27.97                   None    6-5     322  1999-01-24   \n",
       "235693  277.27   36.58                   None    6-5     322  1999-01-24   \n",
       "235715  281.84   40.56                   None    6-5     322  1999-01-24   \n",
       "235737  287.00   46.82            play_action    6-5     322  1999-01-24   \n",
       "235759  298.00   56.42                   None    6-5     322  1999-01-24   \n",
       "235781  303.37   63.24                   None    6-5     322  1999-01-24   \n",
       "235803  307.74   68.14                   None    6-5     322  1999-01-24   \n",
       "235825  316.37   71.74                   None    6-5     322  1999-01-24   \n",
       "235847  320.43   74.48                   None    6-5     322  1999-01-24   \n",
       "235869  324.77   76.61                   None    6-5     322  1999-01-24   \n",
       "235891  327.80   77.33                   None    6-5     322  1999-01-24   \n",
       "235913  333.87   79.06                   None    6-5     322  1999-01-24   \n",
       "235935  337.75   81.47                   None    6-5     322  1999-01-24   \n",
       "235957  339.33   83.41                   None    6-5     322  1999-01-24   \n",
       "235979  343.59   85.73                   None    6-5     322  1999-01-24   \n",
       "236001  351.81   88.66                   None    6-5     322  1999-01-24   \n",
       "236023  355.11   91.94                   None    6-5     322  1999-01-24   \n",
       "236045  359.98   95.59                   None    6-5     322  1999-01-24   \n",
       "236067    0.89   98.75                   None    6-5     322  1999-01-24   \n",
       "236089    0.89  101.44                   None    6-5     322  1999-01-24   \n",
       "236111  355.80  103.67                   None    6-5     322  1999-01-24   \n",
       "236133  350.99  106.35                   None    6-5     322  1999-01-24   \n",
       "236155  345.43  107.31                   None    6-5     322  1999-01-24   \n",
       "236177  339.66  107.93                   None    6-5     322  1999-01-24   \n",
       "236199  334.18  107.66                   None    6-5     322  1999-01-24   \n",
       "236221  328.90  108.24           pass_forward    6-5     322  1999-01-24   \n",
       "236243  319.96  106.16  autoevent_passforward    6-5     322  1999-01-24   \n",
       "236265  308.24  105.18                   None    6-5     322  1999-01-24   \n",
       "236287  293.07  103.71                   None    6-5     322  1999-01-24   \n",
       "236309  283.18  101.55                   None    6-5     322  1999-01-24   \n",
       "236331  272.13   97.08                   None    6-5     322  1999-01-24   \n",
       "\n",
       "       collegeName officialPosition    displayName   x_qb   y_qb  s_qb  a_qb  \\\n",
       "235429        Iowa                T  Tristan Wirfs  55.44  23.70  0.00  0.00   \n",
       "235451        Iowa                T  Tristan Wirfs  55.44  23.71  0.00  0.00   \n",
       "235473        Iowa                T  Tristan Wirfs  55.44  23.72  0.00  0.00   \n",
       "235495        Iowa                T  Tristan Wirfs  55.45  23.72  0.00  0.00   \n",
       "235517        Iowa                T  Tristan Wirfs  55.47  23.73  0.00  0.00   \n",
       "235539        Iowa                T  Tristan Wirfs  55.48  23.73  0.00  0.00   \n",
       "235561        Iowa                T  Tristan Wirfs  55.50  23.73  0.00  0.00   \n",
       "235583        Iowa                T  Tristan Wirfs  55.52  23.74  0.00  0.00   \n",
       "235605        Iowa                T  Tristan Wirfs  55.54  23.74  0.09  1.72   \n",
       "235627        Iowa                T  Tristan Wirfs  55.59  23.75  0.50  4.00   \n",
       "235649        Iowa                T  Tristan Wirfs  55.67  23.76  1.08  5.39   \n",
       "235671        Iowa                T  Tristan Wirfs  55.82  23.78  1.73  5.85   \n",
       "235693        Iowa                T  Tristan Wirfs  56.04  23.81  2.50  6.38   \n",
       "235715        Iowa                T  Tristan Wirfs  56.34  23.84  3.20  5.84   \n",
       "235737        Iowa                T  Tristan Wirfs  56.69  23.88  3.77  5.01   \n",
       "235759        Iowa                T  Tristan Wirfs  57.09  23.92  4.24  4.04   \n",
       "235781        Iowa                T  Tristan Wirfs  57.54  23.96  4.61  3.11   \n",
       "235803        Iowa                T  Tristan Wirfs  58.00  23.99  4.81  2.00   \n",
       "235825        Iowa                T  Tristan Wirfs  58.49  24.03  4.91  1.01   \n",
       "235847        Iowa                T  Tristan Wirfs  58.98  24.06  4.93  0.33   \n",
       "235869        Iowa                T  Tristan Wirfs  59.46  24.09  4.86  0.69   \n",
       "235891        Iowa                T  Tristan Wirfs  59.94  24.11  4.67  1.47   \n",
       "235913        Iowa                T  Tristan Wirfs  60.39  24.14  4.42  2.07   \n",
       "235935        Iowa                T  Tristan Wirfs  60.79  24.15  3.88  3.19   \n",
       "235957        Iowa                T  Tristan Wirfs  61.13  24.17  3.27  4.26   \n",
       "235979        Iowa                T  Tristan Wirfs  61.43  24.18  2.65  5.07   \n",
       "236001        Iowa                T  Tristan Wirfs  61.66  24.19  1.99  5.70   \n",
       "236023        Iowa                T  Tristan Wirfs  61.82  24.19  1.21  6.17   \n",
       "236045        Iowa                T  Tristan Wirfs  61.91  24.19  0.53  6.14   \n",
       "236067        Iowa                T  Tristan Wirfs  61.93  24.19  0.08  5.77   \n",
       "236089        Iowa                T  Tristan Wirfs  61.89  24.19  0.70  5.25   \n",
       "236111        Iowa                T  Tristan Wirfs  61.79  24.20  1.20  4.52   \n",
       "236133        Iowa                T  Tristan Wirfs  61.66  24.21  1.57  3.60   \n",
       "236155        Iowa                T  Tristan Wirfs  61.49  24.22  1.82  2.62   \n",
       "236177        Iowa                T  Tristan Wirfs  61.32  24.23  1.78  1.07   \n",
       "236199        Iowa                T  Tristan Wirfs  61.15  24.24  1.76  0.15   \n",
       "236221        Iowa                T  Tristan Wirfs  60.97  24.26  1.69  0.65   \n",
       "236243        Iowa                T  Tristan Wirfs  60.82  24.26  1.50  1.29   \n",
       "236265        Iowa                T  Tristan Wirfs  60.70  24.27  1.20  1.94   \n",
       "236287        Iowa                T  Tristan Wirfs  60.59  24.26  0.98  2.12   \n",
       "236309        Iowa                T  Tristan Wirfs  60.50  24.26  0.75  2.17   \n",
       "236331        Iowa                T  Tristan Wirfs  60.44  24.24  0.51  2.30   \n",
       "\n",
       "        dis_qb    o_qb  dir_qb  dist_from_qb  angle_to_qb  angle_to_qb_diff_o  \\\n",
       "235429    0.00  267.87  281.88      3.439956         0.67              260.09   \n",
       "235451    0.00  267.87  284.13      3.430015         0.67              260.09   \n",
       "235473    0.01  267.87  288.92      3.420073         0.68              260.08   \n",
       "235495    0.01  267.87  295.83      3.421169         0.72              260.04   \n",
       "235517    0.01  267.87  305.33      3.413517         0.80              261.11   \n",
       "235539    0.02  267.04  325.26      3.414704         0.84              261.07   \n",
       "235561    0.01  267.73  342.80      3.425843         0.87              262.70   \n",
       "235583    0.03  268.58   21.66      3.448188         0.95              264.28   \n",
       "235605    0.02  269.24   81.06      3.487865         0.93              265.70   \n",
       "235627    0.05  265.60   80.80      3.551239         1.02              267.69   \n",
       "235649    0.09  266.95   82.04      3.617568         1.21              269.41   \n",
       "235671    0.15  269.23   81.67      3.682567         1.67              273.42   \n",
       "235693    0.23  270.69   82.45      3.757659         2.44              274.83   \n",
       "235715    0.30  277.85   83.31      3.868811         4.01              277.83   \n",
       "235737    0.35  285.93   83.63      3.968690         6.17              280.83   \n",
       "235759    0.40  304.93   84.16      4.092725         9.09              288.91   \n",
       "235781    0.45  336.16   85.06      4.240047        13.06              290.31   \n",
       "235803    0.47  353.09   85.70      4.414533        17.47              290.27   \n",
       "235825    0.48  358.85   86.09      4.596444        22.33              294.04   \n",
       "235847    0.49    2.13   86.38      4.777824        26.60              293.83   \n",
       "235869    0.49    1.42   86.73      4.962439        30.73              294.04   \n",
       "235891    0.47  358.34   87.38      5.135611        34.29              293.51   \n",
       "235913    0.45  355.68   87.56      5.273708        37.08              296.79   \n",
       "235935    0.40  353.65   87.76      5.368892        38.40              299.35   \n",
       "235957    0.35  350.73   87.91      5.416392        39.19              300.14   \n",
       "235979    0.29  349.10   87.98      5.417130        38.90              304.69   \n",
       "236001    0.23  347.73   88.15      5.357406        37.50              314.31   \n",
       "236023    0.16  346.67   88.42      5.231606        35.07              320.04   \n",
       "236045    0.09  347.94   88.35      5.069517        31.90              328.08   \n",
       "236067    0.02  350.97  268.12      4.848763        27.57              -26.68   \n",
       "236089    0.04  354.73  272.16      4.615669        22.55              -21.66   \n",
       "236111    0.10  355.72  272.59      4.341659        16.98              338.82   \n",
       "236133    0.14  355.72  273.39      4.076788        11.72              339.27   \n",
       "236155    0.17  355.72  274.29      3.826487         6.69              338.74   \n",
       "236177    0.17  346.28  273.88      3.621740         3.01              336.65   \n",
       "236199    0.17  338.39  274.66      3.471974         0.73              333.45   \n",
       "236221    0.17  329.67  274.01      3.350060         0.00              328.90   \n",
       "236243    0.15  316.14  273.69      3.313035         0.81              319.15   \n",
       "236265    0.13  299.85  271.27      3.297347         2.78              305.46   \n",
       "236287    0.11  281.25  268.14      3.346072         5.72              287.35   \n",
       "236309    0.09  274.99  262.42      3.396380         9.23              273.95   \n",
       "236331    0.06  272.53  243.93      3.484623        12.61              259.52   \n",
       "\n",
       "        nflId_blocker_x  nflId_rusher_x displayName_rusher_x  \\\n",
       "235429          52421.0         37097.0       Cameron Jordan   \n",
       "235451          52421.0         37097.0       Cameron Jordan   \n",
       "235473          52421.0         37097.0       Cameron Jordan   \n",
       "235495          52421.0         37097.0       Cameron Jordan   \n",
       "235517          52421.0         37097.0       Cameron Jordan   \n",
       "235539          52421.0         37097.0       Cameron Jordan   \n",
       "235561          52421.0         37097.0       Cameron Jordan   \n",
       "235583          52421.0         37097.0       Cameron Jordan   \n",
       "235605          52421.0         37097.0       Cameron Jordan   \n",
       "235627          52421.0         37097.0       Cameron Jordan   \n",
       "235649          52421.0         37097.0       Cameron Jordan   \n",
       "235671          52421.0         37097.0       Cameron Jordan   \n",
       "235693          52421.0         37097.0       Cameron Jordan   \n",
       "235715          52421.0         37097.0       Cameron Jordan   \n",
       "235737          52421.0         37097.0       Cameron Jordan   \n",
       "235759          52421.0         37097.0       Cameron Jordan   \n",
       "235781          52421.0         37097.0       Cameron Jordan   \n",
       "235803          52421.0         37097.0       Cameron Jordan   \n",
       "235825          52421.0         37097.0       Cameron Jordan   \n",
       "235847          52421.0         37097.0       Cameron Jordan   \n",
       "235869          52421.0         37097.0       Cameron Jordan   \n",
       "235891          52421.0         37097.0       Cameron Jordan   \n",
       "235913          52421.0         37097.0       Cameron Jordan   \n",
       "235935          52421.0         37097.0       Cameron Jordan   \n",
       "235957          52421.0         37097.0       Cameron Jordan   \n",
       "235979          52421.0         37097.0       Cameron Jordan   \n",
       "236001          52421.0         37097.0       Cameron Jordan   \n",
       "236023          52421.0         37097.0       Cameron Jordan   \n",
       "236045          52421.0         37097.0       Cameron Jordan   \n",
       "236067          52421.0         37097.0       Cameron Jordan   \n",
       "236089          52421.0         37097.0       Cameron Jordan   \n",
       "236111          52421.0         37097.0       Cameron Jordan   \n",
       "236133          52421.0         37097.0       Cameron Jordan   \n",
       "236155          52421.0         37097.0       Cameron Jordan   \n",
       "236177          52421.0         37097.0       Cameron Jordan   \n",
       "236199          52421.0         37097.0       Cameron Jordan   \n",
       "236221          52421.0         37097.0       Cameron Jordan   \n",
       "236243          52421.0         37097.0       Cameron Jordan   \n",
       "236265          52421.0         37097.0       Cameron Jordan   \n",
       "236287          52421.0         37097.0       Cameron Jordan   \n",
       "236309          52421.0         37097.0       Cameron Jordan   \n",
       "236331          52421.0         37097.0       Cameron Jordan   \n",
       "\n",
       "       pff_positionLinedUp_rusher_x  x_rusher_x  y_rusher_x  s_rusher_x  \\\n",
       "235429                         LOLB       53.14       28.73        0.00   \n",
       "235451                         LOLB       53.14       28.72        0.00   \n",
       "235473                         LOLB       53.13       28.72        0.00   \n",
       "235495                         LOLB       53.14       28.72        0.00   \n",
       "235517                         LOLB       53.14       28.72        0.00   \n",
       "235539                         LOLB       53.15       28.72        0.00   \n",
       "235561                         LOLB       53.16       28.71        0.04   \n",
       "235583                         LOLB       53.19       28.71        0.21   \n",
       "235605                         LOLB       53.24       28.70        0.54   \n",
       "235627                         LOLB       53.32       28.68        0.95   \n",
       "235649                         LOLB       53.45       28.66        1.36   \n",
       "235671                         LOLB       53.61       28.64        1.69   \n",
       "235693                         LOLB       53.81       28.62        1.96   \n",
       "235715                         LOLB       54.03       28.62        2.16   \n",
       "235737                         LOLB       54.28       28.64        2.34   \n",
       "235759                         LOLB       54.54       28.66        2.45   \n",
       "235781                         LOLB       54.80       28.69        2.53   \n",
       "235803                         LOLB       55.08       28.73        2.67   \n",
       "235825                         LOLB       55.38       28.78        2.79   \n",
       "235847                         LOLB       55.68       28.84        2.88   \n",
       "235869                         LOLB       56.00       28.89        3.04   \n",
       "235891                         LOLB       56.32       28.94        3.11   \n",
       "235913                         LOLB       56.66       28.98        3.25   \n",
       "235935                         LOLB       57.01       29.02        3.35   \n",
       "235957                         LOLB       57.36       29.04        3.40   \n",
       "235979                         LOLB       57.71       29.05        3.45   \n",
       "236001                         LOLB       58.07       29.05        3.44   \n",
       "236023                         LOLB       58.42       29.02        3.44   \n",
       "236045                         LOLB       58.77       28.98        3.37   \n",
       "236067                         LOLB       59.09       28.93        3.19   \n",
       "236089                         LOLB       59.39       28.86        3.01   \n",
       "236111                         LOLB       59.65       28.77        2.71   \n",
       "236133                         LOLB       59.87       28.66        2.43   \n",
       "236155                         LOLB       60.06       28.53        2.19   \n",
       "236177                         LOLB       60.19       28.38        1.96   \n",
       "236199                         LOLB       60.29       28.21        1.84   \n",
       "236221                         LOLB       60.32       28.00        1.90   \n",
       "236243                         LOLB       60.31       27.76        2.17   \n",
       "236265                         LOLB       60.29       27.53        2.36   \n",
       "236287                         LOLB       60.21       27.26        2.67   \n",
       "236309                         LOLB       60.13       26.96        3.07   \n",
       "236331                         LOLB       60.03       26.64        3.30   \n",
       "\n",
       "        a_rusher_x  dis_rusher_x  o_rusher_x  dir_rusher_x  \\\n",
       "235429        0.00          0.00      140.10        123.29   \n",
       "235451        0.00          0.00      140.10        124.83   \n",
       "235473        0.00          0.01      140.10        129.40   \n",
       "235495        0.00          0.00      140.10        128.67   \n",
       "235517        0.00          0.01      138.64        127.88   \n",
       "235539        0.00          0.01      137.36        123.83   \n",
       "235561        0.65          0.01      134.03        102.39   \n",
       "235583        1.60          0.02      134.03        102.20   \n",
       "235605        2.70          0.05      130.77        101.55   \n",
       "235627        3.15          0.09      126.42        102.89   \n",
       "235649        2.80          0.13      126.42        101.32   \n",
       "235671        2.24          0.17      125.52         99.12   \n",
       "235693        1.59          0.20      123.53         96.21   \n",
       "235715        1.06          0.22      122.11         93.19   \n",
       "235737        0.82          0.25      123.73         89.39   \n",
       "235759        0.86          0.26      125.30         86.51   \n",
       "235781        0.86          0.26      128.57         83.45   \n",
       "235803        0.77          0.29      131.63         81.44   \n",
       "235825        0.66          0.30      134.85         79.99   \n",
       "235847        0.57          0.31      137.05         79.04   \n",
       "235869        0.33          0.33      138.54         79.40   \n",
       "235891        0.36          0.32      142.49         80.05   \n",
       "235913        0.40          0.34      146.96         81.85   \n",
       "235935        0.60          0.35      145.37         83.64   \n",
       "235957        0.82          0.35      139.84         85.74   \n",
       "235979        0.99          0.35      147.48         87.93   \n",
       "236001        1.23          0.35      147.48         90.62   \n",
       "236023        1.46          0.36      139.40         93.90   \n",
       "236045        1.65          0.35      136.94         96.55   \n",
       "236067        2.01          0.32      136.16         99.89   \n",
       "236089        2.23          0.31      136.16        102.95   \n",
       "236111        2.67          0.27      137.69        108.00   \n",
       "236133        2.94          0.25      138.43        114.43   \n",
       "236155        3.10          0.23      137.28        122.65   \n",
       "236177        3.18          0.20      140.40        135.27   \n",
       "236199        3.01          0.20      140.40        149.16   \n",
       "236221        3.27          0.21      142.54        165.92   \n",
       "236243        3.45          0.24      145.92        180.76   \n",
       "236265        3.08          0.24      147.17        189.19   \n",
       "236287        2.86          0.27      148.31        196.32   \n",
       "236309        2.09          0.32      171.87        198.56   \n",
       "236331        1.30          0.33      179.04        199.45   \n",
       "\n",
       "       rusher_in_imm_box_x  blocker_rusher_distance_x  \\\n",
       "235429               False                       2.51   \n",
       "235451               False                       2.51   \n",
       "235473               False                       2.51   \n",
       "235495               False                       2.51   \n",
       "235517               False                       2.51   \n",
       "235539               False                       2.50   \n",
       "235561               False                       2.49   \n",
       "235583               False                       2.44   \n",
       "235605               False                       2.39   \n",
       "235627               False                       2.29   \n",
       "235649               False                       2.15   \n",
       "235671               False                       2.01   \n",
       "235693               False                       1.85   \n",
       "235715               False                       1.68   \n",
       "235737               False                       1.53   \n",
       "235759               False                       1.39   \n",
       "235781               False                       1.28   \n",
       "235803               False                       1.17   \n",
       "235825               False                       1.08   \n",
       "235847               False                       1.03   \n",
       "235869               False                       0.97   \n",
       "235891               False                       0.94   \n",
       "235913               False                       0.90   \n",
       "235935               False                       0.89   \n",
       "235957               False                       0.86   \n",
       "235979               False                       0.85   \n",
       "236001               False                       0.83   \n",
       "236023               False                       0.82   \n",
       "236045               False                       0.81   \n",
       "236067               False                       0.81   \n",
       "236089               False                       0.79   \n",
       "236111               False                       0.77   \n",
       "236133               False                       0.75   \n",
       "236155               False                       0.72   \n",
       "236177               False                       0.70   \n",
       "236199               False                       0.70   \n",
       "236221               False                       0.78   \n",
       "236243               False                       0.92   \n",
       "236265               False                       1.12   \n",
       "236287               False                       1.40   \n",
       "236309               False                       1.70   \n",
       "236331               False                       2.04   \n",
       "\n",
       "        diff_btw_rusher_dir_blocker_o_x  bl_im_x_x  bl_im_y_x  br_im_x_x  \\\n",
       "235429                           317.47      55.19      26.38      54.95   \n",
       "235451                           315.93      55.19      26.38      54.95   \n",
       "235473                           311.36      55.19      26.38      54.95   \n",
       "235495                           312.09      55.19      26.38      54.95   \n",
       "235517                           314.03      55.18      26.38      54.96   \n",
       "235539                           318.08      55.18      26.38      54.96   \n",
       "235561                           341.18      55.16      26.38      55.00   \n",
       "235583                           343.03      55.14      26.41      55.02   \n",
       "235605                           345.08      55.14      26.45      55.06   \n",
       "235627                           345.82      55.14      26.52      55.10   \n",
       "235649                           349.30      55.14      26.59      55.16   \n",
       "235671                           355.97      55.13      26.66      55.27   \n",
       "235693                           361.06      55.19      26.75      55.37   \n",
       "235715                           368.65      55.20      26.85      55.50   \n",
       "235737                           377.61      55.23      26.93      55.67   \n",
       "235759                           391.49      55.22      27.06      55.92   \n",
       "235781                           399.92      55.29      27.15      56.11   \n",
       "235803                           406.30      55.38      27.25      56.30   \n",
       "235825                           416.38      55.47      27.38      56.55   \n",
       "235847                           421.39      55.64      27.48      56.80   \n",
       "235869                           425.37      55.82      27.59      57.04   \n",
       "235891                           427.75      56.04      27.67      57.30   \n",
       "235913                           432.02      56.26      27.79      57.60   \n",
       "235935                           434.11      56.53      27.88      57.91   \n",
       "235957                           433.59      56.80      27.93      58.20   \n",
       "235979                           435.66      57.09      28.00      58.53   \n",
       "236001                           441.19      57.39      28.11      58.87   \n",
       "236023                           441.21      57.71      28.14      59.21   \n",
       "236045                           443.43      58.02      28.17      59.52   \n",
       "236067                            81.00      58.34      28.13      59.84   \n",
       "236089                            77.94      58.64      28.08      60.14   \n",
       "236111                           427.80      58.94      27.95      60.44   \n",
       "236133                           416.56      59.23      27.80      60.71   \n",
       "236155                           402.78      59.52      27.65      60.98   \n",
       "236177                           384.39      59.81      27.50      61.21   \n",
       "236199                           365.02      60.08      27.36      61.44   \n",
       "236221                           342.98      60.35      27.22      61.63   \n",
       "236243                           319.20      60.64      27.07      61.78   \n",
       "236265                           299.05      60.95      26.90      61.87   \n",
       "236287                           276.75      61.31      26.76      61.89   \n",
       "236309                           264.62      61.60      26.68      61.94   \n",
       "236331                           252.68      61.90      26.64      61.96   \n",
       "\n",
       "        br_im_y_x  fl_im_x_x  fl_im_y_x  fr_im_x_x  fr_im_y_x  \\\n",
       "235429      27.86      54.01      26.19      53.77      27.67   \n",
       "235451      27.86      54.01      26.19      53.77      27.67   \n",
       "235473      27.86      54.01      26.19      53.77      27.67   \n",
       "235495      27.86      54.01      26.19      53.77      27.67   \n",
       "235517      27.86      53.99      26.21      53.77      27.69   \n",
       "235539      27.86      53.99      26.21      53.77      27.69   \n",
       "235561      27.88      53.97      26.25      53.81      27.75   \n",
       "235583      27.91      53.94      26.31      53.82      27.81   \n",
       "235605      27.95      53.94      26.38      53.86      27.88   \n",
       "235627      28.02      53.94      26.49      53.90      27.99   \n",
       "235649      28.09      53.94      26.60      53.96      28.10   \n",
       "235671      28.16      53.93      26.77      54.07      28.27   \n",
       "235693      28.23      54.00      26.90      54.18      28.38   \n",
       "235715      28.31      54.03      27.10      54.33      28.56   \n",
       "235737      28.37      54.08      27.28      54.52      28.72   \n",
       "235759      28.38      54.16      27.62      54.86      28.94   \n",
       "235781      28.41      54.29      27.81      55.11      29.07   \n",
       "235803      28.43      54.43      27.98      55.35      29.16   \n",
       "235825      28.42      54.64      28.25      55.72      29.29   \n",
       "235847      28.44      54.88      28.41      56.04      29.37   \n",
       "235869      28.45      55.13      28.57      56.35      29.43   \n",
       "235891      28.47      55.40      28.69      56.66      29.49   \n",
       "235913      28.45      55.73      28.87      57.07      29.53   \n",
       "235935      28.44      56.08      28.99      57.46      29.55   \n",
       "235957      28.45      56.38      29.05      57.78      29.57   \n",
       "235979      28.42      56.75      29.15      58.19      29.57   \n",
       "236001      28.33      57.22      29.30      58.70      29.52   \n",
       "236023      28.26      57.61      29.34      59.11      29.46   \n",
       "236045      28.17      58.02      29.37      59.52      29.37   \n",
       "236067      28.11      58.36      29.33      59.86      29.31   \n",
       "236089      28.06      58.66      29.28      60.16      29.26   \n",
       "236111      28.05      58.85      29.15      60.35      29.25   \n",
       "236133      28.04      59.04      28.99      60.52      29.23   \n",
       "236155      28.03      59.22      28.81      60.68      29.19   \n",
       "236177      28.02      59.39      28.63      60.79      29.15   \n",
       "236199      28.02      59.56      28.44      60.92      29.10   \n",
       "236221      28.00      59.73      28.25      61.01      29.03   \n",
       "236243      28.03      59.87      27.99      61.01      28.95   \n",
       "236265      28.08      60.01      27.64      60.93      28.82   \n",
       "236287      28.14      60.21      27.23      60.79      28.61   \n",
       "236309      28.14      60.43      26.95      60.77      28.41   \n",
       "236331      28.14      60.70      26.68      60.76      28.18   \n",
       "\n",
       "        nflId_blocker_y  nflId_rusher_y displayName_rusher_y  \\\n",
       "235429          52421.0         37097.0       Cameron Jordan   \n",
       "235451          52421.0         37097.0       Cameron Jordan   \n",
       "235473          52421.0         37097.0       Cameron Jordan   \n",
       "235495          52421.0         37097.0       Cameron Jordan   \n",
       "235517          52421.0         37097.0       Cameron Jordan   \n",
       "235539          52421.0         37097.0       Cameron Jordan   \n",
       "235561          52421.0         37097.0       Cameron Jordan   \n",
       "235583          52421.0         37097.0       Cameron Jordan   \n",
       "235605          52421.0         37097.0       Cameron Jordan   \n",
       "235627          52421.0         37097.0       Cameron Jordan   \n",
       "235649          52421.0         37097.0       Cameron Jordan   \n",
       "235671          52421.0         37097.0       Cameron Jordan   \n",
       "235693          52421.0         37097.0       Cameron Jordan   \n",
       "235715          52421.0         37097.0       Cameron Jordan   \n",
       "235737          52421.0         37097.0       Cameron Jordan   \n",
       "235759          52421.0         37097.0       Cameron Jordan   \n",
       "235781          52421.0         37097.0       Cameron Jordan   \n",
       "235803          52421.0         37097.0       Cameron Jordan   \n",
       "235825          52421.0         37097.0       Cameron Jordan   \n",
       "235847          52421.0         37097.0       Cameron Jordan   \n",
       "235869          52421.0         37097.0       Cameron Jordan   \n",
       "235891          52421.0         37097.0       Cameron Jordan   \n",
       "235913          52421.0         37097.0       Cameron Jordan   \n",
       "235935          52421.0         37097.0       Cameron Jordan   \n",
       "235957          52421.0         37097.0       Cameron Jordan   \n",
       "235979          52421.0         37097.0       Cameron Jordan   \n",
       "236001          52421.0         37097.0       Cameron Jordan   \n",
       "236023          52421.0         37097.0       Cameron Jordan   \n",
       "236045          52421.0         37097.0       Cameron Jordan   \n",
       "236067          52421.0         37097.0       Cameron Jordan   \n",
       "236089          52421.0         37097.0       Cameron Jordan   \n",
       "236111          52421.0         37097.0       Cameron Jordan   \n",
       "236133          52421.0         37097.0       Cameron Jordan   \n",
       "236155          52421.0         37097.0       Cameron Jordan   \n",
       "236177          52421.0         37097.0       Cameron Jordan   \n",
       "236199          52421.0         37097.0       Cameron Jordan   \n",
       "236221          52421.0         37097.0       Cameron Jordan   \n",
       "236243          52421.0         37097.0       Cameron Jordan   \n",
       "236265          52421.0         37097.0       Cameron Jordan   \n",
       "236287          52421.0         37097.0       Cameron Jordan   \n",
       "236309          52421.0         37097.0       Cameron Jordan   \n",
       "236331          52421.0         37097.0       Cameron Jordan   \n",
       "\n",
       "       pff_positionLinedUp_rusher_y  x_rusher_y  y_rusher_y  s_rusher_y  \\\n",
       "235429                         LOLB       53.14       28.73        0.00   \n",
       "235451                         LOLB       53.14       28.72        0.00   \n",
       "235473                         LOLB       53.13       28.72        0.00   \n",
       "235495                         LOLB       53.14       28.72        0.00   \n",
       "235517                         LOLB       53.14       28.72        0.00   \n",
       "235539                         LOLB       53.15       28.72        0.00   \n",
       "235561                         LOLB       53.16       28.71        0.04   \n",
       "235583                         LOLB       53.19       28.71        0.21   \n",
       "235605                         LOLB       53.24       28.70        0.54   \n",
       "235627                         LOLB       53.32       28.68        0.95   \n",
       "235649                         LOLB       53.45       28.66        1.36   \n",
       "235671                         LOLB       53.61       28.64        1.69   \n",
       "235693                         LOLB       53.81       28.62        1.96   \n",
       "235715                         LOLB       54.03       28.62        2.16   \n",
       "235737                         LOLB       54.28       28.64        2.34   \n",
       "235759                         LOLB       54.54       28.66        2.45   \n",
       "235781                         LOLB       54.80       28.69        2.53   \n",
       "235803                         LOLB       55.08       28.73        2.67   \n",
       "235825                         LOLB       55.38       28.78        2.79   \n",
       "235847                         LOLB       55.68       28.84        2.88   \n",
       "235869                         LOLB       56.00       28.89        3.04   \n",
       "235891                         LOLB       56.32       28.94        3.11   \n",
       "235913                         LOLB       56.66       28.98        3.25   \n",
       "235935                         LOLB       57.01       29.02        3.35   \n",
       "235957                         LOLB       57.36       29.04        3.40   \n",
       "235979                         LOLB       57.71       29.05        3.45   \n",
       "236001                         LOLB       58.07       29.05        3.44   \n",
       "236023                         LOLB       58.42       29.02        3.44   \n",
       "236045                         LOLB       58.77       28.98        3.37   \n",
       "236067                         LOLB       59.09       28.93        3.19   \n",
       "236089                         LOLB       59.39       28.86        3.01   \n",
       "236111                         LOLB       59.65       28.77        2.71   \n",
       "236133                         LOLB       59.87       28.66        2.43   \n",
       "236155                         LOLB       60.06       28.53        2.19   \n",
       "236177                         LOLB       60.19       28.38        1.96   \n",
       "236199                         LOLB       60.29       28.21        1.84   \n",
       "236221                         LOLB       60.32       28.00        1.90   \n",
       "236243                         LOLB       60.31       27.76        2.17   \n",
       "236265                         LOLB       60.29       27.53        2.36   \n",
       "236287                         LOLB       60.21       27.26        2.67   \n",
       "236309                         LOLB       60.13       26.96        3.07   \n",
       "236331                         LOLB       60.03       26.64        3.30   \n",
       "\n",
       "        a_rusher_y  dis_rusher_y  o_rusher_y  dir_rusher_y  \\\n",
       "235429        0.00          0.00      140.10        123.29   \n",
       "235451        0.00          0.00      140.10        124.83   \n",
       "235473        0.00          0.01      140.10        129.40   \n",
       "235495        0.00          0.00      140.10        128.67   \n",
       "235517        0.00          0.01      138.64        127.88   \n",
       "235539        0.00          0.01      137.36        123.83   \n",
       "235561        0.65          0.01      134.03        102.39   \n",
       "235583        1.60          0.02      134.03        102.20   \n",
       "235605        2.70          0.05      130.77        101.55   \n",
       "235627        3.15          0.09      126.42        102.89   \n",
       "235649        2.80          0.13      126.42        101.32   \n",
       "235671        2.24          0.17      125.52         99.12   \n",
       "235693        1.59          0.20      123.53         96.21   \n",
       "235715        1.06          0.22      122.11         93.19   \n",
       "235737        0.82          0.25      123.73         89.39   \n",
       "235759        0.86          0.26      125.30         86.51   \n",
       "235781        0.86          0.26      128.57         83.45   \n",
       "235803        0.77          0.29      131.63         81.44   \n",
       "235825        0.66          0.30      134.85         79.99   \n",
       "235847        0.57          0.31      137.05         79.04   \n",
       "235869        0.33          0.33      138.54         79.40   \n",
       "235891        0.36          0.32      142.49         80.05   \n",
       "235913        0.40          0.34      146.96         81.85   \n",
       "235935        0.60          0.35      145.37         83.64   \n",
       "235957        0.82          0.35      139.84         85.74   \n",
       "235979        0.99          0.35      147.48         87.93   \n",
       "236001        1.23          0.35      147.48         90.62   \n",
       "236023        1.46          0.36      139.40         93.90   \n",
       "236045        1.65          0.35      136.94         96.55   \n",
       "236067        2.01          0.32      136.16         99.89   \n",
       "236089        2.23          0.31      136.16        102.95   \n",
       "236111        2.67          0.27      137.69        108.00   \n",
       "236133        2.94          0.25      138.43        114.43   \n",
       "236155        3.10          0.23      137.28        122.65   \n",
       "236177        3.18          0.20      140.40        135.27   \n",
       "236199        3.01          0.20      140.40        149.16   \n",
       "236221        3.27          0.21      142.54        165.92   \n",
       "236243        3.45          0.24      145.92        180.76   \n",
       "236265        3.08          0.24      147.17        189.19   \n",
       "236287        2.86          0.27      148.31        196.32   \n",
       "236309        2.09          0.32      171.87        198.56   \n",
       "236331        1.30          0.33      179.04        199.45   \n",
       "\n",
       "       rusher_in_imm_box_y  blocker_rusher_distance_y  \\\n",
       "235429               False                       2.51   \n",
       "235451               False                       2.51   \n",
       "235473               False                       2.51   \n",
       "235495               False                       2.51   \n",
       "235517               False                       2.51   \n",
       "235539               False                       2.50   \n",
       "235561               False                       2.49   \n",
       "235583               False                       2.44   \n",
       "235605               False                       2.39   \n",
       "235627               False                       2.29   \n",
       "235649               False                       2.15   \n",
       "235671               False                       2.01   \n",
       "235693               False                       1.85   \n",
       "235715               False                       1.68   \n",
       "235737               False                       1.53   \n",
       "235759               False                       1.39   \n",
       "235781               False                       1.28   \n",
       "235803               False                       1.17   \n",
       "235825               False                       1.08   \n",
       "235847               False                       1.03   \n",
       "235869               False                       0.97   \n",
       "235891               False                       0.94   \n",
       "235913               False                       0.90   \n",
       "235935               False                       0.89   \n",
       "235957               False                       0.86   \n",
       "235979               False                       0.85   \n",
       "236001               False                       0.83   \n",
       "236023               False                       0.82   \n",
       "236045               False                       0.81   \n",
       "236067               False                       0.81   \n",
       "236089               False                       0.79   \n",
       "236111               False                       0.77   \n",
       "236133               False                       0.75   \n",
       "236155               False                       0.72   \n",
       "236177               False                       0.70   \n",
       "236199               False                       0.70   \n",
       "236221               False                       0.78   \n",
       "236243               False                       0.92   \n",
       "236265               False                       1.12   \n",
       "236287               False                       1.40   \n",
       "236309               False                       1.70   \n",
       "236331               False                       2.04   \n",
       "\n",
       "        diff_btw_rusher_dir_blocker_o_y  bl_im_x_y  bl_im_y_y  br_im_x_y  \\\n",
       "235429                           317.47      55.19      26.38      54.95   \n",
       "235451                           315.93      55.19      26.38      54.95   \n",
       "235473                           311.36      55.19      26.38      54.95   \n",
       "235495                           312.09      55.19      26.38      54.95   \n",
       "235517                           314.03      55.18      26.38      54.96   \n",
       "235539                           318.08      55.18      26.38      54.96   \n",
       "235561                           341.18      55.16      26.38      55.00   \n",
       "235583                           343.03      55.14      26.41      55.02   \n",
       "235605                           345.08      55.14      26.45      55.06   \n",
       "235627                           345.82      55.14      26.52      55.10   \n",
       "235649                           349.30      55.14      26.59      55.16   \n",
       "235671                           355.97      55.13      26.66      55.27   \n",
       "235693                           361.06      55.19      26.75      55.37   \n",
       "235715                           368.65      55.20      26.85      55.50   \n",
       "235737                           377.61      55.23      26.93      55.67   \n",
       "235759                           391.49      55.22      27.06      55.92   \n",
       "235781                           399.92      55.29      27.15      56.11   \n",
       "235803                           406.30      55.38      27.25      56.30   \n",
       "235825                           416.38      55.47      27.38      56.55   \n",
       "235847                           421.39      55.64      27.48      56.80   \n",
       "235869                           425.37      55.82      27.59      57.04   \n",
       "235891                           427.75      56.04      27.67      57.30   \n",
       "235913                           432.02      56.26      27.79      57.60   \n",
       "235935                           434.11      56.53      27.88      57.91   \n",
       "235957                           433.59      56.80      27.93      58.20   \n",
       "235979                           435.66      57.09      28.00      58.53   \n",
       "236001                           441.19      57.39      28.11      58.87   \n",
       "236023                           441.21      57.71      28.14      59.21   \n",
       "236045                           443.43      58.02      28.17      59.52   \n",
       "236067                            81.00      58.34      28.13      59.84   \n",
       "236089                            77.94      58.64      28.08      60.14   \n",
       "236111                           427.80      58.94      27.95      60.44   \n",
       "236133                           416.56      59.23      27.80      60.71   \n",
       "236155                           402.78      59.52      27.65      60.98   \n",
       "236177                           384.39      59.81      27.50      61.21   \n",
       "236199                           365.02      60.08      27.36      61.44   \n",
       "236221                           342.98      60.35      27.22      61.63   \n",
       "236243                           319.20      60.64      27.07      61.78   \n",
       "236265                           299.05      60.95      26.90      61.87   \n",
       "236287                           276.75      61.31      26.76      61.89   \n",
       "236309                           264.62      61.60      26.68      61.94   \n",
       "236331                           252.68      61.90      26.64      61.96   \n",
       "\n",
       "        br_im_y_y  fl_im_x_y  fl_im_y_y  fr_im_x_y  fr_im_y_y  \n",
       "235429      27.86      54.20      26.22      53.96      27.70  \n",
       "235451      27.86      54.20      26.22      53.96      27.70  \n",
       "235473      27.86      54.20      26.22      53.96      27.70  \n",
       "235495      27.86      54.20      26.22      53.96      27.70  \n",
       "235517      27.86      54.19      26.24      53.97      27.72  \n",
       "235539      27.86      54.19      26.24      53.97      27.72  \n",
       "235561      27.88      54.17      26.27      54.01      27.77  \n",
       "235583      27.91      54.14      26.33      54.02      27.83  \n",
       "235605      27.95      54.14      26.39      54.06      27.89  \n",
       "235627      28.02      54.14      26.50      54.10      28.00  \n",
       "235649      28.09      54.14      26.60      54.16      28.10  \n",
       "235671      28.16      54.13      26.75      54.27      28.25  \n",
       "235693      28.23      54.20      26.88      54.38      28.36  \n",
       "235715      28.31      54.22      27.06      54.52      28.52  \n",
       "235737      28.37      54.27      27.22      54.71      28.66  \n",
       "235759      28.38      54.34      27.53      55.04      28.85  \n",
       "235781      28.41      54.45      27.70      55.27      28.96  \n",
       "235803      28.43      54.59      27.86      55.51      29.04  \n",
       "235825      28.42      54.78      28.10      55.86      29.14  \n",
       "235847      28.44      55.00      28.25      56.16      29.21  \n",
       "235869      28.45      55.24      28.41      56.46      29.27  \n",
       "235891      28.47      55.51      28.52      56.77      29.32  \n",
       "235913      28.45      55.82      28.69      57.16      29.35  \n",
       "235935      28.44      56.15      28.81      57.53      29.37  \n",
       "235957      28.45      56.45      28.87      57.85      29.39  \n",
       "235979      28.42      56.81      28.96      58.25      29.38  \n",
       "236001      28.33      57.25      29.10      58.73      29.32  \n",
       "236023      28.26      57.62      29.14      59.12      29.26  \n",
       "236045      28.17      58.02      29.17      59.52      29.17  \n",
       "236067      28.11      58.36      29.13      59.86      29.11  \n",
       "236089      28.06      58.66      29.08      60.16      29.06  \n",
       "236111      28.05      58.87      28.95      60.37      29.05  \n",
       "236133      28.04      59.07      28.79      60.55      29.03  \n",
       "236155      28.03      59.27      28.62      60.73      29.00  \n",
       "236177      28.02      59.46      28.44      60.86      28.96  \n",
       "236199      28.02      59.64      28.26      61.00      28.92  \n",
       "236221      28.00      59.83      28.08      61.11      28.86  \n",
       "236243      28.03      60.00      27.84      61.14      28.80  \n",
       "236265      28.08      60.16      27.52      61.08      28.70  \n",
       "236287      28.14      60.39      27.15      60.97      28.53  \n",
       "236309      28.14      60.63      26.91      60.97      28.37  \n",
       "236331      28.14      60.90      26.68      60.96      28.18  "
      ]
     },
     "execution_count": 107,
     "metadata": {},
     "output_type": "execute_result"
    }
   ],
   "source": [
    "#Print Out All Frames From A Player and Play\n",
    "player_in_play = ptrack.loc[(ptrack['gameId'] == gameId) & (ptrack['playId'] == playId)]['nflId'].reset_index().loc[0, 'nflId']\n",
    "ptrack.loc[(ptrack['gameId'] == gameId) & (ptrack['nflId'] == 52421) & (ptrack['playId'] == playId)].sort_values(by = 'frameId', ascending = True)\n",
    "\n",
    "#Print Out All Frames From Selected Game\n",
    "#ptrack.loc[(ptrack['gameId'] == gameId) & (ptrack['playId'] == playId) & (ptrack['nflId'] == 53440)]\n",
    "\n",
    "#Print Out All Plays From Selected Game\n",
    "#ptrack.loc[(ptrack.gameId == gameId) & (ptrack.playDirection == 'right')]['playId'].sort_values().unique()\n",
    "\n",
    "#Print Out All pbp Data From Selected Play\n",
    "#pbp[(pbp['gameId'] == gameId) & (pbp['playId'] == playId)]\n"
   ]
  },
  {
   "attachments": {},
   "cell_type": "markdown",
   "metadata": {},
   "source": [
    "<font size=\"5\">Explore Effect Of Block Types On Hurry Rate</font>"
   ]
  },
  {
   "cell_type": "code",
   "execution_count": null,
   "metadata": {},
   "outputs": [],
   "source": [
    "#For Each Block Type, Find The Success Rate of A Defesnvie Player Creating A Pressure\n",
    "\n",
    "# #How We Found Positions\n",
    "# #pffScout.pff_positionLinedUp.sort_values().unique()\n",
    "\n",
    "# #Create A New Data Frame Only With 9 D-Linemen Positons\n",
    "# ptrackl = ptrack.loc[(ptrack['pff_positionLinedUp'] == \"LOLB\") | (ptrack['pff_positionLinedUp'] == \"ROLB\") | (ptrack['pff_positionLinedUp'] == \"LEO\") |\n",
    "#     (ptrack['pff_positionLinedUp'] == \"REO\") | (ptrack['pff_positionLinedUp'] == \"DLT\") | (ptrack['pff_positionLinedUp'] == \"DRT\") |\n",
    "#     (ptrack['pff_positionLinedUp'] == \"NLT\") | (ptrack['pff_positionLinedUp'] == \"NRT\") | (ptrack['pff_positionLinedUp'] == \"NT\")]\n",
    "\n",
    "# #Must First Change The pff_blockType in ptrack To A String (Data Did Not Group By Properly When An Int)\n",
    "# ptrackl.pff_blockType = ptrack.pff_blockType.astype(\"str\")\n",
    "\n",
    "# #For Each Block Type, Find The Percentage of Time A Hury Occurs\n",
    "# ptrackl.groupby('pff_blockType')['pff_hurry'].count() #Ideally Would Be .average() Instead\n",
    "\n",
    "# #Frequency of Different Type of Blocks Performed (EDA)\n",
    "# #ptrack.pff_blockType.value_counts()\n",
    "\n",
    "# #Issue Is Only The Players Issuing The Block (Offensive Players) Are Assigned A Block Type\n",
    "# #However, The Defensive Players They Blocked Are Noted In The pff_nflIdBlockedPlayer Column In ptrack"
   ]
  },
  {
   "cell_type": "code",
   "execution_count": null,
   "metadata": {},
   "outputs": [],
   "source": [
    "#Create A Data Frame Containing Only Plays Where A Pass Block Occured (One Row Per Block)\n",
    "# ptrack_blocks = ptrack.loc[ptrack['pff_blockType'] != '0'][['gameId', 'playId', 'nflId', 'pff_nflIdBlockedPlayer', 'pff_blockType', 'pff_hurryAllowed']]\n",
    "\n",
    "# #Reduce To Each Play (One Row Per Interaction Between Blocked Player And Blocker) (First Interation of A Defensive Player Being Blocked In Play)\n",
    "# ptrack_blocks = ptrack_blocks.drop_duplicates() \n",
    "\n",
    "# #Sampler of The ptrack_blocks Data Frame\n",
    "# ptrack_blocks.sort_values('gameId', ascending = False).head(5)\n",
    "\n",
    "# #Show How Often Each Block Type Resulted In A Hurry\n",
    "# ptrack_block_hurry = pd.DataFrame(ptrack_blocks.groupby('pff_blockType')['pff_hurryAllowed'].mean().round(4).sort_values(ascending = False))\n",
    "# ptrack_block_hurry"
   ]
  },
  {
   "cell_type": "code",
   "execution_count": null,
   "metadata": {},
   "outputs": [],
   "source": [
    "#Can Each Offensive Player Only Get One Block Per Play (I'd Assume Not, But Lets Check) (Yes They Do!)\n",
    "# ptrack_blocks_per_play = pd.DataFrame(ptrack_blocks.groupby(['gameId', 'playId', 'nflId'])['pff_blockType'].count())\n",
    "# ptrack_blocks_per_play = ptrack_blocks_per_play.reset_index()\n",
    "\n",
    "# ptrack_blocks_per_play[ptrack_blocks_per_play['pff_blockType'] != 1].head() #No Rows Appear\n",
    "# #Yes! Each Offensive Player Only Gets One Block Per Play!"
   ]
  },
  {
   "attachments": {},
   "cell_type": "markdown",
   "metadata": {
    "tags": []
   },
   "source": [
    "<font size=\"5\"> Explore  Distance From Quarterback At Each Second </font>\n",
    "\n",
    "Each D-Line Position and Each Second Post Snap"
   ]
  },
  {
   "cell_type": "code",
   "execution_count": null,
   "metadata": {},
   "outputs": [],
   "source": [
    "#Create Role-Specific Data Frames\n",
    "# ptrack_prush = ptrack[ptrack.pff_role == \"Pass Rush\"]\n",
    "# ptrack_pblock = ptrack[ptrack.pff_role == \"Pass Block\"]\n",
    "\n",
    "# #Descriptive Stats On Frames In Plays\n",
    "# pd.DataFrame(ptrack.groupby(['gameId', 'playId'])['frameId'].max()).mean()\n",
    "\n",
    "# #Available Roles On The Field\n",
    "# ptrack.pff_role.value_counts()\n",
    "\n",
    "# #Top 8 Most Popular Pass Rush Positions\n",
    "# ptrack_prush.pff_positionLinedUp.value_counts().reset_index().head(8)"
   ]
  },
  {
   "cell_type": "code",
   "execution_count": null,
   "metadata": {},
   "outputs": [],
   "source": [
    "#Display Scatter Plot\n",
    "# ptrack_prush_drt_dist_from_qb = ptrack_prush[ptrack_prush['pff_positionLinedUp'] == 'RE'].groupby('frameId')['dist_from_qb'].mean().reset_index()\n",
    "# plt.scatter(x = ptrack_prush_drt_dist_from_qb.frameId, y = ptrack_prush_drt_dist_from_qb.dist_from_qb, marker = \"8\")\n",
    "# plt.title(\"Average Distance From The Quarterback As Time Progresses (RE)\")\n",
    "# plt.xlabel(\"Frames (10 Frames = 1 Second Post-Snap)\")\n",
    "# plt.ylabel(\"Euclidead Distance From Quarterback\")"
   ]
  },
  {
   "attachments": {},
   "cell_type": "markdown",
   "metadata": {},
   "source": [
    "<font size=\"5\"> Define The \"Immediate Zone\" Depth For Pass Blockers </font>"
   ]
  },
  {
   "cell_type": "code",
   "execution_count": null,
   "metadata": {},
   "outputs": [],
   "source": [
    "#Gather Data And Fields Relevant To Answering The Question\n",
    "\n",
    "# #Crate Data Frame With Only Pass Blocking Plays\n",
    "# ptrack_block = ptrack.loc[ptrack['pff_blockType'] != '0']\n",
    "\n",
    "# #Find Rows With Players Who Were Blocked Against (And Who Have The Role of Pass Rusher)\n",
    "# ptrack_block_rushers = ptrack.loc[(ptrack.nflId.isin(ptrack_block.pff_nflIdBlockedPlayer)) & (ptrack.pff_role == \"Pass Rush\")]\n",
    "# ptrack_block_rushers = ptrack_block_rushers[['gameId', 'playId', 'nflId', 'frameId', 'pff_role', 'pff_positionLinedUp', 'x', 'y', 's', 'a', 'dis', 'o', 'dir', 'displayName']]\n",
    "\n",
    "# #Merge Pass Blocking Plays Data From O-Linemen Perspecitve With Pass Rusher Tracking Data\n",
    "# ptrack_imm_box = ptrack_block.merge(ptrack_block_rushers, left_on = ['gameId', 'playId', 'pff_nflIdBlockedPlayer', 'frameId'], \n",
    "#                                                         right_on = ['gameId', 'playId', 'nflId', 'frameId'], how = 'inner')\n",
    "\n",
    "# #Reduce To Columns Of Interest\n",
    "# ptrack_imm_box = ptrack_imm_box[['gameId', 'playId', 'nflId_x', 'frameId', 'pff_role_x', 'pff_positionLinedUp_x', 'pff_blockType','x_x', 'y_x', 's_x', 'a_x', 'dis_x', 'o_x', 'dir_x', \n",
    "#             'displayName_x','nflId_y', 'pff_role_y', 'pff_positionLinedUp_y', 'x_y', 'y_y', 's_y', 'a_y', 'dis_y', 'o_y', 'dir_y', 'displayName_y']]\n",
    "\n",
    "# #Rename Columns\n",
    "# ptrack_imm_box = ptrack_imm_box.rename(columns = {\"nflId_x\":\"nflId_blocker\", \"displayName_x\": \"displayName_blocker\", \"pff_role_x\": \"pff_role_blocker\", \n",
    "#             \"pff_positionLinedUp_x\": \"pff_positionLinedUp_blocker\", \"x_x\": \"x_blocker\", \"y_x\": \"y_blocker\", \"s_x\": \"s_blocker\", \"a_x\": \"a_blocker\", \"dis_x\": \"dis_blocker\", \n",
    "#             \"o_x\": \"o_blocker\", \"dir_x\": \"dir_blocker\", \"nflId_y\":\"nflId_rusher\", \"displayName_y\": \"displayName_rusher\", \"pff_role_y\": \"pff_role_rusher\", \n",
    "#             \"pff_positionLinedUp_y\": \"pff_positionLinedUp_rusher\", \"x_y\": \"x_rusher\", \"y_y\": \"y_rusher\", \"s_y\": \"s_rusher\", \"a_y\": \"a_rusher\", \"dis_y\": \"dis_rusher\", \n",
    "#             \"o_y\": \"o_rusher\", \"dir_y\": \"dir_rusher\"})\n",
    "\n",
    "# #Calculate Distance Between Pass Blocker And Pass Rusher at Each Frame\n",
    "# ptrack_imm_box['blocker_rusher_distance'] = np.hypot((ptrack_imm_box.y_blocker - ptrack_imm_box.y_rusher), (ptrack_imm_box.x_blocker - ptrack_imm_box.x_rusher))\n",
    "\n",
    "# #Calculate Difference Between Rusher Direction and Blocker Orientation\n",
    "# ptrack_imm_box['diff_btw_rusher_dir_blocker_o'] = abs((ptrack_imm_box.dir_rusher - 180) - ptrack_imm_box.o_blocker)"
   ]
  },
  {
   "cell_type": "code",
   "execution_count": null,
   "metadata": {},
   "outputs": [],
   "source": [
    "#How Far Away From A Blocker Does A Pass Rusher Slow Down or Deccelerate? (1 Yard In Front and 1.5 Yards Across (.75 Either Side))\n",
    "# #Filter Down To Where Rusher Direction and Blocker Orientation Are Generally Matched (25 Degrees In Either Direction)\n",
    "# ptrack_imm_box_10orless = ptrack_imm_box[ptrack_imm_box.diff_btw_rusher_dir_blocker_o < 10]\n",
    "\n",
    "# #Speed\n",
    "# #distance_and_speed = pd.DataFrame(ptrack_imm_box_10orless.groupby(round(ptrack_imm_box_10orless.blocker_rusher_distance,0))['s_rusher'].mean()).reset_index()\n",
    "# #sns.scatterplot(distance_and_speed.blocker_rusher_distance, distance_and_speed.s_rusher)\n",
    "\n",
    "# #Acceleration\n",
    "# distance_and_acceleration = pd.DataFrame(ptrack_imm_box_10orless.groupby(round(ptrack_imm_box_10orless.blocker_rusher_distance,0))['a_rusher'].mean()).reset_index()\n",
    "# sns.scatterplot(distance_and_acceleration.blocker_rusher_distance, distance_and_acceleration.a_rusher)\n",
    "\n",
    "# #Acceleration Hit Their Lowest Rates Within 1-2 Yards of The Pass Blocker!!"
   ]
  },
  {
   "attachments": {},
   "cell_type": "markdown",
   "metadata": {},
   "source": [
    "<font size=\"5\"> Explore The Immediate Zone At Each Frame For Pass Blockers </font>"
   ]
  },
  {
   "cell_type": "code",
   "execution_count": null,
   "metadata": {},
   "outputs": [],
   "source": [
    "#Create The Immediate Zone In The Main ptrack Data Frame \n",
    "\n",
    "# #Define The Width And Depth Of This Zone\n",
    "# imm_box_width = .75\n",
    "# imm_box_depth = 1\n",
    "\n",
    "# #bl = Bottom Left\n",
    "# ptrack['bl_rz_x'] = ptrack.x - (imm_box_width * np.cos(np.radians(ptrack.o)))\n",
    "# ptrack['bl_rz_y'] = ptrack.y + (imm_box_width * np.sin(np.radians(ptrack.o)))\n",
    "\n",
    "# #br = Bottom Right\n",
    "# ptrack['br_rz_x'] = ptrack.x + (imm_box_width * np.cos(np.radians(ptrack.o)))\n",
    "# ptrack['br_rz_y'] = ptrack.y - (imm_box_width * np.sin(np.radians(ptrack.o)))\n",
    "\n",
    "# #fl = Front Left\n",
    "# ptrack['fl_rz_x'] = ptrack.bl_rz_x + (imm_box_depth * np.cos(np.radians(ptrack.o - 90)))\n",
    "# ptrack['fl_rz_y'] = ptrack.bl_rz_y - (imm_box_depth * np.sin(np.radians(ptrack.o - 90)))\n",
    "\n",
    "# #fr = Front Right\n",
    "# ptrack['fr_rz_x'] = ptrack.br_rz_x + (imm_box_depth * np.cos(np.radians(ptrack.o - 90)))\n",
    "# ptrack['fr_rz_y'] = ptrack.br_rz_y - (imm_box_depth * np.sin(np.radians(ptrack.o - 90)))\n"
   ]
  },
  {
   "cell_type": "code",
   "execution_count": null,
   "metadata": {},
   "outputs": [],
   "source": [
    "#Plot Instances of Rushers In A Blocker's Immediate Zone\n",
    "\n",
    "# #Provide Orientation Angle (Whole Number)\n",
    "# o_angle = 50\n",
    "\n",
    "# #In Order To Test If The Above Calculations Are Correct, First Find Plays With A Known Orientation Angle (Choose One)\n",
    "# ptrack_o_filter = ptrack.loc[(ptrack.gameId == 2021090900) & (round(ptrack.o,0) == o_angle)].head(1).reset_index()\n",
    "\n",
    "# #Use The Player, Play, and Frame To Create A Scatter Plot With The Immediate Zone\n",
    "# ptrack_filter = ptrack.loc[(ptrack.gameId == ptrack_o_filter.at[0, 'gameId']) & (ptrack.playId == ptrack_o_filter.at[0, 'playId']) & (ptrack.nflId == ptrack_o_filter.at[0, 'nflId']) & (ptrack.frameId == ptrack_o_filter.at[0, 'frameId'])].reset_index()\n",
    "\n",
    "# #Plot The Immediate Zone On A Play\n",
    "# sns.scatterplot(data = ptrack_filter, x = 'bl_rz_x', y = 'bl_rz_y', marker = '^', s = 200)\n",
    "# sns.scatterplot(data = ptrack_filter, x = 'br_rz_x', y = 'br_rz_y', marker = '^', s = 200)\n",
    "# sns.scatterplot(data = ptrack_filter, x = 'fl_rz_x', y = 'fl_rz_y', marker = 'v', s = 200)\n",
    "# sns.scatterplot(data = ptrack_filter, x = 'fr_rz_x', y = 'fr_rz_y', marker = 'v', s = 200)\n",
    "# sns.scatterplot(x = ptrack_filter.x, y = ptrack_filter.y, marker = 'o', s = 100)\n",
    "# plt.scatter(x = 41.5, y = 21.75, s = 100, marker = 'X')\n",
    "# print(\"Provided Player Orientation In Degrees (Second Number): \", ptrack_filter['o'])"
   ]
  },
  {
   "attachments": {},
   "cell_type": "markdown",
   "metadata": {},
   "source": [
    "<font size=\"5\"> Explore Events Classifications (Understand Beginning and End Of QB Possession) </font>"
   ]
  },
  {
   "cell_type": "code",
   "execution_count": null,
   "metadata": {},
   "outputs": [],
   "source": [
    "#Determine Which Events Are The End Of QB Possession\n",
    "# ptrack.event.value_counts()"
   ]
  },
  {
   "cell_type": "code",
   "execution_count": null,
   "metadata": {},
   "outputs": [],
   "source": [
    "#Establish The Frame In Each Play At Which The Starting/Ending Of QB Possession Occurs With New Columns (2 Minutes Run-Time)\n",
    "\n",
    "# #Temporary Data Frame\n",
    "# ptrack_qb_poss = ptrack\n",
    "\n",
    "# #Arrays of Starting and Ending Values\n",
    "# poss_events = ['ball_snap', 'autoevent_ballsnap','pass_forward', 'autoevent_passforward', 'run', 'qb_sack', 'qb_strip_sack']\n",
    "\n",
    "# #Add Frames Of Events To Each Frame of Each Plays\n",
    "# for i in range(len(poss_events)):\n",
    "#     temp = ptrack.loc[ptrack.event == poss_events[i]][['gameId', 'playId', 'frameId']].drop_duplicates()\n",
    "#     ptrack_qb_poss = ptrack_qb_poss.merge(temp, on = ['gameId', 'playId'], how = \"left\")\n",
    "\n",
    "# #Rename Columns\n",
    "# indices_to_be_changed = [46, 47, 48, 49, 50, 51, 52, 15]\n",
    "# names_to_insert = [\"ball_snap_event_frame\", \"autoevent_ballsnap_event_frame\", \"pass_forward_event_frame\", \"autoevent_passforward_event_frame\", \n",
    "#                    \"run_event_frame\", \"qb_sack_event_frame\", \"qb_strip_sack_event_frame\", \"frameId\"]\n",
    "# for i in range(len(indices_to_be_changed)):\n",
    "#     ptrack_qb_poss.columns.values[indices_to_be_changed[i]] = names_to_insert[i]"
   ]
  },
  {
   "cell_type": "code",
   "execution_count": null,
   "metadata": {},
   "outputs": [],
   "source": [
    "#Reduce 'ball_snap', 'autoevent_ballsnap','pass_forward', and 'autoevent_passforward' To Just Two Columns\n",
    "\n",
    "# #If Any Column of The Four of Interest Is Null, Fill Them So They Can Be Compared\n",
    "# poss_events_to_be_condensed = ['ball_snap_event_frame', \"autoevent_ballsnap_event_frame\", \"pass_forward_event_frame\", \"autoevent_passforward_event_frame\"]\n",
    "# for i in range(len(poss_events_to_be_condensed)):\n",
    "#     if i <= 1: #For Ball Snap, Fill With A Frame Greater Than The Max In Any Play (Since We Want The Lesser)\n",
    "#         ptrack_qb_poss[poss_events_to_be_condensed[i]] = ptrack_qb_poss[poss_events_to_be_condensed[i]].fillna(250)\n",
    "#     else: #For Pass Forward, Fill With A Frame Lesser Than The Min In Any Play (Since We Want Greater Than)\n",
    "#         ptrack_qb_poss[poss_events_to_be_condensed[i]] = ptrack_qb_poss[poss_events_to_be_condensed[i]].fillna(-1)\n",
    "    \n",
    "# #Determine Earlier of \"ball_snap_event_frame\" and \"autoevent_ballsnap_event_frame\", Smaller Of The Two Into \"ball_snap_event_frame_\" (Doesn't Affect Calculations Much & More Time The Better)\n",
    "# ptrack_qb_poss[\"ball_snap_event_frame_\"] = np.where(ptrack_qb_poss[\"ball_snap_event_frame\"] <= ptrack_qb_poss[\"autoevent_ballsnap_event_frame\"], ptrack_qb_poss[\"ball_snap_event_frame\"], ptrack_qb_poss[\"autoevent_ballsnap_event_frame\"])\n",
    "\n",
    "# #Determine Earlier of \"pass_forward_event_frame\" and \"autoevent_passforward_event_frame\", Larger Of The Two Into \"pass_forward_event_frame_\" (Expect Rushers To Not Give Up Until Ball Fully Out of Pocket)\n",
    "# ptrack_qb_poss[\"pass_forward_event_frame_\"] = np.where(ptrack_qb_poss[\"pass_forward_event_frame\"] >= ptrack_qb_poss[\"autoevent_passforward_event_frame\"], ptrack_qb_poss[\"pass_forward_event_frame\"], ptrack_qb_poss[\"autoevent_passforward_event_frame\"])\n",
    "\n",
    "# #When Both Auto and Non-Auto Columns Are Null, Set Their Values Appropriately\n",
    "# ptrack_qb_poss.loc[ptrack_qb_poss[\"ball_snap_event_frame_\"] == 250, \"ball_snap_event_frame_\"] = 1 #If No Ball Snap Is Recorded, Set QB Possesion Starting at Frame 1\n",
    "# ptrack_qb_poss.loc[ptrack_qb_poss[\"pass_forward_event_frame_\"] == -1, \"pass_forward_event_frame_\"] = np.nan #If No Pass Forward Is Recorded, Don't Make It End Of Possession\n",
    "\n",
    "# #Remove The Four Uneccessary Columns and Rename The Two Now In Their Place\n",
    "# ptrack_qb_poss = ptrack_qb_poss.drop(['ball_snap_event_frame', 'autoevent_ballsnap_event_frame', 'pass_forward_event_frame',\t'autoevent_passforward_event_frame'], axis = 1)\n",
    "# ptrack_qb_poss = ptrack_qb_poss.rename(columns = {\"ball_snap_event_frame_\": \"ball_snap_event_frame\", \"pass_forward_event_frame_\": \"pass_forward_event_frame\"})"
   ]
  },
  {
   "cell_type": "code",
   "execution_count": null,
   "metadata": {},
   "outputs": [],
   "source": [
    "#Do Strip Sacks and Sacks Occur In The Same Play? (Nope, They Are Mutually Exclusive)\n",
    "# ptrack_qb_poss.loc[(ptrack_qb_poss.qb_sack_event_frame.notnull() == True) & (ptrack_qb_poss.qb_strip_sack_event_frame.notnull == True)]"
   ]
  },
  {
   "cell_type": "code",
   "execution_count": null,
   "metadata": {},
   "outputs": [],
   "source": [
    "#Who Is Being Fumbled On The 17 Fumble Plays? We Need To Identify If These Fumbles Are The QB (End Possession) And If The QB Recovered To Keep Retain Possssion\n",
    "# ptrack_fumbles = ptrack_qb_poss.loc[ptrack_qb_poss['event'] == 'fumble'] [['gameId', 'playId', 'event']].drop_duplicates()\n",
    "# ptrack_fumbles = pbp.merge(ptrack_fumbles, on = ['gameId', 'playId'], how = 'inner')[['gameId', 'playId', 'playDescription', 'week']]\n",
    "# #ptrack_fumbles\n",
    "\n",
    "# #Should Make Fumbles End of Possession?\n",
    "\n",
    "# # Index GameId      PlayId  Week    QB Fumbled?  QB Recovered? End Of Possession?\n",
    "# # 0     2021090900\t1776\t1       Yes          Yes           No\n",
    "# # 1\t    2021091207\t3148\t1       Yes          No            No (Bc Sack Came Right After)\n",
    "# # 2\t    2021091913\t865\t    2       Yes          Yes           No\n",
    "# # 3\t    2021092606\t3870\t3       Yes          No            No (Poss Already Ended W Strip Sack)\n",
    "# # 4\t    2021092610\t839\t    3       Yes          Yes           No\n",
    "# # 5\t    2021092610\t2033\t3       Yes          Yes           No\n",
    "# # 6\t    2021100302\t3524\t4       Yes          No            No (Poss Already Ended W Strip Sack)\n",
    "# # 7\t    2021100304\t293\t    4       Yes          Yes(Not Rec.) No (Ends Up Throwing)\n",
    "# # 8\t    2021100304\t2703    4\t    Yes          No            No (Poss Already Ended W Strip Sack)\n",
    "# # 9\t    2021100307\t2997    4\t    Yes          Yes           No\n",
    "# # 10\t2021101706\t73\t    6       Yes          No(Not Rec.)  No (Ends Up Throwing Somehow)\n",
    "# # 11\t2021101707\t2181    6\t    Yes          Yes           No\n",
    "# # 12\t2021102405\t507     7       Yes          No            No (Poss Already Ended W Strip Sack)\n",
    "# # 13\t2021102500\t1953\t7       Yes          Yes           No\n",
    "# # 14\t2021103105\t2596\t8       Yes          Yes           No\n",
    "# # 15\t2021103110\t1742\t8       Yes          Yes           No (Sack Came Later In Play)\n",
    "# # 16\t2021103111\t3246    8       Yes          Yes           No\n",
    "\n",
    "# #Fumbles Will Not Be Marked As The End of Any Possession, Because In All Case The QB Either Recovers The Football Himself Or Has Already Been Sacked\n"
   ]
  },
  {
   "cell_type": "code",
   "execution_count": null,
   "metadata": {},
   "outputs": [],
   "source": [
    "#Filter Out Rows That Don't Satisfy QB Possesion Conditions\n",
    "\n",
    "# #Drop All That Come BEFORE Ball Snap\n",
    "# ptrack_qb_poss_test = ptrack_qb_poss.drop(ptrack_qb_poss[ptrack_qb_poss.frameId < ptrack_qb_poss.ball_snap_event_frame].index) \n",
    "\n",
    "# #Drop All That Come AFTER QB Sack, QB Strip Sack, Run, Pass Forward In That Order (If The Event Isn't In The Play Nothing Will Be Dropped)\n",
    "\n",
    "# #If A QB Is Sacked, There's Nothing More A Line Can Do (Although Sometimes The QB Can Get The Pass Off). That's Why Strip & Normal Sacks Are The First Two.\n",
    "# #If A QB Runs And Then Throws, We Say That He's Too Far Away For Linemen For It To Be Fair. If Pass Then Run, Count The Pass Frame First.\n",
    "\n",
    "# ending_event_frames = ['qb_sack_event_frame', 'qb_strip_sack_event_frame', 'run_event_frame', 'pass_forward_event_frame']\n",
    "# for i in range(len(ending_event_frames)):\n",
    "#     ptrack_qb_poss_test = ptrack_qb_poss_test.drop(ptrack_qb_poss_test[ptrack_qb_poss_test['frameId'] > ptrack_qb_poss_test[ending_event_frames[i]]].index) "
   ]
  },
  {
   "cell_type": "code",
   "execution_count": null,
   "metadata": {},
   "outputs": [],
   "source": [
    "#Ensure That The Possession Beginning and End Are Properly Filtered Out\n",
    "\n",
    "# #Test Different Events Happening\n",
    "# test = ptrack_qb_poss.loc[ptrack_qb_poss['qb_sack_event_frame'].isna() == False][['gameId', 'nflId', 'playId']].reset_index()\n",
    "# gameId = test.loc[0, \"gameId\"]\n",
    "# nflId = test.loc[0, \"nflId\"]\n",
    "# playId = test.loc[0, \"playId\"]\n",
    "\n",
    "# #Show All Plays And Look If Frames Are Properly Filtered\n",
    "# ptrack_qb_poss_test.loc[(ptrack_qb_poss_test['gameId'] == gameId) & (ptrack_qb_poss_test['nflId'] == nflId) & (ptrack_qb_poss_test['playId'] == playId)][['frameId', 'event', 'ball_snap_event_frame','run_event_frame', 'pass_forward_event_frame', 'qb_sack_event_frame', 'qb_strip_sack_event_frame']]"
   ]
  },
  {
   "attachments": {},
   "cell_type": "markdown",
   "metadata": {},
   "source": [
    "<font size=\"5\"> Explore PFF Data Related To QBs Ability To Be Elusive Under Pressure  </font>"
   ]
  },
  {
   "cell_type": "code",
   "execution_count": 47,
   "metadata": {},
   "outputs": [
    {
     "data": {
      "text/html": [
       "<div>\n",
       "<style scoped>\n",
       "    .dataframe tbody tr th:only-of-type {\n",
       "        vertical-align: middle;\n",
       "    }\n",
       "\n",
       "    .dataframe tbody tr th {\n",
       "        vertical-align: top;\n",
       "    }\n",
       "\n",
       "    .dataframe thead th {\n",
       "        text-align: right;\n",
       "    }\n",
       "</style>\n",
       "<table border=\"1\" class=\"dataframe\">\n",
       "  <thead>\n",
       "    <tr style=\"text-align: right;\">\n",
       "      <th></th>\n",
       "      <th>player</th>\n",
       "      <th>player_id</th>\n",
       "      <th>team_name</th>\n",
       "      <th>player_game_count</th>\n",
       "      <th>base_dropbacks</th>\n",
       "      <th>pressure_dropbacks</th>\n",
       "      <th>pressure_dropbacks_percent</th>\n",
       "      <th>pressure_sack_percent</th>\n",
       "      <th>pressure_sacks</th>\n",
       "      <th>pressure_scrambles</th>\n",
       "      <th>pressure_scrambles_percent</th>\n",
       "    </tr>\n",
       "  </thead>\n",
       "  <tbody>\n",
       "    <tr>\n",
       "      <th>0</th>\n",
       "      <td>Justin Fields</td>\n",
       "      <td>82118</td>\n",
       "      <td>CHI</td>\n",
       "      <td>8</td>\n",
       "      <td>212</td>\n",
       "      <td>82</td>\n",
       "      <td>38.7</td>\n",
       "      <td>31.7</td>\n",
       "      <td>26</td>\n",
       "      <td>14</td>\n",
       "      <td>17.1</td>\n",
       "    </tr>\n",
       "    <tr>\n",
       "      <th>1</th>\n",
       "      <td>Lamar Jackson</td>\n",
       "      <td>46416</td>\n",
       "      <td>BLT</td>\n",
       "      <td>7</td>\n",
       "      <td>276</td>\n",
       "      <td>102</td>\n",
       "      <td>37.0</td>\n",
       "      <td>20.6</td>\n",
       "      <td>21</td>\n",
       "      <td>17</td>\n",
       "      <td>16.7</td>\n",
       "    </tr>\n",
       "    <tr>\n",
       "      <th>2</th>\n",
       "      <td>Taylor Heinicke</td>\n",
       "      <td>9896</td>\n",
       "      <td>WAS</td>\n",
       "      <td>8</td>\n",
       "      <td>316</td>\n",
       "      <td>97</td>\n",
       "      <td>30.7</td>\n",
       "      <td>14.4</td>\n",
       "      <td>14</td>\n",
       "      <td>14</td>\n",
       "      <td>14.4</td>\n",
       "    </tr>\n",
       "    <tr>\n",
       "      <th>3</th>\n",
       "      <td>Jalen Hurts</td>\n",
       "      <td>40291</td>\n",
       "      <td>PHI</td>\n",
       "      <td>8</td>\n",
       "      <td>304</td>\n",
       "      <td>114</td>\n",
       "      <td>37.5</td>\n",
       "      <td>12.3</td>\n",
       "      <td>14</td>\n",
       "      <td>16</td>\n",
       "      <td>14.0</td>\n",
       "    </tr>\n",
       "    <tr>\n",
       "      <th>4</th>\n",
       "      <td>Jameis Winston</td>\n",
       "      <td>9434</td>\n",
       "      <td>NO</td>\n",
       "      <td>7</td>\n",
       "      <td>191</td>\n",
       "      <td>80</td>\n",
       "      <td>41.9</td>\n",
       "      <td>13.8</td>\n",
       "      <td>11</td>\n",
       "      <td>11</td>\n",
       "      <td>13.8</td>\n",
       "    </tr>\n",
       "  </tbody>\n",
       "</table>\n",
       "</div>"
      ],
      "text/plain": [
       "            player  player_id team_name  player_game_count  base_dropbacks  \\\n",
       "0    Justin Fields      82118       CHI                  8             212   \n",
       "1    Lamar Jackson      46416       BLT                  7             276   \n",
       "2  Taylor Heinicke       9896       WAS                  8             316   \n",
       "3      Jalen Hurts      40291       PHI                  8             304   \n",
       "4   Jameis Winston       9434        NO                  7             191   \n",
       "\n",
       "   pressure_dropbacks  pressure_dropbacks_percent  pressure_sack_percent  \\\n",
       "0                  82                        38.7                   31.7   \n",
       "1                 102                        37.0                   20.6   \n",
       "2                  97                        30.7                   14.4   \n",
       "3                 114                        37.5                   12.3   \n",
       "4                  80                        41.9                   13.8   \n",
       "\n",
       "   pressure_sacks  pressure_scrambles  pressure_scrambles_percent  \n",
       "0              26                  14                        17.1  \n",
       "1              21                  17                        16.7  \n",
       "2              14                  14                        14.4  \n",
       "3              14                  16                        14.0  \n",
       "4              11                  11                        13.8  "
      ]
     },
     "execution_count": 47,
     "metadata": {},
     "output_type": "execute_result"
    }
   ],
   "source": [
    "#Look At PFF Data on QB Elusiveness Under Pressure (Top 34 Quarterbacks In Terms of Dropbacks, Weeks 1-8 2021 Season)\n",
    "pff_qb_pressure.head()"
   ]
  },
  {
   "cell_type": "code",
   "execution_count": 56,
   "metadata": {},
   "outputs": [
    {
     "data": {
      "image/png": "[encoded data removed]",
      "text/plain": [
       "<Figure size 864x648 with 1 Axes>"
      ]
     },
     "metadata": {
      "needs_background": "light"
     },
     "output_type": "display_data"
    }
   ],
   "source": [
    "#Look At The Top 34 Quarterbacks By Total Snaps Taken During Weeks 1-8 During The 2021 Season\n",
    "plt.rcParams[\"figure.figsize\"] = [12, 9]\n",
    "\n",
    "ax = pff_qb_pressure.plot.scatter(x = 'pressure_scrambles_percent', y = 'pressure_sack_percent')\n",
    "ax.invert_xaxis()\n",
    "ax.invert_yaxis()\n",
    "\n",
    "for i, txt in enumerate(pff_qb_pressure.player):\n",
    "   ax.annotate(txt, (pff_qb_pressure.pressure_scrambles_percent.iat[i]+0.05, pff_qb_pressure.pressure_sack_percent.iat[i]))"
   ]
  },
  {
   "cell_type": "code",
   "execution_count": 38,
   "metadata": {},
   "outputs": [],
   "source": [
    "#Import Stats Pressure Stats \n",
    "pff_qb_pressure_wks_1_4 = pd.read_csv(\"C:/Users/Peter/Python Scripts/Case Competitions/NFL Big Data Bowl 2023/merged_data/passing_pressure_wks_1-4.csv\") #Import PFF Data On QB Pressures\n",
    "pff_qb_pressure_wks_5_8 = pd.read_csv(\"C:/Users/Peter/Python Scripts/Case Competitions/NFL Big Data Bowl 2023/merged_data/passing_pressure_wks_5-8.csv\") #Import PFF Data On QB Pressures\n",
    "\n",
    "#Merge And See Which Stablizes Faster\n",
    "pff_qb_pressure_wks_c = pff_qb_pressure_wks_1_4.merge(pff_qb_pressure_wks_5_8, on = ['player', 'player_id', 'team_name'], how = 'inner')\n",
    "\n",
    "#Minimum 30 Pressure Dropbacks For Each Segment\n",
    "pff_qb_pressure_wks_c_30_db = pff_qb_pressure_wks_c.loc[(pff_qb_pressure_wks_c.pressure_dropbacks_14 >= 30) & (pff_qb_pressure_wks_c.pressure_dropbacks_58 >= 30)]"
   ]
  },
  {
   "cell_type": "code",
   "execution_count": 49,
   "metadata": {},
   "outputs": [
    {
     "name": "stdout",
     "output_type": "stream",
     "text": [
      "0.5440927077444884\n"
     ]
    }
   ],
   "source": [
    "#Correlation Between Pressure Scramble Percent in Weeks 1-4 vs Weeks 5-8\n",
    "# corr, _ = spearmanr(pff_qb_pressure_wks_c_30_db.pressure_scrambles_percent_14.astype(float), pff_qb_pressure_wks_c_30_db.pressure_scrambles_percent_58.astype(float))\n",
    "\n",
    "#Correlation Between Pressure Sack Percent in Weeks 1-4 vs Weeks 5-8\n",
    "corr, _ = spearmanr(pff_qb_pressure_wks_c_30_db.pressure_sack_percent_14.astype(float), pff_qb_pressure_wks_c_30_db.pressure_sack_percent_58.astype(float))\n",
    "print(corr)\n",
    "\n",
    "#Pressure Sack Percent Seems To Normalize Quicker Over A 8 Week Sample (.544 Spearman R vs .521 Spearman R)\n",
    "#QB Can Scramble But Still Get Sacked, But With Sack Avoidance The QB Can Be In The Pocket And The Rusher Still Has A Shot of Reaching Them"
   ]
  },
  {
   "cell_type": "markdown",
   "metadata": {},
   "source": [
    "<font size=\"5\"> Explore Speed and Acceleration of The Pass Rusher Coming Into The Immediate Zone </font>"
   ]
  },
  {
   "cell_type": "code",
   "execution_count": 119,
   "metadata": {},
   "outputs": [
    {
     "name": "stderr",
     "output_type": "stream",
     "text": [
      "C:\\Users\\Peter\\AppData\\Local\\Temp\\ipykernel_12960\\3283763428.py:6: SettingWithCopyWarning:\n",
      "\n",
      "\n",
      "A value is trying to be set on a copy of a slice from a DataFrame.\n",
      "Try using .loc[row_indexer,col_indexer] = value instead\n",
      "\n",
      "See the caveats in the documentation: https://pandas.pydata.org/pandas-docs/stable/user_guide/indexing.html#returning-a-view-versus-a-copy\n",
      "\n",
      "C:\\Users\\Peter\\AppData\\Local\\Temp\\ipykernel_12960\\3283763428.py:7: SettingWithCopyWarning:\n",
      "\n",
      "\n",
      "A value is trying to be set on a copy of a slice from a DataFrame.\n",
      "Try using .loc[row_indexer,col_indexer] = value instead\n",
      "\n",
      "See the caveats in the documentation: https://pandas.pydata.org/pandas-docs/stable/user_guide/indexing.html#returning-a-view-versus-a-copy\n",
      "\n"
     ]
    }
   ],
   "source": [
    "#Create Data Frame With Only Pass Blocking Plays and Where The Player Rusher Is Known And Is A Pass Rusher \n",
    "#These Are All The Columns For Which The Immediate Zone Was Calculated And Where The QB Has Possession of The Football\n",
    "ptrack_qb_poss_block = ptrack_qb_poss.loc[(ptrack_qb_poss['pff_blockType'] != '0') & (ptrack_qb_poss['pff_nflIdBlockedPlayer'] == ptrack_qb_poss['nflId_rusher'])]\n",
    "\n",
    "#Create Composite PK of gameId, playId, and nflId \n",
    "ptrack_qb_poss_block[['gameId', 'playId', 'nflId']] = ptrack_qb_poss_block[['gameId', 'playId', 'nflId']].astype(str)\n",
    "ptrack_qb_poss_block['game_play_nfl_Id'] = ptrack_qb_poss_block[[\"gameId\", \"playId\", 'nflId']].apply(\"-\".join, axis=1)\n",
    "\n",
    "#These Are All The Columns For Which The Immediate Zone Was Calculated And Where The QB Has Possession of The Football"
   ]
  },
  {
   "cell_type": "code",
   "execution_count": null,
   "metadata": {},
   "outputs": [],
   "source": [
    "#Percent of Time That Pass Rusher Is Already In Zone On First Frame Of Play (No Frame To Measure Speed/Acceleration)\n",
    "position_no_speed = ptrack_qb_poss_block.loc[(ptrack_qb_poss_block.frameId == ptrack_qb_poss_block.frame_first) & (ptrack_qb_poss_block.pff_positionLinedUp == \"C\")]['rusher_in_imm_box'].value_counts()[1]\n",
    "position_no_speed/ptrack_qb_poss_block.loc[(ptrack_qb_poss_block.frameId == ptrack_qb_poss_block.frame_first)  & (ptrack_qb_poss_block.pff_positionLinedUp == \"C\")].shape[0]\n",
    "\n",
    "#Measuring 1 Frame Before Rusher Enters The Immediate Zone Means ~15% of The Time We Won't Have Access To Rusher Speed\n",
    "\n",
    "#- Rates of No Rusher Data Prior To Immediate Zone\n",
    "\n",
    "#    - Centers = 20.5%\n",
    "#    - Left Guards = 21.6% \n",
    "#    - Right Guards = 18.8%\n",
    "#    - Left Tackle = 7.8%\n",
    "#    - Right Tackle = 11.1%\n",
    "\n",
    "#Becuase Of This, Use Speed In First Frame In The Immediate Zone On A Play"
   ]
  },
  {
   "cell_type": "code",
   "execution_count": null,
   "metadata": {},
   "outputs": [],
   "source": [
    "#What Is The X Percentile Minimum Distance That A Pass Rusher Ever Gets From A Blocker\n",
    "ptrack_qb_poss_block.groupby(['gameId', 'playId', 'nflId'])['blocker_rusher_distance'].min().quantile([.9, .95, .97, .98,.99, 1])\n",
    "\n",
    "#98th Percentile For Minimum Distance When Blocks Occur Is 1.52 Yards, So Depth Should Be About That Much"
   ]
  },
  {
   "cell_type": "code",
   "execution_count": null,
   "metadata": {},
   "outputs": [],
   "source": [
    "#Look At Occurances Where The Minimum Distance Is More Than 1.68 Yards (Maximum Distance At .75 X 1.5 Yards Immediate Zone Blocker From Rusher)\n",
    "ptrack_min_rusher_blocker_dist = ptrack_qb_poss_block.groupby(['gameId', 'playId', 'nflId'])['blocker_rusher_distance'].min().reset_index()\n",
    "ptrack_min_rusher_blocker_dist.loc[ptrack_min_rusher_blocker_dist.blocker_rusher_distance >= 1.68].shape\n",
    "\n",
    "#Since There Are Only 570 Instances Out of 47904 (or 1.1%), We Should Consider Removing All Instances Where Minimum Distance Is More Than 1.68 Yards"
   ]
  },
  {
   "cell_type": "code",
   "execution_count": 124,
   "metadata": {},
   "outputs": [
    {
     "data": {
      "text/plain": [
       "0.0336912897277362"
      ]
     },
     "execution_count": 124,
     "metadata": {},
     "output_type": "execute_result"
    }
   ],
   "source": [
    "#Count the Number of Plays That Don't Have The Rusher Enter The Immediate Zone\n",
    "count_no_imm_box = pd.DataFrame(ptrack_qb_poss_block.groupby('game_play_nfl_Id')['rusher_in_imm_box'].value_counts())\n",
    "count_no_imm_box = count_no_imm_box.rename(columns = {'rusher_in_imm_box': 'count'})\n",
    "count_no_imm_box = count_no_imm_box.reset_index()\n",
    "\n",
    "#Percentage of Rushers Never In The Immediate Zone On A Play\n",
    "count_no_imm_box[count_no_imm_box.groupby('game_play_nfl_Id')['game_play_nfl_Id'].transform('size') < 2].loc[count_no_imm_box['rusher_in_imm_box'] == False].shape[0]/ptrack_qb_poss_block.game_play_nfl_Id.drop_duplicates().shape[0]\n",
    "\n",
    "# #Examine The Data\n",
    "# no_imm_box = count_no_imm_box[count_no_imm_box.groupby('game_play_nfl_Id')['game_play_nfl_Id'].transform('size') < 2].loc[count_no_imm_box['rusher_in_imm_box'] == False]\n",
    "# no_imm_box = ptrack_qb_poss_block.merge(no_imm_box, on = 'game_play_nfl_Id', how = 'inner')\n",
    "\n",
    "#Number of Rushers That Never Even Enter The Immediate Zone: 11,428 Out of The 46,096"
   ]
  },
  {
   "cell_type": "code",
   "execution_count": 125,
   "metadata": {},
   "outputs": [
    {
     "data": {
      "text/html": [
       "<div>\n",
       "<style scoped>\n",
       "    .dataframe tbody tr th:only-of-type {\n",
       "        vertical-align: middle;\n",
       "    }\n",
       "\n",
       "    .dataframe tbody tr th {\n",
       "        vertical-align: top;\n",
       "    }\n",
       "\n",
       "    .dataframe thead th {\n",
       "        text-align: right;\n",
       "    }\n",
       "</style>\n",
       "<table border=\"1\" class=\"dataframe\">\n",
       "  <thead>\n",
       "    <tr style=\"text-align: right;\">\n",
       "      <th></th>\n",
       "      <th>game_play_nfl_Id</th>\n",
       "      <th>rusher_in_imm_box</th>\n",
       "      <th>count</th>\n",
       "    </tr>\n",
       "  </thead>\n",
       "  <tbody>\n",
       "    <tr>\n",
       "      <th>29</th>\n",
       "      <td>2021090900-1267-42377</td>\n",
       "      <td>0.0</td>\n",
       "      <td>32</td>\n",
       "    </tr>\n",
       "    <tr>\n",
       "      <th>103</th>\n",
       "      <td>2021090900-1563-47873</td>\n",
       "      <td>0.0</td>\n",
       "      <td>28</td>\n",
       "    </tr>\n",
       "    <tr>\n",
       "      <th>118</th>\n",
       "      <td>2021090900-1687-37082</td>\n",
       "      <td>0.0</td>\n",
       "      <td>33</td>\n",
       "    </tr>\n",
       "    <tr>\n",
       "      <th>143</th>\n",
       "      <td>2021090900-1776-46119</td>\n",
       "      <td>0.0</td>\n",
       "      <td>30</td>\n",
       "    </tr>\n",
       "    <tr>\n",
       "      <th>146</th>\n",
       "      <td>2021090900-1776-47873</td>\n",
       "      <td>0.0</td>\n",
       "      <td>30</td>\n",
       "    </tr>\n",
       "    <tr>\n",
       "      <th>...</th>\n",
       "      <td>...</td>\n",
       "      <td>...</td>\n",
       "      <td>...</td>\n",
       "    </tr>\n",
       "    <tr>\n",
       "      <th>89040</th>\n",
       "      <td>2021110100-3831-43695</td>\n",
       "      <td>0.0</td>\n",
       "      <td>30</td>\n",
       "    </tr>\n",
       "    <tr>\n",
       "      <th>89068</th>\n",
       "      <td>2021110100-3909-47959</td>\n",
       "      <td>0.0</td>\n",
       "      <td>39</td>\n",
       "    </tr>\n",
       "    <tr>\n",
       "      <th>89069</th>\n",
       "      <td>2021110100-3909-52507</td>\n",
       "      <td>0.0</td>\n",
       "      <td>39</td>\n",
       "    </tr>\n",
       "    <tr>\n",
       "      <th>89078</th>\n",
       "      <td>2021110100-393-53655</td>\n",
       "      <td>0.0</td>\n",
       "      <td>61</td>\n",
       "    </tr>\n",
       "    <tr>\n",
       "      <th>89221</th>\n",
       "      <td>2021110100-724-53492</td>\n",
       "      <td>0.0</td>\n",
       "      <td>20</td>\n",
       "    </tr>\n",
       "  </tbody>\n",
       "</table>\n",
       "<p>1553 rows × 3 columns</p>\n",
       "</div>"
      ],
      "text/plain": [
       "            game_play_nfl_Id  rusher_in_imm_box  count\n",
       "29     2021090900-1267-42377                0.0     32\n",
       "103    2021090900-1563-47873                0.0     28\n",
       "118    2021090900-1687-37082                0.0     33\n",
       "143    2021090900-1776-46119                0.0     30\n",
       "146    2021090900-1776-47873                0.0     30\n",
       "...                      ...                ...    ...\n",
       "89040  2021110100-3831-43695                0.0     30\n",
       "89068  2021110100-3909-47959                0.0     39\n",
       "89069  2021110100-3909-52507                0.0     39\n",
       "89078   2021110100-393-53655                0.0     61\n",
       "89221   2021110100-724-53492                0.0     20\n",
       "\n",
       "[1553 rows x 3 columns]"
      ]
     },
     "execution_count": 125,
     "metadata": {},
     "output_type": "execute_result"
    }
   ],
   "source": [
    "#Examine The Data\n",
    "no_imm_box = count_no_imm_box[count_no_imm_box.groupby('game_play_nfl_Id')['game_play_nfl_Id'].transform('size') < 2].loc[count_no_imm_box['rusher_in_imm_box'] == False]\n",
    "no_imm_box = ptrack_qb_poss_block.merge(no_imm_box, on = 'game_play_nfl_Id', how = 'inner')\n",
    "\n",
    "#Number of Rushers That Never Even Enter The Immediate Zone: 3,521 Out of The 46,096\n",
    "count_no_imm_box[count_no_imm_box.groupby('game_play_nfl_Id')['game_play_nfl_Id'].transform('size') < 2].loc[count_no_imm_box['rusher_in_imm_box'] == False]"
   ]
  },
  {
   "cell_type": "code",
   "execution_count": 44,
   "metadata": {},
   "outputs": [
    {
     "data": {
      "text/plain": [
       "186.11"
      ]
     },
     "execution_count": 44,
     "metadata": {},
     "output_type": "execute_result"
    }
   ],
   "source": [
    "#Understand How The Immediate Zone Needs To Be Expanded, Since 3% of Rushers Are Not Entering The Immediate Zone\n",
    "\n",
    "#Compare Distances To Rest of Data\n",
    "# no_imm_box.blocker_rusher_distance.median()\n",
    "# ptrack_qb_poss_block.blocker_rusher_distance.median()\n",
    "\n",
    "#Compare Direction To Rest of Data\n",
    "# no_imm_box.diff_btw_rusher_dir_blocker_o.median()\n",
    "# ptrack_qb_poss_block.diff_btw_rusher_dir_blocker_o.median()\n",
    "\n",
    "#When Rushers Aren't Being Registered, It Seems That They're Not Running Directly Into The Blocker (Solution: Widen The Zone)"
   ]
  },
  {
   "attachments": {},
   "cell_type": "markdown",
   "metadata": {},
   "source": [
    "<font size=\"5\"> Look At Specific Plays With The Immediate Zone Vizualized  </font>"
   ]
  },
  {
   "cell_type": "code",
   "execution_count": 130,
   "metadata": {},
   "outputs": [
    {
     "data": {
      "text/html": [
       "<div>\n",
       "<style scoped>\n",
       "    .dataframe tbody tr th:only-of-type {\n",
       "        vertical-align: middle;\n",
       "    }\n",
       "\n",
       "    .dataframe tbody tr th {\n",
       "        vertical-align: top;\n",
       "    }\n",
       "\n",
       "    .dataframe thead th {\n",
       "        text-align: right;\n",
       "    }\n",
       "</style>\n",
       "<table border=\"1\" class=\"dataframe\">\n",
       "  <thead>\n",
       "    <tr style=\"text-align: right;\">\n",
       "      <th></th>\n",
       "      <th>Unnamed: 0</th>\n",
       "      <th>gameId</th>\n",
       "      <th>playId</th>\n",
       "      <th>nflId</th>\n",
       "      <th>pff_role</th>\n",
       "      <th>pff_positionLinedUp</th>\n",
       "      <th>pff_hit</th>\n",
       "      <th>pff_hurry</th>\n",
       "      <th>pff_sack</th>\n",
       "      <th>pff_beatenByDefender</th>\n",
       "      <th>pff_hitAllowed</th>\n",
       "      <th>pff_hurryAllowed</th>\n",
       "      <th>pff_sackAllowed</th>\n",
       "      <th>pff_nflIdBlockedPlayer</th>\n",
       "      <th>pff_blockType</th>\n",
       "      <th>pff_backFieldBlock</th>\n",
       "      <th>frameId</th>\n",
       "      <th>time</th>\n",
       "      <th>jerseyNumber</th>\n",
       "      <th>team</th>\n",
       "      <th>playDirection</th>\n",
       "      <th>x</th>\n",
       "      <th>y</th>\n",
       "      <th>s</th>\n",
       "      <th>a</th>\n",
       "      <th>dis</th>\n",
       "      <th>o</th>\n",
       "      <th>dir</th>\n",
       "      <th>event</th>\n",
       "      <th>height</th>\n",
       "      <th>weight</th>\n",
       "      <th>birthDate</th>\n",
       "      <th>collegeName</th>\n",
       "      <th>officialPosition</th>\n",
       "      <th>displayName</th>\n",
       "      <th>x_qb</th>\n",
       "      <th>y_qb</th>\n",
       "      <th>s_qb</th>\n",
       "      <th>a_qb</th>\n",
       "      <th>dis_qb</th>\n",
       "      <th>o_qb</th>\n",
       "      <th>dir_qb</th>\n",
       "      <th>dist_from_qb</th>\n",
       "      <th>angle_to_qb</th>\n",
       "      <th>angle_to_qb_diff_o</th>\n",
       "      <th>nflId_blocker</th>\n",
       "      <th>nflId_rusher</th>\n",
       "      <th>displayName_rusher</th>\n",
       "      <th>pff_positionLinedUp_rusher</th>\n",
       "      <th>x_rusher</th>\n",
       "      <th>y_rusher</th>\n",
       "      <th>s_rusher</th>\n",
       "      <th>a_rusher</th>\n",
       "      <th>dis_rusher</th>\n",
       "      <th>o_rusher</th>\n",
       "      <th>dir_rusher</th>\n",
       "      <th>rusher_in_imm_box</th>\n",
       "      <th>blocker_rusher_distance</th>\n",
       "      <th>diff_btw_rusher_dir_blocker_o</th>\n",
       "    </tr>\n",
       "  </thead>\n",
       "  <tbody>\n",
       "    <tr>\n",
       "      <th>235869</th>\n",
       "      <td>235869</td>\n",
       "      <td>2021103111</td>\n",
       "      <td>1063</td>\n",
       "      <td>52421</td>\n",
       "      <td>Pass Block</td>\n",
       "      <td>RT</td>\n",
       "      <td>0.0</td>\n",
       "      <td>0.0</td>\n",
       "      <td>0.0</td>\n",
       "      <td>1.0</td>\n",
       "      <td>0.0</td>\n",
       "      <td>0.0</td>\n",
       "      <td>0.0</td>\n",
       "      <td>37097.0</td>\n",
       "      <td>PA</td>\n",
       "      <td>0.0</td>\n",
       "      <td>21</td>\n",
       "      <td>2021-10-31T21:05:47.000</td>\n",
       "      <td>78.0</td>\n",
       "      <td>TB</td>\n",
       "      <td>left</td>\n",
       "      <td>56.43</td>\n",
       "      <td>28.02</td>\n",
       "      <td>2.21</td>\n",
       "      <td>1.18</td>\n",
       "      <td>0.23</td>\n",
       "      <td>324.77</td>\n",
       "      <td>76.61</td>\n",
       "      <td>None</td>\n",
       "      <td>6-5</td>\n",
       "      <td>322</td>\n",
       "      <td>1999-01-24</td>\n",
       "      <td>Iowa</td>\n",
       "      <td>T</td>\n",
       "      <td>Tristan Wirfs</td>\n",
       "      <td>59.46</td>\n",
       "      <td>24.09</td>\n",
       "      <td>4.86</td>\n",
       "      <td>0.69</td>\n",
       "      <td>0.49</td>\n",
       "      <td>1.42</td>\n",
       "      <td>86.73</td>\n",
       "      <td>4.962439</td>\n",
       "      <td>30.73</td>\n",
       "      <td>294.04</td>\n",
       "      <td>52421.0</td>\n",
       "      <td>37097.0</td>\n",
       "      <td>Cameron Jordan</td>\n",
       "      <td>LOLB</td>\n",
       "      <td>56.0</td>\n",
       "      <td>28.89</td>\n",
       "      <td>3.04</td>\n",
       "      <td>0.33</td>\n",
       "      <td>0.33</td>\n",
       "      <td>138.54</td>\n",
       "      <td>79.4</td>\n",
       "      <td>1.0</td>\n",
       "      <td>0.97</td>\n",
       "      <td>425.37</td>\n",
       "    </tr>\n",
       "  </tbody>\n",
       "</table>\n",
       "</div>"
      ],
      "text/plain": [
       "        Unnamed: 0      gameId  playId  nflId    pff_role pff_positionLinedUp  \\\n",
       "235869      235869  2021103111    1063  52421  Pass Block                  RT   \n",
       "\n",
       "        pff_hit  pff_hurry  pff_sack  pff_beatenByDefender  pff_hitAllowed  \\\n",
       "235869      0.0        0.0       0.0                   1.0             0.0   \n",
       "\n",
       "        pff_hurryAllowed  pff_sackAllowed  pff_nflIdBlockedPlayer  \\\n",
       "235869               0.0              0.0                 37097.0   \n",
       "\n",
       "       pff_blockType  pff_backFieldBlock  frameId                     time  \\\n",
       "235869            PA                 0.0       21  2021-10-31T21:05:47.000   \n",
       "\n",
       "        jerseyNumber team playDirection      x      y     s     a   dis  \\\n",
       "235869          78.0   TB          left  56.43  28.02  2.21  1.18  0.23   \n",
       "\n",
       "             o    dir event height  weight   birthDate collegeName  \\\n",
       "235869  324.77  76.61  None    6-5     322  1999-01-24        Iowa   \n",
       "\n",
       "       officialPosition    displayName   x_qb   y_qb  s_qb  a_qb  dis_qb  \\\n",
       "235869                T  Tristan Wirfs  59.46  24.09  4.86  0.69    0.49   \n",
       "\n",
       "        o_qb  dir_qb  dist_from_qb  angle_to_qb  angle_to_qb_diff_o  \\\n",
       "235869  1.42   86.73      4.962439        30.73              294.04   \n",
       "\n",
       "        nflId_blocker  nflId_rusher displayName_rusher  \\\n",
       "235869        52421.0       37097.0     Cameron Jordan   \n",
       "\n",
       "       pff_positionLinedUp_rusher  x_rusher  y_rusher  s_rusher  a_rusher  \\\n",
       "235869                       LOLB      56.0     28.89      3.04      0.33   \n",
       "\n",
       "        dis_rusher  o_rusher  dir_rusher  rusher_in_imm_box  \\\n",
       "235869        0.33    138.54        79.4                1.0   \n",
       "\n",
       "        blocker_rusher_distance  diff_btw_rusher_dir_blocker_o  \n",
       "235869                     0.97                         425.37  "
      ]
     },
     "execution_count": 130,
     "metadata": {},
     "output_type": "execute_result"
    }
   ],
   "source": [
    "#Check If Specific Play Is In The Immediate Zone\n",
    "test = ptrack.loc[(ptrack['gameId'] == 2021103111) & (ptrack['nflId'] == 52421) & (ptrack['playId'] == 1063)].sort_values(by = 'frameId', ascending = True)[20:21]\n",
    "test"
   ]
  },
  {
   "cell_type": "code",
   "execution_count": 109,
   "metadata": {},
   "outputs": [
    {
     "data": {
      "text/plain": [
       "<matplotlib.collections.PathCollection at 0x18d18b8fb50>"
      ]
     },
     "execution_count": 109,
     "metadata": {},
     "output_type": "execute_result"
    },
    {
     "data": {
      "image/png": "[encoded data removed]",
      "text/plain": [
       "<Figure size 432x288 with 1 Axes>"
      ]
     },
     "metadata": {
      "needs_background": "light"
     },
     "output_type": "display_data"
    }
   ],
   "source": [
    "#Plot The Immediate Zone On The Above Play\n",
    "plt.scatter(x = test.bl_im_x_x, y = test.bl_im_y_x, s = 100, marker = '<')\n",
    "plt.scatter(x = test.br_im_x_x, y = test.br_im_y_x, s = 100, marker = '>')\n",
    "plt.scatter(x = test.fl_im_x_x, y = test.fl_im_y_x, s = 100, marker = '^')\n",
    "plt.scatter(x = test.fr_im_x_x, y = test.fr_im_y_x, s = 100, marker = '^')\n",
    "plt.scatter(x = test.x, y = test.y, s = 300, marker = 'o')\n",
    "plt.scatter(x = test.x_rusher_x, y = test.y_rusher_x, s = 300, marker = 'X')"
   ]
  }
 ],
 "metadata": {
  "kernelspec": {
   "display_name": "Python 3.10.8 64-bit (microsoft store)",
   "language": "python",
   "name": "python3"
  },
  "language_info": {
   "codemirror_mode": {
    "name": "ipython",
    "version": 3
   },
   "file_extension": ".py",
   "mimetype": "text/x-python",
   "name": "python",
   "nbconvert_exporter": "python",
   "pygments_lexer": "ipython3",
   "version": "3.10.9 (tags/v3.10.9:1dd9be6, Dec  6 2022, 20:01:21) [MSC v.1934 64 bit (AMD64)]"
  },
  "orig_nbformat": 4,
  "vscode": {
   "interpreter": {
    "hash": "0734c24ccee641e8c1aa56e5abe0e6d58c5e64b0808290a0db05a6d9678c0817"
   }
  }
 },
 "nbformat": 4,
 "nbformat_minor": 2
}
