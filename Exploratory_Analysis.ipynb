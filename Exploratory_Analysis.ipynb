{
 "cells": [
  {
   "attachments": {},
   "cell_type": "markdown",
   "metadata": {},
   "source": [
    "<font size = \"6\"> Fordham Sports Analytics Society Big Data Bowl 2023 - Exploratory Analysis </font>\n",
    "\n",
    "<font size = \"4\"> Run through ideas for eventual model, create new model features, and understand provided materials. </font>\n",
    "\n",
    "- Authors:  Peter Majors, Chris Orlando, and Jack Townsend\n",
    "- Kaggle:  https://www.kaggle.com/competitions/nfl-big-data-bowl-2023/overview (Resources)\n",
    "- Our Github:  https://github.com/peterlmajors/FSAS_BigDataBowl_2023 (Up-To-Date Code)"
   ]
  },
  {
   "cell_type": "code",
   "execution_count": 1,
   "metadata": {},
   "outputs": [],
   "source": [
    "#Import Required Packages\n",
    "\n",
    "#Data Manipulation\n",
    "import pandas as pd\n",
    "import numpy as np\n",
    "import math\n",
    "\n",
    "#Data Vizualization\n",
    "import seaborn as sns \n",
    "import matplotlib.pyplot as plt \n",
    "import plotly.graph_objects as go\n",
    "from haversine import haversine\n",
    "\n",
    "#Notebook Settings\n",
    "pd.set_option('display.max_columns', 1000)\n",
    "pd.set_option('display.max_rows', 1000)"
   ]
  },
  {
   "cell_type": "code",
   "execution_count": 2,
   "metadata": {},
   "outputs": [],
   "source": [
    "#Importing Kaggle Data (Needed For Animated Plays Function (Takes Original Data))\n",
    "\n",
    "# #Games - Basic Information On All Games\n",
    "games = pd.read_csv(\"C:/Users/Peter/Python Scripts/Case Competitions/NFL Big Data Bowl 2023/case_data/games.csv\")\n",
    "\n",
    "# #pffScout - PFF Judgements For Each Player On Each Play\n",
    "pffScout = pd.read_csv(\"C:/Users/Peter/Python Scripts/Case Competitions/NFL Big Data Bowl 2023/case_data/pffScoutingData.csv\")\n",
    "\n",
    "# #Players - Basics On Players\n",
    "players = pd.read_csv(\"C:/Users/Peter/Python Scripts/Case Competitions/NFL Big Data Bowl 2023/case_data/players.csv\")\n",
    "\n",
    "# #Plays - Everthing About Specific Plays\n",
    "plays = pd.read_csv(\"C:/Users/Peter/Python Scripts/Case Competitions/NFL Big Data Bowl 2023/case_data/plays.csv\")\n",
    "\n",
    "# #Week - Frame-By-Frame Player Tracking\n",
    "week1 = pd.read_csv(\"C:/Users/Peter/Python Scripts/Case Competitions/NFL Big Data Bowl 2023/case_data/week1.csv\")\n",
    "week2 = pd.read_csv(\"C:/Users/Peter/Python Scripts/Case Competitions/NFL Big Data Bowl 2023/case_data/week2.csv\")\n",
    "week3 = pd.read_csv(\"C:/Users/Peter/Python Scripts/Case Competitions/NFL Big Data Bowl 2023/case_data/week3.csv\")\n",
    "week4 = pd.read_csv(\"C:/Users/Peter/Python Scripts/Case Competitions/NFL Big Data Bowl 2023/case_data/week4.csv\")\n",
    "week5 = pd.read_csv(\"C:/Users/Peter/Python Scripts/Case Competitions/NFL Big Data Bowl 2023/case_data/week5.csv\")\n",
    "week6 = pd.read_csv(\"C:/Users/Peter/Python Scripts/Case Competitions/NFL Big Data Bowl 2023/case_data/week6.csv\")\n",
    "week7 = pd.read_csv(\"C:/Users/Peter/Python Scripts/Case Competitions/NFL Big Data Bowl 2023/case_data/week7.csv\")\n",
    "week8 = pd.read_csv(\"C:/Users/Peter/Python Scripts/Case Competitions/NFL Big Data Bowl 2023/case_data/week8.csv\")"
   ]
  },
  {
   "cell_type": "code",
   "execution_count": 3,
   "metadata": {},
   "outputs": [],
   "source": [
    "#Define Function To Animate Plays (Needed)\n",
    "colors = {'ARI':\"#97233F\", 'ATL':\"#A71930\", 'BAL':'#241773', 'BUF':\"#00338D\", 'CAR':\"#0085CA\", 'CHI':\"#C83803\", 'CIN':\"#FB4F14\", 'CLE':\"#311D00\", \n",
    "          'DAL':'#003594', 'DEN':\"#FB4F14\", 'DET':\"#0076B6\", 'GB':\"#203731\", 'HOU':\"#03202F\", 'IND':\"#002C5F\", 'JAX':\"#9F792C\", 'KC':\"#E31837\", \n",
    "          'LA':\"#003594\", 'LAC':\"#0080C6\", 'LV':\"#000000\", 'MIA':\"#008E97\", 'MIN':\"#4F2683\", 'NE':\"#002244\", 'NO':\"#D3BC8D\", 'NYG':\"#0B2265\", \n",
    "          'NYJ':\"#125740\", 'PHI':\"#004C54\", 'PIT':\"#FFB612\", 'SEA':\"#69BE28\", 'SF':\"#AA0000\", 'TB':'#D50A0A', 'TEN':\"#4B92DB\", 'WAS':\"#5A1414\", \n",
    "          'football':'#CBB67C'}\n",
    "\n",
    "def animate_play(tracking_df, play_df,players,pffScoutingData, gameId,playId):\n",
    "    selected_play_df = play_df[(play_df.playId==playId)&(play_df.gameId==gameId)].copy()\n",
    "    \n",
    "    tracking_players_df = pd.merge(tracking_df,players,how=\"left\",on = \"nflId\")\n",
    "    tracking_players_df = pd.merge(tracking_players_df,pffScoutingData,how=\"left\",on = [\"nflId\",\"playId\",\"gameId\"])\n",
    "    selected_tracking_df = tracking_players_df[(tracking_players_df.playId==playId)&(tracking_players_df.gameId==gameId)].copy()\n",
    "\n",
    "    sorted_frame_list = selected_tracking_df.frameId.unique()\n",
    "    sorted_frame_list.sort()\n",
    "\n",
    "    # get play General information \n",
    "    line_of_scrimmage = selected_play_df.absoluteYardlineNumber.values[0]\n",
    "    first_down_marker = line_of_scrimmage + selected_play_df.yardsToGo.values[0]\n",
    "    down = selected_play_df.down.values[0]\n",
    "    quarter = selected_play_df.quarter.values[0]\n",
    "    gameClock = selected_play_df.gameClock.values[0]\n",
    "    playDescription = selected_play_df.playDescription.values[0]\n",
    "    # Handle case where we have a really long Play Description and want to split it into two lines\n",
    "    if len(playDescription.split(\" \"))>15 and len(playDescription)>115:\n",
    "        playDescription = \" \".join(playDescription.split(\" \")[0:16]) + \"<br>\" + \" \".join(playDescription.split(\" \")[16:])\n",
    "\n",
    "    # initialize plotly start and stop buttons for animation\n",
    "    updatemenus_dict = [\n",
    "        {\n",
    "             \"buttons\": [\n",
    "                {\n",
    "                    \"args\": [None, {\"frame\": {\"duration\": 100, \"redraw\": False},\n",
    "                                \"fromcurrent\": True, \"transition\": {\"duration\": 0}}],\n",
    "                    \"label\": \"Play\",\n",
    "                    \"method\": \"animate\"\n",
    "                },\n",
    "                {\n",
    "                    \"args\": [[None], {\"frame\": {\"duration\": 0, \"redraw\": False},\n",
    "                                      \"mode\": \"immediate\",\n",
    "                                      \"transition\": {\"duration\": 0}}],\n",
    "                    \"label\": \"Pause\",\n",
    "                    \"method\": \"animate\"\n",
    "                }\n",
    "            ],\n",
    "            \"direction\": \"left\",\n",
    "            \"pad\": {\"r\": 10, \"t\": 87},\n",
    "            \"showactive\": False,\n",
    "            \"type\": \"buttons\",\n",
    "            \"x\": 0.1,\n",
    "            \"xanchor\": \"right\",\n",
    "            \"y\": 0,\n",
    "            \"yanchor\": \"top\"\n",
    "        }\n",
    "    ]\n",
    "    # initialize plotly slider to show frame position in animation\n",
    "    sliders_dict = {\n",
    "        \"active\": 0,\n",
    "        \"yanchor\": \"top\",\n",
    "        \"xanchor\": \"left\",\n",
    "        \"currentvalue\": {\n",
    "            \"font\": {\"size\": 20},\n",
    "            \"prefix\": \"Frame:\",\n",
    "            \"visible\": True,\n",
    "            \"xanchor\": \"right\"\n",
    "        },\n",
    "        \"transition\": {\"duration\": 300, \"easing\": \"cubic-in-out\"},\n",
    "        \"pad\": {\"b\": 10, \"t\": 50},\n",
    "        \"len\": 0.9,\n",
    "        \"x\": 0.1,\n",
    "        \"y\": 0,\n",
    "        \"steps\": []\n",
    "    }\n",
    "\n",
    "\n",
    "    frames = []\n",
    "    for frameId in sorted_frame_list:\n",
    "        data = []\n",
    "        # Add Numbers to Field \n",
    "        data.append(\n",
    "            go.Scatter(\n",
    "                x=np.arange(20,110,10), \n",
    "                y=[5]*len(np.arange(20,110,10)),\n",
    "                mode='text',\n",
    "                text=list(map(str,list(np.arange(20, 61, 10)-10)+list(np.arange(40, 9, -10)))),\n",
    "                textfont_size = 30,\n",
    "                textfont_family = \"Courier New, monospace\",\n",
    "                textfont_color = \"#ffffff\",\n",
    "                showlegend=False,\n",
    "                hoverinfo='none'\n",
    "            )\n",
    "        )\n",
    "        data.append(\n",
    "            go.Scatter(\n",
    "                x=np.arange(20,110,10), \n",
    "                y=[53.5-5]*len(np.arange(20,110,10)),\n",
    "                mode='text',\n",
    "                text=list(map(str,list(np.arange(20, 61, 10)-10)+list(np.arange(40, 9, -10)))),\n",
    "                textfont_size = 30,\n",
    "                textfont_family = \"Courier New, monospace\",\n",
    "                textfont_color = \"#ffffff\",\n",
    "                showlegend=False,\n",
    "                hoverinfo='none'\n",
    "            )\n",
    "        )\n",
    "        # Add line of scrimage \n",
    "        data.append(\n",
    "            go.Scatter(\n",
    "                x=[line_of_scrimmage,line_of_scrimmage], \n",
    "                y=[0,53.5],\n",
    "                line_dash='dash',\n",
    "                line_color='blue',\n",
    "                showlegend=False,\n",
    "                hoverinfo='none'\n",
    "            )\n",
    "        )\n",
    "        # Add First down line \n",
    "        data.append(\n",
    "            go.Scatter(\n",
    "                x=[first_down_marker,first_down_marker], \n",
    "                y=[0,53.5],\n",
    "                line_dash='dash',\n",
    "                line_color='yellow',\n",
    "                showlegend=False,\n",
    "                hoverinfo='none'\n",
    "            )\n",
    "        )\n",
    "        # Plot Players\n",
    "        for team in selected_tracking_df.team.unique():\n",
    "            plot_df = selected_tracking_df[(selected_tracking_df.team==team)&(selected_tracking_df.frameId==frameId)].copy()\n",
    "            if team != \"football\":\n",
    "                hover_text_array=[]\n",
    "                for nflId in plot_df.nflId:\n",
    "                    selected_player_df = plot_df[plot_df.nflId==nflId]\n",
    "                    hover_text_array.append(\"nflId:{}<br>displayName:{}<br>Position:{}<br>Role:{}\".format(selected_player_df[\"nflId\"].values[0],\n",
    "                                                                                      selected_player_df[\"displayName\"].values[0],\n",
    "                                                                                      selected_player_df[\"pff_positionLinedUp\"].values[0],\n",
    "                                                                                      selected_player_df[\"pff_role\"].values[0]))\n",
    "                data.append(go.Scatter(x=plot_df[\"x\"], y=plot_df[\"y\"],mode = 'markers',marker_color=colors[team],name=team,hovertext=hover_text_array,hoverinfo=\"text\"))\n",
    "            else:\n",
    "                data.append(go.Scatter(x=plot_df[\"x\"], y=plot_df[\"y\"],mode = 'markers',marker_color=colors[team],name=team,hoverinfo='none'))\n",
    "        # add frame to slider\n",
    "        slider_step = {\"args\": [\n",
    "            [frameId],\n",
    "            {\"frame\": {\"duration\": 100, \"redraw\": False},\n",
    "             \"mode\": \"immediate\",\n",
    "             \"transition\": {\"duration\": 0}}\n",
    "        ],\n",
    "            \"label\": str(frameId),\n",
    "            \"method\": \"animate\"}\n",
    "        sliders_dict[\"steps\"].append(slider_step)\n",
    "        frames.append(go.Frame(data=data, name=str(frameId)))\n",
    "\n",
    "    scale=10\n",
    "    layout = go.Layout(\n",
    "        autosize=False,\n",
    "        width=120*scale,\n",
    "        height=60*scale,\n",
    "        xaxis=dict(range=[0, 120], autorange=False, tickmode='array',tickvals=np.arange(10, 111, 5).tolist(),showticklabels=False),\n",
    "        yaxis=dict(range=[0, 53.3], autorange=False,showgrid=False,showticklabels=False),\n",
    "\n",
    "        plot_bgcolor='#00B140',\n",
    "        # Create title and add play description at the bottom of the chart for better visual appeal\n",
    "        title=f\"GameId: {gameId}, PlayId: {playId}<br>{gameClock} {quarter}Q\"+\"<br>\"*19+f\"{playDescription}\",\n",
    "        updatemenus=updatemenus_dict,\n",
    "        sliders = [sliders_dict]\n",
    "    )\n",
    "\n",
    "    fig = go.Figure(\n",
    "        data=frames[0][\"data\"],\n",
    "        layout= layout,\n",
    "        frames=frames[1:]\n",
    "    )\n",
    "    # Create First Down Markers \n",
    "    for y_val in [0,53]:\n",
    "        fig.add_annotation(\n",
    "                x=first_down_marker,\n",
    "                y=y_val,\n",
    "                text=str(down),\n",
    "                showarrow=False,\n",
    "                font=dict(\n",
    "                    family=\"Courier New, monospace\",\n",
    "                    size=16,\n",
    "                    color=\"black\"\n",
    "                    ),\n",
    "                align=\"center\",\n",
    "                bordercolor=\"black\",\n",
    "                borderwidth=2,\n",
    "                borderpad=4,\n",
    "                bgcolor=\"#ff7f0e\",\n",
    "                opacity=1\n",
    "                )\n",
    "\n",
    "    return fig"
   ]
  },
  {
   "cell_type": "code",
   "execution_count": 4,
   "metadata": {},
   "outputs": [],
   "source": [
    "#Import Our Merged DataFrames (Needed)\n",
    "ptrack = pd.read_csv(\"C:/Users/Peter/Python Scripts/Case Competitions/NFL Big Data Bowl 2023/merged_data/ptrack.csv\")\n",
    "pbp = pd.read_csv(\"C:/Users/Peter/Python Scripts/Case Competitions/NFL Big Data Bowl 2023/merged_data/pbp.csv\")"
   ]
  },
  {
   "attachments": {},
   "cell_type": "markdown",
   "metadata": {},
   "source": [
    "<font size=\"5\">Check Out Individual Plays</font>"
   ]
  },
  {
   "cell_type": "code",
   "execution_count": 13,
   "metadata": {},
   "outputs": [
    {
     "data": {
      "application/vnd.plotly.v1+json": {
       "config": {
        "plotlyServerURL": "https://plot.ly"
       },
       "data": [
        {
         "hoverinfo": "none",
         "mode": "text",
         "showlegend": false,
         "text": [
          "10",
          "20",
          "30",
          "40",
          "50",
          "40",
          "30",
          "20",
          "10"
         ],
         "textfont": {
          "color": "#ffffff",
          "family": "Courier New, monospace",
          "size": 30
         },
         "type": "scatter",
         "x": [
          20,
          30,
          40,
          50,
          60,
          70,
          80,
          90,
          100
         ],
         "y": [
          5,
          5,
          5,
          5,
          5,
          5,
          5,
          5,
          5
         ]
        },
        {
         "hoverinfo": "none",
         "mode": "text",
         "showlegend": false,
         "text": [
          "10",
          "20",
          "30",
          "40",
          "50",
          "40",
          "30",
          "20",
          "10"
         ],
         "textfont": {
          "color": "#ffffff",
          "family": "Courier New, monospace",
          "size": 30
         },
         "type": "scatter",
         "x": [
          20,
          30,
          40,
          50,
          60,
          70,
          80,
          90,
          100
         ],
         "y": [
          48.5,
          48.5,
          48.5,
          48.5,
          48.5,
          48.5,
          48.5,
          48.5,
          48.5
         ]
        },
        {
         "hoverinfo": "none",
         "line": {
          "color": "blue",
          "dash": "dash"
         },
         "showlegend": false,
         "type": "scatter",
         "x": [
          31,
          31
         ],
         "y": [
          0,
          53.5
         ]
        },
        {
         "hoverinfo": "none",
         "line": {
          "color": "yellow",
          "dash": "dash"
         },
         "showlegend": false,
         "type": "scatter",
         "x": [
          41,
          41
         ],
         "y": [
          0,
          53.5
         ]
        },
        {
         "hoverinfo": "text",
         "hovertext": [
          "nflId:25511.0<br>displayName:Tom Brady<br>Position:QB<br>Role:Pass",
          "nflId:35481.0<br>displayName:Rob Gronkowski<br>Position:TE-R<br>Role:Pass Route",
          "nflId:35634.0<br>displayName:Antonio Brown<br>Position:RWR<br>Role:Pass Route",
          "nflId:40151.0<br>displayName:Ryan Jensen<br>Position:C<br>Role:Pass Block",
          "nflId:41233.0<br>displayName:Mike Evans<br>Position:LWR<br>Role:Pass Route",
          "nflId:42377.0<br>displayName:Donovan Smith<br>Position:LT<br>Role:Pass Block",
          "nflId:42404.0<br>displayName:Ali Marpet<br>Position:LG<br>Role:Pass Block",
          "nflId:44816.0<br>displayName:Leonard Fournette<br>Position:HB-R<br>Role:Pass Route",
          "nflId:44896.0<br>displayName:Chris Godwin<br>Position:SRWR<br>Role:Pass Route",
          "nflId:46163.0<br>displayName:Alex Cappa<br>Position:RG<br>Role:Pass Block",
          "nflId:52421.0<br>displayName:Tristan Wirfs<br>Position:RT<br>Role:Pass Block"
         ],
         "marker": {
          "color": "#D50A0A"
         },
         "mode": "markers",
         "name": "TB",
         "type": "scatter",
         "x": [
          25.92,
          29.76,
          28.61,
          30.14,
          29.72,
          29.25,
          29.4,
          26.06,
          28.67,
          29.29,
          29.11
         ],
         "y": [
          27.34,
          22.45,
          10.16,
          27.08,
          44.89,
          30.28,
          28.77,
          24.58,
          17.51,
          25.61,
          24.35
         ]
        },
        {
         "hoverinfo": "text",
         "hovertext": [
          "nflId:41263.0<br>displayName:Demarcus Lawrence<br>Position:LEO<br>Role:Pass Rush",
          "nflId:42403.0<br>displayName:Randy Gregory<br>Position:REO<br>Role:Pass Rush",
          "nflId:43306.0<br>displayName:Keanu Neal<br>Position:LLB<br>Role:Coverage",
          "nflId:43478.0<br>displayName:Anthony Brown<br>Position:LCB<br>Role:Coverage",
          "nflId:44904.0<br>displayName:Jourdan Lewis<br>Position:SCBL<br>Role:Coverage",
          "nflId:44955.0<br>displayName:Carlos Watkins<br>Position:DLT<br>Role:Pass Rush",
          "nflId:44962.0<br>displayName:Damontae Kazee<br>Position:SSL<br>Role:Coverage",
          "nflId:47996.0<br>displayName:Donovan Wilson<br>Position:FSR<br>Role:Coverage",
          "nflId:52459.0<br>displayName:Trevon Diggs<br>Position:RCB<br>Role:Coverage",
          "nflId:53441.0<br>displayName:Micah Parsons<br>Position:RILB<br>Role:Coverage",
          "nflId:53504.0<br>displayName:Osa Odighizuwa<br>Position:DRT<br>Role:Pass Rush"
         ],
         "marker": {
          "color": "#003594"
         },
         "mode": "markers",
         "name": "DAL",
         "type": "scatter",
         "x": [
          31.36,
          31.4,
          34.86,
          37.31,
          31.77,
          31.61,
          39.87,
          45.81,
          31.49,
          34.04,
          31.62
         ],
         "y": [
          21.01,
          33.46,
          23.98,
          10.45,
          16.17,
          25.21,
          20.14,
          31.67,
          44.63,
          27.97,
          28.13
         ]
        },
        {
         "hoverinfo": "none",
         "marker": {
          "color": "#CBB67C"
         },
         "mode": "markers",
         "name": "football",
         "type": "scatter",
         "x": [
          30.8
         ],
         "y": [
          27.07
         ]
        }
       ],
       "frames": [
        {
         "data": [
          {
           "hoverinfo": "none",
           "mode": "text",
           "showlegend": false,
           "text": [
            "10",
            "20",
            "30",
            "40",
            "50",
            "40",
            "30",
            "20",
            "10"
           ],
           "textfont": {
            "color": "#ffffff",
            "family": "Courier New, monospace",
            "size": 30
           },
           "type": "scatter",
           "x": [
            20,
            30,
            40,
            50,
            60,
            70,
            80,
            90,
            100
           ],
           "y": [
            5,
            5,
            5,
            5,
            5,
            5,
            5,
            5,
            5
           ]
          },
          {
           "hoverinfo": "none",
           "mode": "text",
           "showlegend": false,
           "text": [
            "10",
            "20",
            "30",
            "40",
            "50",
            "40",
            "30",
            "20",
            "10"
           ],
           "textfont": {
            "color": "#ffffff",
            "family": "Courier New, monospace",
            "size": 30
           },
           "type": "scatter",
           "x": [
            20,
            30,
            40,
            50,
            60,
            70,
            80,
            90,
            100
           ],
           "y": [
            48.5,
            48.5,
            48.5,
            48.5,
            48.5,
            48.5,
            48.5,
            48.5,
            48.5
           ]
          },
          {
           "hoverinfo": "none",
           "line": {
            "color": "blue",
            "dash": "dash"
           },
           "showlegend": false,
           "type": "scatter",
           "x": [
            31,
            31
           ],
           "y": [
            0,
            53.5
           ]
          },
          {
           "hoverinfo": "none",
           "line": {
            "color": "yellow",
            "dash": "dash"
           },
           "showlegend": false,
           "type": "scatter",
           "x": [
            41,
            41
           ],
           "y": [
            0,
            53.5
           ]
          },
          {
           "hoverinfo": "text",
           "hovertext": [
            "nflId:25511.0<br>displayName:Tom Brady<br>Position:QB<br>Role:Pass",
            "nflId:35481.0<br>displayName:Rob Gronkowski<br>Position:TE-R<br>Role:Pass Route",
            "nflId:35634.0<br>displayName:Antonio Brown<br>Position:RWR<br>Role:Pass Route",
            "nflId:40151.0<br>displayName:Ryan Jensen<br>Position:C<br>Role:Pass Block",
            "nflId:41233.0<br>displayName:Mike Evans<br>Position:LWR<br>Role:Pass Route",
            "nflId:42377.0<br>displayName:Donovan Smith<br>Position:LT<br>Role:Pass Block",
            "nflId:42404.0<br>displayName:Ali Marpet<br>Position:LG<br>Role:Pass Block",
            "nflId:44816.0<br>displayName:Leonard Fournette<br>Position:HB-R<br>Role:Pass Route",
            "nflId:44896.0<br>displayName:Chris Godwin<br>Position:SRWR<br>Role:Pass Route",
            "nflId:46163.0<br>displayName:Alex Cappa<br>Position:RG<br>Role:Pass Block",
            "nflId:52421.0<br>displayName:Tristan Wirfs<br>Position:RT<br>Role:Pass Block"
           ],
           "marker": {
            "color": "#D50A0A"
           },
           "mode": "markers",
           "name": "TB",
           "type": "scatter",
           "x": [
            25.93,
            29.76,
            28.61,
            30.14,
            29.72,
            29.25,
            29.4,
            26.06,
            28.67,
            29.29,
            29.11
           ],
           "y": [
            27.34,
            22.44,
            10.16,
            27.07,
            44.89,
            30.27,
            28.77,
            24.57,
            17.51,
            25.61,
            24.34
           ]
          },
          {
           "hoverinfo": "text",
           "hovertext": [
            "nflId:41263.0<br>displayName:Demarcus Lawrence<br>Position:LEO<br>Role:Pass Rush",
            "nflId:42403.0<br>displayName:Randy Gregory<br>Position:REO<br>Role:Pass Rush",
            "nflId:43306.0<br>displayName:Keanu Neal<br>Position:LLB<br>Role:Coverage",
            "nflId:43478.0<br>displayName:Anthony Brown<br>Position:LCB<br>Role:Coverage",
            "nflId:44904.0<br>displayName:Jourdan Lewis<br>Position:SCBL<br>Role:Coverage",
            "nflId:44955.0<br>displayName:Carlos Watkins<br>Position:DLT<br>Role:Pass Rush",
            "nflId:44962.0<br>displayName:Damontae Kazee<br>Position:SSL<br>Role:Coverage",
            "nflId:47996.0<br>displayName:Donovan Wilson<br>Position:FSR<br>Role:Coverage",
            "nflId:52459.0<br>displayName:Trevon Diggs<br>Position:RCB<br>Role:Coverage",
            "nflId:53441.0<br>displayName:Micah Parsons<br>Position:RILB<br>Role:Coverage",
            "nflId:53504.0<br>displayName:Osa Odighizuwa<br>Position:DRT<br>Role:Pass Rush"
           ],
           "marker": {
            "color": "#003594"
           },
           "mode": "markers",
           "name": "DAL",
           "type": "scatter",
           "x": [
            31.35,
            31.4,
            34.84,
            37.3,
            31.77,
            31.61,
            39.99,
            45.84,
            31.49,
            34.03,
            31.62
           ],
           "y": [
            21.02,
            33.46,
            23.99,
            10.43,
            16.15,
            25.21,
            20.2,
            31.63,
            44.63,
            27.97,
            28.13
           ]
          },
          {
           "hoverinfo": "none",
           "marker": {
            "color": "#CBB67C"
           },
           "mode": "markers",
           "name": "football",
           "type": "scatter",
           "x": [
            30.8
           ],
           "y": [
            27.07
           ]
          }
         ],
         "name": "2"
        },
        {
         "data": [
          {
           "hoverinfo": "none",
           "mode": "text",
           "showlegend": false,
           "text": [
            "10",
            "20",
            "30",
            "40",
            "50",
            "40",
            "30",
            "20",
            "10"
           ],
           "textfont": {
            "color": "#ffffff",
            "family": "Courier New, monospace",
            "size": 30
           },
           "type": "scatter",
           "x": [
            20,
            30,
            40,
            50,
            60,
            70,
            80,
            90,
            100
           ],
           "y": [
            5,
            5,
            5,
            5,
            5,
            5,
            5,
            5,
            5
           ]
          },
          {
           "hoverinfo": "none",
           "mode": "text",
           "showlegend": false,
           "text": [
            "10",
            "20",
            "30",
            "40",
            "50",
            "40",
            "30",
            "20",
            "10"
           ],
           "textfont": {
            "color": "#ffffff",
            "family": "Courier New, monospace",
            "size": 30
           },
           "type": "scatter",
           "x": [
            20,
            30,
            40,
            50,
            60,
            70,
            80,
            90,
            100
           ],
           "y": [
            48.5,
            48.5,
            48.5,
            48.5,
            48.5,
            48.5,
            48.5,
            48.5,
            48.5
           ]
          },
          {
           "hoverinfo": "none",
           "line": {
            "color": "blue",
            "dash": "dash"
           },
           "showlegend": false,
           "type": "scatter",
           "x": [
            31,
            31
           ],
           "y": [
            0,
            53.5
           ]
          },
          {
           "hoverinfo": "none",
           "line": {
            "color": "yellow",
            "dash": "dash"
           },
           "showlegend": false,
           "type": "scatter",
           "x": [
            41,
            41
           ],
           "y": [
            0,
            53.5
           ]
          },
          {
           "hoverinfo": "text",
           "hovertext": [
            "nflId:25511.0<br>displayName:Tom Brady<br>Position:QB<br>Role:Pass",
            "nflId:35481.0<br>displayName:Rob Gronkowski<br>Position:TE-R<br>Role:Pass Route",
            "nflId:35634.0<br>displayName:Antonio Brown<br>Position:RWR<br>Role:Pass Route",
            "nflId:40151.0<br>displayName:Ryan Jensen<br>Position:C<br>Role:Pass Block",
            "nflId:41233.0<br>displayName:Mike Evans<br>Position:LWR<br>Role:Pass Route",
            "nflId:42377.0<br>displayName:Donovan Smith<br>Position:LT<br>Role:Pass Block",
            "nflId:42404.0<br>displayName:Ali Marpet<br>Position:LG<br>Role:Pass Block",
            "nflId:44816.0<br>displayName:Leonard Fournette<br>Position:HB-R<br>Role:Pass Route",
            "nflId:44896.0<br>displayName:Chris Godwin<br>Position:SRWR<br>Role:Pass Route",
            "nflId:46163.0<br>displayName:Alex Cappa<br>Position:RG<br>Role:Pass Block",
            "nflId:52421.0<br>displayName:Tristan Wirfs<br>Position:RT<br>Role:Pass Block"
           ],
           "marker": {
            "color": "#D50A0A"
           },
           "mode": "markers",
           "name": "TB",
           "type": "scatter",
           "x": [
            25.93,
            29.77,
            28.61,
            30.14,
            29.72,
            29.24,
            29.4,
            26.08,
            28.67,
            29.29,
            29.1
           ],
           "y": [
            27.34,
            22.45,
            10.16,
            27.08,
            44.89,
            30.27,
            28.77,
            24.58,
            17.51,
            25.61,
            24.33
           ]
          },
          {
           "hoverinfo": "text",
           "hovertext": [
            "nflId:41263.0<br>displayName:Demarcus Lawrence<br>Position:LEO<br>Role:Pass Rush",
            "nflId:42403.0<br>displayName:Randy Gregory<br>Position:REO<br>Role:Pass Rush",
            "nflId:43306.0<br>displayName:Keanu Neal<br>Position:LLB<br>Role:Coverage",
            "nflId:43478.0<br>displayName:Anthony Brown<br>Position:LCB<br>Role:Coverage",
            "nflId:44904.0<br>displayName:Jourdan Lewis<br>Position:SCBL<br>Role:Coverage",
            "nflId:44955.0<br>displayName:Carlos Watkins<br>Position:DLT<br>Role:Pass Rush",
            "nflId:44962.0<br>displayName:Damontae Kazee<br>Position:SSL<br>Role:Coverage",
            "nflId:47996.0<br>displayName:Donovan Wilson<br>Position:FSR<br>Role:Coverage",
            "nflId:52459.0<br>displayName:Trevon Diggs<br>Position:RCB<br>Role:Coverage",
            "nflId:53441.0<br>displayName:Micah Parsons<br>Position:RILB<br>Role:Coverage",
            "nflId:53504.0<br>displayName:Osa Odighizuwa<br>Position:DRT<br>Role:Pass Rush"
           ],
           "marker": {
            "color": "#003594"
           },
           "mode": "markers",
           "name": "DAL",
           "type": "scatter",
           "x": [
            31.33,
            31.4,
            34.82,
            37.3,
            31.76,
            31.61,
            40.13,
            45.86,
            31.49,
            34.03,
            31.61
           ],
           "y": [
            21.05,
            33.45,
            23.99,
            10.42,
            16.16,
            25.2,
            20.24,
            31.59,
            44.63,
            27.98,
            28.14
           ]
          },
          {
           "hoverinfo": "none",
           "marker": {
            "color": "#CBB67C"
           },
           "mode": "markers",
           "name": "football",
           "type": "scatter",
           "x": [
            30.8
           ],
           "y": [
            27.07
           ]
          }
         ],
         "name": "3"
        },
        {
         "data": [
          {
           "hoverinfo": "none",
           "mode": "text",
           "showlegend": false,
           "text": [
            "10",
            "20",
            "30",
            "40",
            "50",
            "40",
            "30",
            "20",
            "10"
           ],
           "textfont": {
            "color": "#ffffff",
            "family": "Courier New, monospace",
            "size": 30
           },
           "type": "scatter",
           "x": [
            20,
            30,
            40,
            50,
            60,
            70,
            80,
            90,
            100
           ],
           "y": [
            5,
            5,
            5,
            5,
            5,
            5,
            5,
            5,
            5
           ]
          },
          {
           "hoverinfo": "none",
           "mode": "text",
           "showlegend": false,
           "text": [
            "10",
            "20",
            "30",
            "40",
            "50",
            "40",
            "30",
            "20",
            "10"
           ],
           "textfont": {
            "color": "#ffffff",
            "family": "Courier New, monospace",
            "size": 30
           },
           "type": "scatter",
           "x": [
            20,
            30,
            40,
            50,
            60,
            70,
            80,
            90,
            100
           ],
           "y": [
            48.5,
            48.5,
            48.5,
            48.5,
            48.5,
            48.5,
            48.5,
            48.5,
            48.5
           ]
          },
          {
           "hoverinfo": "none",
           "line": {
            "color": "blue",
            "dash": "dash"
           },
           "showlegend": false,
           "type": "scatter",
           "x": [
            31,
            31
           ],
           "y": [
            0,
            53.5
           ]
          },
          {
           "hoverinfo": "none",
           "line": {
            "color": "yellow",
            "dash": "dash"
           },
           "showlegend": false,
           "type": "scatter",
           "x": [
            41,
            41
           ],
           "y": [
            0,
            53.5
           ]
          },
          {
           "hoverinfo": "text",
           "hovertext": [
            "nflId:25511.0<br>displayName:Tom Brady<br>Position:QB<br>Role:Pass",
            "nflId:35481.0<br>displayName:Rob Gronkowski<br>Position:TE-R<br>Role:Pass Route",
            "nflId:35634.0<br>displayName:Antonio Brown<br>Position:RWR<br>Role:Pass Route",
            "nflId:40151.0<br>displayName:Ryan Jensen<br>Position:C<br>Role:Pass Block",
            "nflId:41233.0<br>displayName:Mike Evans<br>Position:LWR<br>Role:Pass Route",
            "nflId:42377.0<br>displayName:Donovan Smith<br>Position:LT<br>Role:Pass Block",
            "nflId:42404.0<br>displayName:Ali Marpet<br>Position:LG<br>Role:Pass Block",
            "nflId:44816.0<br>displayName:Leonard Fournette<br>Position:HB-R<br>Role:Pass Route",
            "nflId:44896.0<br>displayName:Chris Godwin<br>Position:SRWR<br>Role:Pass Route",
            "nflId:46163.0<br>displayName:Alex Cappa<br>Position:RG<br>Role:Pass Block",
            "nflId:52421.0<br>displayName:Tristan Wirfs<br>Position:RT<br>Role:Pass Block"
           ],
           "marker": {
            "color": "#D50A0A"
           },
           "mode": "markers",
           "name": "TB",
           "type": "scatter",
           "x": [
            25.93,
            29.77,
            28.61,
            30.14,
            29.72,
            29.24,
            29.4,
            26.08,
            28.67,
            29.29,
            29.08
           ],
           "y": [
            27.34,
            22.46,
            10.16,
            27.08,
            44.89,
            30.27,
            28.77,
            24.57,
            17.51,
            25.61,
            24.32
           ]
          },
          {
           "hoverinfo": "text",
           "hovertext": [
            "nflId:41263.0<br>displayName:Demarcus Lawrence<br>Position:LEO<br>Role:Pass Rush",
            "nflId:42403.0<br>displayName:Randy Gregory<br>Position:REO<br>Role:Pass Rush",
            "nflId:43306.0<br>displayName:Keanu Neal<br>Position:LLB<br>Role:Coverage",
            "nflId:43478.0<br>displayName:Anthony Brown<br>Position:LCB<br>Role:Coverage",
            "nflId:44904.0<br>displayName:Jourdan Lewis<br>Position:SCBL<br>Role:Coverage",
            "nflId:44955.0<br>displayName:Carlos Watkins<br>Position:DLT<br>Role:Pass Rush",
            "nflId:44962.0<br>displayName:Damontae Kazee<br>Position:SSL<br>Role:Coverage",
            "nflId:47996.0<br>displayName:Donovan Wilson<br>Position:FSR<br>Role:Coverage",
            "nflId:52459.0<br>displayName:Trevon Diggs<br>Position:RCB<br>Role:Coverage",
            "nflId:53441.0<br>displayName:Micah Parsons<br>Position:RILB<br>Role:Coverage",
            "nflId:53504.0<br>displayName:Osa Odighizuwa<br>Position:DRT<br>Role:Pass Rush"
           ],
           "marker": {
            "color": "#003594"
           },
           "mode": "markers",
           "name": "DAL",
           "type": "scatter",
           "x": [
            31.3,
            31.39,
            34.8,
            37.33,
            31.75,
            31.59,
            40.27,
            45.89,
            31.49,
            34.02,
            31.58
           ],
           "y": [
            21.06,
            33.45,
            23.99,
            10.44,
            16.19,
            25.2,
            20.29,
            31.54,
            44.64,
            27.97,
            28.14
           ]
          },
          {
           "hoverinfo": "none",
           "marker": {
            "color": "#CBB67C"
           },
           "mode": "markers",
           "name": "football",
           "type": "scatter",
           "x": [
            30.8
           ],
           "y": [
            27.07
           ]
          }
         ],
         "name": "4"
        },
        {
         "data": [
          {
           "hoverinfo": "none",
           "mode": "text",
           "showlegend": false,
           "text": [
            "10",
            "20",
            "30",
            "40",
            "50",
            "40",
            "30",
            "20",
            "10"
           ],
           "textfont": {
            "color": "#ffffff",
            "family": "Courier New, monospace",
            "size": 30
           },
           "type": "scatter",
           "x": [
            20,
            30,
            40,
            50,
            60,
            70,
            80,
            90,
            100
           ],
           "y": [
            5,
            5,
            5,
            5,
            5,
            5,
            5,
            5,
            5
           ]
          },
          {
           "hoverinfo": "none",
           "mode": "text",
           "showlegend": false,
           "text": [
            "10",
            "20",
            "30",
            "40",
            "50",
            "40",
            "30",
            "20",
            "10"
           ],
           "textfont": {
            "color": "#ffffff",
            "family": "Courier New, monospace",
            "size": 30
           },
           "type": "scatter",
           "x": [
            20,
            30,
            40,
            50,
            60,
            70,
            80,
            90,
            100
           ],
           "y": [
            48.5,
            48.5,
            48.5,
            48.5,
            48.5,
            48.5,
            48.5,
            48.5,
            48.5
           ]
          },
          {
           "hoverinfo": "none",
           "line": {
            "color": "blue",
            "dash": "dash"
           },
           "showlegend": false,
           "type": "scatter",
           "x": [
            31,
            31
           ],
           "y": [
            0,
            53.5
           ]
          },
          {
           "hoverinfo": "none",
           "line": {
            "color": "yellow",
            "dash": "dash"
           },
           "showlegend": false,
           "type": "scatter",
           "x": [
            41,
            41
           ],
           "y": [
            0,
            53.5
           ]
          },
          {
           "hoverinfo": "text",
           "hovertext": [
            "nflId:25511.0<br>displayName:Tom Brady<br>Position:QB<br>Role:Pass",
            "nflId:35481.0<br>displayName:Rob Gronkowski<br>Position:TE-R<br>Role:Pass Route",
            "nflId:35634.0<br>displayName:Antonio Brown<br>Position:RWR<br>Role:Pass Route",
            "nflId:40151.0<br>displayName:Ryan Jensen<br>Position:C<br>Role:Pass Block",
            "nflId:41233.0<br>displayName:Mike Evans<br>Position:LWR<br>Role:Pass Route",
            "nflId:42377.0<br>displayName:Donovan Smith<br>Position:LT<br>Role:Pass Block",
            "nflId:42404.0<br>displayName:Ali Marpet<br>Position:LG<br>Role:Pass Block",
            "nflId:44816.0<br>displayName:Leonard Fournette<br>Position:HB-R<br>Role:Pass Route",
            "nflId:44896.0<br>displayName:Chris Godwin<br>Position:SRWR<br>Role:Pass Route",
            "nflId:46163.0<br>displayName:Alex Cappa<br>Position:RG<br>Role:Pass Block",
            "nflId:52421.0<br>displayName:Tristan Wirfs<br>Position:RT<br>Role:Pass Block"
           ],
           "marker": {
            "color": "#D50A0A"
           },
           "mode": "markers",
           "name": "TB",
           "type": "scatter",
           "x": [
            25.92,
            29.78,
            28.62,
            30.13,
            29.72,
            29.21,
            29.4,
            26.08,
            28.67,
            29.29,
            29.06
           ],
           "y": [
            27.34,
            22.44,
            10.16,
            27.08,
            44.89,
            30.28,
            28.76,
            24.56,
            17.51,
            25.61,
            24.31
           ]
          },
          {
           "hoverinfo": "text",
           "hovertext": [
            "nflId:41263.0<br>displayName:Demarcus Lawrence<br>Position:LEO<br>Role:Pass Rush",
            "nflId:42403.0<br>displayName:Randy Gregory<br>Position:REO<br>Role:Pass Rush",
            "nflId:43306.0<br>displayName:Keanu Neal<br>Position:LLB<br>Role:Coverage",
            "nflId:43478.0<br>displayName:Anthony Brown<br>Position:LCB<br>Role:Coverage",
            "nflId:44904.0<br>displayName:Jourdan Lewis<br>Position:SCBL<br>Role:Coverage",
            "nflId:44955.0<br>displayName:Carlos Watkins<br>Position:DLT<br>Role:Pass Rush",
            "nflId:44962.0<br>displayName:Damontae Kazee<br>Position:SSL<br>Role:Coverage",
            "nflId:47996.0<br>displayName:Donovan Wilson<br>Position:FSR<br>Role:Coverage",
            "nflId:52459.0<br>displayName:Trevon Diggs<br>Position:RCB<br>Role:Coverage",
            "nflId:53441.0<br>displayName:Micah Parsons<br>Position:RILB<br>Role:Coverage",
            "nflId:53504.0<br>displayName:Osa Odighizuwa<br>Position:DRT<br>Role:Pass Rush"
           ],
           "marker": {
            "color": "#003594"
           },
           "mode": "markers",
           "name": "DAL",
           "type": "scatter",
           "x": [
            31.23,
            31.37,
            34.79,
            37.35,
            31.75,
            31.57,
            40.42,
            45.91,
            31.49,
            34.02,
            31.55
           ],
           "y": [
            21.09,
            33.44,
            24,
            10.47,
            16.21,
            25.2,
            20.34,
            31.49,
            44.64,
            27.96,
            28.13
           ]
          },
          {
           "hoverinfo": "none",
           "marker": {
            "color": "#CBB67C"
           },
           "mode": "markers",
           "name": "football",
           "type": "scatter",
           "x": [
            30.8
           ],
           "y": [
            27.07
           ]
          }
         ],
         "name": "5"
        },
        {
         "data": [
          {
           "hoverinfo": "none",
           "mode": "text",
           "showlegend": false,
           "text": [
            "10",
            "20",
            "30",
            "40",
            "50",
            "40",
            "30",
            "20",
            "10"
           ],
           "textfont": {
            "color": "#ffffff",
            "family": "Courier New, monospace",
            "size": 30
           },
           "type": "scatter",
           "x": [
            20,
            30,
            40,
            50,
            60,
            70,
            80,
            90,
            100
           ],
           "y": [
            5,
            5,
            5,
            5,
            5,
            5,
            5,
            5,
            5
           ]
          },
          {
           "hoverinfo": "none",
           "mode": "text",
           "showlegend": false,
           "text": [
            "10",
            "20",
            "30",
            "40",
            "50",
            "40",
            "30",
            "20",
            "10"
           ],
           "textfont": {
            "color": "#ffffff",
            "family": "Courier New, monospace",
            "size": 30
           },
           "type": "scatter",
           "x": [
            20,
            30,
            40,
            50,
            60,
            70,
            80,
            90,
            100
           ],
           "y": [
            48.5,
            48.5,
            48.5,
            48.5,
            48.5,
            48.5,
            48.5,
            48.5,
            48.5
           ]
          },
          {
           "hoverinfo": "none",
           "line": {
            "color": "blue",
            "dash": "dash"
           },
           "showlegend": false,
           "type": "scatter",
           "x": [
            31,
            31
           ],
           "y": [
            0,
            53.5
           ]
          },
          {
           "hoverinfo": "none",
           "line": {
            "color": "yellow",
            "dash": "dash"
           },
           "showlegend": false,
           "type": "scatter",
           "x": [
            41,
            41
           ],
           "y": [
            0,
            53.5
           ]
          },
          {
           "hoverinfo": "text",
           "hovertext": [
            "nflId:25511.0<br>displayName:Tom Brady<br>Position:QB<br>Role:Pass",
            "nflId:35481.0<br>displayName:Rob Gronkowski<br>Position:TE-R<br>Role:Pass Route",
            "nflId:35634.0<br>displayName:Antonio Brown<br>Position:RWR<br>Role:Pass Route",
            "nflId:40151.0<br>displayName:Ryan Jensen<br>Position:C<br>Role:Pass Block",
            "nflId:41233.0<br>displayName:Mike Evans<br>Position:LWR<br>Role:Pass Route",
            "nflId:42377.0<br>displayName:Donovan Smith<br>Position:LT<br>Role:Pass Block",
            "nflId:42404.0<br>displayName:Ali Marpet<br>Position:LG<br>Role:Pass Block",
            "nflId:44816.0<br>displayName:Leonard Fournette<br>Position:HB-R<br>Role:Pass Route",
            "nflId:44896.0<br>displayName:Chris Godwin<br>Position:SRWR<br>Role:Pass Route",
            "nflId:46163.0<br>displayName:Alex Cappa<br>Position:RG<br>Role:Pass Block",
            "nflId:52421.0<br>displayName:Tristan Wirfs<br>Position:RT<br>Role:Pass Block"
           ],
           "marker": {
            "color": "#D50A0A"
           },
           "mode": "markers",
           "name": "TB",
           "type": "scatter",
           "x": [
            25.92,
            29.79,
            28.63,
            30.11,
            29.72,
            29.14,
            29.38,
            26.1,
            28.67,
            29.29,
            29.01
           ],
           "y": [
            27.34,
            22.44,
            10.16,
            27.08,
            44.89,
            30.28,
            28.72,
            24.53,
            17.51,
            25.6,
            24.28
           ]
          },
          {
           "hoverinfo": "text",
           "hovertext": [
            "nflId:41263.0<br>displayName:Demarcus Lawrence<br>Position:LEO<br>Role:Pass Rush",
            "nflId:42403.0<br>displayName:Randy Gregory<br>Position:REO<br>Role:Pass Rush",
            "nflId:43306.0<br>displayName:Keanu Neal<br>Position:LLB<br>Role:Coverage",
            "nflId:43478.0<br>displayName:Anthony Brown<br>Position:LCB<br>Role:Coverage",
            "nflId:44904.0<br>displayName:Jourdan Lewis<br>Position:SCBL<br>Role:Coverage",
            "nflId:44955.0<br>displayName:Carlos Watkins<br>Position:DLT<br>Role:Pass Rush",
            "nflId:44962.0<br>displayName:Damontae Kazee<br>Position:SSL<br>Role:Coverage",
            "nflId:47996.0<br>displayName:Donovan Wilson<br>Position:FSR<br>Role:Coverage",
            "nflId:52459.0<br>displayName:Trevon Diggs<br>Position:RCB<br>Role:Coverage",
            "nflId:53441.0<br>displayName:Micah Parsons<br>Position:RILB<br>Role:Coverage",
            "nflId:53504.0<br>displayName:Osa Odighizuwa<br>Position:DRT<br>Role:Pass Rush"
           ],
           "marker": {
            "color": "#003594"
           },
           "mode": "markers",
           "name": "DAL",
           "type": "scatter",
           "x": [
            31.16,
            31.34,
            34.78,
            37.36,
            31.75,
            31.51,
            40.57,
            45.94,
            31.5,
            34.02,
            31.51
           ],
           "y": [
            21.13,
            33.44,
            23.99,
            10.47,
            16.23,
            25.18,
            20.39,
            31.45,
            44.65,
            27.95,
            28.13
           ]
          },
          {
           "hoverinfo": "none",
           "marker": {
            "color": "#CBB67C"
           },
           "mode": "markers",
           "name": "football",
           "type": "scatter",
           "x": [
            30.74
           ],
           "y": [
            27
           ]
          }
         ],
         "name": "6"
        },
        {
         "data": [
          {
           "hoverinfo": "none",
           "mode": "text",
           "showlegend": false,
           "text": [
            "10",
            "20",
            "30",
            "40",
            "50",
            "40",
            "30",
            "20",
            "10"
           ],
           "textfont": {
            "color": "#ffffff",
            "family": "Courier New, monospace",
            "size": 30
           },
           "type": "scatter",
           "x": [
            20,
            30,
            40,
            50,
            60,
            70,
            80,
            90,
            100
           ],
           "y": [
            5,
            5,
            5,
            5,
            5,
            5,
            5,
            5,
            5
           ]
          },
          {
           "hoverinfo": "none",
           "mode": "text",
           "showlegend": false,
           "text": [
            "10",
            "20",
            "30",
            "40",
            "50",
            "40",
            "30",
            "20",
            "10"
           ],
           "textfont": {
            "color": "#ffffff",
            "family": "Courier New, monospace",
            "size": 30
           },
           "type": "scatter",
           "x": [
            20,
            30,
            40,
            50,
            60,
            70,
            80,
            90,
            100
           ],
           "y": [
            48.5,
            48.5,
            48.5,
            48.5,
            48.5,
            48.5,
            48.5,
            48.5,
            48.5
           ]
          },
          {
           "hoverinfo": "none",
           "line": {
            "color": "blue",
            "dash": "dash"
           },
           "showlegend": false,
           "type": "scatter",
           "x": [
            31,
            31
           ],
           "y": [
            0,
            53.5
           ]
          },
          {
           "hoverinfo": "none",
           "line": {
            "color": "yellow",
            "dash": "dash"
           },
           "showlegend": false,
           "type": "scatter",
           "x": [
            41,
            41
           ],
           "y": [
            0,
            53.5
           ]
          },
          {
           "hoverinfo": "text",
           "hovertext": [
            "nflId:25511.0<br>displayName:Tom Brady<br>Position:QB<br>Role:Pass",
            "nflId:35481.0<br>displayName:Rob Gronkowski<br>Position:TE-R<br>Role:Pass Route",
            "nflId:35634.0<br>displayName:Antonio Brown<br>Position:RWR<br>Role:Pass Route",
            "nflId:40151.0<br>displayName:Ryan Jensen<br>Position:C<br>Role:Pass Block",
            "nflId:41233.0<br>displayName:Mike Evans<br>Position:LWR<br>Role:Pass Route",
            "nflId:42377.0<br>displayName:Donovan Smith<br>Position:LT<br>Role:Pass Block",
            "nflId:42404.0<br>displayName:Ali Marpet<br>Position:LG<br>Role:Pass Block",
            "nflId:44816.0<br>displayName:Leonard Fournette<br>Position:HB-R<br>Role:Pass Route",
            "nflId:44896.0<br>displayName:Chris Godwin<br>Position:SRWR<br>Role:Pass Route",
            "nflId:46163.0<br>displayName:Alex Cappa<br>Position:RG<br>Role:Pass Block",
            "nflId:52421.0<br>displayName:Tristan Wirfs<br>Position:RT<br>Role:Pass Block"
           ],
           "marker": {
            "color": "#D50A0A"
           },
           "mode": "markers",
           "name": "TB",
           "type": "scatter",
           "x": [
            25.91,
            29.82,
            28.66,
            30.08,
            29.72,
            29.05,
            29.37,
            26.1,
            28.68,
            29.28,
            28.93
           ],
           "y": [
            27.34,
            22.43,
            10.17,
            27.07,
            44.89,
            30.3,
            28.68,
            24.5,
            17.5,
            25.57,
            24.23
           ]
          },
          {
           "hoverinfo": "text",
           "hovertext": [
            "nflId:41263.0<br>displayName:Demarcus Lawrence<br>Position:LEO<br>Role:Pass Rush",
            "nflId:42403.0<br>displayName:Randy Gregory<br>Position:REO<br>Role:Pass Rush",
            "nflId:43306.0<br>displayName:Keanu Neal<br>Position:LLB<br>Role:Coverage",
            "nflId:43478.0<br>displayName:Anthony Brown<br>Position:LCB<br>Role:Coverage",
            "nflId:44904.0<br>displayName:Jourdan Lewis<br>Position:SCBL<br>Role:Coverage",
            "nflId:44955.0<br>displayName:Carlos Watkins<br>Position:DLT<br>Role:Pass Rush",
            "nflId:44962.0<br>displayName:Damontae Kazee<br>Position:SSL<br>Role:Coverage",
            "nflId:47996.0<br>displayName:Donovan Wilson<br>Position:FSR<br>Role:Coverage",
            "nflId:52459.0<br>displayName:Trevon Diggs<br>Position:RCB<br>Role:Coverage",
            "nflId:53441.0<br>displayName:Micah Parsons<br>Position:RILB<br>Role:Coverage",
            "nflId:53504.0<br>displayName:Osa Odighizuwa<br>Position:DRT<br>Role:Pass Rush"
           ],
           "marker": {
            "color": "#003594"
           },
           "mode": "markers",
           "name": "DAL",
           "type": "scatter",
           "x": [
            31.07,
            31.27,
            34.78,
            37.38,
            31.76,
            31.42,
            40.72,
            45.97,
            31.5,
            34.02,
            31.45
           ],
           "y": [
            21.16,
            33.42,
            23.98,
            10.48,
            16.23,
            25.16,
            20.43,
            31.42,
            44.65,
            27.92,
            28.13
           ]
          },
          {
           "hoverinfo": "none",
           "marker": {
            "color": "#CBB67C"
           },
           "mode": "markers",
           "name": "football",
           "type": "scatter",
           "x": [
            29.88
           ],
           "y": [
            27
           ]
          }
         ],
         "name": "7"
        },
        {
         "data": [
          {
           "hoverinfo": "none",
           "mode": "text",
           "showlegend": false,
           "text": [
            "10",
            "20",
            "30",
            "40",
            "50",
            "40",
            "30",
            "20",
            "10"
           ],
           "textfont": {
            "color": "#ffffff",
            "family": "Courier New, monospace",
            "size": 30
           },
           "type": "scatter",
           "x": [
            20,
            30,
            40,
            50,
            60,
            70,
            80,
            90,
            100
           ],
           "y": [
            5,
            5,
            5,
            5,
            5,
            5,
            5,
            5,
            5
           ]
          },
          {
           "hoverinfo": "none",
           "mode": "text",
           "showlegend": false,
           "text": [
            "10",
            "20",
            "30",
            "40",
            "50",
            "40",
            "30",
            "20",
            "10"
           ],
           "textfont": {
            "color": "#ffffff",
            "family": "Courier New, monospace",
            "size": 30
           },
           "type": "scatter",
           "x": [
            20,
            30,
            40,
            50,
            60,
            70,
            80,
            90,
            100
           ],
           "y": [
            48.5,
            48.5,
            48.5,
            48.5,
            48.5,
            48.5,
            48.5,
            48.5,
            48.5
           ]
          },
          {
           "hoverinfo": "none",
           "line": {
            "color": "blue",
            "dash": "dash"
           },
           "showlegend": false,
           "type": "scatter",
           "x": [
            31,
            31
           ],
           "y": [
            0,
            53.5
           ]
          },
          {
           "hoverinfo": "none",
           "line": {
            "color": "yellow",
            "dash": "dash"
           },
           "showlegend": false,
           "type": "scatter",
           "x": [
            41,
            41
           ],
           "y": [
            0,
            53.5
           ]
          },
          {
           "hoverinfo": "text",
           "hovertext": [
            "nflId:25511.0<br>displayName:Tom Brady<br>Position:QB<br>Role:Pass",
            "nflId:35481.0<br>displayName:Rob Gronkowski<br>Position:TE-R<br>Role:Pass Route",
            "nflId:35634.0<br>displayName:Antonio Brown<br>Position:RWR<br>Role:Pass Route",
            "nflId:40151.0<br>displayName:Ryan Jensen<br>Position:C<br>Role:Pass Block",
            "nflId:41233.0<br>displayName:Mike Evans<br>Position:LWR<br>Role:Pass Route",
            "nflId:42377.0<br>displayName:Donovan Smith<br>Position:LT<br>Role:Pass Block",
            "nflId:42404.0<br>displayName:Ali Marpet<br>Position:LG<br>Role:Pass Block",
            "nflId:44816.0<br>displayName:Leonard Fournette<br>Position:HB-R<br>Role:Pass Route",
            "nflId:44896.0<br>displayName:Chris Godwin<br>Position:SRWR<br>Role:Pass Route",
            "nflId:46163.0<br>displayName:Alex Cappa<br>Position:RG<br>Role:Pass Block",
            "nflId:52421.0<br>displayName:Tristan Wirfs<br>Position:RT<br>Role:Pass Block"
           ],
           "marker": {
            "color": "#D50A0A"
           },
           "mode": "markers",
           "name": "TB",
           "type": "scatter",
           "x": [
            25.91,
            29.88,
            28.72,
            30,
            29.73,
            28.93,
            29.37,
            26.11,
            28.69,
            29.27,
            28.81
           ],
           "y": [
            27.34,
            22.42,
            10.18,
            27.05,
            44.89,
            30.33,
            28.59,
            24.46,
            17.48,
            25.53,
            24.16
           ]
          },
          {
           "hoverinfo": "text",
           "hovertext": [
            "nflId:41263.0<br>displayName:Demarcus Lawrence<br>Position:LEO<br>Role:Pass Rush",
            "nflId:42403.0<br>displayName:Randy Gregory<br>Position:REO<br>Role:Pass Rush",
            "nflId:43306.0<br>displayName:Keanu Neal<br>Position:LLB<br>Role:Coverage",
            "nflId:43478.0<br>displayName:Anthony Brown<br>Position:LCB<br>Role:Coverage",
            "nflId:44904.0<br>displayName:Jourdan Lewis<br>Position:SCBL<br>Role:Coverage",
            "nflId:44955.0<br>displayName:Carlos Watkins<br>Position:DLT<br>Role:Pass Rush",
            "nflId:44962.0<br>displayName:Damontae Kazee<br>Position:SSL<br>Role:Coverage",
            "nflId:47996.0<br>displayName:Donovan Wilson<br>Position:FSR<br>Role:Coverage",
            "nflId:52459.0<br>displayName:Trevon Diggs<br>Position:RCB<br>Role:Coverage",
            "nflId:53441.0<br>displayName:Micah Parsons<br>Position:RILB<br>Role:Coverage",
            "nflId:53504.0<br>displayName:Osa Odighizuwa<br>Position:DRT<br>Role:Pass Rush"
           ],
           "marker": {
            "color": "#003594"
           },
           "mode": "markers",
           "name": "DAL",
           "type": "scatter",
           "x": [
            30.95,
            31.16,
            34.78,
            37.41,
            31.77,
            31.3,
            40.87,
            46.01,
            31.51,
            34.02,
            31.37
           ],
           "y": [
            21.19,
            33.39,
            23.93,
            10.49,
            16.25,
            25.12,
            20.47,
            31.41,
            44.65,
            27.88,
            28.13
           ]
          },
          {
           "hoverinfo": "none",
           "marker": {
            "color": "#CBB67C"
           },
           "mode": "markers",
           "name": "football",
           "type": "scatter",
           "x": [
            29.03
           ],
           "y": [
            26.99
           ]
          }
         ],
         "name": "8"
        },
        {
         "data": [
          {
           "hoverinfo": "none",
           "mode": "text",
           "showlegend": false,
           "text": [
            "10",
            "20",
            "30",
            "40",
            "50",
            "40",
            "30",
            "20",
            "10"
           ],
           "textfont": {
            "color": "#ffffff",
            "family": "Courier New, monospace",
            "size": 30
           },
           "type": "scatter",
           "x": [
            20,
            30,
            40,
            50,
            60,
            70,
            80,
            90,
            100
           ],
           "y": [
            5,
            5,
            5,
            5,
            5,
            5,
            5,
            5,
            5
           ]
          },
          {
           "hoverinfo": "none",
           "mode": "text",
           "showlegend": false,
           "text": [
            "10",
            "20",
            "30",
            "40",
            "50",
            "40",
            "30",
            "20",
            "10"
           ],
           "textfont": {
            "color": "#ffffff",
            "family": "Courier New, monospace",
            "size": 30
           },
           "type": "scatter",
           "x": [
            20,
            30,
            40,
            50,
            60,
            70,
            80,
            90,
            100
           ],
           "y": [
            48.5,
            48.5,
            48.5,
            48.5,
            48.5,
            48.5,
            48.5,
            48.5,
            48.5
           ]
          },
          {
           "hoverinfo": "none",
           "line": {
            "color": "blue",
            "dash": "dash"
           },
           "showlegend": false,
           "type": "scatter",
           "x": [
            31,
            31
           ],
           "y": [
            0,
            53.5
           ]
          },
          {
           "hoverinfo": "none",
           "line": {
            "color": "yellow",
            "dash": "dash"
           },
           "showlegend": false,
           "type": "scatter",
           "x": [
            41,
            41
           ],
           "y": [
            0,
            53.5
           ]
          },
          {
           "hoverinfo": "text",
           "hovertext": [
            "nflId:25511.0<br>displayName:Tom Brady<br>Position:QB<br>Role:Pass",
            "nflId:35481.0<br>displayName:Rob Gronkowski<br>Position:TE-R<br>Role:Pass Route",
            "nflId:35634.0<br>displayName:Antonio Brown<br>Position:RWR<br>Role:Pass Route",
            "nflId:40151.0<br>displayName:Ryan Jensen<br>Position:C<br>Role:Pass Block",
            "nflId:41233.0<br>displayName:Mike Evans<br>Position:LWR<br>Role:Pass Route",
            "nflId:42377.0<br>displayName:Donovan Smith<br>Position:LT<br>Role:Pass Block",
            "nflId:42404.0<br>displayName:Ali Marpet<br>Position:LG<br>Role:Pass Block",
            "nflId:44816.0<br>displayName:Leonard Fournette<br>Position:HB-R<br>Role:Pass Route",
            "nflId:44896.0<br>displayName:Chris Godwin<br>Position:SRWR<br>Role:Pass Route",
            "nflId:46163.0<br>displayName:Alex Cappa<br>Position:RG<br>Role:Pass Block",
            "nflId:52421.0<br>displayName:Tristan Wirfs<br>Position:RT<br>Role:Pass Block"
           ],
           "marker": {
            "color": "#D50A0A"
           },
           "mode": "markers",
           "name": "TB",
           "type": "scatter",
           "x": [
            25.89,
            29.99,
            28.87,
            29.9,
            29.74,
            28.75,
            29.36,
            26.13,
            28.72,
            29.26,
            28.67
           ],
           "y": [
            27.34,
            22.41,
            10.19,
            27.01,
            44.89,
            30.36,
            28.53,
            24.38,
            17.44,
            25.49,
            24.09
           ]
          },
          {
           "hoverinfo": "text",
           "hovertext": [
            "nflId:41263.0<br>displayName:Demarcus Lawrence<br>Position:LEO<br>Role:Pass Rush",
            "nflId:42403.0<br>displayName:Randy Gregory<br>Position:REO<br>Role:Pass Rush",
            "nflId:43306.0<br>displayName:Keanu Neal<br>Position:LLB<br>Role:Coverage",
            "nflId:43478.0<br>displayName:Anthony Brown<br>Position:LCB<br>Role:Coverage",
            "nflId:44904.0<br>displayName:Jourdan Lewis<br>Position:SCBL<br>Role:Coverage",
            "nflId:44955.0<br>displayName:Carlos Watkins<br>Position:DLT<br>Role:Pass Rush",
            "nflId:44962.0<br>displayName:Damontae Kazee<br>Position:SSL<br>Role:Coverage",
            "nflId:47996.0<br>displayName:Donovan Wilson<br>Position:FSR<br>Role:Coverage",
            "nflId:52459.0<br>displayName:Trevon Diggs<br>Position:RCB<br>Role:Coverage",
            "nflId:53441.0<br>displayName:Micah Parsons<br>Position:RILB<br>Role:Coverage",
            "nflId:53504.0<br>displayName:Osa Odighizuwa<br>Position:DRT<br>Role:Pass Rush"
           ],
           "marker": {
            "color": "#003594"
           },
           "mode": "markers",
           "name": "DAL",
           "type": "scatter",
           "x": [
            30.76,
            30.99,
            34.79,
            37.43,
            31.79,
            31.11,
            41.01,
            46.05,
            31.52,
            34.02,
            31.25
           ],
           "y": [
            21.25,
            33.35,
            23.88,
            10.5,
            16.27,
            25.07,
            20.51,
            31.41,
            44.66,
            27.82,
            28.12
           ]
          },
          {
           "hoverinfo": "none",
           "marker": {
            "color": "#CBB67C"
           },
           "mode": "markers",
           "name": "football",
           "type": "scatter",
           "x": [
            28.2
           ],
           "y": [
            27
           ]
          }
         ],
         "name": "9"
        },
        {
         "data": [
          {
           "hoverinfo": "none",
           "mode": "text",
           "showlegend": false,
           "text": [
            "10",
            "20",
            "30",
            "40",
            "50",
            "40",
            "30",
            "20",
            "10"
           ],
           "textfont": {
            "color": "#ffffff",
            "family": "Courier New, monospace",
            "size": 30
           },
           "type": "scatter",
           "x": [
            20,
            30,
            40,
            50,
            60,
            70,
            80,
            90,
            100
           ],
           "y": [
            5,
            5,
            5,
            5,
            5,
            5,
            5,
            5,
            5
           ]
          },
          {
           "hoverinfo": "none",
           "mode": "text",
           "showlegend": false,
           "text": [
            "10",
            "20",
            "30",
            "40",
            "50",
            "40",
            "30",
            "20",
            "10"
           ],
           "textfont": {
            "color": "#ffffff",
            "family": "Courier New, monospace",
            "size": 30
           },
           "type": "scatter",
           "x": [
            20,
            30,
            40,
            50,
            60,
            70,
            80,
            90,
            100
           ],
           "y": [
            48.5,
            48.5,
            48.5,
            48.5,
            48.5,
            48.5,
            48.5,
            48.5,
            48.5
           ]
          },
          {
           "hoverinfo": "none",
           "line": {
            "color": "blue",
            "dash": "dash"
           },
           "showlegend": false,
           "type": "scatter",
           "x": [
            31,
            31
           ],
           "y": [
            0,
            53.5
           ]
          },
          {
           "hoverinfo": "none",
           "line": {
            "color": "yellow",
            "dash": "dash"
           },
           "showlegend": false,
           "type": "scatter",
           "x": [
            41,
            41
           ],
           "y": [
            0,
            53.5
           ]
          },
          {
           "hoverinfo": "text",
           "hovertext": [
            "nflId:25511.0<br>displayName:Tom Brady<br>Position:QB<br>Role:Pass",
            "nflId:35481.0<br>displayName:Rob Gronkowski<br>Position:TE-R<br>Role:Pass Route",
            "nflId:35634.0<br>displayName:Antonio Brown<br>Position:RWR<br>Role:Pass Route",
            "nflId:40151.0<br>displayName:Ryan Jensen<br>Position:C<br>Role:Pass Block",
            "nflId:41233.0<br>displayName:Mike Evans<br>Position:LWR<br>Role:Pass Route",
            "nflId:42377.0<br>displayName:Donovan Smith<br>Position:LT<br>Role:Pass Block",
            "nflId:42404.0<br>displayName:Ali Marpet<br>Position:LG<br>Role:Pass Block",
            "nflId:44816.0<br>displayName:Leonard Fournette<br>Position:HB-R<br>Role:Pass Route",
            "nflId:44896.0<br>displayName:Chris Godwin<br>Position:SRWR<br>Role:Pass Route",
            "nflId:46163.0<br>displayName:Alex Cappa<br>Position:RG<br>Role:Pass Block",
            "nflId:52421.0<br>displayName:Tristan Wirfs<br>Position:RT<br>Role:Pass Block"
           ],
           "marker": {
            "color": "#D50A0A"
           },
           "mode": "markers",
           "name": "TB",
           "type": "scatter",
           "x": [
            25.82,
            30.13,
            29.07,
            29.76,
            29.76,
            28.57,
            29.34,
            26.18,
            28.8,
            29.2,
            28.5
           ],
           "y": [
            27.33,
            22.4,
            10.22,
            26.97,
            44.9,
            30.39,
            28.46,
            24.23,
            17.37,
            25.41,
            24
           ]
          },
          {
           "hoverinfo": "text",
           "hovertext": [
            "nflId:41263.0<br>displayName:Demarcus Lawrence<br>Position:LEO<br>Role:Pass Rush",
            "nflId:42403.0<br>displayName:Randy Gregory<br>Position:REO<br>Role:Pass Rush",
            "nflId:43306.0<br>displayName:Keanu Neal<br>Position:LLB<br>Role:Coverage",
            "nflId:43478.0<br>displayName:Anthony Brown<br>Position:LCB<br>Role:Coverage",
            "nflId:44904.0<br>displayName:Jourdan Lewis<br>Position:SCBL<br>Role:Coverage",
            "nflId:44955.0<br>displayName:Carlos Watkins<br>Position:DLT<br>Role:Pass Rush",
            "nflId:44962.0<br>displayName:Damontae Kazee<br>Position:SSL<br>Role:Coverage",
            "nflId:47996.0<br>displayName:Donovan Wilson<br>Position:FSR<br>Role:Coverage",
            "nflId:52459.0<br>displayName:Trevon Diggs<br>Position:RCB<br>Role:Coverage",
            "nflId:53441.0<br>displayName:Micah Parsons<br>Position:RILB<br>Role:Coverage",
            "nflId:53504.0<br>displayName:Osa Odighizuwa<br>Position:DRT<br>Role:Pass Rush"
           ],
           "marker": {
            "color": "#003594"
           },
           "mode": "markers",
           "name": "DAL",
           "type": "scatter",
           "x": [
            30.54,
            30.76,
            34.8,
            37.46,
            31.81,
            30.88,
            41.15,
            46.1,
            31.52,
            34.01,
            31.09
           ],
           "y": [
            21.33,
            33.29,
            23.8,
            10.5,
            16.28,
            25.01,
            20.54,
            31.43,
            44.66,
            27.74,
            28.14
           ]
          },
          {
           "hoverinfo": "none",
           "marker": {
            "color": "#CBB67C"
           },
           "mode": "markers",
           "name": "football",
           "type": "scatter",
           "x": [
            27.39
           ],
           "y": [
            27.01
           ]
          }
         ],
         "name": "10"
        },
        {
         "data": [
          {
           "hoverinfo": "none",
           "mode": "text",
           "showlegend": false,
           "text": [
            "10",
            "20",
            "30",
            "40",
            "50",
            "40",
            "30",
            "20",
            "10"
           ],
           "textfont": {
            "color": "#ffffff",
            "family": "Courier New, monospace",
            "size": 30
           },
           "type": "scatter",
           "x": [
            20,
            30,
            40,
            50,
            60,
            70,
            80,
            90,
            100
           ],
           "y": [
            5,
            5,
            5,
            5,
            5,
            5,
            5,
            5,
            5
           ]
          },
          {
           "hoverinfo": "none",
           "mode": "text",
           "showlegend": false,
           "text": [
            "10",
            "20",
            "30",
            "40",
            "50",
            "40",
            "30",
            "20",
            "10"
           ],
           "textfont": {
            "color": "#ffffff",
            "family": "Courier New, monospace",
            "size": 30
           },
           "type": "scatter",
           "x": [
            20,
            30,
            40,
            50,
            60,
            70,
            80,
            90,
            100
           ],
           "y": [
            48.5,
            48.5,
            48.5,
            48.5,
            48.5,
            48.5,
            48.5,
            48.5,
            48.5
           ]
          },
          {
           "hoverinfo": "none",
           "line": {
            "color": "blue",
            "dash": "dash"
           },
           "showlegend": false,
           "type": "scatter",
           "x": [
            31,
            31
           ],
           "y": [
            0,
            53.5
           ]
          },
          {
           "hoverinfo": "none",
           "line": {
            "color": "yellow",
            "dash": "dash"
           },
           "showlegend": false,
           "type": "scatter",
           "x": [
            41,
            41
           ],
           "y": [
            0,
            53.5
           ]
          },
          {
           "hoverinfo": "text",
           "hovertext": [
            "nflId:25511.0<br>displayName:Tom Brady<br>Position:QB<br>Role:Pass",
            "nflId:35481.0<br>displayName:Rob Gronkowski<br>Position:TE-R<br>Role:Pass Route",
            "nflId:35634.0<br>displayName:Antonio Brown<br>Position:RWR<br>Role:Pass Route",
            "nflId:40151.0<br>displayName:Ryan Jensen<br>Position:C<br>Role:Pass Block",
            "nflId:41233.0<br>displayName:Mike Evans<br>Position:LWR<br>Role:Pass Route",
            "nflId:42377.0<br>displayName:Donovan Smith<br>Position:LT<br>Role:Pass Block",
            "nflId:42404.0<br>displayName:Ali Marpet<br>Position:LG<br>Role:Pass Block",
            "nflId:44816.0<br>displayName:Leonard Fournette<br>Position:HB-R<br>Role:Pass Route",
            "nflId:44896.0<br>displayName:Chris Godwin<br>Position:SRWR<br>Role:Pass Route",
            "nflId:46163.0<br>displayName:Alex Cappa<br>Position:RG<br>Role:Pass Block",
            "nflId:52421.0<br>displayName:Tristan Wirfs<br>Position:RT<br>Role:Pass Block"
           ],
           "marker": {
            "color": "#D50A0A"
           },
           "mode": "markers",
           "name": "TB",
           "type": "scatter",
           "x": [
            25.72,
            30.32,
            29.35,
            29.6,
            29.83,
            28.38,
            29.33,
            26.24,
            28.92,
            29.13,
            28.3
           ],
           "y": [
            27.33,
            22.38,
            10.22,
            26.89,
            44.94,
            30.43,
            28.37,
            24.03,
            17.22,
            25.34,
            23.9
           ]
          },
          {
           "hoverinfo": "text",
           "hovertext": [
            "nflId:41263.0<br>displayName:Demarcus Lawrence<br>Position:LEO<br>Role:Pass Rush",
            "nflId:42403.0<br>displayName:Randy Gregory<br>Position:REO<br>Role:Pass Rush",
            "nflId:43306.0<br>displayName:Keanu Neal<br>Position:LLB<br>Role:Coverage",
            "nflId:43478.0<br>displayName:Anthony Brown<br>Position:LCB<br>Role:Coverage",
            "nflId:44904.0<br>displayName:Jourdan Lewis<br>Position:SCBL<br>Role:Coverage",
            "nflId:44955.0<br>displayName:Carlos Watkins<br>Position:DLT<br>Role:Pass Rush",
            "nflId:44962.0<br>displayName:Damontae Kazee<br>Position:SSL<br>Role:Coverage",
            "nflId:47996.0<br>displayName:Donovan Wilson<br>Position:FSR<br>Role:Coverage",
            "nflId:52459.0<br>displayName:Trevon Diggs<br>Position:RCB<br>Role:Coverage",
            "nflId:53441.0<br>displayName:Micah Parsons<br>Position:RILB<br>Role:Coverage",
            "nflId:53504.0<br>displayName:Osa Odighizuwa<br>Position:DRT<br>Role:Pass Rush"
           ],
           "marker": {
            "color": "#003594"
           },
           "mode": "markers",
           "name": "DAL",
           "type": "scatter",
           "x": [
            30.29,
            30.45,
            34.83,
            37.52,
            31.84,
            30.63,
            41.3,
            46.16,
            31.54,
            34.01,
            30.92
           ],
           "y": [
            21.43,
            33.2,
            23.71,
            10.55,
            16.24,
            24.94,
            20.57,
            31.47,
            44.67,
            27.64,
            28.15
           ]
          },
          {
           "hoverinfo": "none",
           "marker": {
            "color": "#CBB67C"
           },
           "mode": "markers",
           "name": "football",
           "type": "scatter",
           "x": [
            26.65
           ],
           "y": [
            27.03
           ]
          }
         ],
         "name": "11"
        },
        {
         "data": [
          {
           "hoverinfo": "none",
           "mode": "text",
           "showlegend": false,
           "text": [
            "10",
            "20",
            "30",
            "40",
            "50",
            "40",
            "30",
            "20",
            "10"
           ],
           "textfont": {
            "color": "#ffffff",
            "family": "Courier New, monospace",
            "size": 30
           },
           "type": "scatter",
           "x": [
            20,
            30,
            40,
            50,
            60,
            70,
            80,
            90,
            100
           ],
           "y": [
            5,
            5,
            5,
            5,
            5,
            5,
            5,
            5,
            5
           ]
          },
          {
           "hoverinfo": "none",
           "mode": "text",
           "showlegend": false,
           "text": [
            "10",
            "20",
            "30",
            "40",
            "50",
            "40",
            "30",
            "20",
            "10"
           ],
           "textfont": {
            "color": "#ffffff",
            "family": "Courier New, monospace",
            "size": 30
           },
           "type": "scatter",
           "x": [
            20,
            30,
            40,
            50,
            60,
            70,
            80,
            90,
            100
           ],
           "y": [
            48.5,
            48.5,
            48.5,
            48.5,
            48.5,
            48.5,
            48.5,
            48.5,
            48.5
           ]
          },
          {
           "hoverinfo": "none",
           "line": {
            "color": "blue",
            "dash": "dash"
           },
           "showlegend": false,
           "type": "scatter",
           "x": [
            31,
            31
           ],
           "y": [
            0,
            53.5
           ]
          },
          {
           "hoverinfo": "none",
           "line": {
            "color": "yellow",
            "dash": "dash"
           },
           "showlegend": false,
           "type": "scatter",
           "x": [
            41,
            41
           ],
           "y": [
            0,
            53.5
           ]
          },
          {
           "hoverinfo": "text",
           "hovertext": [
            "nflId:25511.0<br>displayName:Tom Brady<br>Position:QB<br>Role:Pass",
            "nflId:35481.0<br>displayName:Rob Gronkowski<br>Position:TE-R<br>Role:Pass Route",
            "nflId:35634.0<br>displayName:Antonio Brown<br>Position:RWR<br>Role:Pass Route",
            "nflId:40151.0<br>displayName:Ryan Jensen<br>Position:C<br>Role:Pass Block",
            "nflId:41233.0<br>displayName:Mike Evans<br>Position:LWR<br>Role:Pass Route",
            "nflId:42377.0<br>displayName:Donovan Smith<br>Position:LT<br>Role:Pass Block",
            "nflId:42404.0<br>displayName:Ali Marpet<br>Position:LG<br>Role:Pass Block",
            "nflId:44816.0<br>displayName:Leonard Fournette<br>Position:HB-R<br>Role:Pass Route",
            "nflId:44896.0<br>displayName:Chris Godwin<br>Position:SRWR<br>Role:Pass Route",
            "nflId:46163.0<br>displayName:Alex Cappa<br>Position:RG<br>Role:Pass Block",
            "nflId:52421.0<br>displayName:Tristan Wirfs<br>Position:RT<br>Role:Pass Block"
           ],
           "marker": {
            "color": "#D50A0A"
           },
           "mode": "markers",
           "name": "TB",
           "type": "scatter",
           "x": [
            25.56,
            30.55,
            29.66,
            29.42,
            29.95,
            28.15,
            29.28,
            26.32,
            29.07,
            29.07,
            28.09
           ],
           "y": [
            27.33,
            22.37,
            10.24,
            26.79,
            45,
            30.46,
            28.29,
            23.79,
            17.03,
            25.28,
            23.81
           ]
          },
          {
           "hoverinfo": "text",
           "hovertext": [
            "nflId:41263.0<br>displayName:Demarcus Lawrence<br>Position:LEO<br>Role:Pass Rush",
            "nflId:42403.0<br>displayName:Randy Gregory<br>Position:REO<br>Role:Pass Rush",
            "nflId:43306.0<br>displayName:Keanu Neal<br>Position:LLB<br>Role:Coverage",
            "nflId:43478.0<br>displayName:Anthony Brown<br>Position:LCB<br>Role:Coverage",
            "nflId:44904.0<br>displayName:Jourdan Lewis<br>Position:SCBL<br>Role:Coverage",
            "nflId:44955.0<br>displayName:Carlos Watkins<br>Position:DLT<br>Role:Pass Rush",
            "nflId:44962.0<br>displayName:Damontae Kazee<br>Position:SSL<br>Role:Coverage",
            "nflId:47996.0<br>displayName:Donovan Wilson<br>Position:FSR<br>Role:Coverage",
            "nflId:52459.0<br>displayName:Trevon Diggs<br>Position:RCB<br>Role:Coverage",
            "nflId:53441.0<br>displayName:Micah Parsons<br>Position:RILB<br>Role:Coverage",
            "nflId:53504.0<br>displayName:Osa Odighizuwa<br>Position:DRT<br>Role:Pass Rush"
           ],
           "marker": {
            "color": "#003594"
           },
           "mode": "markers",
           "name": "DAL",
           "type": "scatter",
           "x": [
            30.01,
            30.11,
            34.87,
            37.6,
            31.87,
            30.34,
            41.44,
            46.22,
            31.57,
            34,
            30.72
           ],
           "y": [
            21.55,
            33.12,
            23.6,
            10.58,
            16.17,
            24.87,
            20.58,
            31.53,
            44.69,
            27.53,
            28.15
           ]
          },
          {
           "hoverinfo": "none",
           "marker": {
            "color": "#CBB67C"
           },
           "mode": "markers",
           "name": "football",
           "type": "scatter",
           "x": [
            25.99
           ],
           "y": [
            27.07
           ]
          }
         ],
         "name": "12"
        },
        {
         "data": [
          {
           "hoverinfo": "none",
           "mode": "text",
           "showlegend": false,
           "text": [
            "10",
            "20",
            "30",
            "40",
            "50",
            "40",
            "30",
            "20",
            "10"
           ],
           "textfont": {
            "color": "#ffffff",
            "family": "Courier New, monospace",
            "size": 30
           },
           "type": "scatter",
           "x": [
            20,
            30,
            40,
            50,
            60,
            70,
            80,
            90,
            100
           ],
           "y": [
            5,
            5,
            5,
            5,
            5,
            5,
            5,
            5,
            5
           ]
          },
          {
           "hoverinfo": "none",
           "mode": "text",
           "showlegend": false,
           "text": [
            "10",
            "20",
            "30",
            "40",
            "50",
            "40",
            "30",
            "20",
            "10"
           ],
           "textfont": {
            "color": "#ffffff",
            "family": "Courier New, monospace",
            "size": 30
           },
           "type": "scatter",
           "x": [
            20,
            30,
            40,
            50,
            60,
            70,
            80,
            90,
            100
           ],
           "y": [
            48.5,
            48.5,
            48.5,
            48.5,
            48.5,
            48.5,
            48.5,
            48.5,
            48.5
           ]
          },
          {
           "hoverinfo": "none",
           "line": {
            "color": "blue",
            "dash": "dash"
           },
           "showlegend": false,
           "type": "scatter",
           "x": [
            31,
            31
           ],
           "y": [
            0,
            53.5
           ]
          },
          {
           "hoverinfo": "none",
           "line": {
            "color": "yellow",
            "dash": "dash"
           },
           "showlegend": false,
           "type": "scatter",
           "x": [
            41,
            41
           ],
           "y": [
            0,
            53.5
           ]
          },
          {
           "hoverinfo": "text",
           "hovertext": [
            "nflId:25511.0<br>displayName:Tom Brady<br>Position:QB<br>Role:Pass",
            "nflId:35481.0<br>displayName:Rob Gronkowski<br>Position:TE-R<br>Role:Pass Route",
            "nflId:35634.0<br>displayName:Antonio Brown<br>Position:RWR<br>Role:Pass Route",
            "nflId:40151.0<br>displayName:Ryan Jensen<br>Position:C<br>Role:Pass Block",
            "nflId:41233.0<br>displayName:Mike Evans<br>Position:LWR<br>Role:Pass Route",
            "nflId:42377.0<br>displayName:Donovan Smith<br>Position:LT<br>Role:Pass Block",
            "nflId:42404.0<br>displayName:Ali Marpet<br>Position:LG<br>Role:Pass Block",
            "nflId:44816.0<br>displayName:Leonard Fournette<br>Position:HB-R<br>Role:Pass Route",
            "nflId:44896.0<br>displayName:Chris Godwin<br>Position:SRWR<br>Role:Pass Route",
            "nflId:46163.0<br>displayName:Alex Cappa<br>Position:RG<br>Role:Pass Block",
            "nflId:52421.0<br>displayName:Tristan Wirfs<br>Position:RT<br>Role:Pass Block"
           ],
           "marker": {
            "color": "#D50A0A"
           },
           "mode": "markers",
           "name": "TB",
           "type": "scatter",
           "x": [
            25.36,
            30.83,
            30.05,
            29.22,
            30.15,
            27.91,
            29.21,
            26.48,
            29.27,
            28.98,
            27.87
           ],
           "y": [
            27.33,
            22.37,
            10.28,
            26.69,
            45.12,
            30.49,
            28.22,
            23.4,
            16.76,
            25.23,
            23.71
           ]
          },
          {
           "hoverinfo": "text",
           "hovertext": [
            "nflId:41263.0<br>displayName:Demarcus Lawrence<br>Position:LEO<br>Role:Pass Rush",
            "nflId:42403.0<br>displayName:Randy Gregory<br>Position:REO<br>Role:Pass Rush",
            "nflId:43306.0<br>displayName:Keanu Neal<br>Position:LLB<br>Role:Coverage",
            "nflId:43478.0<br>displayName:Anthony Brown<br>Position:LCB<br>Role:Coverage",
            "nflId:44904.0<br>displayName:Jourdan Lewis<br>Position:SCBL<br>Role:Coverage",
            "nflId:44955.0<br>displayName:Carlos Watkins<br>Position:DLT<br>Role:Pass Rush",
            "nflId:44962.0<br>displayName:Damontae Kazee<br>Position:SSL<br>Role:Coverage",
            "nflId:47996.0<br>displayName:Donovan Wilson<br>Position:FSR<br>Role:Coverage",
            "nflId:52459.0<br>displayName:Trevon Diggs<br>Position:RCB<br>Role:Coverage",
            "nflId:53441.0<br>displayName:Micah Parsons<br>Position:RILB<br>Role:Coverage",
            "nflId:53504.0<br>displayName:Osa Odighizuwa<br>Position:DRT<br>Role:Pass Rush"
           ],
           "marker": {
            "color": "#003594"
           },
           "mode": "markers",
           "name": "DAL",
           "type": "scatter",
           "x": [
            29.7,
            29.73,
            34.92,
            37.63,
            31.92,
            30.04,
            41.58,
            46.3,
            31.63,
            34,
            30.53
           ],
           "y": [
            21.67,
            33.01,
            23.47,
            10.59,
            16.04,
            24.8,
            20.6,
            31.63,
            44.74,
            27.39,
            28.15
           ]
          },
          {
           "hoverinfo": "none",
           "marker": {
            "color": "#CBB67C"
           },
           "mode": "markers",
           "name": "football",
           "type": "scatter",
           "x": [
            25.43
           ],
           "y": [
            27.11
           ]
          }
         ],
         "name": "13"
        },
        {
         "data": [
          {
           "hoverinfo": "none",
           "mode": "text",
           "showlegend": false,
           "text": [
            "10",
            "20",
            "30",
            "40",
            "50",
            "40",
            "30",
            "20",
            "10"
           ],
           "textfont": {
            "color": "#ffffff",
            "family": "Courier New, monospace",
            "size": 30
           },
           "type": "scatter",
           "x": [
            20,
            30,
            40,
            50,
            60,
            70,
            80,
            90,
            100
           ],
           "y": [
            5,
            5,
            5,
            5,
            5,
            5,
            5,
            5,
            5
           ]
          },
          {
           "hoverinfo": "none",
           "mode": "text",
           "showlegend": false,
           "text": [
            "10",
            "20",
            "30",
            "40",
            "50",
            "40",
            "30",
            "20",
            "10"
           ],
           "textfont": {
            "color": "#ffffff",
            "family": "Courier New, monospace",
            "size": 30
           },
           "type": "scatter",
           "x": [
            20,
            30,
            40,
            50,
            60,
            70,
            80,
            90,
            100
           ],
           "y": [
            48.5,
            48.5,
            48.5,
            48.5,
            48.5,
            48.5,
            48.5,
            48.5,
            48.5
           ]
          },
          {
           "hoverinfo": "none",
           "line": {
            "color": "blue",
            "dash": "dash"
           },
           "showlegend": false,
           "type": "scatter",
           "x": [
            31,
            31
           ],
           "y": [
            0,
            53.5
           ]
          },
          {
           "hoverinfo": "none",
           "line": {
            "color": "yellow",
            "dash": "dash"
           },
           "showlegend": false,
           "type": "scatter",
           "x": [
            41,
            41
           ],
           "y": [
            0,
            53.5
           ]
          },
          {
           "hoverinfo": "text",
           "hovertext": [
            "nflId:25511.0<br>displayName:Tom Brady<br>Position:QB<br>Role:Pass",
            "nflId:35481.0<br>displayName:Rob Gronkowski<br>Position:TE-R<br>Role:Pass Route",
            "nflId:35634.0<br>displayName:Antonio Brown<br>Position:RWR<br>Role:Pass Route",
            "nflId:40151.0<br>displayName:Ryan Jensen<br>Position:C<br>Role:Pass Block",
            "nflId:41233.0<br>displayName:Mike Evans<br>Position:LWR<br>Role:Pass Route",
            "nflId:42377.0<br>displayName:Donovan Smith<br>Position:LT<br>Role:Pass Block",
            "nflId:42404.0<br>displayName:Ali Marpet<br>Position:LG<br>Role:Pass Block",
            "nflId:44816.0<br>displayName:Leonard Fournette<br>Position:HB-R<br>Role:Pass Route",
            "nflId:44896.0<br>displayName:Chris Godwin<br>Position:SRWR<br>Role:Pass Route",
            "nflId:46163.0<br>displayName:Alex Cappa<br>Position:RG<br>Role:Pass Block",
            "nflId:52421.0<br>displayName:Tristan Wirfs<br>Position:RT<br>Role:Pass Block"
           ],
           "marker": {
            "color": "#D50A0A"
           },
           "mode": "markers",
           "name": "TB",
           "type": "scatter",
           "x": [
            25.12,
            31.14,
            30.49,
            29,
            30.36,
            27.66,
            29.13,
            26.63,
            29.48,
            28.81,
            27.63
           ],
           "y": [
            27.33,
            22.38,
            10.31,
            26.57,
            45.27,
            30.53,
            28.15,
            22.97,
            16.42,
            25.18,
            23.62
           ]
          },
          {
           "hoverinfo": "text",
           "hovertext": [
            "nflId:41263.0<br>displayName:Demarcus Lawrence<br>Position:LEO<br>Role:Pass Rush",
            "nflId:42403.0<br>displayName:Randy Gregory<br>Position:REO<br>Role:Pass Rush",
            "nflId:43306.0<br>displayName:Keanu Neal<br>Position:LLB<br>Role:Coverage",
            "nflId:43478.0<br>displayName:Anthony Brown<br>Position:LCB<br>Role:Coverage",
            "nflId:44904.0<br>displayName:Jourdan Lewis<br>Position:SCBL<br>Role:Coverage",
            "nflId:44955.0<br>displayName:Carlos Watkins<br>Position:DLT<br>Role:Pass Rush",
            "nflId:44962.0<br>displayName:Damontae Kazee<br>Position:SSL<br>Role:Coverage",
            "nflId:47996.0<br>displayName:Donovan Wilson<br>Position:FSR<br>Role:Coverage",
            "nflId:52459.0<br>displayName:Trevon Diggs<br>Position:RCB<br>Role:Coverage",
            "nflId:53441.0<br>displayName:Micah Parsons<br>Position:RILB<br>Role:Coverage",
            "nflId:53504.0<br>displayName:Osa Odighizuwa<br>Position:DRT<br>Role:Pass Rush"
           ],
           "marker": {
            "color": "#003594"
           },
           "mode": "markers",
           "name": "DAL",
           "type": "scatter",
           "x": [
            29.36,
            29.27,
            34.98,
            37.69,
            31.98,
            29.74,
            41.73,
            46.39,
            31.71,
            34,
            30.32
           ],
           "y": [
            21.82,
            32.88,
            23.35,
            10.61,
            15.85,
            24.74,
            20.62,
            31.76,
            44.8,
            27.21,
            28.13
           ]
          },
          {
           "hoverinfo": "none",
           "marker": {
            "color": "#CBB67C"
           },
           "mode": "markers",
           "name": "football",
           "type": "scatter",
           "x": [
            24.94
           ],
           "y": [
            27.15
           ]
          }
         ],
         "name": "14"
        },
        {
         "data": [
          {
           "hoverinfo": "none",
           "mode": "text",
           "showlegend": false,
           "text": [
            "10",
            "20",
            "30",
            "40",
            "50",
            "40",
            "30",
            "20",
            "10"
           ],
           "textfont": {
            "color": "#ffffff",
            "family": "Courier New, monospace",
            "size": 30
           },
           "type": "scatter",
           "x": [
            20,
            30,
            40,
            50,
            60,
            70,
            80,
            90,
            100
           ],
           "y": [
            5,
            5,
            5,
            5,
            5,
            5,
            5,
            5,
            5
           ]
          },
          {
           "hoverinfo": "none",
           "mode": "text",
           "showlegend": false,
           "text": [
            "10",
            "20",
            "30",
            "40",
            "50",
            "40",
            "30",
            "20",
            "10"
           ],
           "textfont": {
            "color": "#ffffff",
            "family": "Courier New, monospace",
            "size": 30
           },
           "type": "scatter",
           "x": [
            20,
            30,
            40,
            50,
            60,
            70,
            80,
            90,
            100
           ],
           "y": [
            48.5,
            48.5,
            48.5,
            48.5,
            48.5,
            48.5,
            48.5,
            48.5,
            48.5
           ]
          },
          {
           "hoverinfo": "none",
           "line": {
            "color": "blue",
            "dash": "dash"
           },
           "showlegend": false,
           "type": "scatter",
           "x": [
            31,
            31
           ],
           "y": [
            0,
            53.5
           ]
          },
          {
           "hoverinfo": "none",
           "line": {
            "color": "yellow",
            "dash": "dash"
           },
           "showlegend": false,
           "type": "scatter",
           "x": [
            41,
            41
           ],
           "y": [
            0,
            53.5
           ]
          },
          {
           "hoverinfo": "text",
           "hovertext": [
            "nflId:25511.0<br>displayName:Tom Brady<br>Position:QB<br>Role:Pass",
            "nflId:35481.0<br>displayName:Rob Gronkowski<br>Position:TE-R<br>Role:Pass Route",
            "nflId:35634.0<br>displayName:Antonio Brown<br>Position:RWR<br>Role:Pass Route",
            "nflId:40151.0<br>displayName:Ryan Jensen<br>Position:C<br>Role:Pass Block",
            "nflId:41233.0<br>displayName:Mike Evans<br>Position:LWR<br>Role:Pass Route",
            "nflId:42377.0<br>displayName:Donovan Smith<br>Position:LT<br>Role:Pass Block",
            "nflId:42404.0<br>displayName:Ali Marpet<br>Position:LG<br>Role:Pass Block",
            "nflId:44816.0<br>displayName:Leonard Fournette<br>Position:HB-R<br>Role:Pass Route",
            "nflId:44896.0<br>displayName:Chris Godwin<br>Position:SRWR<br>Role:Pass Route",
            "nflId:46163.0<br>displayName:Alex Cappa<br>Position:RG<br>Role:Pass Block",
            "nflId:52421.0<br>displayName:Tristan Wirfs<br>Position:RT<br>Role:Pass Block"
           ],
           "marker": {
            "color": "#D50A0A"
           },
           "mode": "markers",
           "name": "TB",
           "type": "scatter",
           "x": [
            24.84,
            31.49,
            30.98,
            28.76,
            30.63,
            27.39,
            29.01,
            26.78,
            29.72,
            28.65,
            27.38
           ],
           "y": [
            27.33,
            22.41,
            10.33,
            26.45,
            45.45,
            30.56,
            28.08,
            22.52,
            16.03,
            25.13,
            23.54
           ]
          },
          {
           "hoverinfo": "text",
           "hovertext": [
            "nflId:41263.0<br>displayName:Demarcus Lawrence<br>Position:LEO<br>Role:Pass Rush",
            "nflId:42403.0<br>displayName:Randy Gregory<br>Position:REO<br>Role:Pass Rush",
            "nflId:43306.0<br>displayName:Keanu Neal<br>Position:LLB<br>Role:Coverage",
            "nflId:43478.0<br>displayName:Anthony Brown<br>Position:LCB<br>Role:Coverage",
            "nflId:44904.0<br>displayName:Jourdan Lewis<br>Position:SCBL<br>Role:Coverage",
            "nflId:44955.0<br>displayName:Carlos Watkins<br>Position:DLT<br>Role:Pass Rush",
            "nflId:44962.0<br>displayName:Damontae Kazee<br>Position:SSL<br>Role:Coverage",
            "nflId:47996.0<br>displayName:Donovan Wilson<br>Position:FSR<br>Role:Coverage",
            "nflId:52459.0<br>displayName:Trevon Diggs<br>Position:RCB<br>Role:Coverage",
            "nflId:53441.0<br>displayName:Micah Parsons<br>Position:RILB<br>Role:Coverage",
            "nflId:53504.0<br>displayName:Osa Odighizuwa<br>Position:DRT<br>Role:Pass Rush"
           ],
           "marker": {
            "color": "#003594"
           },
           "mode": "markers",
           "name": "DAL",
           "type": "scatter",
           "x": [
            28.95,
            28.82,
            35.06,
            37.78,
            32.06,
            29.45,
            41.89,
            46.49,
            31.82,
            34.02,
            30.09
           ],
           "y": [
            21.96,
            32.74,
            23.22,
            10.65,
            15.62,
            24.66,
            20.66,
            31.91,
            44.92,
            27.01,
            28.1
           ]
          },
          {
           "hoverinfo": "none",
           "marker": {
            "color": "#CBB67C"
           },
           "mode": "markers",
           "name": "football",
           "type": "scatter",
           "x": [
            24.51
           ],
           "y": [
            27.2
           ]
          }
         ],
         "name": "15"
        },
        {
         "data": [
          {
           "hoverinfo": "none",
           "mode": "text",
           "showlegend": false,
           "text": [
            "10",
            "20",
            "30",
            "40",
            "50",
            "40",
            "30",
            "20",
            "10"
           ],
           "textfont": {
            "color": "#ffffff",
            "family": "Courier New, monospace",
            "size": 30
           },
           "type": "scatter",
           "x": [
            20,
            30,
            40,
            50,
            60,
            70,
            80,
            90,
            100
           ],
           "y": [
            5,
            5,
            5,
            5,
            5,
            5,
            5,
            5,
            5
           ]
          },
          {
           "hoverinfo": "none",
           "mode": "text",
           "showlegend": false,
           "text": [
            "10",
            "20",
            "30",
            "40",
            "50",
            "40",
            "30",
            "20",
            "10"
           ],
           "textfont": {
            "color": "#ffffff",
            "family": "Courier New, monospace",
            "size": 30
           },
           "type": "scatter",
           "x": [
            20,
            30,
            40,
            50,
            60,
            70,
            80,
            90,
            100
           ],
           "y": [
            48.5,
            48.5,
            48.5,
            48.5,
            48.5,
            48.5,
            48.5,
            48.5,
            48.5
           ]
          },
          {
           "hoverinfo": "none",
           "line": {
            "color": "blue",
            "dash": "dash"
           },
           "showlegend": false,
           "type": "scatter",
           "x": [
            31,
            31
           ],
           "y": [
            0,
            53.5
           ]
          },
          {
           "hoverinfo": "none",
           "line": {
            "color": "yellow",
            "dash": "dash"
           },
           "showlegend": false,
           "type": "scatter",
           "x": [
            41,
            41
           ],
           "y": [
            0,
            53.5
           ]
          },
          {
           "hoverinfo": "text",
           "hovertext": [
            "nflId:25511.0<br>displayName:Tom Brady<br>Position:QB<br>Role:Pass",
            "nflId:35481.0<br>displayName:Rob Gronkowski<br>Position:TE-R<br>Role:Pass Route",
            "nflId:35634.0<br>displayName:Antonio Brown<br>Position:RWR<br>Role:Pass Route",
            "nflId:40151.0<br>displayName:Ryan Jensen<br>Position:C<br>Role:Pass Block",
            "nflId:41233.0<br>displayName:Mike Evans<br>Position:LWR<br>Role:Pass Route",
            "nflId:42377.0<br>displayName:Donovan Smith<br>Position:LT<br>Role:Pass Block",
            "nflId:42404.0<br>displayName:Ali Marpet<br>Position:LG<br>Role:Pass Block",
            "nflId:44816.0<br>displayName:Leonard Fournette<br>Position:HB-R<br>Role:Pass Route",
            "nflId:44896.0<br>displayName:Chris Godwin<br>Position:SRWR<br>Role:Pass Route",
            "nflId:46163.0<br>displayName:Alex Cappa<br>Position:RG<br>Role:Pass Block",
            "nflId:52421.0<br>displayName:Tristan Wirfs<br>Position:RT<br>Role:Pass Block"
           ],
           "marker": {
            "color": "#D50A0A"
           },
           "mode": "markers",
           "name": "TB",
           "type": "scatter",
           "x": [
            24.55,
            31.86,
            31.51,
            28.52,
            30.92,
            27.09,
            28.89,
            26.95,
            29.99,
            28.47,
            27.11
           ],
           "y": [
            27.33,
            22.45,
            10.37,
            26.31,
            45.67,
            30.59,
            28.02,
            22.04,
            15.6,
            25.08,
            23.46
           ]
          },
          {
           "hoverinfo": "text",
           "hovertext": [
            "nflId:41263.0<br>displayName:Demarcus Lawrence<br>Position:LEO<br>Role:Pass Rush",
            "nflId:42403.0<br>displayName:Randy Gregory<br>Position:REO<br>Role:Pass Rush",
            "nflId:43306.0<br>displayName:Keanu Neal<br>Position:LLB<br>Role:Coverage",
            "nflId:43478.0<br>displayName:Anthony Brown<br>Position:LCB<br>Role:Coverage",
            "nflId:44904.0<br>displayName:Jourdan Lewis<br>Position:SCBL<br>Role:Coverage",
            "nflId:44955.0<br>displayName:Carlos Watkins<br>Position:DLT<br>Role:Pass Rush",
            "nflId:44962.0<br>displayName:Damontae Kazee<br>Position:SSL<br>Role:Coverage",
            "nflId:47996.0<br>displayName:Donovan Wilson<br>Position:FSR<br>Role:Coverage",
            "nflId:52459.0<br>displayName:Trevon Diggs<br>Position:RCB<br>Role:Coverage",
            "nflId:53441.0<br>displayName:Micah Parsons<br>Position:RILB<br>Role:Coverage",
            "nflId:53504.0<br>displayName:Osa Odighizuwa<br>Position:DRT<br>Role:Pass Rush"
           ],
           "marker": {
            "color": "#003594"
           },
           "mode": "markers",
           "name": "DAL",
           "type": "scatter",
           "x": [
            28.53,
            28.35,
            35.14,
            37.91,
            32.16,
            29.17,
            42.05,
            46.6,
            31.97,
            34.05,
            29.88
           ],
           "y": [
            22.1,
            32.57,
            23.12,
            10.7,
            15.32,
            24.6,
            20.69,
            32.1,
            45.1,
            26.79,
            28.08
           ]
          },
          {
           "hoverinfo": "none",
           "marker": {
            "color": "#CBB67C"
           },
           "mode": "markers",
           "name": "football",
           "type": "scatter",
           "x": [
            24.15
           ],
           "y": [
            27.24
           ]
          }
         ],
         "name": "16"
        },
        {
         "data": [
          {
           "hoverinfo": "none",
           "mode": "text",
           "showlegend": false,
           "text": [
            "10",
            "20",
            "30",
            "40",
            "50",
            "40",
            "30",
            "20",
            "10"
           ],
           "textfont": {
            "color": "#ffffff",
            "family": "Courier New, monospace",
            "size": 30
           },
           "type": "scatter",
           "x": [
            20,
            30,
            40,
            50,
            60,
            70,
            80,
            90,
            100
           ],
           "y": [
            5,
            5,
            5,
            5,
            5,
            5,
            5,
            5,
            5
           ]
          },
          {
           "hoverinfo": "none",
           "mode": "text",
           "showlegend": false,
           "text": [
            "10",
            "20",
            "30",
            "40",
            "50",
            "40",
            "30",
            "20",
            "10"
           ],
           "textfont": {
            "color": "#ffffff",
            "family": "Courier New, monospace",
            "size": 30
           },
           "type": "scatter",
           "x": [
            20,
            30,
            40,
            50,
            60,
            70,
            80,
            90,
            100
           ],
           "y": [
            48.5,
            48.5,
            48.5,
            48.5,
            48.5,
            48.5,
            48.5,
            48.5,
            48.5
           ]
          },
          {
           "hoverinfo": "none",
           "line": {
            "color": "blue",
            "dash": "dash"
           },
           "showlegend": false,
           "type": "scatter",
           "x": [
            31,
            31
           ],
           "y": [
            0,
            53.5
           ]
          },
          {
           "hoverinfo": "none",
           "line": {
            "color": "yellow",
            "dash": "dash"
           },
           "showlegend": false,
           "type": "scatter",
           "x": [
            41,
            41
           ],
           "y": [
            0,
            53.5
           ]
          },
          {
           "hoverinfo": "text",
           "hovertext": [
            "nflId:25511.0<br>displayName:Tom Brady<br>Position:QB<br>Role:Pass",
            "nflId:35481.0<br>displayName:Rob Gronkowski<br>Position:TE-R<br>Role:Pass Route",
            "nflId:35634.0<br>displayName:Antonio Brown<br>Position:RWR<br>Role:Pass Route",
            "nflId:40151.0<br>displayName:Ryan Jensen<br>Position:C<br>Role:Pass Block",
            "nflId:41233.0<br>displayName:Mike Evans<br>Position:LWR<br>Role:Pass Route",
            "nflId:42377.0<br>displayName:Donovan Smith<br>Position:LT<br>Role:Pass Block",
            "nflId:42404.0<br>displayName:Ali Marpet<br>Position:LG<br>Role:Pass Block",
            "nflId:44816.0<br>displayName:Leonard Fournette<br>Position:HB-R<br>Role:Pass Route",
            "nflId:44896.0<br>displayName:Chris Godwin<br>Position:SRWR<br>Role:Pass Route",
            "nflId:46163.0<br>displayName:Alex Cappa<br>Position:RG<br>Role:Pass Block",
            "nflId:52421.0<br>displayName:Tristan Wirfs<br>Position:RT<br>Role:Pass Block"
           ],
           "marker": {
            "color": "#D50A0A"
           },
           "mode": "markers",
           "name": "TB",
           "type": "scatter",
           "x": [
            24.32,
            32.26,
            32.1,
            28.28,
            31.25,
            26.78,
            28.75,
            27.14,
            30.27,
            28.28,
            26.87
           ],
           "y": [
            27.38,
            22.52,
            10.41,
            26.18,
            45.91,
            30.59,
            27.99,
            21.51,
            15.1,
            25.04,
            23.41
           ]
          },
          {
           "hoverinfo": "text",
           "hovertext": [
            "nflId:41263.0<br>displayName:Demarcus Lawrence<br>Position:LEO<br>Role:Pass Rush",
            "nflId:42403.0<br>displayName:Randy Gregory<br>Position:REO<br>Role:Pass Rush",
            "nflId:43306.0<br>displayName:Keanu Neal<br>Position:LLB<br>Role:Coverage",
            "nflId:43478.0<br>displayName:Anthony Brown<br>Position:LCB<br>Role:Coverage",
            "nflId:44904.0<br>displayName:Jourdan Lewis<br>Position:SCBL<br>Role:Coverage",
            "nflId:44955.0<br>displayName:Carlos Watkins<br>Position:DLT<br>Role:Pass Rush",
            "nflId:44962.0<br>displayName:Damontae Kazee<br>Position:SSL<br>Role:Coverage",
            "nflId:47996.0<br>displayName:Donovan Wilson<br>Position:FSR<br>Role:Coverage",
            "nflId:52459.0<br>displayName:Trevon Diggs<br>Position:RCB<br>Role:Coverage",
            "nflId:53441.0<br>displayName:Micah Parsons<br>Position:RILB<br>Role:Coverage",
            "nflId:53504.0<br>displayName:Osa Odighizuwa<br>Position:DRT<br>Role:Pass Rush"
           ],
           "marker": {
            "color": "#003594"
           },
           "mode": "markers",
           "name": "DAL",
           "type": "scatter",
           "x": [
            28.08,
            27.88,
            35.25,
            38.1,
            32.27,
            28.89,
            42.23,
            46.72,
            32.13,
            34.11,
            29.65
           ],
           "y": [
            22.24,
            32.38,
            23.02,
            10.76,
            14.97,
            24.53,
            20.73,
            32.32,
            45.27,
            26.54,
            28.04
           ]
          },
          {
           "hoverinfo": "none",
           "marker": {
            "color": "#CBB67C"
           },
           "mode": "markers",
           "name": "football",
           "type": "scatter",
           "x": [
            23.89
           ],
           "y": [
            27.32
           ]
          }
         ],
         "name": "17"
        },
        {
         "data": [
          {
           "hoverinfo": "none",
           "mode": "text",
           "showlegend": false,
           "text": [
            "10",
            "20",
            "30",
            "40",
            "50",
            "40",
            "30",
            "20",
            "10"
           ],
           "textfont": {
            "color": "#ffffff",
            "family": "Courier New, monospace",
            "size": 30
           },
           "type": "scatter",
           "x": [
            20,
            30,
            40,
            50,
            60,
            70,
            80,
            90,
            100
           ],
           "y": [
            5,
            5,
            5,
            5,
            5,
            5,
            5,
            5,
            5
           ]
          },
          {
           "hoverinfo": "none",
           "mode": "text",
           "showlegend": false,
           "text": [
            "10",
            "20",
            "30",
            "40",
            "50",
            "40",
            "30",
            "20",
            "10"
           ],
           "textfont": {
            "color": "#ffffff",
            "family": "Courier New, monospace",
            "size": 30
           },
           "type": "scatter",
           "x": [
            20,
            30,
            40,
            50,
            60,
            70,
            80,
            90,
            100
           ],
           "y": [
            48.5,
            48.5,
            48.5,
            48.5,
            48.5,
            48.5,
            48.5,
            48.5,
            48.5
           ]
          },
          {
           "hoverinfo": "none",
           "line": {
            "color": "blue",
            "dash": "dash"
           },
           "showlegend": false,
           "type": "scatter",
           "x": [
            31,
            31
           ],
           "y": [
            0,
            53.5
           ]
          },
          {
           "hoverinfo": "none",
           "line": {
            "color": "yellow",
            "dash": "dash"
           },
           "showlegend": false,
           "type": "scatter",
           "x": [
            41,
            41
           ],
           "y": [
            0,
            53.5
           ]
          },
          {
           "hoverinfo": "text",
           "hovertext": [
            "nflId:25511.0<br>displayName:Tom Brady<br>Position:QB<br>Role:Pass",
            "nflId:35481.0<br>displayName:Rob Gronkowski<br>Position:TE-R<br>Role:Pass Route",
            "nflId:35634.0<br>displayName:Antonio Brown<br>Position:RWR<br>Role:Pass Route",
            "nflId:40151.0<br>displayName:Ryan Jensen<br>Position:C<br>Role:Pass Block",
            "nflId:41233.0<br>displayName:Mike Evans<br>Position:LWR<br>Role:Pass Route",
            "nflId:42377.0<br>displayName:Donovan Smith<br>Position:LT<br>Role:Pass Block",
            "nflId:42404.0<br>displayName:Ali Marpet<br>Position:LG<br>Role:Pass Block",
            "nflId:44816.0<br>displayName:Leonard Fournette<br>Position:HB-R<br>Role:Pass Route",
            "nflId:44896.0<br>displayName:Chris Godwin<br>Position:SRWR<br>Role:Pass Route",
            "nflId:46163.0<br>displayName:Alex Cappa<br>Position:RG<br>Role:Pass Block",
            "nflId:52421.0<br>displayName:Tristan Wirfs<br>Position:RT<br>Role:Pass Block"
           ],
           "marker": {
            "color": "#D50A0A"
           },
           "mode": "markers",
           "name": "TB",
           "type": "scatter",
           "x": [
            24.07,
            32.7,
            32.71,
            28.02,
            31.62,
            26.45,
            28.58,
            27.34,
            30.56,
            28.07,
            26.64
           ],
           "y": [
            27.41,
            22.64,
            10.47,
            26.07,
            46.17,
            30.57,
            27.97,
            20.95,
            14.56,
            24.97,
            23.39
           ]
          },
          {
           "hoverinfo": "text",
           "hovertext": [
            "nflId:41263.0<br>displayName:Demarcus Lawrence<br>Position:LEO<br>Role:Pass Rush",
            "nflId:42403.0<br>displayName:Randy Gregory<br>Position:REO<br>Role:Pass Rush",
            "nflId:43306.0<br>displayName:Keanu Neal<br>Position:LLB<br>Role:Coverage",
            "nflId:43478.0<br>displayName:Anthony Brown<br>Position:LCB<br>Role:Coverage",
            "nflId:44904.0<br>displayName:Jourdan Lewis<br>Position:SCBL<br>Role:Coverage",
            "nflId:44955.0<br>displayName:Carlos Watkins<br>Position:DLT<br>Role:Pass Rush",
            "nflId:44962.0<br>displayName:Damontae Kazee<br>Position:SSL<br>Role:Coverage",
            "nflId:47996.0<br>displayName:Donovan Wilson<br>Position:FSR<br>Role:Coverage",
            "nflId:52459.0<br>displayName:Trevon Diggs<br>Position:RCB<br>Role:Coverage",
            "nflId:53441.0<br>displayName:Micah Parsons<br>Position:RILB<br>Role:Coverage",
            "nflId:53504.0<br>displayName:Osa Odighizuwa<br>Position:DRT<br>Role:Pass Rush"
           ],
           "marker": {
            "color": "#003594"
           },
           "mode": "markers",
           "name": "DAL",
           "type": "scatter",
           "x": [
            27.62,
            27.39,
            35.36,
            38.33,
            32.4,
            28.64,
            42.41,
            46.87,
            32.33,
            34.2,
            29.43
           ],
           "y": [
            22.36,
            32.19,
            22.92,
            10.83,
            14.59,
            24.47,
            20.78,
            32.6,
            45.47,
            26.29,
            28.01
           ]
          },
          {
           "hoverinfo": "none",
           "marker": {
            "color": "#CBB67C"
           },
           "mode": "markers",
           "name": "football",
           "type": "scatter",
           "x": [
            23.67
           ],
           "y": [
            27.38
           ]
          }
         ],
         "name": "18"
        },
        {
         "data": [
          {
           "hoverinfo": "none",
           "mode": "text",
           "showlegend": false,
           "text": [
            "10",
            "20",
            "30",
            "40",
            "50",
            "40",
            "30",
            "20",
            "10"
           ],
           "textfont": {
            "color": "#ffffff",
            "family": "Courier New, monospace",
            "size": 30
           },
           "type": "scatter",
           "x": [
            20,
            30,
            40,
            50,
            60,
            70,
            80,
            90,
            100
           ],
           "y": [
            5,
            5,
            5,
            5,
            5,
            5,
            5,
            5,
            5
           ]
          },
          {
           "hoverinfo": "none",
           "mode": "text",
           "showlegend": false,
           "text": [
            "10",
            "20",
            "30",
            "40",
            "50",
            "40",
            "30",
            "20",
            "10"
           ],
           "textfont": {
            "color": "#ffffff",
            "family": "Courier New, monospace",
            "size": 30
           },
           "type": "scatter",
           "x": [
            20,
            30,
            40,
            50,
            60,
            70,
            80,
            90,
            100
           ],
           "y": [
            48.5,
            48.5,
            48.5,
            48.5,
            48.5,
            48.5,
            48.5,
            48.5,
            48.5
           ]
          },
          {
           "hoverinfo": "none",
           "line": {
            "color": "blue",
            "dash": "dash"
           },
           "showlegend": false,
           "type": "scatter",
           "x": [
            31,
            31
           ],
           "y": [
            0,
            53.5
           ]
          },
          {
           "hoverinfo": "none",
           "line": {
            "color": "yellow",
            "dash": "dash"
           },
           "showlegend": false,
           "type": "scatter",
           "x": [
            41,
            41
           ],
           "y": [
            0,
            53.5
           ]
          },
          {
           "hoverinfo": "text",
           "hovertext": [
            "nflId:25511.0<br>displayName:Tom Brady<br>Position:QB<br>Role:Pass",
            "nflId:35481.0<br>displayName:Rob Gronkowski<br>Position:TE-R<br>Role:Pass Route",
            "nflId:35634.0<br>displayName:Antonio Brown<br>Position:RWR<br>Role:Pass Route",
            "nflId:40151.0<br>displayName:Ryan Jensen<br>Position:C<br>Role:Pass Block",
            "nflId:41233.0<br>displayName:Mike Evans<br>Position:LWR<br>Role:Pass Route",
            "nflId:42377.0<br>displayName:Donovan Smith<br>Position:LT<br>Role:Pass Block",
            "nflId:42404.0<br>displayName:Ali Marpet<br>Position:LG<br>Role:Pass Block",
            "nflId:44816.0<br>displayName:Leonard Fournette<br>Position:HB-R<br>Role:Pass Route",
            "nflId:44896.0<br>displayName:Chris Godwin<br>Position:SRWR<br>Role:Pass Route",
            "nflId:46163.0<br>displayName:Alex Cappa<br>Position:RG<br>Role:Pass Block",
            "nflId:52421.0<br>displayName:Tristan Wirfs<br>Position:RT<br>Role:Pass Block"
           ],
           "marker": {
            "color": "#D50A0A"
           },
           "mode": "markers",
           "name": "TB",
           "type": "scatter",
           "x": [
            23.85,
            33.14,
            33.35,
            27.76,
            32.02,
            26.13,
            28.39,
            27.54,
            30.85,
            27.87,
            26.39
           ],
           "y": [
            27.46,
            22.77,
            10.53,
            25.96,
            46.44,
            30.54,
            27.91,
            20.36,
            13.98,
            24.91,
            23.37
           ]
          },
          {
           "hoverinfo": "text",
           "hovertext": [
            "nflId:41263.0<br>displayName:Demarcus Lawrence<br>Position:LEO<br>Role:Pass Rush",
            "nflId:42403.0<br>displayName:Randy Gregory<br>Position:REO<br>Role:Pass Rush",
            "nflId:43306.0<br>displayName:Keanu Neal<br>Position:LLB<br>Role:Coverage",
            "nflId:43478.0<br>displayName:Anthony Brown<br>Position:LCB<br>Role:Coverage",
            "nflId:44904.0<br>displayName:Jourdan Lewis<br>Position:SCBL<br>Role:Coverage",
            "nflId:44955.0<br>displayName:Carlos Watkins<br>Position:DLT<br>Role:Pass Rush",
            "nflId:44962.0<br>displayName:Damontae Kazee<br>Position:SSL<br>Role:Coverage",
            "nflId:47996.0<br>displayName:Donovan Wilson<br>Position:FSR<br>Role:Coverage",
            "nflId:52459.0<br>displayName:Trevon Diggs<br>Position:RCB<br>Role:Coverage",
            "nflId:53441.0<br>displayName:Micah Parsons<br>Position:RILB<br>Role:Coverage",
            "nflId:53504.0<br>displayName:Osa Odighizuwa<br>Position:DRT<br>Role:Pass Rush"
           ],
           "marker": {
            "color": "#003594"
           },
           "mode": "markers",
           "name": "DAL",
           "type": "scatter",
           "x": [
            27.16,
            26.92,
            35.48,
            38.63,
            32.54,
            28.43,
            42.6,
            47.03,
            32.54,
            34.33,
            29.21
           ],
           "y": [
            22.46,
            32,
            22.82,
            10.9,
            14.17,
            24.42,
            20.83,
            32.91,
            45.7,
            26.03,
            27.97
           ]
          },
          {
           "hoverinfo": "none",
           "marker": {
            "color": "#CBB67C"
           },
           "mode": "markers",
           "name": "football",
           "type": "scatter",
           "x": [
            23.51
           ],
           "y": [
            27.45
           ]
          }
         ],
         "name": "19"
        },
        {
         "data": [
          {
           "hoverinfo": "none",
           "mode": "text",
           "showlegend": false,
           "text": [
            "10",
            "20",
            "30",
            "40",
            "50",
            "40",
            "30",
            "20",
            "10"
           ],
           "textfont": {
            "color": "#ffffff",
            "family": "Courier New, monospace",
            "size": 30
           },
           "type": "scatter",
           "x": [
            20,
            30,
            40,
            50,
            60,
            70,
            80,
            90,
            100
           ],
           "y": [
            5,
            5,
            5,
            5,
            5,
            5,
            5,
            5,
            5
           ]
          },
          {
           "hoverinfo": "none",
           "mode": "text",
           "showlegend": false,
           "text": [
            "10",
            "20",
            "30",
            "40",
            "50",
            "40",
            "30",
            "20",
            "10"
           ],
           "textfont": {
            "color": "#ffffff",
            "family": "Courier New, monospace",
            "size": 30
           },
           "type": "scatter",
           "x": [
            20,
            30,
            40,
            50,
            60,
            70,
            80,
            90,
            100
           ],
           "y": [
            48.5,
            48.5,
            48.5,
            48.5,
            48.5,
            48.5,
            48.5,
            48.5,
            48.5
           ]
          },
          {
           "hoverinfo": "none",
           "line": {
            "color": "blue",
            "dash": "dash"
           },
           "showlegend": false,
           "type": "scatter",
           "x": [
            31,
            31
           ],
           "y": [
            0,
            53.5
           ]
          },
          {
           "hoverinfo": "none",
           "line": {
            "color": "yellow",
            "dash": "dash"
           },
           "showlegend": false,
           "type": "scatter",
           "x": [
            41,
            41
           ],
           "y": [
            0,
            53.5
           ]
          },
          {
           "hoverinfo": "text",
           "hovertext": [
            "nflId:25511.0<br>displayName:Tom Brady<br>Position:QB<br>Role:Pass",
            "nflId:35481.0<br>displayName:Rob Gronkowski<br>Position:TE-R<br>Role:Pass Route",
            "nflId:35634.0<br>displayName:Antonio Brown<br>Position:RWR<br>Role:Pass Route",
            "nflId:40151.0<br>displayName:Ryan Jensen<br>Position:C<br>Role:Pass Block",
            "nflId:41233.0<br>displayName:Mike Evans<br>Position:LWR<br>Role:Pass Route",
            "nflId:42377.0<br>displayName:Donovan Smith<br>Position:LT<br>Role:Pass Block",
            "nflId:42404.0<br>displayName:Ali Marpet<br>Position:LG<br>Role:Pass Block",
            "nflId:44816.0<br>displayName:Leonard Fournette<br>Position:HB-R<br>Role:Pass Route",
            "nflId:44896.0<br>displayName:Chris Godwin<br>Position:SRWR<br>Role:Pass Route",
            "nflId:46163.0<br>displayName:Alex Cappa<br>Position:RG<br>Role:Pass Block",
            "nflId:52421.0<br>displayName:Tristan Wirfs<br>Position:RT<br>Role:Pass Block"
           ],
           "marker": {
            "color": "#D50A0A"
           },
           "mode": "markers",
           "name": "TB",
           "type": "scatter",
           "x": [
            23.66,
            33.62,
            34.02,
            27.5,
            32.46,
            25.8,
            28.21,
            27.74,
            31.15,
            27.68,
            26.14
           ],
           "y": [
            27.5,
            22.91,
            10.6,
            25.86,
            46.73,
            30.48,
            27.84,
            19.75,
            13.36,
            24.85,
            23.36
           ]
          },
          {
           "hoverinfo": "text",
           "hovertext": [
            "nflId:41263.0<br>displayName:Demarcus Lawrence<br>Position:LEO<br>Role:Pass Rush",
            "nflId:42403.0<br>displayName:Randy Gregory<br>Position:REO<br>Role:Pass Rush",
            "nflId:43306.0<br>displayName:Keanu Neal<br>Position:LLB<br>Role:Coverage",
            "nflId:43478.0<br>displayName:Anthony Brown<br>Position:LCB<br>Role:Coverage",
            "nflId:44904.0<br>displayName:Jourdan Lewis<br>Position:SCBL<br>Role:Coverage",
            "nflId:44955.0<br>displayName:Carlos Watkins<br>Position:DLT<br>Role:Pass Rush",
            "nflId:44962.0<br>displayName:Damontae Kazee<br>Position:SSL<br>Role:Coverage",
            "nflId:47996.0<br>displayName:Donovan Wilson<br>Position:FSR<br>Role:Coverage",
            "nflId:52459.0<br>displayName:Trevon Diggs<br>Position:RCB<br>Role:Coverage",
            "nflId:53441.0<br>displayName:Micah Parsons<br>Position:RILB<br>Role:Coverage",
            "nflId:53504.0<br>displayName:Osa Odighizuwa<br>Position:DRT<br>Role:Pass Rush"
           ],
           "marker": {
            "color": "#003594"
           },
           "mode": "markers",
           "name": "DAL",
           "type": "scatter",
           "x": [
            26.69,
            26.44,
            35.61,
            38.96,
            32.73,
            28.27,
            42.8,
            47.19,
            32.78,
            34.5,
            28.99
           ],
           "y": [
            22.59,
            31.81,
            22.71,
            10.96,
            13.72,
            24.41,
            20.89,
            33.26,
            45.94,
            25.78,
            27.92
           ]
          },
          {
           "hoverinfo": "none",
           "marker": {
            "color": "#CBB67C"
           },
           "mode": "markers",
           "name": "football",
           "type": "scatter",
           "x": [
            23.39
           ],
           "y": [
            27.51
           ]
          }
         ],
         "name": "20"
        },
        {
         "data": [
          {
           "hoverinfo": "none",
           "mode": "text",
           "showlegend": false,
           "text": [
            "10",
            "20",
            "30",
            "40",
            "50",
            "40",
            "30",
            "20",
            "10"
           ],
           "textfont": {
            "color": "#ffffff",
            "family": "Courier New, monospace",
            "size": 30
           },
           "type": "scatter",
           "x": [
            20,
            30,
            40,
            50,
            60,
            70,
            80,
            90,
            100
           ],
           "y": [
            5,
            5,
            5,
            5,
            5,
            5,
            5,
            5,
            5
           ]
          },
          {
           "hoverinfo": "none",
           "mode": "text",
           "showlegend": false,
           "text": [
            "10",
            "20",
            "30",
            "40",
            "50",
            "40",
            "30",
            "20",
            "10"
           ],
           "textfont": {
            "color": "#ffffff",
            "family": "Courier New, monospace",
            "size": 30
           },
           "type": "scatter",
           "x": [
            20,
            30,
            40,
            50,
            60,
            70,
            80,
            90,
            100
           ],
           "y": [
            48.5,
            48.5,
            48.5,
            48.5,
            48.5,
            48.5,
            48.5,
            48.5,
            48.5
           ]
          },
          {
           "hoverinfo": "none",
           "line": {
            "color": "blue",
            "dash": "dash"
           },
           "showlegend": false,
           "type": "scatter",
           "x": [
            31,
            31
           ],
           "y": [
            0,
            53.5
           ]
          },
          {
           "hoverinfo": "none",
           "line": {
            "color": "yellow",
            "dash": "dash"
           },
           "showlegend": false,
           "type": "scatter",
           "x": [
            41,
            41
           ],
           "y": [
            0,
            53.5
           ]
          },
          {
           "hoverinfo": "text",
           "hovertext": [
            "nflId:25511.0<br>displayName:Tom Brady<br>Position:QB<br>Role:Pass",
            "nflId:35481.0<br>displayName:Rob Gronkowski<br>Position:TE-R<br>Role:Pass Route",
            "nflId:35634.0<br>displayName:Antonio Brown<br>Position:RWR<br>Role:Pass Route",
            "nflId:40151.0<br>displayName:Ryan Jensen<br>Position:C<br>Role:Pass Block",
            "nflId:41233.0<br>displayName:Mike Evans<br>Position:LWR<br>Role:Pass Route",
            "nflId:42377.0<br>displayName:Donovan Smith<br>Position:LT<br>Role:Pass Block",
            "nflId:42404.0<br>displayName:Ali Marpet<br>Position:LG<br>Role:Pass Block",
            "nflId:44816.0<br>displayName:Leonard Fournette<br>Position:HB-R<br>Role:Pass Route",
            "nflId:44896.0<br>displayName:Chris Godwin<br>Position:SRWR<br>Role:Pass Route",
            "nflId:46163.0<br>displayName:Alex Cappa<br>Position:RG<br>Role:Pass Block",
            "nflId:52421.0<br>displayName:Tristan Wirfs<br>Position:RT<br>Role:Pass Block"
           ],
           "marker": {
            "color": "#D50A0A"
           },
           "mode": "markers",
           "name": "TB",
           "type": "scatter",
           "x": [
            23.51,
            34.12,
            34.72,
            27.26,
            32.93,
            25.47,
            28.02,
            27.95,
            31.49,
            27.51,
            25.89
           ],
           "y": [
            27.55,
            23.06,
            10.67,
            25.77,
            47.02,
            30.41,
            27.79,
            19.13,
            12.73,
            24.78,
            23.36
           ]
          },
          {
           "hoverinfo": "text",
           "hovertext": [
            "nflId:41263.0<br>displayName:Demarcus Lawrence<br>Position:LEO<br>Role:Pass Rush",
            "nflId:42403.0<br>displayName:Randy Gregory<br>Position:REO<br>Role:Pass Rush",
            "nflId:43306.0<br>displayName:Keanu Neal<br>Position:LLB<br>Role:Coverage",
            "nflId:43478.0<br>displayName:Anthony Brown<br>Position:LCB<br>Role:Coverage",
            "nflId:44904.0<br>displayName:Jourdan Lewis<br>Position:SCBL<br>Role:Coverage",
            "nflId:44955.0<br>displayName:Carlos Watkins<br>Position:DLT<br>Role:Pass Rush",
            "nflId:44962.0<br>displayName:Damontae Kazee<br>Position:SSL<br>Role:Coverage",
            "nflId:47996.0<br>displayName:Donovan Wilson<br>Position:FSR<br>Role:Coverage",
            "nflId:52459.0<br>displayName:Trevon Diggs<br>Position:RCB<br>Role:Coverage",
            "nflId:53441.0<br>displayName:Micah Parsons<br>Position:RILB<br>Role:Coverage",
            "nflId:53504.0<br>displayName:Osa Odighizuwa<br>Position:DRT<br>Role:Pass Rush"
           ],
           "marker": {
            "color": "#003594"
           },
           "mode": "markers",
           "name": "DAL",
           "type": "scatter",
           "x": [
            26.22,
            26,
            35.74,
            39.33,
            32.93,
            28.14,
            43.03,
            47.37,
            33.07,
            34.72,
            28.78
           ],
           "y": [
            22.66,
            31.61,
            22.59,
            11.03,
            13.24,
            24.37,
            20.95,
            33.63,
            46.21,
            25.54,
            27.87
           ]
          },
          {
           "hoverinfo": "none",
           "marker": {
            "color": "#CBB67C"
           },
           "mode": "markers",
           "name": "football",
           "type": "scatter",
           "x": [
            23.31
           ],
           "y": [
            27.56
           ]
          }
         ],
         "name": "21"
        },
        {
         "data": [
          {
           "hoverinfo": "none",
           "mode": "text",
           "showlegend": false,
           "text": [
            "10",
            "20",
            "30",
            "40",
            "50",
            "40",
            "30",
            "20",
            "10"
           ],
           "textfont": {
            "color": "#ffffff",
            "family": "Courier New, monospace",
            "size": 30
           },
           "type": "scatter",
           "x": [
            20,
            30,
            40,
            50,
            60,
            70,
            80,
            90,
            100
           ],
           "y": [
            5,
            5,
            5,
            5,
            5,
            5,
            5,
            5,
            5
           ]
          },
          {
           "hoverinfo": "none",
           "mode": "text",
           "showlegend": false,
           "text": [
            "10",
            "20",
            "30",
            "40",
            "50",
            "40",
            "30",
            "20",
            "10"
           ],
           "textfont": {
            "color": "#ffffff",
            "family": "Courier New, monospace",
            "size": 30
           },
           "type": "scatter",
           "x": [
            20,
            30,
            40,
            50,
            60,
            70,
            80,
            90,
            100
           ],
           "y": [
            48.5,
            48.5,
            48.5,
            48.5,
            48.5,
            48.5,
            48.5,
            48.5,
            48.5
           ]
          },
          {
           "hoverinfo": "none",
           "line": {
            "color": "blue",
            "dash": "dash"
           },
           "showlegend": false,
           "type": "scatter",
           "x": [
            31,
            31
           ],
           "y": [
            0,
            53.5
           ]
          },
          {
           "hoverinfo": "none",
           "line": {
            "color": "yellow",
            "dash": "dash"
           },
           "showlegend": false,
           "type": "scatter",
           "x": [
            41,
            41
           ],
           "y": [
            0,
            53.5
           ]
          },
          {
           "hoverinfo": "text",
           "hovertext": [
            "nflId:25511.0<br>displayName:Tom Brady<br>Position:QB<br>Role:Pass",
            "nflId:35481.0<br>displayName:Rob Gronkowski<br>Position:TE-R<br>Role:Pass Route",
            "nflId:35634.0<br>displayName:Antonio Brown<br>Position:RWR<br>Role:Pass Route",
            "nflId:40151.0<br>displayName:Ryan Jensen<br>Position:C<br>Role:Pass Block",
            "nflId:41233.0<br>displayName:Mike Evans<br>Position:LWR<br>Role:Pass Route",
            "nflId:42377.0<br>displayName:Donovan Smith<br>Position:LT<br>Role:Pass Block",
            "nflId:42404.0<br>displayName:Ali Marpet<br>Position:LG<br>Role:Pass Block",
            "nflId:44816.0<br>displayName:Leonard Fournette<br>Position:HB-R<br>Role:Pass Route",
            "nflId:44896.0<br>displayName:Chris Godwin<br>Position:SRWR<br>Role:Pass Route",
            "nflId:46163.0<br>displayName:Alex Cappa<br>Position:RG<br>Role:Pass Block",
            "nflId:52421.0<br>displayName:Tristan Wirfs<br>Position:RT<br>Role:Pass Block"
           ],
           "marker": {
            "color": "#D50A0A"
           },
           "mode": "markers",
           "name": "TB",
           "type": "scatter",
           "x": [
            23.4,
            34.64,
            35.43,
            27.01,
            33.43,
            25.15,
            27.82,
            28.15,
            31.84,
            27.39,
            25.62
           ],
           "y": [
            27.6,
            23.21,
            10.75,
            25.7,
            47.31,
            30.32,
            27.75,
            18.5,
            12.09,
            24.72,
            23.39
           ]
          },
          {
           "hoverinfo": "text",
           "hovertext": [
            "nflId:41263.0<br>displayName:Demarcus Lawrence<br>Position:LEO<br>Role:Pass Rush",
            "nflId:42403.0<br>displayName:Randy Gregory<br>Position:REO<br>Role:Pass Rush",
            "nflId:43306.0<br>displayName:Keanu Neal<br>Position:LLB<br>Role:Coverage",
            "nflId:43478.0<br>displayName:Anthony Brown<br>Position:LCB<br>Role:Coverage",
            "nflId:44904.0<br>displayName:Jourdan Lewis<br>Position:SCBL<br>Role:Coverage",
            "nflId:44955.0<br>displayName:Carlos Watkins<br>Position:DLT<br>Role:Pass Rush",
            "nflId:44962.0<br>displayName:Damontae Kazee<br>Position:SSL<br>Role:Coverage",
            "nflId:47996.0<br>displayName:Donovan Wilson<br>Position:FSR<br>Role:Coverage",
            "nflId:52459.0<br>displayName:Trevon Diggs<br>Position:RCB<br>Role:Coverage",
            "nflId:53441.0<br>displayName:Micah Parsons<br>Position:RILB<br>Role:Coverage",
            "nflId:53504.0<br>displayName:Osa Odighizuwa<br>Position:DRT<br>Role:Pass Rush"
           ],
           "marker": {
            "color": "#003594"
           },
           "mode": "markers",
           "name": "DAL",
           "type": "scatter",
           "x": [
            25.77,
            25.58,
            35.87,
            39.74,
            33.17,
            28.04,
            43.26,
            47.56,
            33.39,
            34.98,
            28.58
           ],
           "y": [
            22.74,
            31.41,
            22.45,
            11.09,
            12.74,
            24.37,
            21.01,
            34.02,
            46.48,
            25.32,
            27.84
           ]
          },
          {
           "hoverinfo": "none",
           "marker": {
            "color": "#CBB67C"
           },
           "mode": "markers",
           "name": "football",
           "type": "scatter",
           "x": [
            23.27
           ],
           "y": [
            27.61
           ]
          }
         ],
         "name": "22"
        },
        {
         "data": [
          {
           "hoverinfo": "none",
           "mode": "text",
           "showlegend": false,
           "text": [
            "10",
            "20",
            "30",
            "40",
            "50",
            "40",
            "30",
            "20",
            "10"
           ],
           "textfont": {
            "color": "#ffffff",
            "family": "Courier New, monospace",
            "size": 30
           },
           "type": "scatter",
           "x": [
            20,
            30,
            40,
            50,
            60,
            70,
            80,
            90,
            100
           ],
           "y": [
            5,
            5,
            5,
            5,
            5,
            5,
            5,
            5,
            5
           ]
          },
          {
           "hoverinfo": "none",
           "mode": "text",
           "showlegend": false,
           "text": [
            "10",
            "20",
            "30",
            "40",
            "50",
            "40",
            "30",
            "20",
            "10"
           ],
           "textfont": {
            "color": "#ffffff",
            "family": "Courier New, monospace",
            "size": 30
           },
           "type": "scatter",
           "x": [
            20,
            30,
            40,
            50,
            60,
            70,
            80,
            90,
            100
           ],
           "y": [
            48.5,
            48.5,
            48.5,
            48.5,
            48.5,
            48.5,
            48.5,
            48.5,
            48.5
           ]
          },
          {
           "hoverinfo": "none",
           "line": {
            "color": "blue",
            "dash": "dash"
           },
           "showlegend": false,
           "type": "scatter",
           "x": [
            31,
            31
           ],
           "y": [
            0,
            53.5
           ]
          },
          {
           "hoverinfo": "none",
           "line": {
            "color": "yellow",
            "dash": "dash"
           },
           "showlegend": false,
           "type": "scatter",
           "x": [
            41,
            41
           ],
           "y": [
            0,
            53.5
           ]
          },
          {
           "hoverinfo": "text",
           "hovertext": [
            "nflId:25511.0<br>displayName:Tom Brady<br>Position:QB<br>Role:Pass",
            "nflId:35481.0<br>displayName:Rob Gronkowski<br>Position:TE-R<br>Role:Pass Route",
            "nflId:35634.0<br>displayName:Antonio Brown<br>Position:RWR<br>Role:Pass Route",
            "nflId:40151.0<br>displayName:Ryan Jensen<br>Position:C<br>Role:Pass Block",
            "nflId:41233.0<br>displayName:Mike Evans<br>Position:LWR<br>Role:Pass Route",
            "nflId:42377.0<br>displayName:Donovan Smith<br>Position:LT<br>Role:Pass Block",
            "nflId:42404.0<br>displayName:Ali Marpet<br>Position:LG<br>Role:Pass Block",
            "nflId:44816.0<br>displayName:Leonard Fournette<br>Position:HB-R<br>Role:Pass Route",
            "nflId:44896.0<br>displayName:Chris Godwin<br>Position:SRWR<br>Role:Pass Route",
            "nflId:46163.0<br>displayName:Alex Cappa<br>Position:RG<br>Role:Pass Block",
            "nflId:52421.0<br>displayName:Tristan Wirfs<br>Position:RT<br>Role:Pass Block"
           ],
           "marker": {
            "color": "#D50A0A"
           },
           "mode": "markers",
           "name": "TB",
           "type": "scatter",
           "x": [
            23.32,
            35.18,
            36.16,
            26.77,
            33.98,
            24.82,
            27.62,
            28.34,
            32.22,
            27.31,
            25.38
           ],
           "y": [
            27.65,
            23.38,
            10.83,
            25.63,
            47.58,
            30.22,
            27.72,
            17.87,
            11.44,
            24.68,
            23.41
           ]
          },
          {
           "hoverinfo": "text",
           "hovertext": [
            "nflId:41263.0<br>displayName:Demarcus Lawrence<br>Position:LEO<br>Role:Pass Rush",
            "nflId:42403.0<br>displayName:Randy Gregory<br>Position:REO<br>Role:Pass Rush",
            "nflId:43306.0<br>displayName:Keanu Neal<br>Position:LLB<br>Role:Coverage",
            "nflId:43478.0<br>displayName:Anthony Brown<br>Position:LCB<br>Role:Coverage",
            "nflId:44904.0<br>displayName:Jourdan Lewis<br>Position:SCBL<br>Role:Coverage",
            "nflId:44955.0<br>displayName:Carlos Watkins<br>Position:DLT<br>Role:Pass Rush",
            "nflId:44962.0<br>displayName:Damontae Kazee<br>Position:SSL<br>Role:Coverage",
            "nflId:47996.0<br>displayName:Donovan Wilson<br>Position:FSR<br>Role:Coverage",
            "nflId:52459.0<br>displayName:Trevon Diggs<br>Position:RCB<br>Role:Coverage",
            "nflId:53441.0<br>displayName:Micah Parsons<br>Position:RILB<br>Role:Coverage",
            "nflId:53504.0<br>displayName:Osa Odighizuwa<br>Position:DRT<br>Role:Pass Rush"
           ],
           "marker": {
            "color": "#003594"
           },
           "mode": "markers",
           "name": "DAL",
           "type": "scatter",
           "x": [
            25.32,
            25.19,
            36,
            40.18,
            33.46,
            27.98,
            43.5,
            47.76,
            33.77,
            35.27,
            28.38
           ],
           "y": [
            22.82,
            31.22,
            22.29,
            11.13,
            12.24,
            24.35,
            21.08,
            34.42,
            46.76,
            25.13,
            27.79
           ]
          },
          {
           "hoverinfo": "none",
           "marker": {
            "color": "#CBB67C"
           },
           "mode": "markers",
           "name": "football",
           "type": "scatter",
           "x": [
            23.26
           ],
           "y": [
            27.65
           ]
          }
         ],
         "name": "23"
        },
        {
         "data": [
          {
           "hoverinfo": "none",
           "mode": "text",
           "showlegend": false,
           "text": [
            "10",
            "20",
            "30",
            "40",
            "50",
            "40",
            "30",
            "20",
            "10"
           ],
           "textfont": {
            "color": "#ffffff",
            "family": "Courier New, monospace",
            "size": 30
           },
           "type": "scatter",
           "x": [
            20,
            30,
            40,
            50,
            60,
            70,
            80,
            90,
            100
           ],
           "y": [
            5,
            5,
            5,
            5,
            5,
            5,
            5,
            5,
            5
           ]
          },
          {
           "hoverinfo": "none",
           "mode": "text",
           "showlegend": false,
           "text": [
            "10",
            "20",
            "30",
            "40",
            "50",
            "40",
            "30",
            "20",
            "10"
           ],
           "textfont": {
            "color": "#ffffff",
            "family": "Courier New, monospace",
            "size": 30
           },
           "type": "scatter",
           "x": [
            20,
            30,
            40,
            50,
            60,
            70,
            80,
            90,
            100
           ],
           "y": [
            48.5,
            48.5,
            48.5,
            48.5,
            48.5,
            48.5,
            48.5,
            48.5,
            48.5
           ]
          },
          {
           "hoverinfo": "none",
           "line": {
            "color": "blue",
            "dash": "dash"
           },
           "showlegend": false,
           "type": "scatter",
           "x": [
            31,
            31
           ],
           "y": [
            0,
            53.5
           ]
          },
          {
           "hoverinfo": "none",
           "line": {
            "color": "yellow",
            "dash": "dash"
           },
           "showlegend": false,
           "type": "scatter",
           "x": [
            41,
            41
           ],
           "y": [
            0,
            53.5
           ]
          },
          {
           "hoverinfo": "text",
           "hovertext": [
            "nflId:25511.0<br>displayName:Tom Brady<br>Position:QB<br>Role:Pass",
            "nflId:35481.0<br>displayName:Rob Gronkowski<br>Position:TE-R<br>Role:Pass Route",
            "nflId:35634.0<br>displayName:Antonio Brown<br>Position:RWR<br>Role:Pass Route",
            "nflId:40151.0<br>displayName:Ryan Jensen<br>Position:C<br>Role:Pass Block",
            "nflId:41233.0<br>displayName:Mike Evans<br>Position:LWR<br>Role:Pass Route",
            "nflId:42377.0<br>displayName:Donovan Smith<br>Position:LT<br>Role:Pass Block",
            "nflId:42404.0<br>displayName:Ali Marpet<br>Position:LG<br>Role:Pass Block",
            "nflId:44816.0<br>displayName:Leonard Fournette<br>Position:HB-R<br>Role:Pass Route",
            "nflId:44896.0<br>displayName:Chris Godwin<br>Position:SRWR<br>Role:Pass Route",
            "nflId:46163.0<br>displayName:Alex Cappa<br>Position:RG<br>Role:Pass Block",
            "nflId:52421.0<br>displayName:Tristan Wirfs<br>Position:RT<br>Role:Pass Block"
           ],
           "marker": {
            "color": "#D50A0A"
           },
           "mode": "markers",
           "name": "TB",
           "type": "scatter",
           "x": [
            23.29,
            35.74,
            36.91,
            26.54,
            34.54,
            24.49,
            27.45,
            28.54,
            32.63,
            27.25,
            25.1
           ],
           "y": [
            27.7,
            23.55,
            10.9,
            25.57,
            47.85,
            30.11,
            27.7,
            17.22,
            10.79,
            24.64,
            23.45
           ]
          },
          {
           "hoverinfo": "text",
           "hovertext": [
            "nflId:41263.0<br>displayName:Demarcus Lawrence<br>Position:LEO<br>Role:Pass Rush",
            "nflId:42403.0<br>displayName:Randy Gregory<br>Position:REO<br>Role:Pass Rush",
            "nflId:43306.0<br>displayName:Keanu Neal<br>Position:LLB<br>Role:Coverage",
            "nflId:43478.0<br>displayName:Anthony Brown<br>Position:LCB<br>Role:Coverage",
            "nflId:44904.0<br>displayName:Jourdan Lewis<br>Position:SCBL<br>Role:Coverage",
            "nflId:44955.0<br>displayName:Carlos Watkins<br>Position:DLT<br>Role:Pass Rush",
            "nflId:44962.0<br>displayName:Damontae Kazee<br>Position:SSL<br>Role:Coverage",
            "nflId:47996.0<br>displayName:Donovan Wilson<br>Position:FSR<br>Role:Coverage",
            "nflId:52459.0<br>displayName:Trevon Diggs<br>Position:RCB<br>Role:Coverage",
            "nflId:53441.0<br>displayName:Micah Parsons<br>Position:RILB<br>Role:Coverage",
            "nflId:53504.0<br>displayName:Osa Odighizuwa<br>Position:DRT<br>Role:Pass Rush"
           ],
           "marker": {
            "color": "#003594"
           },
           "mode": "markers",
           "name": "DAL",
           "type": "scatter",
           "x": [
            24.87,
            24.82,
            36.13,
            40.64,
            33.8,
            27.95,
            43.75,
            47.98,
            34.19,
            35.62,
            28.18
           ],
           "y": [
            22.89,
            31.05,
            22.09,
            11.16,
            11.72,
            24.34,
            21.16,
            34.84,
            47.03,
            24.97,
            27.75
           ]
          },
          {
           "hoverinfo": "none",
           "marker": {
            "color": "#CBB67C"
           },
           "mode": "markers",
           "name": "football",
           "type": "scatter",
           "x": [
            23.19
           ],
           "y": [
            27.65
           ]
          }
         ],
         "name": "24"
        },
        {
         "data": [
          {
           "hoverinfo": "none",
           "mode": "text",
           "showlegend": false,
           "text": [
            "10",
            "20",
            "30",
            "40",
            "50",
            "40",
            "30",
            "20",
            "10"
           ],
           "textfont": {
            "color": "#ffffff",
            "family": "Courier New, monospace",
            "size": 30
           },
           "type": "scatter",
           "x": [
            20,
            30,
            40,
            50,
            60,
            70,
            80,
            90,
            100
           ],
           "y": [
            5,
            5,
            5,
            5,
            5,
            5,
            5,
            5,
            5
           ]
          },
          {
           "hoverinfo": "none",
           "mode": "text",
           "showlegend": false,
           "text": [
            "10",
            "20",
            "30",
            "40",
            "50",
            "40",
            "30",
            "20",
            "10"
           ],
           "textfont": {
            "color": "#ffffff",
            "family": "Courier New, monospace",
            "size": 30
           },
           "type": "scatter",
           "x": [
            20,
            30,
            40,
            50,
            60,
            70,
            80,
            90,
            100
           ],
           "y": [
            48.5,
            48.5,
            48.5,
            48.5,
            48.5,
            48.5,
            48.5,
            48.5,
            48.5
           ]
          },
          {
           "hoverinfo": "none",
           "line": {
            "color": "blue",
            "dash": "dash"
           },
           "showlegend": false,
           "type": "scatter",
           "x": [
            31,
            31
           ],
           "y": [
            0,
            53.5
           ]
          },
          {
           "hoverinfo": "none",
           "line": {
            "color": "yellow",
            "dash": "dash"
           },
           "showlegend": false,
           "type": "scatter",
           "x": [
            41,
            41
           ],
           "y": [
            0,
            53.5
           ]
          },
          {
           "hoverinfo": "text",
           "hovertext": [
            "nflId:25511.0<br>displayName:Tom Brady<br>Position:QB<br>Role:Pass",
            "nflId:35481.0<br>displayName:Rob Gronkowski<br>Position:TE-R<br>Role:Pass Route",
            "nflId:35634.0<br>displayName:Antonio Brown<br>Position:RWR<br>Role:Pass Route",
            "nflId:40151.0<br>displayName:Ryan Jensen<br>Position:C<br>Role:Pass Block",
            "nflId:41233.0<br>displayName:Mike Evans<br>Position:LWR<br>Role:Pass Route",
            "nflId:42377.0<br>displayName:Donovan Smith<br>Position:LT<br>Role:Pass Block",
            "nflId:42404.0<br>displayName:Ali Marpet<br>Position:LG<br>Role:Pass Block",
            "nflId:44816.0<br>displayName:Leonard Fournette<br>Position:HB-R<br>Role:Pass Route",
            "nflId:44896.0<br>displayName:Chris Godwin<br>Position:SRWR<br>Role:Pass Route",
            "nflId:46163.0<br>displayName:Alex Cappa<br>Position:RG<br>Role:Pass Block",
            "nflId:52421.0<br>displayName:Tristan Wirfs<br>Position:RT<br>Role:Pass Block"
           ],
           "marker": {
            "color": "#D50A0A"
           },
           "mode": "markers",
           "name": "TB",
           "type": "scatter",
           "x": [
            23.29,
            36.32,
            37.66,
            26.3,
            35.12,
            24.19,
            27.29,
            28.74,
            33.08,
            27.25,
            24.82
           ],
           "y": [
            27.75,
            23.72,
            10.98,
            25.51,
            48.12,
            29.99,
            27.68,
            16.59,
            10.14,
            24.62,
            23.5
           ]
          },
          {
           "hoverinfo": "text",
           "hovertext": [
            "nflId:41263.0<br>displayName:Demarcus Lawrence<br>Position:LEO<br>Role:Pass Rush",
            "nflId:42403.0<br>displayName:Randy Gregory<br>Position:REO<br>Role:Pass Rush",
            "nflId:43306.0<br>displayName:Keanu Neal<br>Position:LLB<br>Role:Coverage",
            "nflId:43478.0<br>displayName:Anthony Brown<br>Position:LCB<br>Role:Coverage",
            "nflId:44904.0<br>displayName:Jourdan Lewis<br>Position:SCBL<br>Role:Coverage",
            "nflId:44955.0<br>displayName:Carlos Watkins<br>Position:DLT<br>Role:Pass Rush",
            "nflId:44962.0<br>displayName:Damontae Kazee<br>Position:SSL<br>Role:Coverage",
            "nflId:47996.0<br>displayName:Donovan Wilson<br>Position:FSR<br>Role:Coverage",
            "nflId:52459.0<br>displayName:Trevon Diggs<br>Position:RCB<br>Role:Coverage",
            "nflId:53441.0<br>displayName:Micah Parsons<br>Position:RILB<br>Role:Coverage",
            "nflId:53504.0<br>displayName:Osa Odighizuwa<br>Position:DRT<br>Role:Pass Rush"
           ],
           "marker": {
            "color": "#003594"
           },
           "mode": "markers",
           "name": "DAL",
           "type": "scatter",
           "x": [
            24.45,
            24.49,
            36.26,
            41.11,
            34.16,
            27.98,
            44.02,
            48.22,
            34.66,
            36,
            28
           ],
           "y": [
            22.95,
            30.87,
            21.87,
            11.19,
            11.21,
            24.36,
            21.25,
            35.27,
            47.29,
            24.85,
            27.66
           ]
          },
          {
           "hoverinfo": "none",
           "marker": {
            "color": "#CBB67C"
           },
           "mode": "markers",
           "name": "football",
           "type": "scatter",
           "x": [
            23.13
           ],
           "y": [
            27.62
           ]
          }
         ],
         "name": "25"
        },
        {
         "data": [
          {
           "hoverinfo": "none",
           "mode": "text",
           "showlegend": false,
           "text": [
            "10",
            "20",
            "30",
            "40",
            "50",
            "40",
            "30",
            "20",
            "10"
           ],
           "textfont": {
            "color": "#ffffff",
            "family": "Courier New, monospace",
            "size": 30
           },
           "type": "scatter",
           "x": [
            20,
            30,
            40,
            50,
            60,
            70,
            80,
            90,
            100
           ],
           "y": [
            5,
            5,
            5,
            5,
            5,
            5,
            5,
            5,
            5
           ]
          },
          {
           "hoverinfo": "none",
           "mode": "text",
           "showlegend": false,
           "text": [
            "10",
            "20",
            "30",
            "40",
            "50",
            "40",
            "30",
            "20",
            "10"
           ],
           "textfont": {
            "color": "#ffffff",
            "family": "Courier New, monospace",
            "size": 30
           },
           "type": "scatter",
           "x": [
            20,
            30,
            40,
            50,
            60,
            70,
            80,
            90,
            100
           ],
           "y": [
            48.5,
            48.5,
            48.5,
            48.5,
            48.5,
            48.5,
            48.5,
            48.5,
            48.5
           ]
          },
          {
           "hoverinfo": "none",
           "line": {
            "color": "blue",
            "dash": "dash"
           },
           "showlegend": false,
           "type": "scatter",
           "x": [
            31,
            31
           ],
           "y": [
            0,
            53.5
           ]
          },
          {
           "hoverinfo": "none",
           "line": {
            "color": "yellow",
            "dash": "dash"
           },
           "showlegend": false,
           "type": "scatter",
           "x": [
            41,
            41
           ],
           "y": [
            0,
            53.5
           ]
          },
          {
           "hoverinfo": "text",
           "hovertext": [
            "nflId:25511.0<br>displayName:Tom Brady<br>Position:QB<br>Role:Pass",
            "nflId:35481.0<br>displayName:Rob Gronkowski<br>Position:TE-R<br>Role:Pass Route",
            "nflId:35634.0<br>displayName:Antonio Brown<br>Position:RWR<br>Role:Pass Route",
            "nflId:40151.0<br>displayName:Ryan Jensen<br>Position:C<br>Role:Pass Block",
            "nflId:41233.0<br>displayName:Mike Evans<br>Position:LWR<br>Role:Pass Route",
            "nflId:42377.0<br>displayName:Donovan Smith<br>Position:LT<br>Role:Pass Block",
            "nflId:42404.0<br>displayName:Ali Marpet<br>Position:LG<br>Role:Pass Block",
            "nflId:44816.0<br>displayName:Leonard Fournette<br>Position:HB-R<br>Role:Pass Route",
            "nflId:44896.0<br>displayName:Chris Godwin<br>Position:SRWR<br>Role:Pass Route",
            "nflId:46163.0<br>displayName:Alex Cappa<br>Position:RG<br>Role:Pass Block",
            "nflId:52421.0<br>displayName:Tristan Wirfs<br>Position:RT<br>Role:Pass Block"
           ],
           "marker": {
            "color": "#D50A0A"
           },
           "mode": "markers",
           "name": "TB",
           "type": "scatter",
           "x": [
            23.31,
            36.91,
            38.42,
            26.04,
            35.7,
            23.9,
            27.15,
            28.93,
            33.56,
            27.29,
            24.53
           ],
           "y": [
            27.79,
            23.89,
            11.05,
            25.46,
            48.38,
            29.88,
            27.66,
            15.95,
            9.51,
            24.62,
            23.59
           ]
          },
          {
           "hoverinfo": "text",
           "hovertext": [
            "nflId:41263.0<br>displayName:Demarcus Lawrence<br>Position:LEO<br>Role:Pass Rush",
            "nflId:42403.0<br>displayName:Randy Gregory<br>Position:REO<br>Role:Pass Rush",
            "nflId:43306.0<br>displayName:Keanu Neal<br>Position:LLB<br>Role:Coverage",
            "nflId:43478.0<br>displayName:Anthony Brown<br>Position:LCB<br>Role:Coverage",
            "nflId:44904.0<br>displayName:Jourdan Lewis<br>Position:SCBL<br>Role:Coverage",
            "nflId:44955.0<br>displayName:Carlos Watkins<br>Position:DLT<br>Role:Pass Rush",
            "nflId:44962.0<br>displayName:Damontae Kazee<br>Position:SSL<br>Role:Coverage",
            "nflId:47996.0<br>displayName:Donovan Wilson<br>Position:FSR<br>Role:Coverage",
            "nflId:52459.0<br>displayName:Trevon Diggs<br>Position:RCB<br>Role:Coverage",
            "nflId:53441.0<br>displayName:Micah Parsons<br>Position:RILB<br>Role:Coverage",
            "nflId:53504.0<br>displayName:Osa Odighizuwa<br>Position:DRT<br>Role:Pass Rush"
           ],
           "marker": {
            "color": "#003594"
           },
           "mode": "markers",
           "name": "DAL",
           "type": "scatter",
           "x": [
            24.08,
            24.2,
            36.39,
            41.59,
            34.57,
            28.04,
            44.28,
            48.48,
            35.16,
            36.41,
            27.82
           ],
           "y": [
            22.99,
            30.71,
            21.63,
            11.21,
            10.7,
            24.4,
            21.35,
            35.71,
            47.53,
            24.77,
            27.56
           ]
          },
          {
           "hoverinfo": "none",
           "marker": {
            "color": "#CBB67C"
           },
           "mode": "markers",
           "name": "football",
           "type": "scatter",
           "x": [
            23.13
           ],
           "y": [
            27.59
           ]
          }
         ],
         "name": "26"
        },
        {
         "data": [
          {
           "hoverinfo": "none",
           "mode": "text",
           "showlegend": false,
           "text": [
            "10",
            "20",
            "30",
            "40",
            "50",
            "40",
            "30",
            "20",
            "10"
           ],
           "textfont": {
            "color": "#ffffff",
            "family": "Courier New, monospace",
            "size": 30
           },
           "type": "scatter",
           "x": [
            20,
            30,
            40,
            50,
            60,
            70,
            80,
            90,
            100
           ],
           "y": [
            5,
            5,
            5,
            5,
            5,
            5,
            5,
            5,
            5
           ]
          },
          {
           "hoverinfo": "none",
           "mode": "text",
           "showlegend": false,
           "text": [
            "10",
            "20",
            "30",
            "40",
            "50",
            "40",
            "30",
            "20",
            "10"
           ],
           "textfont": {
            "color": "#ffffff",
            "family": "Courier New, monospace",
            "size": 30
           },
           "type": "scatter",
           "x": [
            20,
            30,
            40,
            50,
            60,
            70,
            80,
            90,
            100
           ],
           "y": [
            48.5,
            48.5,
            48.5,
            48.5,
            48.5,
            48.5,
            48.5,
            48.5,
            48.5
           ]
          },
          {
           "hoverinfo": "none",
           "line": {
            "color": "blue",
            "dash": "dash"
           },
           "showlegend": false,
           "type": "scatter",
           "x": [
            31,
            31
           ],
           "y": [
            0,
            53.5
           ]
          },
          {
           "hoverinfo": "none",
           "line": {
            "color": "yellow",
            "dash": "dash"
           },
           "showlegend": false,
           "type": "scatter",
           "x": [
            41,
            41
           ],
           "y": [
            0,
            53.5
           ]
          },
          {
           "hoverinfo": "text",
           "hovertext": [
            "nflId:25511.0<br>displayName:Tom Brady<br>Position:QB<br>Role:Pass",
            "nflId:35481.0<br>displayName:Rob Gronkowski<br>Position:TE-R<br>Role:Pass Route",
            "nflId:35634.0<br>displayName:Antonio Brown<br>Position:RWR<br>Role:Pass Route",
            "nflId:40151.0<br>displayName:Ryan Jensen<br>Position:C<br>Role:Pass Block",
            "nflId:41233.0<br>displayName:Mike Evans<br>Position:LWR<br>Role:Pass Route",
            "nflId:42377.0<br>displayName:Donovan Smith<br>Position:LT<br>Role:Pass Block",
            "nflId:42404.0<br>displayName:Ali Marpet<br>Position:LG<br>Role:Pass Block",
            "nflId:44816.0<br>displayName:Leonard Fournette<br>Position:HB-R<br>Role:Pass Route",
            "nflId:44896.0<br>displayName:Chris Godwin<br>Position:SRWR<br>Role:Pass Route",
            "nflId:46163.0<br>displayName:Alex Cappa<br>Position:RG<br>Role:Pass Block",
            "nflId:52421.0<br>displayName:Tristan Wirfs<br>Position:RT<br>Role:Pass Block"
           ],
           "marker": {
            "color": "#D50A0A"
           },
           "mode": "markers",
           "name": "TB",
           "type": "scatter",
           "x": [
            23.36,
            37.53,
            39.18,
            25.79,
            36.27,
            23.66,
            27.04,
            29.12,
            34.08,
            27.35,
            24.24
           ],
           "y": [
            27.82,
            24.06,
            11.13,
            25.4,
            48.62,
            29.79,
            27.63,
            15.31,
            8.9,
            24.63,
            23.67
           ]
          },
          {
           "hoverinfo": "text",
           "hovertext": [
            "nflId:41263.0<br>displayName:Demarcus Lawrence<br>Position:LEO<br>Role:Pass Rush",
            "nflId:42403.0<br>displayName:Randy Gregory<br>Position:REO<br>Role:Pass Rush",
            "nflId:43306.0<br>displayName:Keanu Neal<br>Position:LLB<br>Role:Coverage",
            "nflId:43478.0<br>displayName:Anthony Brown<br>Position:LCB<br>Role:Coverage",
            "nflId:44904.0<br>displayName:Jourdan Lewis<br>Position:SCBL<br>Role:Coverage",
            "nflId:44955.0<br>displayName:Carlos Watkins<br>Position:DLT<br>Role:Pass Rush",
            "nflId:44962.0<br>displayName:Damontae Kazee<br>Position:SSL<br>Role:Coverage",
            "nflId:47996.0<br>displayName:Donovan Wilson<br>Position:FSR<br>Role:Coverage",
            "nflId:52459.0<br>displayName:Trevon Diggs<br>Position:RCB<br>Role:Coverage",
            "nflId:53441.0<br>displayName:Micah Parsons<br>Position:RILB<br>Role:Coverage",
            "nflId:53504.0<br>displayName:Osa Odighizuwa<br>Position:DRT<br>Role:Pass Rush"
           ],
           "marker": {
            "color": "#003594"
           },
           "mode": "markers",
           "name": "DAL",
           "type": "scatter",
           "x": [
            23.73,
            23.96,
            36.52,
            42.08,
            35.01,
            28.13,
            44.55,
            48.76,
            35.68,
            36.86,
            27.66
           ],
           "y": [
            23.02,
            30.55,
            21.35,
            11.23,
            10.17,
            24.47,
            21.48,
            36.14,
            47.75,
            24.73,
            27.46
           ]
          },
          {
           "hoverinfo": "none",
           "marker": {
            "color": "#CBB67C"
           },
           "mode": "markers",
           "name": "football",
           "type": "scatter",
           "x": [
            23.13
           ],
           "y": [
            27.57
           ]
          }
         ],
         "name": "27"
        },
        {
         "data": [
          {
           "hoverinfo": "none",
           "mode": "text",
           "showlegend": false,
           "text": [
            "10",
            "20",
            "30",
            "40",
            "50",
            "40",
            "30",
            "20",
            "10"
           ],
           "textfont": {
            "color": "#ffffff",
            "family": "Courier New, monospace",
            "size": 30
           },
           "type": "scatter",
           "x": [
            20,
            30,
            40,
            50,
            60,
            70,
            80,
            90,
            100
           ],
           "y": [
            5,
            5,
            5,
            5,
            5,
            5,
            5,
            5,
            5
           ]
          },
          {
           "hoverinfo": "none",
           "mode": "text",
           "showlegend": false,
           "text": [
            "10",
            "20",
            "30",
            "40",
            "50",
            "40",
            "30",
            "20",
            "10"
           ],
           "textfont": {
            "color": "#ffffff",
            "family": "Courier New, monospace",
            "size": 30
           },
           "type": "scatter",
           "x": [
            20,
            30,
            40,
            50,
            60,
            70,
            80,
            90,
            100
           ],
           "y": [
            48.5,
            48.5,
            48.5,
            48.5,
            48.5,
            48.5,
            48.5,
            48.5,
            48.5
           ]
          },
          {
           "hoverinfo": "none",
           "line": {
            "color": "blue",
            "dash": "dash"
           },
           "showlegend": false,
           "type": "scatter",
           "x": [
            31,
            31
           ],
           "y": [
            0,
            53.5
           ]
          },
          {
           "hoverinfo": "none",
           "line": {
            "color": "yellow",
            "dash": "dash"
           },
           "showlegend": false,
           "type": "scatter",
           "x": [
            41,
            41
           ],
           "y": [
            0,
            53.5
           ]
          },
          {
           "hoverinfo": "text",
           "hovertext": [
            "nflId:25511.0<br>displayName:Tom Brady<br>Position:QB<br>Role:Pass",
            "nflId:35481.0<br>displayName:Rob Gronkowski<br>Position:TE-R<br>Role:Pass Route",
            "nflId:35634.0<br>displayName:Antonio Brown<br>Position:RWR<br>Role:Pass Route",
            "nflId:40151.0<br>displayName:Ryan Jensen<br>Position:C<br>Role:Pass Block",
            "nflId:41233.0<br>displayName:Mike Evans<br>Position:LWR<br>Role:Pass Route",
            "nflId:42377.0<br>displayName:Donovan Smith<br>Position:LT<br>Role:Pass Block",
            "nflId:42404.0<br>displayName:Ali Marpet<br>Position:LG<br>Role:Pass Block",
            "nflId:44816.0<br>displayName:Leonard Fournette<br>Position:HB-R<br>Role:Pass Route",
            "nflId:44896.0<br>displayName:Chris Godwin<br>Position:SRWR<br>Role:Pass Route",
            "nflId:46163.0<br>displayName:Alex Cappa<br>Position:RG<br>Role:Pass Block",
            "nflId:52421.0<br>displayName:Tristan Wirfs<br>Position:RT<br>Role:Pass Block"
           ],
           "marker": {
            "color": "#D50A0A"
           },
           "mode": "markers",
           "name": "TB",
           "type": "scatter",
           "x": [
            23.42,
            38.17,
            39.92,
            25.53,
            36.84,
            23.45,
            26.93,
            29.31,
            34.64,
            27.45,
            23.95
           ],
           "y": [
            27.84,
            24.23,
            11.22,
            25.34,
            48.85,
            29.7,
            27.61,
            14.67,
            8.31,
            24.67,
            23.78
           ]
          },
          {
           "hoverinfo": "text",
           "hovertext": [
            "nflId:41263.0<br>displayName:Demarcus Lawrence<br>Position:LEO<br>Role:Pass Rush",
            "nflId:42403.0<br>displayName:Randy Gregory<br>Position:REO<br>Role:Pass Rush",
            "nflId:43306.0<br>displayName:Keanu Neal<br>Position:LLB<br>Role:Coverage",
            "nflId:43478.0<br>displayName:Anthony Brown<br>Position:LCB<br>Role:Coverage",
            "nflId:44904.0<br>displayName:Jourdan Lewis<br>Position:SCBL<br>Role:Coverage",
            "nflId:44955.0<br>displayName:Carlos Watkins<br>Position:DLT<br>Role:Pass Rush",
            "nflId:44962.0<br>displayName:Damontae Kazee<br>Position:SSL<br>Role:Coverage",
            "nflId:47996.0<br>displayName:Donovan Wilson<br>Position:FSR<br>Role:Coverage",
            "nflId:52459.0<br>displayName:Trevon Diggs<br>Position:RCB<br>Role:Coverage",
            "nflId:53441.0<br>displayName:Micah Parsons<br>Position:RILB<br>Role:Coverage",
            "nflId:53504.0<br>displayName:Osa Odighizuwa<br>Position:DRT<br>Role:Pass Rush"
           ],
           "marker": {
            "color": "#003594"
           },
           "mode": "markers",
           "name": "DAL",
           "type": "scatter",
           "x": [
            23.41,
            23.76,
            36.65,
            42.58,
            35.5,
            28.27,
            44.82,
            49.07,
            36.21,
            37.33,
            27.49
           ],
           "y": [
            23.04,
            30.38,
            21.06,
            11.26,
            9.67,
            24.55,
            21.65,
            36.56,
            47.96,
            24.71,
            27.36
           ]
          },
          {
           "hoverinfo": "none",
           "marker": {
            "color": "#CBB67C"
           },
           "mode": "markers",
           "name": "football",
           "type": "scatter",
           "x": [
            23.12
           ],
           "y": [
            27.53
           ]
          }
         ],
         "name": "28"
        },
        {
         "data": [
          {
           "hoverinfo": "none",
           "mode": "text",
           "showlegend": false,
           "text": [
            "10",
            "20",
            "30",
            "40",
            "50",
            "40",
            "30",
            "20",
            "10"
           ],
           "textfont": {
            "color": "#ffffff",
            "family": "Courier New, monospace",
            "size": 30
           },
           "type": "scatter",
           "x": [
            20,
            30,
            40,
            50,
            60,
            70,
            80,
            90,
            100
           ],
           "y": [
            5,
            5,
            5,
            5,
            5,
            5,
            5,
            5,
            5
           ]
          },
          {
           "hoverinfo": "none",
           "mode": "text",
           "showlegend": false,
           "text": [
            "10",
            "20",
            "30",
            "40",
            "50",
            "40",
            "30",
            "20",
            "10"
           ],
           "textfont": {
            "color": "#ffffff",
            "family": "Courier New, monospace",
            "size": 30
           },
           "type": "scatter",
           "x": [
            20,
            30,
            40,
            50,
            60,
            70,
            80,
            90,
            100
           ],
           "y": [
            48.5,
            48.5,
            48.5,
            48.5,
            48.5,
            48.5,
            48.5,
            48.5,
            48.5
           ]
          },
          {
           "hoverinfo": "none",
           "line": {
            "color": "blue",
            "dash": "dash"
           },
           "showlegend": false,
           "type": "scatter",
           "x": [
            31,
            31
           ],
           "y": [
            0,
            53.5
           ]
          },
          {
           "hoverinfo": "none",
           "line": {
            "color": "yellow",
            "dash": "dash"
           },
           "showlegend": false,
           "type": "scatter",
           "x": [
            41,
            41
           ],
           "y": [
            0,
            53.5
           ]
          },
          {
           "hoverinfo": "text",
           "hovertext": [
            "nflId:25511.0<br>displayName:Tom Brady<br>Position:QB<br>Role:Pass",
            "nflId:35481.0<br>displayName:Rob Gronkowski<br>Position:TE-R<br>Role:Pass Route",
            "nflId:35634.0<br>displayName:Antonio Brown<br>Position:RWR<br>Role:Pass Route",
            "nflId:40151.0<br>displayName:Ryan Jensen<br>Position:C<br>Role:Pass Block",
            "nflId:41233.0<br>displayName:Mike Evans<br>Position:LWR<br>Role:Pass Route",
            "nflId:42377.0<br>displayName:Donovan Smith<br>Position:LT<br>Role:Pass Block",
            "nflId:42404.0<br>displayName:Ali Marpet<br>Position:LG<br>Role:Pass Block",
            "nflId:44816.0<br>displayName:Leonard Fournette<br>Position:HB-R<br>Role:Pass Route",
            "nflId:44896.0<br>displayName:Chris Godwin<br>Position:SRWR<br>Role:Pass Route",
            "nflId:46163.0<br>displayName:Alex Cappa<br>Position:RG<br>Role:Pass Block",
            "nflId:52421.0<br>displayName:Tristan Wirfs<br>Position:RT<br>Role:Pass Block"
           ],
           "marker": {
            "color": "#D50A0A"
           },
           "mode": "markers",
           "name": "TB",
           "type": "scatter",
           "x": [
            23.5,
            38.82,
            40.67,
            25.24,
            37.38,
            23.26,
            26.85,
            29.5,
            35.23,
            27.57,
            23.72
           ],
           "y": [
            27.86,
            24.42,
            11.33,
            25.27,
            49.08,
            29.63,
            27.58,
            14.04,
            7.75,
            24.73,
            23.85
           ]
          },
          {
           "hoverinfo": "text",
           "hovertext": [
            "nflId:41263.0<br>displayName:Demarcus Lawrence<br>Position:LEO<br>Role:Pass Rush",
            "nflId:42403.0<br>displayName:Randy Gregory<br>Position:REO<br>Role:Pass Rush",
            "nflId:43306.0<br>displayName:Keanu Neal<br>Position:LLB<br>Role:Coverage",
            "nflId:43478.0<br>displayName:Anthony Brown<br>Position:LCB<br>Role:Coverage",
            "nflId:44904.0<br>displayName:Jourdan Lewis<br>Position:SCBL<br>Role:Coverage",
            "nflId:44955.0<br>displayName:Carlos Watkins<br>Position:DLT<br>Role:Pass Rush",
            "nflId:44962.0<br>displayName:Damontae Kazee<br>Position:SSL<br>Role:Coverage",
            "nflId:47996.0<br>displayName:Donovan Wilson<br>Position:FSR<br>Role:Coverage",
            "nflId:52459.0<br>displayName:Trevon Diggs<br>Position:RCB<br>Role:Coverage",
            "nflId:53441.0<br>displayName:Micah Parsons<br>Position:RILB<br>Role:Coverage",
            "nflId:53504.0<br>displayName:Osa Odighizuwa<br>Position:DRT<br>Role:Pass Rush"
           ],
           "marker": {
            "color": "#003594"
           },
           "mode": "markers",
           "name": "DAL",
           "type": "scatter",
           "x": [
            23.16,
            23.61,
            36.78,
            43.08,
            36.04,
            28.43,
            45.1,
            49.39,
            36.75,
            37.82,
            27.37
           ],
           "y": [
            23.03,
            30.18,
            20.78,
            11.3,
            9.19,
            24.65,
            21.85,
            36.95,
            48.14,
            24.76,
            27.25
           ]
          },
          {
           "hoverinfo": "none",
           "marker": {
            "color": "#CBB67C"
           },
           "mode": "markers",
           "name": "football",
           "type": "scatter",
           "x": [
            23.12
           ],
           "y": [
            27.49
           ]
          }
         ],
         "name": "29"
        },
        {
         "data": [
          {
           "hoverinfo": "none",
           "mode": "text",
           "showlegend": false,
           "text": [
            "10",
            "20",
            "30",
            "40",
            "50",
            "40",
            "30",
            "20",
            "10"
           ],
           "textfont": {
            "color": "#ffffff",
            "family": "Courier New, monospace",
            "size": 30
           },
           "type": "scatter",
           "x": [
            20,
            30,
            40,
            50,
            60,
            70,
            80,
            90,
            100
           ],
           "y": [
            5,
            5,
            5,
            5,
            5,
            5,
            5,
            5,
            5
           ]
          },
          {
           "hoverinfo": "none",
           "mode": "text",
           "showlegend": false,
           "text": [
            "10",
            "20",
            "30",
            "40",
            "50",
            "40",
            "30",
            "20",
            "10"
           ],
           "textfont": {
            "color": "#ffffff",
            "family": "Courier New, monospace",
            "size": 30
           },
           "type": "scatter",
           "x": [
            20,
            30,
            40,
            50,
            60,
            70,
            80,
            90,
            100
           ],
           "y": [
            48.5,
            48.5,
            48.5,
            48.5,
            48.5,
            48.5,
            48.5,
            48.5,
            48.5
           ]
          },
          {
           "hoverinfo": "none",
           "line": {
            "color": "blue",
            "dash": "dash"
           },
           "showlegend": false,
           "type": "scatter",
           "x": [
            31,
            31
           ],
           "y": [
            0,
            53.5
           ]
          },
          {
           "hoverinfo": "none",
           "line": {
            "color": "yellow",
            "dash": "dash"
           },
           "showlegend": false,
           "type": "scatter",
           "x": [
            41,
            41
           ],
           "y": [
            0,
            53.5
           ]
          },
          {
           "hoverinfo": "text",
           "hovertext": [
            "nflId:25511.0<br>displayName:Tom Brady<br>Position:QB<br>Role:Pass",
            "nflId:35481.0<br>displayName:Rob Gronkowski<br>Position:TE-R<br>Role:Pass Route",
            "nflId:35634.0<br>displayName:Antonio Brown<br>Position:RWR<br>Role:Pass Route",
            "nflId:40151.0<br>displayName:Ryan Jensen<br>Position:C<br>Role:Pass Block",
            "nflId:41233.0<br>displayName:Mike Evans<br>Position:LWR<br>Role:Pass Route",
            "nflId:42377.0<br>displayName:Donovan Smith<br>Position:LT<br>Role:Pass Block",
            "nflId:42404.0<br>displayName:Ali Marpet<br>Position:LG<br>Role:Pass Block",
            "nflId:44816.0<br>displayName:Leonard Fournette<br>Position:HB-R<br>Role:Pass Route",
            "nflId:44896.0<br>displayName:Chris Godwin<br>Position:SRWR<br>Role:Pass Route",
            "nflId:46163.0<br>displayName:Alex Cappa<br>Position:RG<br>Role:Pass Block",
            "nflId:52421.0<br>displayName:Tristan Wirfs<br>Position:RT<br>Role:Pass Block"
           ],
           "marker": {
            "color": "#D50A0A"
           },
           "mode": "markers",
           "name": "TB",
           "type": "scatter",
           "x": [
            23.57,
            39.5,
            41.41,
            24.96,
            37.88,
            23.13,
            26.79,
            29.68,
            35.87,
            27.72,
            23.47
           ],
           "y": [
            27.86,
            24.61,
            11.46,
            25.17,
            49.3,
            29.58,
            27.56,
            13.42,
            7.22,
            24.8,
            23.94
           ]
          },
          {
           "hoverinfo": "text",
           "hovertext": [
            "nflId:41263.0<br>displayName:Demarcus Lawrence<br>Position:LEO<br>Role:Pass Rush",
            "nflId:42403.0<br>displayName:Randy Gregory<br>Position:REO<br>Role:Pass Rush",
            "nflId:43306.0<br>displayName:Keanu Neal<br>Position:LLB<br>Role:Coverage",
            "nflId:43478.0<br>displayName:Anthony Brown<br>Position:LCB<br>Role:Coverage",
            "nflId:44904.0<br>displayName:Jourdan Lewis<br>Position:SCBL<br>Role:Coverage",
            "nflId:44955.0<br>displayName:Carlos Watkins<br>Position:DLT<br>Role:Pass Rush",
            "nflId:44962.0<br>displayName:Damontae Kazee<br>Position:SSL<br>Role:Coverage",
            "nflId:47996.0<br>displayName:Donovan Wilson<br>Position:FSR<br>Role:Coverage",
            "nflId:52459.0<br>displayName:Trevon Diggs<br>Position:RCB<br>Role:Coverage",
            "nflId:53441.0<br>displayName:Micah Parsons<br>Position:RILB<br>Role:Coverage",
            "nflId:53504.0<br>displayName:Osa Odighizuwa<br>Position:DRT<br>Role:Pass Rush"
           ],
           "marker": {
            "color": "#003594"
           },
           "mode": "markers",
           "name": "DAL",
           "type": "scatter",
           "x": [
            22.98,
            23.49,
            36.91,
            43.57,
            36.59,
            28.59,
            45.36,
            49.73,
            37.27,
            38.34,
            27.22
           ],
           "y": [
            23.04,
            30.01,
            20.51,
            11.36,
            8.7,
            24.76,
            22.1,
            37.3,
            48.3,
            24.84,
            27.16
           ]
          },
          {
           "hoverinfo": "none",
           "marker": {
            "color": "#CBB67C"
           },
           "mode": "markers",
           "name": "football",
           "type": "scatter",
           "x": [
            23.12
           ],
           "y": [
            27.45
           ]
          }
         ],
         "name": "30"
        },
        {
         "data": [
          {
           "hoverinfo": "none",
           "mode": "text",
           "showlegend": false,
           "text": [
            "10",
            "20",
            "30",
            "40",
            "50",
            "40",
            "30",
            "20",
            "10"
           ],
           "textfont": {
            "color": "#ffffff",
            "family": "Courier New, monospace",
            "size": 30
           },
           "type": "scatter",
           "x": [
            20,
            30,
            40,
            50,
            60,
            70,
            80,
            90,
            100
           ],
           "y": [
            5,
            5,
            5,
            5,
            5,
            5,
            5,
            5,
            5
           ]
          },
          {
           "hoverinfo": "none",
           "mode": "text",
           "showlegend": false,
           "text": [
            "10",
            "20",
            "30",
            "40",
            "50",
            "40",
            "30",
            "20",
            "10"
           ],
           "textfont": {
            "color": "#ffffff",
            "family": "Courier New, monospace",
            "size": 30
           },
           "type": "scatter",
           "x": [
            20,
            30,
            40,
            50,
            60,
            70,
            80,
            90,
            100
           ],
           "y": [
            48.5,
            48.5,
            48.5,
            48.5,
            48.5,
            48.5,
            48.5,
            48.5,
            48.5
           ]
          },
          {
           "hoverinfo": "none",
           "line": {
            "color": "blue",
            "dash": "dash"
           },
           "showlegend": false,
           "type": "scatter",
           "x": [
            31,
            31
           ],
           "y": [
            0,
            53.5
           ]
          },
          {
           "hoverinfo": "none",
           "line": {
            "color": "yellow",
            "dash": "dash"
           },
           "showlegend": false,
           "type": "scatter",
           "x": [
            41,
            41
           ],
           "y": [
            0,
            53.5
           ]
          },
          {
           "hoverinfo": "text",
           "hovertext": [
            "nflId:25511.0<br>displayName:Tom Brady<br>Position:QB<br>Role:Pass",
            "nflId:35481.0<br>displayName:Rob Gronkowski<br>Position:TE-R<br>Role:Pass Route",
            "nflId:35634.0<br>displayName:Antonio Brown<br>Position:RWR<br>Role:Pass Route",
            "nflId:40151.0<br>displayName:Ryan Jensen<br>Position:C<br>Role:Pass Block",
            "nflId:41233.0<br>displayName:Mike Evans<br>Position:LWR<br>Role:Pass Route",
            "nflId:42377.0<br>displayName:Donovan Smith<br>Position:LT<br>Role:Pass Block",
            "nflId:42404.0<br>displayName:Ali Marpet<br>Position:LG<br>Role:Pass Block",
            "nflId:44816.0<br>displayName:Leonard Fournette<br>Position:HB-R<br>Role:Pass Route",
            "nflId:44896.0<br>displayName:Chris Godwin<br>Position:SRWR<br>Role:Pass Route",
            "nflId:46163.0<br>displayName:Alex Cappa<br>Position:RG<br>Role:Pass Block",
            "nflId:52421.0<br>displayName:Tristan Wirfs<br>Position:RT<br>Role:Pass Block"
           ],
           "marker": {
            "color": "#D50A0A"
           },
           "mode": "markers",
           "name": "TB",
           "type": "scatter",
           "x": [
            23.62,
            40.18,
            42.13,
            24.68,
            38.31,
            23.04,
            26.73,
            29.86,
            36.54,
            27.87,
            23.24
           ],
           "y": [
            27.86,
            24.83,
            11.62,
            25.03,
            49.48,
            29.5,
            27.52,
            12.81,
            6.73,
            24.88,
            24.04
           ]
          },
          {
           "hoverinfo": "text",
           "hovertext": [
            "nflId:41263.0<br>displayName:Demarcus Lawrence<br>Position:LEO<br>Role:Pass Rush",
            "nflId:42403.0<br>displayName:Randy Gregory<br>Position:REO<br>Role:Pass Rush",
            "nflId:43306.0<br>displayName:Keanu Neal<br>Position:LLB<br>Role:Coverage",
            "nflId:43478.0<br>displayName:Anthony Brown<br>Position:LCB<br>Role:Coverage",
            "nflId:44904.0<br>displayName:Jourdan Lewis<br>Position:SCBL<br>Role:Coverage",
            "nflId:44955.0<br>displayName:Carlos Watkins<br>Position:DLT<br>Role:Pass Rush",
            "nflId:44962.0<br>displayName:Damontae Kazee<br>Position:SSL<br>Role:Coverage",
            "nflId:47996.0<br>displayName:Donovan Wilson<br>Position:FSR<br>Role:Coverage",
            "nflId:52459.0<br>displayName:Trevon Diggs<br>Position:RCB<br>Role:Coverage",
            "nflId:53441.0<br>displayName:Micah Parsons<br>Position:RILB<br>Role:Coverage",
            "nflId:53504.0<br>displayName:Osa Odighizuwa<br>Position:DRT<br>Role:Pass Rush"
           ],
           "marker": {
            "color": "#003594"
           },
           "mode": "markers",
           "name": "DAL",
           "type": "scatter",
           "x": [
            22.82,
            23.41,
            37.04,
            44.07,
            37.18,
            28.79,
            45.63,
            50.07,
            37.78,
            38.88,
            27.1
           ],
           "y": [
            23.04,
            29.84,
            20.27,
            11.46,
            8.23,
            24.87,
            22.39,
            37.59,
            48.45,
            25,
            27.04
           ]
          },
          {
           "hoverinfo": "none",
           "marker": {
            "color": "#CBB67C"
           },
           "mode": "markers",
           "name": "football",
           "type": "scatter",
           "x": [
            23.12
           ],
           "y": [
            27.41
           ]
          }
         ],
         "name": "31"
        },
        {
         "data": [
          {
           "hoverinfo": "none",
           "mode": "text",
           "showlegend": false,
           "text": [
            "10",
            "20",
            "30",
            "40",
            "50",
            "40",
            "30",
            "20",
            "10"
           ],
           "textfont": {
            "color": "#ffffff",
            "family": "Courier New, monospace",
            "size": 30
           },
           "type": "scatter",
           "x": [
            20,
            30,
            40,
            50,
            60,
            70,
            80,
            90,
            100
           ],
           "y": [
            5,
            5,
            5,
            5,
            5,
            5,
            5,
            5,
            5
           ]
          },
          {
           "hoverinfo": "none",
           "mode": "text",
           "showlegend": false,
           "text": [
            "10",
            "20",
            "30",
            "40",
            "50",
            "40",
            "30",
            "20",
            "10"
           ],
           "textfont": {
            "color": "#ffffff",
            "family": "Courier New, monospace",
            "size": 30
           },
           "type": "scatter",
           "x": [
            20,
            30,
            40,
            50,
            60,
            70,
            80,
            90,
            100
           ],
           "y": [
            48.5,
            48.5,
            48.5,
            48.5,
            48.5,
            48.5,
            48.5,
            48.5,
            48.5
           ]
          },
          {
           "hoverinfo": "none",
           "line": {
            "color": "blue",
            "dash": "dash"
           },
           "showlegend": false,
           "type": "scatter",
           "x": [
            31,
            31
           ],
           "y": [
            0,
            53.5
           ]
          },
          {
           "hoverinfo": "none",
           "line": {
            "color": "yellow",
            "dash": "dash"
           },
           "showlegend": false,
           "type": "scatter",
           "x": [
            41,
            41
           ],
           "y": [
            0,
            53.5
           ]
          },
          {
           "hoverinfo": "text",
           "hovertext": [
            "nflId:25511.0<br>displayName:Tom Brady<br>Position:QB<br>Role:Pass",
            "nflId:35481.0<br>displayName:Rob Gronkowski<br>Position:TE-R<br>Role:Pass Route",
            "nflId:35634.0<br>displayName:Antonio Brown<br>Position:RWR<br>Role:Pass Route",
            "nflId:40151.0<br>displayName:Ryan Jensen<br>Position:C<br>Role:Pass Block",
            "nflId:41233.0<br>displayName:Mike Evans<br>Position:LWR<br>Role:Pass Route",
            "nflId:42377.0<br>displayName:Donovan Smith<br>Position:LT<br>Role:Pass Block",
            "nflId:42404.0<br>displayName:Ali Marpet<br>Position:LG<br>Role:Pass Block",
            "nflId:44816.0<br>displayName:Leonard Fournette<br>Position:HB-R<br>Role:Pass Route",
            "nflId:44896.0<br>displayName:Chris Godwin<br>Position:SRWR<br>Role:Pass Route",
            "nflId:46163.0<br>displayName:Alex Cappa<br>Position:RG<br>Role:Pass Block",
            "nflId:52421.0<br>displayName:Tristan Wirfs<br>Position:RT<br>Role:Pass Block"
           ],
           "marker": {
            "color": "#D50A0A"
           },
           "mode": "markers",
           "name": "TB",
           "type": "scatter",
           "x": [
            23.68,
            40.87,
            42.82,
            24.37,
            38.65,
            22.96,
            26.67,
            30.03,
            37.24,
            28.04,
            23.04
           ],
           "y": [
            27.86,
            25.08,
            11.81,
            24.89,
            49.65,
            29.45,
            27.46,
            12.21,
            6.28,
            24.99,
            24.14
           ]
          },
          {
           "hoverinfo": "text",
           "hovertext": [
            "nflId:41263.0<br>displayName:Demarcus Lawrence<br>Position:LEO<br>Role:Pass Rush",
            "nflId:42403.0<br>displayName:Randy Gregory<br>Position:REO<br>Role:Pass Rush",
            "nflId:43306.0<br>displayName:Keanu Neal<br>Position:LLB<br>Role:Coverage",
            "nflId:43478.0<br>displayName:Anthony Brown<br>Position:LCB<br>Role:Coverage",
            "nflId:44904.0<br>displayName:Jourdan Lewis<br>Position:SCBL<br>Role:Coverage",
            "nflId:44955.0<br>displayName:Carlos Watkins<br>Position:DLT<br>Role:Pass Rush",
            "nflId:44962.0<br>displayName:Damontae Kazee<br>Position:SSL<br>Role:Coverage",
            "nflId:47996.0<br>displayName:Donovan Wilson<br>Position:FSR<br>Role:Coverage",
            "nflId:52459.0<br>displayName:Trevon Diggs<br>Position:RCB<br>Role:Coverage",
            "nflId:53441.0<br>displayName:Micah Parsons<br>Position:RILB<br>Role:Coverage",
            "nflId:53504.0<br>displayName:Osa Odighizuwa<br>Position:DRT<br>Role:Pass Rush"
           ],
           "marker": {
            "color": "#003594"
           },
           "mode": "markers",
           "name": "DAL",
           "type": "scatter",
           "x": [
            22.72,
            23.38,
            37.19,
            44.56,
            37.8,
            29.02,
            45.89,
            50.42,
            38.26,
            39.43,
            27.02
           ],
           "y": [
            22.99,
            29.68,
            20.09,
            11.59,
            7.77,
            24.99,
            22.73,
            37.81,
            48.61,
            25.2,
            26.91
           ]
          },
          {
           "hoverinfo": "none",
           "marker": {
            "color": "#CBB67C"
           },
           "mode": "markers",
           "name": "football",
           "type": "scatter",
           "x": [
            23.17
           ],
           "y": [
            27.39
           ]
          }
         ],
         "name": "32"
        },
        {
         "data": [
          {
           "hoverinfo": "none",
           "mode": "text",
           "showlegend": false,
           "text": [
            "10",
            "20",
            "30",
            "40",
            "50",
            "40",
            "30",
            "20",
            "10"
           ],
           "textfont": {
            "color": "#ffffff",
            "family": "Courier New, monospace",
            "size": 30
           },
           "type": "scatter",
           "x": [
            20,
            30,
            40,
            50,
            60,
            70,
            80,
            90,
            100
           ],
           "y": [
            5,
            5,
            5,
            5,
            5,
            5,
            5,
            5,
            5
           ]
          },
          {
           "hoverinfo": "none",
           "mode": "text",
           "showlegend": false,
           "text": [
            "10",
            "20",
            "30",
            "40",
            "50",
            "40",
            "30",
            "20",
            "10"
           ],
           "textfont": {
            "color": "#ffffff",
            "family": "Courier New, monospace",
            "size": 30
           },
           "type": "scatter",
           "x": [
            20,
            30,
            40,
            50,
            60,
            70,
            80,
            90,
            100
           ],
           "y": [
            48.5,
            48.5,
            48.5,
            48.5,
            48.5,
            48.5,
            48.5,
            48.5,
            48.5
           ]
          },
          {
           "hoverinfo": "none",
           "line": {
            "color": "blue",
            "dash": "dash"
           },
           "showlegend": false,
           "type": "scatter",
           "x": [
            31,
            31
           ],
           "y": [
            0,
            53.5
           ]
          },
          {
           "hoverinfo": "none",
           "line": {
            "color": "yellow",
            "dash": "dash"
           },
           "showlegend": false,
           "type": "scatter",
           "x": [
            41,
            41
           ],
           "y": [
            0,
            53.5
           ]
          },
          {
           "hoverinfo": "text",
           "hovertext": [
            "nflId:25511.0<br>displayName:Tom Brady<br>Position:QB<br>Role:Pass",
            "nflId:35481.0<br>displayName:Rob Gronkowski<br>Position:TE-R<br>Role:Pass Route",
            "nflId:35634.0<br>displayName:Antonio Brown<br>Position:RWR<br>Role:Pass Route",
            "nflId:40151.0<br>displayName:Ryan Jensen<br>Position:C<br>Role:Pass Block",
            "nflId:41233.0<br>displayName:Mike Evans<br>Position:LWR<br>Role:Pass Route",
            "nflId:42377.0<br>displayName:Donovan Smith<br>Position:LT<br>Role:Pass Block",
            "nflId:42404.0<br>displayName:Ali Marpet<br>Position:LG<br>Role:Pass Block",
            "nflId:44816.0<br>displayName:Leonard Fournette<br>Position:HB-R<br>Role:Pass Route",
            "nflId:44896.0<br>displayName:Chris Godwin<br>Position:SRWR<br>Role:Pass Route",
            "nflId:46163.0<br>displayName:Alex Cappa<br>Position:RG<br>Role:Pass Block",
            "nflId:52421.0<br>displayName:Tristan Wirfs<br>Position:RT<br>Role:Pass Block"
           ],
           "marker": {
            "color": "#D50A0A"
           },
           "mode": "markers",
           "name": "TB",
           "type": "scatter",
           "x": [
            23.71,
            41.57,
            43.48,
            24.07,
            38.95,
            22.92,
            26.63,
            30.21,
            37.96,
            28.2,
            22.88
           ],
           "y": [
            27.84,
            25.34,
            12.08,
            24.7,
            49.8,
            29.39,
            27.4,
            11.64,
            5.87,
            25.11,
            24.22
           ]
          },
          {
           "hoverinfo": "text",
           "hovertext": [
            "nflId:41263.0<br>displayName:Demarcus Lawrence<br>Position:LEO<br>Role:Pass Rush",
            "nflId:42403.0<br>displayName:Randy Gregory<br>Position:REO<br>Role:Pass Rush",
            "nflId:43306.0<br>displayName:Keanu Neal<br>Position:LLB<br>Role:Coverage",
            "nflId:43478.0<br>displayName:Anthony Brown<br>Position:LCB<br>Role:Coverage",
            "nflId:44904.0<br>displayName:Jourdan Lewis<br>Position:SCBL<br>Role:Coverage",
            "nflId:44955.0<br>displayName:Carlos Watkins<br>Position:DLT<br>Role:Pass Rush",
            "nflId:44962.0<br>displayName:Damontae Kazee<br>Position:SSL<br>Role:Coverage",
            "nflId:47996.0<br>displayName:Donovan Wilson<br>Position:FSR<br>Role:Coverage",
            "nflId:52459.0<br>displayName:Trevon Diggs<br>Position:RCB<br>Role:Coverage",
            "nflId:53441.0<br>displayName:Micah Parsons<br>Position:RILB<br>Role:Coverage",
            "nflId:53504.0<br>displayName:Osa Odighizuwa<br>Position:DRT<br>Role:Pass Rush"
           ],
           "marker": {
            "color": "#003594"
           },
           "mode": "markers",
           "name": "DAL",
           "type": "scatter",
           "x": [
            22.69,
            23.39,
            37.33,
            45.06,
            38.46,
            29.24,
            46.13,
            50.77,
            38.69,
            40.01,
            26.97
           ],
           "y": [
            22.94,
            29.54,
            19.95,
            11.77,
            7.33,
            25.11,
            23.11,
            37.94,
            48.77,
            25.45,
            26.78
           ]
          },
          {
           "hoverinfo": "none",
           "marker": {
            "color": "#CBB67C"
           },
           "mode": "markers",
           "name": "football",
           "type": "scatter",
           "x": [
            28.42
           ],
           "y": [
            27.54
           ]
          }
         ],
         "name": "33"
        },
        {
         "data": [
          {
           "hoverinfo": "none",
           "mode": "text",
           "showlegend": false,
           "text": [
            "10",
            "20",
            "30",
            "40",
            "50",
            "40",
            "30",
            "20",
            "10"
           ],
           "textfont": {
            "color": "#ffffff",
            "family": "Courier New, monospace",
            "size": 30
           },
           "type": "scatter",
           "x": [
            20,
            30,
            40,
            50,
            60,
            70,
            80,
            90,
            100
           ],
           "y": [
            5,
            5,
            5,
            5,
            5,
            5,
            5,
            5,
            5
           ]
          },
          {
           "hoverinfo": "none",
           "mode": "text",
           "showlegend": false,
           "text": [
            "10",
            "20",
            "30",
            "40",
            "50",
            "40",
            "30",
            "20",
            "10"
           ],
           "textfont": {
            "color": "#ffffff",
            "family": "Courier New, monospace",
            "size": 30
           },
           "type": "scatter",
           "x": [
            20,
            30,
            40,
            50,
            60,
            70,
            80,
            90,
            100
           ],
           "y": [
            48.5,
            48.5,
            48.5,
            48.5,
            48.5,
            48.5,
            48.5,
            48.5,
            48.5
           ]
          },
          {
           "hoverinfo": "none",
           "line": {
            "color": "blue",
            "dash": "dash"
           },
           "showlegend": false,
           "type": "scatter",
           "x": [
            31,
            31
           ],
           "y": [
            0,
            53.5
           ]
          },
          {
           "hoverinfo": "none",
           "line": {
            "color": "yellow",
            "dash": "dash"
           },
           "showlegend": false,
           "type": "scatter",
           "x": [
            41,
            41
           ],
           "y": [
            0,
            53.5
           ]
          },
          {
           "hoverinfo": "text",
           "hovertext": [
            "nflId:25511.0<br>displayName:Tom Brady<br>Position:QB<br>Role:Pass",
            "nflId:35481.0<br>displayName:Rob Gronkowski<br>Position:TE-R<br>Role:Pass Route",
            "nflId:35634.0<br>displayName:Antonio Brown<br>Position:RWR<br>Role:Pass Route",
            "nflId:40151.0<br>displayName:Ryan Jensen<br>Position:C<br>Role:Pass Block",
            "nflId:41233.0<br>displayName:Mike Evans<br>Position:LWR<br>Role:Pass Route",
            "nflId:42377.0<br>displayName:Donovan Smith<br>Position:LT<br>Role:Pass Block",
            "nflId:42404.0<br>displayName:Ali Marpet<br>Position:LG<br>Role:Pass Block",
            "nflId:44816.0<br>displayName:Leonard Fournette<br>Position:HB-R<br>Role:Pass Route",
            "nflId:44896.0<br>displayName:Chris Godwin<br>Position:SRWR<br>Role:Pass Route",
            "nflId:46163.0<br>displayName:Alex Cappa<br>Position:RG<br>Role:Pass Block",
            "nflId:52421.0<br>displayName:Tristan Wirfs<br>Position:RT<br>Role:Pass Block"
           ],
           "marker": {
            "color": "#D50A0A"
           },
           "mode": "markers",
           "name": "TB",
           "type": "scatter",
           "x": [
            23.73,
            42.25,
            44.11,
            23.79,
            39.18,
            22.92,
            26.59,
            30.39,
            38.69,
            28.38,
            22.75
           ],
           "y": [
            27.83,
            25.63,
            12.38,
            24.52,
            49.94,
            29.34,
            27.32,
            11.08,
            5.49,
            25.24,
            24.29
           ]
          },
          {
           "hoverinfo": "text",
           "hovertext": [
            "nflId:41263.0<br>displayName:Demarcus Lawrence<br>Position:LEO<br>Role:Pass Rush",
            "nflId:42403.0<br>displayName:Randy Gregory<br>Position:REO<br>Role:Pass Rush",
            "nflId:43306.0<br>displayName:Keanu Neal<br>Position:LLB<br>Role:Coverage",
            "nflId:43478.0<br>displayName:Anthony Brown<br>Position:LCB<br>Role:Coverage",
            "nflId:44904.0<br>displayName:Jourdan Lewis<br>Position:SCBL<br>Role:Coverage",
            "nflId:44955.0<br>displayName:Carlos Watkins<br>Position:DLT<br>Role:Pass Rush",
            "nflId:44962.0<br>displayName:Damontae Kazee<br>Position:SSL<br>Role:Coverage",
            "nflId:47996.0<br>displayName:Donovan Wilson<br>Position:FSR<br>Role:Coverage",
            "nflId:52459.0<br>displayName:Trevon Diggs<br>Position:RCB<br>Role:Coverage",
            "nflId:53441.0<br>displayName:Micah Parsons<br>Position:RILB<br>Role:Coverage",
            "nflId:53504.0<br>displayName:Osa Odighizuwa<br>Position:DRT<br>Role:Pass Rush"
           ],
           "marker": {
            "color": "#003594"
           },
           "mode": "markers",
           "name": "DAL",
           "type": "scatter",
           "x": [
            22.68,
            23.41,
            37.48,
            45.55,
            39.13,
            29.48,
            46.36,
            51.09,
            39.06,
            40.6,
            26.98
           ],
           "y": [
            22.89,
            29.4,
            19.88,
            12,
            6.89,
            25.23,
            23.55,
            38,
            48.94,
            25.73,
            26.65
           ]
          },
          {
           "hoverinfo": "none",
           "marker": {
            "color": "#CBB67C"
           },
           "mode": "markers",
           "name": "football",
           "type": "scatter",
           "x": [
            30.93
           ],
           "y": [
            27.72
           ]
          }
         ],
         "name": "34"
        },
        {
         "data": [
          {
           "hoverinfo": "none",
           "mode": "text",
           "showlegend": false,
           "text": [
            "10",
            "20",
            "30",
            "40",
            "50",
            "40",
            "30",
            "20",
            "10"
           ],
           "textfont": {
            "color": "#ffffff",
            "family": "Courier New, monospace",
            "size": 30
           },
           "type": "scatter",
           "x": [
            20,
            30,
            40,
            50,
            60,
            70,
            80,
            90,
            100
           ],
           "y": [
            5,
            5,
            5,
            5,
            5,
            5,
            5,
            5,
            5
           ]
          },
          {
           "hoverinfo": "none",
           "mode": "text",
           "showlegend": false,
           "text": [
            "10",
            "20",
            "30",
            "40",
            "50",
            "40",
            "30",
            "20",
            "10"
           ],
           "textfont": {
            "color": "#ffffff",
            "family": "Courier New, monospace",
            "size": 30
           },
           "type": "scatter",
           "x": [
            20,
            30,
            40,
            50,
            60,
            70,
            80,
            90,
            100
           ],
           "y": [
            48.5,
            48.5,
            48.5,
            48.5,
            48.5,
            48.5,
            48.5,
            48.5,
            48.5
           ]
          },
          {
           "hoverinfo": "none",
           "line": {
            "color": "blue",
            "dash": "dash"
           },
           "showlegend": false,
           "type": "scatter",
           "x": [
            31,
            31
           ],
           "y": [
            0,
            53.5
           ]
          },
          {
           "hoverinfo": "none",
           "line": {
            "color": "yellow",
            "dash": "dash"
           },
           "showlegend": false,
           "type": "scatter",
           "x": [
            41,
            41
           ],
           "y": [
            0,
            53.5
           ]
          },
          {
           "hoverinfo": "text",
           "hovertext": [
            "nflId:25511.0<br>displayName:Tom Brady<br>Position:QB<br>Role:Pass",
            "nflId:35481.0<br>displayName:Rob Gronkowski<br>Position:TE-R<br>Role:Pass Route",
            "nflId:35634.0<br>displayName:Antonio Brown<br>Position:RWR<br>Role:Pass Route",
            "nflId:40151.0<br>displayName:Ryan Jensen<br>Position:C<br>Role:Pass Block",
            "nflId:41233.0<br>displayName:Mike Evans<br>Position:LWR<br>Role:Pass Route",
            "nflId:42377.0<br>displayName:Donovan Smith<br>Position:LT<br>Role:Pass Block",
            "nflId:42404.0<br>displayName:Ali Marpet<br>Position:LG<br>Role:Pass Block",
            "nflId:44816.0<br>displayName:Leonard Fournette<br>Position:HB-R<br>Role:Pass Route",
            "nflId:44896.0<br>displayName:Chris Godwin<br>Position:SRWR<br>Role:Pass Route",
            "nflId:46163.0<br>displayName:Alex Cappa<br>Position:RG<br>Role:Pass Block",
            "nflId:52421.0<br>displayName:Tristan Wirfs<br>Position:RT<br>Role:Pass Block"
           ],
           "marker": {
            "color": "#D50A0A"
           },
           "mode": "markers",
           "name": "TB",
           "type": "scatter",
           "x": [
            23.74,
            42.93,
            44.7,
            23.5,
            39.34,
            22.96,
            26.56,
            30.58,
            39.44,
            28.56,
            22.66
           ],
           "y": [
            27.81,
            25.95,
            12.73,
            24.32,
            50.05,
            29.27,
            27.22,
            10.54,
            5.13,
            25.38,
            24.36
           ]
          },
          {
           "hoverinfo": "text",
           "hovertext": [
            "nflId:41263.0<br>displayName:Demarcus Lawrence<br>Position:LEO<br>Role:Pass Rush",
            "nflId:42403.0<br>displayName:Randy Gregory<br>Position:REO<br>Role:Pass Rush",
            "nflId:43306.0<br>displayName:Keanu Neal<br>Position:LLB<br>Role:Coverage",
            "nflId:43478.0<br>displayName:Anthony Brown<br>Position:LCB<br>Role:Coverage",
            "nflId:44904.0<br>displayName:Jourdan Lewis<br>Position:SCBL<br>Role:Coverage",
            "nflId:44955.0<br>displayName:Carlos Watkins<br>Position:DLT<br>Role:Pass Rush",
            "nflId:44962.0<br>displayName:Damontae Kazee<br>Position:SSL<br>Role:Coverage",
            "nflId:47996.0<br>displayName:Donovan Wilson<br>Position:FSR<br>Role:Coverage",
            "nflId:52459.0<br>displayName:Trevon Diggs<br>Position:RCB<br>Role:Coverage",
            "nflId:53441.0<br>displayName:Micah Parsons<br>Position:RILB<br>Role:Coverage",
            "nflId:53504.0<br>displayName:Osa Odighizuwa<br>Position:DRT<br>Role:Pass Rush"
           ],
           "marker": {
            "color": "#003594"
           },
           "mode": "markers",
           "name": "DAL",
           "type": "scatter",
           "x": [
            22.72,
            23.46,
            37.65,
            46.03,
            39.82,
            29.75,
            46.58,
            51.39,
            39.36,
            41.21,
            27
           ],
           "y": [
            22.82,
            29.27,
            19.89,
            12.26,
            6.47,
            25.35,
            24.04,
            37.96,
            49.12,
            26.04,
            26.53
           ]
          },
          {
           "hoverinfo": "none",
           "marker": {
            "color": "#CBB67C"
           },
           "mode": "markers",
           "name": "football",
           "type": "scatter",
           "x": [
            33.39
           ],
           "y": [
            27.87
           ]
          }
         ],
         "name": "35"
        },
        {
         "data": [
          {
           "hoverinfo": "none",
           "mode": "text",
           "showlegend": false,
           "text": [
            "10",
            "20",
            "30",
            "40",
            "50",
            "40",
            "30",
            "20",
            "10"
           ],
           "textfont": {
            "color": "#ffffff",
            "family": "Courier New, monospace",
            "size": 30
           },
           "type": "scatter",
           "x": [
            20,
            30,
            40,
            50,
            60,
            70,
            80,
            90,
            100
           ],
           "y": [
            5,
            5,
            5,
            5,
            5,
            5,
            5,
            5,
            5
           ]
          },
          {
           "hoverinfo": "none",
           "mode": "text",
           "showlegend": false,
           "text": [
            "10",
            "20",
            "30",
            "40",
            "50",
            "40",
            "30",
            "20",
            "10"
           ],
           "textfont": {
            "color": "#ffffff",
            "family": "Courier New, monospace",
            "size": 30
           },
           "type": "scatter",
           "x": [
            20,
            30,
            40,
            50,
            60,
            70,
            80,
            90,
            100
           ],
           "y": [
            48.5,
            48.5,
            48.5,
            48.5,
            48.5,
            48.5,
            48.5,
            48.5,
            48.5
           ]
          },
          {
           "hoverinfo": "none",
           "line": {
            "color": "blue",
            "dash": "dash"
           },
           "showlegend": false,
           "type": "scatter",
           "x": [
            31,
            31
           ],
           "y": [
            0,
            53.5
           ]
          },
          {
           "hoverinfo": "none",
           "line": {
            "color": "yellow",
            "dash": "dash"
           },
           "showlegend": false,
           "type": "scatter",
           "x": [
            41,
            41
           ],
           "y": [
            0,
            53.5
           ]
          },
          {
           "hoverinfo": "text",
           "hovertext": [
            "nflId:25511.0<br>displayName:Tom Brady<br>Position:QB<br>Role:Pass",
            "nflId:35481.0<br>displayName:Rob Gronkowski<br>Position:TE-R<br>Role:Pass Route",
            "nflId:35634.0<br>displayName:Antonio Brown<br>Position:RWR<br>Role:Pass Route",
            "nflId:40151.0<br>displayName:Ryan Jensen<br>Position:C<br>Role:Pass Block",
            "nflId:41233.0<br>displayName:Mike Evans<br>Position:LWR<br>Role:Pass Route",
            "nflId:42377.0<br>displayName:Donovan Smith<br>Position:LT<br>Role:Pass Block",
            "nflId:42404.0<br>displayName:Ali Marpet<br>Position:LG<br>Role:Pass Block",
            "nflId:44816.0<br>displayName:Leonard Fournette<br>Position:HB-R<br>Role:Pass Route",
            "nflId:44896.0<br>displayName:Chris Godwin<br>Position:SRWR<br>Role:Pass Route",
            "nflId:46163.0<br>displayName:Alex Cappa<br>Position:RG<br>Role:Pass Block",
            "nflId:52421.0<br>displayName:Tristan Wirfs<br>Position:RT<br>Role:Pass Block"
           ],
           "marker": {
            "color": "#D50A0A"
           },
           "mode": "markers",
           "name": "TB",
           "type": "scatter",
           "x": [
            23.73,
            43.61,
            45.24,
            23.2,
            39.44,
            23.02,
            26.55,
            30.77,
            40.18,
            28.74,
            22.61
           ],
           "y": [
            27.77,
            26.29,
            13.13,
            24.1,
            50.15,
            29.22,
            27.1,
            10.03,
            4.8,
            25.53,
            24.41
           ]
          },
          {
           "hoverinfo": "text",
           "hovertext": [
            "nflId:41263.0<br>displayName:Demarcus Lawrence<br>Position:LEO<br>Role:Pass Rush",
            "nflId:42403.0<br>displayName:Randy Gregory<br>Position:REO<br>Role:Pass Rush",
            "nflId:43306.0<br>displayName:Keanu Neal<br>Position:LLB<br>Role:Coverage",
            "nflId:43478.0<br>displayName:Anthony Brown<br>Position:LCB<br>Role:Coverage",
            "nflId:44904.0<br>displayName:Jourdan Lewis<br>Position:SCBL<br>Role:Coverage",
            "nflId:44955.0<br>displayName:Carlos Watkins<br>Position:DLT<br>Role:Pass Rush",
            "nflId:44962.0<br>displayName:Damontae Kazee<br>Position:SSL<br>Role:Coverage",
            "nflId:47996.0<br>displayName:Donovan Wilson<br>Position:FSR<br>Role:Coverage",
            "nflId:52459.0<br>displayName:Trevon Diggs<br>Position:RCB<br>Role:Coverage",
            "nflId:53441.0<br>displayName:Micah Parsons<br>Position:RILB<br>Role:Coverage",
            "nflId:53504.0<br>displayName:Osa Odighizuwa<br>Position:DRT<br>Role:Pass Rush"
           ],
           "marker": {
            "color": "#003594"
           },
           "mode": "markers",
           "name": "DAL",
           "type": "scatter",
           "x": [
            22.87,
            23.53,
            37.83,
            46.48,
            40.53,
            30.05,
            46.79,
            51.67,
            39.59,
            41.83,
            27.07
           ],
           "y": [
            22.71,
            29.16,
            19.96,
            12.58,
            6.05,
            25.47,
            24.57,
            37.84,
            49.29,
            26.37,
            26.41
           ]
          },
          {
           "hoverinfo": "none",
           "marker": {
            "color": "#CBB67C"
           },
           "mode": "markers",
           "name": "football",
           "type": "scatter",
           "x": [
            35.82
           ],
           "y": [
            28.03
           ]
          }
         ],
         "name": "36"
        }
       ],
       "layout": {
        "annotations": [
         {
          "align": "center",
          "bgcolor": "#ff7f0e",
          "bordercolor": "black",
          "borderpad": 4,
          "borderwidth": 2,
          "font": {
           "color": "black",
           "family": "Courier New, monospace",
           "size": 16
          },
          "opacity": 1,
          "showarrow": false,
          "text": "2",
          "x": 41,
          "y": 0
         },
         {
          "align": "center",
          "bgcolor": "#ff7f0e",
          "bordercolor": "black",
          "borderpad": 4,
          "borderwidth": 2,
          "font": {
           "color": "black",
           "family": "Courier New, monospace",
           "size": 16
          },
          "opacity": 1,
          "showarrow": false,
          "text": "2",
          "x": 41,
          "y": 53
         }
        ],
        "autosize": false,
        "height": 600,
        "plot_bgcolor": "#00B140",
        "sliders": [
         {
          "active": 0,
          "currentvalue": {
           "font": {
            "size": 20
           },
           "prefix": "Frame:",
           "visible": true,
           "xanchor": "right"
          },
          "len": 0.9,
          "pad": {
           "b": 10,
           "t": 50
          },
          "steps": [
           {
            "args": [
             [
              1
             ],
             {
              "frame": {
               "duration": 100,
               "redraw": false
              },
              "mode": "immediate",
              "transition": {
               "duration": 0
              }
             }
            ],
            "label": "1",
            "method": "animate"
           },
           {
            "args": [
             [
              2
             ],
             {
              "frame": {
               "duration": 100,
               "redraw": false
              },
              "mode": "immediate",
              "transition": {
               "duration": 0
              }
             }
            ],
            "label": "2",
            "method": "animate"
           },
           {
            "args": [
             [
              3
             ],
             {
              "frame": {
               "duration": 100,
               "redraw": false
              },
              "mode": "immediate",
              "transition": {
               "duration": 0
              }
             }
            ],
            "label": "3",
            "method": "animate"
           },
           {
            "args": [
             [
              4
             ],
             {
              "frame": {
               "duration": 100,
               "redraw": false
              },
              "mode": "immediate",
              "transition": {
               "duration": 0
              }
             }
            ],
            "label": "4",
            "method": "animate"
           },
           {
            "args": [
             [
              5
             ],
             {
              "frame": {
               "duration": 100,
               "redraw": false
              },
              "mode": "immediate",
              "transition": {
               "duration": 0
              }
             }
            ],
            "label": "5",
            "method": "animate"
           },
           {
            "args": [
             [
              6
             ],
             {
              "frame": {
               "duration": 100,
               "redraw": false
              },
              "mode": "immediate",
              "transition": {
               "duration": 0
              }
             }
            ],
            "label": "6",
            "method": "animate"
           },
           {
            "args": [
             [
              7
             ],
             {
              "frame": {
               "duration": 100,
               "redraw": false
              },
              "mode": "immediate",
              "transition": {
               "duration": 0
              }
             }
            ],
            "label": "7",
            "method": "animate"
           },
           {
            "args": [
             [
              8
             ],
             {
              "frame": {
               "duration": 100,
               "redraw": false
              },
              "mode": "immediate",
              "transition": {
               "duration": 0
              }
             }
            ],
            "label": "8",
            "method": "animate"
           },
           {
            "args": [
             [
              9
             ],
             {
              "frame": {
               "duration": 100,
               "redraw": false
              },
              "mode": "immediate",
              "transition": {
               "duration": 0
              }
             }
            ],
            "label": "9",
            "method": "animate"
           },
           {
            "args": [
             [
              10
             ],
             {
              "frame": {
               "duration": 100,
               "redraw": false
              },
              "mode": "immediate",
              "transition": {
               "duration": 0
              }
             }
            ],
            "label": "10",
            "method": "animate"
           },
           {
            "args": [
             [
              11
             ],
             {
              "frame": {
               "duration": 100,
               "redraw": false
              },
              "mode": "immediate",
              "transition": {
               "duration": 0
              }
             }
            ],
            "label": "11",
            "method": "animate"
           },
           {
            "args": [
             [
              12
             ],
             {
              "frame": {
               "duration": 100,
               "redraw": false
              },
              "mode": "immediate",
              "transition": {
               "duration": 0
              }
             }
            ],
            "label": "12",
            "method": "animate"
           },
           {
            "args": [
             [
              13
             ],
             {
              "frame": {
               "duration": 100,
               "redraw": false
              },
              "mode": "immediate",
              "transition": {
               "duration": 0
              }
             }
            ],
            "label": "13",
            "method": "animate"
           },
           {
            "args": [
             [
              14
             ],
             {
              "frame": {
               "duration": 100,
               "redraw": false
              },
              "mode": "immediate",
              "transition": {
               "duration": 0
              }
             }
            ],
            "label": "14",
            "method": "animate"
           },
           {
            "args": [
             [
              15
             ],
             {
              "frame": {
               "duration": 100,
               "redraw": false
              },
              "mode": "immediate",
              "transition": {
               "duration": 0
              }
             }
            ],
            "label": "15",
            "method": "animate"
           },
           {
            "args": [
             [
              16
             ],
             {
              "frame": {
               "duration": 100,
               "redraw": false
              },
              "mode": "immediate",
              "transition": {
               "duration": 0
              }
             }
            ],
            "label": "16",
            "method": "animate"
           },
           {
            "args": [
             [
              17
             ],
             {
              "frame": {
               "duration": 100,
               "redraw": false
              },
              "mode": "immediate",
              "transition": {
               "duration": 0
              }
             }
            ],
            "label": "17",
            "method": "animate"
           },
           {
            "args": [
             [
              18
             ],
             {
              "frame": {
               "duration": 100,
               "redraw": false
              },
              "mode": "immediate",
              "transition": {
               "duration": 0
              }
             }
            ],
            "label": "18",
            "method": "animate"
           },
           {
            "args": [
             [
              19
             ],
             {
              "frame": {
               "duration": 100,
               "redraw": false
              },
              "mode": "immediate",
              "transition": {
               "duration": 0
              }
             }
            ],
            "label": "19",
            "method": "animate"
           },
           {
            "args": [
             [
              20
             ],
             {
              "frame": {
               "duration": 100,
               "redraw": false
              },
              "mode": "immediate",
              "transition": {
               "duration": 0
              }
             }
            ],
            "label": "20",
            "method": "animate"
           },
           {
            "args": [
             [
              21
             ],
             {
              "frame": {
               "duration": 100,
               "redraw": false
              },
              "mode": "immediate",
              "transition": {
               "duration": 0
              }
             }
            ],
            "label": "21",
            "method": "animate"
           },
           {
            "args": [
             [
              22
             ],
             {
              "frame": {
               "duration": 100,
               "redraw": false
              },
              "mode": "immediate",
              "transition": {
               "duration": 0
              }
             }
            ],
            "label": "22",
            "method": "animate"
           },
           {
            "args": [
             [
              23
             ],
             {
              "frame": {
               "duration": 100,
               "redraw": false
              },
              "mode": "immediate",
              "transition": {
               "duration": 0
              }
             }
            ],
            "label": "23",
            "method": "animate"
           },
           {
            "args": [
             [
              24
             ],
             {
              "frame": {
               "duration": 100,
               "redraw": false
              },
              "mode": "immediate",
              "transition": {
               "duration": 0
              }
             }
            ],
            "label": "24",
            "method": "animate"
           },
           {
            "args": [
             [
              25
             ],
             {
              "frame": {
               "duration": 100,
               "redraw": false
              },
              "mode": "immediate",
              "transition": {
               "duration": 0
              }
             }
            ],
            "label": "25",
            "method": "animate"
           },
           {
            "args": [
             [
              26
             ],
             {
              "frame": {
               "duration": 100,
               "redraw": false
              },
              "mode": "immediate",
              "transition": {
               "duration": 0
              }
             }
            ],
            "label": "26",
            "method": "animate"
           },
           {
            "args": [
             [
              27
             ],
             {
              "frame": {
               "duration": 100,
               "redraw": false
              },
              "mode": "immediate",
              "transition": {
               "duration": 0
              }
             }
            ],
            "label": "27",
            "method": "animate"
           },
           {
            "args": [
             [
              28
             ],
             {
              "frame": {
               "duration": 100,
               "redraw": false
              },
              "mode": "immediate",
              "transition": {
               "duration": 0
              }
             }
            ],
            "label": "28",
            "method": "animate"
           },
           {
            "args": [
             [
              29
             ],
             {
              "frame": {
               "duration": 100,
               "redraw": false
              },
              "mode": "immediate",
              "transition": {
               "duration": 0
              }
             }
            ],
            "label": "29",
            "method": "animate"
           },
           {
            "args": [
             [
              30
             ],
             {
              "frame": {
               "duration": 100,
               "redraw": false
              },
              "mode": "immediate",
              "transition": {
               "duration": 0
              }
             }
            ],
            "label": "30",
            "method": "animate"
           },
           {
            "args": [
             [
              31
             ],
             {
              "frame": {
               "duration": 100,
               "redraw": false
              },
              "mode": "immediate",
              "transition": {
               "duration": 0
              }
             }
            ],
            "label": "31",
            "method": "animate"
           },
           {
            "args": [
             [
              32
             ],
             {
              "frame": {
               "duration": 100,
               "redraw": false
              },
              "mode": "immediate",
              "transition": {
               "duration": 0
              }
             }
            ],
            "label": "32",
            "method": "animate"
           },
           {
            "args": [
             [
              33
             ],
             {
              "frame": {
               "duration": 100,
               "redraw": false
              },
              "mode": "immediate",
              "transition": {
               "duration": 0
              }
             }
            ],
            "label": "33",
            "method": "animate"
           },
           {
            "args": [
             [
              34
             ],
             {
              "frame": {
               "duration": 100,
               "redraw": false
              },
              "mode": "immediate",
              "transition": {
               "duration": 0
              }
             }
            ],
            "label": "34",
            "method": "animate"
           },
           {
            "args": [
             [
              35
             ],
             {
              "frame": {
               "duration": 100,
               "redraw": false
              },
              "mode": "immediate",
              "transition": {
               "duration": 0
              }
             }
            ],
            "label": "35",
            "method": "animate"
           },
           {
            "args": [
             [
              36
             ],
             {
              "frame": {
               "duration": 100,
               "redraw": false
              },
              "mode": "immediate",
              "transition": {
               "duration": 0
              }
             }
            ],
            "label": "36",
            "method": "animate"
           }
          ],
          "transition": {
           "duration": 300,
           "easing": "cubic-in-out"
          },
          "x": 0.1,
          "xanchor": "left",
          "y": 0,
          "yanchor": "top"
         }
        ],
        "template": {
         "data": {
          "bar": [
           {
            "error_x": {
             "color": "#2a3f5f"
            },
            "error_y": {
             "color": "#2a3f5f"
            },
            "marker": {
             "line": {
              "color": "#E5ECF6",
              "width": 0.5
             },
             "pattern": {
              "fillmode": "overlay",
              "size": 10,
              "solidity": 0.2
             }
            },
            "type": "bar"
           }
          ],
          "barpolar": [
           {
            "marker": {
             "line": {
              "color": "#E5ECF6",
              "width": 0.5
             },
             "pattern": {
              "fillmode": "overlay",
              "size": 10,
              "solidity": 0.2
             }
            },
            "type": "barpolar"
           }
          ],
          "carpet": [
           {
            "aaxis": {
             "endlinecolor": "#2a3f5f",
             "gridcolor": "white",
             "linecolor": "white",
             "minorgridcolor": "white",
             "startlinecolor": "#2a3f5f"
            },
            "baxis": {
             "endlinecolor": "#2a3f5f",
             "gridcolor": "white",
             "linecolor": "white",
             "minorgridcolor": "white",
             "startlinecolor": "#2a3f5f"
            },
            "type": "carpet"
           }
          ],
          "choropleth": [
           {
            "colorbar": {
             "outlinewidth": 0,
             "ticks": ""
            },
            "type": "choropleth"
           }
          ],
          "contour": [
           {
            "colorbar": {
             "outlinewidth": 0,
             "ticks": ""
            },
            "colorscale": [
             [
              0,
              "#0d0887"
             ],
             [
              0.1111111111111111,
              "#46039f"
             ],
             [
              0.2222222222222222,
              "#7201a8"
             ],
             [
              0.3333333333333333,
              "#9c179e"
             ],
             [
              0.4444444444444444,
              "#bd3786"
             ],
             [
              0.5555555555555556,
              "#d8576b"
             ],
             [
              0.6666666666666666,
              "#ed7953"
             ],
             [
              0.7777777777777778,
              "#fb9f3a"
             ],
             [
              0.8888888888888888,
              "#fdca26"
             ],
             [
              1,
              "#f0f921"
             ]
            ],
            "type": "contour"
           }
          ],
          "contourcarpet": [
           {
            "colorbar": {
             "outlinewidth": 0,
             "ticks": ""
            },
            "type": "contourcarpet"
           }
          ],
          "heatmap": [
           {
            "colorbar": {
             "outlinewidth": 0,
             "ticks": ""
            },
            "colorscale": [
             [
              0,
              "#0d0887"
             ],
             [
              0.1111111111111111,
              "#46039f"
             ],
             [
              0.2222222222222222,
              "#7201a8"
             ],
             [
              0.3333333333333333,
              "#9c179e"
             ],
             [
              0.4444444444444444,
              "#bd3786"
             ],
             [
              0.5555555555555556,
              "#d8576b"
             ],
             [
              0.6666666666666666,
              "#ed7953"
             ],
             [
              0.7777777777777778,
              "#fb9f3a"
             ],
             [
              0.8888888888888888,
              "#fdca26"
             ],
             [
              1,
              "#f0f921"
             ]
            ],
            "type": "heatmap"
           }
          ],
          "heatmapgl": [
           {
            "colorbar": {
             "outlinewidth": 0,
             "ticks": ""
            },
            "colorscale": [
             [
              0,
              "#0d0887"
             ],
             [
              0.1111111111111111,
              "#46039f"
             ],
             [
              0.2222222222222222,
              "#7201a8"
             ],
             [
              0.3333333333333333,
              "#9c179e"
             ],
             [
              0.4444444444444444,
              "#bd3786"
             ],
             [
              0.5555555555555556,
              "#d8576b"
             ],
             [
              0.6666666666666666,
              "#ed7953"
             ],
             [
              0.7777777777777778,
              "#fb9f3a"
             ],
             [
              0.8888888888888888,
              "#fdca26"
             ],
             [
              1,
              "#f0f921"
             ]
            ],
            "type": "heatmapgl"
           }
          ],
          "histogram": [
           {
            "marker": {
             "pattern": {
              "fillmode": "overlay",
              "size": 10,
              "solidity": 0.2
             }
            },
            "type": "histogram"
           }
          ],
          "histogram2d": [
           {
            "colorbar": {
             "outlinewidth": 0,
             "ticks": ""
            },
            "colorscale": [
             [
              0,
              "#0d0887"
             ],
             [
              0.1111111111111111,
              "#46039f"
             ],
             [
              0.2222222222222222,
              "#7201a8"
             ],
             [
              0.3333333333333333,
              "#9c179e"
             ],
             [
              0.4444444444444444,
              "#bd3786"
             ],
             [
              0.5555555555555556,
              "#d8576b"
             ],
             [
              0.6666666666666666,
              "#ed7953"
             ],
             [
              0.7777777777777778,
              "#fb9f3a"
             ],
             [
              0.8888888888888888,
              "#fdca26"
             ],
             [
              1,
              "#f0f921"
             ]
            ],
            "type": "histogram2d"
           }
          ],
          "histogram2dcontour": [
           {
            "colorbar": {
             "outlinewidth": 0,
             "ticks": ""
            },
            "colorscale": [
             [
              0,
              "#0d0887"
             ],
             [
              0.1111111111111111,
              "#46039f"
             ],
             [
              0.2222222222222222,
              "#7201a8"
             ],
             [
              0.3333333333333333,
              "#9c179e"
             ],
             [
              0.4444444444444444,
              "#bd3786"
             ],
             [
              0.5555555555555556,
              "#d8576b"
             ],
             [
              0.6666666666666666,
              "#ed7953"
             ],
             [
              0.7777777777777778,
              "#fb9f3a"
             ],
             [
              0.8888888888888888,
              "#fdca26"
             ],
             [
              1,
              "#f0f921"
             ]
            ],
            "type": "histogram2dcontour"
           }
          ],
          "mesh3d": [
           {
            "colorbar": {
             "outlinewidth": 0,
             "ticks": ""
            },
            "type": "mesh3d"
           }
          ],
          "parcoords": [
           {
            "line": {
             "colorbar": {
              "outlinewidth": 0,
              "ticks": ""
             }
            },
            "type": "parcoords"
           }
          ],
          "pie": [
           {
            "automargin": true,
            "type": "pie"
           }
          ],
          "scatter": [
           {
            "fillpattern": {
             "fillmode": "overlay",
             "size": 10,
             "solidity": 0.2
            },
            "type": "scatter"
           }
          ],
          "scatter3d": [
           {
            "line": {
             "colorbar": {
              "outlinewidth": 0,
              "ticks": ""
             }
            },
            "marker": {
             "colorbar": {
              "outlinewidth": 0,
              "ticks": ""
             }
            },
            "type": "scatter3d"
           }
          ],
          "scattercarpet": [
           {
            "marker": {
             "colorbar": {
              "outlinewidth": 0,
              "ticks": ""
             }
            },
            "type": "scattercarpet"
           }
          ],
          "scattergeo": [
           {
            "marker": {
             "colorbar": {
              "outlinewidth": 0,
              "ticks": ""
             }
            },
            "type": "scattergeo"
           }
          ],
          "scattergl": [
           {
            "marker": {
             "colorbar": {
              "outlinewidth": 0,
              "ticks": ""
             }
            },
            "type": "scattergl"
           }
          ],
          "scattermapbox": [
           {
            "marker": {
             "colorbar": {
              "outlinewidth": 0,
              "ticks": ""
             }
            },
            "type": "scattermapbox"
           }
          ],
          "scatterpolar": [
           {
            "marker": {
             "colorbar": {
              "outlinewidth": 0,
              "ticks": ""
             }
            },
            "type": "scatterpolar"
           }
          ],
          "scatterpolargl": [
           {
            "marker": {
             "colorbar": {
              "outlinewidth": 0,
              "ticks": ""
             }
            },
            "type": "scatterpolargl"
           }
          ],
          "scatterternary": [
           {
            "marker": {
             "colorbar": {
              "outlinewidth": 0,
              "ticks": ""
             }
            },
            "type": "scatterternary"
           }
          ],
          "surface": [
           {
            "colorbar": {
             "outlinewidth": 0,
             "ticks": ""
            },
            "colorscale": [
             [
              0,
              "#0d0887"
             ],
             [
              0.1111111111111111,
              "#46039f"
             ],
             [
              0.2222222222222222,
              "#7201a8"
             ],
             [
              0.3333333333333333,
              "#9c179e"
             ],
             [
              0.4444444444444444,
              "#bd3786"
             ],
             [
              0.5555555555555556,
              "#d8576b"
             ],
             [
              0.6666666666666666,
              "#ed7953"
             ],
             [
              0.7777777777777778,
              "#fb9f3a"
             ],
             [
              0.8888888888888888,
              "#fdca26"
             ],
             [
              1,
              "#f0f921"
             ]
            ],
            "type": "surface"
           }
          ],
          "table": [
           {
            "cells": {
             "fill": {
              "color": "#EBF0F8"
             },
             "line": {
              "color": "white"
             }
            },
            "header": {
             "fill": {
              "color": "#C8D4E3"
             },
             "line": {
              "color": "white"
             }
            },
            "type": "table"
           }
          ]
         },
         "layout": {
          "annotationdefaults": {
           "arrowcolor": "#2a3f5f",
           "arrowhead": 0,
           "arrowwidth": 1
          },
          "autotypenumbers": "strict",
          "coloraxis": {
           "colorbar": {
            "outlinewidth": 0,
            "ticks": ""
           }
          },
          "colorscale": {
           "diverging": [
            [
             0,
             "#8e0152"
            ],
            [
             0.1,
             "#c51b7d"
            ],
            [
             0.2,
             "#de77ae"
            ],
            [
             0.3,
             "#f1b6da"
            ],
            [
             0.4,
             "#fde0ef"
            ],
            [
             0.5,
             "#f7f7f7"
            ],
            [
             0.6,
             "#e6f5d0"
            ],
            [
             0.7,
             "#b8e186"
            ],
            [
             0.8,
             "#7fbc41"
            ],
            [
             0.9,
             "#4d9221"
            ],
            [
             1,
             "#276419"
            ]
           ],
           "sequential": [
            [
             0,
             "#0d0887"
            ],
            [
             0.1111111111111111,
             "#46039f"
            ],
            [
             0.2222222222222222,
             "#7201a8"
            ],
            [
             0.3333333333333333,
             "#9c179e"
            ],
            [
             0.4444444444444444,
             "#bd3786"
            ],
            [
             0.5555555555555556,
             "#d8576b"
            ],
            [
             0.6666666666666666,
             "#ed7953"
            ],
            [
             0.7777777777777778,
             "#fb9f3a"
            ],
            [
             0.8888888888888888,
             "#fdca26"
            ],
            [
             1,
             "#f0f921"
            ]
           ],
           "sequentialminus": [
            [
             0,
             "#0d0887"
            ],
            [
             0.1111111111111111,
             "#46039f"
            ],
            [
             0.2222222222222222,
             "#7201a8"
            ],
            [
             0.3333333333333333,
             "#9c179e"
            ],
            [
             0.4444444444444444,
             "#bd3786"
            ],
            [
             0.5555555555555556,
             "#d8576b"
            ],
            [
             0.6666666666666666,
             "#ed7953"
            ],
            [
             0.7777777777777778,
             "#fb9f3a"
            ],
            [
             0.8888888888888888,
             "#fdca26"
            ],
            [
             1,
             "#f0f921"
            ]
           ]
          },
          "colorway": [
           "#636efa",
           "#EF553B",
           "#00cc96",
           "#ab63fa",
           "#FFA15A",
           "#19d3f3",
           "#FF6692",
           "#B6E880",
           "#FF97FF",
           "#FECB52"
          ],
          "font": {
           "color": "#2a3f5f"
          },
          "geo": {
           "bgcolor": "white",
           "lakecolor": "white",
           "landcolor": "#E5ECF6",
           "showlakes": true,
           "showland": true,
           "subunitcolor": "white"
          },
          "hoverlabel": {
           "align": "left"
          },
          "hovermode": "closest",
          "mapbox": {
           "style": "light"
          },
          "paper_bgcolor": "white",
          "plot_bgcolor": "#E5ECF6",
          "polar": {
           "angularaxis": {
            "gridcolor": "white",
            "linecolor": "white",
            "ticks": ""
           },
           "bgcolor": "#E5ECF6",
           "radialaxis": {
            "gridcolor": "white",
            "linecolor": "white",
            "ticks": ""
           }
          },
          "scene": {
           "xaxis": {
            "backgroundcolor": "#E5ECF6",
            "gridcolor": "white",
            "gridwidth": 2,
            "linecolor": "white",
            "showbackground": true,
            "ticks": "",
            "zerolinecolor": "white"
           },
           "yaxis": {
            "backgroundcolor": "#E5ECF6",
            "gridcolor": "white",
            "gridwidth": 2,
            "linecolor": "white",
            "showbackground": true,
            "ticks": "",
            "zerolinecolor": "white"
           },
           "zaxis": {
            "backgroundcolor": "#E5ECF6",
            "gridcolor": "white",
            "gridwidth": 2,
            "linecolor": "white",
            "showbackground": true,
            "ticks": "",
            "zerolinecolor": "white"
           }
          },
          "shapedefaults": {
           "line": {
            "color": "#2a3f5f"
           }
          },
          "ternary": {
           "aaxis": {
            "gridcolor": "white",
            "linecolor": "white",
            "ticks": ""
           },
           "baxis": {
            "gridcolor": "white",
            "linecolor": "white",
            "ticks": ""
           },
           "bgcolor": "#E5ECF6",
           "caxis": {
            "gridcolor": "white",
            "linecolor": "white",
            "ticks": ""
           }
          },
          "title": {
           "x": 0.05
          },
          "xaxis": {
           "automargin": true,
           "gridcolor": "white",
           "linecolor": "white",
           "ticks": "",
           "title": {
            "standoff": 15
           },
           "zerolinecolor": "white",
           "zerolinewidth": 2
          },
          "yaxis": {
           "automargin": true,
           "gridcolor": "white",
           "linecolor": "white",
           "ticks": "",
           "title": {
            "standoff": 15
           },
           "zerolinecolor": "white",
           "zerolinewidth": 2
          }
         }
        },
        "title": {
         "text": "GameId: 2021090900, PlayId: 456<br>08:20 1Q<br><br><br><br><br><br><br><br><br><br><br><br><br><br><br><br><br><br><br>(8:20) (Shotgun) T.Brady pass deep middle to R.Gronkowski to TB 40 for 19 yards (D.Kazee)."
        },
        "updatemenus": [
         {
          "buttons": [
           {
            "args": [
             null,
             {
              "frame": {
               "duration": 100,
               "redraw": false
              },
              "fromcurrent": true,
              "transition": {
               "duration": 0
              }
             }
            ],
            "label": "Play",
            "method": "animate"
           },
           {
            "args": [
             [
              null
             ],
             {
              "frame": {
               "duration": 0,
               "redraw": false
              },
              "mode": "immediate",
              "transition": {
               "duration": 0
              }
             }
            ],
            "label": "Pause",
            "method": "animate"
           }
          ],
          "direction": "left",
          "pad": {
           "r": 10,
           "t": 87
          },
          "showactive": false,
          "type": "buttons",
          "x": 0.1,
          "xanchor": "right",
          "y": 0,
          "yanchor": "top"
         }
        ],
        "width": 1200,
        "xaxis": {
         "autorange": false,
         "range": [
          0,
          120
         ],
         "showticklabels": false,
         "tickmode": "array",
         "tickvals": [
          10,
          15,
          20,
          25,
          30,
          35,
          40,
          45,
          50,
          55,
          60,
          65,
          70,
          75,
          80,
          85,
          90,
          95,
          100,
          105,
          110
         ]
        },
        "yaxis": {
         "autorange": false,
         "range": [
          0,
          53.3
         ],
         "showgrid": false,
         "showticklabels": false
        }
       }
      }
     },
     "metadata": {},
     "output_type": "display_data"
    }
   ],
   "source": [
    "#Choose A Game and Play\n",
    "gameId = 2021090900\n",
    "playId = 456\n",
    "\n",
    "#Run Animate Plays Function\n",
    "animate_play(week1, plays, players, pffScout, gameId, playId)"
   ]
  },
  {
   "cell_type": "code",
   "execution_count": 14,
   "metadata": {},
   "outputs": [
    {
     "data": {
      "text/html": [
       "<div>\n",
       "<style scoped>\n",
       "    .dataframe tbody tr th:only-of-type {\n",
       "        vertical-align: middle;\n",
       "    }\n",
       "\n",
       "    .dataframe tbody tr th {\n",
       "        vertical-align: top;\n",
       "    }\n",
       "\n",
       "    .dataframe thead th {\n",
       "        text-align: right;\n",
       "    }\n",
       "</style>\n",
       "<table border=\"1\" class=\"dataframe\">\n",
       "  <thead>\n",
       "    <tr style=\"text-align: right;\">\n",
       "      <th></th>\n",
       "      <th>Unnamed: 0</th>\n",
       "      <th>gameId</th>\n",
       "      <th>playId</th>\n",
       "      <th>nflId</th>\n",
       "      <th>pff_role</th>\n",
       "      <th>pff_positionLinedUp</th>\n",
       "      <th>pff_hit</th>\n",
       "      <th>pff_hurry</th>\n",
       "      <th>pff_sack</th>\n",
       "      <th>pff_beatenByDefender</th>\n",
       "      <th>pff_hitAllowed</th>\n",
       "      <th>pff_hurryAllowed</th>\n",
       "      <th>pff_sackAllowed</th>\n",
       "      <th>pff_nflIdBlockedPlayer</th>\n",
       "      <th>pff_blockType</th>\n",
       "      <th>pff_backFieldBlock</th>\n",
       "      <th>frameId</th>\n",
       "      <th>time</th>\n",
       "      <th>jerseyNumber</th>\n",
       "      <th>team</th>\n",
       "      <th>playDirection</th>\n",
       "      <th>x</th>\n",
       "      <th>y</th>\n",
       "      <th>s</th>\n",
       "      <th>a</th>\n",
       "      <th>dis</th>\n",
       "      <th>o</th>\n",
       "      <th>dir</th>\n",
       "      <th>event</th>\n",
       "      <th>height</th>\n",
       "      <th>weight</th>\n",
       "      <th>birthDate</th>\n",
       "      <th>collegeName</th>\n",
       "      <th>officialPosition</th>\n",
       "      <th>displayName</th>\n",
       "      <th>x_qb</th>\n",
       "      <th>y_qb</th>\n",
       "      <th>s_qb</th>\n",
       "      <th>a_qb</th>\n",
       "      <th>dis_qb</th>\n",
       "      <th>o_qb</th>\n",
       "      <th>dir_qb</th>\n",
       "      <th>dist_from_qb</th>\n",
       "      <th>angle_to_qb</th>\n",
       "      <th>angle_to_qb_diff_o</th>\n",
       "      <th>nflId_blocker</th>\n",
       "      <th>rusher_in_imm_box</th>\n",
       "    </tr>\n",
       "  </thead>\n",
       "  <tbody>\n",
       "    <tr>\n",
       "      <th>2162</th>\n",
       "      <td>2162</td>\n",
       "      <td>2021090900</td>\n",
       "      <td>456</td>\n",
       "      <td>42377</td>\n",
       "      <td>Pass Block</td>\n",
       "      <td>LT</td>\n",
       "      <td>0.0</td>\n",
       "      <td>0.0</td>\n",
       "      <td>0.0</td>\n",
       "      <td>0.0</td>\n",
       "      <td>0.0</td>\n",
       "      <td>0.0</td>\n",
       "      <td>0.0</td>\n",
       "      <td>42403.0</td>\n",
       "      <td>PP</td>\n",
       "      <td>0.0</td>\n",
       "      <td>1</td>\n",
       "      <td>2021-09-10T00:39:33.700</td>\n",
       "      <td>76.0</td>\n",
       "      <td>TB</td>\n",
       "      <td>right</td>\n",
       "      <td>29.25</td>\n",
       "      <td>30.28</td>\n",
       "      <td>0.00</td>\n",
       "      <td>0.00</td>\n",
       "      <td>0.00</td>\n",
       "      <td>95.67</td>\n",
       "      <td>287.72</td>\n",
       "      <td>None</td>\n",
       "      <td>6-6</td>\n",
       "      <td>338</td>\n",
       "      <td>1993-06-23</td>\n",
       "      <td>Penn State</td>\n",
       "      <td>T</td>\n",
       "      <td>Donovan Smith</td>\n",
       "      <td>25.92</td>\n",
       "      <td>27.34</td>\n",
       "      <td>0.0</td>\n",
       "      <td>0.0</td>\n",
       "      <td>0.0</td>\n",
       "      <td>120.91</td>\n",
       "      <td>73.87</td>\n",
       "      <td>4.442128</td>\n",
       "      <td>52.064220</td>\n",
       "      <td>NaN</td>\n",
       "      <td>42377.0</td>\n",
       "      <td>False</td>\n",
       "    </tr>\n",
       "    <tr>\n",
       "      <th>2184</th>\n",
       "      <td>2184</td>\n",
       "      <td>2021090900</td>\n",
       "      <td>456</td>\n",
       "      <td>42377</td>\n",
       "      <td>Pass Block</td>\n",
       "      <td>LT</td>\n",
       "      <td>0.0</td>\n",
       "      <td>0.0</td>\n",
       "      <td>0.0</td>\n",
       "      <td>0.0</td>\n",
       "      <td>0.0</td>\n",
       "      <td>0.0</td>\n",
       "      <td>0.0</td>\n",
       "      <td>42403.0</td>\n",
       "      <td>PP</td>\n",
       "      <td>0.0</td>\n",
       "      <td>2</td>\n",
       "      <td>2021-09-10T00:39:33.800</td>\n",
       "      <td>76.0</td>\n",
       "      <td>TB</td>\n",
       "      <td>right</td>\n",
       "      <td>29.25</td>\n",
       "      <td>30.27</td>\n",
       "      <td>0.00</td>\n",
       "      <td>0.00</td>\n",
       "      <td>0.00</td>\n",
       "      <td>95.67</td>\n",
       "      <td>271.26</td>\n",
       "      <td>None</td>\n",
       "      <td>6-6</td>\n",
       "      <td>338</td>\n",
       "      <td>1993-06-23</td>\n",
       "      <td>Penn State</td>\n",
       "      <td>T</td>\n",
       "      <td>Donovan Smith</td>\n",
       "      <td>25.93</td>\n",
       "      <td>27.34</td>\n",
       "      <td>0.0</td>\n",
       "      <td>0.0</td>\n",
       "      <td>0.0</td>\n",
       "      <td>123.74</td>\n",
       "      <td>76.76</td>\n",
       "      <td>4.428013</td>\n",
       "      <td>52.086423</td>\n",
       "      <td>NaN</td>\n",
       "      <td>42377.0</td>\n",
       "      <td>False</td>\n",
       "    </tr>\n",
       "    <tr>\n",
       "      <th>2206</th>\n",
       "      <td>2206</td>\n",
       "      <td>2021090900</td>\n",
       "      <td>456</td>\n",
       "      <td>42377</td>\n",
       "      <td>Pass Block</td>\n",
       "      <td>LT</td>\n",
       "      <td>0.0</td>\n",
       "      <td>0.0</td>\n",
       "      <td>0.0</td>\n",
       "      <td>0.0</td>\n",
       "      <td>0.0</td>\n",
       "      <td>0.0</td>\n",
       "      <td>0.0</td>\n",
       "      <td>42403.0</td>\n",
       "      <td>PP</td>\n",
       "      <td>0.0</td>\n",
       "      <td>3</td>\n",
       "      <td>2021-09-10T00:39:33.900</td>\n",
       "      <td>76.0</td>\n",
       "      <td>TB</td>\n",
       "      <td>right</td>\n",
       "      <td>29.24</td>\n",
       "      <td>30.27</td>\n",
       "      <td>0.03</td>\n",
       "      <td>0.42</td>\n",
       "      <td>0.00</td>\n",
       "      <td>94.94</td>\n",
       "      <td>233.38</td>\n",
       "      <td>None</td>\n",
       "      <td>6-6</td>\n",
       "      <td>338</td>\n",
       "      <td>1993-06-23</td>\n",
       "      <td>Penn State</td>\n",
       "      <td>T</td>\n",
       "      <td>Donovan Smith</td>\n",
       "      <td>25.93</td>\n",
       "      <td>27.34</td>\n",
       "      <td>0.0</td>\n",
       "      <td>0.0</td>\n",
       "      <td>0.0</td>\n",
       "      <td>125.16</td>\n",
       "      <td>78.43</td>\n",
       "      <td>4.420520</td>\n",
       "      <td>51.918723</td>\n",
       "      <td>NaN</td>\n",
       "      <td>42377.0</td>\n",
       "      <td>False</td>\n",
       "    </tr>\n",
       "    <tr>\n",
       "      <th>2228</th>\n",
       "      <td>2228</td>\n",
       "      <td>2021090900</td>\n",
       "      <td>456</td>\n",
       "      <td>42377</td>\n",
       "      <td>Pass Block</td>\n",
       "      <td>LT</td>\n",
       "      <td>0.0</td>\n",
       "      <td>0.0</td>\n",
       "      <td>0.0</td>\n",
       "      <td>0.0</td>\n",
       "      <td>0.0</td>\n",
       "      <td>0.0</td>\n",
       "      <td>0.0</td>\n",
       "      <td>42403.0</td>\n",
       "      <td>PP</td>\n",
       "      <td>0.0</td>\n",
       "      <td>4</td>\n",
       "      <td>2021-09-10T00:39:34.000</td>\n",
       "      <td>76.0</td>\n",
       "      <td>TB</td>\n",
       "      <td>right</td>\n",
       "      <td>29.24</td>\n",
       "      <td>30.27</td>\n",
       "      <td>0.11</td>\n",
       "      <td>0.81</td>\n",
       "      <td>0.01</td>\n",
       "      <td>94.94</td>\n",
       "      <td>256.82</td>\n",
       "      <td>None</td>\n",
       "      <td>6-6</td>\n",
       "      <td>338</td>\n",
       "      <td>1993-06-23</td>\n",
       "      <td>Penn State</td>\n",
       "      <td>T</td>\n",
       "      <td>Donovan Smith</td>\n",
       "      <td>25.93</td>\n",
       "      <td>27.34</td>\n",
       "      <td>0.0</td>\n",
       "      <td>0.0</td>\n",
       "      <td>0.0</td>\n",
       "      <td>125.16</td>\n",
       "      <td>75.17</td>\n",
       "      <td>4.420520</td>\n",
       "      <td>51.918723</td>\n",
       "      <td>NaN</td>\n",
       "      <td>42377.0</td>\n",
       "      <td>False</td>\n",
       "    </tr>\n",
       "    <tr>\n",
       "      <th>2250</th>\n",
       "      <td>2250</td>\n",
       "      <td>2021090900</td>\n",
       "      <td>456</td>\n",
       "      <td>42377</td>\n",
       "      <td>Pass Block</td>\n",
       "      <td>LT</td>\n",
       "      <td>0.0</td>\n",
       "      <td>0.0</td>\n",
       "      <td>0.0</td>\n",
       "      <td>0.0</td>\n",
       "      <td>0.0</td>\n",
       "      <td>0.0</td>\n",
       "      <td>0.0</td>\n",
       "      <td>42403.0</td>\n",
       "      <td>PP</td>\n",
       "      <td>0.0</td>\n",
       "      <td>5</td>\n",
       "      <td>2021-09-10T00:39:34.100</td>\n",
       "      <td>76.0</td>\n",
       "      <td>TB</td>\n",
       "      <td>right</td>\n",
       "      <td>29.21</td>\n",
       "      <td>30.28</td>\n",
       "      <td>0.31</td>\n",
       "      <td>1.29</td>\n",
       "      <td>0.03</td>\n",
       "      <td>92.67</td>\n",
       "      <td>274.83</td>\n",
       "      <td>None</td>\n",
       "      <td>6-6</td>\n",
       "      <td>338</td>\n",
       "      <td>1993-06-23</td>\n",
       "      <td>Penn State</td>\n",
       "      <td>T</td>\n",
       "      <td>Donovan Smith</td>\n",
       "      <td>25.92</td>\n",
       "      <td>27.34</td>\n",
       "      <td>0.0</td>\n",
       "      <td>0.0</td>\n",
       "      <td>0.0</td>\n",
       "      <td>125.16</td>\n",
       "      <td>70.88</td>\n",
       "      <td>4.412222</td>\n",
       "      <td>51.390837</td>\n",
       "      <td>NaN</td>\n",
       "      <td>42377.0</td>\n",
       "      <td>False</td>\n",
       "    </tr>\n",
       "  </tbody>\n",
       "</table>\n",
       "</div>"
      ],
      "text/plain": [
       "      Unnamed: 0      gameId  playId  nflId    pff_role pff_positionLinedUp  \\\n",
       "2162        2162  2021090900     456  42377  Pass Block                  LT   \n",
       "2184        2184  2021090900     456  42377  Pass Block                  LT   \n",
       "2206        2206  2021090900     456  42377  Pass Block                  LT   \n",
       "2228        2228  2021090900     456  42377  Pass Block                  LT   \n",
       "2250        2250  2021090900     456  42377  Pass Block                  LT   \n",
       "\n",
       "      pff_hit  pff_hurry  pff_sack  pff_beatenByDefender  pff_hitAllowed  \\\n",
       "2162      0.0        0.0       0.0                   0.0             0.0   \n",
       "2184      0.0        0.0       0.0                   0.0             0.0   \n",
       "2206      0.0        0.0       0.0                   0.0             0.0   \n",
       "2228      0.0        0.0       0.0                   0.0             0.0   \n",
       "2250      0.0        0.0       0.0                   0.0             0.0   \n",
       "\n",
       "      pff_hurryAllowed  pff_sackAllowed  pff_nflIdBlockedPlayer pff_blockType  \\\n",
       "2162               0.0              0.0                 42403.0            PP   \n",
       "2184               0.0              0.0                 42403.0            PP   \n",
       "2206               0.0              0.0                 42403.0            PP   \n",
       "2228               0.0              0.0                 42403.0            PP   \n",
       "2250               0.0              0.0                 42403.0            PP   \n",
       "\n",
       "      pff_backFieldBlock  frameId                     time  jerseyNumber team  \\\n",
       "2162                 0.0        1  2021-09-10T00:39:33.700          76.0   TB   \n",
       "2184                 0.0        2  2021-09-10T00:39:33.800          76.0   TB   \n",
       "2206                 0.0        3  2021-09-10T00:39:33.900          76.0   TB   \n",
       "2228                 0.0        4  2021-09-10T00:39:34.000          76.0   TB   \n",
       "2250                 0.0        5  2021-09-10T00:39:34.100          76.0   TB   \n",
       "\n",
       "     playDirection      x      y     s     a   dis      o     dir event  \\\n",
       "2162         right  29.25  30.28  0.00  0.00  0.00  95.67  287.72  None   \n",
       "2184         right  29.25  30.27  0.00  0.00  0.00  95.67  271.26  None   \n",
       "2206         right  29.24  30.27  0.03  0.42  0.00  94.94  233.38  None   \n",
       "2228         right  29.24  30.27  0.11  0.81  0.01  94.94  256.82  None   \n",
       "2250         right  29.21  30.28  0.31  1.29  0.03  92.67  274.83  None   \n",
       "\n",
       "     height  weight   birthDate collegeName officialPosition    displayName  \\\n",
       "2162    6-6     338  1993-06-23  Penn State                T  Donovan Smith   \n",
       "2184    6-6     338  1993-06-23  Penn State                T  Donovan Smith   \n",
       "2206    6-6     338  1993-06-23  Penn State                T  Donovan Smith   \n",
       "2228    6-6     338  1993-06-23  Penn State                T  Donovan Smith   \n",
       "2250    6-6     338  1993-06-23  Penn State                T  Donovan Smith   \n",
       "\n",
       "       x_qb   y_qb  s_qb  a_qb  dis_qb    o_qb  dir_qb  dist_from_qb  \\\n",
       "2162  25.92  27.34   0.0   0.0     0.0  120.91   73.87      4.442128   \n",
       "2184  25.93  27.34   0.0   0.0     0.0  123.74   76.76      4.428013   \n",
       "2206  25.93  27.34   0.0   0.0     0.0  125.16   78.43      4.420520   \n",
       "2228  25.93  27.34   0.0   0.0     0.0  125.16   75.17      4.420520   \n",
       "2250  25.92  27.34   0.0   0.0     0.0  125.16   70.88      4.412222   \n",
       "\n",
       "      angle_to_qb  angle_to_qb_diff_o  nflId_blocker rusher_in_imm_box  \n",
       "2162    52.064220                 NaN        42377.0             False  \n",
       "2184    52.086423                 NaN        42377.0             False  \n",
       "2206    51.918723                 NaN        42377.0             False  \n",
       "2228    51.918723                 NaN        42377.0             False  \n",
       "2250    51.390837                 NaN        42377.0             False  "
      ]
     },
     "execution_count": 14,
     "metadata": {},
     "output_type": "execute_result"
    }
   ],
   "source": [
    "#Print Out All Frames From A Player and Play\n",
    "ptrack.loc[(ptrack['gameId'] == gameId) & (ptrack['nflId'] == 42377) & (ptrack['playId'] == playId)].sort_values(by = 'frameId', ascending = True).head(100)\n",
    "\n",
    "#Print Out All Frames From Selected Game\n",
    "#ptrack_sample = ptrack.loc[(ptrack['gameId'] == gameId)]\n",
    "\n",
    "#Print Out All Plays From Selected Game\n",
    "#ptrack.loc[(ptrack.gameId == gameId) & (ptrack.playDirection == 'right')]['playId'].sort_values().unique()\n",
    "\n",
    "#Print Out All pbp Data From Selected Play\n",
    "#pbp[(pbp['gameId'] == gameId) & (pbp['playId'] == playId)]\n",
    "\n",
    "#Print Out All pffScout Data From Selected Play\n",
    "#pffScout.loc[(pffScout['gameId'] == gameId) & (pffScout['playId'] == playId)]"
   ]
  },
  {
   "attachments": {},
   "cell_type": "markdown",
   "metadata": {},
   "source": [
    "<font size=\"5\">Explore Effect Of Block Types On Hurry Rate</font>"
   ]
  },
  {
   "cell_type": "code",
   "execution_count": null,
   "metadata": {},
   "outputs": [],
   "source": [
    "#For Each Block Type, Find The Success Rate of A Defesnvie Player Creating A Pressure\n",
    "\n",
    "# #How We Found Positions\n",
    "# #pffScout.pff_positionLinedUp.sort_values().unique()\n",
    "\n",
    "# #Create A New Data Frame Only With 9 D-Linemen Positons\n",
    "# ptrackl = ptrack.loc[(ptrack['pff_positionLinedUp'] == \"LOLB\") | (ptrack['pff_positionLinedUp'] == \"ROLB\") | (ptrack['pff_positionLinedUp'] == \"LEO\") |\n",
    "#     (ptrack['pff_positionLinedUp'] == \"REO\") | (ptrack['pff_positionLinedUp'] == \"DLT\") | (ptrack['pff_positionLinedUp'] == \"DRT\") |\n",
    "#     (ptrack['pff_positionLinedUp'] == \"NLT\") | (ptrack['pff_positionLinedUp'] == \"NRT\") | (ptrack['pff_positionLinedUp'] == \"NT\")]\n",
    "\n",
    "# #Must First Change The pff_blockType in ptrack To A String (Data Did Not Group By Properly When An Int)\n",
    "# ptrackl.pff_blockType = ptrack.pff_blockType.astype(\"str\")\n",
    "\n",
    "# #For Each Block Type, Find The Percentage of Time A Hury Occurs\n",
    "# ptrackl.groupby('pff_blockType')['pff_hurry'].count() #Ideally Would Be .average() Instead\n",
    "\n",
    "# #Frequency of Different Type of Blocks Performed (EDA)\n",
    "# #ptrack.pff_blockType.value_counts()\n",
    "\n",
    "# #Issue Is Only The Players Issuing The Block (Offensive Players) Are Assigned A Block Type\n",
    "# #However, The Defensive Players They Blocked Are Noted In The pff_nflIdBlockedPlayer Column In ptrack"
   ]
  },
  {
   "cell_type": "code",
   "execution_count": null,
   "metadata": {},
   "outputs": [],
   "source": [
    "# #Create A Data Frame Containing Only Plays Where A Pass Block Occured (One Row Per Block)\n",
    "# ptrack_blocks = ptrack.loc[ptrack['pff_blockType'] != '0'][['gameId', 'playId', 'nflId', 'pff_nflIdBlockedPlayer', 'pff_blockType', 'pff_hurryAllowed']]\n",
    "\n",
    "# #Reduce To Each Play (One Row Per Interaction Between Blocked Player And Blocker) (First Interation of A Defensive Player Being Blocked In Play)\n",
    "# ptrack_blocks = ptrack_blocks.drop_duplicates() \n",
    "\n",
    "# #Sampler of The ptrack_blocks Data Frame\n",
    "# ptrack_blocks.sort_values('gameId', ascending = False).head(5)\n",
    "\n",
    "# #Show How Often Each Block Type Resulted In A Hurry\n",
    "# ptrack_block_hurry = pd.DataFrame(ptrack_blocks.groupby('pff_blockType')['pff_hurryAllowed'].mean().round(4).sort_values(ascending = False))\n",
    "# ptrack_block_hurry"
   ]
  },
  {
   "cell_type": "code",
   "execution_count": null,
   "metadata": {},
   "outputs": [],
   "source": [
    "# #Can Each Offensive Player Only Get One Block Per Play (I'd Assume Not, But Lets Check) (Yes They Do!)\n",
    "# ptrack_blocks_per_play = pd.DataFrame(ptrack_blocks.groupby(['gameId', 'playId', 'nflId'])['pff_blockType'].count())\n",
    "# ptrack_blocks_per_play = ptrack_blocks_per_play.reset_index()\n",
    "\n",
    "# ptrack_blocks_per_play[ptrack_blocks_per_play['pff_blockType'] != 1].head() #No Rows Appear\n",
    "# #Yes! Each Offensive Player Only Gets One Block Per Play!"
   ]
  },
  {
   "attachments": {},
   "cell_type": "markdown",
   "metadata": {
    "tags": []
   },
   "source": [
    "<font size=\"5\"> Explore  Distance From Quarterback At Each Second </font>\n",
    "\n",
    "Each D-Line Position and Each Second Post Snap"
   ]
  },
  {
   "cell_type": "code",
   "execution_count": null,
   "metadata": {},
   "outputs": [],
   "source": [
    "#Create Role-Specific Data Frames\n",
    "ptrack_prush = ptrack[ptrack.pff_role == \"Pass Rush\"]\n",
    "ptrack_pblock = ptrack[ptrack.pff_role == \"Pass Block\"]\n",
    "\n",
    "#Descriptive Stats On Frames In Plays\n",
    "pd.DataFrame(ptrack.groupby(['gameId', 'playId'])['frameId'].max()).mean()\n",
    "\n",
    "#Available Roles On The Field\n",
    "ptrack.pff_role.value_counts()\n",
    "\n",
    "#Top 8 Most Popular Pass Rush Positions\n",
    "ptrack_prush.pff_positionLinedUp.value_counts().reset_index().head(8)"
   ]
  },
  {
   "cell_type": "code",
   "execution_count": null,
   "metadata": {},
   "outputs": [],
   "source": [
    "#Display Scatter Plot\n",
    "ptrack_prush_drt_dist_from_qb = ptrack_prush[ptrack_prush['pff_positionLinedUp'] == 'RE'].groupby('frameId')['dist_from_qb'].mean().reset_index()\n",
    "plt.scatter(x = ptrack_prush_drt_dist_from_qb.frameId, y = ptrack_prush_drt_dist_from_qb.dist_from_qb, marker = \"8\")\n",
    "plt.title(\"Average Distance From The Quarterback As Time Progresses (RE)\")\n",
    "plt.xlabel(\"Frames (10 Frames = 1 Second Post-Snap)\")\n",
    "plt.ylabel(\"Euclidead Distance From Quarterback\")"
   ]
  },
  {
   "attachments": {},
   "cell_type": "markdown",
   "metadata": {
    "tags": []
   },
   "source": [
    "<font size=\"5\"> Explore Angle of Offensive Linemen Relative To Direction of Pass Rusher During Contact </font>"
   ]
  },
  {
   "cell_type": "code",
   "execution_count": null,
   "metadata": {},
   "outputs": [],
   "source": [
    "#While Engaged In The Immediate Zone, How Do Shoulder Angles Change?"
   ]
  },
  {
   "attachments": {},
   "cell_type": "markdown",
   "metadata": {},
   "source": [
    "<font size=\"5\"> Define The \"Immediate Zone\" Depth For Pass Blockers </font>"
   ]
  },
  {
   "cell_type": "code",
   "execution_count": null,
   "metadata": {},
   "outputs": [],
   "source": [
    "#Gather Data And Fields Relevant To Answering The Question\n",
    "\n",
    "#Crate Data Frame With Only Pass Blocking Plays\n",
    "ptrack_block = ptrack.loc[ptrack['pff_blockType'] != '0']\n",
    "\n",
    "#Find Rows With Players Who Were Blocked Against (And Who Have The Role of Pass Rusher)\n",
    "ptrack_block_rushers = ptrack.loc[(ptrack.nflId.isin(ptrack_block.pff_nflIdBlockedPlayer)) & (ptrack.pff_role == \"Pass Rush\")]\n",
    "ptrack_block_rushers = ptrack_block_rushers[['gameId', 'playId', 'nflId', 'frameId', 'pff_role', 'pff_positionLinedUp', 'x', 'y', 's', 'a', 'dis', 'o', 'dir', 'displayName']]\n",
    "\n",
    "#Merge Pass Blocking Plays Data From O-Linemen Perspecitve With Pass Rusher Tracking Data\n",
    "ptrack_imm_box = ptrack_block.merge(ptrack_block_rushers, left_on = ['gameId', 'playId', 'pff_nflIdBlockedPlayer', 'frameId'], \n",
    "                                                        right_on = ['gameId', 'playId', 'nflId', 'frameId'], how = 'inner')\n",
    "\n",
    "#Reduce To Columns Of Interest\n",
    "ptrack_imm_box = ptrack_imm_box[['gameId', 'playId', 'nflId_x', 'frameId', 'pff_role_x', 'pff_positionLinedUp_x', 'pff_blockType','x_x', 'y_x', 's_x', 'a_x', 'dis_x', 'o_x', 'dir_x', \n",
    "            'displayName_x','nflId_y', 'pff_role_y', 'pff_positionLinedUp_y', 'x_y', 'y_y', 's_y', 'a_y', 'dis_y', 'o_y', 'dir_y', 'displayName_y']]\n",
    "\n",
    "#Rename Columns\n",
    "ptrack_imm_box = ptrack_imm_box.rename(columns = {\"nflId_x\":\"nflId_blocker\", \"displayName_x\": \"displayName_blocker\", \"pff_role_x\": \"pff_role_blocker\", \n",
    "            \"pff_positionLinedUp_x\": \"pff_positionLinedUp_blocker\", \"x_x\": \"x_blocker\", \"y_x\": \"y_blocker\", \"s_x\": \"s_blocker\", \"a_x\": \"a_blocker\", \"dis_x\": \"dis_blocker\", \n",
    "            \"o_x\": \"o_blocker\", \"dir_x\": \"dir_blocker\", \"nflId_y\":\"nflId_rusher\", \"displayName_y\": \"displayName_rusher\", \"pff_role_y\": \"pff_role_rusher\", \n",
    "            \"pff_positionLinedUp_y\": \"pff_positionLinedUp_rusher\", \"x_y\": \"x_rusher\", \"y_y\": \"y_rusher\", \"s_y\": \"s_rusher\", \"a_y\": \"a_rusher\", \"dis_y\": \"dis_rusher\", \n",
    "            \"o_y\": \"o_rusher\", \"dir_y\": \"dir_rusher\"})\n",
    "\n",
    "#Calculate Distance Between Pass Blocker And Pass Rusher at Each Frame\n",
    "ptrack_imm_box['blocker_rusher_distance'] = np.hypot((ptrack_imm_box.y_blocker - ptrack_imm_box.y_rusher), (ptrack_imm_box.x_blocker - ptrack_imm_box.x_rusher))\n",
    "\n",
    "#Calculate Difference Between Rusher Direction and Blocker Orientation\n",
    "ptrack_imm_box['diff_btw_rusher_dir_blocker_o'] = abs((ptrack_imm_box.dir_rusher - 180) - ptrack_imm_box.o_blocker)"
   ]
  },
  {
   "cell_type": "code",
   "execution_count": null,
   "metadata": {},
   "outputs": [],
   "source": [
    "#How Far Away From A Blocker Does A Pass Rusher Slow Down or Deccelerate? (1 Yard In Front and 1.5 Yards Across (.75 Either Side))\n",
    "#Filter Down To Where Rusher Direction and Blocker Orientation Are Generally Matched (25 Degrees In Either Direction)\n",
    "ptrack_imm_box_10orless = ptrack_imm_box[ptrack_imm_box.diff_btw_rusher_dir_blocker_o < 10]\n",
    "\n",
    "#Speed\n",
    "#distance_and_speed = pd.DataFrame(ptrack_imm_box_10orless.groupby(round(ptrack_imm_box_10orless.blocker_rusher_distance,0))['s_rusher'].mean()).reset_index()\n",
    "#sns.scatterplot(distance_and_speed.blocker_rusher_distance, distance_and_speed.s_rusher)\n",
    "\n",
    "#Acceleration\n",
    "distance_and_acceleration = pd.DataFrame(ptrack_imm_box_10orless.groupby(round(ptrack_imm_box_10orless.blocker_rusher_distance,0))['a_rusher'].mean()).reset_index()\n",
    "sns.scatterplot(distance_and_acceleration.blocker_rusher_distance, distance_and_acceleration.a_rusher)\n",
    "\n",
    "#Acceleration Hit Their Lowest Rates Within 1-2 Yards of The Pass Blocker!!"
   ]
  },
  {
   "attachments": {},
   "cell_type": "markdown",
   "metadata": {},
   "source": [
    "<font size=\"5\"> Explore The Immediate Zone At Each Frame For Pass Blockers </font>"
   ]
  },
  {
   "cell_type": "code",
   "execution_count": null,
   "metadata": {},
   "outputs": [],
   "source": [
    "#Create The Immediate Zone In The Main ptrack Data Frame \n",
    "\n",
    "#Define The Width And Depth Of This Zone\n",
    "imm_box_width = .75\n",
    "imm_box_depth = 1\n",
    "\n",
    "#bl = Bottom Left\n",
    "ptrack['bl_rz_x'] = ptrack.x - (imm_box_width * np.cos(np.radians(ptrack.o)))\n",
    "ptrack['bl_rz_y'] = ptrack.y + (imm_box_width * np.sin(np.radians(ptrack.o)))\n",
    "\n",
    "#br = Bottom Right\n",
    "ptrack['br_rz_x'] = ptrack.x + (imm_box_width * np.cos(np.radians(ptrack.o)))\n",
    "ptrack['br_rz_y'] = ptrack.y - (imm_box_width * np.sin(np.radians(ptrack.o)))\n",
    "\n",
    "#fl = Front Left\n",
    "ptrack['fl_rz_x'] = ptrack.bl_rz_x + (imm_box_depth * np.cos(np.radians(ptrack.o - 90)))\n",
    "ptrack['fl_rz_y'] = ptrack.bl_rz_y - (imm_box_depth * np.sin(np.radians(ptrack.o - 90)))\n",
    "\n",
    "#fr = Front Right\n",
    "ptrack['fr_rz_x'] = ptrack.br_rz_x + (imm_box_depth * np.cos(np.radians(ptrack.o - 90)))\n",
    "ptrack['fr_rz_y'] = ptrack.br_rz_y - (imm_box_depth * np.sin(np.radians(ptrack.o - 90)))\n"
   ]
  },
  {
   "cell_type": "code",
   "execution_count": null,
   "metadata": {},
   "outputs": [],
   "source": [
    "#Plot Instances of Rushers In A Blocker's Immediate Zone\n",
    "\n",
    "#Provide Orientation Angle (Whole Number)\n",
    "o_angle = 50\n",
    "\n",
    "#In Order To Test If The Above Calculations Are Correct, First Find Plays With A Known Orientation Angle (Choose One)\n",
    "ptrack_o_filter = ptrack.loc[(ptrack.gameId == 2021090900) & (round(ptrack.o,0) == o_angle)].head(1).reset_index()\n",
    "\n",
    "#Use The Player, Play, and Frame To Create A Scatter Plot With The Immediate Zone\n",
    "ptrack_filter = ptrack.loc[(ptrack.gameId == ptrack_o_filter.at[0, 'gameId']) & (ptrack.playId == ptrack_o_filter.at[0, 'playId']) & (ptrack.nflId == ptrack_o_filter.at[0, 'nflId']) & (ptrack.frameId == ptrack_o_filter.at[0, 'frameId'])].reset_index()\n",
    "\n",
    "#Plot The Immediate Zone On A Play\n",
    "sns.scatterplot(data = ptrack_filter, x = 'bl_rz_x', y = 'bl_rz_y', marker = '^', s = 200)\n",
    "sns.scatterplot(data = ptrack_filter, x = 'br_rz_x', y = 'br_rz_y', marker = '^', s = 200)\n",
    "sns.scatterplot(data = ptrack_filter, x = 'fl_rz_x', y = 'fl_rz_y', marker = 'v', s = 200)\n",
    "sns.scatterplot(data = ptrack_filter, x = 'fr_rz_x', y = 'fr_rz_y', marker = 'v', s = 200)\n",
    "sns.scatterplot(x = ptrack_filter.x, y = ptrack_filter.y, marker = 'o', s = 100)\n",
    "plt.scatter(x = 41.5, y = 21.75, s = 100, marker = 'X')\n",
    "print(\"Provided Player Orientation In Degrees (Second Number): \", ptrack_filter['o'])"
   ]
  },
  {
   "attachments": {},
   "cell_type": "markdown",
   "metadata": {},
   "source": [
    "<font size=\"5\"> Understand The Immediate Zone On Plays Where Blocks Are Known To Occur </font>"
   ]
  },
  {
   "cell_type": "code",
   "execution_count": null,
   "metadata": {},
   "outputs": [],
   "source": [
    "ptrack.loc[(ptrack.pff_blockType != 0) & (ptrack.pff_role == \"Pass Rush\")].rusher_in_imm_box.value_count()"
   ]
  },
  {
   "attachments": {},
   "cell_type": "markdown",
   "metadata": {},
   "source": [
    "<font size=\"5\"> Explore Events Classifications (Understand Beginning and End Of QB Possession) </font>\n",
    "\n",
    "Starting at: ball_snap\n",
    "\n",
    "Ending At: qb_sack, pass_forward, run, \n",
    "\n",
    "Bookmarked: first_contact, "
   ]
  },
  {
   "cell_type": "code",
   "execution_count": null,
   "metadata": {},
   "outputs": [],
   "source": [
    "#Determine Which Events Are The End Of QB Possession\n",
    "ptrack.event.value_counts()"
   ]
  },
  {
   "cell_type": "code",
   "execution_count": null,
   "metadata": {},
   "outputs": [],
   "source": [
    "#Use Event Classification To Find Play Information In pbp Data\n",
    "ptrack_fc = ptrack[ptrack.event == 'first_contact']\n",
    "pbp_fc = pbp.merge(ptrack_fc, how = 'inner', on = ['gameId', 'playId'])\n",
    "pbp_fc.drop_duplicates(['gameId', 'playId'])\n",
    "\n",
    "#Additional Searches\n",
    "# ptrack.loc[(ptrack.gameId == 2021091204) & (ptrack.playId == 1979) & (ptrack.pff_positionLinedUp == 'QB')] "
   ]
  },
  {
   "attachments": {},
   "cell_type": "markdown",
   "metadata": {},
   "source": [
    "<font size=\"5\"> Explore Drop Back Types </font>"
   ]
  },
  {
   "cell_type": "code",
   "execution_count": null,
   "metadata": {},
   "outputs": [],
   "source": [
    "#Frequency of Drop Backs Types\n",
    "pbp.dropBackType.value_counts()"
   ]
  },
  {
   "cell_type": "code",
   "execution_count": null,
   "metadata": {},
   "outputs": [],
   "source": [
    "#How Is Drop Back Type Influenced By Other Factors\n",
    "pbp.groupby('dropBackType')['defendersInBox'].mean().sort_values()"
   ]
  }
 ],
 "metadata": {
  "kernelspec": {
   "display_name": "Python 3.10.8 64-bit (microsoft store)",
   "language": "python",
   "name": "python3"
  },
  "language_info": {
   "codemirror_mode": {
    "name": "ipython",
    "version": 3
   },
   "file_extension": ".py",
   "mimetype": "text/x-python",
   "name": "python",
   "nbconvert_exporter": "python",
   "pygments_lexer": "ipython3",
   "version": "3.10.9"
  },
  "orig_nbformat": 4,
  "vscode": {
   "interpreter": {
    "hash": "0734c24ccee641e8c1aa56e5abe0e6d58c5e64b0808290a0db05a6d9678c0817"
   }
  }
 },
 "nbformat": 4,
 "nbformat_minor": 2
}
