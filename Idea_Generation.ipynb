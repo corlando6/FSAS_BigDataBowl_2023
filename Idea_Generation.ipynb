{
 "cells": [
  {
   "attachments": {},
   "cell_type": "markdown",
   "metadata": {},
   "source": [
    "<font size = \"6\"> Fordham Sports Analytics Society Big Data Bowl 2023 - Idea Generation </font>\n",
    "\n",
    "<font size = \"4\"> Organize all thoughts related to the case and keep separate from rest of code. </font>\n",
    "\n",
    "- Authors:  Peter Majors, Chris Orlando, and Jack Townsend\n",
    "- Kaggle:  https://www.kaggle.com/competitions/nfl-big-data-bowl-2023/overview (Resources)\n",
    "- Our Github:  https://github.com/peterlmajors/FSAS_Big_Data_Bowl_2023 (Up-To-Date Code)"
   ]
  },
  {
   "cell_type": "markdown",
   "metadata": {},
   "source": [
    "<font size=\"5\">Available Data Frames</font>\n",
    "\n",
    "- pbp = standard play-by-play data\n",
    "- ptrack = tracking data on each player each game with pff grades"
   ]
  },
  {
   "attachments": {},
   "cell_type": "markdown",
   "metadata": {},
   "source": [
    "<font size=\"5\"> Research Ideas </font>\n",
    "\n",
    "(1) Understand The Impact Of Post-Impact Movements For Defensive Linemen (Assuming Pre-Impact Movements Are To The Quarterback)\n",
    "\n",
    "    - Determine Impact By Being Within A Few Feet Of Defender and Slowed Momentum at Each Frame\n",
    "\n",
    "    - Pass Rusher To The Quarterback:\n",
    "        - Direction of Shoulders\n",
    "        - Speed Post-Impact\n",
    "        - Distance From QB Each Second Post Snap\n",
    "        - Angle of Movement Relative To QB\n",
    "\n",
    "    - Using these, we can create a binary classifiers for:\n",
    "        - pressures\n",
    "        - % of time getting a throw to intended reciever\n",
    "        - completion percentage\n",
    "\n",
    "    - Each position is going to care about shoulder direction, speed post-impact, etc. differently.\n",
    "        - Do we create models that acount for this?\n",
    "\n",
    "    - Grade The Ability For Offensive Linemen To Keep Opposing Linemen From Quarterback\n",
    "        - Factoring Double Teams, Distances From Players When QB Gets Ball, And When QB Scrambles\n",
    "        - Factor The Number of People In The Box From Either Side \n",
    "\n",
    "(2) Determine Defensive Linemen Progress In Reaching Quarterback Before Pass, Fumble, Sack, Scramble etc.\n",
    "\n",
    "        - Measured as a Percentage of Distance Traveled Between Pass Rusher And Quarterback From Maximum Distance to End of Play\n",
    "        - Double Teams and Difference Pass Blocking Schemes Must Be Considered\n"
   ]
  },
  {
   "attachments": {},
   "cell_type": "markdown",
   "metadata": {},
   "source": [
    "<font size=\"5\">Additional Notes</font>\n",
    "\n",
    "What Is The Ultimate Goal On Passing Plays?\n",
    "- Factoring In Expected Points For Each Down/Distance/Time/Etc.\n",
    "\n",
    "How Can We Effectively Evaluate A Passing Play? There's So Much Randomness That Takes Place After Release\n",
    "- We Shouldn't Be Measuring Quarterback Ability Or Reciever Ability"
   ]
  }
 ],
 "metadata": {
  "kernelspec": {
   "display_name": "Python 3",
   "language": "python",
   "name": "python3"
  },
  "language_info": {
   "codemirror_mode": {
    "name": "ipython",
    "version": 3
   },
   "file_extension": ".py",
   "mimetype": "text/x-python",
   "name": "python",
   "nbconvert_exporter": "python",
   "pygments_lexer": "ipython3",
   "version": "3.10.9 (tags/v3.10.9:1dd9be6, Dec  6 2022, 20:01:21) [MSC v.1934 64 bit (AMD64)]"
  },
  "orig_nbformat": 4,
  "vscode": {
   "interpreter": {
    "hash": "0734c24ccee641e8c1aa56e5abe0e6d58c5e64b0808290a0db05a6d9678c0817"
   }
  }
 },
 "nbformat": 4,
 "nbformat_minor": 2
}
